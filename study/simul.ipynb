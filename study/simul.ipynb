{
 "cells": [
  {
   "cell_type": "code",
   "execution_count": 7,
   "metadata": {},
   "outputs": [
    {
     "ename": "ValueError",
     "evalue": "not enough values to unpack (expected 2, got 0)",
     "output_type": "error",
     "traceback": [
      "\u001b[1;31m---------------------------------------------------------------------------\u001b[0m",
      "\u001b[1;31mValueError\u001b[0m                                Traceback (most recent call last)",
      "Cell \u001b[1;32mIn[7], line 4\u001b[0m\n\u001b[0;32m      1\u001b[0m \u001b[39m# 13300\u001b[39;00m\n\u001b[0;32m      2\u001b[0m \u001b[39mfrom\u001b[39;00m \u001b[39mmath\u001b[39;00m \u001b[39mimport\u001b[39;00m ceil\n\u001b[1;32m----> 4\u001b[0m n, k \u001b[39m=\u001b[39m \u001b[39mmap\u001b[39m(\u001b[39mint\u001b[39m, \u001b[39minput\u001b[39m()\u001b[39m.\u001b[39msplit())\n\u001b[0;32m      5\u001b[0m lst \u001b[39m=\u001b[39m [[\u001b[39m0\u001b[39m]\u001b[39m*\u001b[39m\u001b[39m6\u001b[39m \u001b[39mfor\u001b[39;00m i \u001b[39min\u001b[39;00m \u001b[39mrange\u001b[39m(\u001b[39m2\u001b[39m)]\n\u001b[0;32m      7\u001b[0m \u001b[39mfor\u001b[39;00m i \u001b[39min\u001b[39;00m \u001b[39mrange\u001b[39m(n):\n",
      "\u001b[1;31mValueError\u001b[0m: not enough values to unpack (expected 2, got 0)"
     ]
    }
   ],
   "source": [
    "# 13300\n",
    "# import sys\n",
    "# input = sys.stdin.readline\n",
    "\n",
    "from math import ceil\n",
    "\n",
    "n, k = map(int, input().split())\n",
    "lst = [[0]*6 for i in range(2)]\n",
    "\n",
    "for i in range(n):\n",
    "    a, b = map(int, input().split())\n",
    "    b -= 1\n",
    "    lst[a][b] += 1\n",
    "\n",
    "s = 0\n",
    "\n",
    "for i in lst:\n",
    "    for j in i:\n",
    "        s += ceil(j / k)\n",
    "\n",
    "print(s)"
   ]
  },
  {
   "cell_type": "code",
   "execution_count": 9,
   "metadata": {},
   "outputs": [
    {
     "name": "stdout",
     "output_type": "stream",
     "text": [
      "[4, 2, 5, 3, 1]\n"
     ]
    }
   ],
   "source": [
    "# import sys\n",
    "# input = sys.stdin.readline\n",
    "\n",
    "# 2605\n",
    "n = int(input())\n",
    "lst = list(map(int, input().split()))\n",
    "res = [1]\n",
    "\n",
    "for i in range(1, len(lst)):\n",
    "    temp = len(res) - lst[i]\n",
    "    res.insert(temp, i + 1)\n",
    "\n",
    "print(*res)"
   ]
  },
  {
   "cell_type": "code",
   "execution_count": null,
   "metadata": {},
   "outputs": [],
   "source": [
    "# import sys\n",
    "# input = sys.stdin.readline\n",
    "\n",
    "# 2669\n",
    "lst = [[0]*101 for i in range(101)]\n",
    "\n",
    "for i in range(4):\n",
    "    a, b, c, d = map(int, input().split())\n",
    "    \n",
    "    for j in range(a + 1, c + 1):\n",
    "        for k in range(b + 1, d + 1):\n",
    "            lst[j][k] = 1\n",
    "\n",
    "lst2 = sum(lst, [])\n",
    "res = sum(lst2)\n",
    "\n",
    "print(res)\n",
    "\n"
   ]
  },
  {
   "cell_type": "code",
   "execution_count": 15,
   "metadata": {},
   "outputs": [
    {
     "name": "stdout",
     "output_type": "stream",
     "text": [
      "8\n",
      "100 62 38 24 14 10 4 6\n"
     ]
    }
   ],
   "source": [
    "# import sys\n",
    "# input = sys.stdin.readline\n",
    "\n",
    "# 9104\n",
    "def fib(n):\n",
    "    if (n == 0 or n == 1):\n",
    "        return 1\n",
    "    \n",
    "    a, b = 1, 1\n",
    "    for i in range(n):\n",
    "        a, b = b, a + b\n",
    "    \n",
    "    return a\n",
    "\n",
    "def ftn1(a0, a1, n):\n",
    "    if (n == 1):\n",
    "        return a0\n",
    "    if (n == 2):\n",
    "        return a1\n",
    "    \n",
    "    if (n % 2 == 1):\n",
    "        sign = [1, -1]\n",
    "    else:\n",
    "        sign = [-1, 1]\n",
    "\n",
    "    res = sign[0] * fib(n - 3) * a0 + sign[1] * fib(n - 2) * a1\n",
    "\n",
    "    return res\n",
    "\n",
    "\n",
    "a = int(input())\n",
    "n = 0\n",
    "lst = None\n",
    "\n",
    "for i in range(0, a + 1):\n",
    "    temp = [a, i]\n",
    "    k = 3\n",
    "\n",
    "    while (ftn1(a, i, k) >= 0):\n",
    "        temp.append(ftn1(a, i, k))\n",
    "        k += 1\n",
    "    \n",
    "    if (n < k - 1):\n",
    "        n = k - 1\n",
    "        lst = temp\n",
    "\n",
    "\n",
    "print(n)\n",
    "print(*lst)"
   ]
  },
  {
   "cell_type": "code",
   "execution_count": 2,
   "metadata": {},
   "outputs": [
    {
     "name": "stdout",
     "output_type": "stream",
     "text": [
      "1 0 0 0 1 1 0 1\n"
     ]
    }
   ],
   "source": [
    "# 1244\n",
    "\n",
    "# import sys\n",
    "# input = sys.stdin.readline\n",
    "\n",
    "def ftn(lst, r, a, b):\n",
    "    ret = lst[:]\n",
    "    \n",
    "    def cng(k):\n",
    "        return k * (-1) + 1\n",
    "    \n",
    "    bot, top = 1, r\n",
    "\n",
    "    if (a == 1):\n",
    "        for i in range(b, r + 1, b):\n",
    "            ret[i] = cng(ret[i])\n",
    "    \n",
    "    if (a == 2):\n",
    "        ret[b] = cng(ret[b])\n",
    "        left = b - 1\n",
    "        right = b + 1\n",
    "\n",
    "        while (left >= bot and right <= top):\n",
    "            if (ret[left] == ret[right]):\n",
    "                ret[left], ret[right] = cng(ret[left]), cng(ret[right])\n",
    "                left -= 1\n",
    "                right += 1\n",
    "            else:\n",
    "                break\n",
    "\n",
    "    return ret\n",
    "\n",
    "r = int(input())\n",
    "lst = list(map(int, input().split()))\n",
    "lst = [0] + lst\n",
    "n = int(input())\n",
    "\n",
    "for i in range(n):\n",
    "    a, b = map(int, input().split()) # 성별, 번호\n",
    "    lst = ftn(lst, r, a, b)\n",
    "\n",
    "lst = lst[1:]\n",
    "\n",
    "# 20개씩 출력하기\n",
    "k = 0\n",
    "while (k + 20 < r):\n",
    "    print(*lst[k:k + 20])\n",
    "    k += 20\n",
    "\n",
    "print(*lst[k:])"
   ]
  },
  {
   "cell_type": "code",
   "execution_count": 1,
   "metadata": {},
   "outputs": [
    {
     "name": "stdout",
     "output_type": "stream",
     "text": [
      "30\n"
     ]
    }
   ],
   "source": [
    "# import sys\n",
    "# sys.stdin = open(\"input.txt\", \"r\")\n",
    "\n",
    "# import sys\n",
    "# input = sys.stdin.readline\n",
    "\n",
    "# 2628\n",
    "\n",
    "col, row = map(int, input().split())\n",
    "n = int(input())\n",
    "rows = []\n",
    "cols = []\n",
    "\n",
    "for i in range(n):\n",
    "    a, b = map(int, input().split())\n",
    "    \n",
    "    if(a == 0):\n",
    "        rows += [b]\n",
    "    else:\n",
    "        cols += [b]\n",
    "\n",
    "rows += [row] # 1 1 1 2 2 2 3 3 3 같이 반복해야 한다.\n",
    "cols += [col] # 1 2 3 1 2 3 1 2 3 같이 반복해야 한다. 2중 반복문을 사용하면 쉽긴하다.\n",
    "rows = [0] + rows\n",
    "\n",
    "rows.sort()\n",
    "cols.sort()\n",
    "\n",
    "areas = []\n",
    "for i in range(1, len(rows)):\n",
    "    top = rows[i - 1]\n",
    "    left = 0 # 왼쪽 초기값\n",
    "    for j in range(len(cols)):\n",
    "        areas += [(rows[i] - top) * (cols[j] - left)] # 세로 * 가로\n",
    "        left = cols[j] # 갱신\n",
    "\n",
    "res = max(areas)\n",
    "print(res)\n"
   ]
  },
  {
   "cell_type": "code",
   "execution_count": null,
   "metadata": {},
   "outputs": [],
   "source": [
    "n = int(input())\n",
    "a = list(map(int, input().split()))\n"
   ]
  },
  {
   "cell_type": "code",
   "execution_count": null,
   "metadata": {},
   "outputs": [],
   "source": [
    "def dice(lst):\n",
    "    temp = [\n",
    "        [lst[0], lst[5]],\n",
    "        [lst[1], lst[3]],\n",
    "        [lst[2], lst[4]]\n",
    "        ]\n",
    "    \n",
    "    return temp\n",
    "\n",
    "def pos(idx, dice):\n",
    "    temp = dice[:]\n",
    "\n",
    "    for i in range(3):\n",
    "        for j in range(2):\n",
    "            idx == temp[i][j]\n",
    "            ret1 = temp[i][1 - j]\n",
    "            break\n",
    "    \n",
    "    del temp[i]\n",
    "    temp = temp(dice, [])\n",
    "\n",
    "    return (ret1, temp)\n",
    "\n",
    "trs = {0: 5, 1: 3, 2: 4, 3: 5, 4: 2, 5: 0}\n",
    "\n",
    "n = int(input())\n",
    "a = list(map(int, input().split()))\n",
    "dice_a = dice(a)\n",
    "\n",
    "for \n",
    "\n",
    "\n",
    "\n",
    "for i in range(n - 1):\n",
    "    lst = list(map(int, input().split()))\n",
    "    dice1 = dice(lst)\n"
   ]
  },
  {
   "cell_type": "code",
   "execution_count": null,
   "metadata": {},
   "outputs": [],
   "source": [
    "trs = {0: 5, 1: 3, 2: 4, 3: 5, 4: 2, 5: 0} # 반대편 원소를 지정하기 위한 것\n",
    "\n",
    "\n",
    "\n"
   ]
  }
 ],
 "metadata": {
  "kernelspec": {
   "display_name": "Python 3",
   "language": "python",
   "name": "python3"
  },
  "language_info": {
   "codemirror_mode": {
    "name": "ipython",
    "version": 3
   },
   "file_extension": ".py",
   "mimetype": "text/x-python",
   "name": "python",
   "nbconvert_exporter": "python",
   "pygments_lexer": "ipython3",
   "version": "3.9.13 (tags/v3.9.13:6de2ca5, May 17 2022, 16:36:42) [MSC v.1929 64 bit (AMD64)]"
  },
  "orig_nbformat": 4,
  "vscode": {
   "interpreter": {
    "hash": "c4b9ebf4ca459396e2ad1150752490c26670c1a037c08cad955a4425787bec2e"
   }
  }
 },
 "nbformat": 4,
 "nbformat_minor": 2
}
