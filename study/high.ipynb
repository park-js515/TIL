{
 "cells": [
  {
   "cell_type": "code",
   "execution_count": null,
   "metadata": {},
   "outputs": [],
   "source": [
    "# 3015 오아시스 재결합 (P5)\n",
    "\n",
    "from collections import deque\n",
    "stack = deque() # 같거나 작은 순서대로 정렬할 스택\n",
    "lst = deque() # 스택에 해당하는 값에서 앞에 해당하는 사람들과 마주볼 수 있는 횟수\n",
    "\n",
    "n = int(input())\n",
    "cnt = 0 # 총 횟수\n",
    "stack.append(int(input()))\n",
    "stack_size = 1\n",
    "lst.append(0) # 앞에서 사람이 없으므로 0\n",
    "\n",
    "for i in range(1, n):\n",
    "    temp = int(input())\n",
    "\n",
    "    while stack and stack[-1] < temp: # 들어올려는 숫자가 크다면 그냥 더하는 것이 아닌 갱신\n",
    "        stack.pop()\n",
    "        cnt += lst.pop() + 1 # 도중에 스택에서 제거하려면 lst 에 해당하는 값 + 다음 사람과 만날 횟수(1)를 cnt 에 추가해야만 한다.\n",
    "        stack_size -= 1\n",
    "\n",
    "    if stack_size > 0:\n",
    "        if stack[-1] > temp: # 들어가려는 수가 스택의 마지막보다 작다면 앞선 사람 1명과 만날 수 있다.\n",
    "            lst.append(1)\n",
    "        else:\n",
    "            lst.append(lst[-1] + 1) # 만약에 값이 같다면 앞선 사람에 해당하는 값 + 1 명과 만날 수 있다.\n",
    "    else:\n",
    "        lst.append(0) # 앞선 사람과 만날 수 없는 경우에는 0이다.\n",
    "\n",
    "    stack.append(temp)\n",
    "    stack_size += 1\n",
    "\n",
    "print(cnt + sum(lst)) # 최종적으로 계산된 값"
   ]
  }
 ],
 "metadata": {
  "language_info": {
   "name": "python"
  },
  "orig_nbformat": 4
 },
 "nbformat": 4,
 "nbformat_minor": 2
}
