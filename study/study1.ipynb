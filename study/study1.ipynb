{
 "cells": [
  {
   "cell_type": "code",
   "execution_count": null,
   "metadata": {},
   "outputs": [],
   "source": [
    "# 디버깅 예제\n",
    "# 배열의 주어진 범위의 합을 2로 나눈 몫을 구하세요.\n",
    "# 1. answer가 초기화되는 조건이 없다.\n",
    "# 2. 리스트 A의 range설정에 오류가 있다.\n",
    "# 3. 잘못된 변수인 testcase를 사용하여 몇 번째 출력인지 확인할 수 없다.\n",
    "# 4. 몫을 구하는 게 아닌 나눈 값을 계산하고 있다. (/ // 의 차이)\n",
    "\n",
    "import random\n",
    "\n",
    "testcase =int(input())\n",
    "answer = 0\n",
    "A = [0] * (100001)\n",
    "\n",
    "for i in range(0, 10001):\n",
    "    A[i] = random.randrange(1, 101)\n",
    "\n",
    "for t in range(1, testcase + 1):\n",
    "    start, end = map(int, input().split())\n",
    "\n",
    "    for i in range(start, end + 1):\n",
    "        answer = answer + A[i]\n",
    "    \n",
    "    print(str(testcase) + ' ' + str(answer/2))"
   ]
  },
  {
   "cell_type": "code",
   "execution_count": 8,
   "metadata": {},
   "outputs": [
    {
     "name": "stdout",
     "output_type": "stream",
     "text": [
      "1\n"
     ]
    }
   ],
   "source": [
    "# 문제 1\n",
    "# 1 번째 줄에 숫자의 개수 N(1 <= N < 100), 2번째 줄에 숫자 N개가 공백 없이 주어진다.\n",
    "repeat = int(input())\n",
    "num = input()\n",
    "ans = 0\n",
    "\n",
    "for i in range(repeat):\n",
    "    ans += int(num[i])\n",
    "\n",
    "print(ans)"
   ]
  },
  {
   "cell_type": "code",
   "execution_count": 27,
   "metadata": {},
   "outputs": [
    {
     "data": {
      "text/plain": [
       "40.0"
      ]
     },
     "execution_count": 27,
     "metadata": {},
     "output_type": "execute_result"
    }
   ],
   "source": [
    "# 2\n",
    "def score(args):\n",
    "    ma = max(args)\n",
    "    res1 = list(map(lambda x: x/ma * 100, args))\n",
    "    s = sum(res1)\n",
    "    lg = len(res1)\n",
    "\n",
    "    return s/lg\n",
    "\n",
    "repeat = int(input())\n",
    "print(score(list(map(int, input().split()))))"
   ]
  },
  {
   "cell_type": "code",
   "execution_count": 43,
   "metadata": {},
   "outputs": [
    {
     "name": "stdout",
     "output_type": "stream",
     "text": [
      "12\n"
     ]
    },
    {
     "ename": "ValueError",
     "evalue": "not enough values to unpack (expected 2, got 0)",
     "output_type": "error",
     "traceback": [
      "\u001b[1;31m---------------------------------------------------------------------------\u001b[0m",
      "\u001b[1;31mValueError\u001b[0m                                Traceback (most recent call last)",
      "Cell \u001b[1;32mIn[43], line 9\u001b[0m\n\u001b[0;32m      6\u001b[0m     s\u001b[39m.\u001b[39mappend(s[i \u001b[39m-\u001b[39m \u001b[39m1\u001b[39m] \u001b[39m+\u001b[39m lst[i \u001b[39m-\u001b[39m \u001b[39m1\u001b[39m])\n\u001b[0;32m      8\u001b[0m \u001b[39mfor\u001b[39;00m i \u001b[39min\u001b[39;00m \u001b[39mrange\u001b[39m(r):\n\u001b[1;32m----> 9\u001b[0m     a, b \u001b[39m=\u001b[39m \u001b[39mmap\u001b[39m(\u001b[39mint\u001b[39m, \u001b[39minput\u001b[39m()\u001b[39m.\u001b[39msplit())\n\u001b[0;32m     10\u001b[0m     res \u001b[39m=\u001b[39m s[b] \u001b[39m-\u001b[39m s[a \u001b[39m-\u001b[39m \u001b[39m1\u001b[39m]\n\u001b[0;32m     11\u001b[0m     \u001b[39mprint\u001b[39m(res)\n",
      "\u001b[1;31mValueError\u001b[0m: not enough values to unpack (expected 2, got 0)"
     ]
    }
   ],
   "source": [
    "# 3\n",
    "import sys\n",
    "input = sys.stdin.readline\n",
    "\n",
    "n, r = map(int, input().split())\n",
    "lst = list(map(int, input().split()))\n",
    "s = [0]\n",
    "\n",
    "for i in range(1, len(lst) + 1):\n",
    "    s.append(s[i - 1] + lst[i - 1])\n",
    "\n",
    "for i in range(r):\n",
    "    a, b = map(int, input().split())\n",
    "    res = s[b] - s[a - 1]\n",
    "    print(res)"
   ]
  },
  {
   "cell_type": "code",
   "execution_count": 3,
   "metadata": {},
   "outputs": [
    {
     "name": "stdout",
     "output_type": "stream",
     "text": [
      "27\n",
      "6\n",
      "64\n"
     ]
    }
   ],
   "source": [
    "# 4\n",
    "# import sys\n",
    "# input = sys.stdin.readline\n",
    "# 시간초과\n",
    "\n",
    "N, M = map(int, input().split())\n",
    "lst = [list(map(int, input().split())) for i in range(N)]\n",
    "s = [[0]*N for i in range(N)]\n",
    "\n",
    "for i in range(N):\n",
    "    temp = 0\n",
    "    for j in range(N):\n",
    "        temp += lst[i][j]\n",
    "        s[i][j] = temp\n",
    "\n",
    "for i in range(M):\n",
    "    res = 0\n",
    "    a, b, c, d = map(int, input().split())\n",
    "    a, b, c, d = a - 1, b - 1, c - 1, d - 1\n",
    "\n",
    "    for j in range(a, c + 1):\n",
    "        res += s[j][d]\n",
    "    \n",
    "    if (b != 0):\n",
    "        for j in range(a, c + 1):\n",
    "            res -= s[j][b - 1]\n",
    "    \n",
    "    print(res)\n"
   ]
  },
  {
   "cell_type": "code",
   "execution_count": 5,
   "metadata": {},
   "outputs": [
    {
     "name": "stdout",
     "output_type": "stream",
     "text": [
      "27\n",
      "6\n",
      "64\n"
     ]
    }
   ],
   "source": [
    "# 4\n",
    "# 각 지점까지의 합인 s를 만들고 큰 네모에서 직사각형 2번을 빼고, 한 겹치는 부분 하나를 빼서 완성한다.\n",
    "# import sys\n",
    "# input = sys.stdin.readline\n",
    "\n",
    "N, M = map(int, input().split())\n",
    "lst = [list(map(int, input().split())) for i in range(N)]\n",
    "s = [[0]*(N + 1) for i in range(N + 1)]\n",
    "\n",
    "for i in range(N):\n",
    "    temp = 0\n",
    "    for j in range(N):\n",
    "        temp += lst[i][j]\n",
    "        s[i + 1][j + 1] = s[i][j + 1] + temp\n",
    "\n",
    "for i in range(M):\n",
    "    a, b, c, d = map(int, input().split())\n",
    "    res = s[c][d] + s[a - 1][b - 1] - s[a - 1][d] - s[c][b - 1]\n",
    "    print(res)\n"
   ]
  }
 ],
 "metadata": {
  "kernelspec": {
   "display_name": "Python 3",
   "language": "python",
   "name": "python3"
  },
  "language_info": {
   "codemirror_mode": {
    "name": "ipython",
    "version": 3
   },
   "file_extension": ".py",
   "mimetype": "text/x-python",
   "name": "python",
   "nbconvert_exporter": "python",
   "pygments_lexer": "ipython3",
   "version": "3.9.13"
  },
  "orig_nbformat": 4,
  "vscode": {
   "interpreter": {
    "hash": "b989fbffd3ec1c6d6c91005b2fa329057dfdc84b6f95ed35016e1b272fccc8a0"
   }
  }
 },
 "nbformat": 4,
 "nbformat_minor": 2
}
