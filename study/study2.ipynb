{
 "cells": [
  {
   "attachments": {},
   "cell_type": "markdown",
   "metadata": {},
   "source": [
    "# Algoritm 51 ~ 100"
   ]
  },
  {
   "cell_type": "code",
   "execution_count": null,
   "metadata": {},
   "outputs": [],
   "source": [
    "# 51 1976 여행가자 (여행 계획 짜기)\n",
    "def find(a):\n",
    "    global grp\n",
    "\n",
    "    if grp[a] == a:\n",
    "        return a\n",
    "\n",
    "    grp[a] = find(grp[a])\n",
    "    return grp[a]\n",
    "\n",
    "def union(a, b):\n",
    "    global grp\n",
    "\n",
    "    x = find(a)\n",
    "    y = find(b)\n",
    "\n",
    "    if x == y:\n",
    "        return\n",
    "\n",
    "    grp[y] = x\n",
    "\n",
    "n = int(input())\n",
    "m = int(input())\n",
    "arr = [list(map(int, input().split())) for _ in range(n)]\n",
    "trs = list(map(int, input().split()))\n",
    "grp = list(range(n + 1))\n",
    "\n",
    "for i in range(n):\n",
    "    for j in range(n):\n",
    "        if i > j:\n",
    "            if arr[i][j]:\n",
    "                union(i + 1, j + 1)\n",
    "        else:\n",
    "            break\n",
    "\n",
    "G = find(trs[0])\n",
    "flag = True\n",
    "\n",
    "for i in range(1, m):\n",
    "    if G != find(trs[i]):\n",
    "        flag = False\n",
    "        break\n",
    "\n",
    "if flag:\n",
    "    print(\"YES\")\n",
    "else:\n",
    "    print(\"NO\")"
   ]
  }
 ],
 "metadata": {
  "kernelspec": {
   "display_name": "Python 3",
   "language": "python",
   "name": "python3"
  },
  "language_info": {
   "name": "python",
   "version": "3.9.13"
  },
  "orig_nbformat": 4,
  "vscode": {
   "interpreter": {
    "hash": "b989fbffd3ec1c6d6c91005b2fa329057dfdc84b6f95ed35016e1b272fccc8a0"
   }
  }
 },
 "nbformat": 4,
 "nbformat_minor": 2
}
