{
 "cells": [
  {
   "attachments": {},
   "cell_type": "markdown",
   "metadata": {},
   "source": [
    "# 수업1"
   ]
  },
  {
   "attachments": {},
   "cell_type": "markdown",
   "metadata": {},
   "source": [
    "월~목 공부한 것을 기반으로 금요일에 관통 PJT를 할 것\n",
    "왜 관통인가? 주차마다 했던 내용을 계속해서 발전시켜 나가기 때문에\n",
    "\n",
    "&nbsp;\n",
    "\n",
    "### What is programming?\n",
    "- 프로그래밍 : 컴퓨터에게 적절한 수행 절차를 정의하고 이를 프로그래밍 언어로 표현\n",
    "- 컴퓨터를 이해하기 위한 것들 : 자료구조, 컴퓨터 구조, 네트워크, 프로그래밍 언어론, 이산수학, 알고리즘 등.."
   ]
  },
  {
   "attachments": {},
   "cell_type": "markdown",
   "metadata": {},
   "source": [
    "###  우리가 마주칠 일들\n",
    "\n",
    "- 구문 오류 (syntax error) : 문법이 틀려서 실행이 되지 않는 것\n",
    "- 논리 오류 (sematic erorr) : 문법을 틀리지 않아서 실행이 되나 내가 원하는 결과가 아닌 것\n",
    "\n",
    "> - Computational Thinking\n",
    "> 1. 컴퓨터의 특성을 잘 이해한다.\n",
    "> 2. 문제 해결 능력(실무에 적합한 사람?) : 논리적 사고 == 작은 문제로 쪼개기\n",
    "> 3. 프로그래밍 언어에 익숙해 질 것 : trial & error"
   ]
  },
  {
   "attachments": {},
   "cell_type": "markdown",
   "metadata": {},
   "source": [
    "### 통합 개발 환경\n",
    "IDE = Intergrated Development Environment \n",
    "\n",
    "Jupyter Notebook\n",
    "\n",
    "IDLE = Intergrated Development and Learning Environment\n",
    "\n",
    "파이참을 사용하는 이유 : 디버깅 툴을 이용하기 위해서"
   ]
  },
  {
   "attachments": {},
   "cell_type": "markdown",
   "metadata": {},
   "source": [
    "### 변수\n",
    "\n",
    "변수 <-> 상수\n",
    "\n",
    "변수의 이름을 식별자라고 한다.\n",
    "1. 읽고 쉽고 이해하기 쉬운 변수명이 최고임.\n",
    "2. 예약어 목록 : import keyword \\n print(keyword.kwlist)"
   ]
  },
  {
   "attachments": {},
   "cell_type": "markdown",
   "metadata": {},
   "source": [
    "### 자료형\n",
    "\n",
    "데이터를 저장할 때는 램(메모리)에 저장한다. (이유 : 속도가 빠르기 때문에)\n",
    "\n",
    "id() : 왜 필요한가? 두 대상이 동일한지 비교하기 위해서 필요하다.\n",
    "\n",
    "- 2진수 : bin, 0b\n",
    "- 8진수 : oct, 0o\n",
    "- 16진수 : hex, 0x\n",
    "\n",
    "소수의 경우 해당 진수의 값을 곱해서 소수점 윗자리 수의 값을 이용한다.\n",
    "\n",
    "실수 연산의 경우 부동소수점으로 저장될 수 있다. (Float point rounding error)"
   ]
  },
  {
   "attachments": {},
   "cell_type": "markdown",
   "metadata": {},
   "source": [
    "### 문자열 자료형\n",
    "\n",
    "\\r : 캐리지 리턴 (덮어씌우기 인쇄)"
   ]
  },
  {
   "cell_type": "code",
   "execution_count": null,
   "metadata": {},
   "outputs": [],
   "source": [
    "print(\"aaaaa\\rbbb\")"
   ]
  },
  {
   "cell_type": "markdown",
   "metadata": {},
   "source": []
  },
  {
   "attachments": {},
   "cell_type": "markdown",
   "metadata": {},
   "source": [
    "### C or C++ 과 Python의 차이점\n",
    "- 메모리의 영역은 : data, stack(정적 할당 영역), heap(동적 할당 영역) 으로 구분\n",
    "\n",
    "+ + 정적 : 프로그램을 실행했을 때 필수적으로 필요한 영역으로 할당되는 것\n",
    "\n",
    "+ + 동적 : 변수에 이름이 없을 때 사용 (주소값으로 접근할 때 사용하는 것)\n",
    "\n",
    "&nbsp;\n",
    "\n",
    "C나 C++은 변수마다 다른 주소를 할당해주지만..(정적 할당) (int a = 3, int b = 3, 다른 주소를 이용한다.)\n",
    "\n",
    "Python의 경우는 동적 할당으로 변수의 이름은 존재하지 않아 주소만 가리킨다. (a = 3, b = 3이면 동일한 주소를 가리킨다.)\n",
    "\n"
   ]
  },
  {
   "attachments": {},
   "cell_type": "markdown",
   "metadata": {},
   "source": [
    "### 변수"
   ]
  },
  {
   "cell_type": "code",
   "execution_count": null,
   "metadata": {},
   "outputs": [],
   "source": [
    "a, b = 3, 5\n",
    "print(a + b)"
   ]
  },
  {
   "cell_type": "code",
   "execution_count": null,
   "metadata": {},
   "outputs": [],
   "source": [
    "# deep copy \n",
    "# shallow copy\n",
    "a, b = b, a"
   ]
  },
  {
   "cell_type": "code",
   "execution_count": null,
   "metadata": {},
   "outputs": [],
   "source": [
    "# 자료형\n",
    "a = 3\n",
    "print(type(a))"
   ]
  },
  {
   "cell_type": "code",
   "execution_count": null,
   "metadata": {},
   "outputs": [],
   "source": [
    "a = 3.14\n",
    "print(type(a))"
   ]
  },
  {
   "cell_type": "code",
   "execution_count": null,
   "metadata": {},
   "outputs": [],
   "source": [
    "# 소수점 첫 번째 자리까지 출력\n",
    "print(round(a, 1))\n",
    "print(f'{a:.1f}')\n",
    "print(\"{0:.1f}\".format(a))"
   ]
  },
  {
   "cell_type": "code",
   "execution_count": null,
   "metadata": {},
   "outputs": [],
   "source": [
    "print(\"오늘은 \\\"100%\\\"입니다.\")"
   ]
  },
  {
   "cell_type": "code",
   "execution_count": null,
   "metadata": {},
   "outputs": [],
   "source": [
    "# 중요, 내가 몰랐던 내용임\n",
    "s = \"abcefg\"\n",
    "print(s[5:2:-1]) # gfe\n",
    "print(s[1:5:2]) # be"
   ]
  },
  {
   "cell_type": "code",
   "execution_count": 1,
   "metadata": {},
   "outputs": [
    {
     "name": "stdout",
     "output_type": "stream",
     "text": [
      "False True\n"
     ]
    }
   ],
   "source": [
    "# bool\n",
    "a, b = 0 , -1\n",
    "a,b = bool(a), bool(b)\n",
    "\n",
    "print(a, b)"
   ]
  },
  {
   "cell_type": "code",
   "execution_count": null,
   "metadata": {},
   "outputs": [],
   "source": [
    "# list, seq자료형\n",
    "lst = [1, 2, 3, 4, 5]\n",
    "print(lst)\n",
    "print(*lst) # 몰랐던 내용"
   ]
  },
  {
   "cell_type": "code",
   "execution_count": null,
   "metadata": {},
   "outputs": [],
   "source": [
    "# tuple, seq자료형\n",
    "tp = tuple(range(1, 6))\n",
    "print(tp)\n",
    "print(*tp)\n",
    "print(type(tp))"
   ]
  },
  {
   "cell_type": "code",
   "execution_count": null,
   "metadata": {},
   "outputs": [],
   "source": [
    "# set - 리스트에서 중복 제거에 용이하다.\n",
    "lst = [2, 2, 2, 3, 5, 5, 6]\n",
    "lst = list(set(lst))\n",
    "print(lst) # 중복된 값이 제거된 리스트를 반환받을 수 있다."
   ]
  },
  {
   "cell_type": "code",
   "execution_count": null,
   "metadata": {},
   "outputs": [],
   "source": [
    "s = {1, 2, 3, 4, 5}\n",
    "s.add(6)\n",
    "s.update([11, 12, 3, 4, 7])\n",
    "print(s)"
   ]
  },
  {
   "cell_type": "code",
   "execution_count": null,
   "metadata": {},
   "outputs": [],
   "source": [
    "s.remove(1)# 없으면 에러 남\n",
    "s.discard(0) # 없어도 에러가 나지 않음\n",
    "print(s)"
   ]
  },
  {
   "cell_type": "code",
   "execution_count": null,
   "metadata": {},
   "outputs": [],
   "source": [
    "s2 = [2, 4, 6, 8]\n",
    "\n",
    "# s1, s2 = set(s1), set(s2)\n",
    "\n",
    "# print(s1&s2) # 교집합\n",
    "# print(s1|s2) # 합집합\n",
    "# print(s1-s2) # 차집합"
   ]
  },
  {
   "attachments": {},
   "cell_type": "markdown",
   "metadata": {},
   "source": [
    "# 수업2"
   ]
  },
  {
   "attachments": {},
   "cell_type": "markdown",
   "metadata": {},
   "source": [
    "### 코드 스타일\n",
    "\n",
    "https://peps.python.org/pep-0008/\n",
    "https://google.github.io/styleguide/pyguide.html"
   ]
  },
  {
   "attachments": {},
   "cell_type": "markdown",
   "metadata": {},
   "source": [
    "### 제어문\n",
    "\n",
    " 순차, 선택, 반복 : 파이썬은 기본적으로 위에서부터 아래로 차례대로 명령을 수행\n",
    "\n",
    "마름모(다이아)는 판단을 가리키는 순서도의 도형\n",
    "\n",
    "직사각형은 처리를 가리키는 순서도의 도형\n",
    "\n",
    "https://post.naver.com/viewer/postView.nhn?volumeNo=13004119&memberNo=2511624"
   ]
  },
  {
   "attachments": {},
   "cell_type": "markdown",
   "metadata": {},
   "source": [
    "###  조건 표현식 *\n",
    "\n",
    "조건 표현식이란 : if와 else구문을 하나의 줄로 표현하는 것\n",
    "\n",
    "> (true인 경우 값) if (조건) else (false인 경우 값)   \n",
    "> value = num if num >= 0 else -num  \n",
    "> result = a if a > b else b  "
   ]
  },
  {
   "attachments": {},
   "cell_type": "markdown",
   "metadata": {},
   "source": [
    "False : [], (), {}, '', 'None' 이 있다"
   ]
  },
  {
   "attachments": {},
   "cell_type": "markdown",
   "metadata": {},
   "source": [
    "### list Comprehension\n",
    "\n",
    "- 리스트  \n",
    "[code for 변수 in iterable]  \n",
    "[code for 변수 in iterable if 조건식]  \n",
    "\n",
    "- Dictionary  \n",
    "{key: value for 변수 in iterable}  \n",
    "{key: value for 변수 in iterable if 조건식}  "
   ]
  },
  {
   "cell_type": "code",
   "execution_count": 2,
   "metadata": {},
   "outputs": [
    {
     "name": "stdout",
     "output_type": "stream",
     "text": [
      "{'박진수': 1, '강만진': 2, '홍수정': 3}\n"
     ]
    }
   ],
   "source": [
    "id_name = {1: '박진수', 2: '강만진', 3: '홍수정'}\n",
    " \n",
    "name_id = {val:key for key,val in id_name.items()}\n",
    " \n",
    "print(name_id)"
   ]
  },
  {
   "attachments": {},
   "cell_type": "markdown",
   "metadata": {},
   "source": [
    "### for-else 구문\n",
    "\n",
    "- 끝까지 반복문을 실행한 이후 else 문 실행\n",
    "- - break를 통해 중간에 종료되는 경우 else문은 실행되지 않음"
   ]
  },
  {
   "cell_type": "code",
   "execution_count": null,
   "metadata": {},
   "outputs": [],
   "source": [
    "a = int(input())\n",
    "\n",
    "if (a > 5):\n",
    "    print(\"오삼\")\n",
    "elif (a > 3):\n",
    "    print(\"불고기\")\n",
    "elif (a > 4 or a == -1):\n",
    "    print(\"재시도\")\n",
    "else:\n",
    "    print(\"오삼불고기\")\n"
   ]
  },
  {
   "cell_type": "code",
   "execution_count": null,
   "metadata": {},
   "outputs": [],
   "source": [
    "#숫자 두 개를 입력받고 둘 중 큰 수를 출력하라\n",
    "\n",
    "a, b = map(int, input().split())\n",
    "\n",
    "# if (a > b):\n",
    "#     print(a)\n",
    "# else:\n",
    "#     print(b)\n",
    "\n",
    "result = a if a > b else b"
   ]
  },
  {
   "cell_type": "code",
   "execution_count": null,
   "metadata": {},
   "outputs": [],
   "source": [
    "for i in range(1, 101):\n",
    "    print(i, end = \" \")"
   ]
  },
  {
   "cell_type": "code",
   "execution_count": null,
   "metadata": {},
   "outputs": [],
   "source": [
    "for i in range(100):\n",
    "    print('#', end = \" \")"
   ]
  },
  {
   "cell_type": "code",
   "execution_count": null,
   "metadata": {},
   "outputs": [],
   "source": [
    "i = 1\n",
    "while (i <= 100):\n",
    "    print(i, end = \" \")\n",
    "    i += 1"
   ]
  },
  {
   "cell_type": "code",
   "execution_count": null,
   "metadata": {},
   "outputs": [],
   "source": [
    "i = 0\n",
    "while (i < 100):\n",
    "    print('#', end = ' ')\n",
    "    i += 1\n"
   ]
  },
  {
   "cell_type": "code",
   "execution_count": null,
   "metadata": {},
   "outputs": [],
   "source": [
    "lst = [\n",
    "    [1, 2, 3],\n",
    "    [4, 5, 6]\n",
    "    ]\n",
    "\n",
    "for i in lst:\n",
    "    print(*i)"
   ]
  },
  {
   "cell_type": "code",
   "execution_count": null,
   "metadata": {},
   "outputs": [],
   "source": [
    "# 빈 리스트를 하나를 만든 후 lst값을 제곱한 값으로 채워넣기\n",
    "lst = range(1, 10)\n",
    "lst2 = [i**2 for i in lst]\n",
    "\n",
    "print(*lst2)"
   ]
  },
  {
   "cell_type": "code",
   "execution_count": 3,
   "metadata": {},
   "outputs": [
    {
     "name": "stdout",
     "output_type": "stream",
     "text": [
      "[1, 4, 9, 16, 25, 36]\n"
     ]
    }
   ],
   "source": [
    "lst = [\n",
    "    [1, 2, 3],\n",
    "    [4, 5, 6]\n",
    "    ]\n",
    "lst2 = []\n",
    "\n",
    "for i in range(2):\n",
    "    for j in range(3):\n",
    "        lst2.append(lst[i][j]**2)\n",
    "\n",
    "print(lst2)"
   ]
  },
  {
   "cell_type": "code",
   "execution_count": 4,
   "metadata": {},
   "outputs": [
    {
     "name": "stdout",
     "output_type": "stream",
     "text": [
      "1 4 9\n",
      "16 25 36\n"
     ]
    }
   ],
   "source": [
    "lst = [\n",
    "    [1, 2, 3],\n",
    "    [4, 5, 6]\n",
    "    ]\n",
    "\n",
    "lst2 = [[0]*3 for i in range(2)]\n",
    "\n",
    "for i in range(len(lst)):\n",
    "    for j in range(len(lst[0])):\n",
    "        lst2[i][j] = lst[i][j] ** 2\n",
    "\n",
    "for k in lst2:\n",
    "    print(*k)"
   ]
  },
  {
   "cell_type": "code",
   "execution_count": null,
   "metadata": {},
   "outputs": [],
   "source": [
    "# 딕셔너리\n",
    "dic = {\"kevin\": 1, \"john\": 2, \"bob\": 3}\n",
    "\n",
    "for keys, values in dic.items():\n",
    "    print(keys, values)"
   ]
  },
  {
   "cell_type": "code",
   "execution_count": null,
   "metadata": {},
   "outputs": [],
   "source": [
    "# 키값만 출력되는 것을 알 수 있다. (몰랐던 것)\n",
    "for i in dic:\n",
    "    print(i)"
   ]
  },
  {
   "cell_type": "code",
   "execution_count": 5,
   "metadata": {},
   "outputs": [
    {
     "name": "stdout",
     "output_type": "stream",
     "text": [
      "{1: 3, 2: 2, 3: 4, '오': 1}\n"
     ]
    }
   ],
   "source": [
    "lst = [1, 1, 1, 2, 2, 3, 3, 3, 3, '오']\n",
    "dict1 = {}\n",
    "\n",
    "for i in lst:\n",
    "    try:\n",
    "        dict1[i] += 1\n",
    "    except:\n",
    "        dict1[i] = 1\n",
    "\n",
    "print(dict1)"
   ]
  },
  {
   "cell_type": "code",
   "execution_count": null,
   "metadata": {},
   "outputs": [],
   "source": [
    "# break : 반복문 중간에 멈추고 싶을 때 (함수 종료가 아님)\n",
    "# return : 함수의 값을 반환하거나 함수를 멈추고 싶을 때\n",
    "\n",
    "i = 0\n",
    "while (True):\n",
    "    print(i, end = \" \")\n",
    "    i += 1\n",
    "\n",
    "    if (i == 7):\n",
    "        break;"
   ]
  },
  {
   "cell_type": "code",
   "execution_count": 6,
   "metadata": {},
   "outputs": [
    {
     "name": "stdout",
     "output_type": "stream",
     "text": [
      "1 2 1 2 1 2 "
     ]
    }
   ],
   "source": [
    "lst = [[1, 2, 3] for i in range(3)]\n",
    "\n",
    "for i in range(3):\n",
    "    for j in range(4):\n",
    "        if (lst[i][j] == 3):\n",
    "            break;\n",
    "        print(lst[i][j], end = \" \")"
   ]
  },
  {
   "cell_type": "code",
   "execution_count": 7,
   "metadata": {},
   "outputs": [
    {
     "name": "stdout",
     "output_type": "stream",
     "text": [
      "1 2 3 4 6 7 "
     ]
    }
   ],
   "source": [
    "# continue (반복문을 다음 순서부터 다시 시작한다.)\n",
    "lst = range(1, 8)\n",
    "\n",
    "for i in lst:\n",
    "    if (i == 5):\n",
    "        continue;\n",
    "    print(i, end = ' ')"
   ]
  },
  {
   "cell_type": "code",
   "execution_count": 8,
   "metadata": {},
   "outputs": [
    {
     "name": "stdout",
     "output_type": "stream",
     "text": [
      "1 2 1 2 1 2 "
     ]
    }
   ],
   "source": [
    "lst = [[1, 2, 3] for i in range(3)]\n",
    "for i in range(3):\n",
    "    for j in range(3):\n",
    "        if (lst[i][j] == 3):\n",
    "            continue\n",
    "        print(lst[i][j], end = \" \")"
   ]
  },
  {
   "attachments": {},
   "cell_type": "markdown",
   "metadata": {},
   "source": [
    "- 인코딩 : 문자를 어떻게 출력할지에 대한 약속  \n",
    "아스키코드 : 128개의 문자조합을 제공하는 7비트 부호  \n",
    "유니코드(Unicode) : 각 나라별 언어를 모두 표현하기 위해 나온 코드 체계가 유니코드"
   ]
  },
  {
   "cell_type": "code",
   "execution_count": 9,
   "metadata": {},
   "outputs": [
    {
     "name": "stdout",
     "output_type": "stream",
     "text": [
      "2\n",
      "2\n"
     ]
    }
   ],
   "source": [
    "#\n",
    "a = '2'\n",
    "print(ord(a) - ord('0'))\n",
    "#\n",
    "print(int(a))"
   ]
  },
  {
   "cell_type": "code",
   "execution_count": null,
   "metadata": {},
   "outputs": [],
   "source": [
    "pow(3, 2)"
   ]
  },
  {
   "cell_type": "code",
   "execution_count": 10,
   "metadata": {},
   "outputs": [
    {
     "name": "stdout",
     "output_type": "stream",
     "text": [
      "[4, 6]\n"
     ]
    }
   ],
   "source": [
    "import random\n",
    "a = range(1, 7)\n",
    "print(random.sample(a, 2))"
   ]
  },
  {
   "cell_type": "code",
   "execution_count": null,
   "metadata": {},
   "outputs": [],
   "source": [
    "# 사용자 함수\n",
    "# 매개변수, parameters\n",
    "def getsum(a, b):\n",
    "    return (a + b)\n",
    "\n",
    "# 인자값, arguments\n",
    "print(getsum(3, 4))\n",
    "\n",
    "# 지역변수(local variable), 전역변수(global variable)\n",
    "\n",
    "# 리턴값이 두 개이면 리턴으로 튜플을 사용하거나 전역변수를 사용해야 한다."
   ]
  },
  {
   "cell_type": "code",
   "execution_count": 11,
   "metadata": {},
   "outputs": [
    {
     "name": "stdout",
     "output_type": "stream",
     "text": [
      "<class 'tuple'> (7, 12)\n"
     ]
    }
   ],
   "source": [
    "# 튜플\n",
    "def getsum(a, b):\n",
    "    return a+b, a*b\n",
    "\n",
    "ret = getsum(3, 4)\n",
    "print(type(ret), ret)"
   ]
  },
  {
   "cell_type": "code",
   "execution_count": null,
   "metadata": {},
   "outputs": [],
   "source": [
    "# 전역변수 * (몰랐던 것)\n",
    "def getsum2(a, b):\n",
    "    global sum1, gop1\n",
    "    sum1 = a + b\n",
    "    mul1 = a * b"
   ]
  },
  {
   "cell_type": "code",
   "execution_count": null,
   "metadata": {},
   "outputs": [],
   "source": [
    "# 혼합사용\n",
    "def getsum(a, b):\n",
    "    global mul2\n",
    "    mul2 = a*b\n",
    "\n",
    "    return(a + b)\n",
    "\n",
    "sum2 = getsum(1, 2)\n",
    "\n",
    "print(mul2, sum2)"
   ]
  },
  {
   "cell_type": "code",
   "execution_count": null,
   "metadata": {},
   "outputs": [],
   "source": [
    "def getsum(a, b):\n",
    "    return\n",
    "\n",
    "ret = getsum(1, 2)\n",
    "print(ret)"
   ]
  },
  {
   "cell_type": "code",
   "execution_count": null,
   "metadata": {},
   "outputs": [],
   "source": [
    "# default parameter 개수 맞추기, 기존 파라미터보다 뒤쪽으로 나두어야 한다.\n",
    "\n",
    "def getsum(a, b = 6, c = 7):\n",
    "    return (a + b + c)\n",
    "\n",
    "ret= getsum(4)\n",
    "print(ret)"
   ]
  },
  {
   "cell_type": "code",
   "execution_count": null,
   "metadata": {},
   "outputs": [],
   "source": [
    "# packing, 값들을 묶어서 하나 값으로 사용\n",
    "num = [1, 2, 3, 4, 5]\n",
    "num2 = (1, 2, 3, 4, 5)\n",
    "\n",
    "print(num, num2)"
   ]
  },
  {
   "cell_type": "code",
   "execution_count": null,
   "metadata": {},
   "outputs": [],
   "source": [
    "# unpacking., 값들을 풀어서 사용하는 것\n",
    "a, b, c, d, e = num\n",
    "print(a, b, c, d, e)"
   ]
  },
  {
   "cell_type": "code",
   "execution_count": null,
   "metadata": {},
   "outputs": [],
   "source": [
    "# 몰랐던 것\n",
    "# * :asterisk, astral\n",
    "a, b, *c = num\n",
    "print(c)"
   ]
  },
  {
   "cell_type": "code",
   "execution_count": null,
   "metadata": {},
   "outputs": [],
   "source": [
    "# 가변인자 args\n",
    "def getsum(*a): # 여러 개를 받을 때 사용할 수 있다. 튜플의 형태로 이용한다.\n",
    "    sum = 0\n",
    "\n",
    "    for i in a:\n",
    "        sum += i\n",
    "    \n",
    "    return(sum)\n",
    "\n",
    "result = getsum(1, 2, 3)\n",
    "print(result)"
   ]
  },
  {
   "cell_type": "code",
   "execution_count": 12,
   "metadata": {},
   "outputs": [
    {
     "name": "stdout",
     "output_type": "stream",
     "text": [
      "kate 1\n",
      "kevin 2\n",
      "john 3\n"
     ]
    }
   ],
   "source": [
    "# 몰랐던 것, **는 딕셔너리로 받는 듯?\n",
    "def print_info2(**args):\n",
    "    for i, j in args.items():\n",
    "        print(i, j)\n",
    "\n",
    "di = {'kate': 1, 'kevin': 2, 'john': 3}\n",
    "\n",
    "print_info2(**di)"
   ]
  },
  {
   "cell_type": "code",
   "execution_count": 13,
   "metadata": {},
   "outputs": [
    {
     "name": "stdout",
     "output_type": "stream",
     "text": [
      "kevin 0\n",
      "john 1\n",
      "bob 2\n"
     ]
    }
   ],
   "source": [
    "print_info2(kevin=0, john=1, bob=2)"
   ]
  },
  {
   "cell_type": "code",
   "execution_count": null,
   "metadata": {},
   "outputs": [],
   "source": [
    "# map : 리스트나 튜플같이 순회 가능한 데이터 구조 값들에 일괄적으로 적용하고 적용 후 값을 map이라는 객체로 반환\n",
    "# 사용법 map(함수, iterables)\n",
    "num = ['1', '2', '3']\n",
    "lst1 = []\n",
    "\n",
    "# for i in num:\n",
    "#     lst1.append(int(i))\n",
    "# print(lst1)\n",
    "\n",
    "lst2 = list(map(int, num))\n",
    "print(lst2)"
   ]
  },
  {
   "cell_type": "code",
   "execution_count": 14,
   "metadata": {},
   "outputs": [
    {
     "name": "stdout",
     "output_type": "stream",
     "text": [
      "[5, 7, 9]\n"
     ]
    }
   ],
   "source": [
    "lst1 = [1, 2, 3]\n",
    "lst2 = [4, 5, 6]\n",
    "lst3 = list(map(sum, zip(lst1, lst2)))\n",
    "print(lst3)"
   ]
  },
  {
   "cell_type": "code",
   "execution_count": 15,
   "metadata": {},
   "outputs": [
    {
     "name": "stdout",
     "output_type": "stream",
     "text": [
      "[5, 7, 9]\n"
     ]
    }
   ],
   "source": [
    "def func(a, b):\n",
    "    return a + b\n",
    "\n",
    "lst3 = list(map(func, lst1, lst2))\n",
    "print(lst3)"
   ]
  },
  {
   "attachments": {},
   "cell_type": "markdown",
   "metadata": {},
   "source": [
    "# 수업3"
   ]
  },
  {
   "attachments": {},
   "cell_type": "markdown",
   "metadata": {},
   "source": [
    "- 함수  \n",
    "함수는 내장, 외장, 사용자 정의 함수가 있다."
   ]
  },
  {
   "attachments": {},
   "cell_type": "markdown",
   "metadata": {},
   "source": [
    "- 결과값에 따른 함수의 종류  \n",
    "  - Void ftn : 명시적인 retrun 값이 없는 경우, None를 반환하고 종료  \n",
    "  - Value returning ftn : 함수 실행 후, return문을 통해 값을 반환  \n",
    "\n",
    "return x : None   \n",
    "return O : 하나를 반환"
   ]
  },
  {
   "attachments": {},
   "cell_type": "markdown",
   "metadata": {},
   "source": [
    "REPL(Read-Eval-Print-Loop) 환경에서는 마지막으로 작성된 코드의 리턴값을 보여줌 (주피터 노트북의 경우)"
   ]
  },
  {
   "attachments": {},
   "cell_type": "markdown",
   "metadata": {},
   "source": [
    "- Parameter: 함수를 정의할 때, 함수 내부에서 사용되는 변수  \n",
    "- Argument : 함수를 호출할 때, 넣어주는 값"
   ]
  },
  {
   "attachments": {},
   "cell_type": "markdown",
   "metadata": {},
   "source": [
    "- Name space\n",
    "  - built-in: 파이썬에서 내장\n",
    "  - global: 하나의 파이썬 프로그램 내에서\n",
    "  - enclosing: 함수 안의 함수 안에서의 공간\n",
    "  - local: 함수 안에서의 공간  \n",
    "\n",
    "중첩된 변수가 존재할 때, 이를 구분해주는 것이 필요한데 이것을 Scope라고 한다.  \n",
    "Scope : 참조할 공간을 한정하는 것 (LEGB의 순서대로)"
   ]
  },
  {
   "attachments": {},
   "cell_type": "markdown",
   "metadata": {},
   "source": [
    "- 변수의 수명주기  \n",
    "  - built-in scope: 파이썬이 실행된 이후부터 영원히\n",
    "  - global scope: 모듈이 호출된 시점 이후 혹은 인터프리터가 끝날 때까지\n",
    "  - local scope: 함수가 호출될 때 생성되고, 함수가 종료될 때까지 유지"
   ]
  },
  {
   "cell_type": "code",
   "execution_count": 16,
   "metadata": {},
   "outputs": [],
   "source": [
    "def func1():\n",
    "    print(\"func1 시이작\")\n",
    "\n",
    "    def func2():\n",
    "        print(\"func2 시이작\")\n",
    "        print(\"func2 끝\")\n",
    "        return\n",
    "\n",
    "    func2()\n",
    "    return\n"
   ]
  },
  {
   "cell_type": "code",
   "execution_count": 17,
   "metadata": {},
   "outputs": [
    {
     "name": "stdout",
     "output_type": "stream",
     "text": [
      "로컬\n"
     ]
    }
   ],
   "source": [
    "\n",
    "x = \"글로벌\"\n",
    "\n",
    "def  func1():\n",
    "    x = \"인클로징\"\n",
    "\n",
    "    def func2():\n",
    "        x = \"로컬\"\n",
    "        print(x)\n",
    "        # print(locals()) # 로컬변수 출력\n",
    "        # print(globals()) # 글로벌 변수 출력\n",
    "    \n",
    "    func2()\n",
    "\n",
    "func1()"
   ]
  },
  {
   "cell_type": "code",
   "execution_count": 18,
   "metadata": {},
   "outputs": [
    {
     "name": "stdout",
     "output_type": "stream",
     "text": [
      "인클로징\n",
      "인클로징\n"
     ]
    }
   ],
   "source": [
    "# 몰랐던 것\n",
    "x = \"글로벌\"\n",
    "\n",
    "def func1():\n",
    "    global x\n",
    "    x = '인클로징'\n",
    "    print(x)\n",
    "\n",
    "func1()\n",
    "print(x)"
   ]
  },
  {
   "cell_type": "code",
   "execution_count": 19,
   "metadata": {},
   "outputs": [
    {
     "name": "stdout",
     "output_type": "stream",
     "text": [
      "[1, 5554, 3, 4]\n"
     ]
    }
   ],
   "source": [
    "my_list = [1, 2, 3, 4]\n",
    "\n",
    "def func1():\n",
    "    my_list[1] = 5554 # 글로벌 변수에 영향\n",
    "\n",
    "func1()\n",
    "print(my_list)"
   ]
  },
  {
   "cell_type": "code",
   "execution_count": 21,
   "metadata": {},
   "outputs": [
    {
     "name": "stdout",
     "output_type": "stream",
     "text": [
      "[1, 2, 3, 4]\n"
     ]
    }
   ],
   "source": [
    "# 위의 코드와 차이가 있다.\n",
    "my_list = [1, 2, 3, 4]\n",
    "\n",
    "def func1():\n",
    "    my_list = [5, 5, 7] # 로컬 변수\n",
    "\n",
    "func1()\n",
    "print(my_list)"
   ]
  },
  {
   "cell_type": "code",
   "execution_count": 22,
   "metadata": {},
   "outputs": [
    {
     "name": "stdout",
     "output_type": "stream",
     "text": [
      "3\n",
      "2\n",
      "3\n"
     ]
    }
   ],
   "source": [
    "x = 1\n",
    "\n",
    "def func1():\n",
    "    x = 2\n",
    "\n",
    "    def func2():\n",
    "        global x\n",
    "        x = 3\n",
    "        print(x)\n",
    "    \n",
    "    func2()\n",
    "    print(x)\n",
    "\n",
    "func1()\n",
    "print(x)"
   ]
  },
  {
   "cell_type": "code",
   "execution_count": 23,
   "metadata": {},
   "outputs": [
    {
     "name": "stdout",
     "output_type": "stream",
     "text": [
      "3\n",
      "3\n",
      "1\n"
     ]
    }
   ],
   "source": [
    "# 몰랐던 것\n",
    "x = 1\n",
    "\n",
    "def func1():\n",
    "    x = 2\n",
    "\n",
    "    def func2():\n",
    "        nonlocal x # func1의 x 현재의 네임스페이스와 가장 가까운 스페이스\n",
    "        x = 3\n",
    "        print(x)\n",
    "    \n",
    "    func2()\n",
    "    print(x)\n",
    "\n",
    "func1()\n",
    "print(x)"
   ]
  },
  {
   "cell_type": "code",
   "execution_count": 24,
   "metadata": {},
   "outputs": [
    {
     "name": "stdout",
     "output_type": "stream",
     "text": [
      "20\n",
      "1\n"
     ]
    }
   ],
   "source": [
    "def func1():\n",
    "    x = 10\n",
    "\n",
    "    def func2():\n",
    "        nonlocal x\n",
    "        x= 20\n",
    "\n",
    "    func2()\n",
    "    print(x)\n",
    "\n",
    "func1()\n",
    "print(x) # 글로벌 x는 존재하지 않음. 따라서 오류가 발생함."
   ]
  },
  {
   "attachments": {},
   "cell_type": "markdown",
   "metadata": {},
   "source": [
    "### filter\n",
    "\n",
    "리스트나 튜플과 같은 순회 가능한 데이터구조 값들을 함수에서 적용하는데  \n",
    "적용 후 값 중 True만 반환 !! filter라는 객체로 변환"
   ]
  },
  {
   "cell_type": "code",
   "execution_count": null,
   "metadata": {},
   "outputs": [],
   "source": [
    "# 리스트에서 짝수만\n",
    "num = [1, 2, 3, 4, 5, 6]\n",
    "\n",
    "def get_even(t):\n",
    "    return True if (t % 2 == 0) else False\n",
    "\n",
    "result = filter(get_even, num)\n",
    "print(list(result))"
   ]
  },
  {
   "attachments": {},
   "cell_type": "markdown",
   "metadata": {},
   "source": [
    "### lambda  \n",
    "익명함수, 함수를 간략하게 적기 위해서 사용!!"
   ]
  },
  {
   "cell_type": "code",
   "execution_count": null,
   "metadata": {},
   "outputs": [],
   "source": [
    "# 숫자 2개를 입력받고 get_sum이라는 함수로 전달\n",
    "# get_sum에서 두 수의 합을 리턴\n",
    "# 리턴 받은 값 출력하기\n",
    "\n",
    "# 1 2\n",
    "a, b = map(int, input().split())\n",
    "\n",
    "def get_sum(a, b):\n",
    "    return (a + b)\n",
    "\n",
    "print(get_sum(a, b))"
   ]
  },
  {
   "cell_type": "code",
   "execution_count": null,
   "metadata": {},
   "outputs": [],
   "source": [
    "result = (lambda a, b: a+ b)(3, 5)\n",
    "print(result)"
   ]
  },
  {
   "cell_type": "code",
   "execution_count": null,
   "metadata": {},
   "outputs": [],
   "source": [
    "sum2 = (lambda a, b: a + b)\n",
    "print(sum2(3, 5))"
   ]
  },
  {
   "cell_type": "code",
   "execution_count": null,
   "metadata": {},
   "outputs": [],
   "source": [
    "lst1 = [1, 2, 3, 4, 5]\n",
    "lst2 = [6, 7, 8, 9, 10]\n",
    "\n",
    "# 두 리스트의 합을 lst3에 람다 함수를 사용하여 값을 채운 후 출력\n",
    "lst3 = list(map(lambda a, b: a + b, lst1, lst2))\n",
    "print(lst3)"
   ]
  },
  {
   "attachments": {},
   "cell_type": "markdown",
   "metadata": {},
   "source": [
    "### 재귀(Recursion)  \n",
    "함수가 자기 자신인 함수를 호출하는 것  \n"
   ]
  },
  {
   "cell_type": "code",
   "execution_count": 25,
   "metadata": {},
   "outputs": [
    {
     "name": "stdout",
     "output_type": "stream",
     "text": [
      "1 2 3 3 2 1 \n"
     ]
    }
   ],
   "source": [
    "for i in range(1, 4):\n",
    "    print(i, end = ' ')\n",
    "for i in range(3, 0, -1):\n",
    "    print(i, end = ' ')\n",
    "\n",
    "print()"
   ]
  },
  {
   "cell_type": "code",
   "execution_count": 27,
   "metadata": {},
   "outputs": [
    {
     "name": "stdout",
     "output_type": "stream",
     "text": [
      "1 2 3 3 2 1 "
     ]
    }
   ],
   "source": [
    "def abc(level):\n",
    "    print(level, end = ' ')\n",
    "    if level == 3:\n",
    "        print(level, end = ' ')\n",
    "        return\n",
    "\n",
    "    abc(level + 1)\n",
    "    print(level, end = ' ')\n",
    "\n",
    "abc(1)"
   ]
  },
  {
   "attachments": {},
   "cell_type": "markdown",
   "metadata": {},
   "source": [
    "### 문자열 관련 함수"
   ]
  },
  {
   "cell_type": "code",
   "execution_count": null,
   "metadata": {},
   "outputs": [],
   "source": [
    "st = \"apple,banana,mango\"\n",
    "\n",
    "# 문자 'a'가 존재하는지 확인하고자 한다.\n",
    "# 몰랐던 것\n",
    "\n",
    "idx1 = st.find('a')\n",
    "idx2 = st.index('a')\n",
    "\n",
    "print(idx1, idx2)"
   ]
  },
  {
   "cell_type": "code",
   "execution_count": null,
   "metadata": {},
   "outputs": [],
   "source": [
    "idx = st.find(\"ap\")\n",
    "print(idx)"
   ]
  },
  {
   "cell_type": "code",
   "execution_count": null,
   "metadata": {},
   "outputs": [],
   "source": [
    "idx = st.find('x')\n",
    "print(idx) # 찾고자 하는 값이 없으면 -1반환\n",
    "\n",
    "# idx = st.index('x') # 없으면 오류 발생\n",
    "# print(idx)"
   ]
  },
  {
   "cell_type": "code",
   "execution_count": null,
   "metadata": {},
   "outputs": [],
   "source": [
    "idx = st.find('a', 1) # 두 번째 arg는 시작점\n",
    "print(idx)"
   ]
  },
  {
   "cell_type": "code",
   "execution_count": null,
   "metadata": {},
   "outputs": [],
   "source": [
    "# 대소문자 확인\n",
    "st = \"apple,banana,mango\"\n",
    "print(st.isupper())\n",
    "print(st.islower())"
   ]
  },
  {
   "cell_type": "code",
   "execution_count": null,
   "metadata": {},
   "outputs": [],
   "source": [
    "# 알파벳인지 확인\n",
    "print(st.isalpha())"
   ]
  },
  {
   "cell_type": "code",
   "execution_count": null,
   "metadata": {},
   "outputs": [],
   "source": [
    "print(st.count('a'))"
   ]
  },
  {
   "cell_type": "code",
   "execution_count": null,
   "metadata": {},
   "outputs": [],
   "source": [
    "# join: 합치기\n",
    "st = ['a', 'p', 'p', 'l', 'e']\n",
    "st2 = ''.join(st)\n",
    "print(st2)"
   ]
  },
  {
   "cell_type": "code",
   "execution_count": null,
   "metadata": {},
   "outputs": [],
   "source": [
    "# ,를 넣어서 합치기 (리스트를 합칠 때, 구분자를 앞에서 넣을 수 있다.)\n",
    "# 몰랐던 것\n",
    "st3 = ','.join(st)\n",
    "print(st3)"
   ]
  },
  {
   "cell_type": "code",
   "execution_count": null,
   "metadata": {},
   "outputs": [],
   "source": [
    "st = [\"apple\", \"banana\", \"mango\"]\n",
    "st2 = '-'.join(st)\n",
    "print(st2)"
   ]
  },
  {
   "cell_type": "code",
   "execution_count": null,
   "metadata": {},
   "outputs": [],
   "source": [
    "# 모두 대문자로 바꾸기\n",
    "# 모두 소문자로 바꾸기\n",
    "\n",
    "st = 'apple'\n",
    "st2 = st.upper()\n",
    "print(st, st2)"
   ]
  },
  {
   "cell_type": "code",
   "execution_count": null,
   "metadata": {},
   "outputs": [],
   "source": [
    "st3 = st2.lower()\n",
    "print(st, st2, st3)"
   ]
  },
  {
   "cell_type": "code",
   "execution_count": null,
   "metadata": {},
   "outputs": [],
   "source": [
    "# 공백지우기\n",
    "st = '  apple'\n",
    "st2 = st.lstrip()\n",
    "print(st, st2)"
   ]
  },
  {
   "cell_type": "code",
   "execution_count": null,
   "metadata": {},
   "outputs": [],
   "source": [
    "st = 'apple    '\n",
    "st2 = st.rstrip(st)\n",
    "print(st, st2)"
   ]
  },
  {
   "cell_type": "code",
   "execution_count": null,
   "metadata": {},
   "outputs": [],
   "source": [
    "st = '  apple   '\n",
    "print(st.strip())"
   ]
  },
  {
   "cell_type": "code",
   "execution_count": null,
   "metadata": {},
   "outputs": [],
   "source": [
    "# 교체 replace\n",
    "st = \"apple\"\n",
    "st3 = st.replace('ap', 'mp')\n",
    "print(st3)"
   ]
  },
  {
   "cell_type": "markdown",
   "metadata": {},
   "source": [
    "### 리스트 값 추가"
   ]
  },
  {
   "cell_type": "code",
   "execution_count": null,
   "metadata": {},
   "outputs": [],
   "source": [
    "lst = [\"apple\", \"banana\", \"mango\"]\n",
    "lst.append(\"orange\")\n",
    "print(lst)"
   ]
  },
  {
   "cell_type": "code",
   "execution_count": null,
   "metadata": {},
   "outputs": [],
   "source": [
    "lst.insert(1, \"orange\") # 리스트의 값을 중간에 추가할 때, 몰랐던 것\n",
    "print(lst)"
   ]
  },
  {
   "cell_type": "code",
   "execution_count": null,
   "metadata": {},
   "outputs": [],
   "source": [
    "# 선택 후 f2를 눌러서 교체할 수 있다.!! 몰랐던 것\n",
    "st1 = [1, 2, 3]\n",
    "st2 = [4, 5]\n",
    "st3 = st1 + st2 # extend와 같은 효과, 조금 다르다.\n",
    "st1.extend(st2) \n",
    "\n",
    "print(st3, st1)"
   ]
  },
  {
   "cell_type": "code",
   "execution_count": null,
   "metadata": {},
   "outputs": [],
   "source": [
    "# 리스트 값 지우기\n",
    "st = [1, 2, 3]\n",
    "st.pop() # 맨 뒤에 제거\n",
    "print(st)"
   ]
  },
  {
   "cell_type": "code",
   "execution_count": null,
   "metadata": {},
   "outputs": [],
   "source": [
    "st = [1, 2, 3, 4, 1, 2, 3, 4]\n",
    "st.remove(4) # 처음 걸리는 것을 지운다.\n",
    "print(st)"
   ]
  },
  {
   "cell_type": "code",
   "execution_count": null,
   "metadata": {},
   "outputs": [],
   "source": [
    "st = [1, 2, 3, 4, 1, 2, 3, 4]\n",
    "del st[3:]\n",
    "\n",
    "print(st)"
   ]
  },
  {
   "cell_type": "code",
   "execution_count": null,
   "metadata": {},
   "outputs": [],
   "source": [
    "st = [1, 2, 3, 4, 1, 2, 3, 4]\n",
    "st.reverse()\n",
    "print(st)"
   ]
  },
  {
   "cell_type": "code",
   "execution_count": null,
   "metadata": {},
   "outputs": [],
   "source": [
    "st = [1, 2, 3, 4, 1, 2, 3, 4]\n",
    "print(st[::-1])"
   ]
  },
  {
   "cell_type": "code",
   "execution_count": null,
   "metadata": {},
   "outputs": [],
   "source": [
    "# sort, 오름차순이 default\n",
    "\n",
    "a1 = [6, 3, 9]\n",
    "print(a1, sorted(a1))"
   ]
  },
  {
   "cell_type": "code",
   "execution_count": null,
   "metadata": {},
   "outputs": [],
   "source": [
    "a1 = [6, 3, 9]\n",
    "a1.sort()\n",
    "print(a1)"
   ]
  },
  {
   "cell_type": "code",
   "execution_count": null,
   "metadata": {},
   "outputs": [],
   "source": [
    "a1 = [6, 3, 9]\n",
    "a1.sort(reverse = True)\n",
    "print(a1)"
   ]
  },
  {
   "cell_type": "code",
   "execution_count": null,
   "metadata": {},
   "outputs": [],
   "source": [
    "a1 = [6, 3, 9]\n",
    "ret = sorted(a1, reverse = True)\n",
    "print(a1, ret)"
   ]
  },
  {
   "attachments": {},
   "cell_type": "markdown",
   "metadata": {},
   "source": [
    "### lambda를 이용한 sort"
   ]
  },
  {
   "cell_type": "code",
   "execution_count": 28,
   "metadata": {},
   "outputs": [
    {
     "name": "stdout",
     "output_type": "stream",
     "text": [
      "[0, 1, 2, 3, 4, 5, 6, 7, 8, 9]\n",
      "[0, 1, 2, 3, 4, 5, 6, 7, 8, 9]\n"
     ]
    }
   ],
   "source": [
    "lst = list(range(10))\n",
    "print(lst)\n",
    "ret = sorted(lst, key = lambda x:x)\n",
    "print(ret)"
   ]
  },
  {
   "cell_type": "code",
   "execution_count": 29,
   "metadata": {},
   "outputs": [
    {
     "name": "stdout",
     "output_type": "stream",
     "text": [
      "[0, 1, 2, 3, 4, 5, 6, 7, 8, 9]\n",
      "[9, 8, 7, 6, 5, 4, 3, 2, 1, 0]\n"
     ]
    }
   ],
   "source": [
    "lst = list(range(10))\n",
    "print(lst)\n",
    "ret = sorted(lst, key = lambda x:-x)\n",
    "print(ret)"
   ]
  },
  {
   "cell_type": "code",
   "execution_count": 30,
   "metadata": {},
   "outputs": [
    {
     "name": "stdout",
     "output_type": "stream",
     "text": [
      "[1, 2, 0]\n"
     ]
    }
   ],
   "source": [
    "a = [3, 1, 2]\n",
    "\n",
    "indices = sorted(\n",
    "    range(len(a)),\n",
    "    key=lambda index: a[index]\n",
    ")\n",
    "\n",
    "print(indices)"
   ]
  },
  {
   "cell_type": "code",
   "execution_count": 31,
   "metadata": {},
   "outputs": [
    {
     "name": "stdout",
     "output_type": "stream",
     "text": [
      "[(2, 'apple'), (3, 'banana'), (1, 'carrot')]\n"
     ]
    }
   ],
   "source": [
    "lst = [(3, \"banana\"), (2, \"apple\"), (1, \"carrot\")]\n",
    "ret = sorted(lst, key = lambda x:x[1])\n",
    "print(ret)"
   ]
  },
  {
   "cell_type": "code",
   "execution_count": 32,
   "metadata": {},
   "outputs": [
    {
     "name": "stdout",
     "output_type": "stream",
     "text": [
      "[(1, 'carrot'), (2, 'apple'), (3, 'banana')]\n"
     ]
    }
   ],
   "source": [
    "lst = [(3, \"banana\"), (2, \"apple\"), (1, \"carrot\")]\n",
    "ret = sorted(lst, key = lambda x: x[0])\n",
    "print(ret)"
   ]
  },
  {
   "cell_type": "code",
   "execution_count": 33,
   "metadata": {},
   "outputs": [],
   "source": [
    "lst = [(3, \"banana\"), (2, \"apple\"), (1, \"carrot\")]\n",
    "ret = sorted(lst, key = lambda x: x[1], reverse = True) # 내림차순!! 문자 숫자 둘 다 잘 작동\n",
    "ret = sorted(lst, key = lambda x:-x[0]) # 숫자만 가능하다. (문자는 정렬 안됨)"
   ]
  },
  {
   "cell_type": "code",
   "execution_count": 35,
   "metadata": {},
   "outputs": [
    {
     "name": "stdout",
     "output_type": "stream",
     "text": [
      "['a', 'a', 'b', 'd', 'f', 'f', 'f', 'h', 'i', 'o', 'o', 's', 's'] ['s', 's', 'o', 'o', 'i', 'h', 'f', 'f', 'f', 'd', 'b', 'a', 'a']\n"
     ]
    }
   ],
   "source": [
    "lst  = 'sadiobsfoahff'\n",
    "ret = sorted(lst)\n",
    "ret2 = sorted(lst, reverse = True)\n",
    "print(ret, ret2)"
   ]
  },
  {
   "cell_type": "markdown",
   "metadata": {},
   "source": [
    "### 딕셔너리"
   ]
  },
  {
   "cell_type": "code",
   "execution_count": 36,
   "metadata": {},
   "outputs": [
    {
     "name": "stdout",
     "output_type": "stream",
     "text": [
      "{'kevin': 1, 'john': 2, 'bob': 3, 'kate': 4}\n"
     ]
    }
   ],
   "source": [
    "dict1 = {'kevin':1, 'john':2, 'bob': 3}\n",
    "dict1['kate'] = 4\n",
    "\n",
    "print(dict1)"
   ]
  },
  {
   "cell_type": "code",
   "execution_count": 37,
   "metadata": {},
   "outputs": [
    {
     "name": "stdout",
     "output_type": "stream",
     "text": [
      "{'kevin': 11, 'john': 2, 'bob': 3, 'kate': 4}\n"
     ]
    }
   ],
   "source": [
    "dict1['kevin'] = 11\n",
    "print(dict1)"
   ]
  },
  {
   "cell_type": "code",
   "execution_count": 38,
   "metadata": {},
   "outputs": [
    {
     "name": "stdout",
     "output_type": "stream",
     "text": [
      "{'kevin': 11, 'john': 2, 'bob': 3}\n"
     ]
    }
   ],
   "source": [
    "del dict1['kate']\n",
    "print(dict1)"
   ]
  },
  {
   "cell_type": "code",
   "execution_count": 39,
   "metadata": {},
   "outputs": [
    {
     "name": "stdout",
     "output_type": "stream",
     "text": [
      "['kevin', 'john', 'bob']\n"
     ]
    }
   ],
   "source": [
    "lst = list(dict1.keys())\n",
    "print(lst)"
   ]
  },
  {
   "cell_type": "code",
   "execution_count": 40,
   "metadata": {},
   "outputs": [
    {
     "name": "stdout",
     "output_type": "stream",
     "text": [
      "[11, 2, 3]\n"
     ]
    }
   ],
   "source": [
    "lst = list(dict1.values())\n",
    "print(lst)"
   ]
  },
  {
   "cell_type": "code",
   "execution_count": 41,
   "metadata": {},
   "outputs": [
    {
     "name": "stdout",
     "output_type": "stream",
     "text": [
      "[('kevin', 11), ('john', 2), ('bob', 3)]\n"
     ]
    }
   ],
   "source": [
    "lst = list(dict1.items()) # 튜플의 형태로 반환\n",
    "print(lst)"
   ]
  },
  {
   "cell_type": "code",
   "execution_count": 42,
   "metadata": {},
   "outputs": [
    {
     "name": "stdout",
     "output_type": "stream",
     "text": [
      "None\n"
     ]
    }
   ],
   "source": [
    "# 딕셔너리 값 출력\n",
    "dict1 = {'kevin':1, 'john':2, 'bob': [1, 2, 3]}\n",
    "print(dict1.get('kevv'))"
   ]
  },
  {
   "cell_type": "code",
   "execution_count": 43,
   "metadata": {},
   "outputs": [
    {
     "name": "stdout",
     "output_type": "stream",
     "text": [
      "1\n"
     ]
    }
   ],
   "source": [
    "print(dict1.get('kevin'))"
   ]
  },
  {
   "cell_type": "code",
   "execution_count": 44,
   "metadata": {},
   "outputs": [
    {
     "name": "stdout",
     "output_type": "stream",
     "text": [
      "없는 값을 얻으려고 할 때 None 대신에 나와\n"
     ]
    }
   ],
   "source": [
    "print(dict1.get('kev', \"없는 값을 얻으려고 할 때 None 대신에 나와\"))"
   ]
  },
  {
   "cell_type": "code",
   "execution_count": 45,
   "metadata": {},
   "outputs": [
    {
     "name": "stdout",
     "output_type": "stream",
     "text": [
      "{'john': 22, 'kevin': 27, 'bob': 35}\n"
     ]
    }
   ],
   "source": [
    "# 딕셔너리 값 정렬하기\n",
    "dict1 = {'kevin':27, 'john':22, 'bob': 35}\n",
    "# 나이가 적은 순으로 (오름차순)으로 딕셔너리 정렬하기\n",
    "\n",
    "ret = dict(sorted(dict1.items(), key = lambda x: x[1])) # 튜플의 나이를 기준으로 정렬\n",
    "print(ret)"
   ]
  },
  {
   "attachments": {},
   "cell_type": "markdown",
   "metadata": {},
   "source": [
    "### deep, shallow copy"
   ]
  },
  {
   "cell_type": "code",
   "execution_count": 46,
   "metadata": {},
   "outputs": [
    {
     "name": "stdout",
     "output_type": "stream",
     "text": [
      "5\n"
     ]
    }
   ],
   "source": [
    "a = 5\n",
    "b = a\n",
    "\n",
    "print(b)"
   ]
  },
  {
   "cell_type": "code",
   "execution_count": 47,
   "metadata": {},
   "outputs": [
    {
     "name": "stdout",
     "output_type": "stream",
     "text": [
      "100 2 3\n"
     ]
    }
   ],
   "source": [
    "# ??? shallow copy\n",
    "lst = [1, 2, 3]\n",
    "lst2 = lst\n",
    "lst[0] = 100\n",
    "print(*lst2)"
   ]
  },
  {
   "cell_type": "code",
   "execution_count": 48,
   "metadata": {},
   "outputs": [
    {
     "name": "stdout",
     "output_type": "stream",
     "text": [
      "[1, 2, 3]\n"
     ]
    }
   ],
   "source": [
    "lst = [1, 2, 3]\n",
    "lst2 = lst.copy() # shallow\n",
    "lst[0] = 100\n",
    "print(lst2)"
   ]
  },
  {
   "cell_type": "code",
   "execution_count": 49,
   "metadata": {},
   "outputs": [
    {
     "name": "stdout",
     "output_type": "stream",
     "text": [
      "[1, 2, 3]\n"
     ]
    }
   ],
   "source": [
    "lst = [1, 2, 3]\n",
    "lst2 = lst[:] # shallow\n",
    "lst[0] = 100\n",
    "print(lst2)"
   ]
  },
  {
   "cell_type": "code",
   "execution_count": 50,
   "metadata": {},
   "outputs": [
    {
     "name": "stdout",
     "output_type": "stream",
     "text": [
      "[[100, 2], [3, 4]]\n"
     ]
    }
   ],
   "source": [
    "# 최종적으로 가리키는 값이 같기 때문에 문제가 발생한다.\n",
    "lst = [[1, 2], [3, 4]]\n",
    "lst2 = lst[:]\n",
    "lst[0][0] = 100\n",
    "print(lst2)"
   ]
  },
  {
   "attachments": {},
   "cell_type": "markdown",
   "metadata": {},
   "source": [
    "#### 깊은 복사"
   ]
  },
  {
   "cell_type": "code",
   "execution_count": 51,
   "metadata": {},
   "outputs": [
    {
     "name": "stdout",
     "output_type": "stream",
     "text": [
      "[[1, 2], [3, 4]]\n"
     ]
    }
   ],
   "source": [
    "import copy\n",
    "lst = [[1, 2], [3, 4]]\n",
    "lst2 = copy.deepcopy(lst)\n",
    "lst[0][0] = 100\n",
    "print(lst2)"
   ]
  },
  {
   "cell_type": "code",
   "execution_count": 52,
   "metadata": {},
   "outputs": [
    {
     "name": "stdout",
     "output_type": "stream",
     "text": [
      "1293944898496 1293944963456\n"
     ]
    }
   ],
   "source": [
    "print(id(lst), id(lst2))"
   ]
  },
  {
   "cell_type": "code",
   "execution_count": 53,
   "metadata": {},
   "outputs": [
    {
     "name": "stdout",
     "output_type": "stream",
     "text": [
      "1293862857136 1293862857136\n"
     ]
    }
   ],
   "source": [
    "a = 5\n",
    "b = 5\n",
    "print(id(a), id(b))"
   ]
  },
  {
   "cell_type": "code",
   "execution_count": 54,
   "metadata": {},
   "outputs": [
    {
     "name": "stdout",
     "output_type": "stream",
     "text": [
      "1293945119680 1293945119680\n"
     ]
    }
   ],
   "source": [
    "lst = [1, 2, 3]\n",
    "lst2 = lst\n",
    "print(id(lst), id(lst2))"
   ]
  },
  {
   "cell_type": "code",
   "execution_count": 55,
   "metadata": {},
   "outputs": [
    {
     "name": "stdout",
     "output_type": "stream",
     "text": [
      "1293944854208 1293945111744\n"
     ]
    }
   ],
   "source": [
    "lst = [[1, 2], [3, 4]]\n",
    "lst2 = lst[:]\n",
    "\n",
    "print(id(lst), id(lst2)) # 다르다."
   ]
  },
  {
   "cell_type": "code",
   "execution_count": 56,
   "metadata": {},
   "outputs": [
    {
     "name": "stdout",
     "output_type": "stream",
     "text": [
      "1293944898496 1293944898496\n"
     ]
    }
   ],
   "source": [
    "print(id(lst[0]), id(lst2[0])) # 같다."
   ]
  },
  {
   "cell_type": "code",
   "execution_count": 57,
   "metadata": {},
   "outputs": [
    {
     "name": "stdout",
     "output_type": "stream",
     "text": [
      "1293945112640 1293944863360\n"
     ]
    }
   ],
   "source": [
    "import copy\n",
    "lst = [[1, 2], [3, 4]]\n",
    "lst2 = copy.deepcopy(lst)\n",
    "\n",
    "print(id(lst[0]), id(lst2[0]))"
   ]
  },
  {
   "attachments": {},
   "cell_type": "markdown",
   "metadata": {},
   "source": [
    "# 4일차"
   ]
  },
  {
   "attachments": {},
   "cell_type": "markdown",
   "metadata": {},
   "source": [
    "- zip(*iterables) : 복수의 iterables를 모아 튜플을 원소로 하는 zip object를 반환  \n",
    "- recursion error : 약 1000 번 이상의 반복이 되면 멈추게 만든다."
   ]
  },
  {
   "attachments": {},
   "cell_type": "markdown",
   "metadata": {},
   "source": [
    "재귀함수는 1개 이상의 base case (종료되는 상황)가 존재하고, 수렴하도록 작성  \n",
    "재귀함수는 로직을 간단하게 표현하며, 변수의 사용이 적어진다는 장점이 있다.  "
   ]
  },
  {
   "attachments": {},
   "cell_type": "markdown",
   "metadata": {},
   "source": [
    "### 패킹, 언패킹 연산자 *"
   ]
  },
  {
   "cell_type": "code",
   "execution_count": 58,
   "metadata": {},
   "outputs": [],
   "source": [
    "x, y = 1, 2\n",
    "z = 1, 2, 3 # 튜플\n",
    "# a, b = 1, 2, 3, 4 # 에러 발생"
   ]
  },
  {
   "cell_type": "code",
   "execution_count": 59,
   "metadata": {},
   "outputs": [
    {
     "name": "stdout",
     "output_type": "stream",
     "text": [
      "1 [2, 3, 4]\n"
     ]
    }
   ],
   "source": [
    "a, *b = 1, 2, 3, 4\n",
    "print(a, b)"
   ]
  },
  {
   "cell_type": "code",
   "execution_count": 60,
   "metadata": {},
   "outputs": [
    {
     "name": "stdout",
     "output_type": "stream",
     "text": [
      "60\n"
     ]
    }
   ],
   "source": [
    "def my_sum(a, b, c):\n",
    "    return a + b + c\n",
    "\n",
    "num_list = [10, 20, 30]\n",
    "rlt = my_sum(*num_list)\n",
    "print(rlt)"
   ]
  },
  {
   "cell_type": "code",
   "execution_count": 61,
   "metadata": {},
   "outputs": [
    {
     "name": "stdout",
     "output_type": "stream",
     "text": [
      "5\n"
     ]
    }
   ],
   "source": [
    "# 가변인자를 활용할 수 있다.\n",
    "def my_sum(a, *args):\n",
    "    rlt = 0\n",
    "    for value in args:\n",
    "        rlt += value\n",
    "    return rlt\n",
    "\n",
    "# print(my_sum()) # 에러발생\n",
    "print(my_sum(1, 2, 3))"
   ]
  },
  {
   "cell_type": "code",
   "execution_count": 62,
   "metadata": {},
   "outputs": [
    {
     "name": "stdout",
     "output_type": "stream",
     "text": [
      "{'a': 1, 'b': 2, 'c': 3}\n"
     ]
    },
    {
     "data": {
      "text/plain": [
       "{'a': 1, 'b': 2, 'c': 3}"
      ]
     },
     "execution_count": 62,
     "metadata": {},
     "output_type": "execute_result"
    }
   ],
   "source": [
    "def test(**kwargs): # 두 개를 쓰면 키워드로 넣는 것을 반영한다, 딕셔너리\n",
    "    print(kwargs)\n",
    "    return kwargs\n",
    "\n",
    "test(a = 1, b = 2, c = 3)"
   ]
  },
  {
   "cell_type": "code",
   "execution_count": 63,
   "metadata": {},
   "outputs": [
    {
     "name": "stdout",
     "output_type": "stream",
     "text": [
      "1 2 3 /\n",
      "a b c "
     ]
    }
   ],
   "source": [
    "def test(*args, **kwargs):\n",
    "    for arg in args:\n",
    "        print(arg, end = \" \")\n",
    "    print(\"/\")\n",
    "    for kwarg in kwargs:\n",
    "        print(kwarg, end = \" \")\n",
    "test(1, 2, 3, a = 4, b = 5, c = 6)"
   ]
  },
  {
   "cell_type": "code",
   "execution_count": 64,
   "metadata": {},
   "outputs": [
    {
     "name": "stdout",
     "output_type": "stream",
     "text": [
      "아버지 : 아부지\n",
      "어머니 : 어무이\n",
      "dog : 멍멍이\n",
      "cat : 냥냥이\n"
     ]
    }
   ],
   "source": [
    "def print_faimily_name(father, mother, **pets):\n",
    "    print(\"아버지 :\", father)\n",
    "    print(\"어머니 :\", mother)\n",
    "    if pets: # 애완동물이 있다면\n",
    "        for species, name in pets.items():\n",
    "            print(f\"{species} : {name}\")\n",
    "\n",
    "print_faimily_name(\"아부지\", \"어무이\", dog = \"멍멍이\", cat = \"냥냥이\")\n"
   ]
  },
  {
   "attachments": {},
   "cell_type": "markdown",
   "metadata": {},
   "source": [
    "### PIP : 파이썬 패키지 관리자  \n",
    "\n",
    "- $ pip install SomePackage  \n",
    "- $ pip install SomePackage == 1.0.5   \n",
    "- $ pip install SomePackage == 1.0.4   \n",
    "- $ pip uninstall SomePackage\n",
    "- $ pip list: 패키지 목록\n",
    "- $ pip show SomePackage  \n",
    "- $ pip freeze > requirements.txt: 사용하고 있는 패키지를 기록\n",
    "- $ pip install -r requirements.txt: 사용하려는 패키지를 인스톨"
   ]
  },
  {
   "cell_type": "code",
   "execution_count": null,
   "metadata": {},
   "outputs": [],
   "source": [
    "st = \"<div>오늘은 기분이 좋아</div>\"\n",
    "st = st[5:-6]\n",
    "print(st)"
   ]
  },
  {
   "cell_type": "code",
   "execution_count": null,
   "metadata": {},
   "outputs": [],
   "source": [
    "st = \"<div>오늘은 기분이 좋아</div>\"\n",
    "st = st[st.find('>') + 1:st.find('<', 1)]\n",
    "print(st)"
   ]
  },
  {
   "cell_type": "code",
   "execution_count": null,
   "metadata": {},
   "outputs": [],
   "source": [
    "str_lst = input().lower().split() # 소문자로 입력받기\n",
    "print(str_lst)"
   ]
  },
  {
   "attachments": {},
   "cell_type": "markdown",
   "metadata": {},
   "source": [
    "### 스트링 정렬"
   ]
  },
  {
   "cell_type": "code",
   "execution_count": 65,
   "metadata": {},
   "outputs": [
    {
     "name": "stdout",
     "output_type": "stream",
     "text": [
      "Juseong의 키는 173cm이며 몸무게는 70kg 입니다.\n",
      "Juseong의 키는 173cm이며 몸무게는 70.0kg 입니다.\n",
      "Juseong의 키는 173cm이며 몸무게는 70.000000kg 입니다.\n"
     ]
    }
   ],
   "source": [
    "name = \"Juseong\"\n",
    "height = 173\n",
    "weight = 70\n",
    "\n",
    "print(f\"{name}의 키는 {height}cm이며 몸무게는 {weight}kg 입니다.\")\n",
    "print(f\"{name}의 키는 {height}cm이며 몸무게는 {weight:.1f}kg 입니다.\")\n",
    "print(f\"{name}의 키는 {height}cm이며 몸무게는 {weight:f}kg 입니다.\")\n"
   ]
  },
  {
   "cell_type": "code",
   "execution_count": 66,
   "metadata": {},
   "outputs": [
    {
     "name": "stdout",
     "output_type": "stream",
     "text": [
      "내 이름은 Juseong입니다.\n",
      "내 이름은Juseong 입니다.\n",
      "내 이름은 Juseong 입니다.\n",
      "내 이름은Juseong 입니다.\n"
     ]
    }
   ],
   "source": [
    "print(f\"내 이름은{name:>8}입니다.\")#오른쪽 정렬\n",
    "print(f\"내 이름은{name:<8}입니다.\")#왼쪽 정렬\n",
    "print(f\"내 이름은{name:^9}입니다.\")#가운데 정렬\n",
    "print(f\"내 이름은{name:8}입니다.\")#왼쪽 정렬이 default (문자-왼쪽)\n",
    "# print(f\"내 이름은{name:-8}입니다.\")# 정렬이 되지 않는다."
   ]
  },
  {
   "cell_type": "code",
   "execution_count": null,
   "metadata": {},
   "outputs": [],
   "source": [
    "# 정수값 정렬\n",
    "print(f\"키는{height}입니다.\")\n",
    "print(f\"키는{height:>8}입니다.\")\n",
    "print(f\"키는{height:<8}입니다.\")\n",
    "print(f\"키는{height:^8}입니다.\")\n",
    "print(f\"키는{height:8}입니다.\") #부호가 없는 정렬은 오른쪽 정렬이 디폴트(숫자-오른쪽)"
   ]
  },
  {
   "cell_type": "code",
   "execution_count": 67,
   "metadata": {},
   "outputs": [
    {
     "name": "stdout",
     "output_type": "stream",
     "text": [
      "키는 1,000,000입니다.\n"
     ]
    }
   ],
   "source": [
    "height = 10**6\n",
    "print(f\"키는{height:>10,}입니다.\") # ,으로 1000단위를 구분해준다."
   ]
  },
  {
   "cell_type": "code",
   "execution_count": 68,
   "metadata": {},
   "outputs": [
    {
     "name": "stdout",
     "output_type": "stream",
     "text": [
      "스테이크  50,000  \n",
      "+VAT  7,500   \n",
      "총계 ￦  57,500  \n"
     ]
    }
   ],
   "source": [
    "steak = 50000\n",
    "VAT = int(steak * 0.15)\n",
    "\n",
    "print(f\"스테이크  {steak:<8,}\")\n",
    "print(f\"+VAT  {VAT:<8,}\")\n",
    "print(f\"총계 ￦  {steak + VAT:<8,}\")\n"
   ]
  },
  {
   "cell_type": "code",
   "execution_count": null,
   "metadata": {},
   "outputs": [
    {
     "data": {
      "text/plain": [
       "0"
      ]
     },
     "metadata": {},
     "output_type": "display_data"
    }
   ],
   "source": [
    "dic = {'a': 1, 'b': 2, 'c': 3}\n",
    "dic.get('d', 0) # 없다면 0 출력"
   ]
  },
  {
   "cell_type": "code",
   "execution_count": null,
   "metadata": {},
   "outputs": [
    {
     "name": "stdout",
     "output_type": "stream",
     "text": [
      "0\n",
      "1\n"
     ]
    }
   ],
   "source": [
    "print(dic.get('d', 0))\n",
    "print(dic.get('a', 0))"
   ]
  },
  {
   "attachments": {},
   "cell_type": "markdown",
   "metadata": {},
   "source": [
    "# 5일차"
   ]
  },
  {
   "attachments": {},
   "cell_type": "markdown",
   "metadata": {},
   "source": [
    "### 관통 프로젝트  \n",
    "- 매주 금요일에 진행되는 All Day 프로젝트  \n",
    "- 한 주 동안 배운 것을 모두 활용해서 직접 프로젝트에 적용하는 시간  \n",
    "- Python, Web, Database, Django, Vue까지 프로그램들을 모두 활용하는 법을 배운다.  \n"
   ]
  },
  {
   "attachments": {},
   "cell_type": "markdown",
   "metadata": {},
   "source": [
    "### 개발자로 가는 길  \n",
    "- 알고리즘  \n",
    "1. 전략적인 접근  \n",
    "2. 자주 나오는 개념 학습  \n",
    "3. 난이도 별 문제풀이  \n",
    "4. 일단 \"양\"을 늘리세요, \"질\"은 따라옵니다. (양치기)  \n",
    "5. 코딩테스트 경험\n",
    "- 프로젝트  \n",
    "1. 매력적인 나만의 서비스 만들기 X  \n",
    "2. 기술을 활용할 수 있음  \n",
    "3. 현업에서 원하는 기술  \n",
    "4. 협업할 수 있는 인재  \n",
    "5. 문제 해결 능력 어필 (문서화)  \n",
    "6. 공식문서를 가지고 해결하려는 노력을 해야한다. (취업을 위해서)  \n",
    " \n",
    "- 컴퓨터 과학  \n",
    "1. '시나브로'의 힘(나도 모르는 사이에)  \n",
    "2. 혼자가 아닌 같이  \n",
    "3. 스터디 적극 권장  \n",
    "4. 책 / 유튜브 / 블로그 (자료가 없어서 못한다는 것은..)  \n",
    "5. 선택이 아닌 필수 (면접)  "
   ]
  },
  {
   "attachments": {},
   "cell_type": "markdown",
   "metadata": {},
   "source": [
    "### 명세서 구조  \n",
    "- 목표  \n",
    "- 준비사항 - 프로그래밍 언어, 라이브러리, 외부 데이터 등  \n",
    "- 요구사항 - 제시된 요구사항에 맞춰서 개발 진행  \n",
    "  - 필수 요구사항  \n",
    "  - 선택 요구사항  \n",
    "- 제출  \n",
    "\n",
    "<strong>요구 사항을 분석하고, 구현할 수 있는 능력을 키우자</strong>"
   ]
  },
  {
   "attachments": {},
   "cell_type": "markdown",
   "metadata": {},
   "source": [
    "### json"
   ]
  },
  {
   "cell_type": "code",
   "execution_count": 1,
   "metadata": {},
   "outputs": [],
   "source": [
    "# json.load(): json 형식의 파일을 파이썬 객체로 바꾸는 함수 (디코딩) \n",
    "# json.loads(): json 형식의 문자열을 읽어 들이는 함수\n",
    "# json.dump(): 파이썬 객체를 json형식의 데이터로 바꾸는 것 (인코딩이라 부름)"
   ]
  },
  {
   "attachments": {},
   "cell_type": "markdown",
   "metadata": {},
   "source": [
    "# 6일차"
   ]
  },
  {
   "attachments": {},
   "cell_type": "markdown",
   "metadata": {},
   "source": [
    "### 데이터 구조"
   ]
  },
  {
   "attachments": {},
   "cell_type": "markdown",
   "metadata": {},
   "source": [
    "- 자료구조 (데이터 구조와 연산이 중요)\n",
    "  - 각 데이터의 효율적인 저장, 관리를 위한 구조를 나눠 놓은 것\n",
    "  - 순서, 순서가 없는 자료 구조가 있다. (리스트, 그래프)"
   ]
  },
  {
   "cell_type": "markdown",
   "metadata": {},
   "source": [
    "### 순서가 있는 자료형"
   ]
  },
  {
   "attachments": {},
   "cell_type": "markdown",
   "metadata": {},
   "source": [
    "표현 | 의미\n",
    "---|:---:|\n",
    "s.find(x)| x의 첫 번째 위치를 반환. 없으면, -1을 반환  \n",
    "s.index(x)| x의 첫 번째 위치를 반환. 없으며, 오류 발생  \n",
    "s.isalpha()| 알파벳 문자 여부  \n",
    "s.isupper()| 대문자 여부  \n",
    "s.islower()| 소문자 여부  \n",
    "s.istitle()| 타이틀 형식 여부  "
   ]
  },
  {
   "attachments": {},
   "cell_type": "markdown",
   "metadata": {},
   "source": [
    "isdecimal() <= isdigit() <= isnumeric()"
   ]
  },
  {
   "attachments": {},
   "cell_type": "markdown",
   "metadata": {},
   "source": [
    "표현 | 의미\n",
    "---|:---:|\n",
    "s.replace(old, new) | 바꿀 대상 글자를 새로운 글자로 바꿔서 변환\n",
    "s.strip([char]) | 공백이나 특정 문자를 제거\n",
    "s.split(sep = None, maxsplit = -1) | 공백이나 특정 문자를 기준으로 분리\n",
    "'sep'.join([iterable]) | 구분자로 iterable을 합침\n",
    "s.captialize() | 가장 첫 번째 글자를 대문자로 변경\n",
    "s.title() | 문자열 내 띄어쓰기 기준으로 각 단어의 첫글자는 대문자로, 나머지는 소문자로\n",
    "s.upper() | 모두 대문자로 변경\n",
    "s.lower() | 모두 소문자로 변경\n",
    "s.swapcase() | 대 소문자 서로 변경"
   ]
  },
  {
   "attachments": {},
   "cell_type": "markdown",
   "metadata": {},
   "source": [
    "문자열은 immutable(불변형)인데 문자열 변경이 되는 이유  \n",
    "기존의 문자열을 변경하는 게 아니라, 변경된 문자열을 새롭게 만들어서 반환  \n",
    "ex) replace, strip, title"
   ]
  },
  {
   "attachments": {},
   "cell_type": "markdown",
   "metadata": {},
   "source": [
    "### 리스트"
   ]
  },
  {
   "attachments": {},
   "cell_type": "markdown",
   "metadata": {},
   "source": [
    "- 순서가 있는 구조로 저장하고 싶을 때 사용"
   ]
  },
  {
   "attachments": {},
   "cell_type": "markdown",
   "metadata": {},
   "source": [
    "- 리스트는 대괄호([]) 혹은 list()를 통해 생성  \n",
    "    - 파이썬에서는 어떠한 자료형을 저장, 리스트를 리스트 안에 넣을 수 있음  \n",
    "    - 생성된 이후 내용 변경 가능 -> 가변형 자료형\n",
    "    - 유연성 때문에 파이썬에서 가장 흔히 사용   \n",
    "\n",
    "&nbsp;\n",
    "\n",
    "- 순서가 있는 시퀀스로 인덱스를 통해 접근 가능  "
   ]
  },
  {
   "attachments": {},
   "cell_type": "markdown",
   "metadata": {},
   "source": [
    "append(x), isert(i, x), remove(x), pop, pop(i),   \n",
    "extend(m), index(x, start, end), reverse(), sort(), count(x)"
   ]
  },
  {
   "attachments": {},
   "cell_type": "markdown",
   "metadata": {},
   "source": [
    "### 튜플"
   ]
  },
  {
   "attachments": {},
   "cell_type": "markdown",
   "metadata": {},
   "source": [
    "- 여러 개의 값을 순서가 있는 구조로 저장하고 싶을 때 사용  \n",
    "- 리스트와의 차이점은 생성 후, 담고 있는 값 변경이 불가 (불변 자료형)"
   ]
  },
  {
   "cell_type": "markdown",
   "metadata": {},
   "source": [
    "튜플은 변경할 수 없기 때문에 값에 영향을 미치지 않는 메서드만 지원  \n",
    "리스트 메서드 중 항목을 변경하는 메서드를 제외하고 대부분 동일  "
   ]
  },
  {
   "attachments": {},
   "cell_type": "markdown",
   "metadata": {},
   "source": [
    "### 연산자"
   ]
  },
  {
   "attachments": {},
   "cell_type": "markdown",
   "metadata": {},
   "source": [
    "- 멤버십 연산자  \n",
    "    - in(): 특정 요소가 속해 있는지 여부를 확인  \n",
    "    - not in : in의 반대  \n",
    "\n",
    "- 시퀀스형 연산자\n",
    "    - +(산술연산자): 시퀀스 간의 연결/연쇄(concatenation) \n",
    "    - *(반복연산자): 시퀀스를 반복"
   ]
  },
  {
   "cell_type": "code",
   "execution_count": 4,
   "metadata": {},
   "outputs": [],
   "source": [
    "# 주어진 문자열에서 숫자, 문자, 기호가 각각 몇 개인지 판단하는 함수를 작성해보세요.\n",
    "\n",
    "def check(target_str):\n",
    "    dict1 = {\"문자\": 0, \"숫자\": 0, \"기호\": 0}\n",
    "\n",
    "    for i in target_str:\n",
    "        if (i.isalpha()):\n",
    "            dict1[\"문자\"] += 1\n",
    "        elif (i.isdigit()):\n",
    "            dict1[\"숫자\"] += 1\n",
    "        else:\n",
    "            dict1[\"기호\"] += 1\n",
    "    \n",
    "    print(dict1)\n",
    "\n",
    "# 문자: 10개, 숫자: 2개, 기호: 7개"
   ]
  },
  {
   "cell_type": "code",
   "execution_count": 5,
   "metadata": {},
   "outputs": [
    {
     "name": "stdout",
     "output_type": "stream",
     "text": [
      "{'문자': 4, '숫자': 3, '기호': 3}\n"
     ]
    }
   ],
   "source": [
    "check(\"asdf777!!!\")"
   ]
  },
  {
   "attachments": {},
   "cell_type": "markdown",
   "metadata": {},
   "source": [
    "# 7일차"
   ]
  },
  {
   "cell_type": "markdown",
   "metadata": {},
   "source": [
    "### 데이터 구조"
   ]
  },
  {
   "attachments": {},
   "cell_type": "markdown",
   "metadata": {},
   "source": [
    "- 데이터 구조\n",
    "    - 여러 데이터를 효과적으로 사용, 관리하기 위한 구조\n",
    "    - 파이썬에는 대표적으로 List, Tuple, Dict, Set 등의 데이터 구조가 있음"
   ]
  },
  {
   "attachments": {},
   "cell_type": "markdown",
   "metadata": {},
   "source": [
    "### Set  \n",
    "\n",
    "- 중복되는 요소가 없이, 순서에 상관없는 데이터들의 묶음\n",
    "    - 데이터의 중복을 허용하지 않기 때문에 중복되는 원소는 하나만 저장\n",
    "    - 순서가 없기 때문에 인덱스를 활용한 접근이 불가능\n",
    "\n",
    "&nbsp;\n",
    "\n",
    "- 수학에서 집합을 표현한 컨테이너\n",
    "    - 집합 연산이 가능 (여집합을 표현하는 연산자는 별도로 존재 X)\n",
    "    - 중복된 값이 존재하지 않음\n",
    "\n",
    "&nbsp;\n",
    "\n",
    "- 담고 있는 요소를 삽입, 변경, 삭제 가능 -> 가변 자료형 (mutable)"
   ]
  },
  {
   "attachments": {},
   "cell_type": "markdown",
   "metadata": {},
   "source": [
    "s.copy(), s.add(x), s.pop(), s.remove(x), s.discard(x), s.clear(),   \n",
    "s.update(t): 셋 t에 있는 모든 항목 중 셋 s에 없는 항목을 추가  \n",
    "s.isdisjoint(t): 셋 s가 셋 t의 서로 다른 같은 항목을 하나라도 갖고 있지 않는 경우, True반환 (서로소)  \n",
    "s.issubset(t): 셋 s가 셋 t의 하위 셋인 경우 True  \n",
    "s.issuperset(t): 셋 s가 t의 상위 셋인 경우, True  "
   ]
  },
  {
   "attachments": {},
   "cell_type": "markdown",
   "metadata": {},
   "source": [
    "### 딕셔너리"
   ]
  },
  {
   "attachments": {},
   "cell_type": "markdown",
   "metadata": {},
   "source": [
    "- 키-값 쌍으로 이뤄진 자료형\n",
    "- Dictionary의 키\n",
    "    - key는 변경 불가능한 데이터만 활용 가능\n",
    "        - string, integer, float, boolean, tuple, range\n",
    "- 각 키의 값 : 어떤 형태든 관계없음"
   ]
  },
  {
   "attachments": {},
   "cell_type": "markdown",
   "metadata": {},
   "source": [
    "뷰: 반복가능한 객체를 가르킨다."
   ]
  },
  {
   "attachments": {},
   "cell_type": "markdown",
   "metadata": {},
   "source": [
    "d.clear(), d.copy(), d.keys(), d.values(), d.items(), d.get(k), d.get(k, v)  \n",
    "d.pop(k): 키가 k인 값을 반환하고 키 k 항목을 제거, k가 없을 시 KeyError 발생  \n",
    "d.update(other): 딕셔너리 d의 값을 매핑하여 업데이트"
   ]
  },
  {
   "attachments": {},
   "cell_type": "markdown",
   "metadata": {},
   "source": [
    "주피터 함수 설명보기 ctrl + shift + spacebar"
   ]
  },
  {
   "cell_type": "code",
   "execution_count": 5,
   "metadata": {},
   "outputs": [
    {
     "name": "stdout",
     "output_type": "stream",
     "text": [
      "[11, 22, 33, 66]\n",
      "55\n"
     ]
    }
   ],
   "source": [
    "sample_list = [11, 22, 33, 55, 66]\n",
    "\n",
    "# 주어진 리스트의 3번 인덱스에 있는 항목을 제거하고 변수에 할당해 주세요.\n",
    "n = sample_list.pop(3)\n",
    "\n",
    "print(sample_list)\n",
    "print(n)"
   ]
  },
  {
   "cell_type": "code",
   "execution_count": 6,
   "metadata": {},
   "outputs": [
    {
     "name": "stdout",
     "output_type": "stream",
     "text": [
      "[11, 22, 33, 66, 77]\n"
     ]
    }
   ],
   "source": [
    "# 주어진 샘플 리스트에 77을 뒤에 추가\n",
    "sample_list.append(77)\n",
    "print(sample_list)"
   ]
  },
  {
   "cell_type": "code",
   "execution_count": 12,
   "metadata": {},
   "outputs": [
    {
     "name": "stdout",
     "output_type": "stream",
     "text": [
      "(44, 55)\n"
     ]
    }
   ],
   "source": [
    "my_tuple = (11, 22, 33, 44, 55, 66)\n",
    "new_tuple = my_tuple[3:5]\n",
    "\n",
    "print(new_tuple)\n"
   ]
  },
  {
   "attachments": {},
   "cell_type": "markdown",
   "metadata": {},
   "source": [
    "### 가상환경"
   ]
  },
  {
   "attachments": {},
   "cell_type": "markdown",
   "metadata": {},
   "source": [
    "- 특정 디렉토리에 가상환경을 만들고, 고유한 파이썬 패키지 집합을 가질 수 있음"
   ]
  },
  {
   "attachments": {},
   "cell_type": "markdown",
   "metadata": {},
   "source": [
    "cd pt1  \n",
    "python -m venv env1: 가상환경 생성  \n",
    "source venv/Scripts/activate: 활성화  \n",
    "pip install numpy  \n",
    "pip list  \n",
    "deactivate: 비활성화  \n",
    "\n",
    "pip install django"
   ]
  },
  {
   "attachments": {},
   "cell_type": "markdown",
   "metadata": {},
   "source": [
    "가상환경 파일은 강제로 옮기지 말 것, 디렉토리 설정이 다시 필요하다."
   ]
  },
  {
   "attachments": {},
   "cell_type": "markdown",
   "metadata": {},
   "source": [
    "### 파싱"
   ]
  },
  {
   "attachments": {},
   "cell_type": "markdown",
   "metadata": {},
   "source": [
    "- 문자열 구조 파악\n",
    "- 필요한 정보만 가져오는 것 "
   ]
  },
  {
   "attachments": {},
   "cell_type": "markdown",
   "metadata": {},
   "source": [
    "- find 메소드를 중점을 사용해보자"
   ]
  },
  {
   "cell_type": "code",
   "execution_count": 1,
   "metadata": {},
   "outputs": [],
   "source": [
    "# 함수에 파라미터로 *args를 썼다면 입력받아서는 어떻게 넣어야 할까?"
   ]
  },
  {
   "cell_type": "markdown",
   "metadata": {},
   "source": [
    "# 8일차"
   ]
  },
  {
   "attachments": {},
   "cell_type": "markdown",
   "metadata": {},
   "source": [
    "### OOP"
   ]
  },
  {
   "attachments": {},
   "cell_type": "markdown",
   "metadata": {},
   "source": [
    "- 객체 지향 프로그래밍(Object-Oriented Programming, OOP)\n",
    "    - 컴퓨터 프로그램을 명령어의 목록으로 보는 시각에서 벗어나(절차 지향 프로그래밍) 여러 개의 독립된 단위, 즉 \"객체\"들의 모임으로 파악하고자 하는 것\n",
    "    - 각각의 객체는 메시지를 주고받고, 데이터를 처리할 수 있다."
   ]
  },
  {
   "attachments": {},
   "cell_type": "markdown",
   "metadata": {},
   "source": [
    "- 절차 지향 프로그래밍\n",
    "    - 프로그램 전체가 유기적인 흐름으로 연결\n",
    "    - 기능 중심의 프로그램\n",
    "    - 순서가 정해져 있으므로 실행이 빠름\n",
    "\n",
    "\n",
    "    - 단점\n",
    "        - 하드웨어가 발점함에 따라 소프트웨어도 점점 커지고 복잡한 설계가 요구됨\n",
    "        - 하드웨어의 발전속도를 소프트웨어의 발전 속도가 따라가지 못함\n",
    "        - <strong>소프트웨어 위기</strong>\n",
    "\n",
    "\n",
    "    -  단점에 대한 대처\n",
    "        - 절차지향 방법론은 생산성이 너무 낮다.\n",
    "        - '절차 대신 핵심이 되는 '데이터'를 중심으로 생각하자.\n",
    "        - 데이터를 중심으로 절차를 도입해서, 현실의 사물을 나타내고 이런 것들을 조립하는 방식으로 개발하자. == OOP"
   ]
  },
  {
   "attachments": {},
   "cell_type": "markdown",
   "metadata": {},
   "source": [
    "- 객체 지향 프로그래밍이란\n",
    "    - 프로그램을 여러 개의 독립된 객체들과 그 객체 간의 상호작용으로 파악하는 프로그래밍 방법 (붕어빵들의 관계?)\n",
    "    - 데이터와 기능(메서드) 분리, 추상화된 구조(인터페이스)"
   ]
  },
  {
   "attachments": {},
   "cell_type": "markdown",
   "metadata": {},
   "source": [
    "- 객체 지향의 장점 / 단점\n",
    "    - 장점\n",
    "        - 객체는 잘 만들어 놓으면 계속해서 재사용이 가능!\n",
    "        - 객체는 그 자체로 데이터와 행동이 정의됨(독립적) == 개발자가 내부 구조를 몰라도 그냥 가져다가 다른 객체와 조립하면서 개발이 가능\n",
    "        - 객체 단위로 모듈화시켜 개발할 수 있으므로 많은 인원이 참여하는 대규모 소프트웨어 개발 가능\n",
    "        - <strong>개발 용이성, 유지 보수 편의성, 신뢰성을 바탕으로 생산성이 대폭 증가!</strong>\n",
    "    - 단점\n",
    "        - 설계 시 많은 노력과 시간이 필요함\n",
    "            - 다양한 객체들의 상호 작용 구조를 만들기 위해 많은 시간과 노력이 필요\n",
    "        - 실행 속도가 상대적으로 느림\n",
    "            - 절차 지향 프로그래밍이 컴퓨터의 처리구조와 비슷해서 실행 속도가 빠름"
   ]
  },
  {
   "attachments": {},
   "cell_type": "markdown",
   "metadata": {},
   "source": [
    "### OOP 기초"
   ]
  },
  {
   "attachments": {},
   "cell_type": "markdown",
   "metadata": {},
   "source": [
    "- 객체(컴퓨터 과학)\n",
    "    - 컴퓨터 과학에서 객체 또는 Object는 <strong>클래스에서 정의한 것을 토대로 메모리(실제 저장공간)에 할당된 것</strong> 으로 프로그램에서 사용되는 데이터 또는 식별자에 의해 참조되는 공간을 의미하며,  \n",
    "    변수, 자료구조, 함수 또는 메서드가 될 수 있다."
   ]
  },
  {
   "attachments": {},
   "cell_type": "markdown",
   "metadata": {},
   "source": [
    "- 객체\n",
    "    - 속성과 행동으로 구성된 모든 것\n",
    "    - 클래스로 만들어진 객체를 인스턴스 라고도 함\n",
    "    - 파이썬은 모든 것이 객체(object) == 파이썬의 모든 것엔 속성과 행동이 존재"
   ]
  },
  {
   "attachments": {},
   "cell_type": "markdown",
   "metadata": {},
   "source": [
    "<font color = \"red\"> 안녕! </font>"
   ]
  },
  {
   "attachments": {},
   "cell_type": "markdown",
   "metadata": {},
   "source": [
    "### 객체의 특징\n",
    "- 타입(type): 어떤 연산자(operator)와 조작(method)이 가능한가?\n",
    "- 속성(attribute): 어떤 상태(데이터)를 가지는가?\n",
    "- 조작법(method): 어떤 행위(함수)를 할 수 있는가?\n",
    "- 객체(Object) = 속성(Attribute) + 기능(Method)"
   ]
  },
  {
   "attachments": {},
   "cell_type": "markdown",
   "metadata": {},
   "source": [
    "### 기본 문법  "
   ]
  },
  {
   "cell_type": "code",
   "execution_count": 1,
   "metadata": {},
   "outputs": [
    {
     "ename": "AttributeError",
     "evalue": "'MyClass' object has no attribute 'my_method'",
     "output_type": "error",
     "traceback": [
      "\u001b[1;31m---------------------------------------------------------------------------\u001b[0m",
      "\u001b[1;31mAttributeError\u001b[0m                            Traceback (most recent call last)",
      "Cell \u001b[1;32mIn[1], line 9\u001b[0m\n\u001b[0;32m      6\u001b[0m my_instance \u001b[39m=\u001b[39m MyClass()\n\u001b[0;32m      8\u001b[0m \u001b[39m# 메서드 호출\u001b[39;00m\n\u001b[1;32m----> 9\u001b[0m my_instance\u001b[39m.\u001b[39;49mmy_method() \u001b[39m# 없음\u001b[39;00m\n\u001b[0;32m     11\u001b[0m \u001b[39m# 속성 접근\u001b[39;00m\n\u001b[0;32m     12\u001b[0m my_instance\u001b[39m.\u001b[39mmy_attribute\n",
      "\u001b[1;31mAttributeError\u001b[0m: 'MyClass' object has no attribute 'my_method'"
     ]
    }
   ],
   "source": [
    "#클래스 정의\n",
    "class MyClass:\n",
    "    pass\n",
    "\n",
    "# 인스턴스 생성\n",
    "my_instance = MyClass()\n",
    "\n",
    "# 메서드 호출\n",
    "my_instance.my_method() # 없음\n",
    "\n",
    "# 속성 접근\n",
    "my_instance.my_attribute"
   ]
  },
  {
   "attachments": {},
   "cell_type": "markdown",
   "metadata": {},
   "source": [
    "### 클래스와 인스턴스\n",
    "\n",
    "- 객체의 설계도(클래스)을 가지고, 객체(인스턴스)를 생성한다.\n",
    "- 파이썬은 모든 것이 객체, 모든 객체는 특정 타입의 인스턴스"
   ]
  },
  {
   "cell_type": "code",
   "execution_count": 7,
   "metadata": {},
   "outputs": [
    {
     "name": "stdout",
     "output_type": "stream",
     "text": [
      "<class 'type'>\n",
      "True\n",
      "<class '__main__.Person'>\n"
     ]
    }
   ],
   "source": [
    "class Person:\n",
    "    pass\n",
    "\n",
    "print(type(Person)) # 타입이라는 클래스\n",
    "\n",
    "person1 = Person()\n",
    "print(isinstance(person1, Person))\n",
    "print(type(person1))"
   ]
  },
  {
   "attachments": {},
   "cell_type": "markdown",
   "metadata": {},
   "source": [
    "### 객체 비교하기\n",
    "\n",
    "- ==\n",
    "    - 동등한(equal)\n",
    "    - 변수가 참조하는 객체가 동등한(내용이 같은)경우 True\n",
    "    - 두 객체가 같아보이지만 실제로 동일한 대상을 가리키고 있다고 확인해 준 것은 아님\n",
    "\n",
    "- is\n",
    "    - 동일한(identical)\n",
    "    - 두 변수가 동일한 객체를 가리키는 경우 True"
   ]
  },
  {
   "cell_type": "code",
   "execution_count": 6,
   "metadata": {},
   "outputs": [
    {
     "name": "stdout",
     "output_type": "stream",
     "text": [
      "<class 'NoneType'>\n",
      "True\n",
      "True\n"
     ]
    }
   ],
   "source": [
    "print(type(None))\n",
    "print(None == None)\n",
    "print(None is None)"
   ]
  },
  {
   "cell_type": "code",
   "execution_count": 8,
   "metadata": {},
   "outputs": [
    {
     "name": "stdout",
     "output_type": "stream",
     "text": [
      "True False\n",
      "True True\n"
     ]
    }
   ],
   "source": [
    "a = [1, 2 ,3]\n",
    "b = [1, 2, 3]\n",
    "\n",
    "print(a ==b, a is b)\n",
    "\n",
    "a == [1, 2, 3]\n",
    "b = a\n",
    "print(a == b, a is b)"
   ]
  },
  {
   "attachments": {},
   "cell_type": "markdown",
   "metadata": {},
   "source": [
    "- 속성\n",
    "    - 특정 데이터 타입/클래스의 객체들이 가지게 될 상태/데이터를 의미\n",
    "    - 클래스 변수 / 인스턴스 변수가 존재함"
   ]
  },
  {
   "cell_type": "code",
   "execution_count": 10,
   "metadata": {},
   "outputs": [
    {
     "name": "stdout",
     "output_type": "stream",
     "text": [
      "지민\n"
     ]
    }
   ],
   "source": [
    "class Person:\n",
    "    blood_color = \"red\" # 클래스 변수\n",
    "    population = 100 # 클래스 변수\n",
    "\n",
    "    def __init__(self, name):\n",
    "        self.name = name # 인스턴스 변수\n",
    "\n",
    "person1 = Person(\"지민\")\n",
    "print(person1.name) # 지민"
   ]
  },
  {
   "attachments": {},
   "cell_type": "markdown",
   "metadata": {},
   "source": [
    "### 인스턴스와 클래스 간의 이름 공간(namespace)\n",
    "- 클래스를 정의하면, 클래스와 해당하는 이름 공간 생성\n",
    "- 인스턴스를 만들면, 인스턴스 객체가 생성되고 이름 공간 생성\n",
    "- 인스턴스에서 특정 속성에 접근하면, 인스턴스-클래스 순으로 탐색"
   ]
  },
  {
   "cell_type": "code",
   "execution_count": 3,
   "metadata": {},
   "outputs": [
    {
     "name": "stdout",
     "output_type": "stream",
     "text": [
      "unkown\n",
      "unkown\n",
      "Kim\n",
      "unkown\n",
      "unkown\n",
      "Kim\n"
     ]
    }
   ],
   "source": [
    "class Person:\n",
    "    name = \"unkown\"\n",
    "\n",
    "    def talk(self):\n",
    "        print(self.name)\n",
    "    \n",
    "p1 = Person()\n",
    "p1.talk()\n",
    "\n",
    "p2 = Person()\n",
    "p2.talk()\n",
    "p2.name = 'Kim'\n",
    "p2.talk()\n",
    "\n",
    "print(Person.name)\n",
    "print(p1.name)\n",
    "print(p2.name)"
   ]
  },
  {
   "attachments": {},
   "cell_type": "markdown",
   "metadata": {},
   "source": [
    "### 인스턴스 변수\n",
    "\n",
    "- 인스턴스 변수란?\n",
    "    - 인스턴스가 개인적으로 가지고 있는 속성(attribute)\n",
    "    - 각 인스턴스들의 고유한 변수\n",
    "\n",
    "- 생성자 메서드( _ _init_ _ )에서 self.name 으로 정의 (생성할 때 불려지는 함수)\n",
    "- 인스턴가 생성된 이후 instance.name으로 접근 및 할당"
   ]
  },
  {
   "cell_type": "code",
   "execution_count": 4,
   "metadata": {},
   "outputs": [
    {
     "name": "stdout",
     "output_type": "stream",
     "text": [
      "john\n",
      "John Kim\n"
     ]
    }
   ],
   "source": [
    "class Person:\n",
    "    def __init__(self, name):\n",
    "        self.name = name\n",
    "\n",
    "john = Person(\"john\")\n",
    "print(john.name)\n",
    "john.name = \"John Kim\"\n",
    "print(john.name)"
   ]
  },
  {
   "attachments": {},
   "cell_type": "markdown",
   "metadata": {},
   "source": [
    "### 클래스 변수\n",
    "- 한 클래스의 모든 인스턴스가 공유하는 값을 의미\n",
    "- 같은 클래스의 인스턴스들의 같은 값을 갖게 됨\n",
    "- 예) 특정 사이트의 User의 수 등은 클래스 변수를 사용해야 함\n",
    "- 클래스 선언 내부에서의 정의\n",
    "- class.name으로 접근 및 할당"
   ]
  },
  {
   "cell_type": "code",
   "execution_count": 5,
   "metadata": {},
   "outputs": [
    {
     "name": "stdout",
     "output_type": "stream",
     "text": [
      "3.14\n",
      "3.14\n",
      "3.14\n",
      "5\n",
      "5\n",
      "5\n"
     ]
    }
   ],
   "source": [
    "class Circle():\n",
    "    pi = 3.14\n",
    "    \n",
    "    def __init__(self, r):\n",
    "        self.r = r\n",
    "\n",
    "c1 = Circle(5)\n",
    "c2 = Circle(10)\n",
    "\n",
    "print(Circle.pi)\n",
    "print(c1.pi)\n",
    "print(c2.pi)\n",
    "\n",
    "Circle.pi = 5\n",
    "print(Circle.pi)\n",
    "print(c1.pi)\n",
    "print(c2.pi)"
   ]
  },
  {
   "attachments": {},
   "cell_type": "markdown",
   "metadata": {},
   "source": [
    "- 클래스 변수\n",
    "    - 한 클래스의 모든 인스턴스가 공유하는 값을 의미\n",
    "    - 같은 클래스의 인스턴스들은 같은 값을 갖게 됨\n",
    "    - 예) 특정 사이트의 User 수 등은 클래스 변수를 사용해야 함"
   ]
  },
  {
   "attachments": {},
   "cell_type": "markdown",
   "metadata": {},
   "source": [
    "### 클래스 변수 활용(사용자 수 계산하기)\n",
    "\n",
    "- 사용자가 몇 명인지 확인하고 싶다면?\n",
    "    - 인스턴스가 생성될 때마다 클래스 변수가 늘어나도록 설정할 수 있음"
   ]
  },
  {
   "cell_type": "code",
   "execution_count": 6,
   "metadata": {},
   "outputs": [
    {
     "name": "stdout",
     "output_type": "stream",
     "text": [
      "2\n"
     ]
    }
   ],
   "source": [
    "class Person:\n",
    "    count = 0\n",
    "\n",
    "    def __init__(self, name):\n",
    "        self.name = name\n",
    "        Person.count += 1\n",
    "\n",
    "person1 = Person(\"아이유\")\n",
    "person2 = Person(\"이찬혁\")\n",
    "\n",
    "print(Person.count)"
   ]
  },
  {
   "attachments": {},
   "cell_type": "markdown",
   "metadata": {},
   "source": [
    "- 클래스 변수를 변경할 때는 항상 클래스.클래스변수 형식으로 변경"
   ]
  },
  {
   "cell_type": "code",
   "execution_count": 8,
   "metadata": {},
   "outputs": [
    {
     "name": "stdout",
     "output_type": "stream",
     "text": [
      "3.14\n",
      "3.14\n",
      "3.14\n"
     ]
    }
   ],
   "source": [
    "class Circle:\n",
    "    pi = 3.14\n",
    "\n",
    "    def __init__(self, r):\n",
    "        self.r = r\n",
    "\n",
    "c1 = Circle(5)\n",
    "c2 = Circle(10)\n",
    "\n",
    "print(Circle.pi)\n",
    "print(c1.pi)\n",
    "print(c2.pi)\n"
   ]
  },
  {
   "cell_type": "code",
   "execution_count": 9,
   "metadata": {},
   "outputs": [
    {
     "name": "stdout",
     "output_type": "stream",
     "text": [
      "5\n",
      "5\n",
      "5\n"
     ]
    }
   ],
   "source": [
    "class Circle:\n",
    "    pi = 3.14\n",
    "\n",
    "    def __init__(self, r):\n",
    "        self.r = r\n",
    "\n",
    "c1 = Circle(5)\n",
    "c2 = Circle(10)\n",
    "\n",
    "Circle.pi = 5\n",
    "print(Circle.pi)\n",
    "print(c1.pi)\n",
    "print(c2.pi)"
   ]
  },
  {
   "cell_type": "code",
   "execution_count": 10,
   "metadata": {},
   "outputs": [
    {
     "name": "stdout",
     "output_type": "stream",
     "text": [
      "3.14\n",
      "3.14\n",
      "5\n"
     ]
    }
   ],
   "source": [
    "class Circle:\n",
    "    pi = 3.14\n",
    "\n",
    "    def __init__(self, r):\n",
    "        self.r = r\n",
    "\n",
    "c1 = Circle(5)\n",
    "c2 = Circle(10)\n",
    "\n",
    "c2.pi = 5\n",
    "print(Circle.pi)\n",
    "print(c1.pi)\n",
    "print(c2.pi)"
   ]
  },
  {
   "attachments": {},
   "cell_type": "markdown",
   "metadata": {},
   "source": [
    "### OOP 메서드\n",
    "\n",
    "- 특정 데이터 타입/클래스의 객체에 공통적으로 적용 가능한 행위(함수)"
   ]
  },
  {
   "cell_type": "code",
   "execution_count": 12,
   "metadata": {},
   "outputs": [
    {
     "name": "stdout",
     "output_type": "stream",
     "text": [
      "안녕\n",
      "피자를 냠냠\n",
      "치킨를 냠냠\n"
     ]
    }
   ],
   "source": [
    "class Person:\n",
    "    def talk(self):\n",
    "        print(\"안녕\")\n",
    "\n",
    "    def eat(self, food):\n",
    "        print(f\"{food}를 냠냠\")\n",
    "    \n",
    "person1 = Person()\n",
    "person1.talk()\n",
    "person1.eat(\"피자\")\n",
    "person1.eat(\"치킨\")"
   ]
  },
  {
   "attachments": {},
   "cell_type": "markdown",
   "metadata": {},
   "source": [
    "### 메서드의 종류\n",
    "\n",
    "- 인스턴스 메서드\n",
    "- 클래스 메서드\n",
    "- 정적 메서드"
   ]
  },
  {
   "attachments": {},
   "cell_type": "markdown",
   "metadata": {},
   "source": [
    "### 인스턴스 메서드 (우리가 대부분 사용하는 메서드!)\n",
    "\n",
    "- 인스턴스 변수를 사용하거나, 인스턴스 변수에 값을 설정하는 메서드\n",
    "- 클래스 내부에 정의되는 메서드의 기본\n",
    "- 호출 시, 첫 번째 인자로 인스턴스 자기 자신(self)이 자동으로 전달됨"
   ]
  },
  {
   "cell_type": "code",
   "execution_count": 14,
   "metadata": {},
   "outputs": [],
   "source": [
    "class MyClass:\n",
    "    def instance_method(self, arg1):\n",
    "        pass\n",
    "\n",
    "my_instance = MyClass()\n",
    "# my_instance.instance_method()"
   ]
  },
  {
   "attachments": {},
   "cell_type": "markdown",
   "metadata": {},
   "source": [
    "- self\n",
    "    - 인스턴스 자기자신\n",
    "    - 파이썬에서 인스턴스 메서드는 호출 시 첫 번째 인자로 인스턴스 자신이 전달되게 설계\n",
    "        - 매개변수 이름으로 self를 첫 번째 인자로 정의\n",
    "        - 다른 단어로 써도 작동하지만, 파이썬의 암묵적인 규칙"
   ]
  },
  {
   "attachments": {},
   "cell_type": "markdown",
   "metadata": {},
   "source": [
    "- 매직 메서드 (특별한 인스턴스 메서드)\n",
    "    - Double underscore(__)가 있는 메서드는 특수한 동작을 위해 만들어진 메서드로, 스페셜 메서드 혹은 매직 메서드라고 불림\n",
    "    - <font color = \"red\">특정 상황에서 자동으로 불리는 메서드</font>\n",
    "    - 예시는 아래에"
   ]
  },
  {
   "cell_type": "code",
   "execution_count": 15,
   "metadata": {},
   "outputs": [],
   "source": [
    "## _str__(self), __len__(self), __lt__(self, other), __le__(self, other), __eq__(self, other)\n",
    "## __gt__(self, other), __ge__(self, other), __ne__(self, other)\n",
    "## 오버로딩과 오버라이딩을 생각해야 한다."
   ]
  },
  {
   "attachments": {},
   "cell_type": "markdown",
   "metadata": {},
   "source": [
    "- 매직 메서드 예시\n",
    "    - 객체의 특수 조작 행위를 지정(함수, 연산자 등)\n",
    "    - str: 이 객체를 문자열로 표현하면 어떻게 표현할지를 지정 (중요)\n",
    "        -print 함수 등에서 객체를 출력하면 자동으로 호출되는 메서드\n",
    "    - gt: 부등호 연산자(>, greater than)"
   ]
  },
  {
   "attachments": {},
   "cell_type": "markdown",
   "metadata": {},
   "source": [
    "- 생성자(constructor) 메서드\n",
    "    - 인스턴스 객체가 생성될 때 자동으로 호출되는 메서드\n",
    "    - 인스턴스 변수들의 초기값을 설정\n",
    "        - 인스턴스 생성\n",
    "        - init 메서드 자동 호출 (인스턴스를 만들 때 무언가를 하고 싶다면"
   ]
  },
  {
   "cell_type": "code",
   "execution_count": 16,
   "metadata": {},
   "outputs": [
    {
     "name": "stdout",
     "output_type": "stream",
     "text": [
      "인스턴스가 생성되었습니다.\n"
     ]
    }
   ],
   "source": [
    "class Person:\n",
    "    \n",
    "    def __init__(self):\n",
    "        print(\"인스턴스가 생성되었습니다.\")\n",
    "\n",
    "person1 = Person()"
   ]
  },
  {
   "cell_type": "code",
   "execution_count": 17,
   "metadata": {},
   "outputs": [
    {
     "name": "stdout",
     "output_type": "stream",
     "text": [
      "인스턴스가 생성되었습니다. 지민\n"
     ]
    }
   ],
   "source": [
    "class Person:\n",
    "    \n",
    "    def __init__(self, name):\n",
    "        print(f\"인스턴스가 생성되었습니다. {name}\")\n",
    "\n",
    "person1 = Person(\"지민\")"
   ]
  },
  {
   "cell_type": "code",
   "execution_count": 19,
   "metadata": {},
   "outputs": [
    {
     "name": "stdout",
     "output_type": "stream",
     "text": [
      "[원] radius: 10\n",
      "[원] radius: 1\n",
      "True\n",
      "False\n"
     ]
    }
   ],
   "source": [
    "# 매직 메서드 예시\n",
    "\n",
    "class Circle:\n",
    "\n",
    "    def __init__(self, r):\n",
    "        self.r = r\n",
    "    \n",
    "    def area(self):\n",
    "        return 3.14 * self.r ** 2\n",
    "    \n",
    "    def __str__(self):\n",
    "        return f\"[원] radius: {self.r}\" # 중요\n",
    "    \n",
    "    def __gt__(self, other):\n",
    "        return self.r > other.r # 중요\n",
    "\n",
    "c1 = Circle(10)\n",
    "c2 = Circle(1)\n",
    "\n",
    "print(c1)\n",
    "print(c2)\n",
    "print(c1 > c2)\n",
    "print(c1 < c2)"
   ]
  },
  {
   "attachments": {},
   "cell_type": "markdown",
   "metadata": {},
   "source": [
    "### 클래스 메서드\n",
    "\n",
    "- 클래스가 사용할 메서드\n",
    "- @classmethod 데코레이터를 사용하여 정의\n",
    "- 호출 시, 첫 번째 인자로 클래스(cls)가 전달됨"
   ]
  },
  {
   "cell_type": "code",
   "execution_count": 20,
   "metadata": {},
   "outputs": [],
   "source": [
    "class MyClass:\n",
    "    \n",
    "    @classmethod\n",
    "    def class_method(cls, arg1):\n",
    "        pass\n",
    "\n",
    "# MyClass.class_mehtod()"
   ]
  },
  {
   "cell_type": "code",
   "execution_count": 21,
   "metadata": {},
   "outputs": [
    {
     "name": "stdout",
     "output_type": "stream",
     "text": [
      "인구수는 2입니다.\n",
      "인구수는 2입니다.\n",
      "인구수는 2입니다.\n"
     ]
    }
   ],
   "source": [
    "# 클래스 메서드 예시\n",
    "class Person:\n",
    "    count = 0 # 클래스 변수\n",
    "    \n",
    "    def __init__(self, name): # 인스턴스 변수 설정\n",
    "        self.name = name\n",
    "        Person.count += 1\n",
    "\n",
    "    @classmethod\n",
    "    def number_of_population(cls):\n",
    "        print(f\"인구수는 {cls.count}입니다.\")\n",
    "\n",
    "person1 = Person(\"아이유\")\n",
    "person2 = Person(\"이찬혁\")\n",
    "\n",
    "Person.number_of_population()\n",
    "person1.number_of_population()\n",
    "person2.number_of_population()"
   ]
  },
  {
   "attachments": {},
   "cell_type": "markdown",
   "metadata": {},
   "source": [
    "### 데코레이터\n",
    "- 함수를 어떤 함수로 꾸며서 새로운 기능을 부여\n",
    "- @데코레이터(함수명) 형태로 함수 위에 작성\n",
    "- 순서대로 적용되기 때문에 작성 순서가 중요 (여러 개가 적용될 수 있다.)"
   ]
  },
  {
   "cell_type": "code",
   "execution_count": 22,
   "metadata": {},
   "outputs": [
    {
     "name": "stdout",
     "output_type": "stream",
     "text": [
      "안녕하세요, aiden님!\n",
      "Hello, aiden!\n"
     ]
    }
   ],
   "source": [
    "# 데코레이터 예시\n",
    "\n",
    "def ko_hello(name):\n",
    "    print(f\"안녕하세요, {name}님!\")\n",
    "\n",
    "def en_hello(name):\n",
    "    print(f\"Hello, {name}!\")\n",
    "\n",
    "ko_hello(\"aiden\")\n",
    "en_hello(\"aiden\")"
   ]
  },
  {
   "cell_type": "code",
   "execution_count": 24,
   "metadata": {},
   "outputs": [
    {
     "name": "stdout",
     "output_type": "stream",
     "text": [
      "안녕하세요, aiden님!\n",
      "^~^//\n"
     ]
    }
   ],
   "source": [
    "def emoji_hello(name):\n",
    "    ko_hello(name)\n",
    "    print(\"^~^//\")\n",
    "\n",
    "emoji_hello(\"aiden\")"
   ]
  },
  {
   "cell_type": "code",
   "execution_count": 25,
   "metadata": {},
   "outputs": [
    {
     "name": "stdout",
     "output_type": "stream",
     "text": [
      "안녕하세요, aiden님!\n",
      "^~^//\n",
      "Hello, aiden!\n",
      "^~^//\n"
     ]
    }
   ],
   "source": [
    "def emoji_hello(name, func):\n",
    "    func(name)\n",
    "    print(\"^~^//\")\n",
    "\n",
    "emoji_hello(\"aiden\", ko_hello)\n",
    "emoji_hello(\"aiden\", en_hello)\n"
   ]
  },
  {
   "cell_type": "code",
   "execution_count": 26,
   "metadata": {},
   "outputs": [
    {
     "name": "stdout",
     "output_type": "stream",
     "text": [
      "안녕하세요, aiden님!\n",
      "^~^//\n",
      "Hello, aiden!\n",
      "^~^//\n"
     ]
    }
   ],
   "source": [
    "def ko_hello(name):\n",
    "    print(f\"안녕하세요, {name}님!\")\n",
    "\n",
    "def en_hello(name):\n",
    "    print(f\"Hello, {name}!\")\n",
    "\n",
    "def emoji_hello(name, func):\n",
    "    func(name)\n",
    "    print(\"^~^//\")\n",
    "\n",
    "emoji_hello(\"aiden\", ko_hello)\n",
    "emoji_hello(\"aiden\", en_hello)\n",
    "\n",
    "# 기존에는 인자를 하나마 넣어서 호출하면 되었지만, 호출할 이름도 바뀌고 인자도 바뀌고... 불편하다.."
   ]
  },
  {
   "cell_type": "code",
   "execution_count": 29,
   "metadata": {},
   "outputs": [],
   "source": [
    "def emoji_decorator(func):\n",
    "    def wrapper(name):\n",
    "        func(name)\n",
    "        print(\"^~^//\")\n",
    "    \n",
    "    return wrapper\n",
    "\n",
    "def ko_hello(name):\n",
    "    print(f\"안녕하세요, {name}님!\")\n",
    "\n",
    "def en_hello(name):\n",
    "    print(f\"Hello, {name}!\")\n",
    "\n",
    "\n",
    "# 기존 함수를 입력 받아서, 내가 우너한느 기능을 추가한 함수를 return\n",
    "# 기존의 함수도 안에서 호출 + 원하는 기능을 추가\n",
    "# 이제는 호출할 때 기존의 함수 이름이 바귀지 않아도 된다."
   ]
  },
  {
   "cell_type": "code",
   "execution_count": 30,
   "metadata": {},
   "outputs": [
    {
     "name": "stdout",
     "output_type": "stream",
     "text": [
      "안녕하세요, aiden님!\n",
      "^~^//\n"
     ]
    }
   ],
   "source": [
    "# emoji_decorator를 이용해서 ko_hello를 호출하는 방법은?\n",
    "emoji_decorator(ko_hello)(\"aiden\") # emoji_decorator(ko_hello)가 하나의 함수로 변환된다."
   ]
  },
  {
   "cell_type": "code",
   "execution_count": null,
   "metadata": {},
   "outputs": [],
   "source": [
    "# 더 편하게 사용하고 싶다.\n",
    "# 말 그래도 '장식'을 붙이기만 하면 기능을 추가할 수 있다.\n",
    "\n",
    "def emoji_decorator(func):\n",
    "    def wrapper(name):\n",
    "        func(name)\n",
    "        print(\"^~^//\")\n",
    "    \n",
    "    return wrapper\n",
    "\n",
    "@emoji_decorator\n",
    "def ko_hello(name):\n",
    "    print(f\"안녕하세요, {name}님!\")\n",
    "\n",
    "@emoji_decorator\n",
    "def en_hello(name):\n",
    "    print(f\"Hello, {name}!\")"
   ]
  },
  {
   "cell_type": "code",
   "execution_count": 63,
   "metadata": {},
   "outputs": [
    {
     "name": "stdout",
     "output_type": "stream",
     "text": [
      "안녕하세요, aiden님!\n"
     ]
    }
   ],
   "source": [
    "ko_hello(\"aiden\")"
   ]
  },
  {
   "attachments": {},
   "cell_type": "markdown",
   "metadata": {},
   "source": [
    "### 클래스 메서드와 인스턴스 메서드\n",
    "\n",
    "클래스 메서드 -> 클래스 변수 사용  \n",
    "인스턴스 메서드 -> 인스턴스 변수 사용  \n",
    "\n",
    "- 인스턴스 변수, 클래스 변수 모두 사용하고 싶다면?  \n",
    "    - 클래스는 인스턴스 변수 사용이 불가능  \n",
    "    - 인스턴스 메서드는 클래스 변수, 인스턴스 변수 둘 다 사용이 가능  "
   ]
  },
  {
   "attachments": {},
   "cell_type": "markdown",
   "metadata": {},
   "source": [
    "- 스태틱 메서드\n",
    "    - 인스턴스 변수, 클래스 변수를 전혀 다루지 않는 메서드  \n",
    "    - 언제 사용하는가?\n",
    "        - 속성을 다루지 않고 단지 기능(행동)만 하는 메서드를 정의할 때 사용\n",
    "    - 인스턴스 변수, 클래스 변수 아무것도 사용하지 않을 경우 사용  \n",
    "        - 즉, 객체 상태나 클래스 상태를 수정할 수 없음\n",
    "    - @staticmethod 데코레이터를 사용하여 정의\n",
    "    - 일반함수처럼 동작하지만, 클래스의 이름공간에 귀속\n",
    "        - 주로 해당 클래스로 한정하는 용도로 사용"
   ]
  },
  {
   "attachments": {},
   "cell_type": "markdown",
   "metadata": {},
   "source": [
    "### 메서드 정리\n",
    "\n",
    "- 인스턴스 메서드  \n",
    "메서드를 호출한 인스턴스를 의미하는 self 매개 변수를 통해 인스턴스를 조작  \n",
    "\n",
    "- 클래스 메서드  \n",
    "클래스를 의미하는 cls 매개 변수를 통해 클래스를 조작  \n",
    "\n",
    "- 스태틱 메서드\n",
    "    - 클래스 변수나 인스턴스 변수를 사용하지 않는 경우에 사용\n",
    "        - 객체 상태나 클래스 상태를 수정할 수 없음"
   ]
  },
  {
   "cell_type": "markdown",
   "metadata": {},
   "source": [
    "# 8일차 offline 보충"
   ]
  },
  {
   "attachments": {},
   "cell_type": "markdown",
   "metadata": {},
   "source": [
    "객체지향 프로그래밍이 무엇을 말하는지?  \n",
    "클래스 객체 인스턴스 메서드가 무엇인지?  \n",
    "\n",
    "클래스 변수 / 인스턴스변수 /  "
   ]
  },
  {
   "attachments": {},
   "cell_type": "markdown",
   "metadata": {},
   "source": [
    "- 객체 지향 프로그래밍이란?  \n",
    "\n",
    "리그오브레전드 캐릭터들을 만들려고 하면 어떻게 해야할까?  \n",
    "<em>클래스</em>를 사용해야한다. <em>Why?</em> 많은 객체들을 생성해야하기 때문에  \n",
    "이름, 체력, 마력, 스킬(3개): 속성 및 메서드  \n",
    "\n",
    "&nbsp;\n",
    "\n",
    "리그오브레전드2를 만들려고 한다면?  \n",
    "맵, 게임, 캐릭터 들을 조합해서 새로운 게임을 만들 수 있다.  \n",
    "\n",
    "&nbsp;\n",
    "\n",
    "이렇게 조합해서 틀을 만들어 프로그래밍하는 것을 OOP(Object Oriented Programming)"
   ]
  },
  {
   "attachments": {},
   "cell_type": "markdown",
   "metadata": {},
   "source": [
    "- 절차 지향 프로그래밍 (대표적으로 C언어)  \n",
    "\n",
    "차이를 알아보자  \n",
    "\n",
    "인스턴트 커피 3잔을 만든다고 하자  \n",
    "절차지향 프로그래밍에서는 커피가루 설탕 프림 물이 각각 있어서  \n",
    "한 명이 자기 컴에 물을 먼저 붓고 그 동안 다른 한 명은 커피가루를 먼저 자기 컵에 넣고...  \n",
    "즉 사람이라는 변수들이 데이터 값에 접근하는데 기다림 없이 빠르게 빠르게 접근할 수 있다.  \n",
    "\n",
    "&nbsp;\n",
    "\n",
    "- 객체 지향 프로그래밍  \n",
    "\n",
    "누구나 쉽게 재사용할 수 있도록 커피 자판기라는 틀을 만들어 놓고  \n",
    "사람 한 명이 그 자판기에 접근해서 값을 이용을 하면 다음 사람이 기다렸다가 이용...  \n",
    "그래서 변수들이 데이터 값에 접근하는 속도가 절차지향 프로그래밍에 비하면 느리다.  \n",
    "\n",
    "그러나 커피 타먹을 수 있는 장소를 하나 더 만든다고 가정하자  \n",
    "이미 만들어 놓은 틀을 그대로 복사 해 놓으면 되니까  \n",
    "확장석과 재활용이 매우 뛰어나다  \n",
    "\n",
    "- 결론  \n",
    "객체지향으로 프로그래밍을 하면 확장성 재활용성이 좋고 유지보수가 편하지만 절차지향으로 프로그래밍을 하는 것 보다는 속도가 느리다."
   ]
  },
  {
   "cell_type": "markdown",
   "metadata": {},
   "source": []
  },
  {
   "attachments": {},
   "cell_type": "markdown",
   "metadata": {},
   "source": [
    "- 클래스 속성(변수)\n",
    "- 인스턴스 속성(변수)\n"
   ]
  },
  {
   "cell_type": "code",
   "execution_count": 38,
   "metadata": {},
   "outputs": [
    {
     "name": "stdout",
     "output_type": "stream",
     "text": [
      "3\n",
      "7\n",
      "12\n",
      "2\n",
      "2\n"
     ]
    }
   ],
   "source": [
    "class calculator:\n",
    "    numberOfCalcul = 0 # 속성 (클래스 변수)\n",
    "\n",
    "    def __init__(self): # 생성자 함수(constructor) : 메서드\n",
    "        calculator.numberOfCalcul += 1\n",
    "        self.result = 0  # 인스턴스 변수\n",
    "    \n",
    "    def getsum(self, value): # 인스턴스 메서드 (self는 각각의 인스턴스를 가리킨다는 것을 명심할 것!)\n",
    "        self.result += value\n",
    "        return self.result\n",
    "    \n",
    "cal1 = calculator() # 인스턴스, 객체\n",
    "cal2 = calculator()\n",
    "\n",
    "# 인스턴스 변수란? \n",
    "# 인스턴스가 개인적으로 가지고 있는 속성(attribute)\n",
    "print(cal1.getsum(3))\n",
    "print(cal1.getsum(4))\n",
    "print(cal1.getsum(5))\n",
    "\n",
    "# 클래스 변수란?\n",
    "# 한 클래스의 모든 인스턴스가 공유하는 값을 의미\n",
    "print(cal1.numberOfCalcul)\n",
    "print(cal2.numberOfCalcul)\n",
    "\n",
    "# 주의점!\n",
    "# 클래스 변수 값을 변경 시 무조건 항상 클래스.클래스변수 형식으로 변경해야 함!"
   ]
  },
  {
   "cell_type": "code",
   "execution_count": 40,
   "metadata": {},
   "outputs": [
    {
     "name": "stdout",
     "output_type": "stream",
     "text": [
      "20\n",
      "10\n",
      "20\n"
     ]
    }
   ],
   "source": [
    "#이러면 안됨\n",
    "cal1.numberOfCalcul = 10\n",
    "print(cal2.numberOfCalcul)\n",
    "# cal1.numberOfCalcul = 10에서 새로운 인스턴스변수가 만들어짐\n",
    "\n",
    "# 다음과 같은 문제가 발생할 수 있음\n",
    "calculator.numberOfCalcul = 20\n",
    "print(cal1.numberOfCalcul)\n",
    "print(cal2.numberOfCalcul)"
   ]
  },
  {
   "attachments": {},
   "cell_type": "markdown",
   "metadata": {},
   "source": [
    "- 결론  \n",
    "클래스 변수 : 모든 인스턴스가 공유. 인스턴스 전체가 사용해야 하는 값을 저장할 때 사용  \n",
    "인스턴스 변수: 인스턴스 별로 독립되어 있음. 각 인스턴스가 값을 따로 저장해야 할 때 사용  "
   ]
  },
  {
   "attachments": {},
   "cell_type": "markdown",
   "metadata": {},
   "source": [
    "### 메서드"
   ]
  },
  {
   "cell_type": "code",
   "execution_count": 43,
   "metadata": {},
   "outputs": [
    {
     "name": "stdout",
     "output_type": "stream",
     "text": [
      "3 7\n",
      "--------------------\n",
      "8\n",
      "-2\n"
     ]
    }
   ],
   "source": [
    "# 객체에 숫자 두 개를 넣으면 두 수의 더한 값과 뺀 값을 돌려주는 클래스를 만들어 보자\n",
    "# __init__(생성자 함수 없이 만들기) 없이 만들어보자.\n",
    "\n",
    "class plus_minus:\n",
    "\n",
    "    def data(self, a, b):\n",
    "        self.first = a\n",
    "        self.second = b\n",
    "\n",
    "    def plus(self):\n",
    "        return self.first + self.second\n",
    "    \n",
    "    def minus(self):\n",
    "        return self.first - self.second\n",
    "\n",
    "a = plus_minus()\n",
    "a.data(3, 5)\n",
    "b = plus_minus()\n",
    "b.data(2, 7)\n",
    "print(a.first, b.second)\n",
    "\n",
    "print(\"-\"*20)\n",
    "\n",
    "print(a.plus())\n",
    "print(a.minus())\n",
    "# 객체 a와 b는 각각 독립적이다.\n",
    "# 여기서 data가 바로 인스턴스 메서드이며 인스턴스 메서드는 self를 항상 첫 번째 parameter로 사용\n",
    "# 이름이 self일 필요는 없으나 관례적으로 self"
   ]
  },
  {
   "cell_type": "code",
   "execution_count": 45,
   "metadata": {},
   "outputs": [
    {
     "name": "stdout",
     "output_type": "stream",
     "text": [
      "3 7\n",
      "--------------------\n",
      "8\n",
      "-2\n"
     ]
    }
   ],
   "source": [
    "class plus_minus:\n",
    "\n",
    "    def __init__(self, a, b): # 귀찮게 data를 쓸 필요가 없어진다. (매직 메서드)\n",
    "        self.first = a\n",
    "        self.second = b\n",
    "\n",
    "    def plus(self):\n",
    "        return self.first + self.second\n",
    "    \n",
    "    def minus(self):\n",
    "        return self.first - self.second\n",
    "\n",
    "a = plus_minus(3, 5)\n",
    "b = plus_minus(2, 7)\n",
    "print(a.first, b.second)\n",
    "\n",
    "print(\"-\"*20)\n",
    "\n",
    "print(a.plus())\n",
    "print(a.minus())"
   ]
  },
  {
   "cell_type": "markdown",
   "metadata": {},
   "source": [
    "- 인스턴스 메서드"
   ]
  },
  {
   "cell_type": "code",
   "execution_count": null,
   "metadata": {},
   "outputs": [],
   "source": [
    "# __init__\n",
    "# 매직메서드 (init, add, str 등) = 인스턴스를 생성하자마자 자동호출!!\n",
    "# 특수한 메서드를 사용함으로써, 파이썬의 행위를 여러가지로 커스터마이징할 수 있다.\n",
    "# 파이썬의 문자열에서 + 연사산자를 사용하면 두 문자열이 합쳐지는 것은 파이썬이라는 언어를 만들 때\n",
    "# 문자열에 관한 클래스에서 덧셈 연산이 되도록 클래스 안에서 정의 해 놓았기 때문이다."
   ]
  },
  {
   "cell_type": "code",
   "execution_count": 52,
   "metadata": {},
   "outputs": [
    {
     "name": "stdout",
     "output_type": "stream",
     "text": [
      "800\n",
      "800\n"
     ]
    }
   ],
   "source": [
    "# 실습\n",
    "# 예를 들어 자동차를 생성하는 클래스를 만들고 자동차의 가격의 함을 사용자가 쉽게 출력할 수 있게 만든다.\n",
    "class car:\n",
    "    def __init__(self, name, price):\n",
    "        self.name = name\n",
    "        self.price = price\n",
    "\n",
    "    def __add__(self, other):\n",
    "        return self.price + other.price\n",
    "\n",
    "    def __str__(self):\n",
    "        return (f\"{self.name}의 가격은 {self.price}입니다.\")\n",
    "\n",
    "kia = car(\"k8\", 300)\n",
    "bmw = car(\"m5\", 500)\n",
    "print(kia.price + bmw.price)\n",
    "print(kia + bmw) # __add__를 오버라이딩?하지 않으면 오류가 발생한다."
   ]
  },
  {
   "cell_type": "code",
   "execution_count": null,
   "metadata": {},
   "outputs": [],
   "source": [
    "# 다른 예를 하나 더 보자\n",
    "# 우리가 print 함수를 사용하면 기본적으로 출력값으로 문자열로 값을 반환하는데 이는 print()메서드가 정의되어 있는 클래스의 안에 __str__이라는\n",
    "# 매직메서드가 있어서 이다. __str__ 매직메서드는 문자열을 반환해 주는 메서드이다."
   ]
  },
  {
   "cell_type": "code",
   "execution_count": 53,
   "metadata": {},
   "outputs": [
    {
     "name": "stdout",
     "output_type": "stream",
     "text": [
      "k8의 가격은 300입니다.\n",
      "k8의 가격은 300입니다.\n"
     ]
    }
   ],
   "source": [
    "print(f\"{kia.name}의 가격은 {kia.price}입니다.\")\n",
    "print(kia)\n",
    "\n",
    "# 인스턴스 삭제\n",
    "# del kia\n",
    "# del bmw"
   ]
  },
  {
   "attachments": {},
   "cell_type": "markdown",
   "metadata": {},
   "source": [
    "- 데코레이터  \n",
    "\n",
    "장식하는 사람이라는 뜻  \n",
    "함수를 하나 만드는데 그 함수를 직접 수정하지 않고 함수에 기능을 추가하고자 할 때 사용\n",
    "\n",
    "@classmethod  \n",
    "@staticmethod"
   ]
  },
  {
   "cell_type": "code",
   "execution_count": 55,
   "metadata": {},
   "outputs": [
    {
     "name": "stdout",
     "output_type": "stream",
     "text": [
      "반짝반짝반짝반짝반짝\n",
      "박주성\n",
      "샤방샤방샤방샤방샤방\n",
      "반짝반짝반짝반짝반짝\n",
      "27\n",
      "샤방샤방샤방샤방샤방\n"
     ]
    }
   ],
   "source": [
    "# 1. 데코레이터를 사용하지 않은 예\n",
    "# 이름과 나이를 출력하는 각각의 함수를 정의해 보자\n",
    "\n",
    "def call_name(name):\n",
    "    print(\"반짝\"*5)\n",
    "    print(name)\n",
    "    print(\"샤방\"*5)\n",
    "\n",
    "def call_age(age):\n",
    "    print(\"반짝\"*5)\n",
    "    print(age)\n",
    "    print(\"샤방\"*5)\n",
    "\n",
    "\n",
    "call_name(\"박주성\")\n",
    "call_age(27)"
   ]
  },
  {
   "cell_type": "code",
   "execution_count": 60,
   "metadata": {},
   "outputs": [
    {
     "name": "stdout",
     "output_type": "stream",
     "text": [
      "반짝반짝반짝반짝반짝\n",
      "박주성\n",
      "샤방샤방샤방샤방샤방\n",
      "반짝반짝반짝반짝반짝\n",
      "27\n",
      "샤방샤방샤방샤방샤방\n"
     ]
    }
   ],
   "source": [
    "def deco(ftn):\n",
    "    \n",
    "    def wrapping(value):\n",
    "        print(\"반짝\"*5)\n",
    "        ftn(value)\n",
    "        print(\"샤방\"*5)\n",
    "    \n",
    "    return wrapping\n",
    "\n",
    "@deco # 함수 자체가 deco의 매개변수(param)로 들어간다.\n",
    "def call_name(name):\n",
    "    print(name)\n",
    "\n",
    "@deco\n",
    "def call_age(age):\n",
    "    print(age)\n",
    "\n",
    "call_name(\"박주성\")\n",
    "call_age(27)"
   ]
  },
  {
   "attachments": {},
   "cell_type": "markdown",
   "metadata": {},
   "source": [
    "- 클래스 메서드  \n",
    "\n",
    "인스턴스 뿐만 아니라 클래스에서도 사용이 가능하다."
   ]
  },
  {
   "cell_type": "code",
   "execution_count": 62,
   "metadata": {},
   "outputs": [
    {
     "name": "stdout",
     "output_type": "stream",
     "text": [
      "파이를 3 명이 만들고 있습니다.\n"
     ]
    }
   ],
   "source": [
    "class make_pie:\n",
    "    cnt = 0\n",
    "    \n",
    "    def __init__(self, name):\n",
    "        self.name = name\n",
    "        make_pie.cnt += 1\n",
    "\n",
    "    @classmethod\n",
    "    def number_of_pies(cls):\n",
    "        print(f\"파이를 {cls.cnt} 명이 만들고 있습니다.\")\n",
    "\n",
    "\n",
    "a = make_pie(\"Kevin\")\n",
    "b = make_pie(\"Jane\")\n",
    "c = make_pie(\"John\")\n",
    "make_pie.number_of_pies()"
   ]
  },
  {
   "cell_type": "code",
   "execution_count": 74,
   "metadata": {},
   "outputs": [
    {
     "name": "stdout",
     "output_type": "stream",
     "text": [
      "파이를 3 명이 만들고 있습니다.\n",
      "파이를 5 명이 만들고 있습니다.\n"
     ]
    }
   ],
   "source": [
    "class make_pie:\n",
    "    cnt = 0\n",
    "    \n",
    "    def __init__(self, name):\n",
    "        self.name = name\n",
    "        make_pie.cnt += 1\n",
    "\n",
    "    @classmethod\n",
    "    def number_of_pies(cls):\n",
    "        print(f\"파이를 {cls.cnt} 명이 만들고 있습니다.\")\n",
    "    \n",
    "    @classmethod\n",
    "    def create(cls, name):\n",
    "        p = cls(name) # init 함수에 name을 넣는다. 클래스 내부에서 객체를 생성하는 함수\n",
    "        return p\n",
    "\n",
    "a = make_pie(\"Kevin\")\n",
    "b = make_pie(\"Jane\")\n",
    "c = make_pie(\"John\")\n",
    "make_pie.number_of_pies()\n",
    "make_pie.create(\"tom\")\n",
    "make_pie.create(\"bob\")\n",
    "make_pie.number_of_pies()\n"
   ]
  },
  {
   "attachments": {},
   "cell_type": "markdown",
   "metadata": {},
   "source": [
    "- 정적 메서드 (static method)  \n",
    "\n",
    "1. 정적 메서드는 @staticmethod를 붙인다.  \n",
    "2. self가 없다.  \n",
    "3. 함수의 행동(기능), (메서드 내용만) 하는 메서드를 클래스에 정의할 때 사용한다.  \n",
    "4. 정적 메서드를 호출할 때는 클래스에서 바로 메서드를 호출하면 된다.  \n",
    "5. 클래스의 인스턴스가 없어도 문제 될 것 없음.  (numpy나 pandas의 경우를 생각하면 되나)  \n",
    "6. 인스턴스가 있다면 인스턴스로도 static method에 접근은 가능(주로 파이썬에서 가능!)  \n",
    "\n",
    "\n",
    "인스턴스로 정적 메서드 호출은 잘 하지 않음. 그 이유는?  \n",
    "이 메소드는 클래스의 인스턴스에 어떠한 변화도 일으키지 않는 함수라는 의미를 내포하고 있을 때 사용한다.  "
   ]
  },
  {
   "cell_type": "code",
   "execution_count": 61,
   "metadata": {},
   "outputs": [
    {
     "name": "stdout",
     "output_type": "stream",
     "text": [
      "1200\n"
     ]
    }
   ],
   "source": [
    "class car:\n",
    "    @staticmethod\n",
    "    def add_price(one, other):\n",
    "        print(one + other)\n",
    "\n",
    "\n",
    "car.add_price(400, 800)\n",
    "    "
   ]
  },
  {
   "cell_type": "code",
   "execution_count": 69,
   "metadata": {},
   "outputs": [
    {
     "name": "stdout",
     "output_type": "stream",
     "text": [
      "6\n",
      "6\n"
     ]
    }
   ],
   "source": [
    "import numpy as np\n",
    "\n",
    "temp = [1, 2, 3]\n",
    "print(np.sum(temp))\n",
    "a = np.array(temp)\n",
    "print(a.sum())\n"
   ]
  },
  {
   "attachments": {},
   "cell_type": "markdown",
   "metadata": {},
   "source": [
    "# 9 일차 (마지막)"
   ]
  },
  {
   "attachments": {},
   "cell_type": "markdown",
   "metadata": {},
   "source": [
    "- 객체 지향 프로그래밍\n",
    "    - 객체 지향의 핵심 개념\n",
    "        - 추상화: 핵심이 되는 부분만 추리기\n",
    "        - 상속: 코드의 재사용성과 기능성을 확장\n",
    "        - 다형성: 각자의 특성에 따라 다른 결과를 출력\n",
    "        - 캡슐화: 데이터 보호하기\n",
    "\n",
    "&nbsp;\n",
    "\n",
    "- 에러와 예외처리\n",
    "    - 디버깅\n",
    "    - 에러와 예외"
   ]
  },
  {
   "attachments": {},
   "cell_type": "markdown",
   "metadata": {},
   "source": [
    "### 추상화  \n",
    "\n",
    "- 현실 세계를 프로그램 설계에 반영\n",
    "- 복잡한 것은 숨기고, 필요한 것만 드러내기(핵심인 부분만 추리기)"
   ]
  },
  {
   "cell_type": "code",
   "execution_count": 1,
   "metadata": {},
   "outputs": [],
   "source": [
    "# 학생\n",
    "\n",
    "class student:\n",
    "    def __init__(self, name, age, gpa):\n",
    "        self.name = name\n",
    "        self.age = age\n",
    "        self.gpa = gpa\n",
    "\n",
    "    def talk(self):\n",
    "        print(f\"반갑습니다. {self.name}입니다.\")\n",
    "    \n",
    "    def study(self):\n",
    "        self.gpa += 0.1\n",
    "\n",
    "# 교수\n",
    "class Professor:\n",
    "    def __init__(self, name, age, department):\n",
    "        self.name = name\n",
    "        self.age = age\n",
    "        self.department = department\n",
    "\n",
    "    def talk(self):\n",
    "        print(f\"반갑습니다. {self.name}입니다.\")\n",
    "    \n",
    "    def study(self):\n",
    "        self.age += 1\n",
    "\n",
    "\n",
    "# 학생과 교수의 공통점을 가진 person\n",
    "class Person:\n",
    "    def __init__(self, name, age):\n",
    "        self.name = name\n",
    "        self.age = age\n",
    "\n",
    "    def talk(self):\n",
    "        print(f\"반갑습니다. {self.name}입니다.\")"
   ]
  },
  {
   "attachments": {},
   "cell_type": "markdown",
   "metadata": {},
   "source": [
    "### 상속  \n",
    "- 두 클래스 사이 부모 - 자식 관계를 정립하는 것    \n",
    "\n",
    "- 클래스는 상속이 가능함  \n",
    "    - 모든 파이썬 클래스는 Object를 상속 받음.\n",
    "\n",
    "- 하위 클래스는 상위 클래스에 정의된 속성, 행동, 관계 및 제약 조건을 모두 상속 받음  \n",
    "- 부모 클래스의 속성, 메서드가 자식 클래스에 상속되므로, 코드의 재사용성이 높아짐  "
   ]
  },
  {
   "attachments": {},
   "cell_type": "markdown",
   "metadata": {},
   "source": [
    "상속이 없다면?\n",
    "\n",
    "1. 객체가 가진 정보를 나타내기 어려움  \n",
    "2. 메서드의 중복  \n",
    "\n",
    "상속을 사용한다면?  \n",
    "1. 상속을 통한 메서드 재사용"
   ]
  },
  {
   "attachments": {},
   "cell_type": "markdown",
   "metadata": {},
   "source": [
    "- isinstance(object, classinfo)"
   ]
  },
  {
   "cell_type": "code",
   "execution_count": 3,
   "metadata": {},
   "outputs": [
    {
     "name": "stdout",
     "output_type": "stream",
     "text": [
      "False\n",
      "True\n"
     ]
    }
   ],
   "source": [
    "class Person:\n",
    "    pass\n",
    "class Professor:\n",
    "    pass\n",
    "class Student:\n",
    "    pass\n",
    "\n",
    "p1 = Professor()\n",
    "s1 = Student()\n",
    "\n",
    "print(isinstance(p1, Person))\n",
    "print(isinstance(p1, Professor))"
   ]
  },
  {
   "cell_type": "code",
   "execution_count": 4,
   "metadata": {},
   "outputs": [
    {
     "name": "stdout",
     "output_type": "stream",
     "text": [
      "True\n",
      "True\n"
     ]
    }
   ],
   "source": [
    "class Person:\n",
    "    pass\n",
    "class Professor(Person):\n",
    "    pass\n",
    "class Student(Person):\n",
    "    pass\n",
    "\n",
    "p1 = Professor()\n",
    "s1 = Student()\n",
    "\n",
    "print(isinstance(p1, Person))\n",
    "print(isinstance(p1, Professor))\n"
   ]
  },
  {
   "attachments": {},
   "cell_type": "markdown",
   "metadata": {},
   "source": [
    "- issubclass(class, classinfo)\n",
    "    - class가 classinfo의 subclass면 True\n",
    "    - classinfo의 모든 항목을 검사  "
   ]
  },
  {
   "cell_type": "code",
   "execution_count": 5,
   "metadata": {},
   "outputs": [
    {
     "name": "stdout",
     "output_type": "stream",
     "text": [
      "True\n",
      "False\n",
      "True\n",
      "True\n"
     ]
    }
   ],
   "source": [
    "class Person:\n",
    "    pass\n",
    "class Professor(Person):\n",
    "    pass\n",
    "class Student(Person):\n",
    "    pass\n",
    "\n",
    "p1 = Professor()\n",
    "s1 = Student()\n",
    "\n",
    "print(issubclass(bool, int))\n",
    "print(issubclass(float, int))\n",
    "print(issubclass(Professor, Person))\n",
    "print(issubclass(Professor, (Person, Student)))"
   ]
  },
  {
   "attachments": {},
   "cell_type": "markdown",
   "metadata": {},
   "source": [
    "- super\n",
    "    - 자식클래스에서 부모클래스를 사용하고 싶은 경우  "
   ]
  },
  {
   "cell_type": "code",
   "execution_count": 7,
   "metadata": {},
   "outputs": [],
   "source": [
    "class Person:\n",
    "    def __init__(self, name, age, number, email):\n",
    "        self.name = name\n",
    "        self.age = age\n",
    "        self.number = number\n",
    "        self.email = email\n",
    "    \n",
    "class Student(Person):\n",
    "    def __init__(self, name, age, number, email, student_id):\n",
    "        pass\n",
    "        # 이하 생략 귀찮음.\n",
    "        # 아무튼 많이 적어야 하는 귀찮음이 발생한다.        "
   ]
  },
  {
   "cell_type": "code",
   "execution_count": 8,
   "metadata": {},
   "outputs": [],
   "source": [
    "class Person:\n",
    "    def __init__(self, name, age, number, email):\n",
    "        self.name = name\n",
    "        self.age = age\n",
    "        self.number = number\n",
    "        self.email = email\n",
    "    \n",
    "class Student(Person):\n",
    "    def __init__(self, name, age, number, email, student_id):\n",
    "        super().__init__(name, age, number , email)\n",
    "        self.student_id = student_id"
   ]
  },
  {
   "attachments": {},
   "cell_type": "markdown",
   "metadata": {},
   "source": [
    "#### 상속 정리  \n",
    "\n",
    "- 파이썬의 모든 클래스는 object로부터 상속됨  \n",
    "- 부모 클래스의 모든 요소(속성, 메서드)가 상속됨  \n",
    "- super()를 통해 부모 클래스의 요소를 호출할 수 있음\n",
    "- 메서드 오버라이딩을 통해 자식 클래스에서 재정의 가능함  \n",
    "- 상속관계에서의 이름 공간은 인스턴스, 자식 클래스, 부모 클래스 순으로 탐색  "
   ]
  },
  {
   "attachments": {},
   "cell_type": "markdown",
   "metadata": {},
   "source": [
    "### 다중 속성  \n",
    "\n",
    "- 두 개 이상의 클래스를 상속 받는 경우  \n",
    "- 상속받은 모든 클래스의 요소를 활용 가능함  \n",
    "- 중복된 속성이나 메서드가 있는 경우 상속 순서에 의해 결정됨  "
   ]
  },
  {
   "cell_type": "code",
   "execution_count": 16,
   "metadata": {},
   "outputs": [
    {
     "name": "stdout",
     "output_type": "stream",
     "text": [
      "첫째가 응애\n",
      "첫째가 수영\n",
      "아빠가 걷기\n",
      "XY\n"
     ]
    }
   ],
   "source": [
    "class Person:\n",
    "    def __init__(self, name):\n",
    "        self.name = name\n",
    "    \n",
    "    def greeting(self):\n",
    "        return (f\"안녕, {self.name}\")\n",
    "\n",
    "class Mom(Person):\n",
    "    gene = \"XX\"\n",
    "\n",
    "    def swim(self):\n",
    "        return \"엄마가 수영\"\n",
    "\n",
    "class Dad(Person):\n",
    "    gene = \"XY\"\n",
    "\n",
    "    def walk(self):\n",
    "        return \"아빠가 걷기\"\n",
    "\n",
    "\n",
    "class FirstChild(Dad, Mom):\n",
    "    def swim(self):\n",
    "        return \"첫째가 수영\"\n",
    "    \n",
    "    def cry(self):\n",
    "        return \"첫째가 응애\"\n",
    "\n",
    "baby1 = FirstChild('아가')\n",
    "\n",
    "print(baby1.cry())\n",
    "print(baby1.swim())\n",
    "print(baby1.walk())\n",
    "print(baby1.gene) # \n"
   ]
  },
  {
   "cell_type": "code",
   "execution_count": 17,
   "metadata": {},
   "outputs": [
    {
     "name": "stdout",
     "output_type": "stream",
     "text": [
      "첫째가 응애\n",
      "아빠가 걷기\n",
      "첫째가 수영\n",
      "XY\n"
     ]
    }
   ],
   "source": [
    "class SecondChild(Mom, Dad):\n",
    "    def walk(self):\n",
    "        return \"둘째가 걷기\"\n",
    "    \n",
    "    def cry(self):\n",
    "        return \"둘째가 응애\"\n",
    "\n",
    "baby2 = FirstChild('아가')\n",
    "\n",
    "print(baby2.cry())\n",
    "print(baby2.walk())\n",
    "print(baby2.swim())\n",
    "print(baby2.gene) # "
   ]
  },
  {
   "attachments": {},
   "cell_type": "markdown",
   "metadata": {},
   "source": [
    "첫 번째로 나오는 부모 클래스의 속성을 상속 받는 것으로 보인다. 중복된 메소드의 경우는 좀 더 살펴봐야 한다."
   ]
  },
  {
   "attachments": {},
   "cell_type": "markdown",
   "metadata": {},
   "source": [
    "#### 상속 관련 함수와 메서드  \n",
    "\n",
    "- mro 메서드 (Method Resolution Order)\n",
    "    - 해당 인스턴스의 클래스가 어떤 부모 클래스를 가지는지 확인하는 메서드  \n",
    "    - 기존의 인스턴스 -> 클래스 순으로 이름 공간을 탐색하는 과정에서 상속 관계에 있으면 인스턴스 -> 자식 클래스 -> 부모 클래스로 확장"
   ]
  },
  {
   "cell_type": "code",
   "execution_count": 18,
   "metadata": {},
   "outputs": [
    {
     "name": "stdout",
     "output_type": "stream",
     "text": [
      "[<class '__main__.FirstChild'>, <class '__main__.Dad'>, <class '__main__.Mom'>, <class '__main__.Person'>, <class 'object'>]\n",
      "[<class '__main__.SecondChild'>, <class '__main__.Mom'>, <class '__main__.Dad'>, <class '__main__.Person'>, <class 'object'>]\n"
     ]
    }
   ],
   "source": [
    "print(FirstChild.mro())\n",
    "print(SecondChild.mro())"
   ]
  },
  {
   "attachments": {},
   "cell_type": "markdown",
   "metadata": {},
   "source": [
    "### 다형성(Polymorphism)\n",
    "\n",
    "- 여러 모양을 뜻하는 그리스어  \n",
    "- 동일한 메서드가 클래스에 따라 다르게 행동할 수 있음을 의미  \n",
    "- 즉, 서로 다른 클래스에 속해있는 <u>객체들이 동일한 메시지에 대한 다른 방식으로 응답할 수 있음.</u>"
   ]
  },
  {
   "attachments": {},
   "cell_type": "markdown",
   "metadata": {},
   "source": [
    "#### 메서드 오버라이딩\n",
    "\n",
    "- 상속받은 메서드를 재정의  \n",
    "    - 클래스 상속 시, 부모 클래스에서 정의한 메서들르 자식 클래스에서 변경  \n",
    "    - 부모 클래스의 이름과 기본 기능은 그대로 사용하지만, 특정 기능을 바꾸고 싶을 때 사용  \n",
    "    - 상속 받은 클래스에서 같은 이름의 메서드로 덮어씀\n",
    "    - 부모 클래스의 메서드를 실행시키고 싶은 경우 super를 활용"
   ]
  },
  {
   "cell_type": "code",
   "execution_count": 27,
   "metadata": {},
   "outputs": [
    {
     "name": "stdout",
     "output_type": "stream",
     "text": [
      "김교수일세.\n",
      "반갑습니다. 이학생입니다.\n",
      "저는 학생입니다.\n"
     ]
    }
   ],
   "source": [
    "class Person:\n",
    "    def __init__(self, name):\n",
    "        self.name = name\n",
    "\n",
    "    def talk(self):\n",
    "        print(f\"반갑습니다. {self.name}입니다.\")\n",
    "\n",
    "# 자식 클래스들\n",
    "class Professor(Person):\n",
    "    def talk(self):\n",
    "        print(f\"{self.name}일세.\")\n",
    "\n",
    "class Student(Person):\n",
    "    def talk(self):\n",
    "        super().talk()\n",
    "        print(f\"저는 학생입니다.\")\n",
    "\n",
    "p1 = Professor(\"김교수\")\n",
    "p1.talk()\n",
    "\n",
    "s1 = Student(\"이학생\")\n",
    "s1.talk()"
   ]
  },
  {
   "attachments": {},
   "cell_type": "markdown",
   "metadata": {},
   "source": [
    "### 캡슐화  \n",
    "\n",
    "- 객체의 일부 구현 내용에 대해 외부로부터의 직접적인 액세스를 차단(public, private... 자바?)  \n",
    "    - 예시: 주민등록번호\n",
    "\n",
    "&nbsp;\n",
    "\n",
    "- 파이썬에서 암묵적으로 존재하지만, 언어적으로 존재하지 않음"
   ]
  },
  {
   "attachments": {},
   "cell_type": "markdown",
   "metadata": {},
   "source": [
    "#### 접근제어자 종류\n",
    "\n",
    "- Public Access Modifier: 모두 가능\n",
    "- Protected Access Modifier: 상속 관계에서만 가능 (클래스 자식), 개념적으로만 존재한다.\n",
    "- Priviate Access Modifier: 나만 가능 (클래스 자기 자신)"
   ]
  },
  {
   "attachments": {},
   "cell_type": "markdown",
   "metadata": {},
   "source": [
    "Public Member\n",
    "\n",
    "- 언더바 없이 시작하는 메서드나 속성  \n",
    "- 어디서나 호출이 가능, 하위 클래스 override 허용  \n",
    "- 일반적으로 작성되는 메서드와 속성의 대다수를 차지  "
   ]
  },
  {
   "cell_type": "code",
   "execution_count": 29,
   "metadata": {},
   "outputs": [
    {
     "name": "stdout",
     "output_type": "stream",
     "text": [
      "김싸피\n",
      "30\n"
     ]
    }
   ],
   "source": [
    "class Person:\n",
    "    \n",
    "    def __init__(self, name, age):\n",
    "        self.name = name\n",
    "        self.age = age\n",
    "\n",
    "\n",
    "# Person 클래스의 인스턴스인 p1은 이름(name)과 나이(age) 모두 접근 가능하다.\n",
    "p1 = Person(\"김싸피\", 30)\n",
    "print(p1.name)\n",
    "print(p1.age)"
   ]
  },
  {
   "attachments": {},
   "cell_type": "markdown",
   "metadata": {},
   "source": [
    "Protected Member\n",
    "- 언더바 1개로 시작하는 메서드  \n",
    "- 암묵적인 규칙에 의해 부모 클래스 내부와 자식 클래스에서만 호출 가능  \n",
    "- 하위 클래스 Override 허용"
   ]
  },
  {
   "cell_type": "code",
   "execution_count": 36,
   "metadata": {},
   "outputs": [
    {
     "name": "stdout",
     "output_type": "stream",
     "text": [
      "30\n",
      "30\n"
     ]
    }
   ],
   "source": [
    "class Person:\n",
    "    def __init__(self, name, age):\n",
    "        self.name = name\n",
    "        self._age = age\n",
    "\n",
    "    def get_age(self):\n",
    "        return self._age\n",
    "\n",
    "# 인스턴스를 만들고 get_age 메서드를 활용하여 호출할 수 있다.\n",
    "p1 = Person(\"김싸피\", 30)\n",
    "print(p1.get_age())\n",
    "\n",
    "print(p1._age) # __age에 직접 접근하여도 확인이 가능하다."
   ]
  },
  {
   "attachments": {},
   "cell_type": "markdown",
   "metadata": {},
   "source": [
    "Private Member  \n",
    "\n",
    "- 언더바 2개로 시작하는 메서드나 속성\n",
    "- 본 클래스의 내부에서만 사용이 가능  \n",
    "- 하위 클래스 상속 및 호출 불가능 (오류)  \n",
    "- 외부 호출 불가능 (오류)  "
   ]
  },
  {
   "cell_type": "code",
   "execution_count": 30,
   "metadata": {},
   "outputs": [
    {
     "name": "stdout",
     "output_type": "stream",
     "text": [
      "30\n"
     ]
    },
    {
     "ename": "AttributeError",
     "evalue": "'Person' object has no attribute '__age'",
     "output_type": "error",
     "traceback": [
      "\u001b[1;31m---------------------------------------------------------------------------\u001b[0m",
      "\u001b[1;31mAttributeError\u001b[0m                            Traceback (most recent call last)",
      "Cell \u001b[1;32mIn[30], line 13\u001b[0m\n\u001b[0;32m     10\u001b[0m p1 \u001b[39m=\u001b[39m Person(\u001b[39m\"\u001b[39m\u001b[39m김싸피\u001b[39m\u001b[39m\"\u001b[39m, \u001b[39m30\u001b[39m)\n\u001b[0;32m     11\u001b[0m \u001b[39mprint\u001b[39m(p1\u001b[39m.\u001b[39mget_age())\n\u001b[1;32m---> 13\u001b[0m \u001b[39mprint\u001b[39m(p1\u001b[39m.\u001b[39;49m__age)\n",
      "\u001b[1;31mAttributeError\u001b[0m: 'Person' object has no attribute '__age'"
     ]
    }
   ],
   "source": [
    "class Person:\n",
    "    def __init__(self, name, age):\n",
    "        self.name = name\n",
    "        self.__age = age\n",
    "\n",
    "    def get_age(self):\n",
    "        return self.__age\n",
    "\n",
    "# 인스턴스를 만들고 get_age 메서드를 활용하여 호출할 수 있다.\n",
    "p1 = Person(\"김싸피\", 30)\n",
    "print(p1.get_age())\n",
    "\n",
    "# print(p1.__age) # __age에 대한 직접적인 접근이 불가능하다."
   ]
  },
  {
   "attachments": {},
   "cell_type": "markdown",
   "metadata": {},
   "source": [
    "#### getter 메서드와 setter 메서드  (몰랐던 것)\n",
    "- 변수에 접근할 수 있는 메서드를 별도로 생성\n",
    "    - getter 메서드: 변수의 값을 읽는 메서드  \n",
    "        - @property 데코레이터 사용  \n",
    "    - setter 메서드: 변수의 값을 설정하는 성격의 메서드  \n",
    "        - @변수.setter 사용"
   ]
  },
  {
   "cell_type": "code",
   "execution_count": 8,
   "metadata": {},
   "outputs": [
    {
     "name": "stdout",
     "output_type": "stream",
     "text": [
      "setter 호출!!\n",
      "getter 호출!!\n",
      "25\n"
     ]
    }
   ],
   "source": [
    "# 몰랐던 것\n",
    "class Person:\n",
    "    def __init__(self):\n",
    "        self._age = 0\n",
    "    \n",
    "    def get_age(self):\n",
    "        print(\"getter 호출!!\")\n",
    "        return self.__age\n",
    "    \n",
    "    def set_age(self, age):\n",
    "        print(\"setter 호출!!\")\n",
    "        self.__age = age\n",
    "    \n",
    "    age = property(get_age, set_age)\n",
    "\n",
    "p1 = Person()\n",
    "p1.age = 25\n",
    "print(p1.age)"
   ]
  },
  {
   "cell_type": "code",
   "execution_count": 6,
   "metadata": {},
   "outputs": [],
   "source": [
    "class Person:\n",
    "    def __init__(self ,age):\n",
    "        self._age = age\n",
    "    \n",
    "    @property\n",
    "    def age(self):\n",
    "        return self._age\n",
    "    \n",
    "    @age.setter\n",
    "    def age(self, new_age):\n",
    "        if new_age <= 19:\n",
    "            raise ValueError(\"Too Young For SSAFY\")\n",
    "            return\n",
    "    \n",
    "        self._age = new_age"
   ]
  },
  {
   "cell_type": "code",
   "execution_count": 7,
   "metadata": {},
   "outputs": [
    {
     "name": "stdout",
     "output_type": "stream",
     "text": [
      "20\n",
      "33\n"
     ]
    },
    {
     "ename": "ValueError",
     "evalue": "Too Young For SSAFY",
     "output_type": "error",
     "traceback": [
      "\u001b[1;31m---------------------------------------------------------------------------\u001b[0m",
      "\u001b[1;31mValueError\u001b[0m                                Traceback (most recent call last)",
      "Cell \u001b[1;32mIn[7], line 7\u001b[0m\n\u001b[0;32m      4\u001b[0m p1\u001b[39m.\u001b[39mage \u001b[39m=\u001b[39m \u001b[39m33\u001b[39m\n\u001b[0;32m      5\u001b[0m \u001b[39mprint\u001b[39m(p1\u001b[39m.\u001b[39mage)\n\u001b[1;32m----> 7\u001b[0m p1\u001b[39m.\u001b[39;49mage \u001b[39m=\u001b[39m \u001b[39m19\u001b[39m\n\u001b[0;32m      8\u001b[0m \u001b[39mprint\u001b[39m(p1\u001b[39m.\u001b[39mage)\n",
      "Cell \u001b[1;32mIn[6], line 12\u001b[0m, in \u001b[0;36mPerson.age\u001b[1;34m(self, new_age)\u001b[0m\n\u001b[0;32m      9\u001b[0m \u001b[39m@age\u001b[39m\u001b[39m.\u001b[39msetter\n\u001b[0;32m     10\u001b[0m \u001b[39mdef\u001b[39;00m \u001b[39mage\u001b[39m(\u001b[39mself\u001b[39m, new_age):\n\u001b[0;32m     11\u001b[0m     \u001b[39mif\u001b[39;00m new_age \u001b[39m<\u001b[39m\u001b[39m=\u001b[39m \u001b[39m19\u001b[39m:\n\u001b[1;32m---> 12\u001b[0m         \u001b[39mraise\u001b[39;00m \u001b[39mValueError\u001b[39;00m(\u001b[39m\"\u001b[39m\u001b[39mToo Young For SSAFY\u001b[39m\u001b[39m\"\u001b[39m)\n\u001b[0;32m     13\u001b[0m         \u001b[39mreturn\u001b[39;00m\n\u001b[0;32m     15\u001b[0m     \u001b[39mself\u001b[39m\u001b[39m.\u001b[39m_age \u001b[39m=\u001b[39m new_age\n",
      "\u001b[1;31mValueError\u001b[0m: Too Young For SSAFY"
     ]
    }
   ],
   "source": [
    "p1 = Person(20)\n",
    "print(p1.age)\n",
    "\n",
    "p1.age = 33\n",
    "print(p1.age)\n",
    "\n",
    "p1.age = 19\n",
    "print(p1.age)"
   ]
  },
  {
   "attachments": {},
   "cell_type": "markdown",
   "metadata": {},
   "source": [
    "### 에러와 예외의처리"
   ]
  },
  {
   "attachments": {},
   "cell_type": "markdown",
   "metadata": {},
   "source": [
    "#### 디버깅\n",
    "- 잘못된 프로그램을 수정하는 것 de(없앤다) + bugging\n",
    "- 에러 메시지가 발생한 경우\n",
    "    - 해당하는 위치를 찾아 메시지를 해결\n",
    "- 로직 에러가 발생하는 경우\n",
    "    - 명시적인 에러 메시지 없이 예상과 다른 결과가 나온 경우\n",
    "        - 정상적으로 동작하였던 코드 이후 작성된 코드를 생각해봄\n",
    "        - 전체코드를 펴봄\n",
    "        - 휴식을 가져봄\n",
    "        - 누군가에게 설명해봄\n",
    "        - ..."
   ]
  },
  {
   "attachments": {},
   "cell_type": "markdown",
   "metadata": {},
   "source": [
    "디비깅을 효율적으로 하는 방법\n",
    "\n",
    "1. print 함수 활용\n",
    "    - 특정 결과, 반복/조건 결과 등 나눠서 생각, 코드를 bisection으로 나눠서 생각  \n",
    "2. 개발환경(text editor, IDE) 등에서 제공하는 기능 활용\n",
    "    - breakpoint, 변수 조회 등\n",
    "3. 파이썬 tutor활용 (단순 파이썬 코드인 경우)  \n",
    "4. 뇌컴파일, 눈디버깅"
   ]
  },
  {
   "attachments": {},
   "cell_type": "markdown",
   "metadata": {},
   "source": [
    "#### 문법 에러(Syntax Error)\n",
    "\n",
    "- SyntaxError가 발생하면, 파이썬 프로그램은 실행이 되지 않음\n",
    "- 파일이름, 줄번호, ^문자를 통해 파이썬이 코드를 읽어 나갈 때(Parser) 문제가 발생한 위치를 표현  \n",
    "- 줄에서 에러가 감지된 가장 앞자리 위치를 가리키는 캐럿(caret)기호(^)를 표시"
   ]
  },
  {
   "cell_type": "code",
   "execution_count": 37,
   "metadata": {},
   "outputs": [],
   "source": [
    "# invalid syntax: 문법 오류\n",
    "# assign to literal: 잘못된 할당\n",
    "# EOL: End Of Line\n",
    "# EOF: End Of File "
   ]
  },
  {
   "attachments": {},
   "cell_type": "markdown",
   "metadata": {},
   "source": [
    "#### 예외  \n",
    "\n",
    "- 실행 도중 예상치 못한 상황을 맞이하면, 프로그램 실행을 멈춤\n",
    "    - 문장이나 표현식이 문법적으로 올바르더라도 발생하는 에러\n",
    "- 실행 중에 감지되는 에러들을 예외(Exception)라고 부름\n",
    "- 예외는 여러 타입(type)으로 나타나고, 타입이 메시지의 일부로 출력됨\n",
    "    - NameError, TypeError 등은 발생한 예외 타입의 종류(이름)\n",
    "- <strong>모든 내장 예외는 Exception Calss를 상속받아 이뤄짐</strong>\n",
    "- 사용자 정의 예외를 만들어 관리할 수 있음"
   ]
  },
  {
   "cell_type": "code",
   "execution_count": 42,
   "metadata": {},
   "outputs": [],
   "source": [
    "# ZeroDivisionError : 0으로 나누었을 때의 오류\n",
    "# NameError: namespace 상에 이름이 없는 경우\n",
    "# TypeError: 타입 불일치, argument 누락, argument 개수 초과, argument type 불일치\n",
    "# valueError: 타입은 올바르나 값이 적절하지 않거나 없는 경우\n",
    "# indexError: 인덱스가 존재하지 않거나 범위를 벗어나는 경우\n",
    "# keyError: 해당키가 존재하지 않는 경우\n",
    "# ModuleNotFoundError: 해당 모듈이 없을 때\n",
    "# importError: 모듈은 존재하나 존재하지 않는 클래스/함수를 가져오는 경우\n",
    "# KeyboardInterrupt: 임의로 프로그램을 종료하였을 때\n",
    "# IdentationError: Indentation이 적절하지 않는 경우\n",
    "# built-in-execeptions: 파이썬 내장 예외 < https://docs.python.org/ko/3.9/library/exceptions.html >\n"
   ]
  },
  {
   "attachments": {},
   "cell_type": "markdown",
   "metadata": {},
   "source": [
    "#### 예외처리"
   ]
  },
  {
   "attachments": {},
   "cell_type": "markdown",
   "metadata": {},
   "source": [
    "try(statement)/ exception 절(cluase)을 이용하여 예외 처리를 할 수 있음  \n",
    "\n",
    "- try\n",
    "    - 오류가 발생할 가능성이 있는 코드를 실행\n",
    "    - 예외가 발생되지 않으면, except없이 실행 종료\n",
    "\n",
    "&nbsp;\n",
    "\n",
    "- except\n",
    "    - 예외가 발생하면, except절이 실행\n",
    "    - 예외 상황을 처리하는 코드를 받아서 적절한 조치를 취함  \n",
    "\n",
    "&nbsp;\n",
    "\n",
    "- else : try문에서 예외가 발생하지 않으면 실행\n",
    "- finally: 예외 발생와 관계없이 항상 실행함"
   ]
  },
  {
   "attachments": {},
   "cell_type": "markdown",
   "metadata": {},
   "source": [
    "에러 메시지 처리 (as)"
   ]
  },
  {
   "cell_type": "code",
   "execution_count": 43,
   "metadata": {},
   "outputs": [
    {
     "name": "stdout",
     "output_type": "stream",
     "text": [
      "list index out of range, 오류가 발생했습니다.\n"
     ]
    }
   ],
   "source": [
    "try:\n",
    "    empty_list = []\n",
    "    print(empty_list[-1])\n",
    "except IndexError as err:\n",
    "    print(f\"{err}, 오류가 발생했습니다.\")"
   ]
  },
  {
   "cell_type": "code",
   "execution_count": 45,
   "metadata": {},
   "outputs": [
    {
     "name": "stdout",
     "output_type": "stream",
     "text": [
      "해당 파일 없습니다.\n",
      "파일 읽기를 종료합니다.\n"
     ]
    }
   ],
   "source": [
    "# 파일이 없는 데 읽을려고 하는 경우\n",
    "\n",
    "try:\n",
    "    f = open(\"nofile.txt\")\n",
    "except FileNotFoundError:\n",
    "    print(\"해당 파일 없습니다.\")\n",
    "else:\n",
    "    print(\"파일을 읽기 시작합니다.\")\n",
    "    print(f.read())\n",
    "    print(\"파일을 모두 읽었습니다.\")\n",
    "    f.close()\n",
    "finally:\n",
    "    print(\"파일 읽기를 종료합니다.\")\n"
   ]
  },
  {
   "attachments": {},
   "cell_type": "markdown",
   "metadata": {},
   "source": [
    "# 9일차 오프라인"
   ]
  },
  {
   "attachments": {},
   "cell_type": "markdown",
   "metadata": {},
   "source": [
    "객체지향의 핵심개념  \n",
    "- 상속\n",
    "- 추상화\n",
    "- 캡슐화\n",
    "- 다형성\n",
    "\n",
    "버그/예외처리"
   ]
  },
  {
   "cell_type": "code",
   "execution_count": 1,
   "metadata": {},
   "outputs": [],
   "source": [
    "class plus_minus:\n",
    "    def __init__(self, a, b):\n",
    "        self.first = a\n",
    "        self.second = b\n",
    "    def plus(self):\n",
    "        result = self.first + self.second\n",
    "        return result\n",
    "\n",
    "    def minus(self):\n",
    "        result = self.first - self.second\n",
    "        return result"
   ]
  },
  {
   "cell_type": "code",
   "execution_count": 2,
   "metadata": {},
   "outputs": [
    {
     "name": "stdout",
     "output_type": "stream",
     "text": [
      "7\n"
     ]
    }
   ],
   "source": [
    "ob1 = plus_minus(3, 4)\n",
    "print(ob1.plus())"
   ]
  },
  {
   "cell_type": "code",
   "execution_count": 5,
   "metadata": {},
   "outputs": [
    {
     "name": "stdout",
     "output_type": "stream",
     "text": [
      "60\n"
     ]
    }
   ],
   "source": [
    "# 부모 클래스의 속성과 메소들 들이 자식 클래스로 상속이 된다.\n",
    "\n",
    "class morefunction(plus_minus):\n",
    "    def __init__(self, a, b, c):\n",
    "        super().__init__(a, b)\n",
    "        self.third = c\n",
    "\n",
    "    def mul(self):\n",
    "        result = self.first * self.second * self.third\n",
    "        return result\n",
    "\n",
    "b = morefunction(3, 4, 5)\n",
    "print(b.mul())"
   ]
  },
  {
   "cell_type": "code",
   "execution_count": 6,
   "metadata": {},
   "outputs": [
    {
     "name": "stdout",
     "output_type": "stream",
     "text": [
      "7\n"
     ]
    }
   ],
   "source": [
    "print(b.plus())"
   ]
  },
  {
   "cell_type": "code",
   "execution_count": 7,
   "metadata": {},
   "outputs": [],
   "source": [
    "# 단 자식 클래스에서 생성된 메서드를 부모 클래스에서 사용은 불가능"
   ]
  },
  {
   "attachments": {},
   "cell_type": "markdown",
   "metadata": {},
   "source": [
    "메서드 오버라이딩\n",
    "- 덮어쓰기\n",
    "- 부모 클래스에 존재하는 메서드를 자식 클래스에서 재정의\n",
    "- 부모 클래스의 기본 기능은 그대로 사용하고 싶으나, 특정 기능을 바꾸고 싶을 때"
   ]
  },
  {
   "cell_type": "code",
   "execution_count": 9,
   "metadata": {},
   "outputs": [
    {
     "name": "stdout",
     "output_type": "stream",
     "text": [
      "60\n",
      "12\n"
     ]
    }
   ],
   "source": [
    "# 숫자 3개의 합이 100이 넘으면 '버그'라고 출력하려고 한다.\n",
    "class morefunction(plus_minus):\n",
    "    def __init__(self, a, b, c):\n",
    "        super().__init__(a, b)\n",
    "        self.third = c\n",
    "\n",
    "    def mul(self):\n",
    "        result = self.first * self.second * self.third\n",
    "        return result\n",
    "\n",
    "    def plus(self):\n",
    "        res = self.first + self.second + self.third\n",
    "        if res > 100:\n",
    "            return \"버그\"\n",
    "        else:\n",
    "            return res\n",
    "\n",
    "b = morefunction(3, 4, 5)\n",
    "print(b.mul())\n",
    "print(b.plus())"
   ]
  },
  {
   "cell_type": "code",
   "execution_count": 11,
   "metadata": {},
   "outputs": [
    {
     "name": "stdout",
     "output_type": "stream",
     "text": [
      "60\n",
      "12\n",
      "7\n"
     ]
    }
   ],
   "source": [
    "# super를 사용해서 재정의하기\n",
    "# 숫자 3개의 합이 100이 넘으면 '버그'라고 출력하려고 한다.\n",
    "class morefunction(plus_minus):\n",
    "    def __init__(self, a, b, c):\n",
    "        super().__init__(a, b)\n",
    "        self.third = c\n",
    "\n",
    "    def mul(self):\n",
    "        result = self.first * self.second * self.third\n",
    "        return result\n",
    "\n",
    "    def plus(self):\n",
    "        res = self.first + self.second + self.third\n",
    "        if res > 100:\n",
    "            return \"버그\"\n",
    "        else:\n",
    "            return res\n",
    "\n",
    "    def parents_plus(self):\n",
    "        ret = super().plus()\n",
    "        return ret\n",
    "\n",
    "b = morefunction(3, 4, 5)\n",
    "print(b.mul())\n",
    "print(b.plus())\n",
    "print(b.parents_plus())"
   ]
  },
  {
   "attachments": {},
   "cell_type": "markdown",
   "metadata": {},
   "source": [
    "속성을 얻기 위해서는 @property, 속성을 바꾸기 위해서는 @속성.setter 데코레이터를 각각 사용해주는 것이 좋다."
   ]
  },
  {
   "cell_type": "code",
   "execution_count": 10,
   "metadata": {},
   "outputs": [],
   "source": [
    "class Person:\n",
    "    def __init__(self ,age):\n",
    "        self._age = age\n",
    "    \n",
    "    @property\n",
    "    def age(self):\n",
    "        return self._age\n",
    "    \n",
    "    @age.setter\n",
    "    def age(self, new_age):\n",
    "        if new_age <= 19:\n",
    "            raise ValueError(\"Too Young For SSAFY\")\n",
    "            return\n",
    "    \n",
    "        self._age = new_age"
   ]
  },
  {
   "cell_type": "code",
   "execution_count": 11,
   "metadata": {},
   "outputs": [
    {
     "name": "stdout",
     "output_type": "stream",
     "text": [
      "20\n",
      "33\n"
     ]
    },
    {
     "ename": "ValueError",
     "evalue": "Too Young For SSAFY",
     "output_type": "error",
     "traceback": [
      "\u001b[1;31m---------------------------------------------------------------------------\u001b[0m",
      "\u001b[1;31mValueError\u001b[0m                                Traceback (most recent call last)",
      "Cell \u001b[1;32mIn[11], line 7\u001b[0m\n\u001b[0;32m      4\u001b[0m p1\u001b[39m.\u001b[39mage \u001b[39m=\u001b[39m \u001b[39m33\u001b[39m\n\u001b[0;32m      5\u001b[0m \u001b[39mprint\u001b[39m(p1\u001b[39m.\u001b[39mage)\n\u001b[1;32m----> 7\u001b[0m p1\u001b[39m.\u001b[39;49mage \u001b[39m=\u001b[39m \u001b[39m19\u001b[39m\n\u001b[0;32m      8\u001b[0m \u001b[39mprint\u001b[39m(p1\u001b[39m.\u001b[39mage)\n",
      "Cell \u001b[1;32mIn[10], line 12\u001b[0m, in \u001b[0;36mPerson.age\u001b[1;34m(self, new_age)\u001b[0m\n\u001b[0;32m      9\u001b[0m \u001b[39m@age\u001b[39m\u001b[39m.\u001b[39msetter\n\u001b[0;32m     10\u001b[0m \u001b[39mdef\u001b[39;00m \u001b[39mage\u001b[39m(\u001b[39mself\u001b[39m, new_age):\n\u001b[0;32m     11\u001b[0m     \u001b[39mif\u001b[39;00m new_age \u001b[39m<\u001b[39m\u001b[39m=\u001b[39m \u001b[39m19\u001b[39m:\n\u001b[1;32m---> 12\u001b[0m         \u001b[39mraise\u001b[39;00m \u001b[39mValueError\u001b[39;00m(\u001b[39m\"\u001b[39m\u001b[39mToo Young For SSAFY\u001b[39m\u001b[39m\"\u001b[39m)\n\u001b[0;32m     13\u001b[0m         \u001b[39mreturn\u001b[39;00m\n\u001b[0;32m     15\u001b[0m     \u001b[39mself\u001b[39m\u001b[39m.\u001b[39m_age \u001b[39m=\u001b[39m new_age\n",
      "\u001b[1;31mValueError\u001b[0m: Too Young For SSAFY"
     ]
    }
   ],
   "source": [
    "p1 = Person(20)\n",
    "print(p1.age)\n",
    "\n",
    "p1.age = 33\n",
    "print(p1.age)\n",
    "\n",
    "p1.age = 19\n",
    "print(p1.age)"
   ]
  },
  {
   "cell_type": "code",
   "execution_count": 12,
   "metadata": {},
   "outputs": [],
   "source": [
    "# 참고로 @property 데코레이터 사용을 하면 메서드 호출 시 ()를 생략해야 한다.\n",
    "# 관례 상 setter getter 함수명은 변수명에 따른다."
   ]
  },
  {
   "attachments": {},
   "cell_type": "markdown",
   "metadata": {},
   "source": [
    "#### counter\n",
    "\n",
    "- 중복된 데이터가 각각 몇 개씩 있는지 딕셔너리로 알려줌"
   ]
  },
  {
   "cell_type": "code",
   "execution_count": 15,
   "metadata": {},
   "outputs": [
    {
     "name": "stdout",
     "output_type": "stream",
     "text": [
      "Counter({'apple': 3, 'mango': 2, 'banana': 2})\n"
     ]
    }
   ],
   "source": [
    "from collections import Counter\n",
    "lst = [\"apple\", \"mango\", \"apple\", \"banana\", \"banana\", \"mango\", \"apple\"]\n",
    "\n",
    "a = Counter(lst)\n",
    "print(a)"
   ]
  },
  {
   "cell_type": "code",
   "execution_count": 16,
   "metadata": {},
   "outputs": [
    {
     "name": "stdout",
     "output_type": "stream",
     "text": [
      "{'a': 3, 'n': 2, ' ': 2, 'p': 2, 'l': 1, 'e': 1, 'm': 1, 'g': 1, 'o': 1}\n"
     ]
    }
   ],
   "source": [
    "st = \"an apple mango\"\n",
    "ret = dict(Counter(st))\n",
    "print(ret)"
   ]
  },
  {
   "cell_type": "code",
   "execution_count": 17,
   "metadata": {},
   "outputs": [
    {
     "name": "stdout",
     "output_type": "stream",
     "text": [
      "('a', 3)\n"
     ]
    }
   ],
   "source": [
    "ret = sorted(ret.items(), key = lambda x:x[1], reverse = True)\n",
    "print(ret[0])"
   ]
  },
  {
   "cell_type": "code",
   "execution_count": 19,
   "metadata": {},
   "outputs": [
    {
     "name": "stdout",
     "output_type": "stream",
     "text": [
      "[('a', 3)]\n"
     ]
    }
   ],
   "source": [
    "ret = Counter(st).most_common(1) # 상위 n가지 항목을 지정한다.\n",
    "print(ret)"
   ]
  },
  {
   "cell_type": "code",
   "execution_count": 20,
   "metadata": {},
   "outputs": [
    {
     "name": "stdout",
     "output_type": "stream",
     "text": [
      "[('a', 3), ('n', 2)]\n"
     ]
    }
   ],
   "source": [
    "ret = Counter(st).most_common(2) # 상위 n가지 항목을 지정한다.\n",
    "print(ret)"
   ]
  },
  {
   "cell_type": "code",
   "execution_count": 21,
   "metadata": {},
   "outputs": [
    {
     "name": "stdout",
     "output_type": "stream",
     "text": [
      "Counter({'a': 2, 'p': 2, 'l': 1, 'e': 1, 'm': 1, 'n': 1, 'g': 1, 'o': 1})\n"
     ]
    }
   ],
   "source": [
    "a = Counter(\"apple\")\n",
    "b = Counter(\"mango\")\n",
    "\n",
    "print(a + b)"
   ]
  }
 ],
 "metadata": {
  "kernelspec": {
   "display_name": "Python 3",
   "language": "python",
   "name": "python3"
  },
  "language_info": {
   "codemirror_mode": {
    "name": "ipython",
    "version": 3
   },
   "file_extension": ".py",
   "mimetype": "text/x-python",
   "name": "python",
   "nbconvert_exporter": "python",
   "pygments_lexer": "ipython3",
   "version": "3.9.13"
  },
  "orig_nbformat": 4,
  "vscode": {
   "interpreter": {
    "hash": "c4b9ebf4ca459396e2ad1150752490c26670c1a037c08cad955a4425787bec2e"
   }
  }
 },
 "nbformat": 4,
 "nbformat_minor": 2
}
