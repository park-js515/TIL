{
 "cells": [
  {
   "attachments": {},
   "cell_type": "markdown",
   "metadata": {},
   "source": [
    "# 수업1"
   ]
  },
  {
   "attachments": {},
   "cell_type": "markdown",
   "metadata": {},
   "source": [
    "월~목 공부한 것을 기반으로 금요일에 관통 PJT를 할 것\n",
    "왜 관통인가? 주차마다 했던 내용을 계속해서 발전시켜 나가기 때문에\n",
    "\n",
    "&nbsp;\n",
    "\n",
    "### What is programming?\n",
    "- 프로그래밍 : 컴퓨터에게 적절한 수행 절차를 정의하고 이를 프로그래밍 언어로 표현\n",
    "- 컴퓨터를 이해하기 위한 것들 : 자료구조, 컴퓨터 구조, 네트워크, 프로그래밍 언어론, 이산수학, 알고리즘 등.."
   ]
  },
  {
   "attachments": {},
   "cell_type": "markdown",
   "metadata": {},
   "source": [
    "###  우리가 마주칠 일들\n",
    "\n",
    "- 구문 오류 (syntax error) : 문법이 틀려서 실행이 되지 않는 것\n",
    "- 논리 오류 (sematic erorr) : 문법을 틀리지 않아서 실행이 되나 내가 원하는 결과가 아닌 것\n",
    "\n",
    "> - Computational Thinking\n",
    "> 1. 컴퓨터의 특성을 잘 이해한다.\n",
    "> 2. 문제 해결 능력(실무에 적합한 사람?) : 논리적 사고 == 작은 문제로 쪼개기\n",
    "> 3. 프로그래밍 언어에 익숙해 질 것 : trial & error"
   ]
  },
  {
   "attachments": {},
   "cell_type": "markdown",
   "metadata": {},
   "source": [
    "### 통합 개발 환경\n",
    "IDE = Intergrated Development Environment \n",
    "\n",
    "Jupyter Notebook\n",
    "\n",
    "IDLE = Intergrated Development and Learning Environment\n",
    "\n",
    "파이참을 사용하는 이유 : 디버깅 툴을 이용하기 위해서"
   ]
  },
  {
   "attachments": {},
   "cell_type": "markdown",
   "metadata": {},
   "source": [
    "### 변수\n",
    "\n",
    "변수 <-> 상수\n",
    "\n",
    "변수의 이름을 식별자라고 한다.\n",
    "1. 읽고 쉽고 이해하기 쉬운 변수명이 최고임.\n",
    "2. 예약어 목록 : import keyword \\n print(keyword.kwlist)"
   ]
  },
  {
   "attachments": {},
   "cell_type": "markdown",
   "metadata": {},
   "source": [
    "### 자료형\n",
    "\n",
    "데이터를 저장할 때는 램(메모리)에 저장한다. (이유 : 속도가 빠르기 때문에)\n",
    "\n",
    "id() : 왜 필요한가? 두 대상이 동일한지 비교하기 위해서 필요하다.\n",
    "\n",
    "- 2진수 : bin, 0b\n",
    "- 8진수 : oct, 0o\n",
    "- 16진수 : hex, 0x\n",
    "\n",
    "소수의 경우 해당 진수의 값을 곱해서 소수점 윗자리 수의 값을 이용한다.\n",
    "\n",
    "실수 연산의 경우 부동소수점으로 저장될 수 있다. (Float point rounding error)"
   ]
  },
  {
   "attachments": {},
   "cell_type": "markdown",
   "metadata": {},
   "source": [
    "### 문자열 자료형\n",
    "\n",
    "\\r : 캐리지 리턴 (덮어씌우기 인쇄)"
   ]
  },
  {
   "cell_type": "code",
   "execution_count": null,
   "metadata": {},
   "outputs": [],
   "source": [
    "print(\"aaaaa\\rbbb\")"
   ]
  },
  {
   "cell_type": "markdown",
   "metadata": {},
   "source": []
  },
  {
   "attachments": {},
   "cell_type": "markdown",
   "metadata": {},
   "source": [
    "### C or C++ 과 Python의 차이점\n",
    "- 메모리의 영역은 : data, stack(정적 할당 영역), heap(동적 할당 영역) 으로 구분\n",
    "\n",
    "+ + 정적 : 프로그램을 실행했을 때 필수적으로 필요한 영역으로 할당되는 것\n",
    "\n",
    "+ + 동적 : 변수에 이름이 없을 때 사용 (주소값으로 접근할 때 사용하는 것)\n",
    "\n",
    "&nbsp;\n",
    "\n",
    "C나 C++은 변수마다 다른 주소를 할당해주지만..(정적 할당) (int a = 3, int b = 3, 다른 주소를 이용한다.)\n",
    "\n",
    "Python의 경우는 동적 할당으로 변수의 이름은 존재하지 않아 주소만 가리킨다. (a = 3, b = 3이면 동일한 주소를 가리킨다.)\n",
    "\n"
   ]
  },
  {
   "attachments": {},
   "cell_type": "markdown",
   "metadata": {},
   "source": [
    "### 변수"
   ]
  },
  {
   "cell_type": "code",
   "execution_count": null,
   "metadata": {},
   "outputs": [],
   "source": [
    "a, b = 3, 5\n",
    "print(a + b)"
   ]
  },
  {
   "cell_type": "code",
   "execution_count": null,
   "metadata": {},
   "outputs": [],
   "source": [
    "# deep copy \n",
    "# shallow copy\n",
    "a, b = b, a"
   ]
  },
  {
   "cell_type": "code",
   "execution_count": null,
   "metadata": {},
   "outputs": [],
   "source": [
    "# 자료형\n",
    "a = 3\n",
    "print(type(a))"
   ]
  },
  {
   "cell_type": "code",
   "execution_count": null,
   "metadata": {},
   "outputs": [],
   "source": [
    "a = 3.14\n",
    "print(type(a))"
   ]
  },
  {
   "cell_type": "code",
   "execution_count": null,
   "metadata": {},
   "outputs": [],
   "source": [
    "# 소수점 첫 번째 자리까지 출력\n",
    "print(round(a, 1))\n",
    "print(f'{a:.1f}')\n",
    "print(\"{0:.1f}\".format(a))"
   ]
  },
  {
   "cell_type": "code",
   "execution_count": null,
   "metadata": {},
   "outputs": [],
   "source": [
    "print(\"오늘은 \\\"100%\\\"입니다.\")"
   ]
  },
  {
   "cell_type": "code",
   "execution_count": null,
   "metadata": {},
   "outputs": [],
   "source": [
    "# 중요, 내가 몰랐던 내용임\n",
    "s = \"abcefg\"\n",
    "print(s[5:2:-1]) # gfe\n",
    "print(s[1:5:2]) # be"
   ]
  },
  {
   "cell_type": "code",
   "execution_count": null,
   "metadata": {},
   "outputs": [],
   "source": [
    "# bool\n",
    "a, b = 0 , -1\n",
    "a,b = bool(a), bool(b)\n",
    "\n",
    "print(a, b)"
   ]
  },
  {
   "cell_type": "code",
   "execution_count": null,
   "metadata": {},
   "outputs": [],
   "source": [
    "# list, seq자료형\n",
    "lst = [1, 2, 3, 4, 5]\n",
    "print(lst)\n",
    "print(*lst) # 몰랐던 내용"
   ]
  },
  {
   "cell_type": "code",
   "execution_count": null,
   "metadata": {},
   "outputs": [],
   "source": [
    "# tuple, seq자료형\n",
    "tp = tuple(range(1, 6))\n",
    "print(tp)\n",
    "print(*tp)\n",
    "print(type(tp))"
   ]
  },
  {
   "cell_type": "code",
   "execution_count": null,
   "metadata": {},
   "outputs": [],
   "source": [
    "# set - 리스트에서 중복 제거에 용이하다.\n",
    "lst = [2, 2, 2, 3, 5, 5, 6]\n",
    "lst = list(set(lst))\n",
    "print(lst) # 중복된 값이 제거된 리스트를 반환받을 수 있다."
   ]
  },
  {
   "cell_type": "code",
   "execution_count": null,
   "metadata": {},
   "outputs": [],
   "source": [
    "s = {1, 2, 3, 4, 5}\n",
    "s.add(6)\n",
    "s.update([11, 12, 3, 4, 7])\n",
    "print(s)"
   ]
  },
  {
   "cell_type": "code",
   "execution_count": null,
   "metadata": {},
   "outputs": [],
   "source": [
    "s.remove(1)# 없으면 에러 남\n",
    "s.discard(0) # 없어도 에러가 나지 않음\n",
    "print(s)"
   ]
  },
  {
   "cell_type": "code",
   "execution_count": null,
   "metadata": {},
   "outputs": [],
   "source": [
    "s2 = [2, 4, 6, 8]\n",
    "\n",
    "# s1, s2 = set(s1), set(s2)\n",
    "\n",
    "# print(s1&s2) # 교집합\n",
    "# print(s1|s2) # 합집합\n",
    "# print(s1-s2) # 차집합"
   ]
  },
  {
   "attachments": {},
   "cell_type": "markdown",
   "metadata": {},
   "source": [
    "# 수업2"
   ]
  },
  {
   "attachments": {},
   "cell_type": "markdown",
   "metadata": {},
   "source": [
    "### 코드 스타일\n",
    "\n",
    "https://peps.python.org/pep-0008/\n",
    "https://google.github.io/styleguide/pyguide.html"
   ]
  },
  {
   "attachments": {},
   "cell_type": "markdown",
   "metadata": {},
   "source": [
    "### 제어문\n",
    "\n",
    " 순차, 선택, 반복 : 파이썬은 기본적으로 위에서부터 아래로 차례대로 명령을 수행\n",
    "\n",
    "마름모(다이아)는 판단을 가리키는 순서도의 도형\n",
    "\n",
    "직사각형은 처리를 가리키는 순서도의 도형\n",
    "\n",
    "https://post.naver.com/viewer/postView.nhn?volumeNo=13004119&memberNo=2511624"
   ]
  },
  {
   "attachments": {},
   "cell_type": "markdown",
   "metadata": {},
   "source": [
    "###  조건 표현식 *\n",
    "\n",
    "조건 표현식이란 : if와 else구문을 하나의 줄로 표현하는 것\n",
    "\n",
    "> (true인 경우 값) if (조건) else (false인 경우 값)   \n",
    "> value = num if num >= 0 else -num  \n",
    "> result = a if a > b else b  "
   ]
  },
  {
   "attachments": {},
   "cell_type": "markdown",
   "metadata": {},
   "source": [
    "False : [], (), {}, '', 'None' 이 있다"
   ]
  },
  {
   "attachments": {},
   "cell_type": "markdown",
   "metadata": {},
   "source": [
    "### list Comprehension\n",
    "\n",
    "- 리스트  \n",
    "[code for 변수 in iterable]  \n",
    "[code for 변수 in iterable if 조건식]  \n",
    "\n",
    "- Dictionary  \n",
    "{key: value for 변수 in iterable}  \n",
    "{key: value for 변수 in iterable if 조건식}  "
   ]
  },
  {
   "attachments": {},
   "cell_type": "markdown",
   "metadata": {},
   "source": [
    "### for-else 구문\n",
    "\n",
    "- 끝까지 반복문을 실행한 이후 else 문 실행\n",
    "- - break를 통해 중간에 종료되는 경우 else문은 실행되지 않음"
   ]
  },
  {
   "cell_type": "code",
   "execution_count": null,
   "metadata": {},
   "outputs": [],
   "source": [
    "a = int(input())\n",
    "\n",
    "if (a > 5):\n",
    "    print(\"오삼\")\n",
    "elif (a > 3):\n",
    "    print(\"불고기\")\n",
    "elif (a > 4 or a == -1):\n",
    "    print(\"재시도\")\n",
    "else:\n",
    "    print(\"오삼불고기\")\n"
   ]
  },
  {
   "cell_type": "code",
   "execution_count": null,
   "metadata": {},
   "outputs": [],
   "source": [
    "#숫자 두 개를 입력받고 둘 중 큰 수를 출력하라\n",
    "\n",
    "a, b = map(int, input().split())\n",
    "\n",
    "# if (a > b):\n",
    "#     print(a)\n",
    "# else:\n",
    "#     print(b)\n",
    "\n",
    "result = a if a > b else b"
   ]
  },
  {
   "cell_type": "code",
   "execution_count": null,
   "metadata": {},
   "outputs": [],
   "source": [
    "for i in range(1, 101):\n",
    "    print(i, end = \" \")"
   ]
  },
  {
   "cell_type": "code",
   "execution_count": null,
   "metadata": {},
   "outputs": [],
   "source": [
    "for i in range(100):\n",
    "    print('#', end = \" \")"
   ]
  },
  {
   "cell_type": "code",
   "execution_count": null,
   "metadata": {},
   "outputs": [],
   "source": [
    "i = 1\n",
    "while (i <= 100):\n",
    "    print(i, end = \" \")\n",
    "    i += 1"
   ]
  },
  {
   "cell_type": "code",
   "execution_count": null,
   "metadata": {},
   "outputs": [],
   "source": [
    "i = 0\n",
    "while (i < 100):\n",
    "    print('#', end = ' ')\n",
    "    i += 1\n"
   ]
  },
  {
   "cell_type": "code",
   "execution_count": null,
   "metadata": {},
   "outputs": [],
   "source": [
    "lst = [\n",
    "    [1, 2, 3],\n",
    "    [4, 5, 6]\n",
    "    ]\n",
    "\n",
    "for i in lst:\n",
    "    print(*i)"
   ]
  },
  {
   "cell_type": "code",
   "execution_count": null,
   "metadata": {},
   "outputs": [],
   "source": [
    "# 빈 리시트르 하나를 만든 후 lst값을 제곱한 값으로 채워넣기\n",
    "lst = range(1, 10)\n",
    "lst2 = [i**2 for i in lst]\n",
    "\n",
    "print(*lst2)"
   ]
  },
  {
   "cell_type": "code",
   "execution_count": null,
   "metadata": {},
   "outputs": [],
   "source": [
    "lst = [\n",
    "    [1, 2, 3],\n",
    "    [4, 5, 6]\n",
    "    ]\n",
    "lst2 = []\n",
    "\n",
    "for i in range(2):\n",
    "    for j in range(3):\n",
    "        lst2.append(lst[i][j]**2)\n",
    "\n",
    "print(lst2)"
   ]
  },
  {
   "cell_type": "code",
   "execution_count": null,
   "metadata": {},
   "outputs": [],
   "source": [
    "lst = [\n",
    "    [1, 2, 3],\n",
    "    [4, 5, 6]\n",
    "    ]\n",
    "\n",
    "lst2 = [[0]*3 for i in range(2)]\n",
    "\n",
    "for i in range(len(lst)):\n",
    "    for j in range(len(lst[0])):\n",
    "        lst2[i][j] = lst[i][j] ** 2\n",
    "\n",
    "for k in lst2:\n",
    "    print(*k)"
   ]
  },
  {
   "cell_type": "code",
   "execution_count": null,
   "metadata": {},
   "outputs": [],
   "source": [
    "# 딕셔너리\n",
    "dic = {\"kevin\": 1, \"john\": 2, \"bob\": 3}\n",
    "\n",
    "for keys, values in dic.items():\n",
    "    print(keys, values)"
   ]
  },
  {
   "cell_type": "code",
   "execution_count": null,
   "metadata": {},
   "outputs": [],
   "source": [
    "# 키값만 출력되는 것을 알 수 있다. (몰랐던 것)\n",
    "for i in dic:\n",
    "    print(i)"
   ]
  },
  {
   "cell_type": "code",
   "execution_count": null,
   "metadata": {},
   "outputs": [],
   "source": [
    "lst = [1, 1, 1, 2, 2, 3, 3, 3, 3, '오']\n",
    "dict1 = {}\n",
    "\n",
    "for i in lst:\n",
    "    try:\n",
    "        dict1[i] += 1\n",
    "    except:\n",
    "        dict1[i] = 1\n",
    "\n",
    "print(dict1)"
   ]
  },
  {
   "cell_type": "code",
   "execution_count": null,
   "metadata": {},
   "outputs": [],
   "source": [
    "# break : 반복문 중간에 멈추고 싶을 때 (함수 종료가 아님)\n",
    "# return : 함수의 값을 반환하거나 함수를 멈추고 싶을 때\n",
    "\n",
    "i = 0\n",
    "while (True):\n",
    "    print(i, end = \" \")\n",
    "    i += 1\n",
    "\n",
    "    if (i == 7):\n",
    "        break;"
   ]
  },
  {
   "cell_type": "code",
   "execution_count": null,
   "metadata": {},
   "outputs": [],
   "source": [
    "lst = [[1, 2, 3] for i in range(3)]\n",
    "\n",
    "for i in range(3):\n",
    "    for j in range(4):\n",
    "        if (lst[i][j] == 3):\n",
    "            break;\n",
    "        print(lst[i][j], end = \" \")"
   ]
  },
  {
   "cell_type": "code",
   "execution_count": null,
   "metadata": {},
   "outputs": [],
   "source": [
    "# continue (반복문을 다음 순서부터 다시 시작한다.)\n",
    "lst = range(1, 8)\n",
    "\n",
    "for i in lst:\n",
    "    if (i == 5):\n",
    "        continue;\n",
    "    print(i, end = ' ')"
   ]
  },
  {
   "cell_type": "code",
   "execution_count": null,
   "metadata": {},
   "outputs": [],
   "source": [
    "lst = [[1, 2, 3] for i in range(3)]\n",
    "for i in range(3):\n",
    "    for j in range(3):\n",
    "        if (lst[i][j] == 3):\n",
    "            continue\n",
    "        print(lst[i][j], end = \" \")"
   ]
  },
  {
   "attachments": {},
   "cell_type": "markdown",
   "metadata": {},
   "source": [
    "- 인코딩 : 문자를 어떻게 출력할지에 대한 약속  \n",
    "아스키코드 : 128개의 문자조합을 제공하는 7비트 부호  \n",
    "유니코드(Unicode) : 각 나라별 언어를 모두 표현하기 위해 나온 코드 체계가 유니코드"
   ]
  },
  {
   "cell_type": "code",
   "execution_count": null,
   "metadata": {},
   "outputs": [],
   "source": [
    "#\n",
    "a = '2'\n",
    "print(ord(a) - ord('0'))\n",
    "#\n",
    "print(int(a))"
   ]
  },
  {
   "cell_type": "code",
   "execution_count": null,
   "metadata": {},
   "outputs": [],
   "source": [
    "pow(3, 2)"
   ]
  },
  {
   "cell_type": "code",
   "execution_count": null,
   "metadata": {},
   "outputs": [],
   "source": [
    "import random\n",
    "a = range(1, 7)\n",
    "print(random.sample(a, 2))"
   ]
  },
  {
   "cell_type": "code",
   "execution_count": null,
   "metadata": {},
   "outputs": [],
   "source": [
    "# 사용자 함수\n",
    "# 매개변수, parameters\n",
    "def getsum(a, b):\n",
    "    return (a + b)\n",
    "\n",
    "# 인자값, arguments\n",
    "print(getsum(3, 4))\n",
    "\n",
    "# 지역변수(local variable), 전역변수(global variable)\n",
    "\n",
    "# 리턴값이 두 개이면 리턴으로 튜플을 사용하거나 전역변수를 사용해야 한다."
   ]
  },
  {
   "cell_type": "code",
   "execution_count": null,
   "metadata": {},
   "outputs": [],
   "source": [
    "# 튜플\n",
    "def getsum(a, b):\n",
    "    return a+b, a*b\n",
    "\n",
    "ret = getsum(3, 4)\n",
    "print(type(ret), ret)"
   ]
  },
  {
   "cell_type": "code",
   "execution_count": null,
   "metadata": {},
   "outputs": [],
   "source": [
    "# 전역변수 * (몰랐던 것)\n",
    "def getsum2(a, b):\n",
    "    global sum1, gop1\n",
    "    sum1 = a + b\n",
    "    mul1 = a * b"
   ]
  },
  {
   "cell_type": "code",
   "execution_count": null,
   "metadata": {},
   "outputs": [],
   "source": [
    "# 혼합사용\n",
    "def getsum(a, b):\n",
    "    global mul2\n",
    "    mul2 = a*b\n",
    "\n",
    "    return(a + b)\n",
    "\n",
    "sum2 = getsum(1, 2)\n",
    "\n",
    "print(mul2, sum2)"
   ]
  },
  {
   "cell_type": "code",
   "execution_count": null,
   "metadata": {},
   "outputs": [],
   "source": [
    "def getsum(a, b):\n",
    "    return\n",
    "\n",
    "ret = getsum(1, 2)\n",
    "print(ret)"
   ]
  },
  {
   "cell_type": "code",
   "execution_count": null,
   "metadata": {},
   "outputs": [],
   "source": [
    "# default parameter 개수 맞추기, 기존 파라미터보다 뒤쪽으로 나두어야 한다.\n",
    "\n",
    "def getsum(a, b = 6, c = 7):\n",
    "    return (a + b + c)\n",
    "\n",
    "ret= getsum(4)\n",
    "print(ret)"
   ]
  },
  {
   "cell_type": "code",
   "execution_count": null,
   "metadata": {},
   "outputs": [],
   "source": [
    "# packing, 값들을 묶어서 하나 값으로 사용\n",
    "num = [1, 2, 3, 4, 5]\n",
    "num2 = (1, 2, 3, 4, 5)\n",
    "\n",
    "print(num, num2)"
   ]
  },
  {
   "cell_type": "code",
   "execution_count": null,
   "metadata": {},
   "outputs": [],
   "source": [
    "# unpacking., 값들을 풀어서 사용하는 것\n",
    "a, b, c, d, e = num\n",
    "print(a, b, c, d, e)"
   ]
  },
  {
   "cell_type": "code",
   "execution_count": null,
   "metadata": {},
   "outputs": [],
   "source": [
    "# 몰랐던 것\n",
    "# * :asterisk, astral\n",
    "a, b, *c = num\n",
    "print(c)"
   ]
  },
  {
   "cell_type": "code",
   "execution_count": null,
   "metadata": {},
   "outputs": [],
   "source": [
    "# 가변인자 args\n",
    "def getsum(*a): # 여러 개를 받을 때 사용할 수 있다. 튜플의 형태로 이용한다.\n",
    "    sum = 0\n",
    "\n",
    "    for i in a:\n",
    "        sum += i\n",
    "    \n",
    "    return(sum)\n",
    "\n",
    "result = getsum(1, 2, 3)\n",
    "print(result)"
   ]
  },
  {
   "cell_type": "code",
   "execution_count": null,
   "metadata": {},
   "outputs": [],
   "source": [
    "# 몰랐던 것, **는 딕셔너리로 받는 듯?\n",
    "def print_info2(**args):\n",
    "    for i, j in args.items():\n",
    "        print(i, j)\n",
    "\n",
    "di = {'kate': 1, 'kevin': 2, 'john': 3}\n",
    "\n",
    "print_info2(**di)"
   ]
  },
  {
   "cell_type": "code",
   "execution_count": null,
   "metadata": {},
   "outputs": [],
   "source": [
    "print_info2(kevin=0, john=1, bob=2)"
   ]
  },
  {
   "cell_type": "code",
   "execution_count": null,
   "metadata": {},
   "outputs": [],
   "source": [
    "# map : 리스트나 튜플같이 순회 가능한 데이터 구조 값들에 일괄적으로 적용하고 적용 후 값을 map이라는 객체로 반환\n",
    "# 사용법 map(함수, iterables)\n",
    "num = ['1', '2', '3']\n",
    "lst1 = []\n",
    "\n",
    "# for i in num:\n",
    "#     lst1.append(int(i))\n",
    "# print(lst1)\n",
    "\n",
    "lst2 = list(map(int, num))\n",
    "print(lst2)"
   ]
  },
  {
   "cell_type": "code",
   "execution_count": null,
   "metadata": {},
   "outputs": [],
   "source": [
    "lst1 = [1, 2, 3]\n",
    "lst2 = [4, 5, 6]\n",
    "lst3 = list(map(sum, zip(lst1, lst2)))\n",
    "print(lst3)"
   ]
  },
  {
   "cell_type": "code",
   "execution_count": null,
   "metadata": {},
   "outputs": [],
   "source": [
    "def func(a, b):\n",
    "    return a + b\n",
    "\n",
    "lst3 = list(map(func, lst1, lst2))\n",
    "print(lst3)"
   ]
  },
  {
   "attachments": {},
   "cell_type": "markdown",
   "metadata": {},
   "source": [
    "# 수업3"
   ]
  },
  {
   "attachments": {},
   "cell_type": "markdown",
   "metadata": {},
   "source": [
    "- 함수  \n",
    "함수는 내장, 외장, 사용자 정의 함수가 있다."
   ]
  },
  {
   "attachments": {},
   "cell_type": "markdown",
   "metadata": {},
   "source": [
    "- 결과값에 따른 함수의 종류  \n",
    "  - Void ftn : 명시적인 retrun 값이 없는 경우, None를 반환하고 종료  \n",
    "  - Value returning ftn : 함수 실행 후, return문을 통해 값을 반환  \n",
    "\n",
    "return x : None   \n",
    "return O : 하나를 반환"
   ]
  },
  {
   "attachments": {},
   "cell_type": "markdown",
   "metadata": {},
   "source": [
    "REPL(Read-Eval-Print-Loop) 환경에서는 마지막으로 작성된 코드으 리턴값을 보여줌 (주피터 노트북의 경우)"
   ]
  },
  {
   "attachments": {},
   "cell_type": "markdown",
   "metadata": {},
   "source": [
    "- Parameter: 함수르 정의할 때, 함수 내부에서 사용되는 변수  \n",
    "- Argument : 함수를 호출할 때, 넣어주는 값"
   ]
  },
  {
   "attachments": {},
   "cell_type": "markdown",
   "metadata": {},
   "source": [
    "- Name space\n",
    "  - built-in: 파이썬에서 내장\n",
    "  - global: 하나의 파이썬 프로그램 내에서\n",
    "  - enclosing: 함수 안의 함수 안에서의 공간\n",
    "  - local: 함수 안에서의 공간  \n",
    "\n",
    "중첩된 변수가 존재할 때, 이를 구분해주는 것이 필요한데 이것을 Scope라고 한다.  \n",
    "Scope : 참조할 공간을 한정하는 것 (LEGB의 순서대로)"
   ]
  },
  {
   "attachments": {},
   "cell_type": "markdown",
   "metadata": {},
   "source": [
    "- 변수의 수명주기  \n",
    "  - built-in scope: 파이썬이 실행된 이후부터 영원히\n",
    "  - glboal scope: 모듈이 호출된 시점 이후 혹은 인터프리터가 끝날 때까지\n",
    "  - local scope: 함수가 호출될 때 생성되고, 함수가 종료될 때까지 유지"
   ]
  },
  {
   "cell_type": "code",
   "execution_count": null,
   "metadata": {},
   "outputs": [],
   "source": [
    "def func1():\n",
    "    print(\"func1 시이작\")\n",
    "\n",
    "    def func2():\n",
    "        print(\"func2 시이작\")\n",
    "        print(\"func2 끝\")\n",
    "        return\n",
    "\n",
    "    func2()\n",
    "    return\n"
   ]
  },
  {
   "cell_type": "code",
   "execution_count": null,
   "metadata": {},
   "outputs": [],
   "source": [
    "\n",
    "x = \"글로벌\"\n",
    "\n",
    "def  func1():\n",
    "    x = \"인클로징\"\n",
    "\n",
    "    def func2():\n",
    "        x = \"로컬\"\n",
    "        print(x)\n",
    "        # print(locals()) # 로컬변수 출력\n",
    "        # print(globals()) # 글로벌 변수 출력\n",
    "    \n",
    "    func2()\n",
    "\n",
    "func1()"
   ]
  },
  {
   "cell_type": "code",
   "execution_count": null,
   "metadata": {},
   "outputs": [],
   "source": [
    "# 몰랐던 것\n",
    "x = \"글로벌\"\n",
    "\n",
    "def func1():\n",
    "    global x\n",
    "    x = '인클로징'\n",
    "    print(x)\n",
    "\n",
    "func1()\n",
    "print(x)"
   ]
  },
  {
   "cell_type": "code",
   "execution_count": null,
   "metadata": {},
   "outputs": [],
   "source": [
    "my_list = [1, 2, 3, 4]\n",
    "\n",
    "def func1():\n",
    "    my_list[1] = 5554 # 글로벌 변수에 영향\n",
    "\n",
    "func1()\n",
    "print(my_list)"
   ]
  },
  {
   "cell_type": "code",
   "execution_count": null,
   "metadata": {},
   "outputs": [],
   "source": [
    "my_list = [1, 2, 3, 4]\n",
    "\n",
    "def func1():\n",
    "    my_list = [5, 5, 7] # 로컬 변수\n",
    "\n",
    "func1()\n",
    "print(my_list)"
   ]
  },
  {
   "cell_type": "code",
   "execution_count": null,
   "metadata": {},
   "outputs": [],
   "source": [
    "x = 1\n",
    "\n",
    "def func1():\n",
    "    x = 2\n",
    "\n",
    "    def func2():\n",
    "        global x\n",
    "        x = 3\n",
    "        print(x)\n",
    "    \n",
    "    func2()\n",
    "    print(x)\n",
    "\n",
    "func1()\n",
    "print(x)"
   ]
  },
  {
   "cell_type": "code",
   "execution_count": null,
   "metadata": {},
   "outputs": [],
   "source": [
    "# 몰랐던 것\n",
    "x = 1\n",
    "\n",
    "def func1():\n",
    "    x = 2\n",
    "\n",
    "    def func2():\n",
    "        nonlocal x # func1의 x 현재의 네임스페이스와 가장 가까운 스페이스\n",
    "        x = 3\n",
    "        print(x)\n",
    "    \n",
    "    func2()\n",
    "    print(x)\n",
    "\n",
    "func1()\n",
    "print(x)"
   ]
  },
  {
   "cell_type": "code",
   "execution_count": null,
   "metadata": {},
   "outputs": [],
   "source": [
    "def func1():\n",
    "    x = 10\n",
    "\n",
    "    def func2():\n",
    "        nonlocal x\n",
    "        x= 20\n",
    "\n",
    "    func2()\n",
    "    print(x)\n",
    "\n",
    "func1()\n",
    "print(x) # 글로벌 x는 존재하지 않음. 따라서 오류가 발생함."
   ]
  },
  {
   "attachments": {},
   "cell_type": "markdown",
   "metadata": {},
   "source": [
    "### filter\n",
    "\n",
    "리스트나 튜플과 같은 순회 가능한 데이터구조 값들을 함수에서 적용하는데  \n",
    "적용 후 값 중 True만 반환 !! filter라는 객체로 변환"
   ]
  },
  {
   "cell_type": "code",
   "execution_count": null,
   "metadata": {},
   "outputs": [],
   "source": [
    "# 리스트에서 짝수만\n",
    "num = [1, 2, 3, 4, 5, 6]\n",
    "\n",
    "def get_even(t):\n",
    "    return True if (t % 2 == 0) else False\n",
    "\n",
    "result = filter(get_even, num)\n",
    "print(list(result))"
   ]
  },
  {
   "attachments": {},
   "cell_type": "markdown",
   "metadata": {},
   "source": [
    "### lambda  \n",
    "익명함수, 함수를 간략하게 적기 위해서 사용!!"
   ]
  },
  {
   "cell_type": "code",
   "execution_count": null,
   "metadata": {},
   "outputs": [],
   "source": [
    "# 숫자 2개를 입력받고 get_sum이라는 함수로 전달\n",
    "# get_sum에서 두 수의 합을 리턴\n",
    "# 리턴 받은 값 출력하기\n",
    "\n",
    "# 1 2\n",
    "a, b = map(int, input().split())\n",
    "\n",
    "def get_sum(a, b):\n",
    "    return (a + b)\n",
    "\n",
    "print(get_sum(a, b))"
   ]
  },
  {
   "cell_type": "code",
   "execution_count": null,
   "metadata": {},
   "outputs": [],
   "source": [
    "result = (lambda a, b: a+ b)(3, 5)\n",
    "print(result)"
   ]
  },
  {
   "cell_type": "code",
   "execution_count": null,
   "metadata": {},
   "outputs": [],
   "source": [
    "sum2 = (lambda a, b: a + b)\n",
    "print(sum2(3, 5))"
   ]
  },
  {
   "cell_type": "code",
   "execution_count": null,
   "metadata": {},
   "outputs": [],
   "source": [
    "lst1 = [1, 2, 3, 4, 5]\n",
    "lst2 = [6, 7, 8, 9, 10]\n",
    "\n",
    "# 두 리스트의 합을 lst3에 람다 함수를 사용하여 값을 채운 후 출력\n",
    "lst3 = list(map(lambda a, b: a + b, lst1, lst2))\n",
    "print(lst3)"
   ]
  },
  {
   "attachments": {},
   "cell_type": "markdown",
   "metadata": {},
   "source": [
    "### 재귀(Recursion)  \n",
    "함수가 자기 자신인 함수를 호출하는 것  \n"
   ]
  },
  {
   "cell_type": "code",
   "execution_count": null,
   "metadata": {},
   "outputs": [],
   "source": [
    "for i in range(1, 4):\n",
    "    print(i, end = ' ')\n",
    "for i in range(3, 0, -1):\n",
    "    print(i, end = ' ')\n",
    "\n",
    "print()"
   ]
  },
  {
   "cell_type": "code",
   "execution_count": null,
   "metadata": {},
   "outputs": [],
   "source": [
    "def abc(level):\n",
    "    print(level, end = ' ')\n",
    "    if level == 3:\n",
    "        print(level, end = ' ')\n",
    "        return\n",
    "\n",
    "    abc(level + 1)\n",
    "    print(level, end = ' ')\n",
    "\n",
    "abc(1)"
   ]
  },
  {
   "attachments": {},
   "cell_type": "markdown",
   "metadata": {},
   "source": [
    "### 문자열 관련 함수"
   ]
  },
  {
   "cell_type": "code",
   "execution_count": null,
   "metadata": {},
   "outputs": [],
   "source": [
    "st = \"apple,banana,mango\"\n",
    "\n",
    "# 문자 'a'가 존재하는지 확인하고자 한다.\n",
    "# 몰랐던 것\n",
    "\n",
    "idx1 = st.find('a')\n",
    "idx2 = st.index('a')\n",
    "\n",
    "print(idx1, idx2)"
   ]
  },
  {
   "cell_type": "code",
   "execution_count": null,
   "metadata": {},
   "outputs": [],
   "source": [
    "idx = st.find(\"ap\")\n",
    "print(idx)"
   ]
  },
  {
   "cell_type": "code",
   "execution_count": null,
   "metadata": {},
   "outputs": [],
   "source": [
    "idx = st.find('x')\n",
    "print(idx) # 찾고자 하는 값이 없으면 -1반환\n",
    "\n",
    "# idx = st.index('x') # 없으면 오류 발생\n",
    "# print(idx)"
   ]
  },
  {
   "cell_type": "code",
   "execution_count": null,
   "metadata": {},
   "outputs": [],
   "source": [
    "idx = st.find('a', 1) # 두 번째 arg는 시작점\n",
    "print(idx)"
   ]
  },
  {
   "cell_type": "code",
   "execution_count": null,
   "metadata": {},
   "outputs": [],
   "source": [
    "# 대소문자 확인\n",
    "st = \"apple,banana,mango\"\n",
    "print(st.isupper())\n",
    "print(st.islower())"
   ]
  },
  {
   "cell_type": "code",
   "execution_count": null,
   "metadata": {},
   "outputs": [],
   "source": [
    "# 알파벳인지 확인\n",
    "print(st.isalpha())"
   ]
  },
  {
   "cell_type": "code",
   "execution_count": null,
   "metadata": {},
   "outputs": [],
   "source": [
    "print(st.count('a'))"
   ]
  },
  {
   "cell_type": "code",
   "execution_count": null,
   "metadata": {},
   "outputs": [],
   "source": [
    "# join: 합치기\n",
    "st = ['a', 'p', 'p', 'l', 'e']\n",
    "st2 = ''.join(st)\n",
    "print(st2)"
   ]
  },
  {
   "cell_type": "code",
   "execution_count": null,
   "metadata": {},
   "outputs": [],
   "source": [
    "# ,를 넣어서 합치기 (리스트를 합칠 때, 구분자를 앞에서 넣을 수 있다.)\n",
    "# 몰랐던 것\n",
    "st3 = ','.join(st)\n",
    "print(st3)"
   ]
  },
  {
   "cell_type": "code",
   "execution_count": null,
   "metadata": {},
   "outputs": [],
   "source": [
    "st = [\"apple\", \"banana\", \"mango\"]\n",
    "st2 = '-'.join(st)\n",
    "print(st2)"
   ]
  },
  {
   "cell_type": "code",
   "execution_count": null,
   "metadata": {},
   "outputs": [],
   "source": [
    "# 모두 대문자로 바꾸기\n",
    "# 모두 소문자로 바꾸기\n",
    "\n",
    "st = 'apple'\n",
    "st2 = st.upper()\n",
    "print(st, st2)"
   ]
  },
  {
   "cell_type": "code",
   "execution_count": null,
   "metadata": {},
   "outputs": [],
   "source": [
    "st3 = st2.lower()\n",
    "print(st, st2, st3)"
   ]
  },
  {
   "cell_type": "code",
   "execution_count": null,
   "metadata": {},
   "outputs": [],
   "source": [
    "# 공백지우기\n",
    "st = '  apple'\n",
    "st2 = st.lstrip()\n",
    "print(st, st2)"
   ]
  },
  {
   "cell_type": "code",
   "execution_count": null,
   "metadata": {},
   "outputs": [],
   "source": [
    "st = 'apple    '\n",
    "st2 = st.rstrip(st)\n",
    "print(st, st2)"
   ]
  },
  {
   "cell_type": "code",
   "execution_count": null,
   "metadata": {},
   "outputs": [],
   "source": [
    "st = '  apple   '\n",
    "print(st.strip())"
   ]
  },
  {
   "cell_type": "code",
   "execution_count": null,
   "metadata": {},
   "outputs": [],
   "source": [
    "# 교체 replace\n",
    "st = \"apple\"\n",
    "st3 = st.replace('ap', 'mp')\n",
    "print(st3)"
   ]
  },
  {
   "cell_type": "markdown",
   "metadata": {},
   "source": [
    "### 리스트 값 추가"
   ]
  },
  {
   "cell_type": "code",
   "execution_count": null,
   "metadata": {},
   "outputs": [],
   "source": [
    "lst = [\"apple\", \"banana\", \"mango\"]\n",
    "lst.append(\"orange\")\n",
    "print(lst)"
   ]
  },
  {
   "cell_type": "code",
   "execution_count": null,
   "metadata": {},
   "outputs": [],
   "source": [
    "lst.insert(1, \"orange\") # 리스트의 값을 중간에 추가할 때, 몰랐던 것\n",
    "print(lst)"
   ]
  },
  {
   "cell_type": "code",
   "execution_count": null,
   "metadata": {},
   "outputs": [],
   "source": [
    "# 선택 후 f2를 눌러서 교체할 수 있다.!! 몰랐던 것\n",
    "st1 = [1, 2, 3]\n",
    "st2 = [4, 5]\n",
    "st3 = st1 + st2 # extend와 같은 효과, 조금 다르다.\n",
    "st1.extend(st2) \n",
    "\n",
    "print(st3, st1)"
   ]
  },
  {
   "cell_type": "code",
   "execution_count": null,
   "metadata": {},
   "outputs": [],
   "source": [
    "# 리스트 값 지우기\n",
    "st = [1, 2, 3]\n",
    "st.pop() # 맨 뒤에 제거\n",
    "print(st)"
   ]
  },
  {
   "cell_type": "code",
   "execution_count": null,
   "metadata": {},
   "outputs": [],
   "source": [
    "st = [1, 2, 3, 4, 1, 2, 3, 4]\n",
    "st.remove(4) # 처음 걸리는 것을 지운다.\n",
    "print(st)"
   ]
  },
  {
   "cell_type": "code",
   "execution_count": null,
   "metadata": {},
   "outputs": [],
   "source": [
    "st = [1, 2, 3, 4, 1, 2, 3, 4]\n",
    "del st[3:]\n",
    "\n",
    "print(st)"
   ]
  },
  {
   "cell_type": "code",
   "execution_count": null,
   "metadata": {},
   "outputs": [],
   "source": [
    "st = [1, 2, 3, 4, 1, 2, 3, 4]\n",
    "st.reverse()\n",
    "print(st)"
   ]
  },
  {
   "cell_type": "code",
   "execution_count": null,
   "metadata": {},
   "outputs": [],
   "source": [
    "st = [1, 2, 3, 4, 1, 2, 3, 4]\n",
    "print(st[::-1])"
   ]
  },
  {
   "cell_type": "code",
   "execution_count": null,
   "metadata": {},
   "outputs": [],
   "source": [
    "# sort, 오름차순이 default\n",
    "\n",
    "a1 = [6, 3, 9]\n",
    "print(a1, sorted(a1))"
   ]
  },
  {
   "cell_type": "code",
   "execution_count": null,
   "metadata": {},
   "outputs": [],
   "source": [
    "a1 = [6, 3, 9]\n",
    "a1.sort()\n",
    "print(a1)"
   ]
  },
  {
   "cell_type": "code",
   "execution_count": null,
   "metadata": {},
   "outputs": [],
   "source": [
    "a1 = [6, 3, 9]\n",
    "a1.sort(reverse = True)\n",
    "print(a1)"
   ]
  },
  {
   "cell_type": "code",
   "execution_count": null,
   "metadata": {},
   "outputs": [],
   "source": [
    "a1 = [6, 3, 9]\n",
    "ret = sorted(a1, reverse = True)\n",
    "print(a1, ret)"
   ]
  },
  {
   "attachments": {},
   "cell_type": "markdown",
   "metadata": {},
   "source": [
    "### lambda를 이용한 sort"
   ]
  },
  {
   "cell_type": "code",
   "execution_count": null,
   "metadata": {},
   "outputs": [],
   "source": [
    "lst = list(range(10))\n",
    "print(lst)\n",
    "ret = sorted(lst, key = lambda x:x)\n",
    "print(ret)"
   ]
  },
  {
   "cell_type": "code",
   "execution_count": null,
   "metadata": {},
   "outputs": [],
   "source": [
    "lst = list(range(10))\n",
    "print(lst)\n",
    "ret = sorted(lst, key = lambda x:-x)\n",
    "print(ret)"
   ]
  },
  {
   "cell_type": "code",
   "execution_count": null,
   "metadata": {},
   "outputs": [],
   "source": [
    "a = [3, 1, 2]\n",
    "\n",
    "indices = sorted(\n",
    "    range(len(a)),\n",
    "    key=lambda index: a[index]\n",
    ")\n",
    "\n",
    "print(indices)"
   ]
  },
  {
   "cell_type": "code",
   "execution_count": null,
   "metadata": {},
   "outputs": [],
   "source": [
    "lst = [(3, \"banana\"), (2, \"apple\"), (1, \"carrot\")]\n",
    "ret = sorted(lst, key = lambda x:x[1])\n",
    "print(ret)"
   ]
  },
  {
   "cell_type": "code",
   "execution_count": null,
   "metadata": {},
   "outputs": [],
   "source": [
    "lst = [(3, \"banana\"), (2, \"apple\"), (1, \"carrot\")]\n",
    "ret = sorted(lst, key = lambda x: x[0])\n",
    "print(ret)"
   ]
  },
  {
   "cell_type": "code",
   "execution_count": null,
   "metadata": {},
   "outputs": [],
   "source": [
    "lst = [(3, \"banana\"), (2, \"apple\"), (1, \"carrot\")]\n",
    "ret = sorted(lst, key = lambda x: x[1], reverse = True) # 내림차순!! 문자 숫자 둘 다 잘 작동\n",
    "ret = sorted(lst, key = lambda x:-x[0]) # 숫자만 가능하다. (문자는 정렬 안됨)"
   ]
  },
  {
   "cell_type": "code",
   "execution_count": null,
   "metadata": {},
   "outputs": [],
   "source": [
    "lst  = 'sadiobsfoahff'\n",
    "ret = sorted(lst)\n",
    "ret2 = sorted(lst, reverse = True)\n",
    "print(ret, ret2)"
   ]
  },
  {
   "cell_type": "markdown",
   "metadata": {},
   "source": [
    "### 딕셔너리"
   ]
  },
  {
   "cell_type": "code",
   "execution_count": null,
   "metadata": {},
   "outputs": [],
   "source": [
    "dict1 = {'kevin':1, 'john':2, 'bob': 3}\n",
    "dict1['kate'] = 4\n",
    "\n",
    "print(dict1)"
   ]
  },
  {
   "cell_type": "code",
   "execution_count": null,
   "metadata": {},
   "outputs": [],
   "source": [
    "dict1['kevin'] = 11\n",
    "print(dict1)"
   ]
  },
  {
   "cell_type": "code",
   "execution_count": null,
   "metadata": {},
   "outputs": [],
   "source": [
    "del dict1['kate']\n",
    "print(dict1)"
   ]
  },
  {
   "cell_type": "code",
   "execution_count": null,
   "metadata": {},
   "outputs": [],
   "source": [
    "lst = list(dict1.keys())\n",
    "print(lst)"
   ]
  },
  {
   "cell_type": "code",
   "execution_count": null,
   "metadata": {},
   "outputs": [],
   "source": [
    "lst = list(dict1.values())\n",
    "print(lst)"
   ]
  },
  {
   "cell_type": "code",
   "execution_count": null,
   "metadata": {},
   "outputs": [],
   "source": [
    "lst = list(dict1.items()) # 튜플의 형태로 반환\n",
    "print(lst)"
   ]
  },
  {
   "cell_type": "code",
   "execution_count": null,
   "metadata": {},
   "outputs": [],
   "source": [
    "# 딕셔너리 값 출력\n",
    "dict1 = {'kevin':1, 'john':2, 'bob': [1, 2, 3]}\n",
    "print(dict1.get('kevv'))"
   ]
  },
  {
   "cell_type": "code",
   "execution_count": null,
   "metadata": {},
   "outputs": [],
   "source": [
    "print(dict1.get('kevin'))"
   ]
  },
  {
   "cell_type": "code",
   "execution_count": null,
   "metadata": {},
   "outputs": [],
   "source": [
    "print(dict1.get('kev', \"없는 값을 얻으려고 할 때 None 대신에 나와\"))"
   ]
  },
  {
   "cell_type": "code",
   "execution_count": null,
   "metadata": {},
   "outputs": [],
   "source": [
    "# 딕셔너리 값 정렬하기\n",
    "dict1 = {'kevin':27, 'john':22, 'bob': 35}\n",
    "# 나이가 적은 순으로 (오름차순)으로 딕셔너리 정렬하기\n",
    "\n",
    "ret = dict(sorted(dict1.items(), key = lambda x: x[1])) # 튜플의 나이를 기준으로 정렬\n",
    "print(ret)"
   ]
  },
  {
   "attachments": {},
   "cell_type": "markdown",
   "metadata": {},
   "source": [
    "### deep, shallow copy"
   ]
  },
  {
   "cell_type": "code",
   "execution_count": null,
   "metadata": {},
   "outputs": [],
   "source": [
    "a = 5\n",
    "b = a\n",
    "\n",
    "print(b)"
   ]
  },
  {
   "cell_type": "code",
   "execution_count": null,
   "metadata": {},
   "outputs": [],
   "source": [
    "# ??? shallow copy\n",
    "lst = [1, 2, 3]\n",
    "lst2 = lst\n",
    "lst[0] = 100\n",
    "print(*lst2)"
   ]
  },
  {
   "cell_type": "code",
   "execution_count": null,
   "metadata": {},
   "outputs": [],
   "source": [
    "lst = [1, 2, 3]\n",
    "lst2 = lst.copy() # shallow\n",
    "lst[0] = 100\n",
    "print(lst2)"
   ]
  },
  {
   "cell_type": "code",
   "execution_count": null,
   "metadata": {},
   "outputs": [],
   "source": [
    "lst = [1, 2, 3]\n",
    "lst2 = lst[:] # shallow\n",
    "lst[0] = 100\n",
    "print(lst2)"
   ]
  },
  {
   "cell_type": "code",
   "execution_count": null,
   "metadata": {},
   "outputs": [],
   "source": [
    "# 최종적으로 가리키는 값이 같기 때문에 문제가 발생한다.\n",
    "lst = [[1, 2], [3, 4]]\n",
    "lst2 = lst[:]\n",
    "lst[0][0] = 100\n",
    "print(lst2)"
   ]
  },
  {
   "attachments": {},
   "cell_type": "markdown",
   "metadata": {},
   "source": [
    "#### 깊은 복사"
   ]
  },
  {
   "cell_type": "code",
   "execution_count": null,
   "metadata": {},
   "outputs": [],
   "source": [
    "import copy\n",
    "lst = [[1, 2], [3, 4]]\n",
    "lst2 = copy.deepcopy(lst)\n",
    "lst[0][0] = 100\n",
    "print(lst2)"
   ]
  },
  {
   "cell_type": "code",
   "execution_count": null,
   "metadata": {},
   "outputs": [],
   "source": [
    "print(id(lst), id(lst2))"
   ]
  },
  {
   "cell_type": "code",
   "execution_count": null,
   "metadata": {},
   "outputs": [],
   "source": [
    "a = 5\n",
    "b = 5\n",
    "print(id(a), id(b))"
   ]
  },
  {
   "cell_type": "code",
   "execution_count": null,
   "metadata": {},
   "outputs": [],
   "source": [
    "lst = [1, 2, 3]\n",
    "lst2 = lst\n",
    "print(id(lst), id(lst2))"
   ]
  },
  {
   "cell_type": "code",
   "execution_count": null,
   "metadata": {},
   "outputs": [],
   "source": [
    "lst = [[1, 2], [3, 4]]\n",
    "lst2 = lst[:]\n",
    "\n",
    "print(id(lst), id(lst2)) # 다르다."
   ]
  },
  {
   "cell_type": "code",
   "execution_count": null,
   "metadata": {},
   "outputs": [],
   "source": [
    "print(id(lst[0]), id(lst2[0])) # 같다."
   ]
  },
  {
   "cell_type": "code",
   "execution_count": null,
   "metadata": {},
   "outputs": [],
   "source": [
    "import copy\n",
    "lst = [[1, 2], [3, 4]]\n",
    "lst2 = copy.deepcopy(lst)\n",
    "\n",
    "print(id(lst[0]), id(lst2[0]))"
   ]
  },
  {
   "attachments": {},
   "cell_type": "markdown",
   "metadata": {},
   "source": [
    "# 4일차"
   ]
  },
  {
   "attachments": {},
   "cell_type": "markdown",
   "metadata": {},
   "source": [
    "- zip(*iterables) : 복수의 iterables를 모아 튜플을 원소로 하는 zip object를 반환  \n",
    "- recursion error : 약 1000 번 이상의 반복이 되면 멈추게 만든다."
   ]
  },
  {
   "attachments": {},
   "cell_type": "markdown",
   "metadata": {},
   "source": [
    "재귀함수는 1개 이상의 base case (종료되는 상황)가 존재하고, 수렴하도록 작성  \n",
    "재귀함수는 로직을 간단하게 표현하며, 변수의 사용이 적어진다는 장점이 있다.  "
   ]
  },
  {
   "attachments": {},
   "cell_type": "markdown",
   "metadata": {},
   "source": [
    "### 패킹, 언패킹 연산자 *"
   ]
  },
  {
   "cell_type": "code",
   "execution_count": null,
   "metadata": {},
   "outputs": [],
   "source": [
    "x, y = 1, 2\n",
    "z = 1, 2, 3 # 튜플\n",
    "# a, b = 1, 2, 3, 4 # 에러 발생"
   ]
  },
  {
   "cell_type": "code",
   "execution_count": null,
   "metadata": {},
   "outputs": [],
   "source": [
    "a, *b = 1, 2, 3, 4\n",
    "print(a, b)"
   ]
  },
  {
   "cell_type": "code",
   "execution_count": null,
   "metadata": {},
   "outputs": [],
   "source": [
    "def my_sum(a, b, c):\n",
    "    return a + b + c\n",
    "\n",
    "num_list = [10, 20, 30]\n",
    "rlt = my_sum(*num_list)\n",
    "print(rlt)"
   ]
  },
  {
   "cell_type": "code",
   "execution_count": null,
   "metadata": {},
   "outputs": [],
   "source": [
    "# 가변인자를 활용할 수 있다.\n",
    "def my_sum(a, *args):\n",
    "    rlt = 0\n",
    "    for value in args:\n",
    "        rlt += value\n",
    "    return rlt\n",
    "\n",
    "# print(my_sum()) # 에러발생\n",
    "print(my_sum(1, 2, 3))"
   ]
  },
  {
   "cell_type": "code",
   "execution_count": null,
   "metadata": {},
   "outputs": [],
   "source": [
    "def test(**kwargs): # 두 개를 쓰면 키워드로 넣는 것을 반영한다, 딕셔너리\n",
    "    print(kwargs)\n",
    "    return kwargs\n",
    "\n",
    "test(a = 1, b = 2, c = 3)"
   ]
  },
  {
   "cell_type": "code",
   "execution_count": null,
   "metadata": {},
   "outputs": [],
   "source": [
    "def test(*args, **kwargs):\n",
    "    for arg in args:\n",
    "        print(arg, end = \" \")\n",
    "    print(\"/\")\n",
    "    for kwarg in kwargs:\n",
    "        print(kwarg, end = \" \")\n",
    "test(1, 2, 3, a = 4, b = 5, c = 6)"
   ]
  },
  {
   "cell_type": "code",
   "execution_count": null,
   "metadata": {},
   "outputs": [],
   "source": [
    "def print_faimily_name(father, mother, **pets):\n",
    "    print(\"아버지 :\", father)\n",
    "    print(\"어머니 :\", mother)\n",
    "    if pets: # 애완동물이 있다면\n",
    "        for species, name in pets.items():\n",
    "            print(f\"{species} : {name}\")\n",
    "\n",
    "print_faimily_name(\"아부지\", \"어무이\", dog = \"멍멍이\", cat = \"냥냥이\")\n"
   ]
  },
  {
   "attachments": {},
   "cell_type": "markdown",
   "metadata": {},
   "source": [
    "### PIP : 파이썬 패키지 관리자  \n",
    "\n",
    "- $ pip install SomePackage  \n",
    "- $ pip install SomePackage == 1.0.5   \n",
    "- $ pip install SomePackage == 1.0.4   \n",
    "- $ pip uninstall SomePackage\n",
    "- $ pip list: 패키지 목록\n",
    "- $ pip show SomePackage  \n",
    "- $ pip freeze > requirements.txt: 사용하고 있는 패키지를 기록\n",
    "- $ pip install -r requirements.txt: 사용하려는 패키지를 인스톨"
   ]
  },
  {
   "cell_type": "code",
   "execution_count": null,
   "metadata": {},
   "outputs": [],
   "source": [
    "st = \"<div>오늘은 기분이 좋아</div>\"\n",
    "st = st[5:-6]\n",
    "print(st)"
   ]
  },
  {
   "cell_type": "code",
   "execution_count": null,
   "metadata": {},
   "outputs": [],
   "source": [
    "st = \"<div>오늘은 기분이 좋아</div>\"\n",
    "st = st[st.find('>') + 1:st.find('<', 1)]\n",
    "print(st)"
   ]
  },
  {
   "cell_type": "code",
   "execution_count": null,
   "metadata": {},
   "outputs": [],
   "source": [
    "str_lst = input().lower().split() # 소문자로 입력받기\n",
    "print(str_lst)"
   ]
  },
  {
   "attachments": {},
   "cell_type": "markdown",
   "metadata": {},
   "source": [
    "### 스트링 정렬"
   ]
  },
  {
   "cell_type": "code",
   "execution_count": null,
   "metadata": {},
   "outputs": [],
   "source": [
    "name = \"Juseong\"\n",
    "height = 173\n",
    "weight = 70\n",
    "\n",
    "print(f\"{name}의 키는 {height}cm이며 몸무게는 {weight}kg 입니다.\")\n",
    "print(f\"{name}의 키는 {height}cm이며 몸무게는 {weight:.1f}kg 입니다.\")\n",
    "print(f\"{name}의 키는 {height}cm이며 몸무게는 {weight:f}kg 입니다.\")\n"
   ]
  },
  {
   "cell_type": "code",
   "execution_count": null,
   "metadata": {},
   "outputs": [],
   "source": [
    "print(f\"내 이름은{name:>8}입니다.\")#오른쪽 정렬\n",
    "print(f\"내 이름은{name:<8}입니다.\")#왼쪽 정렬\n",
    "print(f\"내 이름은{name:^9}입니다.\")#가운데 정렬\n",
    "print(f\"내 이름은{name:8}입니다.\")#왼쪽 정렬이 default (문자-왼쪽)\n",
    "# print(f\"내 이름은{name:-8}입니다.\")# 정렬이 되지 않는다."
   ]
  },
  {
   "cell_type": "code",
   "execution_count": null,
   "metadata": {},
   "outputs": [],
   "source": [
    "# 정수값 정렬\n",
    "print(f\"키는{height}입니다.\")\n",
    "print(f\"키는{height:>8}입니다.\")\n",
    "print(f\"키는{height:<8}입니다.\")\n",
    "print(f\"키는{height:^8}입니다.\")\n",
    "print(f\"키는{height:8}입니다.\") #부호가 없는 정렬은 오른쪽 정렬이 디폴트(숫자-오른쪽)"
   ]
  },
  {
   "cell_type": "code",
   "execution_count": null,
   "metadata": {},
   "outputs": [],
   "source": [
    "height = 10**6\n",
    "print(f\"키는{height:>10,}입니다.\") # ,으로 1000단위를 구분해준다."
   ]
  },
  {
   "cell_type": "code",
   "execution_count": null,
   "metadata": {},
   "outputs": [],
   "source": [
    "steak = 50000\n",
    "VAT = int(steak * 0.15)\n",
    "\n",
    "print(f\"스테이크  {steak:<8,}\")\n",
    "print(f\"+VAT  {VAT:<8,}\")\n",
    "print(f\"총계 ￦  {steak + VAT:<8,}\")\n"
   ]
  },
  {
   "cell_type": "code",
   "execution_count": null,
   "metadata": {},
   "outputs": [
    {
     "data": {
      "text/plain": [
       "0"
      ]
     },
     "metadata": {},
     "output_type": "display_data"
    }
   ],
   "source": [
    "dic = {'a': 1, 'b': 2, 'c': 3}\n",
    "dic.get('d', 0) # 없다면 0 출력"
   ]
  },
  {
   "cell_type": "code",
   "execution_count": null,
   "metadata": {},
   "outputs": [
    {
     "name": "stdout",
     "output_type": "stream",
     "text": [
      "0\n",
      "1\n"
     ]
    }
   ],
   "source": [
    "print(dic.get('d', 0))\n",
    "print(dic.get('a', 0))"
   ]
  }
 ],
 "metadata": {
  "kernelspec": {
   "display_name": "Python 3",
   "language": "python",
   "name": "python3"
  },
  "language_info": {
   "codemirror_mode": {
    "name": "ipython",
    "version": 3
   },
   "file_extension": ".py",
   "mimetype": "text/x-python",
   "name": "python",
   "nbconvert_exporter": "python",
   "pygments_lexer": "ipython3",
   "version": "3.9.13"
  },
  "orig_nbformat": 4,
  "vscode": {
   "interpreter": {
    "hash": "c4b9ebf4ca459396e2ad1150752490c26670c1a037c08cad955a4425787bec2e"
   }
  }
 },
 "nbformat": 4,
 "nbformat_minor": 2
}
