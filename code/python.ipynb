{
 "cells": [
  {
   "attachments": {},
   "cell_type": "markdown",
   "metadata": {},
   "source": [
    "# 수업 OT"
   ]
  },
  {
   "attachments": {},
   "cell_type": "markdown",
   "metadata": {},
   "source": [
    "월~목 공부한 것을 기반으로 금요일에 관통 PJT를 할 것\n",
    "왜 관통인가? 주차마다 했던 내용을 계속해서 발전시켜 나가기 때문에\n",
    "\n",
    "&nbsp;\n",
    "\n",
    "### What is programming?\n",
    "- 프로그래밍 : 컴퓨터에게 적절한 수행 절차를 정의하고 이를 프로그래밍 언어로 표현\n",
    "- 컴퓨터를 이해하기 위한 것들 : 자료구조, 컴퓨터 구조, 네트워크, 프로그래밍 언어론, 이산수학, 알고리즘 등.."
   ]
  },
  {
   "attachments": {},
   "cell_type": "markdown",
   "metadata": {},
   "source": [
    "###  우리가 마주칠 일들\n",
    "\n",
    "- 구문 오류 (syntax error) : 문법이 틀려서 실행이 되지 않는 것\n",
    "- 논리 오류 (sematic erorr) : 문법을 틀리지 않아서 실행이 되나 내가 원하는 결과가 아닌 것\n",
    "\n",
    "> - Computational Thinking\n",
    "> 1. 컴퓨터의 특성을 잘 이해한다.\n",
    "> 2. 문제 해결 능력(실무에 적합한 사람?) : 논리적 사고 == 작은 문제로 쪼개기\n",
    "> 3. 프로그래밍 언어에 익숙해 질 것 : trial & error"
   ]
  },
  {
   "attachments": {},
   "cell_type": "markdown",
   "metadata": {},
   "source": [
    "### 통합 개발 환경\n",
    "IDE = Intergrated Development Environment \n",
    "\n",
    "Jupyter Notebook\n",
    "\n",
    "IDLE = Intergrated Development and Learning Environment\n",
    "\n",
    "파이참을 사용하는 이유 : 디버깅 툴을 이용하기 위해서"
   ]
  },
  {
   "attachments": {},
   "cell_type": "markdown",
   "metadata": {},
   "source": [
    "### 변수\n",
    "\n",
    "변수 <-> 상수\n",
    "\n",
    "변수의 이름을 식별자라고 한다.\n",
    "1. 읽고 쉽고 이해하기 쉬운 변수명이 최고임.\n",
    "2. 예약어 목록 : import keyword \\n print(keyword.kwlist)"
   ]
  },
  {
   "attachments": {},
   "cell_type": "markdown",
   "metadata": {},
   "source": [
    "### 자료형\n",
    "\n",
    "데이터를 저장할 때는 램(메모리)에 저장한다. (이유 : 속도가 빠르기 때문에)\n",
    "\n",
    "id() : 왜 필요한가? 두 대상이 동일한지 비교하기 위해서 필요하다.\n",
    "\n",
    "- 2진수 : bin, 0b\n",
    "- 8진수 : oct, 0o\n",
    "- 16진수 : hex, 0x\n",
    "\n",
    "소수의 경우 해당 진수의 값을 곱해서 소수점 윗자리 수의 값을 이용한다.\n",
    "\n",
    "실수 연산의 경우 부동소수점으로 저장될 수 있다. (Float point rounding error)"
   ]
  },
  {
   "attachments": {},
   "cell_type": "markdown",
   "metadata": {},
   "source": [
    "### 문자열 자료형\n",
    "\n",
    "\\r : 캐리지 리턴 (덮어씌우기 인쇄)"
   ]
  },
  {
   "cell_type": "code",
   "execution_count": 5,
   "metadata": {},
   "outputs": [
    {
     "name": "stdout",
     "output_type": "stream",
     "text": [
      "bbbaa\n"
     ]
    }
   ],
   "source": [
    "print(\"aaaaa\\rbbb\")"
   ]
  },
  {
   "cell_type": "markdown",
   "metadata": {},
   "source": []
  },
  {
   "attachments": {},
   "cell_type": "markdown",
   "metadata": {},
   "source": [
    "### C or C++ 과 Python의 차이점\n",
    "- 메모리의 영역은 : data, stack(정적 할당 영역), heap(동적 할당 영역) 으로 구분\n",
    "\n",
    "+ + 정적 : 프로그램을 실행했을 때 필수적으로 필요한 영역으로 할당되는 것\n",
    "\n",
    "+ + 동적 : 변수에 이름이 없을 때 사용 (주소값으로 접근할 때 사용하는 것)\n",
    "\n",
    "&nbsp;\n",
    "\n",
    "C나 C++은 변수마다 다른 주소를 할당해주지만..(정적 할당) (int a = 3, int b = 3, 다른 주소를 이용한다.)\n",
    "\n",
    "Python의 경우는 동적 할당으로 변수의 이름은 존재하지 않아 주소만 가리킨다. (a = 3, b = 3이면 동일한 주소를 가리킨다.)\n",
    "\n"
   ]
  },
  {
   "attachments": {},
   "cell_type": "markdown",
   "metadata": {},
   "source": [
    "### 변수"
   ]
  },
  {
   "cell_type": "code",
   "execution_count": 6,
   "metadata": {},
   "outputs": [
    {
     "name": "stdout",
     "output_type": "stream",
     "text": [
      "8\n"
     ]
    }
   ],
   "source": [
    "a, b = 3, 5\n",
    "print(a + b)"
   ]
  },
  {
   "cell_type": "code",
   "execution_count": 7,
   "metadata": {},
   "outputs": [],
   "source": [
    "# deep copy \n",
    "# shallow copy\n",
    "a, b = b, a"
   ]
  },
  {
   "cell_type": "code",
   "execution_count": 8,
   "metadata": {},
   "outputs": [
    {
     "name": "stdout",
     "output_type": "stream",
     "text": [
      "<class 'int'>\n"
     ]
    }
   ],
   "source": [
    "# 자료형\n",
    "a = 3\n",
    "print(type(a))"
   ]
  },
  {
   "cell_type": "code",
   "execution_count": 10,
   "metadata": {},
   "outputs": [
    {
     "name": "stdout",
     "output_type": "stream",
     "text": [
      "<class 'float'>\n"
     ]
    }
   ],
   "source": [
    "a = 3.14\n",
    "print(type(a))"
   ]
  },
  {
   "cell_type": "code",
   "execution_count": 19,
   "metadata": {},
   "outputs": [
    {
     "name": "stdout",
     "output_type": "stream",
     "text": [
      "3.1\n",
      "3.1\n",
      "3.1\n"
     ]
    }
   ],
   "source": [
    "# 소수점 첫 번째 자리까지 출력\n",
    "print(round(a, 1))\n",
    "print(f'{a:.1f}')\n",
    "print(\"{0:.1f}\".format(a))"
   ]
  },
  {
   "cell_type": "code",
   "execution_count": 17,
   "metadata": {},
   "outputs": [
    {
     "name": "stdout",
     "output_type": "stream",
     "text": [
      "오늘은 \"100%\"입니다.\n"
     ]
    }
   ],
   "source": [
    "print(\"오늘은 \\\"100%\\\"입니다.\")"
   ]
  },
  {
   "cell_type": "code",
   "execution_count": 24,
   "metadata": {},
   "outputs": [
    {
     "name": "stdout",
     "output_type": "stream",
     "text": [
      "gfe\n",
      "be\n"
     ]
    }
   ],
   "source": [
    "# 중요, 내가 몰랐던 내용임\n",
    "s = \"abcefg\"\n",
    "print(s[5:2:-1]) # gfe\n",
    "print(s[1:5:2]) # be"
   ]
  },
  {
   "cell_type": "code",
   "execution_count": 27,
   "metadata": {},
   "outputs": [
    {
     "name": "stdout",
     "output_type": "stream",
     "text": [
      "False True\n"
     ]
    }
   ],
   "source": [
    "# bool\n",
    "a, b = 0 , -1\n",
    "a,b = bool(a), bool(b)\n",
    "\n",
    "print(a, b)"
   ]
  },
  {
   "cell_type": "code",
   "execution_count": 29,
   "metadata": {},
   "outputs": [
    {
     "name": "stdout",
     "output_type": "stream",
     "text": [
      "[1, 2, 3, 4, 5]\n",
      "1 2 3 4 5\n"
     ]
    }
   ],
   "source": [
    "# list, seq자료형\n",
    "lst = [1, 2, 3, 4, 5]\n",
    "print(lst)\n",
    "print(*lst) # 몰랐던 내용"
   ]
  },
  {
   "cell_type": "code",
   "execution_count": 32,
   "metadata": {},
   "outputs": [
    {
     "name": "stdout",
     "output_type": "stream",
     "text": [
      "(1, 2, 3, 4, 5)\n",
      "1 2 3 4 5\n",
      "<class 'tuple'>\n"
     ]
    }
   ],
   "source": [
    "# tuple, seq자료형\n",
    "tp = tuple(range(1, 6))\n",
    "print(tp)\n",
    "print(*tp)\n",
    "print(type(tp))"
   ]
  },
  {
   "cell_type": "code",
   "execution_count": 34,
   "metadata": {},
   "outputs": [
    {
     "name": "stdout",
     "output_type": "stream",
     "text": [
      "[2, 3, 5, 6]\n"
     ]
    }
   ],
   "source": [
    "# set - 리스트에서 중복 제거에 용이하다.\n",
    "lst = [2, 2, 2, 3, 5, 5, 6]\n",
    "lst = list(set(lst))\n",
    "print(lst) # 중복된 값이 제거된 리스트를 반환받을 수 있다."
   ]
  },
  {
   "cell_type": "code",
   "execution_count": 1,
   "metadata": {},
   "outputs": [
    {
     "name": "stdout",
     "output_type": "stream",
     "text": [
      "{1, 2, 3, 4, 5, 6, 7, 11, 12}\n"
     ]
    }
   ],
   "source": [
    "s = {1, 2, 3, 4, 5}\n",
    "s.add(6)\n",
    "s.update([11, 12, 3, 4, 7])\n",
    "print(s)"
   ]
  },
  {
   "cell_type": "code",
   "execution_count": 2,
   "metadata": {},
   "outputs": [
    {
     "name": "stdout",
     "output_type": "stream",
     "text": [
      "{2, 3, 4, 5, 6, 7, 11, 12}\n"
     ]
    }
   ],
   "source": [
    "s.remove(1)# 없으면 에러 남\n",
    "s.discard(0) # 없어도 에러가 나지 않음\n",
    "print(s)"
   ]
  },
  {
   "cell_type": "code",
   "execution_count": null,
   "metadata": {},
   "outputs": [],
   "source": [
    "s2 = [2, 4, 6, 8]\n",
    "\n",
    "s1, s2 = set(s1), set(s2)\n",
    "\n",
    "print(s1&s2) # 교집합\n",
    "print(s1|s2) # 합집합\n",
    "print(s1-s2) # 차집합"
   ]
  }
 ],
 "metadata": {
  "kernelspec": {
   "display_name": "Python 3",
   "language": "python",
   "name": "python3"
  },
  "language_info": {
   "codemirror_mode": {
    "name": "ipython",
    "version": 3
   },
   "file_extension": ".py",
   "mimetype": "text/x-python",
   "name": "python",
   "nbconvert_exporter": "python",
   "pygments_lexer": "ipython3",
   "version": "3.9.13"
  },
  "orig_nbformat": 4,
  "vscode": {
   "interpreter": {
    "hash": "c4b9ebf4ca459396e2ad1150752490c26670c1a037c08cad955a4425787bec2e"
   }
  }
 },
 "nbformat": 4,
 "nbformat_minor": 2
}
