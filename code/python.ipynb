{
 "cells": [
  {
   "attachments": {},
   "cell_type": "markdown",
   "metadata": {},
   "source": [
    "# 수업1"
   ]
  },
  {
   "attachments": {},
   "cell_type": "markdown",
   "metadata": {},
   "source": [
    "월~목 공부한 것을 기반으로 금요일에 관통 PJT를 할 것\n",
    "왜 관통인가? 주차마다 했던 내용을 계속해서 발전시켜 나가기 때문에\n",
    "\n",
    "&nbsp;\n",
    "\n",
    "### What is programming?\n",
    "- 프로그래밍 : 컴퓨터에게 적절한 수행 절차를 정의하고 이를 프로그래밍 언어로 표현\n",
    "- 컴퓨터를 이해하기 위한 것들 : 자료구조, 컴퓨터 구조, 네트워크, 프로그래밍 언어론, 이산수학, 알고리즘 등.."
   ]
  },
  {
   "attachments": {},
   "cell_type": "markdown",
   "metadata": {},
   "source": [
    "###  우리가 마주칠 일들\n",
    "\n",
    "- 구문 오류 (syntax error) : 문법이 틀려서 실행이 되지 않는 것\n",
    "- 논리 오류 (sematic erorr) : 문법을 틀리지 않아서 실행이 되나 내가 원하는 결과가 아닌 것\n",
    "\n",
    "> - Computational Thinking\n",
    "> 1. 컴퓨터의 특성을 잘 이해한다.\n",
    "> 2. 문제 해결 능력(실무에 적합한 사람?) : 논리적 사고 == 작은 문제로 쪼개기\n",
    "> 3. 프로그래밍 언어에 익숙해 질 것 : trial & error"
   ]
  },
  {
   "attachments": {},
   "cell_type": "markdown",
   "metadata": {},
   "source": [
    "### 통합 개발 환경\n",
    "IDE = Intergrated Development Environment \n",
    "\n",
    "Jupyter Notebook\n",
    "\n",
    "IDLE = Intergrated Development and Learning Environment\n",
    "\n",
    "파이참을 사용하는 이유 : 디버깅 툴을 이용하기 위해서"
   ]
  },
  {
   "attachments": {},
   "cell_type": "markdown",
   "metadata": {},
   "source": [
    "### 변수\n",
    "\n",
    "변수 <-> 상수\n",
    "\n",
    "변수의 이름을 식별자라고 한다.\n",
    "1. 읽고 쉽고 이해하기 쉬운 변수명이 최고임.\n",
    "2. 예약어 목록 : import keyword \\n print(keyword.kwlist)"
   ]
  },
  {
   "attachments": {},
   "cell_type": "markdown",
   "metadata": {},
   "source": [
    "### 자료형\n",
    "\n",
    "데이터를 저장할 때는 램(메모리)에 저장한다. (이유 : 속도가 빠르기 때문에)\n",
    "\n",
    "id() : 왜 필요한가? 두 대상이 동일한지 비교하기 위해서 필요하다.\n",
    "\n",
    "- 2진수 : bin, 0b\n",
    "- 8진수 : oct, 0o\n",
    "- 16진수 : hex, 0x\n",
    "\n",
    "소수의 경우 해당 진수의 값을 곱해서 소수점 윗자리 수의 값을 이용한다.\n",
    "\n",
    "실수 연산의 경우 부동소수점으로 저장될 수 있다. (Float point rounding error)"
   ]
  },
  {
   "attachments": {},
   "cell_type": "markdown",
   "metadata": {},
   "source": [
    "### 문자열 자료형\n",
    "\n",
    "\\r : 캐리지 리턴 (덮어씌우기 인쇄)"
   ]
  },
  {
   "cell_type": "code",
   "execution_count": null,
   "metadata": {},
   "outputs": [],
   "source": [
    "print(\"aaaaa\\rbbb\")"
   ]
  },
  {
   "cell_type": "markdown",
   "metadata": {},
   "source": []
  },
  {
   "attachments": {},
   "cell_type": "markdown",
   "metadata": {},
   "source": [
    "### C or C++ 과 Python의 차이점\n",
    "- 메모리의 영역은 : data, stack(정적 할당 영역), heap(동적 할당 영역) 으로 구분\n",
    "\n",
    "+ + 정적 : 프로그램을 실행했을 때 필수적으로 필요한 영역으로 할당되는 것\n",
    "\n",
    "+ + 동적 : 변수에 이름이 없을 때 사용 (주소값으로 접근할 때 사용하는 것)\n",
    "\n",
    "&nbsp;\n",
    "\n",
    "C나 C++은 변수마다 다른 주소를 할당해주지만..(정적 할당) (int a = 3, int b = 3, 다른 주소를 이용한다.)\n",
    "\n",
    "Python의 경우는 동적 할당으로 변수의 이름은 존재하지 않아 주소만 가리킨다. (a = 3, b = 3이면 동일한 주소를 가리킨다.)\n",
    "\n"
   ]
  },
  {
   "attachments": {},
   "cell_type": "markdown",
   "metadata": {},
   "source": [
    "### 변수"
   ]
  },
  {
   "cell_type": "code",
   "execution_count": null,
   "metadata": {},
   "outputs": [],
   "source": [
    "a, b = 3, 5\n",
    "print(a + b)"
   ]
  },
  {
   "cell_type": "code",
   "execution_count": null,
   "metadata": {},
   "outputs": [],
   "source": [
    "# deep copy \n",
    "# shallow copy\n",
    "a, b = b, a"
   ]
  },
  {
   "cell_type": "code",
   "execution_count": null,
   "metadata": {},
   "outputs": [],
   "source": [
    "# 자료형\n",
    "a = 3\n",
    "print(type(a))"
   ]
  },
  {
   "cell_type": "code",
   "execution_count": null,
   "metadata": {},
   "outputs": [],
   "source": [
    "a = 3.14\n",
    "print(type(a))"
   ]
  },
  {
   "cell_type": "code",
   "execution_count": null,
   "metadata": {},
   "outputs": [],
   "source": [
    "# 소수점 첫 번째 자리까지 출력\n",
    "print(round(a, 1))\n",
    "print(f'{a:.1f}')\n",
    "print(\"{0:.1f}\".format(a))"
   ]
  },
  {
   "cell_type": "code",
   "execution_count": null,
   "metadata": {},
   "outputs": [],
   "source": [
    "print(\"오늘은 \\\"100%\\\"입니다.\")"
   ]
  },
  {
   "cell_type": "code",
   "execution_count": null,
   "metadata": {},
   "outputs": [],
   "source": [
    "# 중요, 내가 몰랐던 내용임\n",
    "s = \"abcefg\"\n",
    "print(s[5:2:-1]) # gfe\n",
    "print(s[1:5:2]) # be"
   ]
  },
  {
   "cell_type": "code",
   "execution_count": null,
   "metadata": {},
   "outputs": [],
   "source": [
    "# bool\n",
    "a, b = 0 , -1\n",
    "a,b = bool(a), bool(b)\n",
    "\n",
    "print(a, b)"
   ]
  },
  {
   "cell_type": "code",
   "execution_count": null,
   "metadata": {},
   "outputs": [],
   "source": [
    "# list, seq자료형\n",
    "lst = [1, 2, 3, 4, 5]\n",
    "print(lst)\n",
    "print(*lst) # 몰랐던 내용"
   ]
  },
  {
   "cell_type": "code",
   "execution_count": null,
   "metadata": {},
   "outputs": [],
   "source": [
    "# tuple, seq자료형\n",
    "tp = tuple(range(1, 6))\n",
    "print(tp)\n",
    "print(*tp)\n",
    "print(type(tp))"
   ]
  },
  {
   "cell_type": "code",
   "execution_count": null,
   "metadata": {},
   "outputs": [],
   "source": [
    "# set - 리스트에서 중복 제거에 용이하다.\n",
    "lst = [2, 2, 2, 3, 5, 5, 6]\n",
    "lst = list(set(lst))\n",
    "print(lst) # 중복된 값이 제거된 리스트를 반환받을 수 있다."
   ]
  },
  {
   "cell_type": "code",
   "execution_count": null,
   "metadata": {},
   "outputs": [],
   "source": [
    "s = {1, 2, 3, 4, 5}\n",
    "s.add(6)\n",
    "s.update([11, 12, 3, 4, 7])\n",
    "print(s)"
   ]
  },
  {
   "cell_type": "code",
   "execution_count": null,
   "metadata": {},
   "outputs": [],
   "source": [
    "s.remove(1)# 없으면 에러 남\n",
    "s.discard(0) # 없어도 에러가 나지 않음\n",
    "print(s)"
   ]
  },
  {
   "cell_type": "code",
   "execution_count": null,
   "metadata": {},
   "outputs": [],
   "source": [
    "s2 = [2, 4, 6, 8]\n",
    "\n",
    "s1, s2 = set(s1), set(s2)\n",
    "\n",
    "print(s1&s2) # 교집합\n",
    "print(s1|s2) # 합집합\n",
    "print(s1-s2) # 차집합"
   ]
  },
  {
   "attachments": {},
   "cell_type": "markdown",
   "metadata": {},
   "source": [
    "# 수업2"
   ]
  },
  {
   "attachments": {},
   "cell_type": "markdown",
   "metadata": {},
   "source": [
    "### 코드 스타일\n",
    "\n",
    "https://peps.python.org/pep-0008/\n",
    "https://google.github.io/styleguide/pyguide.html"
   ]
  },
  {
   "attachments": {},
   "cell_type": "markdown",
   "metadata": {},
   "source": [
    "### 제어문\n",
    "\n",
    " 순차, 선택, 반복 : 파이썬은 기본적으로 위에서부터 아래로 차례대로 명령을 수행\n",
    "\n",
    "마름모(다이아)는 판단을 가리키는 순서도의 도형\n",
    "\n",
    "직사각형은 처리를 가리키는 순서도의 도형\n",
    "\n",
    "https://post.naver.com/viewer/postView.nhn?volumeNo=13004119&memberNo=2511624"
   ]
  },
  {
   "attachments": {},
   "cell_type": "markdown",
   "metadata": {},
   "source": [
    "###  조건 표현식 *\n",
    "\n",
    "조건 표현식이란 : if와 else구문을 하나의 줄로 표현하는 것\n",
    "\n",
    "> (true인 경우 값) if (조건) else (false인 경우 값)   \n",
    "> value = num if num >= 0 else -num  \n",
    "> result = a if a > b else b  "
   ]
  },
  {
   "attachments": {},
   "cell_type": "markdown",
   "metadata": {},
   "source": [
    "False : [], (), {}, '', 'None' 이 있다"
   ]
  },
  {
   "attachments": {},
   "cell_type": "markdown",
   "metadata": {},
   "source": [
    "### list Comprehension\n",
    "\n",
    "- 리스트  \n",
    "[code for 변수 in iterable]  \n",
    "[code for 변수 in iterable if 조건식]  \n",
    "\n",
    "- Dictionary  \n",
    "{key: value for 변수 in iterable}  \n",
    "{key: value for 변수 in iterable if 조건식}  "
   ]
  },
  {
   "attachments": {},
   "cell_type": "markdown",
   "metadata": {},
   "source": [
    "### for-else 구문\n",
    "\n",
    "- 끝까지 반복문을 실행한 이후 else 문 실행\n",
    "- - break를 통해 중간에 종료되는 경우 else문은 실행되지 않음"
   ]
  },
  {
   "cell_type": "code",
   "execution_count": null,
   "metadata": {},
   "outputs": [],
   "source": [
    "a = int(input())\n",
    "\n",
    "if (a > 5):\n",
    "    print(\"오삼\")\n",
    "elif (a > 3):\n",
    "    print(\"불고기\")\n",
    "elif (a > 4 or a == -1):\n",
    "    print(\"재시도\")\n",
    "else:\n",
    "    print(\"오삼불고기\")\n"
   ]
  },
  {
   "cell_type": "code",
   "execution_count": null,
   "metadata": {},
   "outputs": [],
   "source": [
    "#숫자 두 개를 입력받고 둘 중 큰 수를 출력하라\n",
    "\n",
    "a, b = map(int, input().split())\n",
    "\n",
    "# if (a > b):\n",
    "#     print(a)\n",
    "# else:\n",
    "#     print(b)\n",
    "\n",
    "result = a if a > b else b"
   ]
  },
  {
   "cell_type": "code",
   "execution_count": null,
   "metadata": {},
   "outputs": [],
   "source": [
    "for i in range(1, 101):\n",
    "    print(i, end = \" \")"
   ]
  },
  {
   "cell_type": "code",
   "execution_count": null,
   "metadata": {},
   "outputs": [],
   "source": [
    "for i in range(100):\n",
    "    print('#', end = \" \")"
   ]
  },
  {
   "cell_type": "code",
   "execution_count": null,
   "metadata": {},
   "outputs": [],
   "source": [
    "i = 1\n",
    "while (i <= 100):\n",
    "    print(i, end = \" \")\n",
    "    i += 1"
   ]
  },
  {
   "cell_type": "code",
   "execution_count": 14,
   "metadata": {},
   "outputs": [
    {
     "name": "stdout",
     "output_type": "stream",
     "text": [
      "# # # # # # # # # # # # # # # # # # # # # # # # # # # # # # # # # # # # # # # # # # # # # # # # # # # # # # # # # # # # # # # # # # # # # # # # # # # # # # # # # # # # # # # # # # # # # # # # # # # # "
     ]
    }
   ],
   "source": [
    "i = 0\n",
    "while (i < 100):\n",
    "    print('#', end = ' ')\n",
    "    i += 1\n"
   ]
  },
  {
   "cell_type": "code",
   "execution_count": 16,
   "metadata": {},
   "outputs": [
    {
     "name": "stdout",
     "output_type": "stream",
     "text": [
      "1 2 3\n",
      "4 5 6\n"
     ]
    }
   ],
   "source": [
    "lst = [\n",
    "    [1, 2, 3],\n",
    "    [4, 5, 6]\n",
    "    ]\n",
    "\n",
    "for i in lst:\n",
    "    print(*i)"
   ]
  },
  {
   "cell_type": "code",
   "execution_count": 20,
   "metadata": {},
   "outputs": [
    {
     "name": "stdout",
     "output_type": "stream",
     "text": [
      "1 4 9 16 25 36 49 64 81\n"
     ]
    }
   ],
   "source": [
    "# 빈 리시트르 하나를 만든 후 lst값을 제곱한 값으로 채워넣기\n",
    "lst = range(1, 10)\n",
    "lst2 = [i**2 for i in lst]\n",
    "\n",
    "print(*lst2)"
   ]
  },
  {
   "cell_type": "code",
   "execution_count": 22,
   "metadata": {},
   "outputs": [
    {
     "name": "stdout",
     "output_type": "stream",
     "text": [
      "[1, 4, 9, 16, 25, 36]\n"
     ]
    }
   ],
   "source": [
    "lst = [\n",
    "    [1, 2, 3],\n",
    "    [4, 5, 6]\n",
    "    ]\n",
    "lst2 = []\n",
    "\n",
    "for i in range(2):\n",
    "    for j in range(3):\n",
    "        lst2.append(lst[i][j]**2)\n",
    "\n",
    "print(lst2)"
   ]
  },
  {
   "cell_type": "code",
   "execution_count": 23,
   "metadata": {},
   "outputs": [
    {
     "name": "stdout",
     "output_type": "stream",
     "text": [
      "1 4 9\n",
      "16 25 36\n"
     ]
    }
   ],
   "source": [
    "lst = [\n",
    "    [1, 2, 3],\n",
    "    [4, 5, 6]\n",
    "    ]\n",
    "\n",
    "lst2 = [[0]*3 for i in range(2)]\n",
    "\n",
    "for i in range(len(lst)):\n",
    "    for j in range(len(lst[0])):\n",
    "        lst2[i][j] = lst[i][j] ** 2\n",
    "\n",
    "for k in lst2:\n",
    "    print(*k)"
   ]
  },
  {
   "cell_type": "code",
   "execution_count": 29,
   "metadata": {},
   "outputs": [
    {
     "name": "stdout",
     "output_type": "stream",
     "text": [
      "kevin 1\n",
      "john 2\n",
      "bob 3\n"
     ]
    }
   ],
   "source": [
    "# 딕셔너리\n",
    "dict = {\"kevin\": 1, \"john\": 2, \"bob\": 3}\n",
    "\n",
    "for keys, values in dict.items():\n",
    "    print(keys, values)"
   ]
  },
  {
   "cell_type": "code",
   "execution_count": 33,
   "metadata": {},
   "outputs": [
    {
     "name": "stdout",
     "output_type": "stream",
     "text": [
      "kevin\n",
      "john\n",
      "bob\n"
     ]
    }
   ],
   "source": [
    "# 키값만 출력되는 것을 알 수 있다. (몰랐던 것)\n",
    "for i in dict:\n",
    "    print(i)"
   ]
  },
  {
   "cell_type": "code",
   "execution_count": 30,
   "metadata": {},
   "outputs": [
    {
     "name": "stdout",
     "output_type": "stream",
     "text": [
      "{1: 3, 2: 2, 3: 4, '오': 1}\n"
     ]
    }
   ],
   "source": [
    "lst = [1, 1, 1, 2, 2, 3, 3, 3, 3, '오']\n",
    "dict1 = {}\n",
    "\n",
    "for i in lst:\n",
    "    try:\n",
    "        dict1[i] += 1\n",
    "    except:\n",
    "        dict1[i] = 1\n",
    "\n",
    "print(dict1)"
   ]
  },
  {
   "cell_type": "code",
   "execution_count": 35,
   "metadata": {},
   "outputs": [
    {
     "name": "stdout",
     "output_type": "stream",
     "text": [
      "0 1 2 3 4 5 6 "
     ]
    }
   ],
   "source": [
    "# break : 반복문 중간에 멈추고 싶을 때 (함수 종료가 아님)\n",
    "# return : 함수의 값을 반환하거나 함수를 멈추고 싶을 때\n",
    "\n",
    "i = 0\n",
    "while (True):\n",
    "    print(i, end = \" \")\n",
    "    i += 1\n",
    "\n",
    "    if (i == 7):\n",
    "        break;"
   ]
  },
  {
   "cell_type": "code",
   "execution_count": 38,
   "metadata": {},
   "outputs": [
    {
     "name": "stdout",
     "output_type": "stream",
     "text": [
      "1 2 1 2 1 2 "
     ]
    }
   ],
   "source": [
    "lst = [[1, 2, 3] for i in range(3)]\n",
    "\n",
    "for i in range(3):\n",
    "    for j in range(4):\n",
    "        if (lst[i][j] == 3):\n",
    "            break;\n",
    "        print(lst[i][j], end = \" \")"
   ]
  },
  {
   "cell_type": "code",
   "execution_count": 39,
   "metadata": {},
   "outputs": [
    {
     "name": "stdout",
     "output_type": "stream",
     "text": [
      "1 2 3 4 6 7 "
     ]
    }
   ],
   "source": [
    "# continue (반복문을 다음 순서부터 다시 시작한다.)\n",
    "lst = range(1, 8)\n",
    "\n",
    "for i in lst:\n",
    "    if (i == 5):\n",
    "        continue;\n",
    "    print(i, end = ' ')"
   ]
  },
  {
   "cell_type": "code",
   "execution_count": 41,
   "metadata": {},
   "outputs": [
    {
     "name": "stdout",
     "output_type": "stream",
     "text": [
      "1 2 1 2 1 2 "
     ]
    }
   ],
   "source": [
    "lst = [[1, 2, 3] for i in range(3)]\n",
    "for i in range(3):\n",
    "    for j in range(3):\n",
    "        if (lst[i][j] == 3):\n",
    "            continue\n",
    "        print(lst[i][j], end = \" \")"
   ]
  },
  {
   "attachments": {},
   "cell_type": "markdown",
   "metadata": {},
   "source": [
    "- 인코딩 : 문자를 어떻게 출력할지에 대한 약속  \n",
    "아스키코드 : 128개의 문자조합을 제공하는 7비트 부호  \n",
    "유니코드(Unicode) : 각 나라별 언어를 모두 표현하기 위해 나온 코드 체계가 유니코드"
   ]
  },
  {
   "cell_type": "code",
   "execution_count": 43,
   "metadata": {},
   "outputs": [
    {
     "name": "stdout",
     "output_type": "stream",
     "text": [
      "2\n",
      "12\n"
     ]
    }
   ],
   "source": [
    "#\n",
    "a = '2'\n",
    "print(ord(a) - ord('0'))\n",
    "#\n",
    "print(int(a))"
   ]
  },
  {
   "cell_type": "code",
   "execution_count": 44,
   "metadata": {},
   "outputs": [
    {
     "data": {
      "text/plain": [
       "9"
      ]
     },
     "execution_count": 44,
     "metadata": {},
     "output_type": "execute_result"
    }
   ],
   "source": [
    "pow(3, 2)"
   ]
  },
  {
   "cell_type": "code",
   "execution_count": 45,
   "metadata": {},
   "outputs": [
    {
     "name": "stdout",
     "output_type": "stream",
     "text": [
      "[6, 2]\n"
     ]
    }
   ],
   "source": [
    "import random\n",
    "a = range(1, 7)\n",
    "print(random.sample(a, 2))"
   ]
  },
  {
   "cell_type": "code",
   "execution_count": 46,
   "metadata": {},
   "outputs": [
    {
     "name": "stdout",
     "output_type": "stream",
     "text": [
      "7\n"
     ]
    }
   ],
   "source": [
    "# 사용자 함수\n",
    "# 매개변수, parameters\n",
    "def getsum(a, b):\n",
    "    return (a + b)\n",
    "\n",
    "# 인자값, arguments\n",
    "print(getsum(3, 4))\n",
    "\n",
    "# 지역변수(local variable), 전역변수(global variable)\n",
    "\n",
    "# 리턴값이 두 개이면 리턴으로 튜플을 사용하거나 전역변수를 사용해야 한다."
   ]
  },
  {
   "cell_type": "code",
   "execution_count": 47,
   "metadata": {},
   "outputs": [
    {
     "name": "stdout",
     "output_type": "stream",
     "text": [
      "<class 'tuple'> (7, 12)\n"
     ]
    }
   ],
   "source": [
    "# 튜플\n",
    "def getsum(a, b):\n",
    "    return a+b, a*b\n",
    "\n",
    "ret = getsum(3, 4)\n",
    "print(type(ret), ret)"
   ]
  },
  {
   "cell_type": "code",
   "execution_count": null,
   "metadata": {},
   "outputs": [],
   "source": [
    "# 전역변수 * (몰랐던 것)\n",
    "def getsum2(a, b):\n",
    "    global sum1, gop1\n",
    "    sum1 = a + b\n",
    "    mul1 = a * b"
   ]
  },
  {
   "cell_type": "code",
   "execution_count": 48,
   "metadata": {},
   "outputs": [
    {
     "name": "stdout",
     "output_type": "stream",
     "text": [
      "2 3\n"
     ]
    }
   ],
   "source": [
    "# 혼합사용\n",
    "def getsum(a, b):\n",
    "    global mul2\n",
    "    mul2 = a*b\n",
    "\n",
    "    return(a + b)\n",
    "\n",
    "sum2 = getsum(1, 2)\n",
    "\n",
    "print(mul2, sum2)"
   ]
  },
  {
   "cell_type": "code",
   "execution_count": 49,
   "metadata": {},
   "outputs": [
    {
     "name": "stdout",
     "output_type": "stream",
     "text": [
      "None\n"
     ]
    }
   ],
   "source": [
    "def getsum(a, b):\n",
    "    return\n",
    "\n",
    "ret = getsum(1, 2)\n",
    "print(ret)"
   ]
  },
  {
   "cell_type": "code",
   "execution_count": 51,
   "metadata": {},
   "outputs": [
    {
     "name": "stdout",
     "output_type": "stream",
     "text": [
      "17\n"
     ]
    }
   ],
   "source": [
    "# default parameter 개수 맞추기, 기존 파라미터보다 뒤쪽으로 나두어야 한다.\n",
    "\n",
    "def getsum(a, b = 6, c = 7):\n",
    "    return (a + b + c)\n",
    "\n",
    "ret= getsum(4)\n",
    "print(ret)"
   ]
  },
  {
   "cell_type": "code",
   "execution_count": 53,
   "metadata": {},
   "outputs": [
    {
     "name": "stdout",
     "output_type": "stream",
     "text": [
      "[1, 2, 3, 4, 5] (1, 2, 3, 4, 5)\n"
     ]
    }
   ],
   "source": [
    "# packing, 값들을 묶어서 하나 값으로 사용\n",
    "num = [1, 2, 3, 4, 5]\n",
    "num2 = (1, 2, 3, 4, 5)\n",
    "\n",
    "print(num, num2)"
   ]
  },
  {
   "cell_type": "code",
   "execution_count": 54,
   "metadata": {},
   "outputs": [
    {
     "name": "stdout",
     "output_type": "stream",
     "text": [
      "1 2 3 4 5\n"
     ]
    }
   ],
   "source": [
    "# unpacking., 값들을 풀어서 사용하는 것\n",
    "a, b, c, d, e = num\n",
    "print(a, b, c, d, e)"
   ]
  },
  {
   "cell_type": "code",
   "execution_count": 55,
   "metadata": {},
   "outputs": [
    {
     "name": "stdout",
     "output_type": "stream",
     "text": [
      "[3, 4, 5]\n"
     ]
    }
   ],
   "source": [
    "# 몰랐던 것\n",
    "# * :asterisk, astral\n",
    "a, b, *c = num\n",
    "print(c)"
   ]
  },
  {
   "cell_type": "code",
   "execution_count": 56,
   "metadata": {},
   "outputs": [
    {
     "name": "stdout",
     "output_type": "stream",
     "text": [
      "6\n"
     ]
    }
   ],
   "source": [
    "# 가변인자 args\n",
    "def getsum(*a): # 여러 개를 받을 때 사용할 수 있다. 튜플의 형태로 이용한다.\n",
    "    sum = 0\n",
    "\n",
    "    for i in a:\n",
    "        sum += i\n",
    "    \n",
    "    return(sum)\n",
    "\n",
    "result = getsum(1, 2, 3)\n",
    "print(result)"
   ]
  },
  {
   "cell_type": "code",
   "execution_count": 61,
   "metadata": {},
   "outputs": [
    {
     "name": "stdout",
     "output_type": "stream",
     "text": [
      "kate 1\n",
      "kevin 2\n",
      "john 3\n"
     ]
    }
   ],
   "source": [
    "# 몰랐던 것, **는 딕셔너리로 받는 듯?\n",
    "def print_info2(**args):\n",
    "    for i, j in args.items():\n",
    "        print(i, j)\n",
    "\n",
    "di = {'kate': 1, 'kevin': 2, 'john': 3}\n",
    "\n",
    "print_info2(**di)"
   ]
  },
  {
   "cell_type": "code",
   "execution_count": 62,
   "metadata": {},
   "outputs": [
    {
     "name": "stdout",
     "output_type": "stream",
     "text": [
      "kevin 0\n",
      "john 1\n",
      "bob 2\n"
     ]
    }
   ],
   "source": [
    "print_info2(kevin=0, john=1, bob=2)"
   ]
  },
  {
   "cell_type": "code",
   "execution_count": 65,
   "metadata": {},
   "outputs": [
    {
     "name": "stdout",
     "output_type": "stream",
     "text": [
      "[1, 2, 3]\n"
     ]
    }
   ],
   "source": [
    "# map : 리스트나 튜플같이 순회 가능한 데이터 구조 값들에 일괄적으로 적용하고 적용 후 값을 map이라는 객체로 반환\n",
    "# 사용법 map(함수, iterables)\n",
    "num = ['1', '2', '3']\n",
    "lst1 = []\n",
    "\n",
    "# for i in num:\n",
    "#     lst1.append(int(i))\n",
    "# print(lst1)\n",
    "\n",
    "lst2 = list(map(int, num))\n",
    "print(lst2)"
   ]
  },
  {
   "cell_type": "code",
   "execution_count": 68,
   "metadata": {},
   "outputs": [
    {
     "name": "stdout",
     "output_type": "stream",
     "text": [
      "[5, 7, 9]\n"
     ]
    }
   ],
   "source": [
    "lst1 = [1, 2, 3]\n",
    "lst2 = [4, 5, 6]\n",
    "lst3 = list(map(sum, zip(lst1, lst2)))\n",
    "print(lst3)"
   ]
  },
  {
   "cell_type": "code",
   "execution_count": 70,
   "metadata": {},
   "outputs": [
    {
     "name": "stdout",
     "output_type": "stream",
     "text": [
      "[5, 7, 9]\n"
     ]
    }
   ],
   "source": [
    "def func(a, b):\n",
    "    return a + b\n",
    "\n",
    "lst3 = list(map(func, lst1, lst2))\n",
    "print(lst3)"
   ]
  }
 ],
 "metadata": {
  "kernelspec": {
   "display_name": "Python 3",
   "language": "python",
   "name": "python3"
  },
  "language_info": {
   "codemirror_mode": {
    "name": "ipython",
    "version": 3
   },
   "file_extension": ".py",
   "mimetype": "text/x-python",
   "name": "python",
   "nbconvert_exporter": "python",
   "pygments_lexer": "ipython3",
   "version": "3.9.13"
  },
  "orig_nbformat": 4,
  "vscode": {
   "interpreter": {
    "hash": "c4b9ebf4ca459396e2ad1150752490c26670c1a037c08cad955a4425787bec2e"
   }
  }
 },
 "nbformat": 4,
 "nbformat_minor": 2
}
