{
 "cells": [
  {
   "cell_type": "code",
   "execution_count": null,
   "metadata": {},
   "outputs": [],
   "source": [
    "lst = [5, 9, 4, 6, 1, 5, 8, 9]\n",
    "a, b = map(int, input().split())\n",
    "k = lst.index(b)\n",
    "\n",
    "print(abs(a - k))"
   ]
  },
  {
   "cell_type": "code",
   "execution_count": null,
   "metadata": {},
   "outputs": [],
   "source": [
    "lst = [5, 9, 4, 6, 1, 5, 8, 9]\n",
    "a, b = map(int, input().split())\n",
    "k = lst.index(b)\n",
    "\n",
    "try:\n",
    "    k2 =lst.index(b, k + 1)\n",
    "except:\n",
    "    k2 = -1\n",
    "\n",
    "if (k2 < 0):\n",
    "    print(abs(a - k))\n",
    "else:\n",
    "    temp = abs(a - k) if abs(a - k) < abs(a - k2) else abs(a - k2)\n",
    "    print(temp)"
   ]
  },
  {
   "cell_type": "code",
   "execution_count": null,
   "metadata": {},
   "outputs": [],
   "source": [
    "lst = [\n",
    "    list(\"ATKB\"),\n",
    "    list(\"CZFD\"),\n",
    "    list(\"HGEI\")\n",
    "]\n",
    "\n",
    "a, b, c = input().split()\n",
    "b, c = int(b), int(c)\n",
    "\n",
    "for i in range(len(lst)):\n",
    "    for j in range(len(lst[0])):\n",
    "        if (lst[i][j] == a):\n",
    "            row = i\n",
    "            col = j\n",
    "\n",
    "row += b\n",
    "col += c\n",
    "\n",
    "print(lst[row][col])"
   ]
  },
  {
   "cell_type": "code",
   "execution_count": null,
   "metadata": {},
   "outputs": [],
   "source": [
    "lst = [\n",
    "    [3, 5, 9],\n",
    "    [4, 2, 1],\n",
    "    [5, 1, 5]\n",
    "]\n",
    "\n",
    "def isExist(lst):\n",
    "    r = list(map(int, input().split()))\n",
    "    cnt = [0]*len(r)\n",
    "\n",
    "    for i in range(len(r)):\n",
    "        for j in lst:\n",
    "            if (r[i] in j):\n",
    "                cnt[i] += 1\n",
    "    \n",
    "    for i in range(len(r)):\n",
    "        if (cnt[i] > 0):\n",
    "            print(f\"{r[i]}:존재\")\n",
    "        else:\n",
    "            print(f\"{r[i]}:미발견\")\n",
    "\n",
    "isExist(lst)"
   ]
  },
  {
   "cell_type": "code",
   "execution_count": null,
   "metadata": {},
   "outputs": [],
   "source": [
    "lst1 = [\n",
    "    [0, 0, 0, 1],\n",
    "    [1, 1, 0, 1],\n",
    "    [1, 0, 0, 1],\n",
    "    [1, 1, 1, 1]\n",
    "]\n",
    "\n",
    "lst2 = [\n",
    "    [1, 1, 1, 1],\n",
    "    [1, 0, 1, 1],\n",
    "    [1, 0, 0, 0],\n",
    "    [1, 0, 0, 0]\n",
    "]\n",
    "\n",
    "lst3 = [[0]*4 for i in range(4)]\n",
    "\n",
    "for i in range(len(lst1)):\n",
    "    for j in range(len(lst1[0])):\n",
    "        lst3[i][j] = lst1[i][j] or lst2[i][j]\n",
    "\n",
    "for i in range(len(lst1)):\n",
    "    for j in range(len(lst1[0])):\n",
    "        if (not lst3[i][j]):\n",
    "            print(f\"({i},{j})\")"
   ]
  },
  {
   "cell_type": "code",
   "execution_count": null,
   "metadata": {},
   "outputs": [],
   "source": [
    "lst1 = [\n",
    "    [0, 0, 0, 1],\n",
    "    [1, 1, 0, 1],\n",
    "    [1, 0, 0, 1],\n",
    "    [1, 1, 1, 1]\n",
    "]\n",
    "\n",
    "lst2 = [\n",
    "    [1, 1, 1, 1],\n",
    "    [1, 0, 1, 1],\n",
    "    [1, 0, 0, 0],\n",
    "    [1, 0, 0, 0]\n",
    "]\n",
    "\n",
    "lst3 = [[0]*4 for i in range(4)]\n",
    "\n",
    "for i in range(len(lst1)):\n",
    "    for j in range(len(lst1[0])):\n",
    "        lst3[i][j] = lst1[i][j] or lst2[i][j]\n",
    "\n",
    "for i in range(len(lst1)):\n",
    "    for j in range(len(lst1[0])):\n",
    "        if (not lst3[i][j]):\n",
    "            print(f\"({i},{j})\")"
   ]
  },
  {
   "cell_type": "code",
   "execution_count": null,
   "metadata": {},
   "outputs": [],
   "source": [
    "lst1 = [\n",
    "    [0, 0, 1, 0, 0],\n",
    "    [0, 0, 1, 1, 1]\n",
    "]\n",
    "\n",
    "lst2 = [\n",
    "    [3, 5, 4, 1, 1],\n",
    "    [3, 5, 2, 5, 6]\n",
    "]\n",
    "\n",
    "lst = []\n",
    "\n",
    "for i in range(2):\n",
    "    for j in range(5):\n",
    "        if (lst1[i][j]):\n",
    "            lst.append(lst2[i][j])\n",
    "\n",
    "a = int(input())\n",
    "\n",
    "if (a in lst):\n",
    "    print(f\"{a} 존재\")\n",
    "else:\n",
    "    print(f\"{a} 없음\")"
   ]
  },
  {
   "cell_type": "code",
   "execution_count": null,
   "metadata": {},
   "outputs": [],
   "source": [
    "vect = list(\"BTKIGZ\")\n",
    "target = input().split()\n",
    "cnt = 0\n",
    "\n",
    "for i in target:\n",
    "    if (i in vect):\n",
    "        cnt += 1\n",
    "\n",
    "print(cnt)"
   ]
  },
  {
   "cell_type": "code",
   "execution_count": null,
   "metadata": {},
   "outputs": [],
   "source": [
    "vect = [\n",
    "    [3, 7, 4],\n",
    "    [2, 2, 4],\n",
    "    [2, 2, 5]\n",
    "]\n",
    "\n",
    "target = list(map(int, input().split()))\n",
    "vect1 = sum(vect, []) # 좋은데?\n",
    "dic1 = {}\n",
    "\n",
    "for i in target:\n",
    "    for j in vect1:\n",
    "        if (i  == j):\n",
    "            try:\n",
    "                dic1[i] += 1\n",
    "            except:\n",
    "                dic1[i] = 1\n",
    "\n",
    "res = list(sorted(dic1.keys(), key = lambda x: dic1[x], reverse = True))\n",
    "print(res[0])"
   ]
  },
  {
   "cell_type": "code",
   "execution_count": null,
   "metadata": {},
   "outputs": [],
   "source": [
    "def getSum(n):\n",
    "    lst = [3, 4, 1, 1, 2, 6, 8, 7, 8, 9, 10]\n",
    "    s = 0\n",
    "\n",
    "    for i in range(n, n + 5):\n",
    "        s += lst[i]\n",
    "\n",
    "    return s\n",
    "\n",
    "print(getSum(int(input())))"
   ]
  },
  {
   "cell_type": "code",
   "execution_count": null,
   "metadata": {},
   "outputs": [],
   "source": [
    "lst = [3, 7, 4, 1, 2, 6]\n",
    "univer = [list(map(int, input().split())) for i in range(2)]\n",
    "lst2 = [[0]*2 for i in range(2)]\n",
    "\n",
    "for i in range(2):\n",
    "    for j in range(2):\n",
    "        univer[i][j] = \"OK\" if (univer[i][j] in lst) else \"NO\"\n",
    "            \n",
    "for i in univer:\n",
    "    print(*i)"
   ]
  },
  {
   "cell_type": "code",
   "execution_count": null,
   "metadata": {},
   "outputs": [],
   "source": [
    "a = input()\n",
    "b = input()\n",
    "\n",
    "def isSame(a, b):\n",
    "    if (a == b):\n",
    "        return \"동명\"\n",
    "    else:\n",
    "        return \"남남\"\n",
    "\n",
    "print(isSame(a, b))"
   ]
  },
  {
   "cell_type": "code",
   "execution_count": null,
   "metadata": {},
   "outputs": [],
   "source": [
    "lst = [\n",
    "    list(\"GKT\"),\n",
    "    list(\"PAC\")\n",
    "]\n",
    "\n",
    "cnt = 0\n",
    "r = input().split()\n",
    "\n",
    "for i in r:\n",
    "    for j in lst:\n",
    "        if (i in j):\n",
    "            cnt += 1\n",
    "            break\n",
    "\n",
    "if (cnt == 2):\n",
    "    print(\"대발견\")\n",
    "elif (cnt == 1):\n",
    "    print(\"중발견\")\n",
    "else:\n",
    "    print(\"미발견\")"
   ]
  },
  {
   "cell_type": "code",
   "execution_count": null,
   "metadata": {},
   "outputs": [],
   "source": [
    "bit = list(map(int, input().split()))\n",
    "vect = [3, 5, 4, 2, 6, 6, 5]\n",
    "\n",
    "res = filter(lambda x: bit[x], range(len(bit)))\n",
    "lst = [0] * len(bit)\n",
    "\n",
    "for i in list(res):\n",
    "    lst[i] = vect[i]\n",
    "\n",
    "for i in range(len(lst)):\n",
    "    if (lst[i] != 0):\n",
    "        lst[i] = 7\n",
    "\n",
    "print(*lst, sep = '')"
   ]
  },
  {
   "cell_type": "code",
   "execution_count": null,
   "metadata": {},
   "outputs": [],
   "source": [
    "pwd = [3, 7, 4, 9]\n",
    "lst = list(map(int, input().split()))\n",
    "\n",
    "if (pwd == lst):\n",
    "    print(\"pass\")\n",
    "else:\n",
    "    print(\"fail\")"
   ]
  },
  {
   "cell_type": "code",
   "execution_count": null,
   "metadata": {},
   "outputs": [],
   "source": [
    "lst = [\n",
    "    [10 ,20],\n",
    "    [30, 60],\n",
    "    [100, 150],\n",
    "    [200, 300]\n",
    "]\n",
    "\n",
    "lst2 = [0]*4\n",
    "\n",
    "r = list(map(int, input().split()))\n",
    "\n",
    "for i in r:\n",
    "    for j in range(len(lst)):\n",
    "        if (i >= lst[j][0] and i <= lst[j][1]):\n",
    "            lst2[j] += 1\n",
    "\n",
    "for i in range(len(lst2)):\n",
    "    print(f\"lev{i}:{lst2[i]}\")"
   ]
  },
  {
   "cell_type": "code",
   "execution_count": null,
   "metadata": {},
   "outputs": [],
   "source": [
    "map1 = [\n",
    "    [3, 55, 42],\n",
    "    [-5, -9, -10]\n",
    "]\n",
    "map2 = sum(map1, [])\n",
    "pix = [list(map(int, input().split())) for i in range(2)]\n",
    "lst = [['N']*2 for i in range(2)]\n",
    "\n",
    "for i in range(len(pix)):\n",
    "    for j in range(len(pix[0])):\n",
    "        if (pix[i][j] in map2):\n",
    "            lst[i][j] = 'Y'\n",
    "\n",
    "for i in lst:\n",
    "    print(*i)"
   ]
  },
  {
   "cell_type": "code",
   "execution_count": null,
   "metadata": {},
   "outputs": [],
   "source": [
    "arr = list(map(int, input().split()))\n",
    "mask = [1, 0, 1, 0, 1, 0]\n",
    "fil1 = list(filter(lambda x:mask[x], range(len(mask))))\n",
    "lst = []\n",
    "\n",
    "m = arr[fil1[0]]\n",
    "idx = fil1[0]\n",
    "\n",
    "for i in range(len(fil1)):\n",
    "    if (m > arr[fil1[i]]):\n",
    "        m = arr[fil1[i]]\n",
    "        idx = fil1[i]\n",
    "\n",
    "print(f\"arr[{idx}]={m}\")"
   ]
  },
  {
   "cell_type": "code",
   "execution_count": null,
   "metadata": {},
   "outputs": [],
   "source": [
    "def bbq(n):\n",
    "\n",
    "    if n == 3:\n",
    "        return\n",
    "\n",
    "    bbq(n + 1)\n",
    "\n",
    "bbq(0)\n"
   ]
  },
  {
   "cell_type": "code",
   "execution_count": null,
   "metadata": {},
   "outputs": [],
   "source": [
    "def cntd(n):\n",
    "    print(n, end = ' ')\n",
    "\n",
    "    if (n == 0):\n",
    "        return\n",
    "    \n",
    "    cntd(n - 1)\n",
    "    print(n, end = ' ')\n",
    "\n",
    "\n",
    "cntd(int(input()))"
   ]
  },
  {
   "cell_type": "code",
   "execution_count": null,
   "metadata": {},
   "outputs": [],
   "source": [
    "def recur(n):\n",
    "\n",
    "    print(n, end = ' ')\n",
    "    if (n == 5):\n",
    "        return\n",
    "    \n",
    "    recur(n + 1)\n",
    "    print(n, end = ' ')\n",
    "\n",
    "recur(0)"
   ]
  },
  {
   "cell_type": "code",
   "execution_count": null,
   "metadata": {},
   "outputs": [],
   "source": [
    "def abc(n, k = 0):\n",
    "    k2 = k\n",
    "\n",
    "    if (k == 3):\n",
    "        print(n, end = ' ')\n",
    "        return\n",
    "    \n",
    "    abc(n + 2, k = k2 + 1)\n",
    "    print(n, end = ' ')\n",
    "\n",
    "abc(int(input()))"
   ]
  },
  {
   "cell_type": "code",
   "execution_count": null,
   "metadata": {},
   "outputs": [],
   "source": [
    "st = input()\n",
    "def abcd(n):\n",
    "    \n",
    "    print(st[n], end = '')\n",
    "    \n",
    "    if (n == len(st) - 1):\n",
    "        print('\\n',st[n], end = '', sep = '')\n",
    "        return\n",
    "    \n",
    "    abcd(n + 1)\n",
    "    print(st[n], end = '')\n",
    "\n",
    "abcd(0)"
   ]
  },
  {
   "cell_type": "code",
   "execution_count": null,
   "metadata": {},
   "outputs": [],
   "source": [
    "a, b = map(int, input().split())\n",
    "\n",
    "def ftn1(a, b):\n",
    "    \n",
    "    print(a, end = ' ')\n",
    "\n",
    "    if (a == b):\n",
    "        return\n",
    "    \n",
    "    ftn1(a + 1, b)\n",
    "    print(a, end = ' ')\n",
    "\n",
    "ftn1(a, b)"
   ]
  },
  {
   "cell_type": "code",
   "execution_count": null,
   "metadata": {},
   "outputs": [],
   "source": [
    "lst = [3, 7, 4, 1, 9, 4, 6, 2]\n",
    "\n",
    "def ftn2(n):\n",
    "    print(lst[n], end = ' ')\n",
    "\n",
    "    if (n == 0):\n",
    "        return\n",
    "    \n",
    "    ftn2(n - 1)\n",
    "    print(lst[n], end = ' ')\n",
    "\n",
    "ftn2(int(input()))"
   ]
  },
  {
   "cell_type": "code",
   "execution_count": null,
   "metadata": {},
   "outputs": [],
   "source": [
    "a = int(input())\n",
    "\n",
    "def ftn3(n):\n",
    "\n",
    "    if (n == 0):\n",
    "        return\n",
    "    \n",
    "    ftn3(n // 2)\n",
    "    print(n, end = ' ')\n",
    "\n",
    "ftn3(a)"
   ]
  },
  {
   "cell_type": "code",
   "execution_count": null,
   "metadata": {},
   "outputs": [],
   "source": [
    "def ftn4(n):\n",
    "\n",
    "    if n == 2:\n",
    "        return\n",
    "    \n",
    "    ftn4(n + 1)\n",
    "\n",
    "ftn4(0)"
   ]
  },
  {
   "cell_type": "code",
   "execution_count": null,
   "metadata": {},
   "outputs": [],
   "source": [
    "r = input()\n",
    "\n",
    "for i in range(len(r)):\n",
    "    temp = len(r) - 1 - i\n",
    "    print(r[temp:])"
   ]
  },
  {
   "cell_type": "code",
   "execution_count": null,
   "metadata": {},
   "outputs": [],
   "source": [
    "r = input()\n",
    "lg = len(r) // 2\n",
    "a, b = r[:lg], r[lg:]\n",
    "\n",
    "if (a == b):\n",
    "    print(\"동일한문장\")\n",
    "else:\n",
    "    print(\"다른문장\")"
   ]
  },
  {
   "cell_type": "code",
   "execution_count": null,
   "metadata": {},
   "outputs": [],
   "source": [
    "a = [list(map(int, input().split())) for i in range(4)]\n",
    "_ = input()\n",
    "b = [list(map(int, input().split())) for i in range(4)]\n",
    "\n",
    "res = \"걸리지않는다\"\n",
    "\n",
    "for i in range(4):\n",
    "    for j in range(4):\n",
    "        if (a[i][j] * b[i][j] == 1):\n",
    "            res = \"걸리다\"\n",
    "            break;\n",
    "\n",
    "print(res)"
   ]
  },
  {
   "cell_type": "code",
   "execution_count": null,
   "metadata": {},
   "outputs": [],
   "source": [
    "a = ord(input())\n",
    "\n",
    "for i in range(a - 3, a + 4):\n",
    "    if (i > ord('Z')):\n",
    "        i -= 26\n",
    "    elif (i < ord('A')):\n",
    "        i += 26\n",
    "    \n",
    "    print(chr(i), end = '')"
   ]
  },
  {
   "cell_type": "code",
   "execution_count": null,
   "metadata": {},
   "outputs": [],
   "source": [
    "a = list(map(int, input().split()))\n",
    "\n",
    "for i in range(4, 8):\n",
    "    print(*a[:i])\n"
   ]
  },
  {
   "cell_type": "code",
   "execution_count": null,
   "metadata": {},
   "outputs": [],
   "source": [
    "a = list(map(int, input().split()))\n",
    "\n",
    "for i in range(4):\n",
    "    for j in range(0, 4 + i):\n",
    "        print(a[j], end = ' ')\n",
    "    print()"
   ]
  },
  {
   "cell_type": "code",
   "execution_count": null,
   "metadata": {},
   "outputs": [],
   "source": [
    "a = input()\n",
    "lg = len(a)\n",
    "\n",
    "for i in range(lg):\n",
    "    print(a[:i + 1])"
   ]
  },
  {
   "cell_type": "code",
   "execution_count": null,
   "metadata": {},
   "outputs": [],
   "source": [
    "a = list(map(int, input().split()))\n",
    "b = list(map(int, input().split()))\n",
    "lg = len(a) + len(b)\n",
    "idx1 = 0\n",
    "idx2 = 0\n",
    "res = []\n",
    "\n",
    "for i in range(lg):\n",
    "    if (idx1 == 4):\n",
    "        res += b[idx2:]\n",
    "        break;\n",
    "    if (idx2 == 4):\n",
    "        res += a[idx1:]\n",
    "        break;\n",
    "    \n",
    "    if (a[idx1] < b[idx2]):\n",
    "        res.append(a[idx1])\n",
    "        idx1 += 1\n",
    "    else:\n",
    "        res.append(b[idx2])\n",
    "        idx2 += 1\n",
    "\n",
    "print(*res)"
   ]
  },
  {
   "cell_type": "code",
   "execution_count": null,
   "metadata": {},
   "outputs": [],
   "source": [
    "lst = [\n",
    "    [3, 5, 4, 2, 5],\n",
    "    [3, 3, 3, 2, 1],\n",
    "    [3, 2, 6, 7, 8],\n",
    "    [9, 1, 1, 3, 2]\n",
    "    ]\n",
    "\n",
    "a, b = map(int, input().split())\n",
    "\n",
    "def sum_mat(row, col, i1, i2):\n",
    "    s = 0\n",
    "\n",
    "    for i in range(i1):\n",
    "        for j in range(i2):\n",
    "            s += lst[row + i][col + j]\n",
    "    \n",
    "    return s\n",
    "\n",
    "s = sum_mat(0, 0, a, b)\n",
    "idx = [0, 0]\n",
    "\n",
    "for i in range(4 + 1 - a):\n",
    "    for j in range(5 + 1 - b):\n",
    "        if (s < sum_mat(i, j, a, b)):\n",
    "            s = sum_mat(i, j, a, b)\n",
    "            idx = [i, j]\n",
    "\n",
    "print(f\"({idx[0]},{idx[1]})\")"
   ]
  },
  {
   "cell_type": "code",
   "execution_count": null,
   "metadata": {},
   "outputs": [],
   "source": [
    "def BBQ(x):\n",
    "\n",
    "    if (x == 2):\n",
    "        return\n",
    "    \n",
    "    BBQ(x + 1)\n",
    "    BBQ(x + 1)\n",
    "    BBQ(x + 1)\n",
    "\n",
    "BBQ(0)"
   ]
  },
  {
   "cell_type": "code",
   "execution_count": null,
   "metadata": {},
   "outputs": [],
   "source": [
    "def de_identify(crypt):\n",
    "    s = crypt[:6] + '*'*7\n",
    "\n",
    "    return s\n",
    "\n",
    "print(de_identify('970103-1234567'))\n",
    "print(de_identify('8611232345678'))"
   ]
  },
  {
   "cell_type": "code",
   "execution_count": null,
   "metadata": {},
   "outputs": [],
   "source": [
    "grain_lst = [('고구마',3000), ('감자',2000), ('옥수수',4500),('토란',1300)]\n",
    "lst = sorted(grain_lst, key = lambda x:x[1])\n",
    "\n",
    "print(lst[-1][1])"
   ]
  },
  {
   "cell_type": "code",
   "execution_count": null,
   "metadata": {},
   "outputs": [],
   "source": [
    "def count_vowels(st):\n",
    "    vowel = ['a', 'e', 'i', 'o', 'u']\n",
    "    cnt = 0\n",
    "\n",
    "    for i in st:\n",
    "        if (i in vowel):\n",
    "            cnt += 1\n",
    "    \n",
    "    print(cnt)"
   ]
  },
  {
   "cell_type": "code",
   "execution_count": null,
   "metadata": {},
   "outputs": [],
   "source": [
    "count_vowels('apple') #=> 2\n",
    "count_vowels('banana') #=> 3\n"
   ]
  },
  {
   "cell_type": "code",
   "execution_count": null,
   "metadata": {},
   "outputs": [],
   "source": [
    "entry_record = ['이싸피', '박장고', '조실습', '이싸피', '조실습', '오디비', '임온실', '조실습', '조실습', '이싸피', '안도둑', '임온실', '최이썬', '오디비', '안도둑', '염자바', '박장고', '조실습',\n",
    "                '최이썬', '조실습', '염자바', '박장고', '임온실', '임온실', '이싸피', '임온실', '오디비', '조실습', '염자바', '임온실', '박장고', '최이썬', '안도둑', '염자바', '임온실', '박장고', '이싸피', '안도둑',\n",
    "                '임온실', '오디비', '최이썬', '안도둑', '이싸피', '오디비', '안도둑', '이싸피', '박장고', '박장고', '안도둑', '안도둑', '안도둑', '염자바', '최이썬', '오디비', '오디비', '최이썬', '이싸피', '임온실', '안도둑']\n",
    "\n",
    "exit_record = ['최이썬', '조실습', '이싸피', '안도둑', '임온실', '안도둑', '이싸피', '오디비', '염자바', '박장고', '최이썬', '이싸피', '염자바', '염자바', '박장고', '임온실', '이싸피',\n",
    "               '박장고', '안도둑', '염자바', '이싸피', '조실습', '조실습', '임온실', '박장고', '이싸피', '조실습', '박장고', '오디비', '안도둑', '조실습', '임온실', '안도둑', '안도둑', '임온실', '조실습', '최이썬', '안도둑', '임온실',\n",
    "               '염자바', '이싸피', '임온실', '안도둑', '오디비', '안도둑', '오디비', '임온실', '염자바', '임온실', '박장고', '조실습', '이싸피', '최이썬', '최이썬', '오디비', '오디비', '염자바', '오디비', '안도둑', '박장고']\n",
    "\n",
    "from collections import Counter\n",
    "\n",
    "ent = Counter(entry_record)\n",
    "exi = Counter(exit_record)\n",
    "\n",
    "res1 = ent.most_common(3)\n",
    "res2 = ent - exi\n",
    "\n",
    "# 1.\n",
    "print(\"입장이 기록이 많은 Top3\")\n",
    "for key, value in res1:\n",
    "    print(f\"{key} {value}회\")\n",
    "\n",
    "print()\n",
    "\n",
    "# 2.\n",
    "print(\"출입 기록이 수상한 사람\")\n",
    "for key, value in res2.items():\n",
    "    if (value > 0):\n",
    "        print(f\"{key}은 입장 기록이 {value}회 더 많아 수상합니다.\")\n",
    "    else:\n",
    "        print(f\"{key}은 퇴장 기록이 {-value}회 더 많아 수상합니다.\")"
   ]
  },
  {
   "cell_type": "code",
   "execution_count": null,
   "metadata": {},
   "outputs": [],
   "source": [
    "def sum_of_digit2(n):\n",
    "    st = str(n)\n",
    "    s = 0\n",
    "\n",
    "    for i in st:\n",
    "        s += int(i)\n",
    "    \n",
    "    print(s)\n",
    "\n",
    "sum_of_digit2(3904)"
   ]
  },
  {
   "cell_type": "code",
   "execution_count": null,
   "metadata": {},
   "outputs": [],
   "source": [
    "def sum_of_digit(n):\n",
    "    st = list(str(n))\n",
    "    st = list(map(int, st))\n",
    "\n",
    "    print(sum(st))\n",
    "\n",
    "sum_of_digit(3904)"
   ]
  },
  {
   "cell_type": "code",
   "execution_count": null,
   "metadata": {},
   "outputs": [],
   "source": [
    "def same(s, s2):\n",
    "    if (len(s) != len(s2)):\n",
    "        return False\n",
    "    \n",
    "    for i in range(len(s)):\n",
    "        if (s[i] != s2[i]):\n",
    "            return False\n",
    "        \n",
    "    return True\n",
    "\n",
    "\n",
    "def log_in(id, pwd):\n",
    "    idt = \"qlqlaqkq\"\n",
    "    pwdt = \"tkaruqtkf\"\n",
    "\n",
    "    res1 = same(id, idt)\n",
    "    res2 = same(pwd, pwdt)\n",
    "\n",
    "    if (res1 * res2 == 1):\n",
    "        return \"LOGIN\"\n",
    "    else:\n",
    "        return \"INVALID\"\n",
    "    \n",
    "\n",
    "print(log_in(input(), input()))\n",
    "    "
   ]
  },
  {
   "cell_type": "code",
   "execution_count": null,
   "metadata": {},
   "outputs": [],
   "source": [
    "level = int(input())\n",
    "branch = int(input())\n",
    "\n",
    "def ftn1(n):\n",
    "\n",
    "    # print(n)\n",
    "    if (n >= level):\n",
    "        return\n",
    "\n",
    "    for i in range(branch):\n",
    "        ftn1(n + 1)\n",
    "    \n",
    "    \n",
    "\n",
    "ftn1(0)"
   ]
  },
  {
   "cell_type": "code",
   "execution_count": null,
   "metadata": {},
   "outputs": [],
   "source": [
    "level = int(input())\n",
    "\n",
    "def ftn2(n):\n",
    "\n",
    "    print(n, end = '')\n",
    "    if (n >= level):\n",
    "        return\n",
    "    \n",
    "    for i in range(2):\n",
    "        ftn2(n + 1)\n",
    "\n",
    "ftn2(0)"
   ]
  },
  {
   "cell_type": "code",
   "execution_count": null,
   "metadata": {},
   "outputs": [],
   "source": [
    "lst = [input() for i in range(3)]\n",
    "lst2 = [len(i) for i in lst]\n",
    "n = lst2[0]\n",
    "idx = 0\n",
    "\n",
    "for i in range(len(lst2)):\n",
    "    if n < lst2[i]:\n",
    "        n = lst2[i]\n",
    "        idx = i\n",
    "\n",
    "if (idx != 0):\n",
    "    lst[0], lst[idx] = lst[idx], lst[0]\n",
    "\n",
    "for i in lst:\n",
    "    print(i)"
   ]
  },
  {
   "cell_type": "code",
   "execution_count": null,
   "metadata": {},
   "outputs": [],
   "source": [
    "br, le = map(int, input().split())\n",
    "s = 0\n",
    "\n",
    "def ftn3(n):\n",
    "    global s\n",
    "\n",
    "    if (n == le):\n",
    "        return \n",
    "    \n",
    "    for i in range(br):\n",
    "        ftn3(n + 1)\n",
    "        s += 1\n",
    "    \n",
    "    return s + 1\n",
    "\n",
    "print(ftn3(0))"
   ]
  },
  {
   "cell_type": "code",
   "execution_count": null,
   "metadata": {},
   "outputs": [],
   "source": [
    "lg = len(input())\n",
    "\n",
    "def ftn4(n):\n",
    "\n",
    "    print(n, end = ' ')\n",
    "\n",
    "    if (n == 1):\n",
    "        return\n",
    "    \n",
    "    ftn4(n - 1)\n",
    "    print(n, end = ' ')\n",
    "\n",
    "ftn4(lg)\n",
    "    "
   ]
  },
  {
   "cell_type": "code",
   "execution_count": null,
   "metadata": {},
   "outputs": [],
   "source": [
    "# 딕셔너리를 활용한 스위치문\n",
    "def switch(x):\n",
    "    res = {\"up\": [-1, 0], \"down\": [1, 0], \"left\": [0, -1], \"right\": [0, 1]}.get(x)\n",
    "\n",
    "    return res\n",
    "\n",
    "\n",
    "def ftn5():\n",
    "    a = int(input())\n",
    "    row, col = 5, 5\n",
    "\n",
    "    for i in range(a):\n",
    "        b = input()\n",
    "        if (b != \"click\"):\n",
    "            temp = switch(b)\n",
    "            row = row + temp[0]\n",
    "            col = col + temp[1]\n",
    "        else:\n",
    "            print(f\"{row},{col}\")\n",
    "\n",
    "\n",
    "ftn5()"
   ]
  },
  {
   "cell_type": "code",
   "execution_count": null,
   "metadata": {},
   "outputs": [],
   "source": [
    "lst = [list(input()) for i in range(4)]\n",
    "idx1 = None\n",
    "idx2 = None\n",
    "\n",
    "for i in range(len(lst)):\n",
    "    for j in range(len(lst[0])):\n",
    "        if (lst[i][j] == 'A'):\n",
    "            idx1 = [i, j]\n",
    "        \n",
    "        if (lst[i][j] == 'B'):\n",
    "            idx2 = [i, j]\n",
    "        \n",
    "        if (idx1 is not None and idx2 is not None):\n",
    "            break;\n",
    "\n",
    "res = abs(idx1[0] - idx2[0]) + abs(idx1[1] - idx2[1])\n",
    "print(res)"
   ]
  },
  {
   "cell_type": "code",
   "execution_count": null,
   "metadata": {},
   "outputs": [],
   "source": [
    "lst = [\n",
    "    [3, 4, 1, 5],\n",
    "    [3, 4, 1, 3],\n",
    "    [5, 2, 3, 6]\n",
    "    ]\n",
    "\n",
    "s = []\n",
    "\n",
    "for i in range(len(lst[0])):\n",
    "    temp = 0\n",
    "    for j in range(len(lst)):\n",
    "        temp += lst[j][i]\n",
    "    s.append(temp)\n",
    "\n",
    "print(s[int(input())])"
   ]
  },
  {
   "cell_type": "code",
   "execution_count": null,
   "metadata": {},
   "outputs": [],
   "source": [
    "import copy\n",
    "st1 = input()\n",
    "st2 = list(copy.deepcopy(st1))\n",
    "lg = len(st1)\n",
    "lst = list(input().split())\n",
    "\n",
    "for i in lst:\n",
    "    \n",
    "    if i not in st1:\n",
    "        pass\n",
    "    else:\n",
    "        idx = st1.index(i)\n",
    "        left = idx - 1\n",
    "        right = idx + 1\n",
    "\n",
    "        if (left in range(lg)):\n",
    "            st2[left] = '#'\n",
    "        if (right in range(lg)):\n",
    "            st2[right] = '#'\n",
    "\n",
    "\n",
    "print(*st2, sep = '')"
   ]
  },
  {
   "cell_type": "code",
   "execution_count": null,
   "metadata": {},
   "outputs": [],
   "source": [
    "lst = [list(input()) for i in range(4)]\n",
    "residual = {0: [], 1: [], 2: []}\n",
    "\n",
    "for i in range(len(lst)):\n",
    "    for j in range(len(lst[0])):\n",
    "        if (lst[i][j].isalpha()):\n",
    "            residual[j].append(lst[i][j])\n",
    "\n",
    "for i in range(3):\n",
    "    temp = 4 - len(residual[i])\n",
    "    residual[i] = ['_']*temp + residual[i]\n",
    "\n",
    "lst2 = []\n",
    "\n",
    "for i, j, k in zip(*residual.values()):\n",
    "    lst2.append([i, j, k])\n",
    "\n",
    "for i in lst2:\n",
    "    print(*i, sep = '')"
   ]
  },
  {
   "cell_type": "code",
   "execution_count": null,
   "metadata": {},
   "outputs": [],
   "source": [
    "vect = list(map(int, input().split()))\n",
    "bucket = [0]*10\n",
    "\n",
    "for i in vect:\n",
    "    bucket[i] += 1\n",
    "\n",
    "for i in range(len(bucket)):\n",
    "    for j in range(bucket[i]):\n",
    "        print(i, end = ' ')"
   ]
  },
  {
   "cell_type": "code",
   "execution_count": null,
   "metadata": {},
   "outputs": [],
   "source": [
    "lst = [\n",
    "    [1, 5, 3],\n",
    "    [4, 5, 5],\n",
    "    [3, 3, 5],\n",
    "    [4, 6, 2]\n",
    "    ]\n",
    "\n",
    "r = list(map(int, input().split()))\n",
    "\n",
    "for i in range(len(lst)):\n",
    "    for j in range(len(lst[0])):\n",
    "        if (lst[i][j] in r):\n",
    "            lst[i][j] = 0\n",
    "\n",
    "for i in range(len(lst)):\n",
    "    for j in range(len(lst[0])):\n",
    "        if (lst[i][j] == 0):\n",
    "            print('#', end = ' ')\n",
    "        else:\n",
    "            print(lst[i][j], end = ' ')\n",
    "    \n",
    "    print()\n"
   ]
  },
  {
   "cell_type": "code",
   "execution_count": null,
   "metadata": {},
   "outputs": [],
   "source": [
    "lst = [\n",
    "    [0]*7,\n",
    "    [0, 0, 2, 0, 2, 0, 0],\n",
    "    [0, 2, 1, 0, 1, 2, 0],\n",
    "    [0, 0, 2, 1, 2, 0, 0],\n",
    "    [0, 0, 1, 2, 0, 2, 0],\n",
    "    [0, 2, 2, 0, 0, 0, 0],\n",
    "    [0]*7\n",
    "]\n",
    "idx = []\n",
    "\n",
    "for i in range(7):\n",
    "    for j in range(7):\n",
    "        if (lst[i][j] == 1):\n",
    "            idx.append([i, j])\n",
    "\n",
    "row, col = map(int, input().split())\n",
    "lst[row][col] += 2\n",
    "\n",
    "cnt = 0\n",
    "direct = [\n",
    "    [0, 0, -1, 1],\n",
    "    [-1, 1, 0, 0]\n",
    "    ]\n",
    "\n",
    "for i in idx:\n",
    "    s = 0\n",
    "    for j, k in zip(*direct):\n",
    "        drow = i[0] + j\n",
    "        dcol = i[1] + k\n",
    "        s += lst[drow][dcol]\n",
    "    \n",
    "    if (s == 8):\n",
    "        cnt += 1\n",
    "\n",
    "print(cnt)\n"
   ]
  },
  {
   "cell_type": "code",
   "execution_count": null,
   "metadata": {},
   "outputs": [],
   "source": [
    "lst = [\n",
    "    ['_']*3,\n",
    "    ['_']*3,\n",
    "    list(\"ATK\"),\n",
    "    ['_']*3,\n",
    "    ['_']*3\n",
    "    ]\n",
    "\n",
    "# UP, DOWN, LEFT, RIGHT\n",
    "def switch(direct):\n",
    "    res = {\"UP\": [-1, 0], \"DOWN\": [1, 0], \"LEFT\": [0, -1], \"RIGHT\": [0, 1]}.get(direct)\n",
    "    \n",
    "    return res\n",
    "\n",
    "def move(a, direct):\n",
    "    for i in range(5):\n",
    "        for j in range(3):\n",
    "            if (lst[i][j] == a):\n",
    "                idx = [i, j]\n",
    "                break;\n",
    "    \n",
    "    temp = switch(direct)\n",
    "    idx2 = [idx[0] + temp[0], idx[1] + temp[1]]\n",
    "\n",
    "    lst[idx[0]][idx[1]], lst[idx2[0]][idx2[1]] = lst[idx2[0]][idx2[1]], lst[idx[0]][idx[1]]\n",
    "\n",
    "for i in range(7):\n",
    "    a, direct = input().split()\n",
    "    move(a, direct)\n",
    "\n",
    "for i in lst:\n",
    "    print(*i, sep = '')"
   ]
  },
  {
   "cell_type": "code",
   "execution_count": null,
   "metadata": {},
   "outputs": [],
   "source": [
    "st = \"\"\n",
    "def ftn1(n):\n",
    "    global st\n",
    "\n",
    "    if n == 2:\n",
    "        print(st)\n",
    "        return\n",
    "    \n",
    "    for i in range(3):\n",
    "        st += chr(ord('A') + i)\n",
    "        ftn1(n + 1)\n",
    "        st = st[:1]\n",
    "    \n",
    "    st = ''\n",
    "\n",
    "ftn1(0)"
   ]
  },
  {
   "cell_type": "code",
   "execution_count": null,
   "metadata": {},
   "outputs": [],
   "source": [
    "def same(a, b):\n",
    "    if (len(a) != len(b)):\n",
    "        return 0\n",
    "    \n",
    "    for i in range(len(a)):\n",
    "        if (a[i] != b[i]):\n",
    "            return 0\n",
    "    \n",
    "    return 1\n",
    "\n",
    "a = input()\n",
    "b = input()\n",
    "c = input()\n",
    "\n",
    "res = same(a, b) + same(b, c) + same(a, c)\n",
    "\n",
    "if (res == 3):\n",
    "    print(\"WOW\")\n",
    "elif (res == 1):\n",
    "    print(\"GOOD\")\n",
    "else:\n",
    "    print(\"BAD\")"
   ]
  },
  {
   "cell_type": "code",
   "execution_count": null,
   "metadata": {},
   "outputs": [],
   "source": [
    "a = input()\n",
    "print(a)\n",
    "print(a[::-1])"
   ]
  },
  {
   "cell_type": "code",
   "execution_count": null,
   "metadata": {},
   "outputs": [],
   "source": [
    "# 기준은 a, 비교 대상은 b\n",
    "def after(a, b):\n",
    "    lg1 = len(a)\n",
    "    lg2 = len(b)\n",
    "\n",
    "    for i in range(lg2 - lg1):\n",
    "        cnt = 0\n",
    "        for j in range(lg1):\n",
    "            if (a[j] == b[i + j]):\n",
    "                cnt += 1\n",
    "            if (cnt == lg1):\n",
    "                return 'O'\n",
    "    \n",
    "    return 'X'\n",
    "\n",
    "a = input()\n",
    "b = int(input())\n",
    "\n",
    "for i in range(b):\n",
    "    print(after(a, input()))"
   ]
  },
  {
   "cell_type": "code",
   "execution_count": 3,
   "metadata": {},
   "outputs": [
    {
     "name": "stdout",
     "output_type": "stream",
     "text": [
      "A\n",
      "G\n"
     ]
    }
   ],
   "source": [
    "lst = list(input())\n",
    "lg = ord('Z') - ord('A') + 1\n",
    "lst2 = [0]*lg\n",
    "\n",
    "for i in lst:\n",
    "    lst2[ord(i) - ord('A')] += 1\n",
    "\n",
    "ma = max(lst2)\n",
    "mi = min(lst2)\n",
    "\n",
    "idx = lst2.index(ma)\n",
    "idx2 = lst2.index(mi)\n",
    "\n",
    "print(chr(idx + ord('A')))\n",
    "print(chr(idx2 + ord('A')))"
   ]
  },
  {
   "cell_type": "code",
   "execution_count": 7,
   "metadata": {},
   "outputs": [
    {
     "name": "stdout",
     "output_type": "stream",
     "text": [
      "2\n"
     ]
    }
   ],
   "source": [
    "def MCD(st):\n",
    "    a = \"MCD\"\n",
    "    lg = len(st)\n",
    "    cnt = 0\n",
    "\n",
    "    for i in range(lg - 3 + 1):\n",
    "        temp = 0\n",
    "        for j in range(3):\n",
    "            if (a[j] == st[i + j]):\n",
    "                temp += 1\n",
    "            if (temp == 3):\n",
    "                cnt += 1\n",
    "    \n",
    "    return cnt\n",
    "\n",
    "s = 0\n",
    "\n",
    "for i in range(5):\n",
    "    s += MCD(input())\n",
    "\n",
    "print(s)"
   ]
  },
  {
   "cell_type": "code",
   "execution_count": 9,
   "metadata": {},
   "outputs": [
    {
     "name": "stdout",
     "output_type": "stream",
     "text": [
      "80%\n"
     ]
    }
   ],
   "source": [
    "st = input()\n",
    "st2 = ''\n",
    "\n",
    "for i in st:\n",
    "    if (i >= 'A' and i <= 'z'):\n",
    "        st2 += i\n",
    "\n",
    "st3 = st2.lower()\n",
    "\n",
    "cnt1 = 0\n",
    "cnt2 = 0\n",
    "n = 0\n",
    "while (True):\n",
    "    if (st3.find(\"pass\", n) >= 0):\n",
    "        cnt1 += 1\n",
    "        n = st3.find(\"pass\", n) + 4\n",
    "    else:\n",
    "        break;\n",
    "\n",
    "n = 0\n",
    "while (True):\n",
    "    if (st3.find(\"fail\", n) >= 0):\n",
    "        cnt2 += 1\n",
    "        n = st3.find(\"fail\", n) + 4\n",
    "    else:\n",
    "        break;\n",
    "\n",
    "res = int(cnt1 / (cnt1 + cnt2) * 100)\n",
    "\n",
    "print(f\"{res}%\")\n"
   ]
  },
  {
   "cell_type": "code",
   "execution_count": 5,
   "metadata": {},
   "outputs": [
    {
     "name": "stdout",
     "output_type": "stream",
     "text": [
      "BBQMCOBSPAPA"
     ]
    }
   ],
   "source": [
    "lst = [\n",
    "    [\"BHC\", \"BBQ\", \"KFC\"],\n",
    "    [\"MC\", \"7AVE\", \"PAPA\"],\n",
    "    [\"DHC\", \"OBS\", \"MOMS\"]\n",
    "    ]\n",
    "\n",
    "move = [\n",
    "    [-1, 0, 1, 0],\n",
    "    [0, -1, 0, 1]\n",
    "]\n",
    "\n",
    "row, col = map(int, input().split())\n",
    "\n",
    "for i, j in zip(*move):\n",
    "    drow = row + i\n",
    "    dcol = col + j\n",
    "\n",
    "    if (drow in range(3) and dcol in range(3)):\n",
    "        print(lst[drow][dcol], end = '')\n"
   ]
  },
  {
   "cell_type": "code",
   "execution_count": 6,
   "metadata": {},
   "outputs": [
    {
     "name": "stdout",
     "output_type": "stream",
     "text": [
      "defdefdef\n"
     ]
    }
   ],
   "source": [
    "st = input()\n",
    "a, b, c = map(int, input().split())\n",
    "\n",
    "st2 = st[a:b + 1]\n",
    "print(st2*c)"
   ]
  },
  {
   "cell_type": "code",
   "execution_count": 10,
   "metadata": {},
   "outputs": [
    {
     "name": "stdout",
     "output_type": "stream",
     "text": [
      "ILOVE#BBQ#AND#BBQ#!!\n"
     ]
    }
   ],
   "source": [
    "dic1 = {\"KFC\": \"#BBQ#\", \"MC\": \"#BBQ#\", \"BICMAC\": \"#MACBOOK#\",\n",
    "\"SHACK\": \"#SHOCK#\", \"SONY\": \"#NONY#\"}\n",
    "st = input()\n",
    "\n",
    "for i in dic1.keys():\n",
    "    st = st.replace(i, dic1.get(i))\n",
    "\n",
    "print(st)"
   ]
  },
  {
   "cell_type": "code",
   "execution_count": 14,
   "metadata": {},
   "outputs": [
    {
     "name": "stdout",
     "output_type": "stream",
     "text": [
      "[33102]\n",
      "[00700]\n",
      "[30431]\n",
      "[12345]\n"
     ]
    }
   ],
   "source": [
    "r = int(input())\n",
    "\n",
    "for i in range(r):\n",
    "    temp = input()\n",
    "    n = 0\n",
    "    while (True):\n",
    "        a1 = temp.find(\"[\", n)\n",
    "        a2 = temp.find(\"]\", n)\n",
    "\n",
    "        if (a1 == -1 or a2 == -1):\n",
    "            break;\n",
    "        if (a2 - a1 != 6):\n",
    "            break;\n",
    "        if (temp[a1 + 1:a2].isdigit()):\n",
    "            print(temp[a1:a2 + 1])\n",
    "        \n",
    "        n = a2 + 1"
   ]
  },
  {
   "cell_type": "code",
   "execution_count": 17,
   "metadata": {},
   "outputs": [
    {
     "name": "stdout",
     "output_type": "stream",
     "text": [
      "1#HOT\n",
      "2#FRIED\n",
      "3#CHICKEN\n",
      "4#KFC\n",
      "5#IS\n",
      "6#BEST\n"
     ]
    }
   ],
   "source": [
    "a = input()\n",
    "a1 = a.replace('_', ' ')\n",
    "a2 = a1.strip()\n",
    "a3 = list(a2.split())\n",
    "\n",
    "for i, j in enumerate(a3, 1):\n",
    "    print(f\"{i}#{j}\")"
   ]
  },
  {
   "cell_type": "code",
   "execution_count": 19,
   "metadata": {},
   "outputs": [
    {
     "name": "stdout",
     "output_type": "stream",
     "text": [
      "(((((^0^))((^^^)))(^_^)))))\n"
     ]
    }
   ],
   "source": [
    "# 정규표현식\n",
    "st = input()\n",
    "st = st.replace(\"(*\", \"(\")\n",
    "print(st)"
   ]
  },
  {
   "cell_type": "code",
   "execution_count": 31,
   "metadata": {},
   "outputs": [
    {
     "name": "stdout",
     "output_type": "stream",
     "text": [
      "(^_^)(^^)(^_^)\n"
     ]
    }
   ],
   "source": [
    "st = input()\n",
    "st2 = st[0]\n",
    "\n",
    "for i in range(1, len(st)):\n",
    "\n",
    "    if (st2[-1] == '('):\n",
    "        if (st[i] == '('):\n",
    "            continue\n",
    "\n",
    "    if (st2[-1] == ')'):\n",
    "        if (st[i] == ')'):\n",
    "            continue\n",
    "\n",
    "    st2 += st[i]\n",
    "\n",
    "st2 = st2.replace(\"^^^\", '^^')\n",
    "invariable = ['(', '_', ')']\n",
    "\n",
    "\n",
    "for i in range(len(st2) - 2):\n",
    "    if (st2[i] == '^' and st2[i + 2] == '^' and st2[i + 1] not in invariable):\n",
    "        st2 = st2[:i + 1] + '_' + st2[i + 2:]\n",
    "\n",
    "print(st2)\n"
   ]
  },
  {
   "cell_type": "code",
   "execution_count": 7,
   "metadata": {},
   "outputs": [
    {
     "name": "stdout",
     "output_type": "stream",
     "text": [
      "[#bbq] mcdonald\n",
      "[#jyp] sam\n",
      "[#imac] donald\n"
     ]
    }
   ],
   "source": [
    "lst = input().split(sep = '|')\n",
    "\n",
    "for i in lst:\n",
    "    a, b = i.split(sep = '@')\n",
    "    temp = list(b.split(sep = '.'))\n",
    "    print(f\"[#{a}] {temp[0]}\")"
   ]
  },
  {
   "cell_type": "code",
   "execution_count": 2,
   "metadata": {},
   "outputs": [
    {
     "name": "stdout",
     "output_type": "stream",
     "text": [
      "O\n",
      "X\n",
      "X\n",
      "O\n",
      "O\n"
     ]
    }
   ],
   "source": [
    "# find 활용\n",
    "def ino(st):\n",
    "    n = 0\n",
    "    while (True):\n",
    "        idx1 = st.find('<', n)\n",
    "        idx2 = st.find('>', n)\n",
    "\n",
    "        if (idx1 == -1):\n",
    "            break;\n",
    "    \n",
    "        temp = list(st[idx1 + 1:idx2])\n",
    "        dict1 = {}\n",
    "\n",
    "        for i in temp:\n",
    "            try:\n",
    "                dict1[i] += 1\n",
    "            except:\n",
    "                dict1[i] = 1\n",
    "\n",
    "        for i in dict1.values():\n",
    "            if (i >= 2):\n",
    "                return \"X\"\n",
    "    \n",
    "        n = idx2 + 1\n",
    "    \n",
    "    return \"O\"\n",
    "\n",
    "for i in range(int(input())):\n",
    "    print(ino(input()), end = '')"
   ]
  },
  {
   "cell_type": "code",
   "execution_count": 14,
   "metadata": {},
   "outputs": [
    {
     "name": "stdout",
     "output_type": "stream",
     "text": [
      "180\n"
     ]
    }
   ],
   "source": [
    "def par_sum(st):\n",
    "    if (st[0] != '-'):\n",
    "        st1 = '+' + st\n",
    "    else:\n",
    "        st1 = st\n",
    "\n",
    "    lst = []\n",
    "\n",
    "    k = 0\n",
    "    for i in range(1, len(st1)):\n",
    "        if (not st1[i].isdigit()):\n",
    "            lst.append(st1[k:i])\n",
    "            k = i\n",
    "    \n",
    "    lst.append(st1[k:])\n",
    "\n",
    "    s = 0\n",
    "    for i in lst:\n",
    "        if (i[0] == '+'):\n",
    "            s += int(i[1:])\n",
    "        \n",
    "        if (i[0] == '-'):\n",
    "            s -= int(i[1:])\n",
    "    \n",
    "    return s\n",
    "\n",
    "print(par_sum(input()))\n"
   ]
  },
  {
   "cell_type": "code",
   "execution_count": 16,
   "metadata": {},
   "outputs": [
    {
     "name": "stdout",
     "output_type": "stream",
     "text": [
      "180\n"
     ]
    }
   ],
   "source": [
    "a = input()\n",
    "b = eval(a)\n",
    "\n",
    "print(b)"
   ]
  },
  {
   "cell_type": "code",
   "execution_count": 19,
   "metadata": {},
   "outputs": [
    {
     "name": "stdout",
     "output_type": "stream",
     "text": [
      "120\n"
     ]
    }
   ],
   "source": [
    "def par_calc(st):\n",
    "    lst = []\n",
    "\n",
    "    for i in st:\n",
    "        if (i == '['):\n",
    "            lst.append(0)\n",
    "        if (i =='{'):\n",
    "            lst.append(1)\n",
    "    \n",
    "    s = 0\n",
    "    idx = 0\n",
    "\n",
    "    for i in lst:\n",
    "        if (i == 0):\n",
    "            a, b = st.find('[', idx), st.find(']', idx)\n",
    "            s += int(st[a + 1: b])\n",
    "            idx = b + 1\n",
    "        else:\n",
    "            a, b = st.find('{', idx), st.find('}', idx)\n",
    "            s *= int(st[a + 1:b])\n",
    "            idx = b + 1\n",
    "    \n",
    "    return s\n",
    "\n",
    "print(par_calc(input()))"
   ]
  },
  {
   "cell_type": "code",
   "execution_count": 9,
   "metadata": {},
   "outputs": [
    {
     "name": "stdout",
     "output_type": "stream",
     "text": [
      "pass\n"
     ]
    }
   ],
   "source": [
    "hate = [\"bad\", \"no\", \"puck\", \"_\"*6]\n",
    "\n",
    "def robo1(st):\n",
    "    \n",
    "    # 1, 2\n",
    "    for i in hate:\n",
    "        if (i in st):\n",
    "            return \"fail\"\n",
    "    \n",
    "    # 3\n",
    "    for i in range(ord('A'), ord('Z') + 1):\n",
    "        if (st.count(chr(i)) > 5):\n",
    "            return \"fail\"\n",
    "    \n",
    "    for i in range(ord('a'), ord('z') + 1):\n",
    "        if (st.count(chr(i)) > 5):\n",
    "            return \"fail\"\n",
    "\n",
    "    # 4\n",
    "    for i in st:\n",
    "        if (i.isdigit()):\n",
    "            return \"fail\"\n",
    "\n",
    "    return \"pass\"\n",
    "\n",
    "print(robo1(input()))"
   ]
  },
  {
   "cell_type": "code",
   "execution_count": 15,
   "metadata": {},
   "outputs": [
    {
     "name": "stdout",
     "output_type": "stream",
     "text": [
      "90\n"
     ]
    }
   ],
   "source": [
    "# 10 아니면 9\n",
    "a, b, c = input().split(sep = '.')\n",
    "s = 1\n",
    "\n",
    "##\n",
    "ia = a.count('X')\n",
    "\n",
    "if (ia == 0):\n",
    "    pass\n",
    "else:\n",
    "    if (a[0] == 'X'):\n",
    "        s *= 9 * (10**(ia - 1))\n",
    "    else:\n",
    "        s *= (10**(ia))\n",
    "\n",
    "##\n",
    "ib = b.count('X')\n",
    "\n",
    "if (ib == 0):\n",
    "    pass\n",
    "elif (ib == 1):\n",
    "    if (len(b) == 2):\n",
    "        if (b[0] == 'X'):\n",
    "            pass\n",
    "        else:\n",
    "            s *= 3\n",
    "    else:\n",
    "        s *= 10\n",
    "else:\n",
    "    s *= 3\n",
    "\n",
    "##\n",
    "ic = c.count('X')\n",
    "\n",
    "if (ic == 0):\n",
    "    pass\n",
    "elif (ic == 1):\n",
    "    if (len(c) == 2):\n",
    "        if (c[0] == 'X'):\n",
    "            if (c[1] <= '1'):\n",
    "                s *= 3\n",
    "            else:\n",
    "                s *= 2\n",
    "        else:\n",
    "            if (c[0] == '3'):\n",
    "                s *= 2\n",
    "            else:\n",
    "                s *= 9\n",
    "    else:\n",
    "        s *= 9\n",
    "else:\n",
    "    s *= 22\n",
    "\n",
    "print(s)\n"
   ]
  },
  {
   "cell_type": "code",
   "execution_count": 8,
   "metadata": {},
   "outputs": [
    {
     "name": "stdout",
     "output_type": "stream",
     "text": [
      "AB#117\n",
      "CDEF#129\n",
      "F#21\n",
      "G#22\n"
     ]
    }
   ],
   "source": [
    "st = input()\n",
    "lst = []\n",
    "\n",
    "idx = 0\n",
    "n = -1\n",
    "for i in range(len(st) - 1):\n",
    "    if (n == -1 and st[i].isalpha() and st[i + 1].isdigit()):\n",
    "        lst.append(st[idx:i + 1])\n",
    "        idx = i + 1\n",
    "        n *= -1\n",
    "    elif (n == 1 and st[i].isdigit() and st[i + 1].isalpha()):\n",
    "        lst.append(st[idx:i + 1])\n",
    "        idx = i + 1\n",
    "        n *= -1\n",
    "    \n",
    "lst.append(st[idx:])\n",
    "\n",
    "for i in range(0, len(lst), 2):\n",
    "    print(f\"{lst[i]}#{int(lst[i + 1]) + 17}\")\n"
   ]
  },
  {
   "cell_type": "code",
   "execution_count": 9,
   "metadata": {},
   "outputs": [
    {
     "name": "stdout",
     "output_type": "stream",
     "text": [
      "3\n"
     ]
    }
   ],
   "source": [
    "a = input().lower()\n",
    "ht = [\"https://\", \"http://\"]\n",
    "co = [\".com\", \".co.kr\", \".net\", \".org\"]\n",
    "lst =  []\n",
    "cnt = 0\n",
    "\n",
    "n = 0\n",
    "while (True):\n",
    "    temp = a.find(\"https://\", n)\n",
    "    temp1 = a.find(\"http://\", n)\n",
    "\n",
    "    if (temp1 >= 0 and temp > temp1):\n",
    "        temp = temp1\n",
    "    \n",
    "    if (temp == -1):\n",
    "        break\n",
    "\n",
    "    \n",
    "\n",
    "    \n",
    "\n"
   ]
  },
  {
   "cell_type": "code",
   "execution_count": 5,
   "metadata": {},
   "outputs": [
    {
     "name": "stdout",
     "output_type": "stream",
     "text": [
      "2개\n"
     ]
    }
   ],
   "source": [
    "a = input().lower()\n",
    "ht = [\"https://\", \"http://\"]\n",
    "co = [\".com\", \".co.kr\", \".net\", \".org\"]\n",
    "cnt = 0\n",
    "\n",
    "n = 0\n",
    "k1 = None\n",
    "while (True):\n",
    "    temp = -1\n",
    "\n",
    "    for i in ht:\n",
    "        x = a.find(i, n)\n",
    "        if (temp == -1):\n",
    "            temp = x\n",
    "            k1 = len(i)\n",
    "        elif (x >= 0 and temp > x):\n",
    "            temp = x\n",
    "            k1 = len(i)\n",
    "    \n",
    "    if (temp == -1):\n",
    "        break\n",
    "    \n",
    "    temp2 = -1\n",
    "\n",
    "    for i in co:\n",
    "        x = a.find(i, n)\n",
    "        if (temp2 == -1):\n",
    "            temp2 = x\n",
    "        elif (x >= 0 and temp2 > x):\n",
    "            temp2 = x\n",
    "    \n",
    "    if (temp2 == -1):\n",
    "        break\n",
    "    \n",
    "    n = temp2 + 1\n",
    "\n",
    "    if (temp2 - temp - k1 >= 3):\n",
    "        cnt += 1\n",
    "\n",
    "print(f\"{cnt}개\")\n"
   ]
  },
  {
   "cell_type": "code",
   "execution_count": 9,
   "metadata": {},
   "outputs": [],
   "source": [
    "# 다시풀어보기 # https:// 가 연속적으로 있는 것을 배제하지 못했다. 25.5 -> 6\n",
    "# 리스트 하나로 인덱스, ht인지, co인지 파악\n",
    "# 이를 인덱스와 ht 정보로 쪼개서 앞뒤 관계를 파악하면서 문제를 풀자. 이렇게 해야 중복되는 것을 막을 수 있다."
   ]
  },
  {
   "cell_type": "code",
   "execution_count": 1,
   "metadata": {},
   "outputs": [
    {
     "name": "stdout",
     "output_type": "stream",
     "text": [
      "나의 국적은 대한민국\n"
     ]
    }
   ],
   "source": [
    "# 7 - 1\n",
    "class Nationality:\n",
    "    \n",
    "    def __init__(self, ctry):\n",
    "        self.ctry = ctry\n",
    "    \n",
    "    def __str__(self):\n",
    "        return (f\"나의 국적은 {self.ctry}\")\n",
    "\n",
    "korea_nationality = Nationality(\"대한민국\")\n",
    "print(korea_nationality) # 나의 국적은 대한민국\n",
    "    "
   ]
  },
  {
   "cell_type": "code",
   "execution_count": null,
   "metadata": {},
   "outputs": [
    {
     "name": "stdout",
     "output_type": "stream",
     "text": [
      "['__abs__', '__add__', '__and__', '__bool__', '__ceil__', '__class__', '__delattr__', '__dir__', '__divmod__', '__doc__', '__eq__', '__float__', '__floor__', '__floordiv__', '__format__', '__ge__', '__getattribute__', '__getnewargs__', '__gt__', '__hash__', '__index__', '__init__', '__init_subclass__', '__int__', '__invert__', '__le__', '__lshift__', '__lt__', '__mod__', '__mul__', '__ne__', '__neg__', '__new__', '__or__', '__pos__', '__pow__', '__radd__', '__rand__', '__rdivmod__', '__reduce__', '__reduce_ex__', '__repr__', '__rfloordiv__', '__rlshift__', '__rmod__', '__rmul__', '__ror__', '__round__', '__rpow__', '__rrshift__', '__rshift__', '__rsub__', '__rtruediv__', '__rxor__', '__setattr__', '__sizeof__', '__str__', '__sub__', '__subclasshook__', '__truediv__', '__trunc__', '__xor__', 'as_integer_ratio', 'bit_length', 'conjugate', 'denominator', 'from_bytes', 'imag', 'numerator', 'real', 'to_bytes']\n"
     ]
    }
   ],
   "source": [
    "print(dir(int))"
   ]
  },
  {
   "cell_type": "code",
   "execution_count": 5,
   "metadata": {},
   "outputs": [
    {
     "name": "stdout",
     "output_type": "stream",
     "text": [
      "3\n",
      "1\n",
      "12\n",
      "0으로 나눌 수 없습니다.\n"
     ]
    }
   ],
   "source": [
    "# 7 -3 \n",
    "class Calculator:\n",
    "    @staticmethod    \n",
    "    def add(a, b):\n",
    "        return a + b\n",
    "    @staticmethod\n",
    "    def sub(a, b):\n",
    "        return a - b\n",
    "    @staticmethod\n",
    "    def mul(a, b):\n",
    "        return a * b\n",
    "    @staticmethod\n",
    "    def div(a, b):\n",
    "        try:\n",
    "            return a / b\n",
    "        except ZeroDivisionError:\n",
    "            return \"0으로 나눌 수 없습니다.\"\n",
    "    \n",
    "print(Calculator.add(1, 2))\n",
    "print(Calculator.sub(2, 1))\n",
    "print(Calculator.mul(3, 4))\n",
    "print(Calculator.div(4, 0))\n"
   ]
  },
  {
   "cell_type": "code",
   "execution_count": 9,
   "metadata": {},
   "outputs": [
    {
     "name": "stdout",
     "output_type": "stream",
     "text": [
      "91000\n",
      "100350\n"
     ]
    }
   ],
   "source": [
    "# fee(600, 50) #=> 91000\n",
    "# fee(600, 110) #=> 10\n",
    "from math import ceil\n",
    "\n",
    "def fee(a, b):\n",
    "    t1 = (a // 10) * 1200\n",
    "    t2 = (a // 30 * 525) if (a % 30 < 2/3) else (a // 30 * 525 + 525)\n",
    "    t3 = (b // 100 * 100 * 170 + b % 100 * 85) if (b > 100) else (b * 170)\n",
    "\n",
    "    return t1 + t2 + t3\n",
    "\n",
    "print(fee(600, 50))\n",
    "print(fee(600, 110))"
   ]
  },
  {
   "cell_type": "code",
   "execution_count": 43,
   "metadata": {},
   "outputs": [
    {
     "name": "stdout",
     "output_type": "stream",
     "text": [
      "['박영수']\n",
      "['조민지']\n",
      "['김해피', '박영수']\n",
      "['이해킹', '김해피', '조민지']\n",
      "['박영수', '김해피', '정민수', '조민지']\n",
      "[['조민지', '정민수'], ['박영수', '김해피', '이해킹']]\n"
     ]
    }
   ],
   "source": [
    "import random\n",
    "\n",
    "class ClassHelper:\n",
    "    \n",
    "    def __init__(self, lst):\n",
    "        self.lst = lst\n",
    "    \n",
    "    def pick(self, n):\n",
    "        try:\n",
    "            return random.sample(self.lst, k = n)\n",
    "        except:\n",
    "            return \"랜덤으로 추출하려고 하는 인원의 숫자를 옳바르게 해주세요.\"\n",
    "\n",
    "    def match_pair(self):\n",
    "        temp = self.lst\n",
    "        random.shuffle(temp)\n",
    "        ret = []\n",
    "        lg = len(temp)\n",
    "\n",
    "        if (lg < 2):\n",
    "            return \"혼자서 짝은 지을 수는 없습니다.\"\n",
    "\n",
    "        if (lg % 2 == 0):\n",
    "            for i in range(0, lg, 2):\n",
    "                ret.append(temp[i:i + 2])\n",
    "        else:\n",
    "            for i in range(0, lg - 3, 2):\n",
    "                ret.append(temp[i:i + 2])\n",
    "            ret.append(temp[-3:])\n",
    "        \n",
    "        return ret\n",
    "\n",
    "ch = ClassHelper(['김해피', '이해킹', '조민지', '박영수', '정민수'])\n",
    "\n",
    "print(ch.pick(1))\n",
    "print(ch.pick(1))\n",
    "print(ch.pick(2))\n",
    "print(ch.pick(3))\n",
    "print(ch.pick(4))\n",
    "\n",
    "print(ch.match_pair())\n"
   ]
  },
  {
   "cell_type": "code",
   "execution_count": 57,
   "metadata": {},
   "outputs": [
    {
     "name": "stdout",
     "output_type": "stream",
     "text": [
      "힘법사 등장!\n",
      "Hero attack Dragon\n",
      "Dragon's hp: 550\n",
      "Dragon attack Hero\n",
      "Hero's hp: 140\n",
      "Hero attack Dragon\n",
      "Dragon's hp: 100\n",
      "Dragon attack Hero\n",
      "Hero's hp: 130\n",
      "Hero attack Dragon\n",
      "Oh, Dragon is down! I repeat. Dragon is down!\n"
     ]
    }
   ],
   "source": [
    "\n",
    "class Creature:\n",
    "\tdef __init__(self):\n",
    "\t\tself.hp = 0\n",
    "\t\tself.attack = 0\n",
    "\t\tself.deffence = 0\n",
    "\n",
    "\tdef attack_target(self, target):\n",
    "\t\tprint(f\"{self} attack {target}\")\n",
    "\t\tdemage = self.attack - target.deffence\n",
    "\t\ttarget.hp -= demage if self.attack > target.deffence else 1\n",
    "\t\tif target.hp < 0:\n",
    "\t\t\tprint(f\"Oh, {target} is down! I repeat. {target} is down!\")\n",
    "\t\telse:\n",
    "\t\t\tprint(f\"{target}'s hp: {target.hp}\")\n",
    "\n",
    "\n",
    "class Hero(Creature):\n",
    "\tdef __init__(self):\n",
    "\t\tsuper().__init__()\n",
    "\t\tself.hp = 150\n",
    "\t\tself.attack = 10\n",
    "\t\tself.deffence = 10\n",
    "\n",
    "\tdef __str__(self):\n",
    "\t\treturn \"Hero\"\n",
    "\n",
    "\tdef set_magic_power(self):\n",
    "\t\t# set the Hero Status(hp, attack, deffence)\n",
    "\t\tprint(\"힘법사 등장!\")\n",
    "\t\tself.attack = 550\n",
    "\t\tself.deffence = 40\n",
    "\n",
    "\n",
    "class Dragon(Creature):\n",
    "\tdef __init__(self):\n",
    "\t\tsuper().__init__()\n",
    "\t\tself.hp = 1000\n",
    "\t\tself.attack = 50\n",
    "\t\tself.deffence = 100\n",
    "\n",
    "\tdef __str__(self):\n",
    "\t\treturn \"Dragon\"\n",
    "\n",
    "\n",
    "hero = Hero()\n",
    "hero.set_magic_power()\n",
    "dragon = Dragon()\n",
    "while (hero.hp > 0) and (dragon.hp > 0):\n",
    "\thero.attack_target(dragon)\n",
    "\tif dragon.hp > 0:\n",
    "\t\tdragon.attack_target(hero)\n"
   ]
  },
  {
   "cell_type": "code",
   "execution_count": 1,
   "metadata": {},
   "outputs": [],
   "source": [
    "class Doggy:\n",
    "    num_of_dogs = 0\n",
    "    birth_of_dogs = 0\n",
    "    \n",
    "    def __init__(self, a, b):\n",
    "        Doggy.num_of_dogs += 1\n",
    "        Doggy.birth_of_dogs += 1\n",
    "        self.a = a # 개 이름\n",
    "        self.b = b # 견종\n",
    "\n",
    "    def bark(self):\n",
    "        print(\"왈!\")\n",
    "    \n",
    "    def __del__(self):\n",
    "        Doggy.num_of_dogs -= 1\n",
    "    \n",
    "    @classmethod\n",
    "    def get_status(cls):\n",
    "        print(f\"birth:{cls.num_of_dogs} number: {cls.birth_of_dogs}\")\n",
    "\n",
    "a = Doggy(\"바둑이\", \"시고자브로\")"
   ]
  },
  {
   "cell_type": "code",
   "execution_count": 3,
   "metadata": {},
   "outputs": [
    {
     "name": "stdout",
     "output_type": "stream",
     "text": [
      "birth:1 number: 1\n",
      "birth:0 number: 1\n"
     ]
    }
   ],
   "source": [
    "a.get_status()\n",
    "del a\n",
    "Doggy.get_status()"
   ]
  },
  {
   "cell_type": "code",
   "execution_count": null,
   "metadata": {},
   "outputs": [],
   "source": [
    "# 데일리 실습 전부 8차 전부"
   ]
  },
  {
   "cell_type": "code",
   "execution_count": 11,
   "metadata": {},
   "outputs": [
    {
     "name": "stdout",
     "output_type": "stream",
     "text": [
      "100\n"
     ]
    }
   ],
   "source": [
    "from collections import Counter\n",
    "participants =  [3, 7, 100, 21, 13, 6, 5, 7, 5, 6, 3, 13, 21]\n",
    "temp = Counter(participants)\n",
    "temp2 = list(temp.items())\n",
    "temp3 = sorted(temp2, key = lambda x: x[1])\n",
    "\n",
    "print(temp3[0][0])\n",
    "\n"
   ]
  },
  {
   "cell_type": "code",
   "execution_count": 12,
   "metadata": {},
   "outputs": [
    {
     "name": "stdout",
     "output_type": "stream",
     "text": [
      "Mark 20\n",
      "Rohan 31\n",
      "True\n",
      "True\n"
     ]
    }
   ],
   "source": [
    "class Person:\n",
    "    def __init__(self, name, age):\n",
    "        self.name = name\n",
    "        self.age = age\n",
    "    \n",
    "    @classmethod\n",
    "    def get_age(cls, name, year):\n",
    "        age1 = 2023 - year # 임의적으로 나이를 이렇게 정하겠습니다.\n",
    "        return cls(name, age1)\n",
    "    \n",
    "    def check_age(self):\n",
    "        if self.age > 19:\n",
    "            return True\n",
    "        else:\n",
    "            return False\n",
    "\n",
    "person1 = Person('Mark', 20)\n",
    "person2 = Person.get_age('Rohan', 1992)\n",
    "\n",
    "print(person1.name, person1.age) \n",
    "print(person2.name, person2.age)\n",
    "print(person1.check_age())\n",
    "print(person2.check_age())"
   ]
  },
  {
   "cell_type": "code",
   "execution_count": 6,
   "metadata": {},
   "outputs": [
    {
     "name": "stdout",
     "output_type": "stream",
     "text": [
      "name : V1\n",
      "fare: 1000\n",
      "현재 탑승자: 15\n",
      "현재 탑승자: 5\n",
      "수익: 15000\n"
     ]
    }
   ],
   "source": [
    "class PublicTransport:\n",
    "\n",
    "    def __init__(self, name, fare):\n",
    "        self.name = name\n",
    "        self.fare = fare\n",
    "        self.psg_all = 0\n",
    "        self.psg_now = 0\n",
    "\n",
    "    def get_in(self, n):\n",
    "        self.psg_all += n\n",
    "        self.psg_now += n\n",
    "\n",
    "    def get_off(self, n):\n",
    "        self.psg_now -= n\n",
    "    \n",
    "    def profit(self):\n",
    "        res = self.fare * self.psg_all\n",
    "        return res\n",
    "\n",
    "\n",
    "# A\n",
    "V1 = PublicTransport(\"V1\", 1000)\n",
    "print(f\"name : {V1.name}\")\n",
    "print(f\"fare: {V1.fare}\")\n",
    "\n",
    "\n",
    "# B & C\n",
    "V1.get_in(15)\n",
    "print(f\"현재 탑승자: {V1.psg_now}\")\n",
    "\n",
    "V1.get_off(10)\n",
    "print(f\"현재 탑승자: {V1.psg_now}\")\n",
    "\n",
    "# D\n",
    "print(f\"수익: {V1.profit()}\")\n"
   ]
  },
  {
   "cell_type": "code",
   "execution_count": 10,
   "metadata": {},
   "outputs": [
    {
     "name": "stdout",
     "output_type": "stream",
     "text": [
      "25\n",
      "35\n",
      "더이상 탑승할 수 없습니다.\n"
     ]
    }
   ],
   "source": [
    "class PublicTransport:\n",
    "\n",
    "    def __init__(self, name, fare):\n",
    "        self.name = name\n",
    "        self.fare = fare\n",
    "        self.psg_all = 0\n",
    "        self.psg_now = 0\n",
    "\n",
    "    def get_in(self, n):\n",
    "        self.psg_all += n\n",
    "        self.psg_now += n\n",
    "\n",
    "    def get_off(self, n):\n",
    "        self.psg_now -= n\n",
    "    \n",
    "    def profit(self):\n",
    "        res = self.fare * self.psg_all\n",
    "        return res\n",
    "\n",
    "class Bus(PublicTransport):\n",
    "    def __init__(self, name, fare, max_psg):\n",
    "        super().__init__(name, fare)\n",
    "        self.max_psg = max_psg\n",
    "    \n",
    "    def get_in(self, n):\n",
    "        if (self.max_psg < n + self.psg_now):\n",
    "            print(\"더이상 탑승할 수 없습니다.\")\n",
    "        else:\n",
    "            super().get_in(n)\n",
    "            return\n",
    "    \n",
    "\n",
    "# 40명이 정원인 버스\n",
    "bus1 = Bus(\"bus1\", 1400, 40)\n",
    "bus1.get_in(25)\n",
    "print(bus1.psg_now)\n",
    "bus1.get_in(10)\n",
    "print(bus1.psg_now)\n",
    "bus1.get_in(10)"
   ]
  },
  {
   "cell_type": "code",
   "execution_count": null,
   "metadata": {},
   "outputs": [],
   "source": [
    "st = input()\n",
    "bucket = [0]*200\n",
    "\n",
    "for i in st:\n",
    "    bucket[ord(i)] = 1\n",
    "\n",
    "for i in range(200):\n",
    "    if bucket[i] == 1:\n",
    "        print(chr(i), end = '')"
   ]
  },
  {
   "cell_type": "code",
   "execution_count": null,
   "metadata": {},
   "outputs": [],
   "source": [
    "type = int(input())\n",
    "n = int(input())\n",
    "bucket = [0]*10\n",
    "lst = list(map(int, input().split()))\n",
    "\n",
    "for i in lst:\n",
    "    bucket[i] += 1\n",
    "\n",
    "if type == 1:\n",
    "    for i in range(1, 10):\n",
    "        print(f\"{i}:{bucket[i]}개\")\n",
    "\n",
    "else:\n",
    "    for i in range(len(bucket)):\n",
    "        if bucket[i] >= 2:\n",
    "            print(\"중복발견\")\n",
    "            break\n",
    "\n",
    "        if i == len(bucket) - 1:\n",
    "            print(\"중복없음\")"
   ]
  },
  {
   "cell_type": "code",
   "execution_count": null,
   "metadata": {},
   "outputs": [],
   "source": [
    "# 시간 초과\n",
    "\n",
    "r, c = map(int, input().split())\n",
    "bucket = [0] * (10**7 + 1)\n",
    "lst = [list(map(int, input().split())) for i in range(r)]\n",
    "\n",
    "for i in lst:\n",
    "    for j in i:\n",
    "        bucket[j] += 1\n",
    "\n",
    "ma = 0\n",
    "idx = 0\n",
    "\n",
    "for i in lst:\n",
    "    if bucket[i] > ma:\n",
    "        ma = bucket[i]\n",
    "        idx = i\n",
    "\n",
    "print(idx)"
   ]
  },
  {
   "cell_type": "code",
   "execution_count": null,
   "metadata": {},
   "outputs": [],
   "source": [
    "def select(lst):\n",
    "    temp = lst[:]\n",
    "    lg = len(temp)\n",
    "\n",
    "    for i in range(lg - 1):\n",
    "        for j in range(i + 1, lg):\n",
    "            if temp[i] > temp[j]:\n",
    "                temp[i], temp[j] = temp[j], temp[i]\n",
    "\n",
    "    return temp\n",
    "\n",
    "\n",
    "r, c = map(int, input().split())\n",
    "member = []\n",
    "bucket = [0] * (10 ** 5 + 1)\n",
    "lst = [list(map(int, input().split())) for i in range(r)]\n",
    "\n",
    "for i in lst:\n",
    "    for j in i:\n",
    "        if j not in member:\n",
    "            member.append(j)\n",
    "\n",
    "member = select(member)\n",
    "\n",
    "for i in lst:\n",
    "    for j in i:\n",
    "        bucket[j] += 1\n",
    "\n",
    "ma = 0\n",
    "idx = 0\n",
    "\n",
    "for i in member:\n",
    "    if bucket[i] > ma:\n",
    "        ma = bucket[i]\n",
    "        idx = i\n",
    "\n",
    "print(idx)"
   ]
  },
  {
   "cell_type": "code",
   "execution_count": 2,
   "metadata": {},
   "outputs": [
    {
     "name": "stdout",
     "output_type": "stream",
     "text": [
      "BB\n",
      "BG\n",
      "BT\n",
      "BK\n",
      "GB\n",
      "GG\n",
      "GT\n",
      "GK\n",
      "TB\n",
      "TG\n",
      "TT\n",
      "TK\n",
      "KB\n",
      "KG\n",
      "KT\n",
      "KK\n"
     ]
    }
   ],
   "source": [
    "def ftn(n, st):\n",
    "    global k\n",
    "\n",
    "    if n == k:\n",
    "        print(st)\n",
    "        return\n",
    "\n",
    "    for i in list(\"BGTK\"):\n",
    "        st1 = st + i\n",
    "        ftn(n + 1, st1)\n",
    "\n",
    "k = int(input())\n",
    "ftn(0, '')"
   ]
  },
  {
   "cell_type": "code",
   "execution_count": null,
   "metadata": {},
   "outputs": [
    {
     "name": "stdout",
     "output_type": "stream",
     "text": [
      "B6\n"
     ]
    }
   ],
   "source": [
    "di = {\"up\": 1, \"down\": -1}\n",
    "\n",
    "s = 0\n",
    "for i in range(5):\n",
    "    st = input()\n",
    "    s += di[st]\n",
    "\n",
    "if s >= 0:\n",
    "    res = s + 1\n",
    "else:\n",
    "    res = 'B' + str(-s)\n",
    "\n",
    "print(res)"
   ]
  },
  {
   "cell_type": "code",
   "execution_count": null,
   "metadata": {},
   "outputs": [
    {
     "name": "stdout",
     "output_type": "stream",
     "text": [
      "1111\n",
      "1112\n",
      "1121\n",
      "1122\n",
      "1211\n",
      "1212\n",
      "1221\n",
      "1222\n",
      "2111\n",
      "2112\n",
      "2121\n",
      "2122\n",
      "2211\n",
      "2212\n",
      "2221\n",
      "2222\n"
     ]
    }
   ],
   "source": [
    "def ftn(n, k, st):\n",
    "    \n",
    "    if n == 4:\n",
    "        print(st)\n",
    "        return\n",
    "\n",
    "    for i in range(k):\n",
    "        st1 = st + str(i + 1)\n",
    "        ftn(n + 1, k, st1)\n",
    "\n",
    "k = int(input())\n",
    "ftn(0, k, '')"
   ]
  },
  {
   "cell_type": "code",
   "execution_count": null,
   "metadata": {},
   "outputs": [
    {
     "name": "stdout",
     "output_type": "stream",
     "text": [
      "긴문장:0\n",
      "짧은문장:0\n"
     ]
    }
   ],
   "source": [
    "lst = []\n",
    "for i in range(4):\n",
    "    lst.append(input())\n",
    "\n",
    "mi = len(lst[0])\n",
    "mi_idx = 0\n",
    "ma = 0\n",
    "ma_idx = 0\n",
    "\n",
    "for i in range(4):\n",
    "    if len(lst[i]) < mi:\n",
    "        mi = len(lst[i])\n",
    "        mi_idx = i\n",
    "\n",
    "    if len(lst[i]) > ma:\n",
    "        ma = len(lst[i])\n",
    "        ma_idx = i\n",
    "\n",
    "print(f\"긴문장:{ma_idx}\")\n",
    "print(f\"짧은문장:{mi_idx}\")"
   ]
  },
  {
   "cell_type": "code",
   "execution_count": 6,
   "metadata": {},
   "outputs": [
    {
     "name": "stdout",
     "output_type": "stream",
     "text": [
      "64번째\n"
     ]
    }
   ],
   "source": [
    "di = {'A': 1, 'B': 2, 'C': 3, 'D': 4}\n",
    "st = input()\n",
    "\n",
    "res = (di[st[0]] - 1) * 16 + (di[st[1]] - 1) * 4 + di[st[2]]\n",
    "print(f\"{res}번째\")"
   ]
  },
  {
   "cell_type": "code",
   "execution_count": 11,
   "metadata": {},
   "outputs": [
    {
     "name": "stdout",
     "output_type": "stream",
     "text": [
      "MAX=6\n",
      "MIN=2\n"
     ]
    }
   ],
   "source": [
    "def find_max(lst):\n",
    "    ma = lst[0]\n",
    "\n",
    "    for i in lst:\n",
    "        if ma < i:\n",
    "            ma = i\n",
    "\n",
    "    return ma\n",
    "\n",
    "def find_min(lst):\n",
    "    mi = lst[0]\n",
    "\n",
    "    for i in lst:\n",
    "        if mi > i:\n",
    "            mi = i\n",
    "\n",
    "    return mi\n",
    "\n",
    "li1 = [\n",
    "    [2, 4],\n",
    "    [1, 5]\n",
    "    ]\n",
    "\n",
    "li2 = [\n",
    "    [2, 3],\n",
    "    [3, 6]\n",
    "]\n",
    "\n",
    "li3 = [\n",
    "    [7, 3],\n",
    "    [1, 5]\n",
    "]\n",
    "\n",
    "lst = [li1, li2, li3]\n",
    "a = int(input())\n",
    "res = lst[a]\n",
    "res = sum(res, [])\n",
    "\n",
    "print(f\"MAX={find_max(res)}\")\n",
    "print(f\"MIN={find_min(res)}\")"
   ]
  },
  {
   "cell_type": "code",
   "execution_count": 12,
   "metadata": {},
   "outputs": [
    {
     "name": "stdout",
     "output_type": "stream",
     "text": [
      "암호틀림\n"
     ]
    }
   ],
   "source": [
    "lst = [\"Jason\", \"Dr.tom\", \"EXEXI\", \"GK12P\", \"POW\"]\n",
    "\n",
    "if input() in lst:\n",
    "    print(\"암호해제\")\n",
    "else:\n",
    "    print(\"암호틀림\")\n",
    "    "
   ]
  },
  {
   "cell_type": "code",
   "execution_count": 14,
   "metadata": {},
   "outputs": [
    {
     "name": "stdout",
     "output_type": "stream",
     "text": [
      "미발견\n"
     ]
    }
   ],
   "source": [
    "lst = [\n",
    "    [\n",
    "        list(\"ATB\"),\n",
    "        list(\"CCB\")\n",
    "    ],\n",
    "    [\n",
    "        list(\"AAA\"),\n",
    "        list(\"BBC\")  \n",
    "    ]\n",
    "]\n",
    "\n",
    "a = input()\n",
    "\n",
    "res = \"미발견\"\n",
    "for i in lst:\n",
    "    for j in i:\n",
    "        for k in j:\n",
    "            if a == k:\n",
    "                res = \"발견\"\n",
    "\n",
    "print(res)"
   ]
  },
  {
   "cell_type": "code",
   "execution_count": 16,
   "metadata": {},
   "outputs": [
    {
     "name": "stdout",
     "output_type": "stream",
     "text": [
      "xx\n",
      "xo\n",
      "ox\n",
      "oo\n"
     ]
    }
   ],
   "source": [
    "def ftn(n, st):\n",
    "    global k\n",
    "    if n == k:\n",
    "        print(st)\n",
    "        return\n",
    "    \n",
    "    for i in ['x', 'o']:\n",
    "        st1 = st + i\n",
    "        ftn(n + 1, st1)\n",
    "\n",
    "k = int(input())\n",
    "ftn(0, '')"
   ]
  },
  {
   "cell_type": "code",
   "execution_count": 18,
   "metadata": {},
   "outputs": [
    {
     "name": "stdout",
     "output_type": "stream",
     "text": [
      "AAA\n",
      "AAA\n",
      "AAA\n",
      "\n",
      "BBB\n",
      "BBB\n",
      "BBB\n",
      "\n",
      "CCC\n",
      "CCC\n",
      "CCC\n",
      "\n"
     ]
    }
   ],
   "source": [
    "a = input()\n",
    "for i in range(3):\n",
    "    temp = chr(ord(a) + i)\n",
    "    temp2 = [[temp]*3 for i in range(3)]\n",
    "\n",
    "    for j in temp2:\n",
    "        print(*j, sep = '')\n",
    "    print()"
   ]
  },
  {
   "cell_type": "code",
   "execution_count": 20,
   "metadata": {},
   "outputs": [
    {
     "name": "stdout",
     "output_type": "stream",
     "text": [
      "1 1 1\n",
      "3 3 3\n",
      "\n",
      "1 1 1\n",
      "3 3 3\n",
      "\n",
      "1 1 1\n",
      "3 3 3\n",
      "\n"
     ]
    }
   ],
   "source": [
    "a, b = map(int, input().split())\n",
    "out = [[a]*3, [b]*3]\n",
    "\n",
    "for i in range(3):\n",
    "    for j in out:\n",
    "        print(*j)\n",
    "    print()"
   ]
  },
  {
   "cell_type": "code",
   "execution_count": 21,
   "metadata": {},
   "outputs": [
    {
     "name": "stdout",
     "output_type": "stream",
     "text": [
      "G\n"
     ]
    }
   ],
   "source": [
    "di = {'A': 0, 'B': 1, 'C': 2}\n",
    "a, b = input().split()\n",
    "b = int(b) - 1\n",
    "\n",
    "m = [\n",
    "    [3, 5, 4, 2, 2, 3],\n",
    "    [1, 3, 3, 3, 4, 2],\n",
    "    [5, 4, 4, 2, 3, 5]\n",
    "    ]\n",
    "\n",
    "price = list(\"TPGKC\")\n",
    "idx = m[di[a]][b]\n",
    "\n",
    "print(price[idx - 1])\n"
   ]
  },
  {
   "cell_type": "code",
   "execution_count": 23,
   "metadata": {},
   "outputs": [
    {
     "name": "stdout",
     "output_type": "stream",
     "text": [
      "['abc', 'zzzzz', 'kfcmclo\\\\', 'mincoding']\n"
     ]
    }
   ],
   "source": [
    "lst = []\n",
    "\n",
    "for i in range(4):\n",
    "    a = input()\n",
    "    lst.append(a)\n",
    "\n",
    "lst2 = list(sorted(lst, key = lambda x: len(x)))\n",
    "\n",
    "for i in lst2:\n",
    "    print(i)"
   ]
  },
  {
   "cell_type": "code",
   "execution_count": 25,
   "metadata": {},
   "outputs": [
    {
     "name": "stdout",
     "output_type": "stream",
     "text": [
      " # \n",
      "# #\n",
      "###\n",
      "# #\n",
      "# #\n"
     ]
    }
   ],
   "source": [
    "a = [\n",
    "    list(\" # \"),\n",
    "    list(\"# #\"),\n",
    "    list(\"###\"),\n",
    "    list(\"# #\"),\n",
    "    list(\"# #\")\n",
    "]\n",
    "\n",
    "b = [\n",
    "    list(\"###\"),\n",
    "    list(\"# #\"),\n",
    "    list(\"###\"),\n",
    "    list(\"# #\"),\n",
    "    list(\"###\")\n",
    "]\n",
    "\n",
    "c = [\n",
    "    list(\"###\"),\n",
    "    list(\"#  \"),\n",
    "    list(\"#  \"),\n",
    "    list(\"#  \"),\n",
    "    list(\"# #\")\n",
    "]\n",
    "\n",
    "d = [\n",
    "    list(\"## \"),\n",
    "    list(\"# #\"),\n",
    "    list(\"# #\"),\n",
    "    list(\"# #\"),\n",
    "    list(\"## \")\n",
    "]\n",
    "\n",
    "res = [a, b, c, d]\n",
    "k = int(input())\n",
    "out = res[k]\n",
    "\n",
    "for i in out:\n",
    "    print(*i, sep = '')"
   ]
  },
  {
   "cell_type": "code",
   "execution_count": null,
   "metadata": {},
   "outputs": [],
   "source": [
    "def ftn(n, st):\n",
    "    global k\n",
    "    if n == 3:\n",
    "        print(st)\n",
    "        return\n",
    "\n",
    "    for i in k:\n",
    "        if i not in st:\n",
    "            st1 = st + i\n",
    "            ftn(n + 1, st1)\n",
    "        else:\n",
    "            pass\n",
    "\n",
    "k = list(input())\n",
    "ftn(0, '')"
   ]
  },
  {
   "cell_type": "code",
   "execution_count": null,
   "metadata": {},
   "outputs": [],
   "source": [
    "def ftn(n, st):\n",
    "    global k, s\n",
    "\n",
    "    if n == 4:\n",
    "        if 'TB' in st or 'BT' in st:\n",
    "            return\n",
    "        \n",
    "        s += 1\n",
    "        return\n",
    "\n",
    "    for i in k:\n",
    "        st1 = st + i\n",
    "        ftn(n + 1, st1)\n",
    "\n",
    "s = 0\n",
    "k = input()\n",
    "ftn(0, '')\n",
    "print(s)"
   ]
  },
  {
   "cell_type": "code",
   "execution_count": null,
   "metadata": {},
   "outputs": [],
   "source": [
    "def ftn(n, st):\n",
    "    global k, s\n",
    "\n",
    "    if n == k:\n",
    "        if 'AAA' in st or 'BBB' in st or 'CCC' in st:\n",
    "            return\n",
    "        \n",
    "        s += 1\n",
    "        return\n",
    "\n",
    "    for i in ['A', 'B', 'C']:\n",
    "        st1 = st + i\n",
    "        ftn(n + 1, st1)\n",
    "\n",
    "s = 0\n",
    "k = int(input())\n",
    "ftn(0, '')\n",
    "print(s)"
   ]
  },
  {
   "cell_type": "code",
   "execution_count": null,
   "metadata": {},
   "outputs": [],
   "source": [
    "def ftn(n, st):\n",
    "    global k, s\n",
    "\n",
    "    if n == k:\n",
    "        if 'S' in st:\n",
    "            s += 1\n",
    "            return\n",
    "        \n",
    "        return\n",
    "\n",
    "    for i in \"BTSKR\":\n",
    "        if i not in st:\n",
    "            st1 = st + i\n",
    "            ftn(n + 1, st1)\n",
    "        else:\n",
    "            pass\n",
    "\n",
    "s = 0\n",
    "k = int(input())\n",
    "ftn(0, '')\n",
    "print(s)"
   ]
  },
  {
   "cell_type": "code",
   "execution_count": null,
   "metadata": {},
   "outputs": [],
   "source": [
    "lst = \"EWABC\"\n",
    "a = input()\n",
    "lst = lst.replace(a, '')\n",
    "\n",
    "def ftn(n, st):\n",
    "    global lst\n",
    "\n",
    "    if n == 4:\n",
    "        print(st)\n",
    "        return\n",
    "\n",
    "    for i in lst:\n",
    "        if i not in st:\n",
    "            st1 = st + i\n",
    "            ftn(n + 1, st1)\n",
    "        else:\n",
    "            pass\n",
    "\n",
    "ftn(0, '')"
   ]
  },
  {
   "cell_type": "code",
   "execution_count": 30,
   "metadata": {},
   "outputs": [
    {
     "name": "stdout",
     "output_type": "stream",
     "text": [
      "497\n"
     ]
    }
   ],
   "source": [
    "def ftn(n, st):\n",
    "    global s\n",
    "    \n",
    "    if n == 4:\n",
    "        s += 1\n",
    "        return\n",
    "\n",
    "    for i in lst:\n",
    "        if st and abs(int(st[-1]) - int(i)) <= 3:\n",
    "            st1 = st + i\n",
    "            ftn(n + 1, st1)\n",
    "        elif len(st) == 0:\n",
    "            st1 = st + i\n",
    "            ftn(n + 1, st1)\n",
    "        else:\n",
    "            pass # return을 안하는 이유, 무조건 경우가 존재하기 때문에 pass로 다른 탐색을 한다.\n",
    "\n",
    "lst = list(input())\n",
    "s = 0\n",
    "ftn(0, '')\n",
    "print(s)"
   ]
  },
  {
   "cell_type": "code",
   "execution_count": 32,
   "metadata": {},
   "outputs": [
    {
     "name": "stdout",
     "output_type": "stream",
     "text": [
      "9 7 3 5 1\n"
     ]
    }
   ],
   "source": [
    "def ftn(direction):\n",
    "    global lst\n",
    "    if direction == 'R':\n",
    "        a = lst.pop()\n",
    "        lst = [a] + lst\n",
    "    \n",
    "    if direction == 'L':\n",
    "        a = lst.pop(0)\n",
    "        lst.append(a)\n",
    "\n",
    "lst = [3, 5, 1, 9 , 7]\n",
    "\n",
    "for i in range(4):\n",
    "    go = input()\n",
    "    ftn(go)\n",
    "\n",
    "print(*lst)        "
   ]
  },
  {
   "cell_type": "code",
   "execution_count": 1,
   "metadata": {},
   "outputs": [
    {
     "name": "stdout",
     "output_type": "stream",
     "text": [
      "위험\n"
     ]
    }
   ],
   "source": [
    "lst1 = [0]*3\n",
    "\n",
    "for i in range(3):\n",
    "    a, b = map(int, input().split())\n",
    "    lst1[a] = 1\n",
    "\n",
    "res = 1\n",
    "for i in lst1:\n",
    "    if i == 0:\n",
    "        res = 0\n",
    "        break\n",
    "\n",
    "if res == 1:\n",
    "    print(\"안전\")\n",
    "else:\n",
    "    print(\"위험\")"
   ]
  },
  {
   "cell_type": "code",
   "execution_count": 2,
   "metadata": {},
   "outputs": [
    {
     "name": "stdout",
     "output_type": "stream",
     "text": [
      "[[1, 2, 1, 0], [2, 3, 4, 0], [3, 2, 1, 0]]\n"
     ]
    }
   ],
   "source": [
    "lst = [[0]*4 for i in range(4)]\n",
    "\n",
    "for i in range(3):\n",
    "    a = list(map(int, input().split()))\n",
    "    lst[i][:3] = a\n",
    "\n",
    "for i in range(3):\n",
    "    lst[i][3] = sum(lst[i])\n",
    "    lst[3][i] = lst[0][i] + lst[1][i] + lst[2][i]\n",
    "    lst[3][3] += lst[i][i]\n",
    "\n",
    "for i in lst:\n",
    "    print(*i)"
   ]
  },
  {
   "cell_type": "code",
   "execution_count": null,
   "metadata": {},
   "outputs": [],
   "source": [
    "lst = [\n",
    "    [3, 5, 4, 1],\n",
    "    [1, 1, 2, 3],\n",
    "    [7, 6, 1, 2]\n",
    "]\n",
    "\n",
    "a, b, c, d = map(int, input().split())\n",
    "\n",
    "for i in lst:\n",
    "    for j in i:\n",
    "        if lst[i][j] == a:\n",
    "            lst[i][j] = b\n",
    "        if lst[i][j] == c:\n",
    "            lst[i][j] = d\n",
    "\n",
    "for i in lst:\n",
    "    print(*i)"
   ]
  },
  {
   "cell_type": "code",
   "execution_count": null,
   "metadata": {},
   "outputs": [],
   "source": [
    "lst = [\n",
    "    [3, 5, 4, 1],\n",
    "    [1, 1, 2, 3],\n",
    "    [6, 7, 1, 2]\n",
    "]\n",
    "\n",
    "\n",
    "a, b, c, d = map(int, input().split())\n",
    "\n",
    "for i in range(3):\n",
    "    for j in range(4):\n",
    "        if lst[i][j] == a:\n",
    "            lst[i][j] = b\n",
    "        elif lst[i][j] == b:\n",
    "            lst[i][j] = c\n",
    "        elif lst[i][j] == c:\n",
    "            lst[i][j] = d\n",
    "        elif lst[i][j] == d:\n",
    "            lst[i][j] = a\n",
    "\n",
    "for i in lst:\n",
    "    print(*i)"
   ]
  },
  {
   "cell_type": "code",
   "execution_count": 6,
   "metadata": {},
   "outputs": [
    {
     "name": "stdout",
     "output_type": "stream",
     "text": [
      "3 1 3 4 6 9 7 6\n"
     ]
    }
   ],
   "source": [
    "lst = list(map(int, input().split()))\n",
    "pivot = lst[0]\n",
    "\n",
    "left = 1\n",
    "right = 7\n",
    "\n",
    "while left < right:\n",
    "    if lst[right] < pivot < lst[left]:\n",
    "        lst[left], lst[right] = lst[right], lst[left]\n",
    "        left += 1\n",
    "        right -= 1\n",
    "    if lst[left] < pivot:\n",
    "        left += 1\n",
    "    if lst[right] > pivot:\n",
    "        right -= 1\n",
    "\n",
    "lst[0], lst[right] = lst[right], lst[0]\n",
    "print(*lst)"
   ]
  },
  {
   "cell_type": "code",
   "execution_count": null,
   "metadata": {},
   "outputs": [],
   "source": [
    "b = [\n",
    "    list(\"ABCD\"),\n",
    "    list(\"BBAB\"),\n",
    "    list(\"CBAC\"),\n",
    "    list(\"BAAA\")\n",
    "]\n",
    "\n",
    "a = [list(input()) for i in range(4)]\n",
    "\n",
    "trs = {'A': 0, 'B': 1, 'C': 2, 'D': 3}\n",
    "trs2 = {value:key for key, value in trs.items()}\n",
    "bucket = [0]*4\n",
    "\n",
    "for i in range(4):\n",
    "    for j in range(4):\n",
    "        if a[i][j] == b[i][j]:\n",
    "            temp = trs[a[i][j]]\n",
    "            bucket[temp] += 1\n",
    "\n",
    "ma = bucket[0]\n",
    "idx = 0\n",
    "for i in range(4):\n",
    "    if bucket[i] > ma:\n",
    "        ma = bucket[i]\n",
    "        idx = i\n",
    "\n",
    "print(trs2[idx])"
   ]
  },
  {
   "cell_type": "code",
   "execution_count": 1,
   "metadata": {},
   "outputs": [
    {
     "name": "stdout",
     "output_type": "stream",
     "text": [
      "Bob\n"
     ]
    }
   ],
   "source": [
    "graph = [\n",
    "    [0, 0, 0, 0, 1],\n",
    "    [1, 0, 0, 0, 0],\n",
    "    [0, 1, 0, 0, 0],\n",
    "    [0, 1, 0, 0, 0],\n",
    "    [0, 0, 0, 0, 0]\n",
    "]\n",
    "\n",
    "bucket = [0] * 5\n",
    "\n",
    "for i in range(5):\n",
    "    for j in range(5):\n",
    "        bucket[j] += graph[i][j]\n",
    "\n",
    "ma = 0\n",
    "idx = 0\n",
    "\n",
    "for i in range(5):\n",
    "    if ma < bucket[i]:\n",
    "        ma = bucket[i]\n",
    "        idx = i\n",
    "\n",
    "dict1 = {0: \"Amy\", 1: \"Bob\", 2: \"Chloe\", 3: \"Diane\", 4: \"Edger\"}\n",
    "print(dict1.get(idx))"
   ]
  },
  {
   "cell_type": "code",
   "execution_count": null,
   "metadata": {},
   "outputs": [],
   "source": [
    "n = int(input())\n",
    "adj_mat = [list(map(int, input().split())) for _ in range(n)]\n",
    "adj_lst = [[] for _ in range(n)]\n",
    "# visit_lst = [0]*n\n",
    "\n",
    "for i in range(n):\n",
    "    for j in range(n):\n",
    "        if adj_mat[i][j] == 1:\n",
    "            adj_lst[i].append(j)\n",
    "\n",
    "for i in range(7):\n",
    "    if 0 in adj_lst[i]:\n",
    "        break\n",
    "\n",
    "print(f\"boss:{i}\")\n",
    "print(f\"under:\", end = '')\n",
    "print(*adj_lst[0])"
   ]
  },
  {
   "cell_type": "code",
   "execution_count": null,
   "metadata": {},
   "outputs": [],
   "source": [
    "adj_mat = [\n",
    "    [0, 1, 1, 0, 0, 0, 0, 1],\n",
    "    [0, 0, 0, 0, 0, 0, 0, 0],\n",
    "    [0, 0, 0, 1, 1, 0, 1, 0],\n",
    "    [0, 0, 0, 0, 1, 0, 0, 0],\n",
    "    [0, 0, 0, 0, 0, 0, 0, 0],\n",
    "    [0, 0, 0, 0, 0, 0, 0, 0],\n",
    "    [0, 0, 0, 0, 0, 0, 0, 0],\n",
    "    [0, 0, 0, 0, 0, 0, 0, 0]\n",
    "]\n",
    "\n",
    "chg = {key:value for value, key in enumerate(\"ABCDEFGH\")}\n",
    "chg2 = {value:key for key, value in chg.items()}\n",
    "a = input()\n",
    "\n",
    "for i in adj_mat:\n",
    "    if i[chg.get(a)] == 1:\n",
    "        i[chg.get(a)] = 0\n",
    "        break\n",
    "\n",
    "if 1 not in i:\n",
    "    print(\"없음\")\n",
    "else:\n",
    "    for k in range(8):\n",
    "        if i[k] == 1:\n",
    "            print(chg2[k], end = ' ')"
   ]
  },
  {
   "cell_type": "code",
   "execution_count": null,
   "metadata": {},
   "outputs": [],
   "source": [
    "def dfs(start):\n",
    "    global visit_lst, adj_mat, res, n\n",
    "\n",
    "    if visit_lst[start] == 1:\n",
    "        return\n",
    "\n",
    "    visit_lst[start] = 1\n",
    "    res.append(start)\n",
    "\n",
    "    for i in range(n):\n",
    "        if adj_mat[start][i] == 1:\n",
    "            dfs(i)\n",
    "\n",
    "n = int(input())\n",
    "adj_mat = [list(map(int, input().split())) for _ in range(n)]\n",
    "visit_lst = [0]*n\n",
    "res = []\n",
    "start = 0\n",
    "dfs(start)\n",
    "\n",
    "print(*res)"
   ]
  },
  {
   "cell_type": "code",
   "execution_count": null,
   "metadata": {},
   "outputs": [],
   "source": [
    "def dfs(start, level, lst):\n",
    "    global adj_mat, n, visit_lst\n",
    "\n",
    "    if level == 2:\n",
    "        print(*lst)\n",
    "        return\n",
    "\n",
    "    if visit_lst[start] == 1:\n",
    "        return\n",
    "\n",
    "    visit_lst[start] = 1\n",
    "\n",
    "    for i in range(n):\n",
    "        if adj_mat[start][i] == 1:\n",
    "            dfs(i, level + 1, lst + [i])\n",
    "\n",
    "\n",
    "n = int(input())\n",
    "adj_mat = [list(map(int, input().split())) for _ in range(n)]\n",
    "visit_lst = [0]*n\n",
    "\n",
    "dfs(0, 0, [0])"
   ]
  },
  {
   "cell_type": "code",
   "execution_count": null,
   "metadata": {},
   "outputs": [],
   "source": [
    "def dfs(start):\n",
    "    global adj_mat, visit_lst, chg, res, n\n",
    "\n",
    "    if visit_lst[start] == 1:\n",
    "        return\n",
    "\n",
    "    visit_lst[start] = 1\n",
    "    res += [chg.get(start)]\n",
    "\n",
    "    for i in range(n):\n",
    "        if adj_mat[start][i] == 1:\n",
    "            dfs(i)\n",
    "\n",
    "\n",
    "st = input()\n",
    "n = len(st)\n",
    "adj_mat = [list(map(int, input().split())) for _ in st]\n",
    "visit_lst = [0]*n\n",
    "chg = {key:value for key, value in enumerate(st)}\n",
    "res = []\n",
    "dfs(0)\n",
    "print(*res, sep = '')"
   ]
  },
  {
   "cell_type": "code",
   "execution_count": null,
   "metadata": {},
   "outputs": [],
   "source": [
    "def dfs(node):\n",
    "    global n, adj_mat, visit_lst, res\n",
    "\n",
    "    if visit_lst[node] == 1:\n",
    "        return\n",
    "\n",
    "    visit_lst[node] = 1\n",
    "    res.append(node)\n",
    "\n",
    "    for i in range(n):\n",
    "        if adj_mat[node][i] == 1:\n",
    "            dfs(i)\n",
    "\n",
    "n = int(input())\n",
    "adj_mat = [list(map(int, input().split())) for _ in range(n)]\n",
    "visit_lst = [0]*n\n",
    "res = []\n",
    "\n",
    "dfs(0)\n",
    "print(*res)"
   ]
  },
  {
   "cell_type": "code",
   "execution_count": null,
   "metadata": {},
   "outputs": [],
   "source": [
    "def dfs(start, cnt):\n",
    "    global n, adj_lst, visit_lst, res, end\n",
    "\n",
    "    if start == end:\n",
    "        if cnt < res:\n",
    "            res = cnt\n",
    "        return\n",
    "\n",
    "    if visit_lst[start] == 1:\n",
    "        return\n",
    "\n",
    "    visit_lst[start] = 1\n",
    "\n",
    "    for i in adj_lst[start]:\n",
    "            dfs(i, cnt + 1)\n",
    "\n",
    "\n",
    "start, end = map(int, input().split())\n",
    "n = 7\n",
    "adj_lst = [\n",
    "    [],\n",
    "    [3, 5, 6],\n",
    "    [1, 4],\n",
    "    [5],\n",
    "    [1],\n",
    "    [1],\n",
    "    []\n",
    "]\n",
    "visit_lst = [0]*n\n",
    "res = 21e8\n",
    "dfs(start, 0)\n",
    "\n",
    "if res > 10:\n",
    "    res = 0\n",
    "\n",
    "print(res)"
   ]
  },
  {
   "cell_type": "code",
   "execution_count": null,
   "metadata": {},
   "outputs": [],
   "source": [
    "def recur(jump, now):\n",
    "    global road\n",
    "\n",
    "    if now >= width:\n",
    "        print(\"도착\", end = ' ')\n",
    "        return\n",
    "\n",
    "    print(road[jump], end = ' ')\n",
    "    recur(jump + road[jump], now + jump)\n",
    "    print(road[jump], end = ' ')\n",
    "\n",
    "\n",
    "road = [3, 1, 2, 1, 3, 2, 1, 2, 1]\n",
    "width = len(road)\n",
    "\n",
    "print(\"시작\", end = ' ')\n",
    "recur(int(input()) - 1, 0)\n",
    "print(\"시작\", end = ' ')"
   ]
  },
  {
   "cell_type": "code",
   "execution_count": null,
   "metadata": {},
   "outputs": [],
   "source": [
    "lst = [list(map(int, input().split())) for i in range(3)]\n",
    "\n",
    "for i in lst:\n",
    "    if len(set(i)) == 1:\n",
    "        print(i[0])\n",
    "    else:\n",
    "        print('x')"
   ]
  },
  {
   "cell_type": "code",
   "execution_count": null,
   "metadata": {},
   "outputs": [],
   "source": [
    "left = list(map(int, input().split()))\n",
    "right = list(map(int, input().split()))\n",
    "\n",
    "idx1 = 0\n",
    "idx2 = 0\n",
    "k = 0\n",
    "res = [0]*8\n",
    "\n",
    "while idx1 <= 3 and idx2 <= 3:\n",
    "    if left[idx1] <= right[idx2]:\n",
    "        res[k] = left[idx1]\n",
    "        k += 1\n",
    "        idx1 += 1\n",
    "    else:\n",
    "        res[k] = right[idx2]\n",
    "        k += 1\n",
    "        idx2 += 1\n",
    "\n",
    "while idx1 <= 3:\n",
    "    res[k] = left[idx1]\n",
    "    k += 1\n",
    "    idx1 += 1\n",
    "\n",
    "while idx2 <= 3:\n",
    "    res[k] = right[idx2]\n",
    "    k += 1\n",
    "    idx2 += 1\n",
    "\n",
    "print(*res)"
   ]
  },
  {
   "cell_type": "code",
   "execution_count": null,
   "metadata": {},
   "outputs": [],
   "source": [
    "mat = [list(map(int, input().split())) for _ in range(4)]\n",
    "\n",
    "tf = False\n",
    "for i in range(4):\n",
    "    if tf == True:\n",
    "        break\n",
    "    for j in range(5):\n",
    "        if mat[i][j] == 1:\n",
    "            res1 = [i, j]\n",
    "            tf = True\n",
    "            break\n",
    "\n",
    "tf = False\n",
    "for i in range(3, -1, -1):\n",
    "    if tf == True:\n",
    "        break\n",
    "    for j in range(4, -1, -1):\n",
    "        if mat[i][j] == 1:\n",
    "            res2 = [i, j]\n",
    "            tf = True\n",
    "            break\n",
    "\n",
    "print(f\"({res1[0]},{res1[1]})\")\n",
    "print(f\"({res2[0]},{res2[1]})\")"
   ]
  },
  {
   "cell_type": "code",
   "execution_count": null,
   "metadata": {},
   "outputs": [],
   "source": [
    "def chg(lst, n):\n",
    "    temp = lst\n",
    "    for _ in range(n):\n",
    "        a = temp.pop()\n",
    "        temp = [a] + temp\n",
    "\n",
    "    return temp\n",
    "\n",
    "s1 = [3, 7, 4]\n",
    "s2 = [2, 6, 9]\n",
    "s3 = [5, 1, 2]\n",
    "s4 = [3, 6, 7]\n",
    "chgs = list(map(int, input().split()))\n",
    "s1 = chg(s1, chgs[0])\n",
    "s2 = chg(s2, chgs[1])\n",
    "s3 = chg(s3, chgs[2])\n",
    "s4 = chg(s4, chgs[3])\n",
    "\n",
    "for i, j, k, l in zip(s1, s2, s3, s4):\n",
    "    print(i, j, k, l, sep = '')"
   ]
  },
  {
   "cell_type": "code",
   "execution_count": null,
   "metadata": {},
   "outputs": [],
   "source": [
    "idx, life = map(int, input().split())\n",
    "\n",
    "while idx < 5 and life >= 0:\n",
    "    road = ['_']*5\n",
    "\n",
    "    if life > 0:\n",
    "        road[idx] = life\n",
    "    idx += 1\n",
    "    life -= 1\n",
    "\n",
    "    print(*road, sep = '')"
   ]
  },
  {
   "cell_type": "code",
   "execution_count": null,
   "metadata": {},
   "outputs": [],
   "source": [
    "def swap(i, j, k, l):\n",
    "    global lst\n",
    "\n",
    "    if lst[i][j] == '_' or lst[k][l] == '_':\n",
    "        lst[i][j], lst[k][l] = lst[k][l], lst[i][j]\n",
    "\n",
    "#########################################################\n",
    "lst = [list(list(input())) for i in range(4)]\n",
    "\n",
    "d = [\n",
    "    [0, 1],\n",
    "    [1, 0],\n",
    "    [0, -1],\n",
    "    [-1, 0],\n",
    "    [0, 1]\n",
    "]\n",
    "\n",
    "alpha_lst = []\n",
    "k = 65 # A\n",
    "\n",
    "while chr(k) <= 'Z':\n",
    "    tf = False\n",
    "    for i in range(4):\n",
    "        if tf:\n",
    "            break\n",
    "        for j in range(3):\n",
    "            if lst[i][j] == chr(k):\n",
    "                alpha_lst.append([i, j])\n",
    "                tf = True\n",
    "                break\n",
    "\n",
    "    k += 1\n",
    "\n",
    "for move in d:\n",
    "    for i in range(len(alpha_lst)):\n",
    "        alp = alpha_lst[i]\n",
    "        drow = alp[0] + move[0]\n",
    "        dcol = alp[1] + move[1]\n",
    "\n",
    "        if 0 <= drow < 4 and 0 <= dcol < 3:\n",
    "            swap(alp[0], alp[1], drow, dcol)\n",
    "            if lst[alp[0]][alp[1]] == '_':\n",
    "                alpha_lst[i] = [drow, dcol]\n",
    "\n",
    "for i in lst:\n",
    "    print(*i,  sep = '')"
   ]
  },
  {
   "cell_type": "code",
   "execution_count": null,
   "metadata": {},
   "outputs": [],
   "source": [
    "a = input()\n",
    "b = input()\n",
    "lg = len(b)\n",
    "\n",
    "ma = 0\n",
    "st = ''\n",
    "for i in range(lg):\n",
    "    for j in range(i + 1, lg + 1):\n",
    "        temp = b[i:j]\n",
    "        lg2 = j - i\n",
    "\n",
    "        if temp in a:\n",
    "            if ma < lg2:\n",
    "                ma = lg2\n",
    "                st = temp\n",
    "\n",
    "print(st)"
   ]
  },
  {
   "cell_type": "code",
   "execution_count": null,
   "metadata": {},
   "outputs": [],
   "source": [
    "def recur(n):\n",
    "    global evid, timestamp\n",
    "\n",
    "    if n == 0:\n",
    "        print(f\"{n}번index(출발)\")\n",
    "        return\n",
    "\n",
    "    recur(evid[n])\n",
    "    print(f\"{n}번index({timestamp[n]}시)\")\n",
    "\n",
    "evid = [-1, 0, 0, 1, 2, 4, 4]\n",
    "timestamp = [8, 3, 5, 6, 8, 9, 10]\n",
    "n = int(input())\n",
    "recur(n)"
   ]
  },
  {
   "cell_type": "code",
   "execution_count": null,
   "metadata": {},
   "outputs": [],
   "source": [
    "def dfs(v):\n",
    "    global visited, adj_mat, path\n",
    "    path.append(v)\n",
    "    visited[v] = 1\n",
    "\n",
    "    for i in range(6):\n",
    "        if adj_mat[v][i] and not visited[i]:\n",
    "            dfs(i)\n",
    "\n",
    "#######################\n",
    "adj_mat = [\n",
    "    [0, 0, 1, 1, 0, 1],\n",
    "    [0, 0, 0, 1, 1, 1],\n",
    "    [0, 0, 0, 0, 1, 1],\n",
    "    [0, 0, 0, 0, 0, 0],\n",
    "    [1, 0, 0, 0, 0, 0],\n",
    "    [0, 0, 0, 0, 0, 0]\n",
    "]\n",
    "\n",
    "visited = [0] * 6\n",
    "path = []\n",
    "k = int(input())\n",
    "dfs(k)\n",
    "\n",
    "print(*path)"
   ]
  },
  {
   "cell_type": "code",
   "execution_count": null,
   "metadata": {},
   "outputs": [],
   "source": [
    "def dfs(v):\n",
    "    global visited, adj_mat, res\n",
    "    print(v, res)\n",
    "    visited[v] = 1\n",
    "\n",
    "    for i in range(6):\n",
    "        if adj_mat[v][i] and not visited[i]:\n",
    "            res += adj_mat[v][i]\n",
    "            dfs(i)\n",
    "\n",
    "#######################\n",
    "adj_mat = [\n",
    "    [0, 0, 1, 0, 2, 0],\n",
    "    [5, 0, 3, 0, 0, 0],\n",
    "    [0, 0, 0, 0, 0, 7],\n",
    "    [2, 0, 0, 0, 8, 0],\n",
    "    [0, 0, 9, 0, 0, 0],\n",
    "    [4, 0, 0, 7, 0, 0]\n",
    "]\n",
    "\n",
    "visited = [0] * 6\n",
    "\n",
    "res = 0\n",
    "k = int(input())\n",
    "dfs(k)\n"
   ]
  },
  {
   "cell_type": "code",
   "execution_count": null,
   "metadata": {},
   "outputs": [],
   "source": [
    "from collections import deque\n",
    "\n",
    "def bfs(v):\n",
    "    global adj_mat, visited\n",
    "\n",
    "    queue = deque()\n",
    "    queue.append(v)\n",
    "    visited[v] = 1\n",
    "    print(v, end = ' ')\n",
    "\n",
    "    while queue:\n",
    "        a = queue.popleft()\n",
    "\n",
    "        for i in range(6):\n",
    "            if adj_mat[a][i] and not visited[i]:\n",
    "                print(i, end = ' ')\n",
    "                visited[i] = 1\n",
    "                queue.append(i)\n",
    "\n",
    "#######################\n",
    "adj_mat = [\n",
    "    [0, 1, 0, 0, 1, 0],\n",
    "    [0, 0, 1, 0, 0, 1],\n",
    "    [0, 0, 0, 1, 0, 0],\n",
    "    [0, 0, 0, 0, 0, 0],\n",
    "    [0, 0, 0, 0, 0, 0],\n",
    "    [0, 0, 0, 0, 0, 0]\n",
    "]\n",
    "\n",
    "visited = [0] * 6\n",
    "\n",
    "res = 0\n",
    "k = int(input())\n",
    "bfs(k)"
   ]
  },
  {
   "cell_type": "code",
   "execution_count": null,
   "metadata": {},
   "outputs": [],
   "source": [
    "from collections import deque\n",
    "\n",
    "def bfs(v):\n",
    "    global adj_mat, visited\n",
    "\n",
    "    queue = deque()\n",
    "    queue.append(v)\n",
    "    visited[v] = 1\n",
    "    print(v)\n",
    "\n",
    "    while queue:\n",
    "        a = queue.popleft()\n",
    "\n",
    "        for i in range(6):\n",
    "            if adj_mat[a][i] and not visited[i]:\n",
    "                print(i)\n",
    "                visited[i] = 1\n",
    "                queue.append(i)\n",
    "\n",
    "#######################\n",
    "adj_mat = [\n",
    "    [0, 0, 0, 0, 1, 0],\n",
    "    [1, 0, 1, 0, 0, 1],\n",
    "    [1, 0, 0, 1, 0, 0],\n",
    "    [1, 1, 0, 0, 0, 0],\n",
    "    [0, 1, 0, 1, 0, 1],\n",
    "    [0, 0, 1, 1, 0, 0]\n",
    "]\n",
    "\n",
    "visited = [0] * 6\n",
    "\n",
    "res = 0\n",
    "k = int(input())\n",
    "bfs(k)\n",
    "\n"
   ]
  },
  {
   "cell_type": "code",
   "execution_count": 4,
   "metadata": {},
   "outputs": [
    {
     "name": "stdout",
     "output_type": "stream",
     "text": [
      "9 6 12 3 "
     ]
    }
   ],
   "source": [
    "def chg():\n",
    "    global watch\n",
    "\n",
    "    temp = list(map(list, zip(*watch)))\n",
    "    \n",
    "    for i in range(3):\n",
    "        temp[i] = temp[i][::-1]\n",
    "\n",
    "    watch = temp\n",
    "\n",
    "\n",
    "\n",
    "watch = [\n",
    "    [0, 12, 0],\n",
    "    [9, 0, 3],\n",
    "    [0, 6, 0]\n",
    "]\n",
    "\n",
    "k = int(input()) // 90\n",
    "\n",
    "for _ in range(k):\n",
    "    chg()\n",
    "\n",
    "for i in range(3):\n",
    "    for j in range(3):\n",
    "        if watch[i][j] != 0:\n",
    "            print(watch[i][j], end = ' ')"
   ]
  },
  {
   "cell_type": "code",
   "execution_count": 2,
   "metadata": {},
   "outputs": [
    {
     "name": "stdout",
     "output_type": "stream",
     "text": [
      "oooo\n",
      "ooox\n",
      "ooxo\n",
      "ooxx\n",
      "oxoo\n",
      "oxox\n",
      "oxxo\n",
      "oxxx\n",
      "xooo\n",
      "xoox\n",
      "xoxo\n",
      "xoxx\n",
      "xxoo\n",
      "xxox\n",
      "xxxo\n",
      "xxxx\n"
     ]
    }
   ],
   "source": [
    "def ftn(n, st):\n",
    "    global k\n",
    "    \n",
    "    if n == k:\n",
    "        print(st)\n",
    "        return\n",
    "\n",
    "    for i in \"ox\":\n",
    "        ftn(n + 1, st + i)\n",
    "\n",
    "k = int(input())\n",
    "ftn(0, '')"
   ]
  },
  {
   "cell_type": "code",
   "execution_count": 4,
   "metadata": {},
   "outputs": [
    {
     "name": "stdout",
     "output_type": "stream",
     "text": [
      "2\n"
     ]
    }
   ],
   "source": [
    "lst = [1, 5, 4, 2, -5, -7]\n",
    "lst.sort(reverse = True)\n",
    "k = int(input())\n",
    "\n",
    "print(lst[k - 1])"
   ]
  },
  {
   "cell_type": "code",
   "execution_count": 6,
   "metadata": {},
   "outputs": [
    {
     "name": "stdout",
     "output_type": "stream",
     "text": [
      "\n"
     ]
    }
   ],
   "source": [
    "def check(n1, n2):\n",
    "    lg1 = len(n1)\n",
    "    lg2 = len(n2)\n",
    "\n",
    "    if lg1 < lg2:\n",
    "        return 0\n",
    "    if lg1 > lg2: # 자리를 바꿔야 하는 경우\n",
    "        return 1\n",
    "    \n",
    "    for i in range(lg1):\n",
    "        if n1[i] < n2[i]:\n",
    "            return 0\n",
    "        else: # 자리를 바꿔야 하는 경우\n",
    "            return 1\n",
    "        \n",
    "lst = []\n",
    "\n",
    "for _ in range(3):\n",
    "    lst.append(input())\n",
    "\n",
    "for i in range(2):\n",
    "    for j in range(2 - i):\n",
    "        if check(lst[j], lst[j + 1]):\n",
    "            lst[j], lst[j + 1] = lst[j + 1], lst[j]\n",
    "\n",
    "print(lst[-1])"
   ]
  },
  {
   "cell_type": "code",
   "execution_count": null,
   "metadata": {},
   "outputs": [],
   "source": [
    "def check(n1, n2):\n",
    "    lg1 = len(n1)\n",
    "    lg2 = len(n2)\n",
    "\n",
    "    if lg1 < lg2:\n",
    "        return 0\n",
    "    if lg1 > lg2:  # 자리를 바꿔야 하는 경우\n",
    "        return 1\n",
    "\n",
    "    for i in range(lg1):\n",
    "        if n1[i] < n2[i]:\n",
    "            return 0\n",
    "        elif n1[i] > n2[i]:\n",
    "            return 1\n",
    "\n",
    "\n",
    "lst = []\n",
    "\n",
    "for _ in range(3):\n",
    "    lst.append(input())\n",
    "\n",
    "for i in range(2):\n",
    "    for j in range(2 - i):\n",
    "        if check(lst[j], lst[j + 1]):\n",
    "            lst[j], lst[j + 1] = lst[j + 1], lst[j]\n",
    "\n",
    "print(lst[-1])\n"
   ]
  },
  {
   "cell_type": "code",
   "execution_count": null,
   "metadata": {},
   "outputs": [],
   "source": [
    "def ftn(n):\n",
    "    global path, st\n",
    "    if n == k:\n",
    "        print(*path, sep = '')\n",
    "        return\n",
    "\n",
    "    for i in st:\n",
    "        path[n] = i\n",
    "        ftn(n + 1)\n",
    "\n",
    "path = ['-']*2\n",
    "st = input()\n",
    "k = 2\n",
    "\n",
    "ftn(0)"
   ]
  },
  {
   "cell_type": "code",
   "execution_count": null,
   "metadata": {},
   "outputs": [],
   "source": [
    "n = int(input())\n",
    "for _ in range(n):\n",
    "    k = input()\n",
    "\n",
    "    res = (ord(k[0]) - ord('A')) * pow(26, 3) + (ord(k[1]) - ord('A')) * pow(26, 2) + (ord(k[2]) - ord('A'))* 26 + (ord(k[3]) - ord('A') + 1)\n",
    "    print(res)"
   ]
  },
  {
   "cell_type": "code",
   "execution_count": null,
   "metadata": {},
   "outputs": [],
   "source": [
    "def ftn(n, s):\n",
    "    global res, lst2\n",
    "\n",
    "    if s > 20:\n",
    "        return\n",
    "\n",
    "    if n == 5:\n",
    "        if 10 <= s <= 20:\n",
    "            res += 1\n",
    "        return\n",
    "\n",
    "    for i in lst2[n]:\n",
    "            ftn(n + 1, s + i)\n",
    "\n",
    "lst = list(map(int, input().split()))\n",
    "temp = [0] * len(lst)\n",
    "lst2 = list(map(list, zip(lst, temp)))\n",
    "res = 0\n",
    "\n",
    "ftn(0, 0)\n",
    "\n",
    "print(res)"
   ]
  },
  {
   "cell_type": "code",
   "execution_count": null,
   "metadata": {},
   "outputs": [],
   "source": [
    "st = list('BIAH')\n",
    "k = int(input())\n",
    "start = 0\n",
    "\n",
    "while st:\n",
    "    temp = (start + (k - 1)) % len(st)\n",
    "    start = temp\n",
    "    print(st.pop(temp), end = ' ')"
   ]
  },
  {
   "cell_type": "code",
   "execution_count": null,
   "metadata": {},
   "outputs": [],
   "source": [
    "n = int(input()) - 1 \n",
    "ans = [21, 2, 2, 2]\n",
    "print(ans[n])"
   ]
  },
  {
   "cell_type": "code",
   "execution_count": 4,
   "metadata": {},
   "outputs": [
    {
     "name": "stdout",
     "output_type": "stream",
     "text": [
      "7\n"
     ]
    }
   ],
   "source": [
    "n = int(input())\n",
    "lst = list(map(int, input().split()))\n",
    "temp = lst[:4]\n",
    "s = sum(temp)\n",
    "mi = s\n",
    "\n",
    "for i in range(4, n):\n",
    "    s += lst[i]\n",
    "    s -= lst[i - 4]\n",
    "\n",
    "    if mi > s:\n",
    "        mi = s\n",
    "\n",
    "print(mi)"
   ]
  },
  {
   "cell_type": "code",
   "execution_count": null,
   "metadata": {},
   "outputs": [],
   "source": [
    "n = int(input()) - 1\n",
    "ans = [40, 74, 800, 16]\n",
    "print(ans[n])\n",
    "# C++ 구조체의 크기는 가장 큰 자료형의 배수로 결정된다.?\n",
    "# 포인터는 8바이트임!"
   ]
  },
  {
   "cell_type": "code",
   "execution_count": null,
   "metadata": {},
   "outputs": [],
   "source": [
    "lst = [list(input()) for _ in range(5)]\n",
    "\n",
    "for i in range(5):\n",
    "    lst[i][1], lst[i][3] = lst[i][3], lst[i][1]\n",
    "\n",
    "res = 'no'\n",
    "\n",
    "for i in lst:\n",
    "    if ''.join(i) == 'MAPOM':\n",
    "        res = 'yes'\n",
    "        break\n",
    "\n",
    "print(res)"
   ]
  },
  {
   "cell_type": "code",
   "execution_count": null,
   "metadata": {},
   "outputs": [],
   "source": [
    "n = int(input())\n",
    "lst = input().split()\n",
    "cnt = 0\n",
    "\n",
    "for i in range(n - 1):\n",
    "    for j in range(i + 1, n):\n",
    "        temp = lst[i] + lst[j]\n",
    "        if temp == \"HITSMUSIC\":\n",
    "            cnt += 1\n",
    "\n",
    "print(cnt)"
   ]
  },
  {
   "cell_type": "code",
   "execution_count": null,
   "metadata": {},
   "outputs": [],
   "source": [
    "lst = [1, 2, 3, 3, 5, 1, 0, 1, 3]\n",
    "n = int(input())\n",
    "s = sum(lst[:n])\n",
    "mi = s\n",
    "\n",
    "for i in range(n, len(lst)):\n",
    "    s += lst[i]\n",
    "    s -= lst[i - n]\n",
    "\n",
    "    if mi > s:\n",
    "        mi = s\n",
    "\n",
    "print(mi)"
   ]
  },
  {
   "cell_type": "code",
   "execution_count": null,
   "metadata": {},
   "outputs": [],
   "source": [
    "n = int(input())\n",
    "lst = []\n",
    "\n",
    "\n",
    "def check(idx1, idx2):\n",
    "    global lst\n",
    "\n",
    "    if len(lst[idx1]) < len(lst[idx2]):\n",
    "        return\n",
    "    elif len(lst[idx1]) > len(lst[idx2]):\n",
    "        lst[idx1], lst[idx2] = lst[idx2], lst[idx1]\n",
    "        return\n",
    "\n",
    "    for i in range(len(lst[idx1])):\n",
    "        if lst[idx1][i] < lst[idx2][i]:\n",
    "            return\n",
    "        elif lst[idx1][i] > lst[idx2][i]:\n",
    "            lst[idx1], lst[idx2] = lst[idx2], lst[idx1]\n",
    "            return\n",
    "\n",
    "\n",
    "for _ in range(n):\n",
    "    lst.append(input())\n",
    "\n",
    "for i in range(n - 1):\n",
    "    for j in range(n - 1 - i):\n",
    "        check(j, j + 1)\n",
    "\n",
    "for i in lst:\n",
    "    print(i)"
   ]
  },
  {
   "cell_type": "code",
   "execution_count": null,
   "metadata": {},
   "outputs": [],
   "source": [
    "p, n = map(int, input().split())\n",
    "\n",
    "for i in range(n):\n",
    "    temp = str(p*2)[::-1]\n",
    "    p = int(temp)\n",
    "\n",
    "print(p)"
   ]
  },
  {
   "cell_type": "code",
   "execution_count": null,
   "metadata": {},
   "outputs": [],
   "source": [
    "def insert():\n",
    "    global n, lst\n",
    "\n",
    "    for  i in range(1, n):\n",
    "        for j in range(i, 0, -1):\n",
    "            if lst[j - 1][0] > lst[j][0]:\n",
    "                lst[j - 1], lst[j] = lst[j], lst[j - 1]\n",
    "            elif lst[j - 1][0] == lst[j][0]:\n",
    "                if lst[j - 1][1] > lst[j][1]:\n",
    "                    lst[j - 1], lst[j] = lst[j], lst[j - 1]\n",
    "            else:\n",
    "                break\n",
    "\n",
    "n = int(input())\n",
    "lst = []\n",
    "\n",
    "for _ in range(n):\n",
    "    a, b = input().split()\n",
    "    a = int(a)\n",
    "    lst.append([a, b])\n",
    "\n",
    "insert()\n",
    "\n",
    "for i in lst:\n",
    "    print(*i)"
   ]
  },
  {
   "cell_type": "code",
   "execution_count": null,
   "metadata": {},
   "outputs": [],
   "source": []
  }
 ],
 "metadata": {
  "kernelspec": {
   "display_name": "Python 3",
   "language": "python",
   "name": "python3"
  },
  "language_info": {
   "codemirror_mode": {
    "name": "ipython",
    "version": 3
   },
   "file_extension": ".py",
   "mimetype": "text/x-python",
   "name": "python",
   "nbconvert_exporter": "python",
   "pygments_lexer": "ipython3",
   "version": "3.9.13"
  },
  "orig_nbformat": 4,
  "vscode": {
   "interpreter": {
    "hash": "b989fbffd3ec1c6d6c91005b2fa329057dfdc84b6f95ed35016e1b272fccc8a0"
   }
  }
 },
 "nbformat": 4,
 "nbformat_minor": 2
}
