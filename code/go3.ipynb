{
 "cells": [
  {
   "cell_type": "code",
   "execution_count": null,
   "metadata": {},
   "outputs": [],
   "source": [
    "lst = [5, 9, 4, 6, 1, 5, 8, 9]\n",
    "a, b = map(int, input().split())\n",
    "k = lst.index(b)\n",
    "\n",
    "print(abs(a - k))"
   ]
  },
  {
   "cell_type": "code",
   "execution_count": null,
   "metadata": {},
   "outputs": [],
   "source": [
    "lst = [5, 9, 4, 6, 1, 5, 8, 9]\n",
    "a, b = map(int, input().split())\n",
    "k = lst.index(b)\n",
    "\n",
    "try:\n",
    "    k2 =lst.index(b, k + 1)\n",
    "except:\n",
    "    k2 = -1\n",
    "\n",
    "if (k2 < 0):\n",
    "    print(abs(a - k))\n",
    "else:\n",
    "    temp = abs(a - k) if abs(a - k) < abs(a - k2) else abs(a - k2)\n",
    "    print(temp)"
   ]
  },
  {
   "cell_type": "code",
   "execution_count": null,
   "metadata": {},
   "outputs": [],
   "source": [
    "lst = [\n",
    "    list(\"ATKB\"),\n",
    "    list(\"CZFD\"),\n",
    "    list(\"HGEI\")\n",
    "]\n",
    "\n",
    "a, b, c = input().split()\n",
    "b, c = int(b), int(c)\n",
    "\n",
    "for i in range(len(lst)):\n",
    "    for j in range(len(lst[0])):\n",
    "        if (lst[i][j] == a):\n",
    "            row = i\n",
    "            col = j\n",
    "\n",
    "row += b\n",
    "col += c\n",
    "\n",
    "print(lst[row][col])"
   ]
  },
  {
   "cell_type": "code",
   "execution_count": null,
   "metadata": {},
   "outputs": [],
   "source": [
    "lst = [\n",
    "    [3, 5, 9],\n",
    "    [4, 2, 1],\n",
    "    [5, 1, 5]\n",
    "]\n",
    "\n",
    "def isExist(lst):\n",
    "    r = list(map(int, input().split()))\n",
    "    cnt = [0]*len(r)\n",
    "\n",
    "    for i in range(len(r)):\n",
    "        for j in lst:\n",
    "            if (r[i] in j):\n",
    "                cnt[i] += 1\n",
    "    \n",
    "    for i in range(len(r)):\n",
    "        if (cnt[i] > 0):\n",
    "            print(f\"{r[i]}:존재\")\n",
    "        else:\n",
    "            print(f\"{r[i]}:미발견\")\n",
    "\n",
    "isExist(lst)"
   ]
  },
  {
   "cell_type": "code",
   "execution_count": null,
   "metadata": {},
   "outputs": [],
   "source": [
    "lst1 = [\n",
    "    [0, 0, 0, 1],\n",
    "    [1, 1, 0, 1],\n",
    "    [1, 0, 0, 1],\n",
    "    [1, 1, 1, 1]\n",
    "]\n",
    "\n",
    "lst2 = [\n",
    "    [1, 1, 1, 1],\n",
    "    [1, 0, 1, 1],\n",
    "    [1, 0, 0, 0],\n",
    "    [1, 0, 0, 0]\n",
    "]\n",
    "\n",
    "lst3 = [[0]*4 for i in range(4)]\n",
    "\n",
    "for i in range(len(lst1)):\n",
    "    for j in range(len(lst1[0])):\n",
    "        lst3[i][j] = lst1[i][j] or lst2[i][j]\n",
    "\n",
    "for i in range(len(lst1)):\n",
    "    for j in range(len(lst1[0])):\n",
    "        if (not lst3[i][j]):\n",
    "            print(f\"({i},{j})\")"
   ]
  },
  {
   "cell_type": "code",
   "execution_count": null,
   "metadata": {},
   "outputs": [],
   "source": [
    "lst1 = [\n",
    "    [0, 0, 0, 1],\n",
    "    [1, 1, 0, 1],\n",
    "    [1, 0, 0, 1],\n",
    "    [1, 1, 1, 1]\n",
    "]\n",
    "\n",
    "lst2 = [\n",
    "    [1, 1, 1, 1],\n",
    "    [1, 0, 1, 1],\n",
    "    [1, 0, 0, 0],\n",
    "    [1, 0, 0, 0]\n",
    "]\n",
    "\n",
    "lst3 = [[0]*4 for i in range(4)]\n",
    "\n",
    "for i in range(len(lst1)):\n",
    "    for j in range(len(lst1[0])):\n",
    "        lst3[i][j] = lst1[i][j] or lst2[i][j]\n",
    "\n",
    "for i in range(len(lst1)):\n",
    "    for j in range(len(lst1[0])):\n",
    "        if (not lst3[i][j]):\n",
    "            print(f\"({i},{j})\")"
   ]
  },
  {
   "cell_type": "code",
   "execution_count": null,
   "metadata": {},
   "outputs": [],
   "source": [
    "lst1 = [\n",
    "    [0, 0, 1, 0, 0],\n",
    "    [0, 0, 1, 1, 1]\n",
    "]\n",
    "\n",
    "lst2 = [\n",
    "    [3, 5, 4, 1, 1],\n",
    "    [3, 5, 2, 5, 6]\n",
    "]\n",
    "\n",
    "lst = []\n",
    "\n",
    "for i in range(2):\n",
    "    for j in range(5):\n",
    "        if (lst1[i][j]):\n",
    "            lst.append(lst2[i][j])\n",
    "\n",
    "a = int(input())\n",
    "\n",
    "if (a in lst):\n",
    "    print(f\"{a} 존재\")\n",
    "else:\n",
    "    print(f\"{a} 없음\")"
   ]
  },
  {
   "cell_type": "code",
   "execution_count": null,
   "metadata": {},
   "outputs": [],
   "source": [
    "vect = list(\"BTKIGZ\")\n",
    "target = input().split()\n",
    "cnt = 0\n",
    "\n",
    "for i in target:\n",
    "    if (i in vect):\n",
    "        cnt += 1\n",
    "\n",
    "print(cnt)"
   ]
  },
  {
   "cell_type": "code",
   "execution_count": null,
   "metadata": {},
   "outputs": [],
   "source": [
    "vect = [\n",
    "    [3, 7, 4],\n",
    "    [2, 2, 4],\n",
    "    [2, 2, 5]\n",
    "]\n",
    "\n",
    "target = list(map(int, input().split()))\n",
    "vect1 = sum(vect, []) # 좋은데?\n",
    "dic1 = {}\n",
    "\n",
    "for i in target:\n",
    "    for j in vect1:\n",
    "        if (i  == j):\n",
    "            try:\n",
    "                dic1[i] += 1\n",
    "            except:\n",
    "                dic1[i] = 1\n",
    "\n",
    "res = list(sorted(dic1.keys(), key = lambda x: dic1[x], reverse = True))\n",
    "print(res[0])"
   ]
  },
  {
   "cell_type": "code",
   "execution_count": 1,
   "metadata": {},
   "outputs": [
    {
     "name": "stdout",
     "output_type": "stream",
     "text": [
      "14\n"
     ]
    }
   ],
   "source": [
    "def getSum(n):\n",
    "    lst = [3, 4, 1, 1, 2, 6, 8, 7, 8, 9, 10]\n",
    "    s = 0\n",
    "\n",
    "    for i in range(n, n + 5):\n",
    "        s += lst[i]\n",
    "\n",
    "    return s\n",
    "\n",
    "print(getSum(int(input())))"
   ]
  },
  {
   "cell_type": "code",
   "execution_count": 2,
   "metadata": {},
   "outputs": [
    {
     "name": "stdout",
     "output_type": "stream",
     "text": [
      "OK OK\n",
      "NO NO\n"
     ]
    }
   ],
   "source": [
    "lst = [3, 7, 4, 1, 2, 6]\n",
    "univer = [list(map(int, input().split())) for i in range(2)]\n",
    "lst2 = [[0]*2 for i in range(2)]\n",
    "\n",
    "for i in range(2):\n",
    "    for j in range(2):\n",
    "        univer[i][j] = \"OK\" if (univer[i][j] in lst) else \"NO\"\n",
    "            \n",
    "for i in univer:\n",
    "    print(*i)"
   ]
  },
  {
   "cell_type": "code",
   "execution_count": 4,
   "metadata": {},
   "outputs": [
    {
     "name": "stdout",
     "output_type": "stream",
     "text": [
      "동명\n"
     ]
    }
   ],
   "source": [
    "a = input()\n",
    "b = input()\n",
    "\n",
    "def isSame(a, b):\n",
    "    if (a == b):\n",
    "        return \"동명\"\n",
    "    else:\n",
    "        return \"남남\"\n",
    "\n",
    "print(isSame(a, b))"
   ]
  },
  {
   "cell_type": "code",
   "execution_count": 12,
   "metadata": {},
   "outputs": [
    {
     "name": "stdout",
     "output_type": "stream",
     "text": [
      "대발견\n"
     ]
    }
   ],
   "source": [
    "lst = [\n",
    "    list(\"GKT\"),\n",
    "    list(\"PAC\")\n",
    "]\n",
    "\n",
    "cnt = 0\n",
    "r = input().split()\n",
    "\n",
    "for i in r:\n",
    "    for j in lst:\n",
    "        if (i in j):\n",
    "            cnt += 1\n",
    "            break\n",
    "\n",
    "if (cnt == 2):\n",
    "    print(\"대발견\")\n",
    "elif (cnt == 1):\n",
    "    print(\"중발견\")\n",
    "else:\n",
    "    print(\"미발견\")"
   ]
  },
  {
   "cell_type": "code",
   "execution_count": 20,
   "metadata": {},
   "outputs": [
    {
     "name": "stdout",
     "output_type": "stream",
     "text": [
      "0770770\n"
     ]
    }
   ],
   "source": [
    "bit = list(map(int, input().split()))\n",
    "vect = [3, 5, 4, 2, 6, 6, 5]\n",
    "\n",
    "res = filter(lambda x: bit[x], range(len(bit)))\n",
    "lst = [0] * len(bit)\n",
    "\n",
    "for i in list(res):\n",
    "    lst[i] = vect[i]\n",
    "\n",
    "for i in range(len(lst)):\n",
    "    if (lst[i] != 0):\n",
    "        lst[i] = 7\n",
    "\n",
    "print(*lst, sep = '')"
   ]
  },
  {
   "cell_type": "code",
   "execution_count": 22,
   "metadata": {},
   "outputs": [
    {
     "name": "stdout",
     "output_type": "stream",
     "text": [
      "pass\n"
     ]
    }
   ],
   "source": [
    "pwd = [3, 7, 4, 9]\n",
    "lst = list(map(int, input().split()))\n",
    "\n",
    "if (pwd == lst):\n",
    "    print(\"pass\")\n",
    "else:\n",
    "    print(\"fail\")"
   ]
  },
  {
   "cell_type": "code",
   "execution_count": 4,
   "metadata": {},
   "outputs": [
    {
     "name": "stdout",
     "output_type": "stream",
     "text": [
      "lev0:6\n",
      "lev1:0\n",
      "lev2:0\n",
      "lev3:0\n"
     ]
    }
   ],
   "source": [
    "lst = [\n",
    "    [10 ,20],\n",
    "    [30, 60],\n",
    "    [100, 150],\n",
    "    [200, 300]\n",
    "]\n",
    "\n",
    "lst2 = [0]*4\n",
    "\n",
    "r = list(map(int, input().split()))\n",
    "\n",
    "for i in r:\n",
    "    for j in range(len(lst)):\n",
    "        if (i >= lst[j][0] and i <= lst[j][1]):\n",
    "            lst2[j] += 1\n",
    "\n",
    "for i in range(len(lst2)):\n",
    "    print(f\"lev{i}:{lst2[i]}\")"
   ]
  },
  {
   "cell_type": "code",
   "execution_count": 8,
   "metadata": {},
   "outputs": [
    {
     "name": "stdout",
     "output_type": "stream",
     "text": [
      "Y N\n",
      "N Y\n"
     ]
    }
   ],
   "source": [
    "map1 = [\n",
    "    [3, 55, 42],\n",
    "    [-5, -9, -10]\n",
    "]\n",
    "map2 = sum(map1, [])\n",
    "pix = [list(map(int, input().split())) for i in range(2)]\n",
    "lst = [['N']*2 for i in range(2)]\n",
    "\n",
    "for i in range(len(pix)):\n",
    "    for j in range(len(pix[0])):\n",
    "        if (pix[i][j] in map2):\n",
    "            lst[i][j] = 'Y'\n",
    "\n",
    "for i in lst:\n",
    "    print(*i)"
   ]
  },
  {
   "cell_type": "code",
   "execution_count": 12,
   "metadata": {},
   "outputs": [
    {
     "name": "stdout",
     "output_type": "stream",
     "text": [
      "arr[0]=3\n"
     ]
    }
   ],
   "source": [
    "arr = list(map(int, input().split()))\n",
    "mask = [1, 0, 1, 0, 1, 0]\n",
    "fil1 = list(filter(lambda x:mask[x], range(len(mask))))\n",
    "lst = []\n",
    "\n",
    "m = arr[fil1[0]]\n",
    "idx = fil1[0]\n",
    "\n",
    "for i in range(len(fil1)):\n",
    "    if (m > arr[fil1[i]]):\n",
    "        m = arr[fil1[i]]\n",
    "        idx = fil1[i]\n",
    "\n",
    "print(f\"arr[{idx}]={m}\")"
   ]
  },
  {
   "cell_type": "code",
   "execution_count": 2,
   "metadata": {},
   "outputs": [
    {
     "name": "stdout",
     "output_type": "stream",
     "text": [
      "0\n",
      "1\n",
      "2\n",
      "3\n"
     ]
    }
   ],
   "source": [
    "def bbq(n):\n",
    "\n",
    "    if n == 3:\n",
    "        return\n",
    "\n",
    "    bbq(n + 1)\n",
    "\n",
    "bbq(0)\n"
   ]
  },
  {
   "cell_type": "code",
   "execution_count": 1,
   "metadata": {},
   "outputs": [
    {
     "name": "stdout",
     "output_type": "stream",
     "text": [
      "4 3 2 1 0 1 2 3 4 "
     ]
    }
   ],
   "source": [
    "def cntd(n):\n",
    "    print(n, end = ' ')\n",
    "\n",
    "    if (n == 0):\n",
    "        return\n",
    "    \n",
    "    cntd(n - 1)\n",
    "    print(n, end = ' ')\n",
    "\n",
    "\n",
    "cntd(int(input()))"
   ]
  },
  {
   "cell_type": "code",
   "execution_count": 5,
   "metadata": {},
   "outputs": [
    {
     "name": "stdout",
     "output_type": "stream",
     "text": [
      "0 1 2 3 4 5 4 3 2 1 0 "
     ]
    }
   ],
   "source": [
    "def recur(n):\n",
    "\n",
    "    print(n, end = ' ')\n",
    "    if (n == 5):\n",
    "        return\n",
    "    \n",
    "    recur(n + 1)\n",
    "    print(n, end = ' ')\n",
    "\n",
    "recur(0)"
   ]
  },
  {
   "cell_type": "code",
   "execution_count": 11,
   "metadata": {},
   "outputs": [
    {
     "name": "stdout",
     "output_type": "stream",
     "text": [
      "7 5 3 1 "
     ]
    }
   ],
   "source": [
    "def abc(n, k = 0):\n",
    "    k2 = k\n",
    "\n",
    "    if (k == 3):\n",
    "        print(n, end = ' ')\n",
    "        return\n",
    "    \n",
    "    abc(n + 2, k = k2 + 1)\n",
    "    print(n, end = ' ')\n",
    "\n",
    "abc(int(input()))"
   ]
  },
  {
   "cell_type": "code",
   "execution_count": 6,
   "metadata": {},
   "outputs": [
    {
     "name": "stdout",
     "output_type": "stream",
     "text": [
      "abcde\n",
      "edcba"
     ]
    }
   ],
   "source": [
    "st = input()\n",
    "def abcd(n):\n",
    "    \n",
    "    print(st[n], end = '')\n",
    "    \n",
    "    if (n == len(st) - 1):\n",
    "        print('\\n',st[n], end = '', sep = '')\n",
    "        return\n",
    "    \n",
    "    abcd(n + 1)\n",
    "    print(st[n], end = '')\n",
    "\n",
    "abcd(0)"
   ]
  },
  {
   "cell_type": "code",
   "execution_count": 13,
   "metadata": {},
   "outputs": [
    {
     "name": "stdout",
     "output_type": "stream",
     "text": [
      "3 4 5 6 7 8 9 8 7 6 5 4 3 "
     ]
    }
   ],
   "source": [
    "a, b = map(int, input().split())\n",
    "\n",
    "def ftn1(a, b):\n",
    "    \n",
    "    print(a, end = ' ')\n",
    "\n",
    "    if (a == b):\n",
    "        return\n",
    "    \n",
    "    ftn1(a + 1, b)\n",
    "    print(a, end = ' ')\n",
    "\n",
    "ftn1(a, b)"
   ]
  },
  {
   "cell_type": "code",
   "execution_count": 15,
   "metadata": {},
   "outputs": [
    {
     "name": "stdout",
     "output_type": "stream",
     "text": [
      "1 4 7 3 7 4 1 "
     ]
    }
   ],
   "source": [
    "lst = [3, 7, 4, 1, 9, 4, 6, 2]\n",
    "\n",
    "def ftn2(n):\n",
    "    print(lst[n], end = ' ')\n",
    "\n",
    "    if (n == 0):\n",
    "        return\n",
    "    \n",
    "    ftn2(n - 1)\n",
    "    print(lst[n], end = ' ')\n",
    "\n",
    "ftn2(int(input()))"
   ]
  },
  {
   "cell_type": "code",
   "execution_count": 17,
   "metadata": {},
   "outputs": [
    {
     "name": "stdout",
     "output_type": "stream",
     "text": [
      "1 2 4 8 17 "
     ]
    }
   ],
   "source": [
    "a = int(input())\n",
    "\n",
    "def ftn3(n):\n",
    "\n",
    "    if (n == 0):\n",
    "        return\n",
    "    \n",
    "    ftn3(n // 2)\n",
    "    print(n, end = ' ')\n",
    "\n",
    "ftn3(a)"
   ]
  },
  {
   "cell_type": "code",
   "execution_count": 18,
   "metadata": {},
   "outputs": [
    {
     "name": "stdout",
     "output_type": "stream",
     "text": [
      "0\n",
      "1\n",
      "2\n"
     ]
    }
   ],
   "source": [
    "def ftn4(n):\n",
    "\n",
    "    if n == 2:\n",
    "        return\n",
    "    \n",
    "    ftn4(n + 1)\n",
    "\n",
    "ftn4(0)"
   ]
  },
  {
   "cell_type": "code",
   "execution_count": 19,
   "metadata": {},
   "outputs": [
    {
     "name": "stdout",
     "output_type": "stream",
     "text": [
      "P\n",
      "QP\n",
      "TQP\n",
      "ATQP\n",
      "8ATQP\n",
      "78ATQP\n"
     ]
    }
   ],
   "source": [
    "r = input()\n",
    "\n",
    "for i in range(len(r)):\n",
    "    temp = len(r) - 1 - i\n",
    "    print(r[temp:])"
   ]
  },
  {
   "cell_type": "code",
   "execution_count": 1,
   "metadata": {},
   "outputs": [
    {
     "name": "stdout",
     "output_type": "stream",
     "text": [
      "동일한문장\n"
     ]
    }
   ],
   "source": [
    "r = input()\n",
    "lg = len(r) // 2\n",
    "a, b = r[:lg], r[lg:]\n",
    "\n",
    "if (a == b):\n",
    "    print(\"동일한문장\")\n",
    "else:\n",
    "    print(\"다른문장\")"
   ]
  },
  {
   "cell_type": "code",
   "execution_count": 4,
   "metadata": {},
   "outputs": [
    {
     "ename": "IndexError",
     "evalue": "list index out of range",
     "output_type": "error",
     "traceback": [
      "\u001b[1;31m---------------------------------------------------------------------------\u001b[0m",
      "\u001b[1;31mIndexError\u001b[0m                                Traceback (most recent call last)",
      "Cell \u001b[1;32mIn[4], line 8\u001b[0m\n\u001b[0;32m      6\u001b[0m \u001b[39mfor\u001b[39;00m i \u001b[39min\u001b[39;00m \u001b[39mrange\u001b[39m(\u001b[39m4\u001b[39m):\n\u001b[0;32m      7\u001b[0m     \u001b[39mfor\u001b[39;00m j \u001b[39min\u001b[39;00m \u001b[39mrange\u001b[39m(\u001b[39m4\u001b[39m):\n\u001b[1;32m----> 8\u001b[0m         \u001b[39mif\u001b[39;00m (a[i][j] \u001b[39m*\u001b[39m b[i][j] \u001b[39m==\u001b[39m \u001b[39m1\u001b[39m):\n\u001b[0;32m      9\u001b[0m             res \u001b[39m=\u001b[39m \u001b[39m\"\u001b[39m\u001b[39m걸린다\u001b[39m\u001b[39m\"\u001b[39m\n\u001b[0;32m     10\u001b[0m             \u001b[39mbreak\u001b[39;00m;\n",
      "\u001b[1;31mIndexError\u001b[0m: list index out of range"
     ]
    }
   ],
   "source": [
    "a = [list(map(int, input().split())) for i in range(4)]\n",
    "_ = input()\n",
    "b = [list(map(int, input().split())) for i in range(4)]\n",
    "\n",
    "res = \"걸리지않는다\"\n",
    "\n",
    "for i in range(4):\n",
    "    for j in range(4):\n",
    "        if (a[i][j] * b[i][j] == 1):\n",
    "            res = \"걸리다\"\n",
    "            break;\n",
    "\n",
    "print(res)"
   ]
  },
  {
   "cell_type": "code",
   "execution_count": 10,
   "metadata": {},
   "outputs": [
    {
     "name": "stdout",
     "output_type": "stream",
     "text": [
      "ZABCDEF"
     ]
    }
   ],
   "source": [
    "a = ord(input())\n",
    "\n",
    "for i in range(a - 3, a + 4):\n",
    "    if (i > ord('Z')):\n",
    "        i -= 26\n",
    "    elif (i < ord('A')):\n",
    "        i += 26\n",
    "    \n",
    "    print(chr(i), end = '')"
   ]
  },
  {
   "cell_type": "code",
   "execution_count": 18,
   "metadata": {},
   "outputs": [
    {
     "name": "stdout",
     "output_type": "stream",
     "text": [
      "3 4 7 1\n",
      "3 4 7 1 4\n",
      "3 4 7 1 4 2\n",
      "3 4 7 1 4 2 8\n"
     ]
    }
   ],
   "source": [
    "a = list(map(int, input().split()))\n",
    "\n",
    "for i in range(4, 8):\n",
    "    print(*a[:i])\n"
   ]
  },
  {
   "cell_type": "code",
   "execution_count": 21,
   "metadata": {},
   "outputs": [
    {
     "name": "stdout",
     "output_type": "stream",
     "text": [
      "3 5 7 1 \n",
      "3 5 7 1 4 \n",
      "3 5 7 1 4 2 \n",
      "3 5 7 1 4 2 8 \n"
     ]
    }
   ],
   "source": [
    "a = list(map(int, input().split()))\n",
    "\n",
    "for i in range(4):\n",
    "    for j in range(0, 4 + i):\n",
    "        print(a[j], end = ' ')\n",
    "    print()"
   ]
  },
  {
   "cell_type": "code",
   "execution_count": 25,
   "metadata": {},
   "outputs": [
    {
     "name": "stdout",
     "output_type": "stream",
     "text": [
      "B\n",
      "BB\n",
      "BBQ\n",
      "BBQW\n",
      "BBQWO\n",
      "BBQWOR\n",
      "BBQWORL\n",
      "BBQWORLD\n"
     ]
    }
   ],
   "source": [
    "a = input()\n",
    "lg = len(a)\n",
    "\n",
    "for i in range(lg):\n",
    "    print(a[:i + 1])"
   ]
  },
  {
   "cell_type": "code",
   "execution_count": 30,
   "metadata": {},
   "outputs": [
    {
     "name": "stdout",
     "output_type": "stream",
     "text": [
      "1 2 3 3 3 4 6 7\n"
     ]
    }
   ],
   "source": [
    "a = list(map(int, input().split()))\n",
    "b = list(map(int, input().split()))\n",
    "lg = len(a) + len(b)\n",
    "idx1 = 0\n",
    "idx2 = 0\n",
    "res = []\n",
    "\n",
    "for i in range(lg):\n",
    "    if (idx1 == 4):\n",
    "        res += b[idx2:]\n",
    "        break;\n",
    "    if (idx2 == 4):\n",
    "        res += a[idx1:]\n",
    "        break;\n",
    "    \n",
    "    if (a[idx1] < b[idx2]):\n",
    "        res.append(a[idx1])\n",
    "        idx1 += 1\n",
    "    else:\n",
    "        res.append(b[idx2])\n",
    "        idx2 += 1\n",
    "\n",
    "print(*res)"
   ]
  },
  {
   "cell_type": "code",
   "execution_count": 8,
   "metadata": {},
   "outputs": [
    {
     "name": "stdout",
     "output_type": "stream",
     "text": [
      "(2,3)\n"
     ]
    }
   ],
   "source": [
    "lst = [\n",
    "    [3, 5, 4, 2, 5],\n",
    "    [3, 3, 3, 2, 1],\n",
    "    [3, 2, 6, 7, 8],\n",
    "    [9, 1, 1, 3, 2]\n",
    "    ]\n",
    "\n",
    "a, b = map(int, input().split())\n",
    "\n",
    "def sum_mat(row, col, i1, i2):\n",
    "    s = 0\n",
    "\n",
    "    for i in range(i1):\n",
    "        for j in range(i2):\n",
    "            s += lst[row + i][col + j]\n",
    "    \n",
    "    return s\n",
    "\n",
    "s = sum_mat(0, 0, a, b)\n",
    "idx = [0, 0]\n",
    "\n",
    "for i in range(4 + 1 - a):\n",
    "    for j in range(5 + 1 - b):\n",
    "        if (s < sum_mat(i, j, a, b)):\n",
    "            s = sum_mat(i, j, a, b)\n",
    "            idx = [i, j]\n",
    "\n",
    "print(f\"({idx[0]},{idx[1]})\")"
   ]
  },
  {
   "cell_type": "code",
   "execution_count": 9,
   "metadata": {},
   "outputs": [],
   "source": [
    "def BBQ(x):\n",
    "\n",
    "    if (x == 2):\n",
    "        return\n",
    "    \n",
    "    BBQ(x + 1)\n",
    "    BBQ(x + 1)\n",
    "    BBQ(x + 1)\n",
    "\n",
    "BBQ(0)"
   ]
  },
  {
   "cell_type": "code",
   "execution_count": 3,
   "metadata": {},
   "outputs": [
    {
     "name": "stdout",
     "output_type": "stream",
     "text": [
      "970103*******\n",
      "861123*******\n"
     ]
    }
   ],
   "source": [
    "def de_identify(crypt):\n",
    "    s = crypt[:6] + '*'*7\n",
    "\n",
    "    return s\n",
    "\n",
    "print(de_identify('970103-1234567'))\n",
    "print(de_identify('8611232345678'))"
   ]
  },
  {
   "cell_type": "code",
   "execution_count": 5,
   "metadata": {},
   "outputs": [
    {
     "name": "stdout",
     "output_type": "stream",
     "text": [
      "4500\n"
     ]
    }
   ],
   "source": [
    "grain_lst = [('고구마',3000), ('감자',2000), ('옥수수',4500),('토란',1300)]\n",
    "lst = sorted(grain_lst, key = lambda x:x[1])\n",
    "\n",
    "print(lst[-1][1])"
   ]
  },
  {
   "cell_type": "code",
   "execution_count": 7,
   "metadata": {},
   "outputs": [],
   "source": [
    "def count_vowels(st):\n",
    "    vowel = ['a', 'e', 'i', 'o', 'u']\n",
    "    cnt = 0\n",
    "\n",
    "    for i in st:\n",
    "        if (i in vowel):\n",
    "            cnt += 1\n",
    "    \n",
    "    print(cnt)"
   ]
  },
  {
   "cell_type": "code",
   "execution_count": 8,
   "metadata": {},
   "outputs": [
    {
     "name": "stdout",
     "output_type": "stream",
     "text": [
      "2\n",
      "3\n"
     ]
    }
   ],
   "source": [
    "count_vowels('apple') #=> 2\n",
    "count_vowels('banana') #=> 3\n"
   ]
  },
  {
   "cell_type": "code",
   "execution_count": 39,
   "metadata": {},
   "outputs": [
    {
     "name": "stdout",
     "output_type": "stream",
     "text": [
      "입장이 기록이 많은 Top3\n",
      "안도둑 10회\n",
      "임온실 9회\n",
      "이싸피 8회\n",
      "\n",
      "출입 기록이 수상한 사람\n",
      "최이썬은 입장 기록이 1회 더 많아 수상합니다.\n"
     ]
    }
   ],
   "source": [
    "entry_record = ['이싸피', '박장고', '조실습', '이싸피', '조실습', '오디비', '임온실', '조실습', '조실습', '이싸피', '안도둑', '임온실', '최이썬', '오디비', '안도둑', '염자바', '박장고', '조실습',\n",
    "                '최이썬', '조실습', '염자바', '박장고', '임온실', '임온실', '이싸피', '임온실', '오디비', '조실습', '염자바', '임온실', '박장고', '최이썬', '안도둑', '염자바', '임온실', '박장고', '이싸피', '안도둑',\n",
    "                '임온실', '오디비', '최이썬', '안도둑', '이싸피', '오디비', '안도둑', '이싸피', '박장고', '박장고', '안도둑', '안도둑', '안도둑', '염자바', '최이썬', '오디비', '오디비', '최이썬', '이싸피', '임온실', '안도둑']\n",
    "\n",
    "exit_record = ['최이썬', '조실습', '이싸피', '안도둑', '임온실', '안도둑', '이싸피', '오디비', '염자바', '박장고', '최이썬', '이싸피', '염자바', '염자바', '박장고', '임온실', '이싸피',\n",
    "               '박장고', '안도둑', '염자바', '이싸피', '조실습', '조실습', '임온실', '박장고', '이싸피', '조실습', '박장고', '오디비', '안도둑', '조실습', '임온실', '안도둑', '안도둑', '임온실', '조실습', '최이썬', '안도둑', '임온실',\n",
    "               '염자바', '이싸피', '임온실', '안도둑', '오디비', '안도둑', '오디비', '임온실', '염자바', '임온실', '박장고', '조실습', '이싸피', '최이썬', '최이썬', '오디비', '오디비', '염자바', '오디비', '안도둑', '박장고']\n",
    "\n",
    "from collections import Counter\n",
    "\n",
    "ent = Counter(entry_record)\n",
    "exi = Counter(exit_record)\n",
    "\n",
    "res1 = ent.most_common(3)\n",
    "res2 = ent - exi\n",
    "\n",
    "# 1.\n",
    "print(\"입장이 기록이 많은 Top3\")\n",
    "for key, value in res1:\n",
    "    print(f\"{key} {value}회\")\n",
    "\n",
    "print()\n",
    "\n",
    "# 2.\n",
    "print(\"출입 기록이 수상한 사람\")\n",
    "for key, value in res2.items():\n",
    "    if (value > 0):\n",
    "        print(f\"{key}은 입장 기록이 {value}회 더 많아 수상합니다.\")\n",
    "    else:\n",
    "        print(f\"{key}은 퇴장 기록이 {-value}회 더 많아 수상합니다.\")"
   ]
  },
  {
   "cell_type": "code",
   "execution_count": 51,
   "metadata": {},
   "outputs": [
    {
     "name": "stdout",
     "output_type": "stream",
     "text": [
      "16\n"
     ]
    }
   ],
   "source": [
    "def sum_of_digit2(n):\n",
    "    st = str(n)\n",
    "    s = 0\n",
    "\n",
    "    for i in st:\n",
    "        s += int(i)\n",
    "    \n",
    "    print(s)\n",
    "\n",
    "sum_of_digit2(3904)"
   ]
  },
  {
   "cell_type": "code",
   "execution_count": 50,
   "metadata": {},
   "outputs": [
    {
     "name": "stdout",
     "output_type": "stream",
     "text": [
      "16\n"
     ]
    }
   ],
   "source": [
    "def sum_of_digit(n):\n",
    "    st = list(str(n))\n",
    "    st = list(map(int, st))\n",
    "\n",
    "    print(sum(st))\n",
    "\n",
    "sum_of_digit(3904)"
   ]
  }
 ],
 "metadata": {
  "kernelspec": {
   "display_name": "Python 3",
   "language": "python",
   "name": "python3"
  },
  "language_info": {
   "codemirror_mode": {
    "name": "ipython",
    "version": 3
   },
   "file_extension": ".py",
   "mimetype": "text/x-python",
   "name": "python",
   "nbconvert_exporter": "python",
   "pygments_lexer": "ipython3",
   "version": "3.9.13"
  },
  "orig_nbformat": 4,
  "vscode": {
   "interpreter": {
    "hash": "b989fbffd3ec1c6d6c91005b2fa329057dfdc84b6f95ed35016e1b272fccc8a0"
   }
  }
 },
 "nbformat": 4,
 "nbformat_minor": 2
}
