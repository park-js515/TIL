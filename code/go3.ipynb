{
 "cells": [
  {
   "cell_type": "code",
   "execution_count": null,
   "metadata": {},
   "outputs": [],
   "source": [
    "lst = [5, 9, 4, 6, 1, 5, 8, 9]\n",
    "a, b = map(int, input().split())\n",
    "k = lst.index(b)\n",
    "\n",
    "print(abs(a - k))"
   ]
  },
  {
   "cell_type": "code",
   "execution_count": null,
   "metadata": {},
   "outputs": [],
   "source": [
    "lst = [5, 9, 4, 6, 1, 5, 8, 9]\n",
    "a, b = map(int, input().split())\n",
    "k = lst.index(b)\n",
    "\n",
    "try:\n",
    "    k2 =lst.index(b, k + 1)\n",
    "except:\n",
    "    k2 = -1\n",
    "\n",
    "if (k2 < 0):\n",
    "    print(abs(a - k))\n",
    "else:\n",
    "    temp = abs(a - k) if abs(a - k) < abs(a - k2) else abs(a - k2)\n",
    "    print(temp)"
   ]
  },
  {
   "cell_type": "code",
   "execution_count": null,
   "metadata": {},
   "outputs": [],
   "source": [
    "lst = [\n",
    "    list(\"ATKB\"),\n",
    "    list(\"CZFD\"),\n",
    "    list(\"HGEI\")\n",
    "]\n",
    "\n",
    "a, b, c = input().split()\n",
    "b, c = int(b), int(c)\n",
    "\n",
    "for i in range(len(lst)):\n",
    "    for j in range(len(lst[0])):\n",
    "        if (lst[i][j] == a):\n",
    "            row = i\n",
    "            col = j\n",
    "\n",
    "row += b\n",
    "col += c\n",
    "\n",
    "print(lst[row][col])"
   ]
  },
  {
   "cell_type": "code",
   "execution_count": null,
   "metadata": {},
   "outputs": [],
   "source": [
    "lst = [\n",
    "    [3, 5, 9],\n",
    "    [4, 2, 1],\n",
    "    [5, 1, 5]\n",
    "]\n",
    "\n",
    "def isExist(lst):\n",
    "    r = list(map(int, input().split()))\n",
    "    cnt = [0]*len(r)\n",
    "\n",
    "    for i in range(len(r)):\n",
    "        for j in lst:\n",
    "            if (r[i] in j):\n",
    "                cnt[i] += 1\n",
    "    \n",
    "    for i in range(len(r)):\n",
    "        if (cnt[i] > 0):\n",
    "            print(f\"{r[i]}:존재\")\n",
    "        else:\n",
    "            print(f\"{r[i]}:미발견\")\n",
    "\n",
    "isExist(lst)"
   ]
  },
  {
   "cell_type": "code",
   "execution_count": null,
   "metadata": {},
   "outputs": [],
   "source": [
    "lst1 = [\n",
    "    [0, 0, 0, 1],\n",
    "    [1, 1, 0, 1],\n",
    "    [1, 0, 0, 1],\n",
    "    [1, 1, 1, 1]\n",
    "]\n",
    "\n",
    "lst2 = [\n",
    "    [1, 1, 1, 1],\n",
    "    [1, 0, 1, 1],\n",
    "    [1, 0, 0, 0],\n",
    "    [1, 0, 0, 0]\n",
    "]\n",
    "\n",
    "lst3 = [[0]*4 for i in range(4)]\n",
    "\n",
    "for i in range(len(lst1)):\n",
    "    for j in range(len(lst1[0])):\n",
    "        lst3[i][j] = lst1[i][j] or lst2[i][j]\n",
    "\n",
    "for i in range(len(lst1)):\n",
    "    for j in range(len(lst1[0])):\n",
    "        if (not lst3[i][j]):\n",
    "            print(f\"({i},{j})\")"
   ]
  },
  {
   "cell_type": "code",
   "execution_count": null,
   "metadata": {},
   "outputs": [],
   "source": [
    "lst1 = [\n",
    "    [0, 0, 0, 1],\n",
    "    [1, 1, 0, 1],\n",
    "    [1, 0, 0, 1],\n",
    "    [1, 1, 1, 1]\n",
    "]\n",
    "\n",
    "lst2 = [\n",
    "    [1, 1, 1, 1],\n",
    "    [1, 0, 1, 1],\n",
    "    [1, 0, 0, 0],\n",
    "    [1, 0, 0, 0]\n",
    "]\n",
    "\n",
    "lst3 = [[0]*4 for i in range(4)]\n",
    "\n",
    "for i in range(len(lst1)):\n",
    "    for j in range(len(lst1[0])):\n",
    "        lst3[i][j] = lst1[i][j] or lst2[i][j]\n",
    "\n",
    "for i in range(len(lst1)):\n",
    "    for j in range(len(lst1[0])):\n",
    "        if (not lst3[i][j]):\n",
    "            print(f\"({i},{j})\")"
   ]
  },
  {
   "cell_type": "code",
   "execution_count": null,
   "metadata": {},
   "outputs": [],
   "source": [
    "lst1 = [\n",
    "    [0, 0, 1, 0, 0],\n",
    "    [0, 0, 1, 1, 1]\n",
    "]\n",
    "\n",
    "lst2 = [\n",
    "    [3, 5, 4, 1, 1],\n",
    "    [3, 5, 2, 5, 6]\n",
    "]\n",
    "\n",
    "lst = []\n",
    "\n",
    "for i in range(2):\n",
    "    for j in range(5):\n",
    "        if (lst1[i][j]):\n",
    "            lst.append(lst2[i][j])\n",
    "\n",
    "a = int(input())\n",
    "\n",
    "if (a in lst):\n",
    "    print(f\"{a} 존재\")\n",
    "else:\n",
    "    print(f\"{a} 없음\")"
   ]
  },
  {
   "cell_type": "code",
   "execution_count": null,
   "metadata": {},
   "outputs": [],
   "source": [
    "vect = list(\"BTKIGZ\")\n",
    "target = input().split()\n",
    "cnt = 0\n",
    "\n",
    "for i in target:\n",
    "    if (i in vect):\n",
    "        cnt += 1\n",
    "\n",
    "print(cnt)"
   ]
  },
  {
   "cell_type": "code",
   "execution_count": null,
   "metadata": {},
   "outputs": [],
   "source": [
    "vect = [\n",
    "    [3, 7, 4],\n",
    "    [2, 2, 4],\n",
    "    [2, 2, 5]\n",
    "]\n",
    "\n",
    "target = list(map(int, input().split()))\n",
    "vect1 = sum(vect, []) # 좋은데?\n",
    "dic1 = {}\n",
    "\n",
    "for i in target:\n",
    "    for j in vect1:\n",
    "        if (i  == j):\n",
    "            try:\n",
    "                dic1[i] += 1\n",
    "            except:\n",
    "                dic1[i] = 1\n",
    "\n",
    "res = list(sorted(dic1.keys(), key = lambda x: dic1[x], reverse = True))\n",
    "print(res[0])"
   ]
  }
 ],
 "metadata": {
  "kernelspec": {
   "display_name": "Python 3",
   "language": "python",
   "name": "python3"
  },
  "language_info": {
   "name": "python",
   "version": "3.9.13 (tags/v3.9.13:6de2ca5, May 17 2022, 16:36:42) [MSC v.1929 64 bit (AMD64)]"
  },
  "orig_nbformat": 4,
  "vscode": {
   "interpreter": {
    "hash": "b989fbffd3ec1c6d6c91005b2fa329057dfdc84b6f95ed35016e1b272fccc8a0"
   }
  }
 },
 "nbformat": 4,
 "nbformat_minor": 2
}
