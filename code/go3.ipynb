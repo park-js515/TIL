{
 "cells": [
  {
   "cell_type": "code",
   "execution_count": null,
   "metadata": {},
   "outputs": [],
   "source": [
    "lst = [5, 9, 4, 6, 1, 5, 8, 9]\n",
    "a, b = map(int, input().split())\n",
    "k = lst.index(b)\n",
    "\n",
    "print(abs(a - k))"
   ]
  },
  {
   "cell_type": "code",
   "execution_count": null,
   "metadata": {},
   "outputs": [],
   "source": [
    "lst = [5, 9, 4, 6, 1, 5, 8, 9]\n",
    "a, b = map(int, input().split())\n",
    "k = lst.index(b)\n",
    "\n",
    "try:\n",
    "    k2 =lst.index(b, k + 1)\n",
    "except:\n",
    "    k2 = -1\n",
    "\n",
    "if (k2 < 0):\n",
    "    print(abs(a - k))\n",
    "else:\n",
    "    temp = abs(a - k) if abs(a - k) < abs(a - k2) else abs(a - k2)\n",
    "    print(temp)"
   ]
  },
  {
   "cell_type": "code",
   "execution_count": null,
   "metadata": {},
   "outputs": [],
   "source": [
    "lst = [\n",
    "    list(\"ATKB\"),\n",
    "    list(\"CZFD\"),\n",
    "    list(\"HGEI\")\n",
    "]\n",
    "\n",
    "a, b, c = input().split()\n",
    "b, c = int(b), int(c)\n",
    "\n",
    "for i in range(len(lst)):\n",
    "    for j in range(len(lst[0])):\n",
    "        if (lst[i][j] == a):\n",
    "            row = i\n",
    "            col = j\n",
    "\n",
    "row += b\n",
    "col += c\n",
    "\n",
    "print(lst[row][col])"
   ]
  },
  {
   "cell_type": "code",
   "execution_count": null,
   "metadata": {},
   "outputs": [],
   "source": [
    "lst = [\n",
    "    [3, 5, 9],\n",
    "    [4, 2, 1],\n",
    "    [5, 1, 5]\n",
    "]\n",
    "\n",
    "def isExist(lst):\n",
    "    r = list(map(int, input().split()))\n",
    "    cnt = [0]*len(r)\n",
    "\n",
    "    for i in range(len(r)):\n",
    "        for j in lst:\n",
    "            if (r[i] in j):\n",
    "                cnt[i] += 1\n",
    "    \n",
    "    for i in range(len(r)):\n",
    "        if (cnt[i] > 0):\n",
    "            print(f\"{r[i]}:존재\")\n",
    "        else:\n",
    "            print(f\"{r[i]}:미발견\")\n",
    "\n",
    "isExist(lst)"
   ]
  },
  {
   "cell_type": "code",
   "execution_count": null,
   "metadata": {},
   "outputs": [],
   "source": [
    "lst1 = [\n",
    "    [0, 0, 0, 1],\n",
    "    [1, 1, 0, 1],\n",
    "    [1, 0, 0, 1],\n",
    "    [1, 1, 1, 1]\n",
    "]\n",
    "\n",
    "lst2 = [\n",
    "    [1, 1, 1, 1],\n",
    "    [1, 0, 1, 1],\n",
    "    [1, 0, 0, 0],\n",
    "    [1, 0, 0, 0]\n",
    "]\n",
    "\n",
    "lst3 = [[0]*4 for i in range(4)]\n",
    "\n",
    "for i in range(len(lst1)):\n",
    "    for j in range(len(lst1[0])):\n",
    "        lst3[i][j] = lst1[i][j] or lst2[i][j]\n",
    "\n",
    "for i in range(len(lst1)):\n",
    "    for j in range(len(lst1[0])):\n",
    "        if (not lst3[i][j]):\n",
    "            print(f\"({i},{j})\")"
   ]
  },
  {
   "cell_type": "code",
   "execution_count": null,
   "metadata": {},
   "outputs": [],
   "source": [
    "lst1 = [\n",
    "    [0, 0, 0, 1],\n",
    "    [1, 1, 0, 1],\n",
    "    [1, 0, 0, 1],\n",
    "    [1, 1, 1, 1]\n",
    "]\n",
    "\n",
    "lst2 = [\n",
    "    [1, 1, 1, 1],\n",
    "    [1, 0, 1, 1],\n",
    "    [1, 0, 0, 0],\n",
    "    [1, 0, 0, 0]\n",
    "]\n",
    "\n",
    "lst3 = [[0]*4 for i in range(4)]\n",
    "\n",
    "for i in range(len(lst1)):\n",
    "    for j in range(len(lst1[0])):\n",
    "        lst3[i][j] = lst1[i][j] or lst2[i][j]\n",
    "\n",
    "for i in range(len(lst1)):\n",
    "    for j in range(len(lst1[0])):\n",
    "        if (not lst3[i][j]):\n",
    "            print(f\"({i},{j})\")"
   ]
  },
  {
   "cell_type": "code",
   "execution_count": null,
   "metadata": {},
   "outputs": [],
   "source": [
    "lst1 = [\n",
    "    [0, 0, 1, 0, 0],\n",
    "    [0, 0, 1, 1, 1]\n",
    "]\n",
    "\n",
    "lst2 = [\n",
    "    [3, 5, 4, 1, 1],\n",
    "    [3, 5, 2, 5, 6]\n",
    "]\n",
    "\n",
    "lst = []\n",
    "\n",
    "for i in range(2):\n",
    "    for j in range(5):\n",
    "        if (lst1[i][j]):\n",
    "            lst.append(lst2[i][j])\n",
    "\n",
    "a = int(input())\n",
    "\n",
    "if (a in lst):\n",
    "    print(f\"{a} 존재\")\n",
    "else:\n",
    "    print(f\"{a} 없음\")"
   ]
  },
  {
   "cell_type": "code",
   "execution_count": null,
   "metadata": {},
   "outputs": [],
   "source": [
    "vect = list(\"BTKIGZ\")\n",
    "target = input().split()\n",
    "cnt = 0\n",
    "\n",
    "for i in target:\n",
    "    if (i in vect):\n",
    "        cnt += 1\n",
    "\n",
    "print(cnt)"
   ]
  },
  {
   "cell_type": "code",
   "execution_count": null,
   "metadata": {},
   "outputs": [],
   "source": [
    "vect = [\n",
    "    [3, 7, 4],\n",
    "    [2, 2, 4],\n",
    "    [2, 2, 5]\n",
    "]\n",
    "\n",
    "target = list(map(int, input().split()))\n",
    "vect1 = sum(vect, []) # 좋은데?\n",
    "dic1 = {}\n",
    "\n",
    "for i in target:\n",
    "    for j in vect1:\n",
    "        if (i  == j):\n",
    "            try:\n",
    "                dic1[i] += 1\n",
    "            except:\n",
    "                dic1[i] = 1\n",
    "\n",
    "res = list(sorted(dic1.keys(), key = lambda x: dic1[x], reverse = True))\n",
    "print(res[0])"
   ]
  },
  {
   "cell_type": "code",
   "execution_count": null,
   "metadata": {},
   "outputs": [],
   "source": [
    "def getSum(n):\n",
    "    lst = [3, 4, 1, 1, 2, 6, 8, 7, 8, 9, 10]\n",
    "    s = 0\n",
    "\n",
    "    for i in range(n, n + 5):\n",
    "        s += lst[i]\n",
    "\n",
    "    return s\n",
    "\n",
    "print(getSum(int(input())))"
   ]
  },
  {
   "cell_type": "code",
   "execution_count": null,
   "metadata": {},
   "outputs": [],
   "source": [
    "lst = [3, 7, 4, 1, 2, 6]\n",
    "univer = [list(map(int, input().split())) for i in range(2)]\n",
    "lst2 = [[0]*2 for i in range(2)]\n",
    "\n",
    "for i in range(2):\n",
    "    for j in range(2):\n",
    "        univer[i][j] = \"OK\" if (univer[i][j] in lst) else \"NO\"\n",
    "            \n",
    "for i in univer:\n",
    "    print(*i)"
   ]
  },
  {
   "cell_type": "code",
   "execution_count": null,
   "metadata": {},
   "outputs": [],
   "source": [
    "a = input()\n",
    "b = input()\n",
    "\n",
    "def isSame(a, b):\n",
    "    if (a == b):\n",
    "        return \"동명\"\n",
    "    else:\n",
    "        return \"남남\"\n",
    "\n",
    "print(isSame(a, b))"
   ]
  },
  {
   "cell_type": "code",
   "execution_count": null,
   "metadata": {},
   "outputs": [],
   "source": [
    "lst = [\n",
    "    list(\"GKT\"),\n",
    "    list(\"PAC\")\n",
    "]\n",
    "\n",
    "cnt = 0\n",
    "r = input().split()\n",
    "\n",
    "for i in r:\n",
    "    for j in lst:\n",
    "        if (i in j):\n",
    "            cnt += 1\n",
    "            break\n",
    "\n",
    "if (cnt == 2):\n",
    "    print(\"대발견\")\n",
    "elif (cnt == 1):\n",
    "    print(\"중발견\")\n",
    "else:\n",
    "    print(\"미발견\")"
   ]
  },
  {
   "cell_type": "code",
   "execution_count": null,
   "metadata": {},
   "outputs": [],
   "source": [
    "bit = list(map(int, input().split()))\n",
    "vect = [3, 5, 4, 2, 6, 6, 5]\n",
    "\n",
    "res = filter(lambda x: bit[x], range(len(bit)))\n",
    "lst = [0] * len(bit)\n",
    "\n",
    "for i in list(res):\n",
    "    lst[i] = vect[i]\n",
    "\n",
    "for i in range(len(lst)):\n",
    "    if (lst[i] != 0):\n",
    "        lst[i] = 7\n",
    "\n",
    "print(*lst, sep = '')"
   ]
  },
  {
   "cell_type": "code",
   "execution_count": null,
   "metadata": {},
   "outputs": [],
   "source": [
    "pwd = [3, 7, 4, 9]\n",
    "lst = list(map(int, input().split()))\n",
    "\n",
    "if (pwd == lst):\n",
    "    print(\"pass\")\n",
    "else:\n",
    "    print(\"fail\")"
   ]
  },
  {
   "cell_type": "code",
   "execution_count": null,
   "metadata": {},
   "outputs": [],
   "source": [
    "lst = [\n",
    "    [10 ,20],\n",
    "    [30, 60],\n",
    "    [100, 150],\n",
    "    [200, 300]\n",
    "]\n",
    "\n",
    "lst2 = [0]*4\n",
    "\n",
    "r = list(map(int, input().split()))\n",
    "\n",
    "for i in r:\n",
    "    for j in range(len(lst)):\n",
    "        if (i >= lst[j][0] and i <= lst[j][1]):\n",
    "            lst2[j] += 1\n",
    "\n",
    "for i in range(len(lst2)):\n",
    "    print(f\"lev{i}:{lst2[i]}\")"
   ]
  },
  {
   "cell_type": "code",
   "execution_count": null,
   "metadata": {},
   "outputs": [],
   "source": [
    "map1 = [\n",
    "    [3, 55, 42],\n",
    "    [-5, -9, -10]\n",
    "]\n",
    "map2 = sum(map1, [])\n",
    "pix = [list(map(int, input().split())) for i in range(2)]\n",
    "lst = [['N']*2 for i in range(2)]\n",
    "\n",
    "for i in range(len(pix)):\n",
    "    for j in range(len(pix[0])):\n",
    "        if (pix[i][j] in map2):\n",
    "            lst[i][j] = 'Y'\n",
    "\n",
    "for i in lst:\n",
    "    print(*i)"
   ]
  },
  {
   "cell_type": "code",
   "execution_count": null,
   "metadata": {},
   "outputs": [],
   "source": [
    "arr = list(map(int, input().split()))\n",
    "mask = [1, 0, 1, 0, 1, 0]\n",
    "fil1 = list(filter(lambda x:mask[x], range(len(mask))))\n",
    "lst = []\n",
    "\n",
    "m = arr[fil1[0]]\n",
    "idx = fil1[0]\n",
    "\n",
    "for i in range(len(fil1)):\n",
    "    if (m > arr[fil1[i]]):\n",
    "        m = arr[fil1[i]]\n",
    "        idx = fil1[i]\n",
    "\n",
    "print(f\"arr[{idx}]={m}\")"
   ]
  },
  {
   "cell_type": "code",
   "execution_count": null,
   "metadata": {},
   "outputs": [],
   "source": [
    "def bbq(n):\n",
    "\n",
    "    if n == 3:\n",
    "        return\n",
    "\n",
    "    bbq(n + 1)\n",
    "\n",
    "bbq(0)\n"
   ]
  },
  {
   "cell_type": "code",
   "execution_count": null,
   "metadata": {},
   "outputs": [],
   "source": [
    "def cntd(n):\n",
    "    print(n, end = ' ')\n",
    "\n",
    "    if (n == 0):\n",
    "        return\n",
    "    \n",
    "    cntd(n - 1)\n",
    "    print(n, end = ' ')\n",
    "\n",
    "\n",
    "cntd(int(input()))"
   ]
  },
  {
   "cell_type": "code",
   "execution_count": null,
   "metadata": {},
   "outputs": [],
   "source": [
    "def recur(n):\n",
    "\n",
    "    print(n, end = ' ')\n",
    "    if (n == 5):\n",
    "        return\n",
    "    \n",
    "    recur(n + 1)\n",
    "    print(n, end = ' ')\n",
    "\n",
    "recur(0)"
   ]
  },
  {
   "cell_type": "code",
   "execution_count": null,
   "metadata": {},
   "outputs": [],
   "source": [
    "def abc(n, k = 0):\n",
    "    k2 = k\n",
    "\n",
    "    if (k == 3):\n",
    "        print(n, end = ' ')\n",
    "        return\n",
    "    \n",
    "    abc(n + 2, k = k2 + 1)\n",
    "    print(n, end = ' ')\n",
    "\n",
    "abc(int(input()))"
   ]
  },
  {
   "cell_type": "code",
   "execution_count": null,
   "metadata": {},
   "outputs": [],
   "source": [
    "st = input()\n",
    "def abcd(n):\n",
    "    \n",
    "    print(st[n], end = '')\n",
    "    \n",
    "    if (n == len(st) - 1):\n",
    "        print('\\n',st[n], end = '', sep = '')\n",
    "        return\n",
    "    \n",
    "    abcd(n + 1)\n",
    "    print(st[n], end = '')\n",
    "\n",
    "abcd(0)"
   ]
  },
  {
   "cell_type": "code",
   "execution_count": null,
   "metadata": {},
   "outputs": [],
   "source": [
    "a, b = map(int, input().split())\n",
    "\n",
    "def ftn1(a, b):\n",
    "    \n",
    "    print(a, end = ' ')\n",
    "\n",
    "    if (a == b):\n",
    "        return\n",
    "    \n",
    "    ftn1(a + 1, b)\n",
    "    print(a, end = ' ')\n",
    "\n",
    "ftn1(a, b)"
   ]
  },
  {
   "cell_type": "code",
   "execution_count": null,
   "metadata": {},
   "outputs": [],
   "source": [
    "lst = [3, 7, 4, 1, 9, 4, 6, 2]\n",
    "\n",
    "def ftn2(n):\n",
    "    print(lst[n], end = ' ')\n",
    "\n",
    "    if (n == 0):\n",
    "        return\n",
    "    \n",
    "    ftn2(n - 1)\n",
    "    print(lst[n], end = ' ')\n",
    "\n",
    "ftn2(int(input()))"
   ]
  },
  {
   "cell_type": "code",
   "execution_count": null,
   "metadata": {},
   "outputs": [],
   "source": [
    "a = int(input())\n",
    "\n",
    "def ftn3(n):\n",
    "\n",
    "    if (n == 0):\n",
    "        return\n",
    "    \n",
    "    ftn3(n // 2)\n",
    "    print(n, end = ' ')\n",
    "\n",
    "ftn3(a)"
   ]
  },
  {
   "cell_type": "code",
   "execution_count": null,
   "metadata": {},
   "outputs": [],
   "source": [
    "def ftn4(n):\n",
    "\n",
    "    if n == 2:\n",
    "        return\n",
    "    \n",
    "    ftn4(n + 1)\n",
    "\n",
    "ftn4(0)"
   ]
  },
  {
   "cell_type": "code",
   "execution_count": null,
   "metadata": {},
   "outputs": [],
   "source": [
    "r = input()\n",
    "\n",
    "for i in range(len(r)):\n",
    "    temp = len(r) - 1 - i\n",
    "    print(r[temp:])"
   ]
  },
  {
   "cell_type": "code",
   "execution_count": null,
   "metadata": {},
   "outputs": [],
   "source": [
    "r = input()\n",
    "lg = len(r) // 2\n",
    "a, b = r[:lg], r[lg:]\n",
    "\n",
    "if (a == b):\n",
    "    print(\"동일한문장\")\n",
    "else:\n",
    "    print(\"다른문장\")"
   ]
  },
  {
   "cell_type": "code",
   "execution_count": null,
   "metadata": {},
   "outputs": [],
   "source": [
    "a = [list(map(int, input().split())) for i in range(4)]\n",
    "_ = input()\n",
    "b = [list(map(int, input().split())) for i in range(4)]\n",
    "\n",
    "res = \"걸리지않는다\"\n",
    "\n",
    "for i in range(4):\n",
    "    for j in range(4):\n",
    "        if (a[i][j] * b[i][j] == 1):\n",
    "            res = \"걸리다\"\n",
    "            break;\n",
    "\n",
    "print(res)"
   ]
  },
  {
   "cell_type": "code",
   "execution_count": null,
   "metadata": {},
   "outputs": [],
   "source": [
    "a = ord(input())\n",
    "\n",
    "for i in range(a - 3, a + 4):\n",
    "    if (i > ord('Z')):\n",
    "        i -= 26\n",
    "    elif (i < ord('A')):\n",
    "        i += 26\n",
    "    \n",
    "    print(chr(i), end = '')"
   ]
  },
  {
   "cell_type": "code",
   "execution_count": null,
   "metadata": {},
   "outputs": [],
   "source": [
    "a = list(map(int, input().split()))\n",
    "\n",
    "for i in range(4, 8):\n",
    "    print(*a[:i])\n"
   ]
  },
  {
   "cell_type": "code",
   "execution_count": null,
   "metadata": {},
   "outputs": [],
   "source": [
    "a = list(map(int, input().split()))\n",
    "\n",
    "for i in range(4):\n",
    "    for j in range(0, 4 + i):\n",
    "        print(a[j], end = ' ')\n",
    "    print()"
   ]
  },
  {
   "cell_type": "code",
   "execution_count": null,
   "metadata": {},
   "outputs": [],
   "source": [
    "a = input()\n",
    "lg = len(a)\n",
    "\n",
    "for i in range(lg):\n",
    "    print(a[:i + 1])"
   ]
  },
  {
   "cell_type": "code",
   "execution_count": null,
   "metadata": {},
   "outputs": [],
   "source": [
    "a = list(map(int, input().split()))\n",
    "b = list(map(int, input().split()))\n",
    "lg = len(a) + len(b)\n",
    "idx1 = 0\n",
    "idx2 = 0\n",
    "res = []\n",
    "\n",
    "for i in range(lg):\n",
    "    if (idx1 == 4):\n",
    "        res += b[idx2:]\n",
    "        break;\n",
    "    if (idx2 == 4):\n",
    "        res += a[idx1:]\n",
    "        break;\n",
    "    \n",
    "    if (a[idx1] < b[idx2]):\n",
    "        res.append(a[idx1])\n",
    "        idx1 += 1\n",
    "    else:\n",
    "        res.append(b[idx2])\n",
    "        idx2 += 1\n",
    "\n",
    "print(*res)"
   ]
  },
  {
   "cell_type": "code",
   "execution_count": null,
   "metadata": {},
   "outputs": [],
   "source": [
    "lst = [\n",
    "    [3, 5, 4, 2, 5],\n",
    "    [3, 3, 3, 2, 1],\n",
    "    [3, 2, 6, 7, 8],\n",
    "    [9, 1, 1, 3, 2]\n",
    "    ]\n",
    "\n",
    "a, b = map(int, input().split())\n",
    "\n",
    "def sum_mat(row, col, i1, i2):\n",
    "    s = 0\n",
    "\n",
    "    for i in range(i1):\n",
    "        for j in range(i2):\n",
    "            s += lst[row + i][col + j]\n",
    "    \n",
    "    return s\n",
    "\n",
    "s = sum_mat(0, 0, a, b)\n",
    "idx = [0, 0]\n",
    "\n",
    "for i in range(4 + 1 - a):\n",
    "    for j in range(5 + 1 - b):\n",
    "        if (s < sum_mat(i, j, a, b)):\n",
    "            s = sum_mat(i, j, a, b)\n",
    "            idx = [i, j]\n",
    "\n",
    "print(f\"({idx[0]},{idx[1]})\")"
   ]
  },
  {
   "cell_type": "code",
   "execution_count": null,
   "metadata": {},
   "outputs": [],
   "source": [
    "def BBQ(x):\n",
    "\n",
    "    if (x == 2):\n",
    "        return\n",
    "    \n",
    "    BBQ(x + 1)\n",
    "    BBQ(x + 1)\n",
    "    BBQ(x + 1)\n",
    "\n",
    "BBQ(0)"
   ]
  },
  {
   "cell_type": "code",
   "execution_count": null,
   "metadata": {},
   "outputs": [],
   "source": [
    "def de_identify(crypt):\n",
    "    s = crypt[:6] + '*'*7\n",
    "\n",
    "    return s\n",
    "\n",
    "print(de_identify('970103-1234567'))\n",
    "print(de_identify('8611232345678'))"
   ]
  },
  {
   "cell_type": "code",
   "execution_count": null,
   "metadata": {},
   "outputs": [],
   "source": [
    "grain_lst = [('고구마',3000), ('감자',2000), ('옥수수',4500),('토란',1300)]\n",
    "lst = sorted(grain_lst, key = lambda x:x[1])\n",
    "\n",
    "print(lst[-1][1])"
   ]
  },
  {
   "cell_type": "code",
   "execution_count": null,
   "metadata": {},
   "outputs": [],
   "source": [
    "def count_vowels(st):\n",
    "    vowel = ['a', 'e', 'i', 'o', 'u']\n",
    "    cnt = 0\n",
    "\n",
    "    for i in st:\n",
    "        if (i in vowel):\n",
    "            cnt += 1\n",
    "    \n",
    "    print(cnt)"
   ]
  },
  {
   "cell_type": "code",
   "execution_count": null,
   "metadata": {},
   "outputs": [],
   "source": [
    "count_vowels('apple') #=> 2\n",
    "count_vowels('banana') #=> 3\n"
   ]
  },
  {
   "cell_type": "code",
   "execution_count": null,
   "metadata": {},
   "outputs": [],
   "source": [
    "entry_record = ['이싸피', '박장고', '조실습', '이싸피', '조실습', '오디비', '임온실', '조실습', '조실습', '이싸피', '안도둑', '임온실', '최이썬', '오디비', '안도둑', '염자바', '박장고', '조실습',\n",
    "                '최이썬', '조실습', '염자바', '박장고', '임온실', '임온실', '이싸피', '임온실', '오디비', '조실습', '염자바', '임온실', '박장고', '최이썬', '안도둑', '염자바', '임온실', '박장고', '이싸피', '안도둑',\n",
    "                '임온실', '오디비', '최이썬', '안도둑', '이싸피', '오디비', '안도둑', '이싸피', '박장고', '박장고', '안도둑', '안도둑', '안도둑', '염자바', '최이썬', '오디비', '오디비', '최이썬', '이싸피', '임온실', '안도둑']\n",
    "\n",
    "exit_record = ['최이썬', '조실습', '이싸피', '안도둑', '임온실', '안도둑', '이싸피', '오디비', '염자바', '박장고', '최이썬', '이싸피', '염자바', '염자바', '박장고', '임온실', '이싸피',\n",
    "               '박장고', '안도둑', '염자바', '이싸피', '조실습', '조실습', '임온실', '박장고', '이싸피', '조실습', '박장고', '오디비', '안도둑', '조실습', '임온실', '안도둑', '안도둑', '임온실', '조실습', '최이썬', '안도둑', '임온실',\n",
    "               '염자바', '이싸피', '임온실', '안도둑', '오디비', '안도둑', '오디비', '임온실', '염자바', '임온실', '박장고', '조실습', '이싸피', '최이썬', '최이썬', '오디비', '오디비', '염자바', '오디비', '안도둑', '박장고']\n",
    "\n",
    "from collections import Counter\n",
    "\n",
    "ent = Counter(entry_record)\n",
    "exi = Counter(exit_record)\n",
    "\n",
    "res1 = ent.most_common(3)\n",
    "res2 = ent - exi\n",
    "\n",
    "# 1.\n",
    "print(\"입장이 기록이 많은 Top3\")\n",
    "for key, value in res1:\n",
    "    print(f\"{key} {value}회\")\n",
    "\n",
    "print()\n",
    "\n",
    "# 2.\n",
    "print(\"출입 기록이 수상한 사람\")\n",
    "for key, value in res2.items():\n",
    "    if (value > 0):\n",
    "        print(f\"{key}은 입장 기록이 {value}회 더 많아 수상합니다.\")\n",
    "    else:\n",
    "        print(f\"{key}은 퇴장 기록이 {-value}회 더 많아 수상합니다.\")"
   ]
  },
  {
   "cell_type": "code",
   "execution_count": null,
   "metadata": {},
   "outputs": [],
   "source": [
    "def sum_of_digit2(n):\n",
    "    st = str(n)\n",
    "    s = 0\n",
    "\n",
    "    for i in st:\n",
    "        s += int(i)\n",
    "    \n",
    "    print(s)\n",
    "\n",
    "sum_of_digit2(3904)"
   ]
  },
  {
   "cell_type": "code",
   "execution_count": null,
   "metadata": {},
   "outputs": [],
   "source": [
    "def sum_of_digit(n):\n",
    "    st = list(str(n))\n",
    "    st = list(map(int, st))\n",
    "\n",
    "    print(sum(st))\n",
    "\n",
    "sum_of_digit(3904)"
   ]
  },
  {
   "cell_type": "code",
   "execution_count": null,
   "metadata": {},
   "outputs": [],
   "source": [
    "def same(s, s2):\n",
    "    if (len(s) != len(s2)):\n",
    "        return False\n",
    "    \n",
    "    for i in range(len(s)):\n",
    "        if (s[i] != s2[i]):\n",
    "            return False\n",
    "        \n",
    "    return True\n",
    "\n",
    "\n",
    "def log_in(id, pwd):\n",
    "    idt = \"qlqlaqkq\"\n",
    "    pwdt = \"tkaruqtkf\"\n",
    "\n",
    "    res1 = same(id, idt)\n",
    "    res2 = same(pwd, pwdt)\n",
    "\n",
    "    if (res1 * res2 == 1):\n",
    "        return \"LOGIN\"\n",
    "    else:\n",
    "        return \"INVALID\"\n",
    "    \n",
    "\n",
    "print(log_in(input(), input()))\n",
    "    "
   ]
  },
  {
   "cell_type": "code",
   "execution_count": null,
   "metadata": {},
   "outputs": [],
   "source": [
    "level = int(input())\n",
    "branch = int(input())\n",
    "\n",
    "def ftn1(n):\n",
    "\n",
    "    # print(n)\n",
    "    if (n >= level):\n",
    "        return\n",
    "\n",
    "    for i in range(branch):\n",
    "        ftn1(n + 1)\n",
    "    \n",
    "    \n",
    "\n",
    "ftn1(0)"
   ]
  },
  {
   "cell_type": "code",
   "execution_count": null,
   "metadata": {},
   "outputs": [],
   "source": [
    "level = int(input())\n",
    "\n",
    "def ftn2(n):\n",
    "\n",
    "    print(n, end = '')\n",
    "    if (n >= level):\n",
    "        return\n",
    "    \n",
    "    for i in range(2):\n",
    "        ftn2(n + 1)\n",
    "\n",
    "ftn2(0)"
   ]
  },
  {
   "cell_type": "code",
   "execution_count": null,
   "metadata": {},
   "outputs": [],
   "source": [
    "lst = [input() for i in range(3)]\n",
    "lst2 = [len(i) for i in lst]\n",
    "n = lst2[0]\n",
    "idx = 0\n",
    "\n",
    "for i in range(len(lst2)):\n",
    "    if n < lst2[i]:\n",
    "        n = lst2[i]\n",
    "        idx = i\n",
    "\n",
    "if (idx != 0):\n",
    "    lst[0], lst[idx] = lst[idx], lst[0]\n",
    "\n",
    "for i in lst:\n",
    "    print(i)"
   ]
  },
  {
   "cell_type": "code",
   "execution_count": null,
   "metadata": {},
   "outputs": [],
   "source": [
    "br, le = map(int, input().split())\n",
    "s = 0\n",
    "\n",
    "def ftn3(n):\n",
    "    global s\n",
    "\n",
    "    if (n == le):\n",
    "        return \n",
    "    \n",
    "    for i in range(br):\n",
    "        ftn3(n + 1)\n",
    "        s += 1\n",
    "    \n",
    "    return s + 1\n",
    "\n",
    "print(ftn3(0))"
   ]
  },
  {
   "cell_type": "code",
   "execution_count": null,
   "metadata": {},
   "outputs": [],
   "source": [
    "lg = len(input())\n",
    "\n",
    "def ftn4(n):\n",
    "\n",
    "    print(n, end = ' ')\n",
    "\n",
    "    if (n == 1):\n",
    "        return\n",
    "    \n",
    "    ftn4(n - 1)\n",
    "    print(n, end = ' ')\n",
    "\n",
    "ftn4(lg)\n",
    "    "
   ]
  },
  {
   "cell_type": "code",
   "execution_count": null,
   "metadata": {},
   "outputs": [],
   "source": [
    "# 딕셔너리를 활용한 스위치문\n",
    "def switch(x):\n",
    "    res = {\"up\": [-1, 0], \"down\": [1, 0], \"left\": [0, -1], \"right\": [0, 1]}.get(x)\n",
    "\n",
    "    return res\n",
    "\n",
    "\n",
    "def ftn5():\n",
    "    a = int(input())\n",
    "    row, col = 5, 5\n",
    "\n",
    "    for i in range(a):\n",
    "        b = input()\n",
    "        if (b != \"click\"):\n",
    "            temp = switch(b)\n",
    "            row = row + temp[0]\n",
    "            col = col + temp[1]\n",
    "        else:\n",
    "            print(f\"{row},{col}\")\n",
    "\n",
    "\n",
    "ftn5()"
   ]
  },
  {
   "cell_type": "code",
   "execution_count": null,
   "metadata": {},
   "outputs": [],
   "source": [
    "lst = [list(input()) for i in range(4)]\n",
    "idx1 = None\n",
    "idx2 = None\n",
    "\n",
    "for i in range(len(lst)):\n",
    "    for j in range(len(lst[0])):\n",
    "        if (lst[i][j] == 'A'):\n",
    "            idx1 = [i, j]\n",
    "        \n",
    "        if (lst[i][j] == 'B'):\n",
    "            idx2 = [i, j]\n",
    "        \n",
    "        if (idx1 is not None and idx2 is not None):\n",
    "            break;\n",
    "\n",
    "res = abs(idx1[0] - idx2[0]) + abs(idx1[1] - idx2[1])\n",
    "print(res)"
   ]
  },
  {
   "cell_type": "code",
   "execution_count": null,
   "metadata": {},
   "outputs": [],
   "source": [
    "lst = [\n",
    "    [3, 4, 1, 5],\n",
    "    [3, 4, 1, 3],\n",
    "    [5, 2, 3, 6]\n",
    "    ]\n",
    "\n",
    "s = []\n",
    "\n",
    "for i in range(len(lst[0])):\n",
    "    temp = 0\n",
    "    for j in range(len(lst)):\n",
    "        temp += lst[j][i]\n",
    "    s.append(temp)\n",
    "\n",
    "print(s[int(input())])"
   ]
  },
  {
   "cell_type": "code",
   "execution_count": null,
   "metadata": {},
   "outputs": [],
   "source": [
    "import copy\n",
    "st1 = input()\n",
    "st2 = list(copy.deepcopy(st1))\n",
    "lg = len(st1)\n",
    "lst = list(input().split())\n",
    "\n",
    "for i in lst:\n",
    "    \n",
    "    if i not in st1:\n",
    "        pass\n",
    "    else:\n",
    "        idx = st1.index(i)\n",
    "        left = idx - 1\n",
    "        right = idx + 1\n",
    "\n",
    "        if (left in range(lg)):\n",
    "            st2[left] = '#'\n",
    "        if (right in range(lg)):\n",
    "            st2[right] = '#'\n",
    "\n",
    "\n",
    "print(*st2, sep = '')"
   ]
  },
  {
   "cell_type": "code",
   "execution_count": null,
   "metadata": {},
   "outputs": [],
   "source": [
    "lst = [list(input()) for i in range(4)]\n",
    "residual = {0: [], 1: [], 2: []}\n",
    "\n",
    "for i in range(len(lst)):\n",
    "    for j in range(len(lst[0])):\n",
    "        if (lst[i][j].isalpha()):\n",
    "            residual[j].append(lst[i][j])\n",
    "\n",
    "for i in range(3):\n",
    "    temp = 4 - len(residual[i])\n",
    "    residual[i] = ['_']*temp + residual[i]\n",
    "\n",
    "lst2 = []\n",
    "\n",
    "for i, j, k in zip(*residual.values()):\n",
    "    lst2.append([i, j, k])\n",
    "\n",
    "for i in lst2:\n",
    "    print(*i, sep = '')"
   ]
  },
  {
   "cell_type": "code",
   "execution_count": null,
   "metadata": {},
   "outputs": [],
   "source": [
    "vect = list(map(int, input().split()))\n",
    "bucket = [0]*10\n",
    "\n",
    "for i in vect:\n",
    "    bucket[i] += 1\n",
    "\n",
    "for i in range(len(bucket)):\n",
    "    for j in range(bucket[i]):\n",
    "        print(i, end = ' ')"
   ]
  },
  {
   "cell_type": "code",
   "execution_count": null,
   "metadata": {},
   "outputs": [],
   "source": [
    "lst = [\n",
    "    [1, 5, 3],\n",
    "    [4, 5, 5],\n",
    "    [3, 3, 5],\n",
    "    [4, 6, 2]\n",
    "    ]\n",
    "\n",
    "r = list(map(int, input().split()))\n",
    "\n",
    "for i in range(len(lst)):\n",
    "    for j in range(len(lst[0])):\n",
    "        if (lst[i][j] in r):\n",
    "            lst[i][j] = 0\n",
    "\n",
    "for i in range(len(lst)):\n",
    "    for j in range(len(lst[0])):\n",
    "        if (lst[i][j] == 0):\n",
    "            print('#', end = ' ')\n",
    "        else:\n",
    "            print(lst[i][j], end = ' ')\n",
    "    \n",
    "    print()\n"
   ]
  },
  {
   "cell_type": "code",
   "execution_count": null,
   "metadata": {},
   "outputs": [],
   "source": [
    "lst = [\n",
    "    [0]*7,\n",
    "    [0, 0, 2, 0, 2, 0, 0],\n",
    "    [0, 2, 1, 0, 1, 2, 0],\n",
    "    [0, 0, 2, 1, 2, 0, 0],\n",
    "    [0, 0, 1, 2, 0, 2, 0],\n",
    "    [0, 2, 2, 0, 0, 0, 0],\n",
    "    [0]*7\n",
    "]\n",
    "idx = []\n",
    "\n",
    "for i in range(7):\n",
    "    for j in range(7):\n",
    "        if (lst[i][j] == 1):\n",
    "            idx.append([i, j])\n",
    "\n",
    "row, col = map(int, input().split())\n",
    "lst[row][col] += 2\n",
    "\n",
    "cnt = 0\n",
    "direct = [\n",
    "    [0, 0, -1, 1],\n",
    "    [-1, 1, 0, 0]\n",
    "    ]\n",
    "\n",
    "for i in idx:\n",
    "    s = 0\n",
    "    for j, k in zip(*direct):\n",
    "        drow = i[0] + j\n",
    "        dcol = i[1] + k\n",
    "        s += lst[drow][dcol]\n",
    "    \n",
    "    if (s == 8):\n",
    "        cnt += 1\n",
    "\n",
    "print(cnt)\n"
   ]
  },
  {
   "cell_type": "code",
   "execution_count": null,
   "metadata": {},
   "outputs": [],
   "source": [
    "lst = [\n",
    "    ['_']*3,\n",
    "    ['_']*3,\n",
    "    list(\"ATK\"),\n",
    "    ['_']*3,\n",
    "    ['_']*3\n",
    "    ]\n",
    "\n",
    "# UP, DOWN, LEFT, RIGHT\n",
    "def switch(direct):\n",
    "    res = {\"UP\": [-1, 0], \"DOWN\": [1, 0], \"LEFT\": [0, -1], \"RIGHT\": [0, 1]}.get(direct)\n",
    "    \n",
    "    return res\n",
    "\n",
    "def move(a, direct):\n",
    "    for i in range(5):\n",
    "        for j in range(3):\n",
    "            if (lst[i][j] == a):\n",
    "                idx = [i, j]\n",
    "                break;\n",
    "    \n",
    "    temp = switch(direct)\n",
    "    idx2 = [idx[0] + temp[0], idx[1] + temp[1]]\n",
    "\n",
    "    lst[idx[0]][idx[1]], lst[idx2[0]][idx2[1]] = lst[idx2[0]][idx2[1]], lst[idx[0]][idx[1]]\n",
    "\n",
    "for i in range(7):\n",
    "    a, direct = input().split()\n",
    "    move(a, direct)\n",
    "\n",
    "for i in lst:\n",
    "    print(*i, sep = '')"
   ]
  },
  {
   "cell_type": "code",
   "execution_count": null,
   "metadata": {},
   "outputs": [],
   "source": [
    "st = \"\"\n",
    "def ftn1(n):\n",
    "    global st\n",
    "\n",
    "    if n == 2:\n",
    "        print(st)\n",
    "        return\n",
    "    \n",
    "    for i in range(3):\n",
    "        st += chr(ord('A') + i)\n",
    "        ftn1(n + 1)\n",
    "        st = st[:1]\n",
    "    \n",
    "    st = ''\n",
    "\n",
    "ftn1(0)"
   ]
  },
  {
   "cell_type": "code",
   "execution_count": null,
   "metadata": {},
   "outputs": [],
   "source": [
    "def same(a, b):\n",
    "    if (len(a) != len(b)):\n",
    "        return 0\n",
    "    \n",
    "    for i in range(len(a)):\n",
    "        if (a[i] != b[i]):\n",
    "            return 0\n",
    "    \n",
    "    return 1\n",
    "\n",
    "a = input()\n",
    "b = input()\n",
    "c = input()\n",
    "\n",
    "res = same(a, b) + same(b, c) + same(a, c)\n",
    "\n",
    "if (res == 3):\n",
    "    print(\"WOW\")\n",
    "elif (res == 1):\n",
    "    print(\"GOOD\")\n",
    "else:\n",
    "    print(\"BAD\")"
   ]
  },
  {
   "cell_type": "code",
   "execution_count": null,
   "metadata": {},
   "outputs": [],
   "source": [
    "a = input()\n",
    "print(a)\n",
    "print(a[::-1])"
   ]
  },
  {
   "cell_type": "code",
   "execution_count": null,
   "metadata": {},
   "outputs": [],
   "source": [
    "# 기준은 a, 비교 대상은 b\n",
    "def after(a, b):\n",
    "    lg1 = len(a)\n",
    "    lg2 = len(b)\n",
    "\n",
    "    for i in range(lg2 - lg1):\n",
    "        cnt = 0\n",
    "        for j in range(lg1):\n",
    "            if (a[j] == b[i + j]):\n",
    "                cnt += 1\n",
    "            if (cnt == lg1):\n",
    "                return 'O'\n",
    "    \n",
    "    return 'X'\n",
    "\n",
    "a = input()\n",
    "b = int(input())\n",
    "\n",
    "for i in range(b):\n",
    "    print(after(a, input()))"
   ]
  },
  {
   "cell_type": "code",
   "execution_count": 3,
   "metadata": {},
   "outputs": [
    {
     "name": "stdout",
     "output_type": "stream",
     "text": [
      "A\n",
      "G\n"
     ]
    }
   ],
   "source": [
    "lst = list(input())\n",
    "lg = ord('Z') - ord('A') + 1\n",
    "lst2 = [0]*lg\n",
    "\n",
    "for i in lst:\n",
    "    lst2[ord(i) - ord('A')] += 1\n",
    "\n",
    "ma = max(lst2)\n",
    "mi = min(lst2)\n",
    "\n",
    "idx = lst2.index(ma)\n",
    "idx2 = lst2.index(mi)\n",
    "\n",
    "print(chr(idx + ord('A')))\n",
    "print(chr(idx2 + ord('A')))"
   ]
  },
  {
   "cell_type": "code",
   "execution_count": 7,
   "metadata": {},
   "outputs": [
    {
     "name": "stdout",
     "output_type": "stream",
     "text": [
      "2\n"
     ]
    }
   ],
   "source": [
    "def MCD(st):\n",
    "    a = \"MCD\"\n",
    "    lg = len(st)\n",
    "    cnt = 0\n",
    "\n",
    "    for i in range(lg - 3 + 1):\n",
    "        temp = 0\n",
    "        for j in range(3):\n",
    "            if (a[j] == st[i + j]):\n",
    "                temp += 1\n",
    "            if (temp == 3):\n",
    "                cnt += 1\n",
    "    \n",
    "    return cnt\n",
    "\n",
    "s = 0\n",
    "\n",
    "for i in range(5):\n",
    "    s += MCD(input())\n",
    "\n",
    "print(s)"
   ]
  },
  {
   "cell_type": "code",
   "execution_count": 9,
   "metadata": {},
   "outputs": [
    {
     "name": "stdout",
     "output_type": "stream",
     "text": [
      "80%\n"
     ]
    }
   ],
   "source": [
    "st = input()\n",
    "st2 = ''\n",
    "\n",
    "for i in st:\n",
    "    if (i >= 'A' and i <= 'z'):\n",
    "        st2 += i\n",
    "\n",
    "st3 = st2.lower()\n",
    "\n",
    "cnt1 = 0\n",
    "cnt2 = 0\n",
    "n = 0\n",
    "while (True):\n",
    "    if (st3.find(\"pass\", n) >= 0):\n",
    "        cnt1 += 1\n",
    "        n = st3.find(\"pass\", n) + 4\n",
    "    else:\n",
    "        break;\n",
    "\n",
    "n = 0\n",
    "while (True):\n",
    "    if (st3.find(\"fail\", n) >= 0):\n",
    "        cnt2 += 1\n",
    "        n = st3.find(\"fail\", n) + 4\n",
    "    else:\n",
    "        break;\n",
    "\n",
    "res = int(cnt1 / (cnt1 + cnt2) * 100)\n",
    "\n",
    "print(f\"{res}%\")\n"
   ]
  },
  {
   "cell_type": "code",
   "execution_count": 5,
   "metadata": {},
   "outputs": [
    {
     "name": "stdout",
     "output_type": "stream",
     "text": [
      "BBQMCOBSPAPA"
     ]
    }
   ],
   "source": [
    "lst = [\n",
    "    [\"BHC\", \"BBQ\", \"KFC\"],\n",
    "    [\"MC\", \"7AVE\", \"PAPA\"],\n",
    "    [\"DHC\", \"OBS\", \"MOMS\"]\n",
    "    ]\n",
    "\n",
    "move = [\n",
    "    [-1, 0, 1, 0],\n",
    "    [0, -1, 0, 1]\n",
    "]\n",
    "\n",
    "row, col = map(int, input().split())\n",
    "\n",
    "for i, j in zip(*move):\n",
    "    drow = row + i\n",
    "    dcol = col + j\n",
    "\n",
    "    if (drow in range(3) and dcol in range(3)):\n",
    "        print(lst[drow][dcol], end = '')\n"
   ]
  },
  {
   "cell_type": "code",
   "execution_count": 6,
   "metadata": {},
   "outputs": [
    {
     "name": "stdout",
     "output_type": "stream",
     "text": [
      "defdefdef\n"
     ]
    }
   ],
   "source": [
    "st = input()\n",
    "a, b, c = map(int, input().split())\n",
    "\n",
    "st2 = st[a:b + 1]\n",
    "print(st2*c)"
   ]
  },
  {
   "cell_type": "code",
   "execution_count": 10,
   "metadata": {},
   "outputs": [
    {
     "name": "stdout",
     "output_type": "stream",
     "text": [
      "ILOVE#BBQ#AND#BBQ#!!\n"
     ]
    }
   ],
   "source": [
    "dic1 = {\"KFC\": \"#BBQ#\", \"MC\": \"#BBQ#\", \"BICMAC\": \"#MACBOOK#\",\n",
    "\"SHACK\": \"#SHOCK#\", \"SONY\": \"#NONY#\"}\n",
    "st = input()\n",
    "\n",
    "for i in dic1.keys():\n",
    "    st = st.replace(i, dic1.get(i))\n",
    "\n",
    "print(st)"
   ]
  },
  {
   "cell_type": "code",
   "execution_count": 14,
   "metadata": {},
   "outputs": [
    {
     "name": "stdout",
     "output_type": "stream",
     "text": [
      "[33102]\n",
      "[00700]\n",
      "[30431]\n",
      "[12345]\n"
     ]
    }
   ],
   "source": [
    "r = int(input())\n",
    "\n",
    "for i in range(r):\n",
    "    temp = input()\n",
    "    n = 0\n",
    "    while (True):\n",
    "        a1 = temp.find(\"[\", n)\n",
    "        a2 = temp.find(\"]\", n)\n",
    "\n",
    "        if (a1 == -1 or a2 == -1):\n",
    "            break;\n",
    "        if (a2 - a1 != 6):\n",
    "            break;\n",
    "        if (temp[a1 + 1:a2].isdigit()):\n",
    "            print(temp[a1:a2 + 1])\n",
    "        \n",
    "        n = a2 + 1"
   ]
  },
  {
   "cell_type": "code",
   "execution_count": 17,
   "metadata": {},
   "outputs": [
    {
     "name": "stdout",
     "output_type": "stream",
     "text": [
      "1#HOT\n",
      "2#FRIED\n",
      "3#CHICKEN\n",
      "4#KFC\n",
      "5#IS\n",
      "6#BEST\n"
     ]
    }
   ],
   "source": [
    "a = input()\n",
    "a1 = a.replace('_', ' ')\n",
    "a2 = a1.strip()\n",
    "a3 = list(a2.split())\n",
    "\n",
    "for i, j in enumerate(a3, 1):\n",
    "    print(f\"{i}#{j}\")"
   ]
  },
  {
   "cell_type": "code",
   "execution_count": 19,
   "metadata": {},
   "outputs": [
    {
     "name": "stdout",
     "output_type": "stream",
     "text": [
      "(((((^0^))((^^^)))(^_^)))))\n"
     ]
    }
   ],
   "source": [
    "# 정규표현식\n",
    "st = input()\n",
    "st = st.replace(\"(*\", \"(\")\n",
    "print(st)"
   ]
  },
  {
   "cell_type": "code",
   "execution_count": 31,
   "metadata": {},
   "outputs": [
    {
     "name": "stdout",
     "output_type": "stream",
     "text": [
      "(^_^)(^^)(^_^)\n"
     ]
    }
   ],
   "source": [
    "st = input()\n",
    "st2 = st[0]\n",
    "\n",
    "for i in range(1, len(st)):\n",
    "\n",
    "    if (st2[-1] == '('):\n",
    "        if (st[i] == '('):\n",
    "            continue\n",
    "\n",
    "    if (st2[-1] == ')'):\n",
    "        if (st[i] == ')'):\n",
    "            continue\n",
    "\n",
    "    st2 += st[i]\n",
    "\n",
    "st2 = st2.replace(\"^^^\", '^^')\n",
    "invariable = ['(', '_', ')']\n",
    "\n",
    "\n",
    "for i in range(len(st2) - 2):\n",
    "    if (st2[i] == '^' and st2[i + 2] == '^' and st2[i + 1] not in invariable):\n",
    "        st2 = st2[:i + 1] + '_' + st2[i + 2:]\n",
    "\n",
    "print(st2)\n"
   ]
  },
  {
   "cell_type": "code",
   "execution_count": 7,
   "metadata": {},
   "outputs": [
    {
     "name": "stdout",
     "output_type": "stream",
     "text": [
      "[#bbq] mcdonald\n",
      "[#jyp] sam\n",
      "[#imac] donald\n"
     ]
    }
   ],
   "source": [
    "lst = input().split(sep = '|')\n",
    "\n",
    "for i in lst:\n",
    "    a, b = i.split(sep = '@')\n",
    "    temp = list(b.split(sep = '.'))\n",
    "    print(f\"[#{a}] {temp[0]}\")"
   ]
  },
  {
   "cell_type": "code",
   "execution_count": 2,
   "metadata": {},
   "outputs": [
    {
     "name": "stdout",
     "output_type": "stream",
     "text": [
      "O\n",
      "X\n",
      "X\n",
      "O\n",
      "O\n"
     ]
    }
   ],
   "source": [
    "# find 활용\n",
    "def ino(st):\n",
    "    n = 0\n",
    "    while (True):\n",
    "        idx1 = st.find('<', n)\n",
    "        idx2 = st.find('>', n)\n",
    "\n",
    "        if (idx1 == -1):\n",
    "            break;\n",
    "    \n",
    "        temp = list(st[idx1 + 1:idx2])\n",
    "        dict1 = {}\n",
    "\n",
    "        for i in temp:\n",
    "            try:\n",
    "                dict1[i] += 1\n",
    "            except:\n",
    "                dict1[i] = 1\n",
    "\n",
    "        for i in dict1.values():\n",
    "            if (i >= 2):\n",
    "                return \"X\"\n",
    "    \n",
    "        n = idx2 + 1\n",
    "    \n",
    "    return \"O\"\n",
    "\n",
    "for i in range(int(input())):\n",
    "    print(ino(input()), end = '')"
   ]
  },
  {
   "cell_type": "code",
   "execution_count": 14,
   "metadata": {},
   "outputs": [
    {
     "name": "stdout",
     "output_type": "stream",
     "text": [
      "180\n"
     ]
    }
   ],
   "source": [
    "def par_sum(st):\n",
    "    if (st[0] != '-'):\n",
    "        st1 = '+' + st\n",
    "    else:\n",
    "        st1 = st\n",
    "\n",
    "    lst = []\n",
    "\n",
    "    k = 0\n",
    "    for i in range(1, len(st1)):\n",
    "        if (not st1[i].isdigit()):\n",
    "            lst.append(st1[k:i])\n",
    "            k = i\n",
    "    \n",
    "    lst.append(st1[k:])\n",
    "\n",
    "    s = 0\n",
    "    for i in lst:\n",
    "        if (i[0] == '+'):\n",
    "            s += int(i[1:])\n",
    "        \n",
    "        if (i[0] == '-'):\n",
    "            s -= int(i[1:])\n",
    "    \n",
    "    return s\n",
    "\n",
    "print(par_sum(input()))\n"
   ]
  },
  {
   "cell_type": "code",
   "execution_count": 16,
   "metadata": {},
   "outputs": [
    {
     "name": "stdout",
     "output_type": "stream",
     "text": [
      "180\n"
     ]
    }
   ],
   "source": [
    "a = input()\n",
    "b = eval(a)\n",
    "\n",
    "print(b)"
   ]
  },
  {
   "cell_type": "code",
   "execution_count": 19,
   "metadata": {},
   "outputs": [
    {
     "name": "stdout",
     "output_type": "stream",
     "text": [
      "120\n"
     ]
    }
   ],
   "source": [
    "def par_calc(st):\n",
    "    lst = []\n",
    "\n",
    "    for i in st:\n",
    "        if (i == '['):\n",
    "            lst.append(0)\n",
    "        if (i =='{'):\n",
    "            lst.append(1)\n",
    "    \n",
    "    s = 0\n",
    "    idx = 0\n",
    "\n",
    "    for i in lst:\n",
    "        if (i == 0):\n",
    "            a, b = st.find('[', idx), st.find(']', idx)\n",
    "            s += int(st[a + 1: b])\n",
    "            idx = b + 1\n",
    "        else:\n",
    "            a, b = st.find('{', idx), st.find('}', idx)\n",
    "            s *= int(st[a + 1:b])\n",
    "            idx = b + 1\n",
    "    \n",
    "    return s\n",
    "\n",
    "print(par_calc(input()))"
   ]
  },
  {
   "cell_type": "code",
   "execution_count": 9,
   "metadata": {},
   "outputs": [
    {
     "name": "stdout",
     "output_type": "stream",
     "text": [
      "pass\n"
     ]
    }
   ],
   "source": [
    "hate = [\"bad\", \"no\", \"puck\", \"_\"*6]\n",
    "\n",
    "def robo1(st):\n",
    "    \n",
    "    # 1, 2\n",
    "    for i in hate:\n",
    "        if (i in st):\n",
    "            return \"fail\"\n",
    "    \n",
    "    # 3\n",
    "    for i in range(ord('A'), ord('Z') + 1):\n",
    "        if (st.count(chr(i)) > 5):\n",
    "            return \"fail\"\n",
    "    \n",
    "    for i in range(ord('a'), ord('z') + 1):\n",
    "        if (st.count(chr(i)) > 5):\n",
    "            return \"fail\"\n",
    "\n",
    "    # 4\n",
    "    for i in st:\n",
    "        if (i.isdigit()):\n",
    "            return \"fail\"\n",
    "\n",
    "    return \"pass\"\n",
    "\n",
    "print(robo1(input()))"
   ]
  },
  {
   "cell_type": "code",
   "execution_count": 15,
   "metadata": {},
   "outputs": [
    {
     "name": "stdout",
     "output_type": "stream",
     "text": [
      "90\n"
     ]
    }
   ],
   "source": [
    "# 10 아니면 9\n",
    "a, b, c = input().split(sep = '.')\n",
    "s = 1\n",
    "\n",
    "##\n",
    "ia = a.count('X')\n",
    "\n",
    "if (ia == 0):\n",
    "    pass\n",
    "else:\n",
    "    if (a[0] == 'X'):\n",
    "        s *= 9 * (10**(ia - 1))\n",
    "    else:\n",
    "        s *= (10**(ia))\n",
    "\n",
    "##\n",
    "ib = b.count('X')\n",
    "\n",
    "if (ib == 0):\n",
    "    pass\n",
    "elif (ib == 1):\n",
    "    if (len(b) == 2):\n",
    "        if (b[0] == 'X'):\n",
    "            pass\n",
    "        else:\n",
    "            s *= 3\n",
    "    else:\n",
    "        s *= 10\n",
    "else:\n",
    "    s *= 3\n",
    "\n",
    "##\n",
    "ic = c.count('X')\n",
    "\n",
    "if (ic == 0):\n",
    "    pass\n",
    "elif (ic == 1):\n",
    "    if (len(c) == 2):\n",
    "        if (c[0] == 'X'):\n",
    "            if (c[1] <= '1'):\n",
    "                s *= 3\n",
    "            else:\n",
    "                s *= 2\n",
    "        else:\n",
    "            if (c[0] == '3'):\n",
    "                s *= 2\n",
    "            else:\n",
    "                s *= 9\n",
    "    else:\n",
    "        s *= 9\n",
    "else:\n",
    "    s *= 22\n",
    "\n",
    "print(s)\n"
   ]
  },
  {
   "cell_type": "code",
   "execution_count": 8,
   "metadata": {},
   "outputs": [
    {
     "name": "stdout",
     "output_type": "stream",
     "text": [
      "AB#117\n",
      "CDEF#129\n",
      "F#21\n",
      "G#22\n"
     ]
    }
   ],
   "source": [
    "st = input()\n",
    "lst = []\n",
    "\n",
    "idx = 0\n",
    "n = -1\n",
    "for i in range(len(st) - 1):\n",
    "    if (n == -1 and st[i].isalpha() and st[i + 1].isdigit()):\n",
    "        lst.append(st[idx:i + 1])\n",
    "        idx = i + 1\n",
    "        n *= -1\n",
    "    elif (n == 1 and st[i].isdigit() and st[i + 1].isalpha()):\n",
    "        lst.append(st[idx:i + 1])\n",
    "        idx = i + 1\n",
    "        n *= -1\n",
    "    \n",
    "lst.append(st[idx:])\n",
    "\n",
    "for i in range(0, len(lst), 2):\n",
    "    print(f\"{lst[i]}#{int(lst[i + 1]) + 17}\")\n"
   ]
  },
  {
   "cell_type": "code",
   "execution_count": 9,
   "metadata": {},
   "outputs": [
    {
     "name": "stdout",
     "output_type": "stream",
     "text": [
      "3\n"
     ]
    }
   ],
   "source": [
    "a = input().lower()\n",
    "ht = [\"https://\", \"http://\"]\n",
    "co = [\".com\", \".co.kr\", \".net\", \".org\"]\n",
    "lst =  []\n",
    "cnt = 0\n",
    "\n",
    "n = 0\n",
    "while (True):\n",
    "    temp = a.find(\"https://\", n)\n",
    "    temp1 = a.find(\"http://\", n)\n",
    "\n",
    "    if (temp1 >= 0 and temp > temp1):\n",
    "        temp = temp1\n",
    "    \n",
    "    if (temp == -1):\n",
    "        break\n",
    "\n",
    "    \n",
    "\n",
    "    \n",
    "\n"
   ]
  },
  {
   "cell_type": "code",
   "execution_count": 5,
   "metadata": {},
   "outputs": [
    {
     "name": "stdout",
     "output_type": "stream",
     "text": [
      "2개\n"
     ]
    }
   ],
   "source": [
    "a = input().lower()\n",
    "ht = [\"https://\", \"http://\"]\n",
    "co = [\".com\", \".co.kr\", \".net\", \".org\"]\n",
    "cnt = 0\n",
    "\n",
    "n = 0\n",
    "k1 = None\n",
    "while (True):\n",
    "    temp = -1\n",
    "\n",
    "    for i in ht:\n",
    "        x = a.find(i, n)\n",
    "        if (temp == -1):\n",
    "            temp = x\n",
    "            k1 = len(i)\n",
    "        elif (x >= 0 and temp > x):\n",
    "            temp = x\n",
    "            k1 = len(i)\n",
    "    \n",
    "    if (temp == -1):\n",
    "        break\n",
    "    \n",
    "    temp2 = -1\n",
    "\n",
    "    for i in co:\n",
    "        x = a.find(i, n)\n",
    "        if (temp2 == -1):\n",
    "            temp2 = x\n",
    "        elif (x >= 0 and temp2 > x):\n",
    "            temp2 = x\n",
    "    \n",
    "    if (temp2 == -1):\n",
    "        break\n",
    "    \n",
    "    n = temp2 + 1\n",
    "\n",
    "    if (temp2 - temp - k1 >= 3):\n",
    "        cnt += 1\n",
    "\n",
    "print(f\"{cnt}개\")\n"
   ]
  },
  {
   "cell_type": "code",
   "execution_count": 9,
   "metadata": {},
   "outputs": [],
   "source": [
    "# 다시풀어보기 # https:// 가 연속적으로 있는 것을 배제하지 못했다. 25.5 -> 6\n",
    "# 리스트 하나로 인덱스, ht인지, co인지 파악\n",
    "# 이를 인덱스와 ht 정보로 쪼개서 앞뒤 관계를 파악하면서 문제를 풀자. 이렇게 해야 중복되는 것을 막을 수 있다."
   ]
  }
 ],
 "metadata": {
  "kernelspec": {
   "display_name": "Python 3",
   "language": "python",
   "name": "python3"
  },
  "language_info": {
   "codemirror_mode": {
    "name": "ipython",
    "version": 3
   },
   "file_extension": ".py",
   "mimetype": "text/x-python",
   "name": "python",
   "nbconvert_exporter": "python",
   "pygments_lexer": "ipython3",
   "version": "3.9.13 (tags/v3.9.13:6de2ca5, May 17 2022, 16:36:42) [MSC v.1929 64 bit (AMD64)]"
  },
  "orig_nbformat": 4,
  "vscode": {
   "interpreter": {
    "hash": "b989fbffd3ec1c6d6c91005b2fa329057dfdc84b6f95ed35016e1b272fccc8a0"
   }
  }
 },
 "nbformat": 4,
 "nbformat_minor": 2
}
