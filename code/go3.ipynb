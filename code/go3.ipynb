{
 "cells": [
  {
   "cell_type": "code",
   "execution_count": null,
   "metadata": {},
   "outputs": [],
   "source": [
    "lst = [5, 9, 4, 6, 1, 5, 8, 9]\n",
    "a, b = map(int, input().split())\n",
    "k = lst.index(b)\n",
    "\n",
    "print(abs(a - k))"
   ]
  },
  {
   "cell_type": "code",
   "execution_count": null,
   "metadata": {},
   "outputs": [],
   "source": [
    "lst = [5, 9, 4, 6, 1, 5, 8, 9]\n",
    "a, b = map(int, input().split())\n",
    "k = lst.index(b)\n",
    "\n",
    "try:\n",
    "    k2 =lst.index(b, k + 1)\n",
    "except:\n",
    "    k2 = -1\n",
    "\n",
    "if (k2 < 0):\n",
    "    print(abs(a - k))\n",
    "else:\n",
    "    temp = abs(a - k) if abs(a - k) < abs(a - k2) else abs(a - k2)\n",
    "    print(temp)"
   ]
  },
  {
   "cell_type": "code",
   "execution_count": null,
   "metadata": {},
   "outputs": [],
   "source": [
    "lst = [\n",
    "    list(\"ATKB\"),\n",
    "    list(\"CZFD\"),\n",
    "    list(\"HGEI\")\n",
    "]\n",
    "\n",
    "a, b, c = input().split()\n",
    "b, c = int(b), int(c)\n",
    "\n",
    "for i in range(len(lst)):\n",
    "    for j in range(len(lst[0])):\n",
    "        if (lst[i][j] == a):\n",
    "            row = i\n",
    "            col = j\n",
    "\n",
    "row += b\n",
    "col += c\n",
    "\n",
    "print(lst[row][col])"
   ]
  },
  {
   "cell_type": "code",
   "execution_count": null,
   "metadata": {},
   "outputs": [],
   "source": [
    "lst = [\n",
    "    [3, 5, 9],\n",
    "    [4, 2, 1],\n",
    "    [5, 1, 5]\n",
    "]\n",
    "\n",
    "def isExist(lst):\n",
    "    r = list(map(int, input().split()))\n",
    "    cnt = [0]*len(r)\n",
    "\n",
    "    for i in range(len(r)):\n",
    "        for j in lst:\n",
    "            if (r[i] in j):\n",
    "                cnt[i] += 1\n",
    "    \n",
    "    for i in range(len(r)):\n",
    "        if (cnt[i] > 0):\n",
    "            print(f\"{r[i]}:존재\")\n",
    "        else:\n",
    "            print(f\"{r[i]}:미발견\")\n",
    "\n",
    "isExist(lst)"
   ]
  },
  {
   "cell_type": "code",
   "execution_count": null,
   "metadata": {},
   "outputs": [],
   "source": [
    "lst1 = [\n",
    "    [0, 0, 0, 1],\n",
    "    [1, 1, 0, 1],\n",
    "    [1, 0, 0, 1],\n",
    "    [1, 1, 1, 1]\n",
    "]\n",
    "\n",
    "lst2 = [\n",
    "    [1, 1, 1, 1],\n",
    "    [1, 0, 1, 1],\n",
    "    [1, 0, 0, 0],\n",
    "    [1, 0, 0, 0]\n",
    "]\n",
    "\n",
    "lst3 = [[0]*4 for i in range(4)]\n",
    "\n",
    "for i in range(len(lst1)):\n",
    "    for j in range(len(lst1[0])):\n",
    "        lst3[i][j] = lst1[i][j] or lst2[i][j]\n",
    "\n",
    "for i in range(len(lst1)):\n",
    "    for j in range(len(lst1[0])):\n",
    "        if (not lst3[i][j]):\n",
    "            print(f\"({i},{j})\")"
   ]
  },
  {
   "cell_type": "code",
   "execution_count": null,
   "metadata": {},
   "outputs": [],
   "source": [
    "lst1 = [\n",
    "    [0, 0, 0, 1],\n",
    "    [1, 1, 0, 1],\n",
    "    [1, 0, 0, 1],\n",
    "    [1, 1, 1, 1]\n",
    "]\n",
    "\n",
    "lst2 = [\n",
    "    [1, 1, 1, 1],\n",
    "    [1, 0, 1, 1],\n",
    "    [1, 0, 0, 0],\n",
    "    [1, 0, 0, 0]\n",
    "]\n",
    "\n",
    "lst3 = [[0]*4 for i in range(4)]\n",
    "\n",
    "for i in range(len(lst1)):\n",
    "    for j in range(len(lst1[0])):\n",
    "        lst3[i][j] = lst1[i][j] or lst2[i][j]\n",
    "\n",
    "for i in range(len(lst1)):\n",
    "    for j in range(len(lst1[0])):\n",
    "        if (not lst3[i][j]):\n",
    "            print(f\"({i},{j})\")"
   ]
  },
  {
   "cell_type": "code",
   "execution_count": null,
   "metadata": {},
   "outputs": [],
   "source": [
    "lst1 = [\n",
    "    [0, 0, 1, 0, 0],\n",
    "    [0, 0, 1, 1, 1]\n",
    "]\n",
    "\n",
    "lst2 = [\n",
    "    [3, 5, 4, 1, 1],\n",
    "    [3, 5, 2, 5, 6]\n",
    "]\n",
    "\n",
    "lst = []\n",
    "\n",
    "for i in range(2):\n",
    "    for j in range(5):\n",
    "        if (lst1[i][j]):\n",
    "            lst.append(lst2[i][j])\n",
    "\n",
    "a = int(input())\n",
    "\n",
    "if (a in lst):\n",
    "    print(f\"{a} 존재\")\n",
    "else:\n",
    "    print(f\"{a} 없음\")"
   ]
  },
  {
   "cell_type": "code",
   "execution_count": null,
   "metadata": {},
   "outputs": [],
   "source": [
    "vect = list(\"BTKIGZ\")\n",
    "target = input().split()\n",
    "cnt = 0\n",
    "\n",
    "for i in target:\n",
    "    if (i in vect):\n",
    "        cnt += 1\n",
    "\n",
    "print(cnt)"
   ]
  },
  {
   "cell_type": "code",
   "execution_count": null,
   "metadata": {},
   "outputs": [],
   "source": [
    "vect = [\n",
    "    [3, 7, 4],\n",
    "    [2, 2, 4],\n",
    "    [2, 2, 5]\n",
    "]\n",
    "\n",
    "target = list(map(int, input().split()))\n",
    "vect1 = sum(vect, []) # 좋은데?\n",
    "dic1 = {}\n",
    "\n",
    "for i in target:\n",
    "    for j in vect1:\n",
    "        if (i  == j):\n",
    "            try:\n",
    "                dic1[i] += 1\n",
    "            except:\n",
    "                dic1[i] = 1\n",
    "\n",
    "res = list(sorted(dic1.keys(), key = lambda x: dic1[x], reverse = True))\n",
    "print(res[0])"
   ]
  },
  {
   "cell_type": "code",
   "execution_count": null,
   "metadata": {},
   "outputs": [],
   "source": [
    "def getSum(n):\n",
    "    lst = [3, 4, 1, 1, 2, 6, 8, 7, 8, 9, 10]\n",
    "    s = 0\n",
    "\n",
    "    for i in range(n, n + 5):\n",
    "        s += lst[i]\n",
    "\n",
    "    return s\n",
    "\n",
    "print(getSum(int(input())))"
   ]
  },
  {
   "cell_type": "code",
   "execution_count": null,
   "metadata": {},
   "outputs": [],
   "source": [
    "lst = [3, 7, 4, 1, 2, 6]\n",
    "univer = [list(map(int, input().split())) for i in range(2)]\n",
    "lst2 = [[0]*2 for i in range(2)]\n",
    "\n",
    "for i in range(2):\n",
    "    for j in range(2):\n",
    "        univer[i][j] = \"OK\" if (univer[i][j] in lst) else \"NO\"\n",
    "            \n",
    "for i in univer:\n",
    "    print(*i)"
   ]
  },
  {
   "cell_type": "code",
   "execution_count": null,
   "metadata": {},
   "outputs": [],
   "source": [
    "a = input()\n",
    "b = input()\n",
    "\n",
    "def isSame(a, b):\n",
    "    if (a == b):\n",
    "        return \"동명\"\n",
    "    else:\n",
    "        return \"남남\"\n",
    "\n",
    "print(isSame(a, b))"
   ]
  },
  {
   "cell_type": "code",
   "execution_count": null,
   "metadata": {},
   "outputs": [],
   "source": [
    "lst = [\n",
    "    list(\"GKT\"),\n",
    "    list(\"PAC\")\n",
    "]\n",
    "\n",
    "cnt = 0\n",
    "r = input().split()\n",
    "\n",
    "for i in r:\n",
    "    for j in lst:\n",
    "        if (i in j):\n",
    "            cnt += 1\n",
    "            break\n",
    "\n",
    "if (cnt == 2):\n",
    "    print(\"대발견\")\n",
    "elif (cnt == 1):\n",
    "    print(\"중발견\")\n",
    "else:\n",
    "    print(\"미발견\")"
   ]
  },
  {
   "cell_type": "code",
   "execution_count": null,
   "metadata": {},
   "outputs": [],
   "source": [
    "bit = list(map(int, input().split()))\n",
    "vect = [3, 5, 4, 2, 6, 6, 5]\n",
    "\n",
    "res = filter(lambda x: bit[x], range(len(bit)))\n",
    "lst = [0] * len(bit)\n",
    "\n",
    "for i in list(res):\n",
    "    lst[i] = vect[i]\n",
    "\n",
    "for i in range(len(lst)):\n",
    "    if (lst[i] != 0):\n",
    "        lst[i] = 7\n",
    "\n",
    "print(*lst, sep = '')"
   ]
  },
  {
   "cell_type": "code",
   "execution_count": null,
   "metadata": {},
   "outputs": [],
   "source": [
    "pwd = [3, 7, 4, 9]\n",
    "lst = list(map(int, input().split()))\n",
    "\n",
    "if (pwd == lst):\n",
    "    print(\"pass\")\n",
    "else:\n",
    "    print(\"fail\")"
   ]
  },
  {
   "cell_type": "code",
   "execution_count": null,
   "metadata": {},
   "outputs": [],
   "source": [
    "lst = [\n",
    "    [3, 1, 9],\n",
    "    [7, 2, 1],\n",
    "    [1, 0, 8]\n",
    "]\n",
    "\n",
    "mask = [list(map(int, input().split())) for i in range(3)]\n",
    "\n",
    "lst2 = []\n",
    "\n",
    "for i in range(3):\n",
    "    for j in range(3):\n",
    "        if (mask[i][j] == 1):\n",
    "            lst2.append(lst[i][j])\n",
    "\n",
    "res = \"미발견\"\n",
    "\n",
    "for i in lst2:\n",
    "    if (i >= 3 and i <= 5):\n",
    "        res = \"발견\"\n",
    "        break\n",
    "\n",
    "print(res)\n"
   ]
  },
  {
   "cell_type": "code",
   "execution_count": null,
   "metadata": {},
   "outputs": [],
   "source": [
    "data = [3, 5, 4, 2]\n",
    "lst = list(map(int, input().split()))\n",
    "fil1 = list(filter(lambda x: lst[x], range(len(lst))))\n",
    "\n",
    "s = 0\n",
    "for i in fil1:\n",
    "    s += data[i]\n",
    "\n",
    "print(s)"
   ]
  },
  {
   "cell_type": "code",
   "execution_count": null,
   "metadata": {},
   "outputs": [],
   "source": [
    "lst = [[0]*5 for i in range(5)]\n",
    "r = ord('A')\n",
    "\n",
    "for i in range(5):\n",
    "    for j in range(5):\n",
    "        lst[i][j] = chr(r)\n",
    "        r += 1\n",
    "\n",
    "a = input()\n",
    "\n",
    "row = 0\n",
    "col = 0\n",
    "\n",
    "for i in range(5):\n",
    "    for j in range(5):\n",
    "        if (lst[i][j] == a):\n",
    "            row = i\n",
    "            col = j\n",
    "\n",
    "row = row - 2\n",
    "col = col - 2\n",
    "\n",
    "print(row, col, sep = ',')"
   ]
  },
  {
   "cell_type": "code",
   "execution_count": null,
   "metadata": {},
   "outputs": [],
   "source": [
    "lst = [\n",
    "    [65000, 35, 42, 70],\n",
    "    [70, 35, 65000, 1300],\n",
    "    [65000, 30000, 38, 42]\n",
    "]\n",
    "\n",
    "dict1 = {}\n",
    "\n",
    "for i in lst:\n",
    "    for j in i:\n",
    "        try:\n",
    "            dict1[j] += 1\n",
    "        except:\n",
    "            dict1[j] = 1\n",
    "\n",
    "dict2 = list(sorted(dict1.items(), key = lambda x: x[1], reverse = True))\n",
    "print(dict2[0][0])"
   ]
  },
  {
   "cell_type": "code",
   "execution_count": null,
   "metadata": {},
   "outputs": [],
   "source": [
    "r = [0]*9\n",
    "lst = [list(map(int, input().split())) for i in range(3)]\n",
    "lst = sum(lst, [])\n",
    "\n",
    "for i in lst:\n",
    "    r[i - 1] += 1\n",
    "\n",
    "for i in range(9):\n",
    "    if (r[i] == 0):\n",
    "        print(i + 1, end = ' ')\n"
   ]
  },
  {
   "cell_type": "code",
   "execution_count": null,
   "metadata": {},
   "outputs": [],
   "source": [
    "lst = [\n",
    "    [1, 3, 3, 5, 1],\n",
    "    [3, 6, 2 ,4, 2],\n",
    "    [1, 9, 2 ,6, 5]\n",
    "    ]\n",
    "\n",
    "a = int(input())\n",
    "dict1 = {}\n",
    "\n",
    "for i in lst:\n",
    "    for j in i:\n",
    "        try:\n",
    "            dict1[j] += 1\n",
    "        except:\n",
    "            dict1[j] = 1\n",
    "\n",
    "fil1 = dict(filter(lambda x: x[1] == a, dict1.items()))\n",
    "fil2 = list(fil1.keys())\n",
    "fil3 = sorted(fil2)\n",
    "\n",
    "print(*fil3)"
   ]
  },
  {
   "cell_type": "code",
   "execution_count": null,
   "metadata": {},
   "outputs": [],
   "source": [
    "cardlist = list(input())\n",
    "set1 = set(cardlist)\n",
    "print(f\"{len(set1)}개\")"
   ]
  },
  {
   "cell_type": "code",
   "execution_count": null,
   "metadata": {},
   "outputs": [],
   "source": [
    "cardlist = list(input())\n",
    "dict1 = {}\n",
    "\n",
    "for i in cardlist:\n",
    "    try:\n",
    "        dict1[i] += 1\n",
    "    except:\n",
    "        dict1[i] = 1\n",
    "\n",
    "dict2 = list(sorted(dict1.items(), key = lambda x: x[1], reverse = True))\n",
    "\n",
    "print(dict2[0][0])"
   ]
  },
  {
   "cell_type": "code",
   "execution_count": null,
   "metadata": {},
   "outputs": [],
   "source": [
    "town = [\n",
    "    list(\"CDA\"),\n",
    "    list(\"BMZ\"),\n",
    "    list(\"QPO\")\n",
    "]\n",
    "\n",
    "town = sum(town, [])\n",
    "black = list(input())\n",
    "cnt = 0 \n",
    "\n",
    "for i in black:\n",
    "    if (i in town):\n",
    "        cnt += 1\n",
    "\n",
    "print(f\"{cnt}명\")"
   ]
  },
  {
   "cell_type": "code",
   "execution_count": null,
   "metadata": {},
   "outputs": [],
   "source": [
    "lst = [\n",
    "    list(\"ABC\"),\n",
    "    list(\"AGH\"),\n",
    "    list(\"HIJ\"),\n",
    "    list(\"KAB\"),\n",
    "    list(\"ABC\")\n",
    "    ]\n",
    "\n",
    "lst = sum(lst, [])\n",
    "\n",
    "for i in range(len(lst)):\n",
    "    m = lst[i]\n",
    "    idx = i\n",
    "    \n",
    "    for j in range(i + 1, len(lst)):\n",
    "        if (m > lst[j]):\n",
    "            m = lst[j]\n",
    "            idx = j\n",
    "    \n",
    "    if (i != idx):\n",
    "        lst[i], lst[idx] = lst[idx], lst[i]\n",
    "\n",
    "print(*lst, sep = '')"
   ]
  },
  {
   "cell_type": "code",
   "execution_count": null,
   "metadata": {},
   "outputs": [],
   "source": [
    "train = [3, 7, 6, 4, 2, 9, 1, 7]\n",
    "team = list(map(int, input().split()))\n",
    "long1 = len(train)\n",
    "long2 = len(team)\n",
    "\n",
    "for i in range(long1 - long2 + 1):\n",
    "    if(train[i:i + long2] == team):\n",
    "        break\n",
    "\n",
    "print(f\"{i}번~{i + long2 - 1}번 칸\")"
   ]
  },
  {
   "cell_type": "code",
   "execution_count": null,
   "metadata": {},
   "outputs": [],
   "source": [
    "apt = [\n",
    "    [15, 18, 17],\n",
    "    [4, 6, 9],\n",
    "    [10, 1, 3],\n",
    "    [7, 8, 9],\n",
    "    [15, 2, 6]\n",
    "    ]\n",
    "\n",
    "lst = list(map(int, input().split()))\n",
    "\n",
    "for i in range(len(apt)):\n",
    "    if (lst == apt[i]):\n",
    "        break;\n",
    "\n",
    "print(f\"{5 - i}층\")"
   ]
  },
  {
   "cell_type": "code",
   "execution_count": null,
   "metadata": {},
   "outputs": [],
   "source": [
    "lst = [\n",
    "    list(\"GKG\"),\n",
    "    input().split()\n",
    "    ]\n",
    "\n",
    "lst = sum(lst, [])\n",
    "dict1 = {}\n",
    "\n",
    "for i in lst:\n",
    "    try:\n",
    "        dict1[i] += 1\n",
    "    except:\n",
    "        dict1[i] = 1\n",
    "\n",
    "res = \"없음\"\n",
    "\n",
    "for i in dict1.values():\n",
    "    if (i >= 3):\n",
    "        res = \"있음\"\n",
    "        break\n",
    "\n",
    "print(res)"
   ]
  },
  {
   "cell_type": "code",
   "execution_count": null,
   "metadata": {},
   "outputs": [],
   "source": [
    "lst = list(map(int, input().split()))\n",
    "dict1 = {}\n",
    "\n",
    "for i in lst:\n",
    "    try:\n",
    "        dict1[i] += 1\n",
    "    except:\n",
    "        dict1[i] = 1\n",
    "\n",
    "res = \"미발견\"\n",
    "\n",
    "for i in dict1.values():\n",
    "    if (i >= 2):\n",
    "        res = \"도플갱어 발견\"\n",
    "        break\n",
    "\n",
    "print(res)"
   ]
  },
  {
   "cell_type": "code",
   "execution_count": null,
   "metadata": {},
   "outputs": [],
   "source": [
    "lst = list(input())\n",
    "dict1 = {}\n",
    "\n",
    "for i in lst:\n",
    "    try:\n",
    "        dict1[i] += 1\n",
    "    except:\n",
    "        dict1[i] = 1\n",
    "\n",
    "res1 = sorted(dict1.items(), key = lambda x: x[1], reverse = True)\n",
    "print(res1[0][0])\n"
   ]
  },
  {
   "cell_type": "code",
   "execution_count": null,
   "metadata": {},
   "outputs": [],
   "source": [
    "lst1 = list(map(int, input().split()))\n",
    "lst2 = list(map(int, input().split()))\n",
    "cnt = 0\n",
    "\n",
    "for i in range(len(lst1)):\n",
    "    if (lst1[i] == 1 and lst2[i] == 1):\n",
    "        cnt += 1\n",
    "\n",
    "print(f\"{cnt}개\")"
   ]
  },
  {
   "cell_type": "code",
   "execution_count": null,
   "metadata": {},
   "outputs": [],
   "source": [
    "s = \"ATKPTCABC\"\n",
    "a, b = input().split()\n",
    "\n",
    "# find를 사용하자. 오류를 위해서\n",
    "idx1 = s.find(a)\n",
    "idx2 = len(s) - 1 - s[::-1].find(b)\n",
    "# idx2 = len(s) - 1 - ''.join(reversed(s)).find(b)\n",
    "\n",
    "print(idx2 - idx1)"
   ]
  },
  {
   "cell_type": "code",
   "execution_count": null,
   "metadata": {},
   "outputs": [],
   "source": [
    "win = [\n",
    "    [3, 5, 1],\n",
    "    [4, 2, 6]\n",
    "    ]\n",
    "\n",
    "win = sum(win, [])\n",
    "people = list(map(int, input().split()))\n",
    "\n",
    "\n",
    "for i in people:\n",
    "    if (i in win):\n",
    "        print(f\"{i}번 합격\")\n",
    "    else:\n",
    "        print(f\"{i}번 불합격\")"
   ]
  },
  {
   "cell_type": "code",
   "execution_count": null,
   "metadata": {},
   "outputs": [],
   "source": [
    "vect = list(\"MINCODING\")\n",
    "a = int(input())\n",
    "b = list(input().split())\n",
    "\n",
    "for i in b:\n",
    "    if (i in vect):\n",
    "        print('O', end = '')\n",
    "    else:\n",
    "        print('X', end = '')\n",
    "\n"
   ]
  },
  {
   "cell_type": "code",
   "execution_count": null,
   "metadata": {},
   "outputs": [],
   "source": [
    "vect = list(\"MINCODING\")\n",
    "a = int(input())\n",
    "b = list(input().split())\n",
    "\n",
    "temp = [0]*200\n",
    "\n",
    "for i in vect:\n",
    "    temp[ord(i)] = 1\n",
    "\n",
    "for i in b:\n",
    "    if (temp[ord(i)] == 1):\n",
    "        print('O', end = '')\n",
    "    else:\n",
    "        print('X', end = '')\n"
   ]
  },
  {
   "cell_type": "code",
   "execution_count": null,
   "metadata": {},
   "outputs": [],
   "source": [
    "lst = [list(input()) for i in range(3)]\n",
    "lst = sum(lst, [])\n",
    "lst2 = [0]*26\n",
    "\n",
    "for i in lst:\n",
    "    lst2[ord(i) - ord('A')] += 1\n",
    "\n",
    "res = \"Perfect\"\n",
    "\n",
    "for i in lst2:\n",
    "    if (i not in [0, 1]):\n",
    "        res = \"No\"\n",
    "        break;\n",
    "\n",
    "print(res)"
   ]
  },
  {
   "cell_type": "code",
   "execution_count": null,
   "metadata": {},
   "outputs": [],
   "source": [
    "lst = [0]*26\n",
    "r = list(input())\n",
    "\n",
    "for i in r:\n",
    "    lst[ord(i) - ord('A')] = 1\n",
    "\n",
    "for i in range(len(lst)):\n",
    "    if (lst[i] == 1):\n",
    "        print(chr(i + ord('A')), end = '')\n"
   ]
  },
  {
   "cell_type": "code",
   "execution_count": null,
   "metadata": {},
   "outputs": [],
   "source": [
    "r = list(input())\n",
    "lst = [0]*26\n",
    "\n",
    "for i in r:\n",
    "    lst[ord(i) - ord('A')] += 1\n",
    "\n",
    "for i in range(len(lst)):\n",
    "    if (lst[i] != 0):\n",
    "        print(f\"{chr(i + ord('A'))}:{lst[i]}\")"
   ]
  },
  {
   "cell_type": "code",
   "execution_count": null,
   "metadata": {},
   "outputs": [],
   "source": [
    "r = input()\n",
    "\n",
    "if (\"GHOST\" in r):\n",
    "    print(\"존재\")\n",
    "else:\n",
    "    print(\"존재하지 않음\")"
   ]
  },
  {
   "cell_type": "code",
   "execution_count": null,
   "metadata": {},
   "outputs": [],
   "source": [
    "r = input()\n",
    "long = len(r)\n",
    "res = \"존재하지 않음\"\n",
    "\n",
    "for i in range(long - 4):\n",
    "    if (r[i:i + 5] == \"GHOST\"):\n",
    "        res = \"존재\"\n",
    "        break;\n",
    "\n",
    "print(res)"
   ]
  },
  {
   "cell_type": "code",
   "execution_count": null,
   "metadata": {},
   "outputs": [],
   "source": [
    "lst = [\n",
    "    [3, 5, 4],\n",
    "    [1, 1, 2],\n",
    "    [1, 3, 9]\n",
    "    ]\n",
    "\n",
    "idx = [\n",
    "    [0, 0, -1, 1],\n",
    "    [-1, 1, 0, 0]\n",
    "    ]\n",
    "\n",
    "lg = len(lst)\n",
    "\n",
    "row, col = map(int, input().split())\n",
    "s = 0\n",
    "\n",
    "for i, j in zip(*idx):\n",
    "    drow = row + i\n",
    "    dcol = col + j\n",
    "\n",
    "    if ((drow in range(lg)) and (dcol in range(lg))):\n",
    "        s += lst[drow][dcol]\n",
    "\n",
    "print(s)"
   ]
  },
  {
   "cell_type": "code",
   "execution_count": 2,
   "metadata": {},
   "outputs": [
    {
     "name": "stdout",
     "output_type": "stream",
     "text": [
      "3 2\n"
     ]
    }
   ],
   "source": [
    "lst = [\n",
    "    [3, 3, 5, 3, 1],\n",
    "    [2, 2, 4, 2, 6],\n",
    "    [4, 9, 2, 3, 4],\n",
    "    [1, 1, 1, 1, 1],\n",
    "    [3, 3, 5, 9, 2]\n",
    "    ]\n",
    "\n",
    "def sum_cross(row, col):\n",
    "    direct = [\n",
    "        [1, 1],\n",
    "        [1, -1]\n",
    "        ]\n",
    "    \n",
    "    s = -lst[row][col]\n",
    "\n",
    "    for i in range(-4, 5):\n",
    "        for j, k in zip(*direct):\n",
    "            drow = row + (i * j)\n",
    "            dcol = col + (i * k)\n",
    "\n",
    "            if (drow in range(5) and dcol in range(5)):\n",
    "                s += lst[drow][dcol]\n",
    "    \n",
    "    return(s)\n",
    "\n",
    "s = sum_cross(0, 0)\n",
    "idx = [0, 0]\n",
    "\n",
    "for i in range(5):\n",
    "    for j in range(5):\n",
    "        if (s < sum_cross(i, j)):\n",
    "            s = sum_cross(i, j)\n",
    "            idx = [i, j]\n",
    "\n",
    "print(*idx)"
   ]
  },
  {
   "cell_type": "code",
   "execution_count": 11,
   "metadata": {},
   "outputs": [
    {
     "name": "stdout",
     "output_type": "stream",
     "text": [
      "# # # _ _\n",
      "# _ # _ _\n",
      "# # # # #\n",
      "_ _ # _ #\n"
     ]
    }
   ],
   "source": [
    "lst = [['_']*5 for i in range(4)]\n",
    "idx = [-1, 0, 1]\n",
    "\n",
    "def boom(lst, row, col):\n",
    "    for i in idx:\n",
    "        for j in idx:\n",
    "            if (i == 0 and j == 0):\n",
    "                pass\n",
    "            else:\n",
    "                drow = row + i\n",
    "                dcol = col + j\n",
    "        \n",
    "                if (drow in range(4) and dcol in range(5)):\n",
    "                    lst[drow][dcol] = '#'\n",
    "    \n",
    "    return lst\n",
    "\n",
    "for i in range(2):\n",
    "    a, b = map(int, input().split())\n",
    "    lst = boom(lst, a, b)\n",
    "\n",
    "for i in lst:\n",
    "    print(*i)\n"
   ]
  },
  {
   "cell_type": "code",
   "execution_count": 13,
   "metadata": {},
   "outputs": [
    {
     "name": "stdout",
     "output_type": "stream",
     "text": [
      "5\n",
      "7\n",
      "9\n"
     ]
    }
   ],
   "source": [
    "from dataclasses import dataclass \n",
    "\n",
    "@dataclass \n",
    "class temp: \n",
    "    x: int = None\n",
    "    y: int = None\n",
    "\n",
    "a, b, c = temp(), temp(), temp()\n",
    "a.x, b.x, c.x = map(int, input().split())\n",
    "a.y, b.y, c.y = map(int, input().split())\n",
    "\n",
    "for i in [a, b, c]:\n",
    "    print(i.x + i.y)"
   ]
  },
  {
   "cell_type": "code",
   "execution_count": 16,
   "metadata": {},
   "outputs": [
    {
     "name": "stdout",
     "output_type": "stream",
     "text": [
      "bob.burger1=6\n",
      "bob.burger2=7\n",
      "tom.burger1=7\n",
      "tom.burger2=4\n"
     ]
    }
   ],
   "source": [
    "from dataclasses import dataclass\n",
    "\n",
    "@dataclass\n",
    "class person:\n",
    "    burger1: str = None\n",
    "    burger2: str = None\n",
    "\n",
    "bob, tom = person(), person()\n",
    "\n",
    "for j in [bob, tom]:\n",
    "    j.burger1 = input()\n",
    "    j.burger2 = input()\n",
    "\n",
    "lst = [\n",
    "    [\"bob\", \"tom\"],\n",
    "    [bob, tom]\n",
    "    ]\n",
    "\n",
    "for i, j in zip(*lst):\n",
    "    print(f\"{i}.burger1={len(j.burger1)}\")\n",
    "    print(f\"{i}.burger2={len(j.burger2)}\")"
   ]
  },
  {
   "cell_type": "code",
   "execution_count": 18,
   "metadata": {},
   "outputs": [
    {
     "name": "stdout",
     "output_type": "stream",
     "text": [
      "0 5 0\n",
      "5 0 0\n",
      "0 0 0\n",
      "5 5 0\n"
     ]
    }
   ],
   "source": [
    "lst = [list(map(int, input().split())) for i in range(4)]\n",
    "vect = [[0]*3 for i in range(4)]\n",
    "\n",
    "for i in lst:\n",
    "    vect[i[0]][i[1]] = 5\n",
    "\n",
    "for i in vect:\n",
    "    print(*i)"
   ]
  },
  {
   "cell_type": "code",
   "execution_count": 25,
   "metadata": {},
   "outputs": [
    {
     "name": "stdout",
     "output_type": "stream",
     "text": [
      "(2:0)\n"
     ]
    }
   ],
   "source": [
    "lst = [list(map(int ,input().split())) for i in range(4)]\n",
    "\n",
    "def rectSum(row, col):\n",
    "    s = 0\n",
    "\n",
    "    for i in range(2):\n",
    "        for j in range(3):\n",
    "            drow = row + i\n",
    "            dcol = col + j\n",
    "\n",
    "            if (drow in range(4) and dcol in range(4)):\n",
    "                s += lst[drow][dcol]\n",
    "    \n",
    "    return s\n",
    "\n",
    "s = rectSum(0, 0)\n",
    "idx = (0, 0)\n",
    "\n",
    "for i in range(4):\n",
    "    for j in range(2):\n",
    "        if (s < rectSum(i, j)):\n",
    "            s = rectSum(i, j)\n",
    "            idx = (i, j)\n",
    "\n",
    "print(f\"({idx[0]},{idx[1]})\")"
   ]
  },
  {
   "cell_type": "code",
   "execution_count": 27,
   "metadata": {},
   "outputs": [
    {
     "name": "stdout",
     "output_type": "stream",
     "text": [
      "불안정한 상태\n"
     ]
    }
   ],
   "source": [
    "lst = [list(map(int, input().split())) for i in range(5)]\n",
    "\n",
    "def stable(row, col):\n",
    "    r = [-1, 0, 1]\n",
    "    s = 0\n",
    "\n",
    "    if lst[row][col] == 0:\n",
    "        return True\n",
    "    else:\n",
    "        for i in r:\n",
    "            for j in r:\n",
    "                drow = row + i\n",
    "                dcol = col + j\n",
    "                \n",
    "                if (drow in range(5) and dcol in range(4)):\n",
    "                    s += lst[drow][dcol]\n",
    "        \n",
    "        if (s > 1):\n",
    "            return False\n",
    "        else:\n",
    "            return True\n",
    "\n",
    "res = \"안정된 상태\"\n",
    "\n",
    "for i in range(5):\n",
    "    for j in range(4):\n",
    "        if (stable(i, j) != True):\n",
    "            res = \"불안정한 상태\"\n",
    "            break;\n",
    "\n",
    "print(res)"
   ]
  },
  {
   "cell_type": "code",
   "execution_count": 29,
   "metadata": {},
   "outputs": [
    {
     "name": "stdout",
     "output_type": "stream",
     "text": [
      "0 0 1 0\n",
      "0 0 0 0\n",
      "0 2 3 0\n",
      "0 0 4 0\n"
     ]
    }
   ],
   "source": [
    "r = list(map(int, input().split()))\n",
    "lst = [[0]*4 for i in range(4)]\n",
    "k = 1\n",
    "idx = 0\n",
    "\n",
    "for i in range(4):\n",
    "    for j in range(4):\n",
    "        idx += 1\n",
    "\n",
    "        if (idx in r):\n",
    "            lst[i][j] = k\n",
    "            k += 1\n",
    "\n",
    "for i in lst:\n",
    "    print(*i) \n"
   ]
  },
  {
   "cell_type": "code",
   "execution_count": 31,
   "metadata": {},
   "outputs": [
    {
     "name": "stdout",
     "output_type": "stream",
     "text": [
      "1 0 1 0\n",
      "1 0 1 0\n",
      "1 0 1 0\n",
      "1 1 1 1\n"
     ]
    }
   ],
   "source": [
    "lst = [[0]*4 for i in range(4)]\n",
    "\n",
    "for i in range(3):\n",
    "    a, b = input().split()\n",
    "    b = int(b)\n",
    "\n",
    "    if (a == 'G'):\n",
    "        for i in range(4):\n",
    "            lst[b][i] = 1\n",
    "    else:\n",
    "        for i in range(4):\n",
    "            lst[i][b] = 1\n",
    "\n",
    "for i in lst:\n",
    "    print(*i)"
   ]
  },
  {
   "cell_type": "code",
   "execution_count": 33,
   "metadata": {},
   "outputs": [
    {
     "name": "stdout",
     "output_type": "stream",
     "text": [
      "BCDZ\n"
     ]
    }
   ],
   "source": [
    "lst = [list(input()) for i in range(3)]\n",
    "lst = sum(lst, [])\n",
    "lst2 = list(set(lst))\n",
    "lst2.sort()\n",
    "\n",
    "print(*lst2, sep = '')\n"
   ]
  },
  {
   "cell_type": "code",
   "execution_count": 34,
   "metadata": {},
   "outputs": [
    {
     "name": "stdout",
     "output_type": "stream",
     "text": [
      "발견 (1개)\n"
     ]
    }
   ],
   "source": [
    "lst = [\n",
    "    list(\"ABGK\"),\n",
    "    list(\"TTAB\"),\n",
    "    list(\"ACCD\")\n",
    "    ]\n",
    "\n",
    "pat = [list(input()) for i in range(2)]\n",
    "\n",
    "def ftn1(row, col):\n",
    "    for i in [0, 1]:\n",
    "        for j in [0, 1]:\n",
    "            if (pat[i][j] != lst[row + i][col + j]):\n",
    "                return 0\n",
    "    \n",
    "    return 1\n",
    "\n",
    "cnt = 0\n",
    "\n",
    "for i in [0, 1]:\n",
    "    for j in range(3):\n",
    "        if (ftn1(i, j)):\n",
    "            cnt += 1\n",
    "\n",
    "if (cnt > 0):\n",
    "    print(f\"발견({cnt}개)\")\n",
    "else:\n",
    "    print(\"미발견\")\n"
   ]
  },
  {
   "cell_type": "code",
   "execution_count": 37,
   "metadata": {},
   "outputs": [
    {
     "name": "stdout",
     "output_type": "stream",
     "text": [
      "(1,1)\n"
     ]
    }
   ],
   "source": [
    "lst = [\n",
    "    [3, 5, 1],\n",
    "    [3, 8, 1],\n",
    "    [1, 1, 5]\n",
    "    ]\n",
    "\n",
    "pat = [list(map(int, input().split())) for i in range(2)]\n",
    "\n",
    "def ftn2(pat, row, col):\n",
    "    s = 0\n",
    "\n",
    "    for i in range(2):\n",
    "        for j in range(2):\n",
    "            if (pat[i][j] == 1):\n",
    "                drow = row + i\n",
    "                dcol = col + j\n",
    "                s += lst[drow][dcol]\n",
    "    \n",
    "    return s\n",
    "\n",
    "idx = [0, 0]\n",
    "s = ftn2(pat, 0, 0)\n",
    "\n",
    "for i in range(2):\n",
    "    for j in range(2):\n",
    "        if (s < ftn2(pat, i, j)):\n",
    "            idx = [i, j]\n",
    "            s = ftn2(pat, i, j)\n",
    "\n",
    "print(f\"({idx[0]},{idx[1]})\")"
   ]
  }
 ],
 "metadata": {
  "kernelspec": {
   "display_name": "Python 3",
   "language": "python",
   "name": "python3"
  },
  "language_info": {
   "codemirror_mode": {
    "name": "ipython",
    "version": 3
   },
   "file_extension": ".py",
   "mimetype": "text/x-python",
   "name": "python",
   "nbconvert_exporter": "python",
   "pygments_lexer": "ipython3",
   "version": "3.9.13 (tags/v3.9.13:6de2ca5, May 17 2022, 16:36:42) [MSC v.1929 64 bit (AMD64)]"
  },
  "orig_nbformat": 4,
  "vscode": {
   "interpreter": {
    "hash": "b989fbffd3ec1c6d6c91005b2fa329057dfdc84b6f95ed35016e1b272fccc8a0"
   }
  }
 },
 "nbformat": 4,
 "nbformat_minor": 2
}
