{
 "cells": [
  {
   "cell_type": "code",
   "execution_count": null,
   "metadata": {},
   "outputs": [],
   "source": [
    "# 15359 이진수\n",
    "\n",
    "def hex_to_bin(num):\n",
    "    global chg\n",
    "\n",
    "    temp = int(num) if num.isdigit() else chg.get(num)\n",
    "    ret = ''\n",
    "\n",
    "    for _ in range(4):\n",
    "        ret = str(temp % 2) + ret\n",
    "        temp = temp // 2\n",
    "\n",
    "    return ret\n",
    "\n",
    "\n",
    "chg = {key: value for value, key in enumerate(\"ABCDEF\", start = 10)}\n",
    "T = int(input())\n",
    "for test_case in range(1, T + 1):\n",
    "    n, st = input().split()\n",
    "    n = int(n)\n",
    "    res = ''\n",
    "\n",
    "    for i in range(n):\n",
    "        res += hex_to_bin(st[i])\n",
    "\n",
    "    print(f\"#{test_case} {res}\")"
   ]
  },
  {
   "cell_type": "code",
   "execution_count": null,
   "metadata": {},
   "outputs": [],
   "source": [
    "# 5356 의석이의 세로로 말해요\n",
    "\n",
    "T = int(input())\n",
    "for test_case in range(1, T + 1):\n",
    "    mat = [input() for _ in range(5)]\n",
    "    lg = list(map(len, mat))\n",
    "    pt = [0] * 5\n",
    "    ma = max(lg)\n",
    "\n",
    "    print(f\"#{test_case}\", end = ' ')\n",
    "    for i in range(ma):\n",
    "        for j in range(5):\n",
    "            if pt[j] < lg[j]:\n",
    "                print(mat[j][pt[j]], end = '')\n",
    "                pt[j] += 1\n",
    "\n",
    "    print()"
   ]
  },
  {
   "cell_type": "code",
   "execution_count": null,
   "metadata": {},
   "outputs": [],
   "source": [
    "# 5356 의석이의 세로로 말해요\n",
    "\n",
    "T = int(input())\n",
    "for test_case in range(1, T + 1):\n",
    "    mat = [input() for _ in range(5)]\n",
    "    lg = list(map(len, mat))\n",
    "    ma = max(lg)\n",
    " \n",
    "    for i in range(5):\n",
    "        if lg[i] < ma:\n",
    "            mat[i] += ' ' * (ma - lg[i])\n",
    " \n",
    "    mat_t = list(map(list, zip(*mat)))\n",
    " \n",
    "    res = ''\n",
    "    for i in range(len(mat_t)):\n",
    "        res += ''.join(mat_t[i])\n",
    " \n",
    "    res = res.replace(' ', '')\n",
    "    print(f\"#{test_case} {res}\")"
   ]
  },
  {
   "cell_type": "code",
   "execution_count": null,
   "metadata": {},
   "outputs": [],
   "source": [
    "# 5356 의석이의 세로로 말해요\n",
    "\n",
    "T = int(input())\n",
    "for test_case in range(1, T + 1):\n",
    "    mat = [input() for _ in range(5)]\n",
    "    lg = list(map(len, mat))\n",
    "    ma = max(lg)\n",
    "\n",
    "    for i in range(5):\n",
    "        if lg[i] < ma:\n",
    "            mat[i] += ' ' * (ma - lg[i])\n",
    "\n",
    "    print(f\"#{test_case}\", end = ' ')\n",
    "    for i in range(ma):\n",
    "        for j in range(5):\n",
    "            if mat[j][i] != ' ':\n",
    "                print(mat[j][i], end = '')\n",
    "    print()"
   ]
  },
  {
   "cell_type": "code",
   "execution_count": null,
   "metadata": {},
   "outputs": [],
   "source": [
    "# [S/W 문제해결 기본] 5일차 - Magnetic\n",
    "\n",
    "for test_case in range(1, 11):\n",
    "    _ = int(int(input()))\n",
    "    field = [input().split() for _ in range(100)]\n",
    "\n",
    "    res = 0\n",
    "    for i in range(100):\n",
    "        switch = 0\n",
    "        for j in range(100):\n",
    "\n",
    "            if field[j][i] == '1':\n",
    "                switch = 1\n",
    "            elif switch and field[j][i] == '2':\n",
    "                switch = 0\n",
    "                res += 1\n",
    "\n",
    "    print(f\"#{test_case} {res}\")"
   ]
  }
 ],
 "metadata": {
  "kernelspec": {
   "display_name": "Python 3",
   "language": "python",
   "name": "python3"
  },
  "language_info": {
   "name": "python",
   "version": "3.9.13"
  },
  "orig_nbformat": 4,
  "vscode": {
   "interpreter": {
    "hash": "b989fbffd3ec1c6d6c91005b2fa329057dfdc84b6f95ed35016e1b272fccc8a0"
   }
  }
 },
 "nbformat": 4,
 "nbformat_minor": 2
}
