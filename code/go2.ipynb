{
 "cells": [
  {
   "cell_type": "code",
   "execution_count": null,
   "metadata": {},
   "outputs": [],
   "source": [
    "lst = range(1, 6)\n",
    "\n",
    "data_list = [x * y for x in lst if x % 2 == 1 \n",
    "for y in lst if y % 2 == 0]\n",
    "\n",
    "print(data_list)"
   ]
  },
  {
   "cell_type": "code",
   "execution_count": null,
   "metadata": {},
   "outputs": [],
   "source": [
    "hex(id(lst))"
   ]
  },
  {
   "cell_type": "code",
   "execution_count": null,
   "metadata": {},
   "outputs": [],
   "source": [
    "a = \"http://www.example.com/test?p=1&q=2\"\n",
    "b, c = a.split(sep = \"://\")\n",
    "d, e = c.split(sep = \"/\")\n",
    "\n",
    "print(f'protocol: {b}')\n",
    "print(f'host: {d}')\n",
    "print(f\"others: {e}\")\n",
    "\n"
   ]
  },
  {
   "cell_type": "code",
   "execution_count": null,
   "metadata": {},
   "outputs": [],
   "source": [
    "a = input().split()\n",
    "b = a[0]\n",
    "\n",
    "for i in range(0, len(b)):\n",
    "    if (i % 2 == 0):\n",
    "        print(b[i], end =\"\")"
   ]
  },
  {
   "cell_type": "code",
   "execution_count": null,
   "metadata": {},
   "outputs": [],
   "source": [
    "a = list(input())\n",
    "b = {\"UPPER CASE\": 0, \"LOWER CASE\": 0}\n",
    "\n",
    "for i in a:\n",
    "    if (i.isupper()):\n",
    "        b[\"UPPER CASE\"] += 1\n",
    "    if (i.islower()):\n",
    "        b[\"LOWER CASE\"] += 1\n",
    "\n",
    "for key, values in b.items():\n",
    "    print(key, values)"
   ]
  },
  {
   "cell_type": "code",
   "execution_count": null,
   "metadata": {},
   "outputs": [],
   "source": [
    "a = list(input())\n",
    "b = {\"LETTERS\": 0, \"DIGITS\": 0}\n",
    "\n",
    "for i in a:\n",
    "    if (i.isalpha()):\n",
    "        b[\"LETTERS\"] += 1\n",
    "    if (i.isdigit()):\n",
    "        b[\"DIGITS\"] += 1\n",
    "\n",
    "for key, values in b.items():\n",
    "    print(key, values)"
   ]
  },
  {
   "cell_type": "code",
   "execution_count": null,
   "metadata": {},
   "outputs": [],
   "source": [
    "a = [1, 9, 5, 4, 2, 1]\n",
    "k = 6\n",
    "\n",
    "for i in range(5):\n",
    "    k -= 1\n",
    "    if (k >= 1):\n",
    "        for j in range(0, k):\n",
    "            if(a[j] > a[j + 1]):\n",
    "                temp = a[j]\n",
    "                a[j] = a[j + 1]\n",
    "                a[j + 1] = temp\n",
    "\n",
    "print(a)"
   ]
  },
  {
   "cell_type": "code",
   "execution_count": null,
   "metadata": {},
   "outputs": [],
   "source": [
    "def bubble_seq(a):\n",
    "    lst = a\n",
    "    length = len(a) - 1\n",
    "    k = len(a)\n",
    "    \n",
    "    for i in range(length):\n",
    "        k -= 1\n",
    "        if (k >= 1):\n",
    "            for j in range(0, k):\n",
    "                if (lst[j] > lst[j + 1]):\n",
    "                    temp = lst[j]\n",
    "                    lst[j] = lst[j + 1]\n",
    "                    lst[j + 1] = temp\n",
    "    return (lst)\n",
    "\n",
    "print(bubble_seq([1, 9, 5, 4, 2, 1]))"
   ]
  },
  {
   "cell_type": "code",
   "execution_count": null,
   "metadata": {},
   "outputs": [],
   "source": [
    "a = [\"hello\", \"hi\", \"python\", \"world\"]\n",
    "s = {}\n",
    "\n",
    "for i in a:\n",
    "    try : \n",
    "        s[i[0]].append(i)\n",
    "    except:\n",
    "        s[i[0]] = [i]"
   ]
  },
  {
   "cell_type": "code",
   "execution_count": null,
   "metadata": {},
   "outputs": [],
   "source": [
    "def str_score(s):\n",
    "    a = len(s)\n",
    "    lst = []*a\n",
    "\n",
    "    for i in range(a):\n",
    "        lst[i] = ord(s[i])\n",
    "    \n",
    "    return lst"
   ]
  },
  {
   "cell_type": "code",
   "execution_count": null,
   "metadata": {},
   "outputs": [],
   "source": [
    "print(s.keys())"
   ]
  },
  {
   "cell_type": "code",
   "execution_count": null,
   "metadata": {},
   "outputs": [],
   "source": [
    "list(map(ord, s.keys()))"
   ]
  },
  {
   "cell_type": "code",
   "execution_count": null,
   "metadata": {},
   "outputs": [],
   "source": [
    "\"hello\" < \"hi\""
   ]
  },
  {
   "cell_type": "code",
   "execution_count": null,
   "metadata": {},
   "outputs": [],
   "source": [
    "a = list(map(int, input().split()))\n",
    "s = sum(a)\n",
    "\n",
    "for i in range(s):\n",
    "    for j in a:\n",
    "        print(j, end = \" \")\n",
    "    print()"
   ]
  },
  {
   "cell_type": "code",
   "execution_count": null,
   "metadata": {},
   "outputs": [],
   "source": [
    "a = [3, 5, 2, 4, 1]\n",
    "b = [[9, 8], [7, 1], [3, 4]]\n",
    "\n",
    "if (int(input()) % 2 == 0):\n",
    "    for i in b:\n",
    "        print(*i, sep = \"\")\n",
    "else :\n",
    "    print(*a, sep = \"\")\n"
   ]
  },
  {
   "cell_type": "code",
   "execution_count": null,
   "metadata": {},
   "outputs": [],
   "source": [
    "a = list(map(int, input().split()))\n",
    "\n",
    "for i in range(4):\n",
    "    if (a[i] < 20):\n",
    "        print(\"더 큰수를 입력하세요\")\n",
    "    elif (a[i] == 20):\n",
    "        print(\"정답입니다\")\n",
    "    else:\n",
    "        print(\"더 작은수를 입력하세요\")"
   ]
  },
  {
   "cell_type": "code",
   "execution_count": null,
   "metadata": {},
   "outputs": [],
   "source": [
    "lst = list(map(int, input().split()))\n",
    "\n",
    "for i, j in enumerate(lst):\n",
    "\n",
    "    if (j >= 70):\n",
    "        score = \"PASS\"\n",
    "    elif (j >= 50):\n",
    "        score = \"RETEST\"\n",
    "    else :\n",
    "        score = \"FAIL\"\n",
    "    \n",
    "    print(f\"{i + 1}번사람은{j}점{score}\")"
   ]
  },
  {
   "cell_type": "code",
   "execution_count": null,
   "metadata": {},
   "outputs": [],
   "source": [
    "m = 5 # 세로\n",
    "n = 4 # 가로\n",
    "\n",
    "\n",
    "for i in range(m):\n",
    "    for j in range(n):\n",
    "        print(\"*\", end = \"\")\n",
    "    print()"
   ]
  },
  {
   "cell_type": "code",
   "execution_count": null,
   "metadata": {},
   "outputs": [],
   "source": [
    "score = {\n",
    "    'python': 80,\n",
    "    'django': 89,\n",
    "    'web': 83\n",
    "}\n",
    "\n",
    "score['algorithm'] = 90\n",
    "score['python'] = 85\n",
    "lst = list(score.values())\n",
    "mean = sum(lst)/len(lst)\n",
    "\n",
    "print(f'김해피 학생의 전체 과목 평균은 {mean}입니다.')"
   ]
  },
  {
   "cell_type": "code",
   "execution_count": null,
   "metadata": {},
   "outputs": [],
   "source": [
    "s = input('숫자를 입력해주세요 : ')\n",
    "ans = 0\n",
    "\n",
    "for i in s:\n",
    "    ans += int(i)\n",
    "\n",
    "print(ans)"
   ]
  },
  {
   "cell_type": "code",
   "execution_count": null,
   "metadata": {},
   "outputs": [],
   "source": [
    "a = 3\n",
    "b = 6\n",
    "c = -5\n",
    "\n",
    "from math import *\n",
    "\n",
    "def find_root(a, b, c):\n",
    "    ans1 = round((-b + sqrt(b**2 - 4*a*c))/(2*a), 4)\n",
    "    ans2 = round((-b - sqrt(b**2 - 4*a*c))/(2*a), 4)\n",
    "    ans = tuple([ans1, ans2])\n",
    "    return(ans)\n",
    "\n",
    "print(find_root(a, b, c))"
   ]
  },
  {
   "cell_type": "code",
   "execution_count": null,
   "metadata": {},
   "outputs": [],
   "source": [
    "str_lst = input('문자열을 입력하세요. : ')\n",
    "lst = str_lst.split()\n",
    "key = 1\n",
    "\n",
    "for i in range(len(lst) - 1):\n",
    "    if (lst[i][-1].upper() == lst[i + 1][0].upper()):\n",
    "        key *= 1\n",
    "    else :\n",
    "        key *= 0\n",
    "\n",
    "if (key == 1):\n",
    "    print(\"Pass\")\n",
    "else :\n",
    "    print(\"Fail\")\n"
   ]
  },
  {
   "cell_type": "code",
   "execution_count": null,
   "metadata": {},
   "outputs": [],
   "source": [
    "# 출력 결과 예시\n",
    "# 스테이크   50,000\n",
    "# + VAT     7,500\n",
    "# 총계 ₩    57,500\n",
    "\n",
    "dict = {\"스테이크\": \"50,000\", \"+ VAT\": \"7,500\", \"총계 ￦\": '57,500'}\n",
    " \n",
    "for keys, values in dict.items():\n",
    "    print(f\"{keys}  {values}\")"
   ]
  },
  {
   "cell_type": "code",
   "execution_count": null,
   "metadata": {},
   "outputs": [],
   "source": [
    "todo = [(\"Python Homework\", 3), (\"Assay\", 4), (\"Vacation\", 100)]\n",
    "\n",
    "a = input()\n",
    "b = int(input())\n",
    "\n",
    "todo.append(tuple([a, b]))\n",
    "\n",
    "print(todo)\n"
   ]
  },
  {
   "cell_type": "code",
   "execution_count": 3,
   "metadata": {},
   "outputs": [
    {
     "ename": "KeyboardInterrupt",
     "evalue": "",
     "output_type": "error",
     "traceback": [
      "\u001b[1;31m---------------------------------------------------------------------------\u001b[0m",
      "\u001b[1;31mKeyboardInterrupt\u001b[0m                         Traceback (most recent call last)",
      "Cell \u001b[1;32mIn[3], line 38\u001b[0m\n\u001b[0;32m     34\u001b[0m             \u001b[39mbreak\u001b[39;00m;\n\u001b[0;32m     36\u001b[0m     \u001b[39mreturn\u001b[39;00m(ret)\n\u001b[1;32m---> 38\u001b[0m str_compare(\u001b[39m\"\u001b[39;49m\u001b[39mhello\u001b[39;49m\u001b[39m\"\u001b[39;49m, \u001b[39m\"\u001b[39;49m\u001b[39mhell\u001b[39;49m\u001b[39m\"\u001b[39;49m)\n",
      "Cell \u001b[1;32mIn[3], line 30\u001b[0m, in \u001b[0;36mstr_compare\u001b[1;34m(s1, s2)\u001b[0m\n\u001b[0;32m     28\u001b[0m \u001b[39mif\u001b[39;00m (lst1[k] \u001b[39m<\u001b[39m lst2[k]):\n\u001b[0;32m     29\u001b[0m     \u001b[39mbreak\u001b[39;00m;\n\u001b[1;32m---> 30\u001b[0m \u001b[39mif\u001b[39;00m (lst1[k] \u001b[39m>\u001b[39m lst2[k]):\n\u001b[0;32m     31\u001b[0m     ret \u001b[39m=\u001b[39m [s2, s1]\n\u001b[0;32m     32\u001b[0m     \u001b[39mbreak\u001b[39;00m;\n",
      "\u001b[1;31mKeyboardInterrupt\u001b[0m: "
     ]
    }
   ],
   "source": [
    "def str_score(s):\n",
    "    a = len(s)\n",
    "    lst = []*a\n",
    "\n",
    "    for i in range(a):\n",
    "        lst[i] = ord(s[i])\n",
    "    \n",
    "    return lst\n",
    "\n",
    "def str_compare(s1, s2):\n",
    "    lst1 = str_score(s1)\n",
    "    lst2 = str_score(s2)\n",
    "    len1 = len(lst1)\n",
    "    len2 = len(lst2)\n",
    "\n",
    "    # 길이 맞춰주기\n",
    "    if (len1 > len2):\n",
    "        lst2 = lst2 + [0]*(len1 - len2)\n",
    "    elif (len1 < len2):\n",
    "        lst1 = lst1 + [0]*(len2 - len1)\n",
    "    else:\n",
    "        pass\n",
    "\n",
    "    k = 0\n",
    "    ret = [s1, s2]\n",
    "    \n",
    "    while (True):\n",
    "        if (lst1[k] < lst2[k]):\n",
    "            break;\n",
    "        if (lst1[k] > lst2[k]):\n",
    "            ret = [s2, s1]\n",
    "            break;\n",
    "        if ((k + 1) == len1):\n",
    "            break;\n",
    "    \n",
    "    return(ret)\n",
    "\n",
    "str_compare(\"hello\", \"hell\")"
   ]
  },
  {
   "cell_type": "code",
   "execution_count": 7,
   "metadata": {},
   "outputs": [
    {
     "data": {
      "text/plain": [
       "['asdf', 'hello']"
      ]
     },
     "execution_count": 7,
     "metadata": {},
     "output_type": "execute_result"
    }
   ],
   "source": [
    "def str_compare(s1, s2):\n",
    "    s11 = s1 + \" \"\n",
    "    s21 = s2 + \" \"\n",
    "\n",
    "    k = 0\n",
    "    ret = [s1, s2]\n",
    "    while(True):\n",
    "        if (s11 > s21):\n",
    "            ret = [s2, s1]\n",
    "            break;\n",
    "        if (s11 < s21):\n",
    "            break;\n",
    "        if ((k + 1) == len(s11) or (k + 1) == len(s21)):\n",
    "            break;\n",
    "    \n",
    "    return(ret)\n",
    "\n",
    "str_compare(\"hello\", \"asdf\")\n"
   ]
  },
  {
   "cell_type": "code",
   "execution_count": 14,
   "metadata": {},
   "outputs": [
    {
     "name": "stdout",
     "output_type": "stream",
     "text": [
      "3 4 5\n",
      "6 7 8\n",
      "9 10 11\n"
     ]
    }
   ],
   "source": [
    "a = int(input())\n",
    "lst = [[i, i + 1, i + 2] for i in range(a, a + 7, 3)]\n",
    "\n",
    "for j in lst:\n",
    "    print(*j)"
   ]
  },
  {
   "cell_type": "code",
   "execution_count": 17,
   "metadata": {},
   "outputs": [
    {
     "name": "stdout",
     "output_type": "stream",
     "text": [
      "초기값\n"
     ]
    }
   ],
   "source": [
    "a = int(input())\n",
    "b = [3, 5, 7]\n",
    "c = [0, 8]\n",
    "\n",
    "def BBQ(a):\n",
    "    if (a > 0 and a < 5):\n",
    "        print(\"초기값\")\n",
    "    elif (a > 6 and a < 10):\n",
    "        print(\"중간값\")\n",
    "    else:\n",
    "        print(\"알수없는값\")\n",
    "\n",
    "if (a in b):\n",
    "    for i in range(1, 11):\n",
    "        print(i, end = \"\")\n",
    "elif (a in c):\n",
    "    for i in range(10, 0, -1):\n",
    "        print(i, end = \"\")\n",
    "else :\n",
    "    BBQ(a)"
   ]
  },
  {
   "cell_type": "code",
   "execution_count": 25,
   "metadata": {},
   "outputs": [
    {
     "name": "stdout",
     "output_type": "stream",
     "text": [
      "abcdefghijklmnopqrstuvwxyz"
     ]
    }
   ],
   "source": [
    "lst = input().split()\n",
    "cnt = 0\n",
    "\n",
    "for i in lst:\n",
    "    if (i.isupper()):\n",
    "        cnt += 1\n",
    "\n",
    "if (cnt == 2):\n",
    "    print(\"대문자들\")\n",
    "elif (cnt == 1):\n",
    "    print(\"대소문자\")\n",
    "else:\n",
    "    for i in range(ord('a'), ord('z') + 1):\n",
    "        print(chr(i), end = \"\")"
   ]
  },
  {
   "cell_type": "code",
   "execution_count": 29,
   "metadata": {},
   "outputs": [
    {
     "name": "stdout",
     "output_type": "stream",
     "text": [
      "n\n"
     ]
    }
   ],
   "source": [
    "a = [[\"\"]*5 for i in range(3)]\n",
    "b = ord(input())\n",
    "\n",
    "for i in range(3):\n",
    "    for j in range(5):\n",
    "        a[i][j] = chr(b)\n",
    "        b += 1\n",
    "\n",
    "print(a[2][2].lower())"
   ]
  },
  {
   "cell_type": "code",
   "execution_count": 38,
   "metadata": {},
   "outputs": [
    {
     "name": "stdout",
     "output_type": "stream",
     "text": [
      "7 5\n",
      "8 3\n",
      "4 5\n"
     ]
    }
   ],
   "source": [
    "a = list(map(int, input().split()))\n",
    "b = [[0]*2 for i in range(3)]\n",
    "k = 0\n",
    "\n",
    "for i in range(3):\n",
    "    for j in range(2):\n",
    "        b[i][j] = a[k] + 2\n",
    "        k += 1\n",
    "\n",
    "for h in b:\n",
    "    print(*h)"
   ]
  },
  {
   "cell_type": "code",
   "execution_count": 41,
   "metadata": {},
   "outputs": [
    {
     "name": "stdout",
     "output_type": "stream",
     "text": [
      "1 2 3 4 5 6 7 8 9 10 "
     ]
    }
   ],
   "source": [
    "n = int(input())\n",
    "k = 1\n",
    "\n",
    "while (k <= n):\n",
    "    print(k, end = \" \")\n",
    "    k += 1"
   ]
  },
  {
   "cell_type": "code",
   "execution_count": 50,
   "metadata": {},
   "outputs": [
    {
     "name": "stdout",
     "output_type": "stream",
     "text": [
      "3 4 5 6\n",
      "7 8 9 10\n",
      "11 12 13 14\n"
     ]
    }
   ],
   "source": [
    "a = [[0]*4 for i in range(3)]\n",
    "b = int(input())\n",
    "\n",
    "for i in range(3):\n",
    "    for j in range(4):\n",
    "        a[i][j] = b + 1\n",
    "        b += 1\n",
    "\n",
    "for k in a:\n",
    "    print(*k)"
   ]
  },
  {
   "cell_type": "code",
   "execution_count": 57,
   "metadata": {},
   "outputs": [
    {
     "name": "stdout",
     "output_type": "stream",
     "text": [
      "HGFEDCBA"
     ]
    }
   ],
   "source": [
    "a = ['B', 'D', '5', 'Q', 'A']\n",
    "b = ['Q', 'E', 'R', 'E', 'F']\n",
    "c = input()\n",
    "\n",
    "if (c.isupper()):\n",
    "    print(*b, sep = \"\")\n",
    "elif (c.islower()):\n",
    "    print(*a, sep = \"\")\n",
    "else:\n",
    "    for i in range(ord('H'), ord('A') - 1, -1):\n",
    "        print(chr(i), end = \"\")"
   ]
  },
  {
   "cell_type": "code",
   "execution_count": 60,
   "metadata": {},
   "outputs": [
    {
     "name": "stdout",
     "output_type": "stream",
     "text": [
      "샵무샵무샵샵"
     ]
    }
   ],
   "source": [
    "a = ['#', '_', \"#\", '_', '#', '#']\n",
    "\n",
    "for i in a:\n",
    "    if (i == '#'):\n",
    "        print('샵', end = \"\")\n",
    "    else:\n",
    "        print('무', end = \"\")"
   ]
  },
  {
   "cell_type": "code",
   "execution_count": 62,
   "metadata": {},
   "outputs": [
    {
     "name": "stdout",
     "output_type": "stream",
     "text": [
      "21\n"
     ]
    }
   ],
   "source": [
    "a = [[0]*3 for i in range(2)]\n",
    "b = list(map(int, input().split()))\n",
    "k = 0\n",
    "\n",
    "for i in range(2):\n",
    "    for j in range(3):\n",
    "        a[i][j] = b[k]\n",
    "        k += 1\n",
    "\n",
    "s = 0\n",
    "\n",
    "for i in a:\n",
    "    for j in i:\n",
    "        s += j\n",
    "\n",
    "print(s)"
   ]
  },
  {
   "cell_type": "code",
   "execution_count": 63,
   "metadata": {},
   "outputs": [
    {
     "name": "stdout",
     "output_type": "stream",
     "text": [
      "5개 존재합니다\n"
     ]
    }
   ],
   "source": [
    "a = [[4, 3, 1, 1], [3, 1, 2, 1], [0, 0, 1, 2]]\n",
    "cnt = 0\n",
    "b = int(input())\n",
    "\n",
    "for i in a:\n",
    "    for j in i:\n",
    "        if (j == b):\n",
    "            cnt += 1\n",
    "\n",
    "print(f'{cnt}개 존재합니다')"
   ]
  },
  {
   "cell_type": "code",
   "execution_count": 69,
   "metadata": {},
   "outputs": [
    {
     "name": "stdout",
     "output_type": "stream",
     "text": [
      "H G F E D C B A "
     ]
    }
   ],
   "source": [
    "def startBox():\n",
    "    for i in range(1, 20, 2):\n",
    "        print(i, end = \" \")\n",
    "def macDoll():\n",
    "    for i in range(ord('H'), ord('A') - 1, -1):\n",
    "        print(chr(i), end = \" \")\n",
    "def copyBean():\n",
    "    for i in range(-5, 6):\n",
    "        print (i, end = \" \")\n",
    "\n",
    "a = int(input())\n",
    "\n",
    "if (a >= 3500 and a <= 5000):\n",
    "    startBox()\n",
    "elif (a>= 2500 and a < 3500):\n",
    "    macDoll()\n",
    "else:\n",
    "    copyBean()"
   ]
  },
  {
   "cell_type": "code",
   "execution_count": 70,
   "metadata": {},
   "outputs": [
    {
     "name": "stdout",
     "output_type": "stream",
     "text": [
      "0번은 8점 합격\n",
      "1번은 1점 불합격\n",
      "2번은 4점 불합격\n",
      "3번은 7점 합격\n",
      "4번은 8점 합격\n",
      "5번은 2점 불합격\n"
     ]
    }
   ],
   "source": [
    "a = list(map(int, input().split()))\n",
    "b = []\n",
    "\n",
    "for i in a:\n",
    "    if (i >= 5):\n",
    "        b.append('합격')\n",
    "    else:\n",
    "        b.append(\"불합격\")\n",
    "\n",
    "for i in range(6):\n",
    "    print(f\"{i}번은 {a[i]}점 {b[i]}\")"
   ]
  },
  {
   "cell_type": "code",
   "execution_count": 71,
   "metadata": {},
   "outputs": [
    {
     "name": "stdout",
     "output_type": "stream",
     "text": [
      "3번 INDEX\n"
     ]
    }
   ],
   "source": [
    "a = ['D', 'T', 'A', 'B', 'W', 'Q']\n",
    "b = input()\n",
    "k = 0\n",
    "\n",
    "for i in a:\n",
    "    if(i == b):\n",
    "        print(f'{k}번 INDEX')\n",
    "    else :\n",
    "        k += 1\n",
    " "
   ]
  },
  {
   "cell_type": "code",
   "execution_count": 80,
   "metadata": {},
   "outputs": [
    {
     "name": "stdout",
     "output_type": "stream",
     "text": [
      "CCCCBBBBBBAAAAAAA"
     ]
    }
   ],
   "source": [
    "lst = list(input().split())\n",
    "lst2 = [0]*17\n",
    "\n",
    "lst2[0:7] = lst[0]*7\n",
    "lst2[7:13] = lst[1]*6\n",
    "lst2[13:17] = lst[2]*4\n",
    "\n",
    "for i in range(len(lst2)-1, -1, -1):\n",
    "    print(lst2[i], end = \"\")\n"
   ]
  },
  {
   "cell_type": "code",
   "execution_count": 83,
   "metadata": {},
   "outputs": [
    {
     "name": "stdout",
     "output_type": "stream",
     "text": [
      "ABCDE\n",
      "ABCDE\n",
      "ABCDE\n"
     ]
    }
   ],
   "source": [
    "a, b, c = input().split()\n",
    "c = int(c)\n",
    "\n",
    "for i in range(c):\n",
    "    for j in range(ord(a), ord(b) + 1):\n",
    "        print(chr(j), end = \"\")\n",
    "    print()"
   ]
  },
  {
   "cell_type": "code",
   "execution_count": 84,
   "metadata": {},
   "outputs": [
    {
     "name": "stdout",
     "output_type": "stream",
     "text": [
      "CC\n",
      "CC\n"
     ]
    }
   ],
   "source": [
    "a, b = input().split()\n",
    "b = int(b)\n",
    "\n",
    "for i in range(b):\n",
    "    for j in range(b):\n",
    "        print(a, end =\"\")\n",
    "    print()"
   ]
  },
  {
   "cell_type": "code",
   "execution_count": 85,
   "metadata": {},
   "outputs": [
    {
     "name": "stdout",
     "output_type": "stream",
     "text": [
      "0 0 5\n",
      "0 0 0\n",
      "0 0 0\n"
     ]
    }
   ],
   "source": [
    "lst = [[0]*3 for i in range(3)]\n",
    "a, b, c = map(int, input().split())\n",
    "lst[a][b] = c\n",
    "\n",
    "for i in lst:\n",
    "    print(*i)"
   ]
  },
  {
   "cell_type": "code",
   "execution_count": 88,
   "metadata": {},
   "outputs": [
    {
     "name": "stdout",
     "output_type": "stream",
     "text": [
      "333\n",
      "333\n",
      "333\n",
      "555\n",
      "555\n",
      "555\n"
     ]
    }
   ],
   "source": [
    "a, b = map(int, input().split())\n",
    "lst = [[0]*3 for i in range(6)]\n",
    "\n",
    "for i in range(6):\n",
    "    for j in range(3):\n",
    "        if (i < 3):\n",
    "            lst[i][j] = a\n",
    "        else :\n",
    "            lst[i][j] = b\n",
    "\n",
    "for k in lst:\n",
    "    print(*k, sep = \"\")\n"
   ]
  },
  {
   "cell_type": "code",
   "execution_count": 89,
   "metadata": {},
   "outputs": [
    {
     "name": "stdout",
     "output_type": "stream",
     "text": [
      "AAAAGG\n",
      "AAAAGG\n",
      "AAAAGG\n"
     ]
    }
   ],
   "source": [
    "a, b = input().split()\n",
    "lst = [['0']*6 for i in range(3)]\n",
    "\n",
    "for i in range(3):\n",
    "    for j in range(6):\n",
    "        if (j >= 4):\n",
    "            lst[i][j] = b\n",
    "        else:\n",
    "            lst[i][j] = a\n",
    "\n",
    "for k in lst:\n",
    "    print(*k, sep = \"\")"
   ]
  },
  {
   "cell_type": "code",
   "execution_count": 90,
   "metadata": {},
   "outputs": [
    {
     "name": "stdout",
     "output_type": "stream",
     "text": [
      "숫자1개수는2개\n"
     ]
    }
   ],
   "source": [
    "a = [4, 3, 6, 1, 3, 1, 5, 3]\n",
    "cnt = 0\n",
    "b = int(input())\n",
    "\n",
    "for i in a:\n",
    "    if (i == b):\n",
    "        cnt += 1\n",
    "\n",
    "print(f'숫자{b}개수는{cnt}개')"
   ]
  },
  {
   "cell_type": "code",
   "execution_count": 92,
   "metadata": {},
   "outputs": [
    {
     "name": "stdout",
     "output_type": "stream",
     "text": [
      "대발견\n"
     ]
    }
   ],
   "source": [
    "lst = [['A', 'B', 'C', 'D', 'E'], ['E', 'A', 'B', 'A', 'B'], ['A', 'C', 'D', 'E', 'R']]\n",
    "a = input()\n",
    "cnt = 0\n",
    "\n",
    "for i in lst:\n",
    "    for j in i:\n",
    "        if (j == a):\n",
    "            cnt += 1\n",
    "\n",
    "if (cnt >= 3):\n",
    "    print(\"대발견\")\n",
    "elif (cnt >= 1):\n",
    "    print(\"발견\")\n",
    "else:\n",
    "    print(\"미발견\")"
   ]
  },
  {
   "cell_type": "code",
   "execution_count": 93,
   "metadata": {},
   "outputs": [
    {
     "name": "stdout",
     "output_type": "stream",
     "text": [
      "오1개\n"
     ]
    }
   ],
   "source": [
    "lst = ['A', 'F', 'G', 'A', 'B', 'C']\n",
    "a, b = input().split()\n",
    "cnt = 0\n",
    "\n",
    "if (a in lst):\n",
    "    cnt += 1\n",
    "if (b in lst):\n",
    "    cnt += 1\n",
    "\n",
    "if (cnt == 2):\n",
    "    print(\"와2개\")\n",
    "elif (cnt == 1):\n",
    "    print(\"오1개\")\n",
    "else:\n",
    "    print(\"우0개\")"
   ]
  },
  {
   "cell_type": "code",
   "execution_count": null,
   "metadata": {},
   "outputs": [],
   "source": []
  }
 ],
 "metadata": {
  "kernelspec": {
   "display_name": "Python 3",
   "language": "python",
   "name": "python3"
  },
  "language_info": {
   "codemirror_mode": {
    "name": "ipython",
    "version": 3
   },
   "file_extension": ".py",
   "mimetype": "text/x-python",
   "name": "python",
   "nbconvert_exporter": "python",
   "pygments_lexer": "ipython3",
   "version": "3.9.13"
  },
  "orig_nbformat": 4,
  "vscode": {
   "interpreter": {
    "hash": "c4b9ebf4ca459396e2ad1150752490c26670c1a037c08cad955a4425787bec2e"
   }
  }
 },
 "nbformat": 4,
 "nbformat_minor": 2
}
