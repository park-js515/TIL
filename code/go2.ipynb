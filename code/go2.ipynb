{
 "cells": [
  {
   "cell_type": "code",
   "execution_count": null,
   "metadata": {},
   "outputs": [],
   "source": [
    "lst = range(1, 6)\n",
    "\n",
    "data_list = [x * y for x in lst if x % 2 == 1 \n",
    "for y in lst if y % 2 == 0]\n",
    "\n",
    "print(data_list)"
   ]
  },
  {
   "cell_type": "code",
   "execution_count": null,
   "metadata": {},
   "outputs": [],
   "source": [
    "hex(id(lst))"
   ]
  },
  {
   "cell_type": "code",
   "execution_count": null,
   "metadata": {},
   "outputs": [],
   "source": [
    "a = \"http://www.example.com/test?p=1&q=2\"\n",
    "b, c = a.split(sep = \"://\")\n",
    "d, e = c.split(sep = \"/\")\n",
    "\n",
    "print(f'protocol: {b}')\n",
    "print(f'host: {d}')\n",
    "print(f\"others: {e}\")\n",
    "\n"
   ]
  },
  {
   "cell_type": "code",
   "execution_count": null,
   "metadata": {},
   "outputs": [],
   "source": [
    "a = input().split()\n",
    "b = a[0]\n",
    "\n",
    "for i in range(0, len(b)):\n",
    "    if (i % 2 == 0):\n",
    "        print(b[i], end =\"\")"
   ]
  },
  {
   "cell_type": "code",
   "execution_count": null,
   "metadata": {},
   "outputs": [],
   "source": [
    "a = list(input())\n",
    "b = {\"UPPER CASE\": 0, \"LOWER CASE\": 0}\n",
    "\n",
    "for i in a:\n",
    "    if (i.isupper()):\n",
    "        b[\"UPPER CASE\"] += 1\n",
    "    if (i.islower()):\n",
    "        b[\"LOWER CASE\"] += 1\n",
    "\n",
    "for key, values in b.items():\n",
    "    print(key, values)"
   ]
  },
  {
   "cell_type": "code",
   "execution_count": null,
   "metadata": {},
   "outputs": [],
   "source": [
    "a = list(input())\n",
    "b = {\"LETTERS\": 0, \"DIGITS\": 0}\n",
    "\n",
    "for i in a:\n",
    "    if (i.isalpha()):\n",
    "        b[\"LETTERS\"] += 1\n",
    "    if (i.isdigit()):\n",
    "        b[\"DIGITS\"] += 1\n",
    "\n",
    "for key, values in b.items():\n",
    "    print(key, values)"
   ]
  },
  {
   "cell_type": "code",
   "execution_count": 28,
   "metadata": {},
   "outputs": [
    {
     "name": "stdout",
     "output_type": "stream",
     "text": [
      "[1, 1, 2, 4, 5, 9]\n"
     ]
    }
   ],
   "source": [
    "a = [1, 9, 5, 4, 2, 1]\n",
    "k = 6\n",
    "\n",
    "for i in range(5):\n",
    "    k -= 1\n",
    "    if (k >= 1):\n",
    "        for j in range(0, k):\n",
    "            if(a[j] > a[j + 1]):\n",
    "                temp = a[j]\n",
    "                a[j] = a[j + 1]\n",
    "                a[j + 1] = temp\n",
    "\n",
    "print(a)"
   ]
  },
  {
   "cell_type": "code",
   "execution_count": 29,
   "metadata": {},
   "outputs": [
    {
     "name": "stdout",
     "output_type": "stream",
     "text": [
      "[1, 1, 2, 4, 5, 9]\n"
     ]
    }
   ],
   "source": [
    "def bubble_seq(a):\n",
    "    lst = a\n",
    "    length = len(a) - 1\n",
    "    k = len(a)\n",
    "    \n",
    "    for i in range(length):\n",
    "        k -= 1\n",
    "        if (k >= 1):\n",
    "            for j in range(0, k):\n",
    "                if (lst[j] > lst[j + 1]):\n",
    "                    temp = lst[j]\n",
    "                    lst[j] = lst[j + 1]\n",
    "                    lst[j + 1] = temp\n",
    "    return (lst)\n",
    "\n",
    "print(bubble_seq([1, 9, 5, 4, 2, 1]))"
   ]
  },
  {
   "cell_type": "code",
   "execution_count": 1,
   "metadata": {},
   "outputs": [],
   "source": [
    "a = [\"hello\", \"hi\", \"python\", \"world\"]\n",
    "s = {}\n",
    "\n",
    "for i in a:\n",
    "    try : \n",
    "        s[i[0]].append(i)\n",
    "    except:\n",
    "        s[i[0]] = [i]"
   ]
  },
  {
   "cell_type": "code",
   "execution_count": 2,
   "metadata": {},
   "outputs": [],
   "source": [
    "def str_score(s):\n",
    "    a = len(s)\n",
    "    lst = []*a\n",
    "\n",
    "    for i in range(a):\n",
    "        lst[i] = ord(s[i])\n",
    "    \n",
    "    return lst"
   ]
  },
  {
   "cell_type": "code",
   "execution_count": 3,
   "metadata": {},
   "outputs": [
    {
     "name": "stdout",
     "output_type": "stream",
     "text": [
      "dict_keys(['h', 'p', 'w'])\n"
     ]
    }
   ],
   "source": [
    "print(s.keys())"
   ]
  },
  {
   "cell_type": "code",
   "execution_count": 8,
   "metadata": {},
   "outputs": [
    {
     "data": {
      "text/plain": [
       "[104, 112, 119]"
      ]
     },
     "execution_count": 8,
     "metadata": {},
     "output_type": "execute_result"
    }
   ],
   "source": [
    "list(map(ord, s.keys()))"
   ]
  },
  {
   "cell_type": "code",
   "execution_count": 11,
   "metadata": {},
   "outputs": [
    {
     "data": {
      "text/plain": [
       "True"
      ]
     },
     "execution_count": 11,
     "metadata": {},
     "output_type": "execute_result"
    }
   ],
   "source": [
    "\"hello\" < \"hi\""
   ]
  }
 ],
 "metadata": {
  "kernelspec": {
   "display_name": "Python 3",
   "language": "python",
   "name": "python3"
  },
  "language_info": {
   "codemirror_mode": {
    "name": "ipython",
    "version": 3
   },
   "file_extension": ".py",
   "mimetype": "text/x-python",
   "name": "python",
   "nbconvert_exporter": "python",
   "pygments_lexer": "ipython3",
   "version": "3.9.13"
  },
  "orig_nbformat": 4,
  "vscode": {
   "interpreter": {
    "hash": "b989fbffd3ec1c6d6c91005b2fa329057dfdc84b6f95ed35016e1b272fccc8a0"
   }
  }
 },
 "nbformat": 4,
 "nbformat_minor": 2
}
