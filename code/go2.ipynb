{
 "cells": [
  {
   "cell_type": "code",
   "execution_count": null,
   "metadata": {},
   "outputs": [],
   "source": [
    "lst = range(1, 6)\n",
    "\n",
    "data_list = [x * y for x in lst if x % 2 == 1 \n",
    "for y in lst if y % 2 == 0]\n",
    "\n",
    "print(data_list)"
   ]
  },
  {
   "cell_type": "code",
   "execution_count": null,
   "metadata": {},
   "outputs": [],
   "source": [
    "hex(id(lst))"
   ]
  },
  {
   "cell_type": "code",
   "execution_count": null,
   "metadata": {},
   "outputs": [],
   "source": [
    "a = \"http://www.example.com/test?p=1&q=2\"\n",
    "b, c = a.split(sep = \"://\")\n",
    "d, e = c.split(sep = \"/\")\n",
    "\n",
    "print(f'protocol: {b}')\n",
    "print(f'host: {d}')\n",
    "print(f\"others: {e}\")\n",
    "\n"
   ]
  },
  {
   "cell_type": "code",
   "execution_count": null,
   "metadata": {},
   "outputs": [],
   "source": [
    "a = input().split()\n",
    "b = a[0]\n",
    "\n",
    "for i in range(0, len(b)):\n",
    "    if (i % 2 == 0):\n",
    "        print(b[i], end =\"\")"
   ]
  },
  {
   "cell_type": "code",
   "execution_count": null,
   "metadata": {},
   "outputs": [],
   "source": [
    "a = list(input())\n",
    "b = {\"UPPER CASE\": 0, \"LOWER CASE\": 0}\n",
    "\n",
    "for i in a:\n",
    "    if (i.isupper()):\n",
    "        b[\"UPPER CASE\"] += 1\n",
    "    if (i.islower()):\n",
    "        b[\"LOWER CASE\"] += 1\n",
    "\n",
    "for key, values in b.items():\n",
    "    print(key, values)"
   ]
  },
  {
   "cell_type": "code",
   "execution_count": null,
   "metadata": {},
   "outputs": [],
   "source": [
    "a = list(input())\n",
    "b = {\"LETTERS\": 0, \"DIGITS\": 0}\n",
    "\n",
    "for i in a:\n",
    "    if (i.isalpha()):\n",
    "        b[\"LETTERS\"] += 1\n",
    "    if (i.isdigit()):\n",
    "        b[\"DIGITS\"] += 1\n",
    "\n",
    "for key, values in b.items():\n",
    "    print(key, values)"
   ]
  },
  {
   "cell_type": "code",
   "execution_count": null,
   "metadata": {},
   "outputs": [],
   "source": [
    "a = [1, 9, 5, 4, 2, 1]\n",
    "k = 6\n",
    "\n",
    "for i in range(5):\n",
    "    k -= 1\n",
    "    if (k >= 1):\n",
    "        for j in range(0, k):\n",
    "            if(a[j] > a[j + 1]):\n",
    "                temp = a[j]\n",
    "                a[j] = a[j + 1]\n",
    "                a[j + 1] = temp\n",
    "\n",
    "print(a)"
   ]
  },
  {
   "cell_type": "code",
   "execution_count": null,
   "metadata": {},
   "outputs": [],
   "source": [
    "def bubble_seq(a):\n",
    "    lst = a\n",
    "    length = len(a) - 1\n",
    "    k = len(a)\n",
    "    \n",
    "    for i in range(length):\n",
    "        k -= 1\n",
    "        if (k >= 1):\n",
    "            for j in range(0, k):\n",
    "                if (lst[j] > lst[j + 1]):\n",
    "                    temp = lst[j]\n",
    "                    lst[j] = lst[j + 1]\n",
    "                    lst[j + 1] = temp\n",
    "    return (lst)\n",
    "\n",
    "print(bubble_seq([1, 9, 5, 4, 2, 1]))"
   ]
  },
  {
   "cell_type": "code",
   "execution_count": null,
   "metadata": {},
   "outputs": [],
   "source": [
    "a = [\"hello\", \"hi\", \"python\", \"world\"]\n",
    "s = {}\n",
    "\n",
    "for i in a:\n",
    "    try : \n",
    "        s[i[0]].append(i)\n",
    "    except:\n",
    "        s[i[0]] = [i]"
   ]
  },
  {
   "cell_type": "code",
   "execution_count": null,
   "metadata": {},
   "outputs": [],
   "source": [
    "def str_score(s):\n",
    "    a = len(s)\n",
    "    lst = []*a\n",
    "\n",
    "    for i in range(a):\n",
    "        lst[i] = ord(s[i])\n",
    "    \n",
    "    return lst"
   ]
  },
  {
   "cell_type": "code",
   "execution_count": null,
   "metadata": {},
   "outputs": [],
   "source": [
    "print(s.keys())"
   ]
  },
  {
   "cell_type": "code",
   "execution_count": null,
   "metadata": {},
   "outputs": [],
   "source": [
    "list(map(ord, s.keys()))"
   ]
  },
  {
   "cell_type": "code",
   "execution_count": null,
   "metadata": {},
   "outputs": [],
   "source": [
    "\"hello\" < \"hi\""
   ]
  },
  {
   "cell_type": "code",
   "execution_count": null,
   "metadata": {},
   "outputs": [],
   "source": [
    "a = list(map(int, input().split()))\n",
    "s = sum(a)\n",
    "\n",
    "for i in range(s):\n",
    "    for j in a:\n",
    "        print(j, end = \" \")\n",
    "    print()"
   ]
  },
  {
   "cell_type": "code",
   "execution_count": null,
   "metadata": {},
   "outputs": [],
   "source": [
    "a = [3, 5, 2, 4, 1]\n",
    "b = [[9, 8], [7, 1], [3, 4]]\n",
    "\n",
    "if (int(input()) % 2 == 0):\n",
    "    for i in b:\n",
    "        print(*i, sep = \"\")\n",
    "else :\n",
    "    print(*a, sep = \"\")\n"
   ]
  },
  {
   "cell_type": "code",
   "execution_count": null,
   "metadata": {},
   "outputs": [],
   "source": [
    "a = list(map(int, input().split()))\n",
    "\n",
    "for i in range(4):\n",
    "    if (a[i] < 20):\n",
    "        print(\"더 큰수를 입력하세요\")\n",
    "    elif (a[i] == 20):\n",
    "        print(\"정답입니다\")\n",
    "    else:\n",
    "        print(\"더 작은수를 입력하세요\")"
   ]
  },
  {
   "cell_type": "code",
   "execution_count": null,
   "metadata": {},
   "outputs": [],
   "source": [
    "lst = list(map(int, input().split()))\n",
    "\n",
    "for i, j in enumerate(lst):\n",
    "\n",
    "    if (j >= 70):\n",
    "        score = \"PASS\"\n",
    "    elif (j >= 50):\n",
    "        score = \"RETEST\"\n",
    "    else :\n",
    "        score = \"FAIL\"\n",
    "    \n",
    "    print(f\"{i + 1}번사람은{j}점{score}\")"
   ]
  },
  {
   "cell_type": "code",
   "execution_count": null,
   "metadata": {},
   "outputs": [],
   "source": [
    "m = 5 # 세로\n",
    "n = 4 # 가로\n",
    "\n",
    "\n",
    "for i in range(m):\n",
    "    for j in range(n):\n",
    "        print(\"*\", end = \"\")\n",
    "    print()"
   ]
  },
  {
   "cell_type": "code",
   "execution_count": null,
   "metadata": {},
   "outputs": [],
   "source": [
    "score = {\n",
    "    'python': 80,\n",
    "    'django': 89,\n",
    "    'web': 83\n",
    "}\n",
    "\n",
    "score['algorithm'] = 90\n",
    "score['python'] = 85\n",
    "lst = list(score.values())\n",
    "mean = sum(lst)/len(lst)\n",
    "\n",
    "print(f'김해피 학생의 전체 과목 평균은 {mean}입니다.')"
   ]
  },
  {
   "cell_type": "code",
   "execution_count": null,
   "metadata": {},
   "outputs": [],
   "source": [
    "s = input('숫자를 입력해주세요 : ')\n",
    "ans = 0\n",
    "\n",
    "for i in s:\n",
    "    ans += int(i)\n",
    "\n",
    "print(ans)"
   ]
  },
  {
   "cell_type": "code",
   "execution_count": null,
   "metadata": {},
   "outputs": [],
   "source": [
    "a = 3\n",
    "b = 6\n",
    "c = -5\n",
    "\n",
    "from math import *\n",
    "\n",
    "def find_root(a, b, c):\n",
    "    ans1 = round((-b + sqrt(b**2 - 4*a*c))/(2*a), 4)\n",
    "    ans2 = round((-b - sqrt(b**2 - 4*a*c))/(2*a), 4)\n",
    "    ans = tuple([ans1, ans2])\n",
    "    return(ans)\n",
    "\n",
    "print(find_root(a, b, c))"
   ]
  },
  {
   "cell_type": "code",
   "execution_count": null,
   "metadata": {},
   "outputs": [],
   "source": [
    "str_lst = input('문자열을 입력하세요. : ')\n",
    "lst = str_lst.split()\n",
    "key = 1\n",
    "\n",
    "for i in range(len(lst) - 1):\n",
    "    if (lst[i][-1].upper() == lst[i + 1][0].upper()):\n",
    "        key *= 1\n",
    "    else :\n",
    "        key *= 0\n",
    "\n",
    "if (key == 1):\n",
    "    print(\"Pass\")\n",
    "else :\n",
    "    print(\"Fail\")\n"
   ]
  },
  {
   "cell_type": "code",
   "execution_count": null,
   "metadata": {},
   "outputs": [],
   "source": [
    "# 출력 결과 예시\n",
    "# 스테이크   50,000\n",
    "# + VAT     7,500\n",
    "# 총계 ₩    57,500\n",
    "\n",
    "dict = {\"스테이크\": \"50,000\", \"+ VAT\": \"7,500\", \"총계 ￦\": '57,500'}\n",
    " \n",
    "for keys, values in dict.items():\n",
    "    print(f\"{keys}  {values}\")"
   ]
  },
  {
   "cell_type": "code",
   "execution_count": null,
   "metadata": {},
   "outputs": [],
   "source": [
    "todo = [(\"Python Homework\", 3), (\"Assay\", 4), (\"Vacation\", 100)]\n",
    "\n",
    "a = input()\n",
    "b = int(input())\n",
    "\n",
    "todo.append(tuple([a, b]))\n",
    "\n",
    "print(todo)\n"
   ]
  },
  {
   "cell_type": "code",
   "execution_count": null,
   "metadata": {},
   "outputs": [],
   "source": [
    "def str_score(s):\n",
    "    a = len(s)\n",
    "    lst = []*a\n",
    "\n",
    "    for i in range(a):\n",
    "        lst[i] = ord(s[i])\n",
    "    \n",
    "    return lst\n",
    "\n",
    "def str_compare(s1, s2):\n",
    "    lst1 = str_score(s1)\n",
    "    lst2 = str_score(s2)\n",
    "    len1 = len(lst1)\n",
    "    len2 = len(lst2)\n",
    "\n",
    "    # 길이 맞춰주기\n",
    "    if (len1 > len2):\n",
    "        lst2 = lst2 + [0]*(len1 - len2)\n",
    "    elif (len1 < len2):\n",
    "        lst1 = lst1 + [0]*(len2 - len1)\n",
    "    else:\n",
    "        pass\n",
    "\n",
    "    k = 0\n",
    "    ret = [s1, s2]\n",
    "    \n",
    "    while (True):\n",
    "        if (lst1[k] < lst2[k]):\n",
    "            break;\n",
    "        if (lst1[k] > lst2[k]):\n",
    "            ret = [s2, s1]\n",
    "            break;\n",
    "        if ((k + 1) == len1):\n",
    "            break;\n",
    "    \n",
    "    return(ret)\n",
    "\n",
    "str_compare(\"hello\", \"hell\")"
   ]
  },
  {
   "cell_type": "code",
   "execution_count": null,
   "metadata": {},
   "outputs": [],
   "source": [
    "def str_compare(s1, s2):\n",
    "    s11 = s1 + \" \"\n",
    "    s21 = s2 + \" \"\n",
    "\n",
    "    k = 0\n",
    "    ret = [s1, s2]\n",
    "    while(True):\n",
    "        if (s11 > s21):\n",
    "            ret = [s2, s1]\n",
    "            break;\n",
    "        if (s11 < s21):\n",
    "            break;\n",
    "        if ((k + 1) == len(s11) or (k + 1) == len(s21)):\n",
    "            break;\n",
    "    \n",
    "    return(ret)\n",
    "\n",
    "str_compare(\"hello\", \"asdf\")\n"
   ]
  },
  {
   "cell_type": "code",
   "execution_count": null,
   "metadata": {},
   "outputs": [],
   "source": [
    "a = int(input())\n",
    "lst = [[i, i + 1, i + 2] for i in range(a, a + 7, 3)]\n",
    "\n",
    "for j in lst:\n",
    "    print(*j)"
   ]
  },
  {
   "cell_type": "code",
   "execution_count": null,
   "metadata": {},
   "outputs": [],
   "source": [
    "a = int(input())\n",
    "b = [3, 5, 7]\n",
    "c = [0, 8]\n",
    "\n",
    "def BBQ(a):\n",
    "    if (a > 0 and a < 5):\n",
    "        print(\"초기값\")\n",
    "    elif (a > 6 and a < 10):\n",
    "        print(\"중간값\")\n",
    "    else:\n",
    "        print(\"알수없는값\")\n",
    "\n",
    "if (a in b):\n",
    "    for i in range(1, 11):\n",
    "        print(i, end = \"\")\n",
    "elif (a in c):\n",
    "    for i in range(10, 0, -1):\n",
    "        print(i, end = \"\")\n",
    "else :\n",
    "    BBQ(a)"
   ]
  },
  {
   "cell_type": "code",
   "execution_count": null,
   "metadata": {},
   "outputs": [],
   "source": [
    "lst = input().split()\n",
    "cnt = 0\n",
    "\n",
    "for i in lst:\n",
    "    if (i.isupper()):\n",
    "        cnt += 1\n",
    "\n",
    "if (cnt == 2):\n",
    "    print(\"대문자들\")\n",
    "elif (cnt == 1):\n",
    "    print(\"대소문자\")\n",
    "else:\n",
    "    for i in range(ord('a'), ord('z') + 1):\n",
    "        print(chr(i), end = \"\")"
   ]
  },
  {
   "cell_type": "code",
   "execution_count": null,
   "metadata": {},
   "outputs": [],
   "source": [
    "a = [[\"\"]*5 for i in range(3)]\n",
    "b = ord(input())\n",
    "\n",
    "for i in range(3):\n",
    "    for j in range(5):\n",
    "        a[i][j] = chr(b)\n",
    "        b += 1\n",
    "\n",
    "print(a[2][2].lower())"
   ]
  },
  {
   "cell_type": "code",
   "execution_count": null,
   "metadata": {},
   "outputs": [],
   "source": [
    "a = list(map(int, input().split()))\n",
    "b = [[0]*2 for i in range(3)]\n",
    "k = 0\n",
    "\n",
    "for i in range(3):\n",
    "    for j in range(2):\n",
    "        b[i][j] = a[k] + 2\n",
    "        k += 1\n",
    "\n",
    "for h in b:\n",
    "    print(*h)"
   ]
  },
  {
   "cell_type": "code",
   "execution_count": null,
   "metadata": {},
   "outputs": [],
   "source": [
    "n = int(input())\n",
    "k = 1\n",
    "\n",
    "while (k <= n):\n",
    "    print(k, end = \" \")\n",
    "    k += 1"
   ]
  },
  {
   "cell_type": "code",
   "execution_count": null,
   "metadata": {},
   "outputs": [],
   "source": [
    "a = [[0]*4 for i in range(3)]\n",
    "b = int(input())\n",
    "\n",
    "for i in range(3):\n",
    "    for j in range(4):\n",
    "        a[i][j] = b + 1\n",
    "        b += 1\n",
    "\n",
    "for k in a:\n",
    "    print(*k)"
   ]
  },
  {
   "cell_type": "code",
   "execution_count": null,
   "metadata": {},
   "outputs": [],
   "source": [
    "a = ['B', 'D', '5', 'Q', 'A']\n",
    "b = ['Q', 'E', 'R', 'E', 'F']\n",
    "c = input()\n",
    "\n",
    "if (c.isupper()):\n",
    "    print(*b, sep = \"\")\n",
    "elif (c.islower()):\n",
    "    print(*a, sep = \"\")\n",
    "else:\n",
    "    for i in range(ord('H'), ord('A') - 1, -1):\n",
    "        print(chr(i), end = \"\")"
   ]
  },
  {
   "cell_type": "code",
   "execution_count": null,
   "metadata": {},
   "outputs": [],
   "source": [
    "a = ['#', '_', \"#\", '_', '#', '#']\n",
    "\n",
    "for i in a:\n",
    "    if (i == '#'):\n",
    "        print('샵', end = \"\")\n",
    "    else:\n",
    "        print('무', end = \"\")"
   ]
  },
  {
   "cell_type": "code",
   "execution_count": null,
   "metadata": {},
   "outputs": [],
   "source": [
    "a = [[0]*3 for i in range(2)]\n",
    "b = list(map(int, input().split()))\n",
    "k = 0\n",
    "\n",
    "for i in range(2):\n",
    "    for j in range(3):\n",
    "        a[i][j] = b[k]\n",
    "        k += 1\n",
    "\n",
    "s = 0\n",
    "\n",
    "for i in a:\n",
    "    for j in i:\n",
    "        s += j\n",
    "\n",
    "print(s)"
   ]
  },
  {
   "cell_type": "code",
   "execution_count": null,
   "metadata": {},
   "outputs": [],
   "source": [
    "a = [[4, 3, 1, 1], [3, 1, 2, 1], [0, 0, 1, 2]]\n",
    "cnt = 0\n",
    "b = int(input())\n",
    "\n",
    "for i in a:\n",
    "    for j in i:\n",
    "        if (j == b):\n",
    "            cnt += 1\n",
    "\n",
    "print(f'{cnt}개 존재합니다')"
   ]
  },
  {
   "cell_type": "code",
   "execution_count": null,
   "metadata": {},
   "outputs": [],
   "source": [
    "def startBox():\n",
    "    for i in range(1, 20, 2):\n",
    "        print(i, end = \" \")\n",
    "def macDoll():\n",
    "    for i in range(ord('H'), ord('A') - 1, -1):\n",
    "        print(chr(i), end = \" \")\n",
    "def copyBean():\n",
    "    for i in range(-5, 6):\n",
    "        print (i, end = \" \")\n",
    "\n",
    "a = int(input())\n",
    "\n",
    "if (a >= 3500 and a <= 5000):\n",
    "    startBox()\n",
    "elif (a>= 2500 and a < 3500):\n",
    "    macDoll()\n",
    "else:\n",
    "    copyBean()"
   ]
  },
  {
   "cell_type": "code",
   "execution_count": null,
   "metadata": {},
   "outputs": [],
   "source": [
    "a = list(map(int, input().split()))\n",
    "b = []\n",
    "\n",
    "for i in a:\n",
    "    if (i >= 5):\n",
    "        b.append('합격')\n",
    "    else:\n",
    "        b.append(\"불합격\")\n",
    "\n",
    "for i in range(6):\n",
    "    print(f\"{i}번은 {a[i]}점 {b[i]}\")"
   ]
  },
  {
   "cell_type": "code",
   "execution_count": null,
   "metadata": {},
   "outputs": [],
   "source": [
    "a = ['D', 'T', 'A', 'B', 'W', 'Q']\n",
    "b = input()\n",
    "k = 0\n",
    "\n",
    "for i in a:\n",
    "    if(i == b):\n",
    "        print(f'{k}번 INDEX')\n",
    "    else :\n",
    "        k += 1\n",
    " "
   ]
  },
  {
   "cell_type": "code",
   "execution_count": null,
   "metadata": {},
   "outputs": [],
   "source": [
    "lst = list(input().split())\n",
    "lst2 = [0]*17\n",
    "\n",
    "lst2[0:7] = lst[0]*7\n",
    "lst2[7:13] = lst[1]*6\n",
    "lst2[13:17] = lst[2]*4\n",
    "\n",
    "for i in range(len(lst2)-1, -1, -1):\n",
    "    print(lst2[i], end = \"\")\n"
   ]
  },
  {
   "cell_type": "code",
   "execution_count": null,
   "metadata": {},
   "outputs": [],
   "source": [
    "a, b, c = input().split()\n",
    "c = int(c)\n",
    "\n",
    "for i in range(c):\n",
    "    for j in range(ord(a), ord(b) + 1):\n",
    "        print(chr(j), end = \"\")\n",
    "    print()"
   ]
  },
  {
   "cell_type": "code",
   "execution_count": null,
   "metadata": {},
   "outputs": [],
   "source": [
    "a, b = input().split()\n",
    "b = int(b)\n",
    "\n",
    "for i in range(b):\n",
    "    for j in range(b):\n",
    "        print(a, end =\"\")\n",
    "    print()"
   ]
  },
  {
   "cell_type": "code",
   "execution_count": null,
   "metadata": {},
   "outputs": [],
   "source": [
    "lst = [[0]*3 for i in range(3)]\n",
    "a, b, c = map(int, input().split())\n",
    "lst[a][b] = c\n",
    "\n",
    "for i in lst:\n",
    "    print(*i)"
   ]
  },
  {
   "cell_type": "code",
   "execution_count": null,
   "metadata": {},
   "outputs": [],
   "source": [
    "a, b = map(int, input().split())\n",
    "lst = [[0]*3 for i in range(6)]\n",
    "\n",
    "for i in range(6):\n",
    "    for j in range(3):\n",
    "        if (i < 3):\n",
    "            lst[i][j] = a\n",
    "        else :\n",
    "            lst[i][j] = b\n",
    "\n",
    "for k in lst:\n",
    "    print(*k, sep = \"\")\n"
   ]
  },
  {
   "cell_type": "code",
   "execution_count": null,
   "metadata": {},
   "outputs": [],
   "source": [
    "a, b = input().split()\n",
    "lst = [['0']*6 for i in range(3)]\n",
    "\n",
    "for i in range(3):\n",
    "    for j in range(6):\n",
    "        if (j >= 4):\n",
    "            lst[i][j] = b\n",
    "        else:\n",
    "            lst[i][j] = a\n",
    "\n",
    "for k in lst:\n",
    "    print(*k, sep = \"\")"
   ]
  },
  {
   "cell_type": "code",
   "execution_count": null,
   "metadata": {},
   "outputs": [],
   "source": [
    "a = [4, 3, 6, 1, 3, 1, 5, 3]\n",
    "cnt = 0\n",
    "b = int(input())\n",
    "\n",
    "for i in a:\n",
    "    if (i == b):\n",
    "        cnt += 1\n",
    "\n",
    "print(f'숫자{b}개수는{cnt}개')"
   ]
  },
  {
   "cell_type": "code",
   "execution_count": null,
   "metadata": {},
   "outputs": [],
   "source": [
    "lst = [['A', 'B', 'C', 'D', 'E'], ['E', 'A', 'B', 'A', 'B'], ['A', 'C', 'D', 'E', 'R']]\n",
    "a = input()\n",
    "cnt = 0\n",
    "\n",
    "for i in lst:\n",
    "    for j in i:\n",
    "        if (j == a):\n",
    "            cnt += 1\n",
    "\n",
    "if (cnt >= 3):\n",
    "    print(\"대발견\")\n",
    "elif (cnt >= 1):\n",
    "    print(\"발견\")\n",
    "else:\n",
    "    print(\"미발견\")"
   ]
  },
  {
   "cell_type": "code",
   "execution_count": null,
   "metadata": {},
   "outputs": [],
   "source": [
    "lst = ['A', 'F', 'G', 'A', 'B', 'C']\n",
    "a, b = input().split()\n",
    "cnt = 0\n",
    "\n",
    "if (a in lst):\n",
    "    cnt += 1\n",
    "if (b in lst):\n",
    "    cnt += 1\n",
    "\n",
    "if (cnt == 2):\n",
    "    print(\"와2개\")\n",
    "elif (cnt == 1):\n",
    "    print(\"오1개\")\n",
    "else:\n",
    "    print(\"우0개\")"
   ]
  },
  {
   "cell_type": "code",
   "execution_count": null,
   "metadata": {},
   "outputs": [],
   "source": [
    "def main():\n",
    "    KFC()\n",
    "\n",
    "def KFC():\n",
    "    c1 = chicken()\n",
    "    c2 = coke()\n",
    "    print(c1, c2, sep =\"\")\n",
    "\n",
    "def chicken():\n",
    "    a = int(input())\n",
    "    return(a + 10)\n",
    "\n",
    "def coke():\n",
    "    a = input()\n",
    "    return(a)\n",
    "\n",
    "main()"
   ]
  },
  {
   "cell_type": "code",
   "execution_count": null,
   "metadata": {},
   "outputs": [],
   "source": [
    "def getChar():\n",
    "    a, b = input().split()\n",
    "    if (a > b):\n",
    "        return(a)\n",
    "    else:\n",
    "        return(b)\n",
    "\n",
    "print(getChar())"
   ]
  },
  {
   "cell_type": "code",
   "execution_count": null,
   "metadata": {},
   "outputs": [],
   "source": [
    "lst1 = range(1, 10)\n",
    "lst2 = range(10, 19)\n",
    "a = int(input())\n",
    "lst = [[0]*3 for i in range(3)]\n",
    "\n",
    "if (a % 5 == 1):\n",
    "    k = 8\n",
    "    for i in range(3):\n",
    "        for j in range(3):\n",
    "            lst[i][j] = lst1[k]\n",
    "            k -= 1\n",
    "\n",
    "elif (a % 5 == 2):\n",
    "    k = 0\n",
    "    for i in range(2, -1, -1):\n",
    "        for j in range(3):\n",
    "            lst[i][j] = lst1[k]\n",
    "            k += 1\n",
    "\n",
    "else:\n",
    "    k = 0\n",
    "    for i in range(3):\n",
    "        for j in range(3):\n",
    "            lst[j][i] = lst2[k]\n",
    "            k += 1\n",
    "\n",
    "for h in lst:\n",
    "    print(*h)"
   ]
  },
  {
   "cell_type": "code",
   "execution_count": null,
   "metadata": {},
   "outputs": [],
   "source": [
    "def main():\n",
    "    a, b = map(int, input().split())\n",
    "    \n",
    "    if (a//b % 2 == 1):\n",
    "        odd(a//b)\n",
    "        printData(a + b)\n",
    "    else:\n",
    "        even(a//b)\n",
    "        printData(a + b)\n",
    "    \n",
    "def even(n):\n",
    "    ret = n * 2\n",
    "    printData(ret)\n",
    "\n",
    "def odd(n):\n",
    "    ret = n - 10\n",
    "    printData(ret)\n",
    "\n",
    "def printData(s):\n",
    "    print(s)\n",
    "\n",
    "main()"
   ]
  },
  {
   "cell_type": "code",
   "execution_count": null,
   "metadata": {},
   "outputs": [],
   "source": [
    "def GOP():\n",
    "    a, b = map(int, input().split())\n",
    "    return(a * b)\n",
    "\n",
    "def SUM():\n",
    "    a, b = map(int, input().split())\n",
    "    return(a + b)\n",
    "\n",
    "def main():\n",
    "    a = GOP()\n",
    "    b = SUM()\n",
    "    \n",
    "    if (a > b):\n",
    "        print(\"GOP>SUM\")\n",
    "    elif (a == b):\n",
    "        print(\"GOP==SUM\")\n",
    "    else:\n",
    "        print(\"GOP<SUM\")\n",
    "    \n",
    "main()\n",
    "\n",
    "    "
   ]
  },
  {
   "cell_type": "code",
   "execution_count": null,
   "metadata": {},
   "outputs": [],
   "source": [
    "def main():\n",
    "    stone = int(input())\n",
    "    ret = pingpong(stone)\n",
    "    print(ret)\n",
    "\n",
    "def pingpong(a):\n",
    "    tong = a + 10\n",
    "\n",
    "    return(tong)\n",
    "\n",
    "main()"
   ]
  },
  {
   "cell_type": "code",
   "execution_count": null,
   "metadata": {},
   "outputs": [],
   "source": [
    "lst = [[0]*4 for i in range(4)]\n",
    "r = range(1, 17)\n",
    "k = 0\n",
    "\n",
    "for i in range(3, -1, -1):\n",
    "    for j in range(4):\n",
    "        lst[j][i] = r[k]\n",
    "        k += 1\n",
    "\n",
    "for h in lst:\n",
    "    print(*h)"
   ]
  },
  {
   "cell_type": "code",
   "execution_count": null,
   "metadata": {},
   "outputs": [],
   "source": [
    "lst = [[0]*4 for i in range(3)]\n",
    "r = range(1, 13)\n",
    "k = 0\n",
    "\n",
    "for i in range(2, -1, -1):\n",
    "    for j in range(3, -1, -1):\n",
    "        lst[i][j] = r[k]\n",
    "        k += 1\n",
    "\n",
    "a = int(input())\n",
    "\n",
    "for i in range(3):\n",
    "    lst[i][a] = 0\n",
    "\n",
    "for j in lst:\n",
    "    print(*j)"
   ]
  },
  {
   "cell_type": "code",
   "execution_count": null,
   "metadata": {},
   "outputs": [],
   "source": [
    "lst = [list(map(int, input().split())) for i in range(4)]\n",
    "\n",
    "for i in range(4):\n",
    "    for j in range(4):\n",
    "        if (lst[i][j] == 0):\n",
    "            lst[i][j] = '!'\n",
    "        elif (lst[i][j] % 2 == 0):\n",
    "            lst[i][j] = '#'\n",
    "        else:\n",
    "            lst[i][j] = '@'\n",
    "\n",
    "for k in lst:\n",
    "    print(*k, sep = \"\")"
   ]
  },
  {
   "cell_type": "code",
   "execution_count": null,
   "metadata": {},
   "outputs": [],
   "source": [
    "def main():\n",
    "    a = INPUT()\n",
    "    CountDown(a)\n",
    "\n",
    "def INPUT():\n",
    "    return(int(input()))\n",
    "\n",
    "def CountDown(a):\n",
    "    for i in range(a, 0, -1):\n",
    "        print(i, end = \" \")\n",
    "\n",
    "main()"
   ]
  },
  {
   "cell_type": "code",
   "execution_count": null,
   "metadata": {},
   "outputs": [],
   "source": [
    "r = range(2, 33, 2)\n",
    "lst = [[0]*4 for i in range(4)]\n",
    "k = 0\n",
    "\n",
    "for i in range(4):\n",
    "    for j in range(4):\n",
    "        lst[j][i] = r[k]\n",
    "        k += 1\n",
    "\n",
    "for h in lst:\n",
    "    print(*h)"
   ]
  },
  {
   "cell_type": "code",
   "execution_count": null,
   "metadata": {},
   "outputs": [],
   "source": [
    "lst = [[0]*5 for i in range(5)]\n",
    "r = range(1, 26)\n",
    "k = 0\n",
    "\n",
    "for i in range(4, -1, -1):\n",
    "    for j in range(5):\n",
    "        lst[j][i] = r[k]\n",
    "        k += 1\n",
    "\n",
    "a = int(input())\n",
    "lst[a] = [a]*5\n",
    "\n",
    "for h in lst:\n",
    "    print(*h)"
   ]
  },
  {
   "cell_type": "code",
   "execution_count": null,
   "metadata": {},
   "outputs": [],
   "source": [
    "class Fruit:\n",
    "    def __init__(self, size):\n",
    "        self.size = size\n",
    "\n",
    "banana = Fruit(int(input()))\n",
    "apple = Fruit(int(input()))\n",
    "\n",
    "price = banana.size * 250 + apple.size * 500\n",
    "print(f\"{price}원\")\n"
   ]
  },
  {
   "cell_type": "code",
   "execution_count": null,
   "metadata": {},
   "outputs": [],
   "source": [
    "lst = [\n",
    "    ['D', 'A', 'C', 'C', 'D'],\n",
    "    ['S', 'D', 'F', 'A', 'E'],\n",
    "    ['E', 'E', 'T', 'J', 'H']\n",
    "]\n",
    "\n",
    "def MAIN():\n",
    "    INPUT()\n",
    "\n",
    "def INPUT():\n",
    "    a = CHECK(input())\n",
    "    if (a == 1):\n",
    "        print(\"있음\")\n",
    "    if (a == 0):\n",
    "        print(\"없음\")\n",
    "\n",
    "\n",
    "def CHECK(s):\n",
    "    for i in range(3):\n",
    "        for j in range(5):\n",
    "            if (lst[i][j] == s):\n",
    "                return(1)\n",
    "    \n",
    "    return(0)\n",
    "\n",
    "MAIN()\n"
   ]
  },
  {
   "cell_type": "code",
   "execution_count": null,
   "metadata": {},
   "outputs": [],
   "source": [
    "lst = list(map(int, input().split()))\n",
    "lst2 = [range(i, i + 4) for i in lst]\n",
    "\n",
    "for j in lst2:\n",
    "    print(*j)"
   ]
  },
  {
   "cell_type": "code",
   "execution_count": null,
   "metadata": {},
   "outputs": [],
   "source": [
    "r = range(10, 28)\n",
    "lst = [[0]*3 for i in range(6)]\n",
    "k = 0\n",
    "\n",
    "for i in range(3):\n",
    "    for j in range(6):\n",
    "        lst[j][i] = r[k]\n",
    "        k += 1\n",
    "\n",
    "a, b = map(int, input().split())\n",
    "\n",
    "for i in range(a, b + 1):\n",
    "    for j in range(3):\n",
    "        lst[i][j] = 7\n",
    "\n",
    "for h in lst:\n",
    "    print(*h)"
   ]
  },
  {
   "cell_type": "code",
   "execution_count": null,
   "metadata": {},
   "outputs": [],
   "source": [
    "def main():\n",
    "    print(aToZ())\n",
    "\n",
    "def aToZ():\n",
    "    c = input()\n",
    "\n",
    "    if (abs(ord('A') - ord(c)) > abs(ord('Z') - ord(c))):\n",
    "        return('Z')\n",
    "    else:\n",
    "        return('A')\n",
    "\n",
    "main()"
   ]
  },
  {
   "cell_type": "code",
   "execution_count": null,
   "metadata": {},
   "outputs": [],
   "source": [
    "def main():\n",
    "    print(Calculator())\n",
    "\n",
    "def Calculator():\n",
    "    score = int(input())\n",
    "\n",
    "    if (score >= 90):\n",
    "        return('A')\n",
    "    elif (score >= 80):\n",
    "        return('B')\n",
    "    elif (score >= 70):\n",
    "        return('C')\n",
    "    else:\n",
    "        return('D')\n",
    "\n",
    "main()"
   ]
  },
  {
   "cell_type": "code",
   "execution_count": null,
   "metadata": {},
   "outputs": [],
   "source": [
    "class BBQ:\n",
    "    def __init__(self, x, data):\n",
    "        self.x = x\n",
    "        self.data = data\n",
    "\n",
    "g = BBQ(int(input()), list(map(int, input().split())))\n",
    "g_sum = 0\n",
    "\n",
    "for i in g.data:\n",
    "    g_sum += i\n",
    "\n",
    "print(g_sum, g.x)"
   ]
  },
  {
   "cell_type": "code",
   "execution_count": null,
   "metadata": {},
   "outputs": [],
   "source": [
    "lst = [\n",
    "    [1, 0, 0, 0, 0],\n",
    "    [1, 0, 1, 0, 0],\n",
    "    [1, 1, 0, 1, 0],\n",
    "    [1, 0, 1, 0, 0],\n",
    "    [0, 1, 0, 0, 1],\n",
    "    [0, 0, 0, 1, 0],\n",
    "    [1, 1, 0, 0, 0]\n",
    "]\n",
    "\n",
    "def INPUT():\n",
    "    return(int(input()))\n",
    "\n",
    "def PROCESS(a):\n",
    "    cnt = 0\n",
    "    for i in range(len(lst)):\n",
    "        if (lst[i][a] == 1):\n",
    "            cnt += 1\n",
    "    \n",
    "    return(cnt)\n",
    "\n",
    "def OUTPUT(p):\n",
    "    print(p)\n",
    "\n",
    "def main():\n",
    "    OUTPUT(PROCESS(INPUT()))\n",
    "\n",
    "main()"
   ]
  },
  {
   "cell_type": "code",
   "execution_count": null,
   "metadata": {},
   "outputs": [],
   "source": [
    "def main():\n",
    "    temp = run(int(input()))\n",
    "    \n",
    "    for i in temp:\n",
    "        print(*i, sep = \"\")\n",
    "\n",
    "def run(a):\n",
    "    lst = [[0]*3 for i in range(3)]\n",
    "    r = range(1, 10)\n",
    "    k = 0\n",
    "\n",
    "    if (a < 10):\n",
    "        cols = range(3)\n",
    "    else:\n",
    "        cols = range(2, -1, -1)\n",
    "\n",
    "    for i in range(3):\n",
    "        for j in cols:\n",
    "            lst[i][j] = r[k]\n",
    "            k += 1\n",
    "    \n",
    "    return(lst)\n",
    "\n",
    "main()"
   ]
  },
  {
   "cell_type": "code",
   "execution_count": null,
   "metadata": {},
   "outputs": [],
   "source": [
    "def main():\n",
    "    print(yesOrNo())\n",
    "\n",
    "def yesOrNo():\n",
    "    a = int(input())\n",
    "\n",
    "    if (a % 3 == 0):\n",
    "        return(7)\n",
    "    elif (a % 3 == 1):\n",
    "        return(35)\n",
    "    else :\n",
    "        return(50)\n",
    "    \n",
    "main()"
   ]
  },
  {
   "cell_type": "code",
   "execution_count": null,
   "metadata": {},
   "outputs": [],
   "source": [
    "def main():\n",
    "    a, b, c = map(int, input().split())\n",
    "    print(calc (a, b, c))\n",
    "\n",
    "def calc(a, b, c):\n",
    "    return(sum([a, b, c]))\n",
    "\n",
    "main()\n"
   ]
  },
  {
   "cell_type": "code",
   "execution_count": null,
   "metadata": {},
   "outputs": [],
   "source": [
    "a, b = map(int, input().split())\n",
    "\n",
    "def SUM(a, b):\n",
    "    return(a + b)\n",
    "\n",
    "def COMP(a, b):\n",
    "    return(a - b)\n",
    "\n",
    "print(f\"합:{SUM(a, b)}\\n차:{COMP(a, b)}\")"
   ]
  },
  {
   "cell_type": "code",
   "execution_count": null,
   "metadata": {},
   "outputs": [],
   "source": [
    "lst = [3, 4, 1, 3, 2, 7, 3]\n",
    "flag = 1\n",
    "a = int(input())\n",
    "\n",
    "for i in lst:\n",
    "    if (a == i):\n",
    "        flag *= 0\n",
    "    else:\n",
    "        flag *= 1\n",
    "\n",
    "if (flag == 1):\n",
    "    print(\"미발견\")\n",
    "else:\n",
    "    print(\"발견\")"
   ]
  },
  {
   "cell_type": "code",
   "execution_count": null,
   "metadata": {},
   "outputs": [],
   "source": [
    "lst = list(map(int, input().split()))\n",
    "ma = lst[0]\n",
    "mi = lst[0]\n",
    "\n",
    "for i in lst:\n",
    "    if (ma < i):\n",
    "        ma = i\n",
    "    if (mi > i):\n",
    "        mi = i\n",
    "\n",
    "print(f\"MAX={ma}\\nMIN={mi}\")"
   ]
  },
  {
   "cell_type": "code",
   "execution_count": null,
   "metadata": {},
   "outputs": [],
   "source": [
    "lst = list(\"StrucPointer\")\n",
    "a = input()\n",
    "\n",
    "if(a in lst):\n",
    "    print(\"발견\")\n",
    "else:\n",
    "    print(\"미발견\")"
   ]
  },
  {
   "cell_type": "code",
   "execution_count": null,
   "metadata": {},
   "outputs": [],
   "source": [
    "lst = list(input().replace(' ', ''))\n",
    "big = []\n",
    "small = []\n",
    "\n",
    "for i in lst:\n",
    "    if (i.isupper()):\n",
    "        big.append(i)\n",
    "    if (i.islower()):\n",
    "        small.append(i)\n",
    "\n",
    "print(\"big=\", end =\"\")\n",
    "print(*big, sep = \"\")\n",
    "print(\"small=\", end = \"\")\n",
    "print(*small, sep = \"\", end = \"\")"
   ]
  },
  {
   "cell_type": "code",
   "execution_count": null,
   "metadata": {},
   "outputs": [],
   "source": [
    "def KFC(num):\n",
    "    lst = [\n",
    "    [3, 2, 6, 2, 4],\n",
    "    [1, 4, 2, 6, 5]\n",
    "    ]\n",
    "\n",
    "    for i in lst:\n",
    "        if (num in i):\n",
    "            return(1)\n",
    "    \n",
    "    return(0)\n",
    "\n",
    "def main():\n",
    "    target = int(input())\n",
    "    result = KFC(target)\n",
    "\n",
    "    if (result == 1):\n",
    "        print(\"값이 존재합니다\")\n",
    "    else:\n",
    "        print(\"값이 없습니다\")\n",
    "\n",
    "main()"
   ]
  },
  {
   "cell_type": "code",
   "execution_count": null,
   "metadata": {},
   "outputs": [],
   "source": [
    "lst = [\n",
    "    [1, 3, 6, 2],\n",
    "    [4, 2, 4, 5],\n",
    "    [6, 3, 7, 3],\n",
    "    [1, 5, 4, 6]\n",
    "]\n",
    "\n",
    "a = int(input())\n",
    "big = []\n",
    "\n",
    "for i in lst:\n",
    "    for j in i:\n",
    "        if (j > a):\n",
    "            big.append(j)\n",
    "\n",
    "print(*big)"
   ]
  },
  {
   "cell_type": "code",
   "execution_count": null,
   "metadata": {},
   "outputs": [],
   "source": [
    "lst = ['D', 'F', 'G', 'D', 'A', 'Q']\n",
    "ch1, ch2 = input().split()\n",
    "key = 1\n",
    "\n",
    "for i in lst:\n",
    "    if (i >= ch1 and i <= ch2):\n",
    "        key *= 0\n",
    "    else:\n",
    "        key *= 1\n",
    "\n",
    "if (key == 1):\n",
    "    print(\"미발견!!!\")\n",
    "else:\n",
    "    print(\"발견!!!\")"
   ]
  },
  {
   "cell_type": "code",
   "execution_count": null,
   "metadata": {},
   "outputs": [],
   "source": [
    "lst = [\n",
    "    [1, 1, 1],\n",
    "    [1, 2, 1],\n",
    "    [3, 6, 3]\n",
    "]\n",
    "\n",
    "a = int(input())\n",
    "\n",
    "def count(v):\n",
    "    cnt = 0\n",
    "    for i in lst:\n",
    "        for j in i:\n",
    "            if (j == v):\n",
    "                cnt += 1\n",
    "    \n",
    "    return(cnt)\n",
    "\n",
    "print(count(a))"
   ]
  },
  {
   "cell_type": "code",
   "execution_count": null,
   "metadata": {},
   "outputs": [],
   "source": [
    "lst = list(\"A1115Awz\")\n",
    "a = input()\n",
    "cnt = 0\n",
    "\n",
    "for i in lst:\n",
    "    if (i == a):\n",
    "        cnt += 1\n",
    "\n",
    "\n",
    "if (cnt >= 3):\n",
    "    print(\"THREE\")\n",
    "elif (cnt == 2):\n",
    "    print(\"TWO\")\n",
    "elif (cnt == 1):\n",
    "    print(\"ONE\")\n",
    "\n",
    "if (a == ''):\n",
    "    print(\"NOTHING\")"
   ]
  },
  {
   "cell_type": "code",
   "execution_count": null,
   "metadata": {},
   "outputs": [],
   "source": [
    "lst = [list(\"abacz\"), list(\"ctacd\"), list(\"cccca\")]\n",
    "cnt = 0\n",
    "a = input()\n",
    "\n",
    "for i in lst:\n",
    "    for j in i:\n",
    "        if (j == a):\n",
    "            cnt += 1\n",
    "\n",
    "if (cnt >= 7):\n",
    "    print(\"세상에\")\n",
    "elif (cnt >= 5):\n",
    "    print(\"와우\")\n",
    "elif (cnt >= 3):\n",
    "    print(\"이야\")\n",
    "else:\n",
    "    print(\"이런\")"
   ]
  },
  {
   "cell_type": "code",
   "execution_count": null,
   "metadata": {},
   "outputs": [],
   "source": [
    "lst = [[0]*3 for i in range(2)]\n",
    "r = list(map(int, input().split()))\n",
    "k = 0\n",
    "\n",
    "for i in range(len(lst)):\n",
    "    for j in range(len(lst[0])):\n",
    "        lst[i][j] = r[k]\n",
    "        k += 1\n",
    "\n",
    "for i in lst:\n",
    "    for j in i:\n",
    "        if (j == 0):\n",
    "            print('#', end = '')\n",
    "        else:\n",
    "            print(j, end = '')\n",
    "    print()"
   ]
  },
  {
   "cell_type": "code",
   "execution_count": null,
   "metadata": {},
   "outputs": [],
   "source": [
    "lst  = [\n",
    "    ['a', 'b', 'E'],\n",
    "    ['E', '2', 'W'],\n",
    "    ['3', '2', '4']\n",
    "    ]\n",
    "\n",
    "for i in lst:\n",
    "    for j in i:\n",
    "        if (j.isalpha()):\n",
    "            if (j.isupper()):\n",
    "                print(j.lower(), end = ' ')\n",
    "            elif (j.islower()):\n",
    "                print(j.upper(), end = ' ')\n",
    "        else:\n",
    "            print(int(j) + 5, end = ' ')\n",
    "    \n",
    "    print()"
   ]
  },
  {
   "cell_type": "code",
   "execution_count": null,
   "metadata": {},
   "outputs": [],
   "source": [
    "lst = [list(\"abd\"), list(\"ewz\"), list(\"qva\")]\n",
    "a = input()\n",
    "\n",
    "def process(s):\n",
    "    temp = s.lower()\n",
    "    flag = 1\n",
    "\n",
    "    for i in lst:\n",
    "        for j in i:\n",
    "            if (j == temp):\n",
    "                flag *= 0\n",
    "            else:\n",
    "                flag *= 1\n",
    "\n",
    "    return(1 - flag)\n",
    "\n",
    "result = process(a)\n",
    "\n",
    "if (result == 1):\n",
    "    print(\"존재\")\n",
    "else:\n",
    "    print(\"없음\")"
   ]
  },
  {
   "cell_type": "code",
   "execution_count": null,
   "metadata": {},
   "outputs": [],
   "source": [
    "lst = [\n",
    "    [3, 1, 6],\n",
    "    [7, 8, 4],\n",
    "    [9, 2, 3]\n",
    "]\n",
    "\n",
    "a, b, c = map(int, input().split())\n",
    "lst[a][b] = c\n",
    "\n",
    "ma = lst[0][0]\n",
    "mi = lst[0][0]\n",
    "\n",
    "for i in lst:\n",
    "    for j in i:\n",
    "        if (ma < j):\n",
    "            ma = j\n",
    "        if (mi > j):\n",
    "            mi = j\n",
    "\n",
    "print(ma + mi)"
   ]
  },
  {
   "cell_type": "code",
   "execution_count": null,
   "metadata": {},
   "outputs": [],
   "source": [
    "lst = [[0]*3 for i in range(2)]\n",
    "r = list(map(int, input().split()))\n",
    "k = 5\n",
    "\n",
    "for i in range(len(lst)):\n",
    "    for j in range(len(lst[0])):\n",
    "        lst[i][j] = r[k]\n",
    "        k -= 1\n",
    "\n",
    "lst2 = []\n",
    "\n",
    "for i in lst:\n",
    "    for j in i:\n",
    "        lst2.append(j)\n",
    "\n",
    "lst2[0], lst2[5] = lst2[5], lst2[0]\n",
    "\n",
    "print(*lst2)"
   ]
  },
  {
   "cell_type": "code",
   "execution_count": null,
   "metadata": {},
   "outputs": [],
   "source": [
    "orders = '아이스아메리카노,카라멜마키야또,에스프레소,아메리카노,아메리카노,아이스라떼,핫초코,아이스아메리카노,아메리카노,아이스카라멜마키야또,아이스라떼,라떼마키야또,카푸치노,라떼마키야또'\n",
    "lst = orders.split(sep = ',')\n",
    "order_set = set(lst)\n",
    "lst2 = list(order_set)\n",
    "lst2.sort(reverse = True)\n",
    "\n",
    "# 1\n",
    "print(\"# 1.\")\n",
    "print(len(lst))\n",
    "print()\n",
    "print(\"#2\")\n",
    "print(lst2)"
   ]
  },
  {
   "cell_type": "code",
   "execution_count": null,
   "metadata": {},
   "outputs": [],
   "source": [
    "orders = '아이스아메리카노,카라멜마키야또,에스프레소,아메리카노,아메리카노,아이스라떼,핫초코,아이스아메리카노,아메리카노,아이스카라멜마키야또,아이스라떼,라떼마키야또,카푸치노,라떼마키야또'\n",
    "lst = orders.split(sep = ',')\n",
    "cnt = 0\n",
    "order_dict = {}\n",
    "\n",
    "\n",
    "for i in lst:\n",
    "    if (i[0:3] == \"아이스\"):\n",
    "        cnt += 1 \n",
    "\n",
    "for i in lst:\n",
    "    try:\n",
    "        order_dict[i] += 1\n",
    "    except:\n",
    "        order_dict[i] = 1\n",
    "\n",
    "# 1.\n",
    "print(\"# 1.\")\n",
    "print(f\"주문된 아이스 음료의 수는 {cnt}개 입니다.\\n\")\n",
    "\n",
    "# 2.\n",
    "print(\"# 2.\")\n",
    "print(\"메뉴별 주문 현황은 다음과 같습니다.\")\n",
    "print(\"---------------------------------\")\n",
    "for keys, values in order_dict.items():\n",
    "    print(f\"{keys}: {values}\")\n",
    "print(\"---------------------------------\")"
   ]
  },
  {
   "cell_type": "code",
   "execution_count": null,
   "metadata": {},
   "outputs": [],
   "source": [
    "todo = [(\"Python Homework\", 3), (\"Assay\", 4), (\"Vacation\", 100)]\n",
    "\n",
    "a = input()\n",
    "b = int(input())\n",
    "\n",
    "todo.append(tuple([a, b]))\n",
    "\n",
    "print(todo)"
   ]
  },
  {
   "cell_type": "code",
   "execution_count": null,
   "metadata": {},
   "outputs": [],
   "source": [
    "a = input()\n",
    "\n",
    "for i in range(5):\n",
    "    print(a)"
   ]
  },
  {
   "cell_type": "code",
   "execution_count": null,
   "metadata": {},
   "outputs": [],
   "source": [
    "a = input()\n",
    "b = input()\n",
    "\n",
    "print(len(a), len(b))"
   ]
  },
  {
   "cell_type": "code",
   "execution_count": null,
   "metadata": {},
   "outputs": [],
   "source": [
    "a = int(input())\n",
    "\n",
    "for i in range(4):\n",
    "    for j in range(4):\n",
    "        print(a - i, end = \"\")\n",
    "    print()"
   ]
  },
  {
   "cell_type": "code",
   "execution_count": null,
   "metadata": {},
   "outputs": [],
   "source": [
    "a = \"a,b,c,d,e,f\"\n",
    "b = a.split(sep = ',')\n",
    "print(b)"
   ]
  },
  {
   "cell_type": "code",
   "execution_count": null,
   "metadata": {},
   "outputs": [],
   "source": [
    "for i in range(int(input())):\n",
    "    for j in range(1, 4):\n",
    "        print(j, end = \"\")\n",
    "    print()"
   ]
  },
  {
   "cell_type": "code",
   "execution_count": null,
   "metadata": {},
   "outputs": [],
   "source": [
    "lst = [[0]*4 for i in range(3)]\n",
    "a = int(input())\n",
    "r = range(a, a + 9)\n",
    "k = 0\n",
    "\n",
    "for i in range(3):\n",
    "    for j in range(4):\n",
    "        if (i > -j + 1):\n",
    "            lst[i][j] = r[k]\n",
    "            k += 1\n",
    "\n",
    "for i in lst:\n",
    "    for j in i:\n",
    "        if (j != 0):\n",
    "            print(j, end = \"\")\n",
    "        else : \n",
    "            print(\" \", end = \"\")\n",
    "    print()"
   ]
  },
  {
   "cell_type": "code",
   "execution_count": null,
   "metadata": {},
   "outputs": [],
   "source": [
    "lst = list(\"MINQUEST\")\n",
    "\n",
    "def length(c):\n",
    "    \n",
    "    for i in range(len(lst)):\n",
    "        if(lst[i] == c):\n",
    "            print(f\"{c}={i}\")\n",
    "\n",
    "\n",
    "length(input())\n",
    "length(input())\n",
    "length(input())"
   ]
  },
  {
   "cell_type": "code",
   "execution_count": null,
   "metadata": {},
   "outputs": [],
   "source": [
    "lst = list(input())\n",
    "a = input()\n",
    "b = input()\n",
    "c = input()\n",
    "lst2 = [a, b, c]\n",
    "lst3 = []\n",
    "\n",
    "for i in lst2:\n",
    "    cnt = 0\n",
    "    \n",
    "    for j in lst:\n",
    "        if(i == j):\n",
    "            cnt += 1\n",
    "    \n",
    "    lst3.append(cnt)\n",
    "\n",
    "for i, j in zip(lst2, lst3):\n",
    "    print(f\"{i}={j}\")"
   ]
  },
  {
   "cell_type": "code",
   "execution_count": null,
   "metadata": {},
   "outputs": [],
   "source": [
    "lst = list(\"DATAPOWER\")\n",
    "a, b = map(int, input().split())\n",
    "lst2 = lst[a:b + 1]\n",
    "print(*lst2, sep = \"\")"
   ]
  },
  {
   "cell_type": "code",
   "execution_count": null,
   "metadata": {},
   "outputs": [],
   "source": [
    "lst = [[0]*3 for i in range(3)]\n",
    "r = range(1, 7)\n",
    "a = input()\n",
    "\n",
    "\n",
    "if (a >= '0' and a <= '9'):\n",
    "    k = 0\n",
    "    for i in range(2, -1, -1):\n",
    "        for j in range(2, -1, -1):\n",
    "            if (j > i - 1):\n",
    "                lst[i][j] = r[k]\n",
    "                k += 1\n",
    "if (a.isupper()):\n",
    "    k = 0\n",
    "    for i in range(2, -1, -1):\n",
    "        for j in range(3):\n",
    "            if (j < i + 1):\n",
    "                lst[i][j] = r[k]\n",
    "                k += 1    \n",
    "\n",
    "for i in lst:\n",
    "    for j in i:\n",
    "        if (j != 0):\n",
    "            print(j, end = \"\")\n",
    "        else:\n",
    "            print(\" \", end = \"\")\n",
    "    print()\n",
    "\n"
   ]
  },
  {
   "cell_type": "code",
   "execution_count": null,
   "metadata": {},
   "outputs": [],
   "source": [
    "lst = [[0]*5 for i in range(5)]\n",
    "a, b = input().split()\n",
    "a = int(a) - 1\n",
    "b = ord(b)\n",
    "\n",
    "for i in range(4, -1, -1):\n",
    "    lst[a][i] = chr(b)\n",
    "    b += 1\n",
    "\n",
    "for j in lst:\n",
    "    print(*j, sep = \"\")"
   ]
  },
  {
   "cell_type": "code",
   "execution_count": null,
   "metadata": {},
   "outputs": [],
   "source": [
    "lst = [\n",
    "    list(\"DAD\"),\n",
    "    list(\"QWQ\"),\n",
    "    list(\"ASD\"),\n",
    "    list(\"ASD\")\n",
    "]\n",
    "\n",
    "a = input()\n",
    "flag = 1\n",
    "\n",
    "for i in lst:\n",
    "    if (a in i):\n",
    "        flag *= 0\n",
    "        break;\n",
    "    else:\n",
    "        flag *= 1\n",
    "\n",
    "if(1 - flag):\n",
    "    print(\"존재\")\n",
    "else:\n",
    "    print(\"없음\")"
   ]
  },
  {
   "cell_type": "code",
   "execution_count": null,
   "metadata": {},
   "outputs": [],
   "source": [
    "lst = [[0]*5 for i in range(5)]\n",
    "a = int(input())\n",
    "\n",
    "for i in range(5):\n",
    "    for j in range(5):\n",
    "        lst[i][j] = a\n",
    "\n",
    "for i in range(1, 4):\n",
    "    for j in range(1, 4):\n",
    "        lst[i][j] = '_'\n",
    "\n",
    "for k in lst:\n",
    "    print(*k, sep = \"\")"
   ]
  },
  {
   "cell_type": "code",
   "execution_count": null,
   "metadata": {},
   "outputs": [],
   "source": [
    "lst = [\n",
    "    [4, 5, 4, 5, 4],\n",
    "    [8, 9, 8, 9, 8],\n",
    "    [1, 2, 1, 2, 1],\n",
    "    [4, 5, 4, 5, 4],\n",
    "    [6, 7, 6, 7, 6]\n",
    "]\n",
    "\n",
    "for i in range(5):\n",
    "    a, b = map(int, input().split())\n",
    "    lst[a][b] += 1\n",
    "\n",
    "    if (lst[a][b] == 10):\n",
    "        lst[a][b] = 0\n",
    "\n",
    "for j in lst:\n",
    "    print(*j, sep =\"\")\n"
   ]
  },
  {
   "cell_type": "code",
   "execution_count": null,
   "metadata": {},
   "outputs": [],
   "source": [
    "a = list(input())\n",
    "b = a[-1]\n",
    "cnt = 0\n",
    "\n",
    "for i in a:\n",
    "    if (b in i):\n",
    "        cnt += 1\n",
    "\n",
    "print(len(a))\n",
    "print(cnt)"
   ]
  },
  {
   "cell_type": "code",
   "execution_count": null,
   "metadata": {},
   "outputs": [],
   "source": [
    "a = input()\n",
    "b = input()\n",
    "c = input()\n",
    "\n",
    "lst = [a, b, c]\n",
    "idx = 0\n",
    "len1 = 0\n",
    "\n",
    "for i in range(3):\n",
    "    if (len1 < len(lst[i])):\n",
    "        len1 = len(lst[i])\n",
    "        idx = i\n",
    "\n",
    "print(lst[idx])"
   ]
  },
  {
   "cell_type": "code",
   "execution_count": null,
   "metadata": {},
   "outputs": [],
   "source": [
    "a = int(input())\n",
    "lst = [[0]*3 for i in range(3)]\n",
    "r = range(a, a + 6)\n",
    "k = 0\n",
    "\n",
    "for i in range(3):\n",
    "    for j in range(3):\n",
    "        if (i > -j + 1):\n",
    "            lst[i][j] = r[k]\n",
    "            k += 1\n",
    "\n",
    "for h in lst:\n",
    "    print(*h, sep = \"\")"
   ]
  },
  {
   "cell_type": "code",
   "execution_count": null,
   "metadata": {},
   "outputs": [],
   "source": [
    "a, b = input().split()\n",
    "\n",
    "def getName(a, b):\n",
    "    if (a >= b):\n",
    "        return(b)\n",
    "    else:\n",
    "        return(a)\n",
    "\n",
    "print(getName(a, b))"
   ]
  },
  {
   "cell_type": "code",
   "execution_count": null,
   "metadata": {},
   "outputs": [],
   "source": [
    "def main():\n",
    "    a = int(input())\n",
    "    print(*moom(a))\n",
    "\n",
    "def moom(num):\n",
    "    return(num -4, num + 3, num * 2)\n",
    "\n",
    "main()"
   ]
  },
  {
   "cell_type": "code",
   "execution_count": null,
   "metadata": {},
   "outputs": [],
   "source": [
    "def main():\n",
    "    a = input()\n",
    "    print(stringLen(a), \"글자\", sep = \"\")\n",
    "\n",
    "def stringLen(s):\n",
    "    return (len(s))\n",
    "\n",
    "main()"
   ]
  },
  {
   "cell_type": "code",
   "execution_count": null,
   "metadata": {},
   "outputs": [],
   "source": [
    "def main():\n",
    "    KFC()\n",
    "\n",
    "def KFC():\n",
    "    a = list(input())\n",
    "    mi = 0\n",
    "    ma = 0\n",
    "    \n",
    "    for i in a:\n",
    "        if(i.isupper()):\n",
    "            ma += 1\n",
    "        else:\n",
    "            mi += 1\n",
    "    \n",
    "    print(f\"대문자{ma}개\\n소문자{mi}개\")\n",
    "\n",
    "main()"
   ]
  },
  {
   "cell_type": "code",
   "execution_count": null,
   "metadata": {},
   "outputs": [],
   "source": [
    "lst = [\n",
    "    [4, 5, 6, 1, 3, 1],\n",
    "    [2, 1, 3, 6, 3, 6]\n",
    "]\n",
    "\n",
    "def main(lst):\n",
    "    a = list(map(int, input().split()))\n",
    "    output(process(lst), a)\n",
    "\n",
    "def process(lst):\n",
    "    dict = {}\n",
    "    for i in lst:\n",
    "        for j in i:\n",
    "            try:\n",
    "                dict[j] += 1\n",
    "            except:\n",
    "                dict[j] = 1\n",
    "    \n",
    "    return(dict)\n",
    "\n",
    "\n",
    "def output(dict, a):\n",
    "    for i in a:\n",
    "        temp = dict[i]\n",
    "        print(f\"{i}={temp}개\")\n",
    "\n",
    "main(lst)"
   ]
  },
  {
   "cell_type": "code",
   "execution_count": null,
   "metadata": {},
   "outputs": [],
   "source": [
    "lst = [\n",
    "    list(\"ADF\"),\n",
    "    list(\"QWE\"),\n",
    "    list(\"ZXC\")\n",
    "]\n",
    "\n",
    "def main(lst):\n",
    "    a = input()\n",
    "    find(a, lst)\n",
    "\n",
    "def find(c, lst):\n",
    "    for i in range(3):\n",
    "        for j in range(3):\n",
    "            if (lst[i][j] == c):\n",
    "                print(i,',', j, sep = \"\")\n",
    "\n",
    "main(lst)\n"
   ]
  },
  {
   "cell_type": "code",
   "execution_count": null,
   "metadata": {},
   "outputs": [],
   "source": [
    "lst = [3, 5, 1, 2, 7]\n",
    "lst2 = list(map(int, input().split()))\n",
    "\n",
    "def CompareGo(lst, lst2):\n",
    "    key = 1\n",
    "\n",
    "    for i in range(5):\n",
    "        if (lst[i] != lst2[i]):\n",
    "            key = 0\n",
    "            break;\n",
    "\n",
    "    return(key)\n",
    "\n",
    "if (CompareGo(lst, lst2) == 1):\n",
    "    print(\"두배열은완전같음\")\n",
    "else:\n",
    "    print(\"두배열은같지않음\")"
   ]
  },
  {
   "cell_type": "code",
   "execution_count": null,
   "metadata": {},
   "outputs": [],
   "source": [
    "country = list(\"ABCDEFG\")\n",
    "dist = [4, 2, 5, 1, 6, 7, 3]\n",
    "a, b = input().split()\n",
    "a_idx = country.index(a)\n",
    "b_idx = country.index(b)\n",
    "\n",
    "if (a_idx < b_idx):\n",
    "    d = dist[a_idx + 1:b_idx]\n",
    "else:\n",
    "    d = dist[b_idx +1:a_idx]\n",
    "\n",
    "print(sum(d))"
   ]
  },
  {
   "cell_type": "code",
   "execution_count": null,
   "metadata": {},
   "outputs": [],
   "source": [
    "a = list(map(int, input().split()))\n",
    "b = list(map(int, input().split()))\n",
    "c = list(map(int, input().split()))\n",
    "d = []\n",
    "\n",
    "for i in range(5):\n",
    "    d.append(a[i] * b[i] + c[i])\n",
    "\n",
    "print(*d)"
   ]
  },
  {
   "cell_type": "code",
   "execution_count": null,
   "metadata": {},
   "outputs": [],
   "source": [
    "lst = [\n",
    "    [3, 4, 1, 6],\n",
    "    [3, 5, 3, 6],\n",
    "    [0]*4,\n",
    "    [5, 4, 6, 0]\n",
    "]\n",
    "\n",
    "a = list(map(int, input().split()))\n",
    "lst[2] = a\n",
    "mi = (0, 0)\n",
    "mi2 = lst[0][0]\n",
    "ma = (0, 0)\n",
    "ma2 = lst[0][0]\n",
    "\n",
    "for i in range(4):\n",
    "    for j in range(4):\n",
    "        if (mi2 > lst[i][j]):\n",
    "            mi2 = lst[i][j]\n",
    "            mi = (i, j)\n",
    "        if (ma2 < lst[i][j]):\n",
    "            ma2 = lst[i][j]\n",
    "            ma = (i, j)\n",
    "\n",
    "print(f\"MAX={ma2}({ma[0]},{ma[1]})\")\n",
    "print(f\"MIN={mi2}({mi[0]},{mi[1]})\")"
   ]
  },
  {
   "cell_type": "code",
   "execution_count": null,
   "metadata": {},
   "outputs": [],
   "source": [
    "print(lst)"
   ]
  },
  {
   "cell_type": "code",
   "execution_count": null,
   "metadata": {},
   "outputs": [],
   "source": [
    "lst = [\n",
    "    [4, 5, 7, 1, 3, 2],\n",
    "    list(\"DGQWGZ\")\n",
    "]\n",
    "\n",
    "a = int(input())\n",
    "\n",
    "for i in range(6):\n",
    "    if (lst[0][i] == a):\n",
    "        print(lst[1][i])\n",
    "        break;"
   ]
  },
  {
   "cell_type": "code",
   "execution_count": null,
   "metadata": {},
   "outputs": [],
   "source": [
    "def main():\n",
    "    a = input()\n",
    "    b = input()\n",
    "    FindABC(a, b)\n",
    "\n",
    "def FindABC(a, b):\n",
    "    temp = [list(a), list(b)]\n",
    "    dict = {}\n",
    "    for i in ['A', 'B', 'C']:\n",
    "        for j in temp:\n",
    "            for k in j:\n",
    "                if (i == k):\n",
    "                    try:\n",
    "                        dict[i] += 1\n",
    "                    except:\n",
    "                        dict[i] = 1\n",
    "    \n",
    "    for keys, values in dict.items():\n",
    "        print(f\"{keys}:{values}\")\n",
    "    \n",
    "main()"
   ]
  },
  {
   "cell_type": "code",
   "execution_count": null,
   "metadata": {},
   "outputs": [],
   "source": [
    "row1, col1 = map(int, input().split())\n",
    "row2, col2 = map(int, input().split())\n",
    "\n",
    "def find(r, c):\n",
    "    lst = [\n",
    "        list(\"DAS\"),\n",
    "        list(\"QWV\"),\n",
    "        list(\"RTY\")\n",
    "    ]\n",
    "\n",
    "    return(lst[r][c])\n",
    "\n",
    "print(find(row1, col1), find(row2, col2))"
   ]
  },
  {
   "cell_type": "code",
   "execution_count": null,
   "metadata": {},
   "outputs": [],
   "source": [
    "a = list(input())\n",
    "b = list(input())\n",
    "\n",
    "while(True):\n",
    "    res = \"같음\"\n",
    "\n",
    "    if (len(a) != len(b)):\n",
    "        res = \"다름\"\n",
    "        break;\n",
    "    \n",
    "    for i in range(len(a)):\n",
    "        if (a[i] != b[i]):\n",
    "            res = \"다름\"\n",
    "            break;\n",
    "    \n",
    "    break;\n",
    "\n",
    "print(res)"
   ]
  },
  {
   "cell_type": "code",
   "execution_count": null,
   "metadata": {},
   "outputs": [],
   "source": [
    "a = int(input())\n",
    "\n",
    "n1 = a // 10**3\n",
    "n2 = (a - 10**3 * n1) // 100\n",
    "n3 = (a - 10**3 * n1 - 100 *n2) // 10\n",
    "n4 = a % 10\n",
    "\n",
    "lst = [n1, n2, n3, n4]\n",
    "\n",
    "for i in lst:\n",
    "    print(f\"숫자{i}\")"
   ]
  },
  {
   "cell_type": "code",
   "execution_count": null,
   "metadata": {},
   "outputs": [],
   "source": [
    "lst = list(map(int, input().split()))\n",
    "key = 1\n",
    "\n",
    "for i in range(0, len(lst) - 1):\n",
    "    if (abs(lst[i] - lst[i + 1]) >= 3):\n",
    "        key = 0\n",
    "        break;\n",
    "\n",
    "if (key == 1):\n",
    "    print(\"완벽한배치\")\n",
    "else:\n",
    "    print(\"재배치필요\")\n"
   ]
  },
  {
   "cell_type": "code",
   "execution_count": null,
   "metadata": {},
   "outputs": [],
   "source": [
    "a = list(input())\n",
    "b = list(input())\n",
    "len1 = int(len(a)/2)\n",
    "\n",
    "for i in range(len1):\n",
    "    a[i], a[len(a) - i - 1] = a[len(a) - i - 1], a[i]\n",
    "\n",
    "if (a == b):\n",
    "    print(\"거울문장\")\n",
    "else:\n",
    "    print(\"거울문장아님\")"
   ]
  },
  {
   "cell_type": "code",
   "execution_count": null,
   "metadata": {},
   "outputs": [],
   "source": [
    "lst = [list(input()) for i in range(4)]\n",
    "lst2 = []\n",
    "\n",
    "for i in lst:\n",
    "    lst2.append(len(i))\n",
    "\n",
    "print(*sorted(lst2))"
   ]
  },
  {
   "cell_type": "code",
   "execution_count": null,
   "metadata": {},
   "outputs": [],
   "source": [
    "lst = list(input())\n",
    "s1 = lst[0].isupper()\n",
    "k1, k2 = 1, 1\n",
    "\n",
    "for i in range(2, len(lst), 2):\n",
    "    if (s1 > 0):\n",
    "        k1 *= lst[i].isupper()\n",
    "    else :\n",
    "        k1 *= lst[i].islower()\n",
    "\n",
    "for i in range(1, len(lst), 2):\n",
    "    if (s1 <= 0):\n",
    "        k2 *= lst[i].isupper()\n",
    "    else :\n",
    "        k2 *= lst[i].islower()\n",
    "\n",
    "if (k1 == 1 and k2 == 1):\n",
    "    print(\"개구리문장\")\n",
    "else:\n",
    "    print(\"일반문장\")"
   ]
  },
  {
   "cell_type": "code",
   "execution_count": null,
   "metadata": {},
   "outputs": [],
   "source": [
    "lst = list(\"ABCZETQ\")\n",
    "a = list(input())\n",
    "\n",
    "for i in a:\n",
    "    if (i in lst):\n",
    "        temp = \"마을사람\"\n",
    "    else:\n",
    "        temp = \"외부사람\"\n",
    "    \n",
    "    print(f\"{i}={temp}\")"
   ]
  },
  {
   "cell_type": "code",
   "execution_count": null,
   "metadata": {},
   "outputs": [],
   "source": [
    "a = input()\n",
    "long = len(a)\n",
    "\n",
    "for i in range(4):\n",
    "    temp = input()\n",
    "    if (long < len(temp)):\n",
    "        a = temp\n",
    "        long = len(temp)\n",
    "\n",
    "print(a)"
   ]
  },
  {
   "cell_type": "code",
   "execution_count": null,
   "metadata": {},
   "outputs": [],
   "source": [
    "lst = [\n",
    "    list(\"BBQWORLD\"),\n",
    "    list(\"KFCAPPLE\"),\n",
    "    list(\"LOT\")\n",
    "]\n",
    "\n",
    "cnt = 0\n",
    "a = input()\n",
    "\n",
    "for i in lst:\n",
    "    for j in i:\n",
    "        if (j == a):\n",
    "            cnt += 1\n",
    "\n",
    "print(cnt)"
   ]
  },
  {
   "cell_type": "code",
   "execution_count": null,
   "metadata": {},
   "outputs": [],
   "source": [
    "lst = [input() for i in range(3)]\n",
    "\n",
    "for i in lst:\n",
    "    long = len(i)\n",
    "    print(f\"{long}={i}\")\n",
    "\n"
   ]
  },
  {
   "cell_type": "code",
   "execution_count": null,
   "metadata": {},
   "outputs": [],
   "source": [
    "lst = [input() for i in range(4)]\n",
    "cnt = 0\n",
    "\n",
    "for i in lst:\n",
    "    if ('A' in i):\n",
    "        cnt += 1\n",
    "        break;\n",
    "\n",
    "for i in lst:\n",
    "    if ('B' in i):\n",
    "        cnt += 1\n",
    "        break;\n",
    "\n",
    "if (cnt == 2):\n",
    "    print(\"대발견\")\n",
    "elif (cnt == 1):\n",
    "    print(\"중발견\")\n",
    "else:\n",
    "    print(\"미발견\")\n"
   ]
  },
  {
   "cell_type": "code",
   "execution_count": null,
   "metadata": {},
   "outputs": [],
   "source": [
    "a = input()\n",
    "b = input()\n",
    "lst = [' ']*12\n",
    "\n",
    "lst[0:len(a)] = a\n",
    "lst[len(a):len(a) + len(b)] = b\n",
    "\n",
    "print(*lst, sep = \"\")"
   ]
  },
  {
   "cell_type": "code",
   "execution_count": null,
   "metadata": {},
   "outputs": [],
   "source": [
    "lst = [\n",
    "    list(\"DATAW\"),\n",
    "    list(\"BBQK\")\n",
    "]\n",
    "\n",
    "lst[1 - (int(input()) % 2)].sort()\n",
    "\n",
    "for i in lst:\n",
    "    print(*i, sep = \"\")"
   ]
  },
  {
   "cell_type": "code",
   "execution_count": null,
   "metadata": {},
   "outputs": [],
   "source": [
    "lst = [\n",
    "    list(\"POTIO\"),\n",
    "    list(\"ABCDE\"),\n",
    "    list(\"YOURE\")\n",
    "]\n",
    "\n",
    "a, b = map(int, input().split())\n",
    "\n",
    "for i in range(3):\n",
    "    for j in range(a, b + 1):\n",
    "        print(lst[i][j], end = '')"
   ]
  },
  {
   "cell_type": "code",
   "execution_count": null,
   "metadata": {},
   "outputs": [],
   "source": [
    "lst = [[' ']*8 for i in range(2)]\n",
    "\n",
    "for i in range(2):\n",
    "    temp = input()\n",
    "    long = len(temp)\n",
    "\n",
    "    lst[i][0:long] = temp\n",
    "\n",
    "cnt = 0\n",
    "for j in range(8):\n",
    "    if (lst[0][j] != lst[1][j]):\n",
    "        cnt += 1\n",
    "\n",
    "print(cnt)"
   ]
  },
  {
   "cell_type": "code",
   "execution_count": null,
   "metadata": {},
   "outputs": [],
   "source": [
    "lst = [[' ']*3 for i in range(3)]\n",
    "\n",
    "i = 2\n",
    "c = ord(input())\n",
    "\n",
    "while (i > -1):\n",
    "    j = 0\n",
    "    while (j < 3):\n",
    "        if (j < -i + 3):\n",
    "            lst[i][j] = chr(c)\n",
    "            c += 1\n",
    "        j += 1\n",
    "    i -= 1\n",
    "\n",
    "for i in lst:\n",
    "    print(*i, sep = \"\")"
   ]
  },
  {
   "cell_type": "code",
   "execution_count": null,
   "metadata": {},
   "outputs": [],
   "source": [
    "lst = [\n",
    "    [5, 1, 4, 2, 6],\n",
    "    [3, 5, 0, 0, 7],\n",
    "    [9, 9, 8, 3, 1]\n",
    "]\n",
    "\n",
    "a = int(input())\n",
    "cnt = 0\n",
    "\n",
    "for i in lst:\n",
    "    for j in i:\n",
    "        if (j > a):\n",
    "            cnt += 1\n",
    "\n",
    "print(f\"{cnt}개\")"
   ]
  },
  {
   "cell_type": "code",
   "execution_count": null,
   "metadata": {},
   "outputs": [],
   "source": [
    "lst = [[0]*4 for i in range(3)]\n",
    "k = 1\n",
    "\n",
    "for i in range(2, -1, -1):\n",
    "    for j in range(3, -1, -1):\n",
    "        lst[i][j] = k\n",
    "        k += 1\n",
    "\n",
    "a = int(input())\n",
    "lst[a - 1] = [7]*4\n",
    "\n",
    "for i in lst:\n",
    "    print(*i)"
   ]
  },
  {
   "cell_type": "code",
   "execution_count": null,
   "metadata": {},
   "outputs": [],
   "source": [
    "juso = [402, 401, 302, 301, 202, 201, 102, 101]\n",
    "name = [\"KIM\", \"TEA\", \"SOM\", \"OPPO\", \"TOM\", \"GDK\", \"JAME\", \"MIN\"]\n",
    "a = int(input())\n",
    "\n",
    "idx = juso.index(a)\n",
    "print(name[idx])"
   ]
  },
  {
   "cell_type": "code",
   "execution_count": null,
   "metadata": {},
   "outputs": [],
   "source": [
    "a, b, c = map(int, input().split())\n",
    "\n",
    "for i in range(c):\n",
    "    for j in range(a, a + b):\n",
    "        print(j, end = \" \")\n",
    "    print()"
   ]
  },
  {
   "cell_type": "code",
   "execution_count": null,
   "metadata": {},
   "outputs": [],
   "source": [
    "lst = [0]*9\n",
    "\n",
    "for i in range(3):\n",
    "    a, b = map(int, input().split())\n",
    "    for j in range(a, b + 1):\n",
    "        lst[j] = lst[j] + 1\n",
    "\n",
    "print(*lst)"
   ]
  },
  {
   "cell_type": "code",
   "execution_count": null,
   "metadata": {},
   "outputs": [],
   "source": [
    "name = []\n",
    "size = []\n",
    "price = []\n",
    "\n",
    "for i in range(2):\n",
    "    name.append(input())\n",
    "    size.append(int(input()))\n",
    "    price.append(int(input()))\n",
    "\n",
    "print(*name, sep = \",\")\n",
    "print(f\"AverageSize={int(sum(size)/2)}\")\n",
    "print(f\"AveragePrice={int(sum(price)/2)}\")"
   ]
  },
  {
   "cell_type": "code",
   "execution_count": null,
   "metadata": {},
   "outputs": [],
   "source": [
    "lst = [list(map(int, input().split())) for i in range(2)]\n",
    "lst2 = []\n",
    "\n",
    "for i in lst:\n",
    "    for j in i:\n",
    "        lst2.append(j)\n",
    "\n",
    "for i in range(len(lst2)):\n",
    "    m = lst2[i]\n",
    "    idx = i\n",
    "    for j in range(i+1, len(lst2)):\n",
    "         if (m > lst2[j]):\n",
    "            m = lst2[j]\n",
    "            idx = j\n",
    "    \n",
    "    if (i != idx):\n",
    "        lst2[i], lst2[idx] = lst2[idx], lst2[i]\n",
    "\n",
    "k = 0\n",
    "\n",
    "for i in range(2):\n",
    "    for j in range(3):\n",
    "        lst[i][j] = lst2[k]\n",
    "        k += 1\n",
    "\n",
    "for i in lst:\n",
    "    print(*i)"
   ]
  },
  {
   "cell_type": "code",
   "execution_count": null,
   "metadata": {},
   "outputs": [],
   "source": [
    "lst = [\n",
    "    list(\"FRQWT\"),\n",
    "    list(\"GASYQ\"),\n",
    "    list(\"ASADB\")\n",
    "]\n",
    "\n",
    "a = int(input())\n",
    "\n",
    "for i in range(3):\n",
    "    print(lst[i][a], end = \"\")"
   ]
  },
  {
   "cell_type": "code",
   "execution_count": null,
   "metadata": {},
   "outputs": [],
   "source": [
    "s = \"APPLET\"\n",
    "lst = input().split()\n",
    "cnt = 0\n",
    "\n",
    "for i in lst:\n",
    "    for j in s:\n",
    "        if (i == j):\n",
    "            cnt += 1\n",
    "\n",
    "print(f\"{cnt}개 맞추었습니다\")"
   ]
  },
  {
   "cell_type": "code",
   "execution_count": null,
   "metadata": {},
   "outputs": [],
   "source": [
    "a = int(input())\n",
    "lst = [[0]*4 for i in range(4)]\n",
    "\n",
    "for i in range(4):\n",
    "    if (i %2 == 1):\n",
    "        temp = range(3, -1, -1)\n",
    "    else:\n",
    "        temp = range(4)\n",
    "    \n",
    "    for j in temp:\n",
    "        lst[i][j] = a\n",
    "        a += 1\n",
    "\n",
    "for i in lst:\n",
    "    print(*i)"
   ]
  },
  {
   "cell_type": "code",
   "execution_count": null,
   "metadata": {},
   "outputs": [],
   "source": [
    "# \"apple,rottenBanana,apple,RoTTenorange,Orange\"\n",
    "a = \"apple,rottenBanana,apple,RoTTenorange,Orange\"\n",
    "lst = a.split(sep = ',')\n",
    "\n",
    "\n"
   ]
  },
  {
   "cell_type": "code",
   "execution_count": 14,
   "metadata": {},
   "outputs": [
    {
     "name": "stdout",
     "output_type": "stream",
     "text": [
      "['apple', 'banana', 'apple', 'orange', 'orange']\n"
     ]
    }
   ],
   "source": [
    "a = list(input().split(sep = ','))\n",
    "lst = []\n",
    "\n",
    "if (a == [''] or a == [' ']):\n",
    "    print(lst)\n",
    "else:\n",
    "    for i in a:\n",
    "        temp = i.lower()\n",
    "        temp = temp.replace(\"rotten\", '')\n",
    "        lst.append(temp)\n",
    "\n",
    "    print(lst)"
   ]
  },
  {
   "cell_type": "code",
   "execution_count": 3,
   "metadata": {},
   "outputs": [
    {
     "name": "stdout",
     "output_type": "stream",
     "text": [
      "cd\n"
     ]
    }
   ],
   "source": [
    "# abc, bcde\n",
    "\n",
    "a = input()\n",
    "l = int(len(a)/2)\n",
    "\n",
    "if (len(a) % 2 == 0):\n",
    "    print(a[l - 1:l + 1])\n",
    "else:\n",
    "    print(a[l])"
   ]
  },
  {
   "cell_type": "code",
   "execution_count": 4,
   "metadata": {},
   "outputs": [
    {
     "name": "stdout",
     "output_type": "stream",
     "text": [
      "16\n"
     ]
    }
   ],
   "source": [
    "infos = [{'name': 'kim', 'age': 12}, {'name': 'lee', 'age': 4}]\n",
    "age_sum = 0\n",
    "\n",
    "for i in infos:\n",
    "    age_sum += i['age']\n",
    "\n",
    "print(age_sum)"
   ]
  },
  {
   "cell_type": "code",
   "execution_count": 7,
   "metadata": {},
   "outputs": [
    {
     "name": "stdout",
     "output_type": "stream",
     "text": [
      "{'A': 4, 'O': 4, 'B': 3, 'AB': 2}\n"
     ]
    }
   ],
   "source": [
    "blood_types = [ 'A','A','O', 'B', 'A', 'O', 'AB','O', 'A', 'B', 'O', 'B', 'AB']\n",
    "dict1 = {}\n",
    "\n",
    "for i in blood_types:\n",
    "    try:\n",
    "        dict1[i] += 1\n",
    "    except:\n",
    "        dict1[i] = 1\n",
    "\n",
    "print(dict1)"
   ]
  },
  {
   "cell_type": "code",
   "execution_count": 11,
   "metadata": {},
   "outputs": [
    {
     "name": "stdout",
     "output_type": "stream",
     "text": [
      "5 번째까지의 혼합물의 농도는10.00%이며 무게는 500.0입니다.\n"
     ]
    }
   ],
   "source": [
    "level = []\n",
    "weight = []\n",
    "k = 0\n",
    "i = \"start\"\n",
    "j = \"start\"\n",
    "\n",
    "while (k < 5):\n",
    "    i, j = input(f\"{k + 1} 번째 소금물의 농도와 무게를 입력하세요: \").split()\n",
    "    \n",
    "    if (i == \"Done\" or j == \"Done\"):\n",
    "        break;\n",
    "    else:\n",
    "        level.append(float(i))\n",
    "        weight.append(float(j))\n",
    "\n",
    "    k += 1\n",
    "\n",
    "if (k == 0):\n",
    "    print(\"입력된 값이 존재하지 않습니다.\")\n",
    "else:\n",
    "    salt = 0\n",
    "    weight_sum = 0\n",
    "    for i in range(k):\n",
    "        salt += level[i] * weight[i] / 100\n",
    "        weight_sum += weight[i]\n",
    "    level2 = salt/weight_sum * 100\n",
    "    \n",
    "    print(f\"{k} 번째까지의 혼합물의 농도는{level2:0.2f}%이며 무게는 {weight_sum:0.2f}입니다.\")"
   ]
  },
  {
   "cell_type": "code",
   "execution_count": 14,
   "metadata": {},
   "outputs": [
    {
     "name": "stdout",
     "output_type": "stream",
     "text": [
      "5 번째까지의 혼합물의 농도는30.00%이며 무게는 1500.00입니다.\n"
     ]
    }
   ],
   "source": [
    "level = []\n",
    "weight = []\n",
    "k = 0\n",
    "\n",
    "while (k < 5):\n",
    "    lst = input(f\"{k + 1} 번째 소금물의 농도와 무게를 입력하세요: \").split()\n",
    "    \n",
    "    if (len(lst) == 1 or lst[0] == \"Done\"):\n",
    "        break;\n",
    "    else:\n",
    "        level.append(float(lst[0]))\n",
    "        weight.append(float(lst[1]))\n",
    "    k += 1\n",
    "\n",
    "if (k == 0):\n",
    "    print(\"입력된 값이 존재하지 않습니다.\")\n",
    "else:\n",
    "    salt = 0\n",
    "    weight_sum = 0\n",
    "    for i in range(k):\n",
    "        salt += level[i] * weight[i] / 100\n",
    "        weight_sum += weight[i]\n",
    "    level2 = salt/weight_sum * 100\n",
    "    \n",
    "    print(f\"{k} 번째까지의 혼합물의 농도는{level2:0.2f}%이며 무게는 {weight_sum:0.2f}입니다.\")\n"
   ]
  },
  {
   "cell_type": "code",
   "execution_count": 16,
   "metadata": {},
   "outputs": [
    {
     "name": "stdout",
     "output_type": "stream",
     "text": [
      "1900년은 윤년이 아닙니다.\n"
     ]
    }
   ],
   "source": [
    "a = int(input())\n",
    "\n",
    "if ((a % 4 == 0 and a % 100 != 0) or (a % 400 == 0)):\n",
    "    print(f\"{a}년은 윤년입니다.\")\n",
    "else:\n",
    "    print(f\"{a}년은 윤년이 아닙니다.\")"
   ]
  },
  {
   "cell_type": "code",
   "execution_count": 1,
   "metadata": {},
   "outputs": [
    {
     "name": "stdout",
     "output_type": "stream",
     "text": [
      "직각삼각형입니다.\n"
     ]
    }
   ],
   "source": [
    "a, b, c = map(int, input().split())\n",
    "\n",
    "temp = [a, b, c]\n",
    "m = max(temp)\n",
    "temp.remove(m)\n",
    "\n",
    "if (sum(temp) < m):\n",
    "    print(\"삼각형이 아닙니다.\")\n",
    "else:\n",
    "\n",
    "    if (a == b and b == c):\n",
    "        print(\"정삼각협입니다.\")\n",
    "    elif (a == b or b == c):\n",
    "        print(\"이등변삼각형입니다.\")\n",
    "    elif (temp[0]**2 + temp[1]**2 == m**2):\n",
    "        print(\"직각삼각형입니다.\")\n",
    "    else:\n",
    "        print(\"일반삼각형입니다.\")\n"
   ]
  },
  {
   "cell_type": "code",
   "execution_count": 4,
   "metadata": {},
   "outputs": [
    {
     "name": "stdout",
     "output_type": "stream",
     "text": [
      "5 번째 사람이 탈락했습니다!\n"
     ]
    }
   ],
   "source": [
    "words = [\"round\" , \"dream\", \"magnet\" , \"tweet\" , \"tweet\", \"trick\", \"kiwi\"]\n",
    "\n",
    "w = words[0]\n",
    "lst = []\n",
    "\n",
    "for i in range(1, len(words)):\n",
    "    lst.append(w)\n",
    "    if (words[i] in lst or w[-1] != words[i][0]):\n",
    "        print(f\"{i + 1} 번째 사람이 탈락했습니다!\")\n",
    "        break;\n",
    "    \n",
    "    w = words[i]\n"
   ]
  },
  {
   "cell_type": "code",
   "execution_count": 6,
   "metadata": {},
   "outputs": [
    {
     "name": "stdout",
     "output_type": "stream",
     "text": [
      "입력을 3회 초과했습니다.\n"
     ]
    }
   ],
   "source": [
    "# 비밀번호를 24601로 정함\n",
    "secret = \"24601\"\n",
    "res = \"입력을 3회 초과했습니다.\"\n",
    "\n",
    "for i in range(3):\n",
    "    a = input(\"비밀번호를 입력하세요: \")\n",
    "    \n",
    "    if (a == secret):\n",
    "        res = \"성공\"\n",
    "        break;\n",
    "\n",
    "print(res)"
   ]
  },
  {
   "cell_type": "code",
   "execution_count": 8,
   "metadata": {},
   "outputs": [
    {
     "name": "stdout",
     "output_type": "stream",
     "text": [
      "반장선거 투표 결과는?\n",
      "('박해피', 5) ('이영희', 4) ('조민지', 3) ('김철수', 3) ('김해킹', 2) ('한케이', 2) ('강디티', 2) "
     ]
    }
   ],
   "source": [
    "students = [\n",
    "    '박해피',\n",
    "    '이영희',\n",
    "    '조민지',\n",
    "    '조민지',\n",
    "    '김철수',\n",
    "    '이영희',\n",
    "    '이영희',\n",
    "    '김해킹',\n",
    "    '박해피',\n",
    "    '김철수',\n",
    "    '한케이',\n",
    "    '강디티',\n",
    "    '조민지',\n",
    "    '박해피',\n",
    "    '김철수',\n",
    "    '이영희',\n",
    "    '박해피',\n",
    "    '김해킹',\n",
    "    '박해피',\n",
    "    '한케이',\n",
    "    '강디티',\n",
    "]\n",
    "\n",
    "dict1 = {}\n",
    "for i in students:\n",
    "    try:\n",
    "        dict1[i] += 1\n",
    "    except:\n",
    "        dict1[i] = 1\n",
    "\n",
    "res = sorted(dict1.items(), key = lambda x: x[1], reverse = True)\n",
    "\n",
    "print(\"반장선거 투표 결과는?\")\n",
    "for i in res:\n",
    "    print(i, end = \" \")"
   ]
  },
  {
   "cell_type": "code",
   "execution_count": 20,
   "metadata": {},
   "outputs": [
    {
     "name": "stdout",
     "output_type": "stream",
     "text": [
      "5\n",
      "-1\n",
      "6\n",
      "0.6666666666666666\n",
      "0으로 나눌 수 없습니다.\n"
     ]
    }
   ],
   "source": [
    "import calc\n",
    "\n",
    "print(calc.add(2, 3)) # 5\n",
    "print(calc.sub(2, 3)) # -1\n",
    "print(calc.mul(2, 3)) # 6\n",
    "print(calc.div(2, 3)) # 0.6666666666666666\n",
    "\n",
    "print(calc.div(2, 0)) # 0으로 나눌 수 없습니다."
   ]
  },
  {
   "cell_type": "code",
   "execution_count": 1,
   "metadata": {},
   "outputs": [],
   "source": [
    "def making_card_list() -> list:\n",
    "\tcard_list = []\n",
    "\n",
    "\tfor shape in [\"spade\", \"heart\", \"diamond\", \"clover\"]:\n",
    "\n",
    "\t\tfor number in [\"A\", 2, 3, 4, 5, 6, 7, 8, 9, 10, \"J\", \"Q\", \"K\"]:\n",
    "\n",
    "\t\t\tcard_list.append((shape, number))\n",
    "\n",
    "\treturn card_list\n",
    "\n",
    "\n",
    "trump_card_list = making_card_list()\n"
   ]
  },
  {
   "cell_type": "code",
   "execution_count": 2,
   "metadata": {},
   "outputs": [
    {
     "data": {
      "text/plain": [
       "[('spade', 'A'),\n",
       " ('spade', 2),\n",
       " ('spade', 3),\n",
       " ('spade', 4),\n",
       " ('spade', 5),\n",
       " ('spade', 6),\n",
       " ('spade', 7),\n",
       " ('spade', 8),\n",
       " ('spade', 9),\n",
       " ('spade', 10),\n",
       " ('spade', 'J'),\n",
       " ('spade', 'Q'),\n",
       " ('spade', 'K'),\n",
       " ('heart', 'A'),\n",
       " ('heart', 2),\n",
       " ('heart', 3),\n",
       " ('heart', 4),\n",
       " ('heart', 5),\n",
       " ('heart', 6),\n",
       " ('heart', 7),\n",
       " ('heart', 8),\n",
       " ('heart', 9),\n",
       " ('heart', 10),\n",
       " ('heart', 'J'),\n",
       " ('heart', 'Q'),\n",
       " ('heart', 'K'),\n",
       " ('diamond', 'A'),\n",
       " ('diamond', 2),\n",
       " ('diamond', 3),\n",
       " ('diamond', 4),\n",
       " ('diamond', 5),\n",
       " ('diamond', 6),\n",
       " ('diamond', 7),\n",
       " ('diamond', 8),\n",
       " ('diamond', 9),\n",
       " ('diamond', 10),\n",
       " ('diamond', 'J'),\n",
       " ('diamond', 'Q'),\n",
       " ('diamond', 'K'),\n",
       " ('clover', 'A'),\n",
       " ('clover', 2),\n",
       " ('clover', 3),\n",
       " ('clover', 4),\n",
       " ('clover', 5),\n",
       " ('clover', 6),\n",
       " ('clover', 7),\n",
       " ('clover', 8),\n",
       " ('clover', 9),\n",
       " ('clover', 10),\n",
       " ('clover', 'J'),\n",
       " ('clover', 'Q'),\n",
       " ('clover', 'K')]"
      ]
     },
     "execution_count": 2,
     "metadata": {},
     "output_type": "execute_result"
    }
   ],
   "source": [
    "trump_card_list"
   ]
  },
  {
   "cell_type": "code",
   "execution_count": 18,
   "metadata": {},
   "outputs": [
    {
     "name": "stdout",
     "output_type": "stream",
     "text": [
      "[('clover', 6), ('diamond', 'A'), ('heart', 'Q'), ('diamond', 3), ('diamond', 9), ('clover', 8), ('clover', 'A'), ('diamond', 7), ('diamond', 2), ('clover', 'Q'), ('spade', 5), ('diamond', 5), ('diamond', 8), ('clover', 9), ('diamond', 10), ('diamond', 4), ('diamond', 'Q'), ('spade', 10), ('spade', 6), ('spade', 2), ('spade', 'J'), ('clover', 2)]\n"
     ]
    }
   ],
   "source": [
    "import random\n",
    "\n",
    "random.shuffle(trump_card_list)\n",
    "print(trump_card_list)"
   ]
  },
  {
   "cell_type": "code",
   "execution_count": 12,
   "metadata": {},
   "outputs": [],
   "source": [
    "def compare_cards(p1, p2):\n",
    "    \n",
    "    def val(pattern):\n",
    "        if (pattern == \"clover\"):\n",
    "            return 0\n",
    "        elif (pattern == \"heart\"):\n",
    "            return 1\n",
    "        elif (pattern == \"diamond\"):\n",
    "            return 2\n",
    "        else:\n",
    "            return 3\n",
    "    \n",
    "    def val2(pattern):\n",
    "     \n",
    "        if (pattern == 'A'):\n",
    "            return 14\n",
    "        elif (pattern == 'J'):\n",
    "            return 11\n",
    "        elif (pattern == 'Q'):\n",
    "            return 12\n",
    "        elif (pattern == 'K'):\n",
    "            return 13\n",
    "        else:\n",
    "            return pattern\n",
    "\n",
    "\n",
    "    p11 = (val(p1[0]), val2(p1[1]))\n",
    "    p21 = (val(p2[0]), val2(p2[1]))\n",
    "    lst = [p11, p21]\n",
    "    res = sorted(lst, key = lambda x: (x[1],x[0]), reverse = True)\n",
    "    \n",
    "    if (res[0] == p11):\n",
    "        return 1\n",
    "    else:\n",
    "        return 2\n",
    "\n"
   ]
  },
  {
   "cell_type": "code",
   "execution_count": 19,
   "metadata": {},
   "outputs": [
    {
     "name": "stdout",
     "output_type": "stream",
     "text": [
      "('clover', 6) ('diamond', 'A') player2 win!\n",
      "('heart', 'Q') ('diamond', 3) player1 win!\n",
      "('diamond', 9) ('clover', 8) player1 win!\n",
      "('clover', 'A') ('diamond', 7) player1 win!\n",
      "('diamond', 2) ('clover', 'Q') player2 win!\n",
      "('spade', 5) ('diamond', 5) player1 win!\n",
      "('diamond', 8) ('clover', 9) player2 win!\n",
      "('diamond', 10) ('diamond', 4) player1 win!\n",
      "('diamond', 'Q') ('spade', 10) player1 win!\n",
      "6:3 player1 win\n"
     ]
    }
   ],
   "source": [
    "# 카드 생성\n",
    "def making_card_list() -> list:\n",
    "\tcard_list = []\n",
    "\n",
    "\tfor shape in [\"spade\", \"heart\", \"diamond\", \"clover\"]:\n",
    "\n",
    "\t\tfor number in [\"A\", 2, 3, 4, 5, 6, 7, 8, 9, 10, \"J\", \"Q\", \"K\"]:\n",
    "\n",
    "\t\t\tcard_list.append((shape, number))\n",
    "\n",
    "\treturn card_list\n",
    "\n",
    "\n",
    "trump_card_list = making_card_list()\n",
    "\n",
    "# 셔플하기\n",
    "import random\n",
    "\n",
    "random.shuffle(trump_card_list)\n",
    "print(trump_card_list)\n",
    "\n",
    "# 누가 이기는지 정하기\n",
    "def compare_cards(p1, p2):\n",
    "    \n",
    "    def val(pattern):\n",
    "        if (pattern == \"clover\"):\n",
    "            return 0\n",
    "        elif (pattern == \"heart\"):\n",
    "            return 1\n",
    "        elif (pattern == \"diamond\"):\n",
    "            return 2\n",
    "        else:\n",
    "            return 3\n",
    "    \n",
    "    def val2(pattern):\n",
    "     \n",
    "        if (pattern == 'A'):\n",
    "            return 14\n",
    "        elif (pattern == 'J'):\n",
    "            return 11\n",
    "        elif (pattern == 'Q'):\n",
    "            return 12\n",
    "        elif (pattern == 'K'):\n",
    "            return 13\n",
    "        else:\n",
    "            return pattern\n",
    "\n",
    "\n",
    "    p11 = (val(p1[0]), val2(p1[1]))\n",
    "    p21 = (val(p2[0]), val2(p2[1]))\n",
    "    lst = [p11, p21]\n",
    "    res = sorted(lst, key = lambda x: (x[1],x[0]), reverse = True)\n",
    "    \n",
    "    if (res[0] == p11):\n",
    "        return 1\n",
    "    else:\n",
    "        return 2\n",
    "\n",
    "# 6번 이길 때까지 시행하고, 결과 출력하기\n",
    "p1_score = 0\n",
    "p2_score = 0\n",
    "\n",
    "while (p1_score < 6 and p2_score < 6):\n",
    "    p1 = trump_card_list.pop(0)\n",
    "    p2 = trump_card_list.pop(0)\n",
    "\n",
    "    result = compare_cards(p1, p2)\n",
    "\n",
    "    if (result == 1):\n",
    "        p1_score += 1\n",
    "        print(p1, p2, \"player1 win!\")\n",
    "    else:\n",
    "        p2_score += 1\n",
    "        print(p1, p2, \"player2 win!\")\n",
    "    \n",
    "if (p1_score > p2_score):\n",
    "    print(f\"{p1_score}:{p2_score} Finally player1 win\")\n",
    "else:\n",
    "    print(f\"{p1_score}:{p2_score} Finally player2 win\")\n"
   ]
  },
  {
   "cell_type": "code",
   "execution_count": 31,
   "metadata": {},
   "outputs": [
    {
     "name": "stdout",
     "output_type": "stream",
     "text": [
      "I never dreamed about success, i worked for it.\n"
     ]
    }
   ],
   "source": [
    "s = '@#~I NeVEr DrEamEd AbouT SuCCeSs, i woRkEd foR iT.!>!'\n",
    "lst = list(s)\n",
    "lst2 = []\n",
    "\n",
    "for i in lst:\n",
    "    if ((i >= 'A' and i <= 'z') or i == ' ' or i == ',' or i == '.'):\n",
    "        lst2.append(i)\n",
    "\n",
    "lst3 = list(map(lambda x: x.lower() if x != 'I' else x, lst2))\n",
    "print(*lst3, sep = \"\")"
   ]
  },
  {
   "cell_type": "code",
   "execution_count": 35,
   "metadata": {},
   "outputs": [
    {
     "name": "stdout",
     "output_type": "stream",
     "text": [
      "25\n"
     ]
    }
   ],
   "source": [
    "# 띄어쓰기를 통해서 입력받는다고 하면 \n",
    "lst = list(map(int, input().split()))\n",
    "dict1 = {}\n",
    "s = 0\n",
    "\n",
    "for i in lst:\n",
    "    try:\n",
    "        dict1[i] += 1\n",
    "    except:\n",
    "        dict1[i] = 1\n",
    "\n",
    "for keys, values in dict1.items():\n",
    "    if (values == 1):\n",
    "        s += keys\n",
    "\n",
    "print(s)"
   ]
  },
  {
   "cell_type": "code",
   "execution_count": 36,
   "metadata": {},
   "outputs": [
    {
     "name": "stdout",
     "output_type": "stream",
     "text": [
      "25\n"
     ]
    }
   ],
   "source": [
    "def sum_of_repeat_number():\n",
    "    # 띄어쓰기를 통해서 입력받는다고 하면 \n",
    "    lst = list(map(int, input().split()))\n",
    "    dict1 = {}\n",
    "    s = 0\n",
    "\n",
    "    for i in lst:\n",
    "        try:\n",
    "            dict1[i] += 1\n",
    "        except:\n",
    "            dict1[i] = 1\n",
    "\n",
    "    for keys, values in dict1.items():\n",
    "        if (values == 1):\n",
    "            s += keys\n",
    "\n",
    "    print(s)\n",
    "\n",
    "sum_of_repeat_number()"
   ]
  },
  {
   "cell_type": "code",
   "execution_count": 39,
   "metadata": {},
   "outputs": [
    {
     "name": "stdout",
     "output_type": "stream",
     "text": [
      "['illegal', 'illogical', 'imbalance', 'immoral', 'impatient', 'imperfect', 'impossible', 'improper', 'irregular', 'irrelevant', 'irresponsible']\n"
     ]
    }
   ],
   "source": [
    "words_dict = {'proper' : '적절한',\n",
    "'possible' : '가능한',\n",
    "'moral' : '도덕적인',\n",
    "'patient' : '참을성 있는',\n",
    "'balance' : '균형',\n",
    "'perfect' : '완벽한',\n",
    "'logical' : '논리적인',\n",
    "'legal' : '합법적인',\n",
    "'relevant' : '관련 있는',\n",
    "'responsible' : '책임감 있는',\n",
    "'regular' : '규칙적인'}\n",
    "\n",
    "lst = list(words_dict.keys())\n",
    "im = ['b', 'm', 'p']\n",
    "\n",
    "for i in range(len(lst)):\n",
    "    if (lst[i][0] in im):\n",
    "        lst[i] = \"im\" + lst[i]\n",
    "    elif (lst[i][0] == 'l'):\n",
    "        lst[i] = \"il\" + lst[i]\n",
    "    elif (lst[i][0] == 'r'):\n",
    "        lst[i] = \"ir\" + lst[i]\n",
    "\n",
    "print(sorted(lst))"
   ]
  },
  {
   "cell_type": "code",
   "execution_count": null,
   "metadata": {},
   "outputs": [
    {
     "ename": "TypeError",
     "evalue": "formatweekheader() takes 2 positional arguments but 4 were given",
     "output_type": "error",
     "traceback": [
      "\u001b[1;31m---------------------------------------------------------------------------\u001b[0m\n",
      "\u001b[1;31mTypeError\u001b[0m                                 Traceback (most recent call last)\n",
      "Cell \u001b[1;32mIn[2], line 11\u001b[0m\n",
      "\u001b[0;32m      8\u001b[0m day \u001b[39m=\u001b[39m \u001b[39mint\u001b[39m(\u001b[39minput\u001b[39m())\n",
      "\u001b[0;32m     10\u001b[0m \u001b[39mimport\u001b[39;00m \u001b[39mcalendar\u001b[39;00m\n",
      "\u001b[1;32m---> 11\u001b[0m weekday \u001b[39m=\u001b[39m calendar\u001b[39m.\u001b[39;49mweekheader(year, month, day)\n",
      "\u001b[0;32m     12\u001b[0m [\u001b[39m'\u001b[39m\u001b[39m월\u001b[39m\u001b[39m'\u001b[39m, \u001b[39m'\u001b[39m\u001b[39m화\u001b[39m\u001b[39m'\u001b[39m, \u001b[39m'\u001b[39m\u001b[39m수\u001b[39m\u001b[39m'\u001b[39m, \u001b[39m'\u001b[39m\u001b[39m목\u001b[39m\u001b[39m'\u001b[39m, \u001b[39m'\u001b[39m\u001b[39m금\u001b[39m\u001b[39m'\u001b[39m, \u001b[39m'\u001b[39m\u001b[39m토\u001b[39m\u001b[39m'\u001b[39m, \u001b[39m'\u001b[39m\u001b[39m일\u001b[39m\u001b[39m'\u001b[39m]\n",
      "\n",
      "\u001b[1;31mTypeError\u001b[0m: formatweekheader() takes 2 positional arguments but 4 were given"
     ]
    }
   ],
   "source": [
    "year = int(input())\n",
    "\n",
    "while ((year % 4 == 0 and year % 100 != 0) or year % 400 == 0):\n",
    "    print(\"윤년입니다. 연도를 다시 입력해주세요.\")\n",
    "    year = int(input())\n",
    "\n",
    "month = int(input())\n",
    "day = int(input())\n",
    "\n",
    "import calendar\n",
    "weekday = calendar.weekday(year, month, day)\n",
    "week = ['월요일', '화요일', '수요일', '목요일', '금요일', '토요일', '일요일']\n",
    "dic = {'년': year, '월': month, '요일': week[weekday]}\n",
    "\n"
   ]
  }
 ],
 "metadata": {
  "kernelspec": {
   "display_name": "Python 3",
   "language": "python",
   "name": "python3"
  },
  "language_info": {
   "codemirror_mode": {
    "name": "ipython",
    "version": 3
   },
   "file_extension": ".py",
   "mimetype": "text/x-python",
   "name": "python",
   "nbconvert_exporter": "python",
   "pygments_lexer": "ipython3",
   "version": "3.9.13 (tags/v3.9.13:6de2ca5, May 17 2022, 16:36:42) [MSC v.1929 64 bit (AMD64)]"
  },
  "orig_nbformat": 4,
  "vscode": {
   "interpreter": {
    "hash": "c4b9ebf4ca459396e2ad1150752490c26670c1a037c08cad955a4425787bec2e"
   }
  }
 },
 "nbformat": 4,
 "nbformat_minor": 2
}
