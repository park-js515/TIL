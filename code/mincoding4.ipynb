{
 "cells": [
  {
   "cell_type": "code",
   "execution_count": null,
   "metadata": {},
   "outputs": [],
   "source": [
    "# PQ, 정중앙 대학교\n",
    "\n",
    "import heapq\n",
    "A = [-500] # max heap\n",
    "B = [] # min heap\n",
    "\n",
    "n = int(input())\n",
    "for _ in range(n):\n",
    "    n1, n2 = map(int, input().split())\n",
    "\n",
    "    heapq.heappush(A, -n1)\n",
    "    heapq.heappush(B, n2)\n",
    "\n",
    "    if -A[0] > B[0]:\n",
    "        Go_B = -heapq.heappop(A)\n",
    "        Go_A = heapq.heappop(B)\n",
    "        heapq.heappush(A, -Go_A)\n",
    "        heapq.heappush(B, Go_B)"
   ]
  }
 ],
 "metadata": {
  "language_info": {
   "name": "python"
  },
  "orig_nbformat": 4
 },
 "nbformat": 4,
 "nbformat_minor": 2
}
