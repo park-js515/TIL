{
 "cells": [
  {
   "cell_type": "code",
   "execution_count": null,
   "metadata": {},
   "outputs": [],
   "source": [
    "# PQ, 정중앙 대학교\n",
    "\n",
    "import heapq\n",
    "A = [-500] # max heap\n",
    "B = [] # min heap\n",
    "\n",
    "n = int(input())\n",
    "for _ in range(n):\n",
    "    n1, n2 = map(int, input().split())\n",
    "\n",
    "    heapq.heappush(A, -n1)\n",
    "    heapq.heappush(B, n2)\n",
    "\n",
    "    if -A[0] > B[0]:\n",
    "        Go_B = -heapq.heappop(A)\n",
    "        Go_A = heapq.heappop(B)\n",
    "        heapq.heappush(A, -Go_A)\n",
    "        heapq.heappush(B, Go_B)"
   ]
  },
  {
   "cell_type": "code",
   "execution_count": null,
   "metadata": {},
   "outputs": [],
   "source": [
    "# 백준 1665 가운데를 말해요\n",
    "# PQ, median\n",
    "\n",
    "import heapq\n",
    "A = []\n",
    "B = []\n",
    "\n",
    "n = int(input())\n",
    "for _ in range(n):\n",
    "    num = int(input())\n",
    "\n",
    "    if len(A) == len(B):\n",
    "        heapq.heappush(A, -num)\n",
    "\n",
    "    else:\n",
    "        heapq.heappush(B, num)\n",
    "\n",
    "    if A and B:\n",
    "        if -A[0] > B[0]:\n",
    "            Go_B = -heapq.heappop(A)\n",
    "            Go_A = heapq.heappop(B)\n",
    "            heapq.heappush(A, -Go_A)\n",
    "            heapq.heappush(B, Go_B)\n",
    "\n",
    "    print(-A[0])"
   ]
  }
 ],
 "metadata": {
  "language_info": {
   "name": "python"
  },
  "orig_nbformat": 4
 },
 "nbformat": 4,
 "nbformat_minor": 2
}
