{
 "cells": [
  {
   "attachments": {},
   "cell_type": "markdown",
   "metadata": {},
   "source": [
    "# 알고리즘 문제 풀이"
   ]
  },
  {
   "cell_type": "code",
   "execution_count": null,
   "metadata": {},
   "outputs": [],
   "source": [
    "# 2817 부분 수열의 합\n",
    "\n",
    "def dfs(level, S):\n",
    "    global n, k, lst, cnt\n",
    " \n",
    "    if S > k:\n",
    "        return\n",
    " \n",
    "    if level == n:\n",
    "        if S == k:\n",
    "            cnt += 1\n",
    "        return\n",
    " \n",
    "    dfs(level + 1, S)\n",
    "    dfs(level + 1, S + lst[level])\n",
    " \n",
    "T = int(input())\n",
    "for test_case in range(1, T + 1):\n",
    "    n, k = map(int, input().split())\n",
    "    lst = list(map(int, input().split()))\n",
    "    cnt = 0\n",
    " \n",
    "    dfs(0, 0)\n",
    "    print(f\"#{test_case} {cnt}\")"
   ]
  },
  {
   "cell_type": "code",
   "execution_count": null,
   "metadata": {},
   "outputs": [],
   "source": [
    "# 4366 정식이의 은행업무\n",
    "\n",
    "def to_10(st, num):\n",
    "    w = len(st)\n",
    "    ret = 0\n",
    " \n",
    "    for i in range(w):\n",
    "        ret += st[i] * (num ** (w - i - 1))\n",
    " \n",
    "    return ret\n",
    " \n",
    " \n",
    "T = int(input())\n",
    "for test_case in range(1, T + 1):\n",
    "    n2 = list(map(int, input()))\n",
    "    n3 = list(map(int, input()))\n",
    "    w2 = len(n2)\n",
    "    w3 = len(n3)\n",
    "    l2 = []\n",
    "    l3 = []\n",
    " \n",
    "    for i in range(1, w2):\n",
    "        temp = n2[:]\n",
    " \n",
    "        for j in range(2):\n",
    "            temp[i] = j\n",
    "            l2.append(to_10(temp, 2))\n",
    " \n",
    "    for i in range(w3):\n",
    "        temp = n3[:]\n",
    " \n",
    "        if i != 0:\n",
    "            for j in range(3):\n",
    "                temp[i] = j\n",
    "                l3.append(to_10(temp, 3))\n",
    " \n",
    "        else:\n",
    "            for j in range(1, 3):\n",
    "                temp[i] = j\n",
    "                l3.append(to_10(temp, 3))\n",
    " \n",
    "    l2 = set(l2)\n",
    "    l3 = set(l3)\n",
    " \n",
    "    print(f\"#{test_case} {l2.intersection(l3).pop()}\")"
   ]
  }
 ],
 "metadata": {
  "language_info": {
   "name": "python"
  },
  "orig_nbformat": 4
 },
 "nbformat": 4,
 "nbformat_minor": 2
}
