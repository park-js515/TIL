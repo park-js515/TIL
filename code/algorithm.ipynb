{
 "cells": [
  {
   "attachments": {},
   "cell_type": "markdown",
   "metadata": {},
   "source": [
    "# 알고리즘 1일차"
   ]
  },
  {
   "attachments": {},
   "cell_type": "markdown",
   "metadata": {},
   "source": [
    "컴퓨터 분야에서 알고리즘을 표현하는 방법은 크게 두 가지  \n",
    "- 의사코드(슈도코드, Pseudocode)와 순서도  \n",
    "\n",
    "무엇이 좋은 알고리즘인가?  \n",
    "1. 정확성: 얼마나 정확하게 동작하는가\n",
    "2. 작업량: 얼마나 적은 연산으로 원하는 결과를 얻어내는가\n",
    "3. 메모리 사용량: 얼마나 적은 메모리를 사용하는가\n",
    "4. 단순성: 얼마나 단순한가\n",
    "5. 최적성: 더 이상 개선할 여지없이 최적화되었는가  \n",
    "\n"
   ]
  },
  {
   "attachments": {},
   "cell_type": "markdown",
   "metadata": {},
   "source": [
    "주어진 문제를 해결하기 위해 여러 개의 다양한 알고리즘이 가능  \n",
    "\n",
    "알고리즘의 성능 분석 필요\n",
    "- 많은 문제에서 성능 분석의 기준으로 알고리즘의 작업량을 비교한다.  \n",
    "\n",
    "알고리즘의 작업량을 표현할 때 시간복잡도로 표현한다.  \n"
   ]
  },
  {
   "attachments": {},
   "cell_type": "markdown",
   "metadata": {},
   "source": [
    "### 시간복잡도  \n",
    "\n",
    "- 실제 걸리는 시간을 측정\n",
    "- 실행되는 명령문의 개수를 계산"
   ]
  },
  {
   "attachments": {},
   "cell_type": "markdown",
   "metadata": {},
   "source": [
    "빅-오(O) 표기법  \n",
    "- Big-Oh Notation  \n",
    "- 시간 복잡도 함수 중에서 가장 큰 영향력을 주는 n에 대한 항만을 표시  \n",
    "- 계수(Coefficient)는 생략하여 표시  "
   ]
  },
  {
   "attachments": {},
   "cell_type": "markdown",
   "metadata": {},
   "source": [
    "# 배열"
   ]
  },
  {
   "attachments": {},
   "cell_type": "markdown",
   "metadata": {},
   "source": [
    "일정한 자료형의 변수들을 하나의 이름으로 열거하여 사용하는 자료 구조  "
   ]
  },
  {
   "cell_type": "code",
   "execution_count": 19,
   "metadata": {},
   "outputs": [],
   "source": [
    "Num = [0, 1, 2, 3, 4, 5]"
   ]
  },
  {
   "attachments": {},
   "cell_type": "markdown",
   "metadata": {},
   "source": [
    "#### 배열의 필요성\n",
    "\n",
    "- 프로그램 내에서 여러 개의 변수가 필요할 때, 일일이 다른 변수명을 이용하여 자료에 접근하는 것이 매우 비효율적   \n",
    "- 배열을 사용하면 하나의 선언을 통해서 둘 이상의 변수를 선언할 수 있다.  \n",
    "- 단순히 다수의 변수 선언을 의미하는 것이 아니라, 다수의 변수로는 하기 힘든 작업을 배열을 활용해 쉽게 할 수 있다."
   ]
  },
  {
   "attachments": {},
   "cell_type": "markdown",
   "metadata": {},
   "source": [
    "### 정렬\n",
    "\n",
    "- 2개 이상의 자료를 특정 기준에 의해 작은 값부터 큰값(오름차순: ascending), 혹은 그 반대 순서대로(내림차순: desceding) 재배열하는 것"
   ]
  },
  {
   "attachments": {},
   "cell_type": "markdown",
   "metadata": {},
   "source": [
    "#### 버블정렬  \n",
    "- 첫 번째 원소부터 인접한 원소끼리 계속 자리를 교환하면서 맨 만지막자리까지 이동  \n",
    "- 한 단계가 끝나면 가장 큰 원소가 마지막 자리로 정렬(오름차순)\n",
    "- 시간복잡도(O^2)"
   ]
  },
  {
   "cell_type": "code",
   "execution_count": 20,
   "metadata": {},
   "outputs": [
    {
     "data": {
      "text/plain": [
       "[1, 2, 3, 4, 5]"
      ]
     },
     "execution_count": 20,
     "metadata": {},
     "output_type": "execute_result"
    }
   ],
   "source": [
    "lst = [5, 4, 3, 2, 1]\n",
    "\n",
    "def bubble(lst):\n",
    "    n = len(lst)\n",
    "    temp = lst[:]\n",
    "\n",
    "    for i in range(n):\n",
    "        for j in range(n - 1 - i):\n",
    "            if (temp[j] > temp[j + 1]):\n",
    "                temp[j], temp[j + 1] = temp[j + 1], temp[j]\n",
    "    \n",
    "    return temp\n",
    "\n",
    "bubble(lst)"
   ]
  },
  {
   "attachments": {},
   "cell_type": "markdown",
   "metadata": {},
   "source": [
    "# 오프라인 1일차"
   ]
  },
  {
   "cell_type": "code",
   "execution_count": 21,
   "metadata": {},
   "outputs": [],
   "source": [
    "# 시간복잡도\n",
    "# 문제 정확하게 파악\n",
    "# 설계가 안된다.\n",
    "# 1. 관련된 문제를 많이 풀지 않으면 설계가 되지 않는다.\n",
    "# 2. 내가 전혀 배운 적이 없는 문제\n",
    "\n",
    "# 문제를 풀다가 안풀렸을 때\n",
    "# 1. 오랜 시간을 들여서 고민한다.\n",
    "# 2. 다른 사람의 코드를 참고한다. 그러나 로직을 파악해야하는 것이다. 베끼는 것이 아니다.\n",
    "\n",
    "# 시간복잡도\n",
    "# 프로그래머스, 구름ide\n",
    "\n",
    "# 같은 문제라도 DFS, BFS, DP, 다익스트라 등... 여러가지로 풀 수 있다.\n",
    "# 시간복잡도 제공하지 않는다면 다른 사람들이 풀지 않는 것으로 풀면 가산점이 있다.\n",
    "# 그러나 조건을 꼼꼼하게 따져서 문제를 풀 것을 권장한다.(안될 수도 있다.)"
   ]
  },
  {
   "attachments": {},
   "cell_type": "markdown",
   "metadata": {},
   "source": [
    "### 알고리즘 성능평가"
   ]
  },
  {
   "attachments": {},
   "cell_type": "markdown",
   "metadata": {},
   "source": [
    "A와 B 모두 정답이라면 시간복잡도와 공간복잡도를 비교하여 우선순위를 정한다.  \n",
    "\n",
    "시간복잡도 = 기본 연산 수행시간 + 입력되는 데이터를 종합적으로 고려  \n",
    "대략적인 계산"
   ]
  },
  {
   "cell_type": "code",
   "execution_count": 22,
   "metadata": {},
   "outputs": [
    {
     "ename": "ValueError",
     "evalue": "invalid literal for int() with base 10: ''",
     "output_type": "error",
     "traceback": [
      "\u001b[1;31m---------------------------------------------------------------------------\u001b[0m",
      "\u001b[1;31mValueError\u001b[0m                                Traceback (most recent call last)",
      "Cell \u001b[1;32mIn[22], line 1\u001b[0m\n\u001b[1;32m----> 1\u001b[0m n \u001b[39m=\u001b[39m \u001b[39mint\u001b[39;49m(\u001b[39minput\u001b[39;49m())\n\u001b[0;32m      3\u001b[0m \u001b[39mfor\u001b[39;00m i \u001b[39min\u001b[39;00m \u001b[39mrange\u001b[39m(n):\n\u001b[0;32m      4\u001b[0m     \u001b[39mprint\u001b[39m(\u001b[39m\"\u001b[39m\u001b[39m#\u001b[39m\u001b[39m\"\u001b[39m, end \u001b[39m=\u001b[39m \u001b[39m'\u001b[39m\u001b[39m'\u001b[39m)\n",
      "\u001b[1;31mValueError\u001b[0m: invalid literal for int() with base 10: ''"
     ]
    }
   ],
   "source": [
    "n = int(input())\n",
    "\n",
    "for i in range(n):\n",
    "    print(\"#\", end = '')"
   ]
  },
  {
   "attachments": {},
   "cell_type": "markdown",
   "metadata": {},
   "source": [
    "1. 최선 표기법: 최소한으로 수행된다는 가정된다는 가정하에 수행\n",
    "2. 평균 표기법\n",
    "3. 최악 표기법: ps 분야에서 채택"
   ]
  },
  {
   "attachments": {},
   "cell_type": "markdown",
   "metadata": {},
   "source": [
    "O표기법에서 계수를 무시하는 이유: n의 제곱의 힘을 이길 수 없기 때문에 생략해버린다."
   ]
  },
  {
   "attachments": {},
   "cell_type": "markdown",
   "metadata": {},
   "source": [
    "이진트리: logN"
   ]
  },
  {
   "cell_type": "code",
   "execution_count": null,
   "metadata": {},
   "outputs": [
    {
     "name": "stdout",
     "output_type": "stream",
     "text": [
      "22 3\n"
     ]
    }
   ],
   "source": [
    "number = [7, 10, 22, 4 ,3, 17, 22, 6, 4, 22]\n",
    "\n",
    "ma = number[0]\n",
    "for i in number:\n",
    "    if ma < i:\n",
    "        ma = i\n",
    "\n",
    "dict1 = {}\n",
    "\n",
    "for i in number:\n",
    "    try:\n",
    "        dict1[i] += 1\n",
    "    except:\n",
    "        dict1[i] = 1\n",
    "\n",
    "print(ma, dict1[ma])"
   ]
  },
  {
   "attachments": {},
   "cell_type": "markdown",
   "metadata": {},
   "source": [
    "#### 디버깅"
   ]
  },
  {
   "attachments": {},
   "cell_type": "markdown",
   "metadata": {},
   "source": [
    "브레이크 포인까지는 그냥 실행하며, 브레이크 포인트부터는 사용자가 이동할 수 있다."
   ]
  },
  {
   "attachments": {},
   "cell_type": "markdown",
   "metadata": {},
   "source": [
    "#### sort"
   ]
  },
  {
   "attachments": {},
   "cell_type": "markdown",
   "metadata": {},
   "source": [
    "- 선택 selection sort\n",
    "- 삽입 insert sort\n",
    "- 버블 bubble sort\n",
    "- 계수 count sort\n",
    "- 퀵 quick sort\n",
    "- 합병 merge sort\n",
    "- 힙 heap"
   ]
  },
  {
   "cell_type": "code",
   "execution_count": null,
   "metadata": {},
   "outputs": [
    {
     "name": "stdout",
     "output_type": "stream",
     "text": [
      "[1, 2, 3, 4, 5]\n"
     ]
    }
   ],
   "source": [
    "# 선택정렬 selection sort\n",
    "# 응용편?\n",
    "a = [3, 4, 5, 2, 1]\n",
    "lg = len(a)\n",
    "\n",
    "for i in range(lg):\n",
    "    ma = a[i]\n",
    "    idx = i\n",
    "    for j in range(i + 1, lg):\n",
    "        if ma > a[j]:\n",
    "            ma = a[j]\n",
    "            idx = j\n",
    "\n",
    "    a[i], a[idx] = a[idx], a[i]\n",
    "\n",
    "print(a)"
   ]
  },
  {
   "cell_type": "code",
   "execution_count": null,
   "metadata": {},
   "outputs": [
    {
     "name": "stdout",
     "output_type": "stream",
     "text": [
      "[1, 2, 4, 7, 8]\n"
     ]
    }
   ],
   "source": [
    "# 기본적인 선택정렬\n",
    "lst = [4, 7, 1, 8, 2]\n",
    "lg = len(lst)\n",
    "\n",
    "for i in range(lg):\n",
    "    for j in range(i + 1, lg):\n",
    "        if (lst[i] > lst[j]):\n",
    "            lst[i], lst[j] = lst[j], lst[i]\n",
    "\n",
    "print(lst)"
   ]
  },
  {
   "attachments": {},
   "cell_type": "markdown",
   "metadata": {},
   "source": [
    "이미 정렬되어 있는 데이터에 새로운 데이터 하나를 넣고 정렬하면 O(n)에 근사한 속도로 할 수 있다, 그렇지 않다면 O(n^2)가 기본적이다."
   ]
  },
  {
   "cell_type": "code",
   "execution_count": 29,
   "metadata": {},
   "outputs": [
    {
     "name": "stdout",
     "output_type": "stream",
     "text": [
      "[1, 2, 3, 4, 7]\n"
     ]
    }
   ],
   "source": [
    "# 삽입 정렬 insert sort O(n^2)\n",
    "# 숫자를 리스트의 맨뒤에 대입 후 대소 비교를 하면서 자리를 하나씩 옮긴다. 숫자가 들어오고 정렬이 끝나면, 다음 숫자를 집어넣고 반복을 진행한다.\n",
    "arr = [4, 7, 3, 1, 2]\n",
    "lst = []\n",
    "\n",
    "for i in range(len(arr)):\n",
    "    lst.append(arr[i])\n",
    "\n",
    "    for j in range(i, 0, -1):\n",
    "        if lst[j] < lst[j - 1]:\n",
    "            lst[j], lst[j - 1] = lst[j - 1], lst[j]\n",
    "        else:\n",
    "            break\n",
    "\n",
    "\n",
    "print(lst)"
   ]
  },
  {
   "cell_type": "code",
   "execution_count": 32,
   "metadata": {},
   "outputs": [
    {
     "name": "stdout",
     "output_type": "stream",
     "text": [
      "[1, 2, 2, 2, 3, 4, 7]\n"
     ]
    }
   ],
   "source": [
    "# 버블 정렬 bubble sort\n",
    "arr = [4, 7, 3, 1, 2, 2, 2]\n",
    "\n",
    "for i in range(len(arr) - 1):\n",
    "    for j in range(len(arr) - 1 - i):\n",
    "        if arr[j] > arr[j + 1]:\n",
    "            arr[j], arr[j + 1] = arr[j + 1], arr[j]\n",
    "\n",
    "print(arr)"
   ]
  },
  {
   "cell_type": "code",
   "execution_count": 36,
   "metadata": {},
   "outputs": [
    {
     "name": "stdout",
     "output_type": "stream",
     "text": [
      "2: 2개\n",
      "3: 1개\n",
      "4: 1개\n",
      "5: 2개\n",
      "7: 1개\n",
      "8: 1개\n"
     ]
    }
   ],
   "source": [
    "# 정수 n을 입력받고, n개의 정수를 리스트에 입력받은 후 입력받은 정수가 a 배열에 각각 몇 개씩 있는지 출력해주세요.\n",
    "\n",
    "# n = int(input())\n",
    "a = [3, 8, 5, 2, 5, 7, 2, 4]\n",
    "dict1 = {}\n",
    "\n",
    "for i in a:\n",
    "    try:\n",
    "        dict1[i] += 1\n",
    "    except:\n",
    "        dict1[i] = 1\n",
    "\n",
    "dict2 = sorted(dict1.items(), key = lambda x: x[0])\n",
    "\n",
    "for i in dict2:\n",
    "    print(f\"{i[0]}: {i[1]}개\")"
   ]
  },
  {
   "cell_type": "code",
   "execution_count": 40,
   "metadata": {},
   "outputs": [
    {
     "name": "stdout",
     "output_type": "stream",
     "text": [
      "1 : None\n",
      "2 : 2\n",
      "3 : 1\n",
      "4 : 1\n"
     ]
    }
   ],
   "source": [
    "# b 라는 리스트에 숫자 4개를 입력받고, a에 몇 개가 있는지 파악하기\n",
    "a = [3, 8, 5, 2, 5, 7, 2, 4]\n",
    "dict1 = {}\n",
    "\n",
    "for i in a:\n",
    "    try:\n",
    "        dict1[i] += 1\n",
    "    except:\n",
    "        dict1[i] = 1\n",
    "\n",
    "for i in b:\n",
    "    print(i, \":\", dict1.get(i))\n"
   ]
  },
  {
   "cell_type": "code",
   "execution_count": 9,
   "metadata": {},
   "outputs": [
    {
     "name": "stdout",
     "output_type": "stream",
     "text": [
      "1: 0개\n",
      "2: 2개\n",
      "3: 1개\n"
     ]
    }
   ],
   "source": [
    "a = [3, 8, 5, 2, 5, 7, 2, 4]\n",
    "b = list(map(int, input().split()))\n",
    "\n",
    "for i in range(len(b)):\n",
    "    cnt = 0\n",
    "    for j in range(len(a)):\n",
    "        if b[i] == a[j]:\n",
    "            cnt += 1\n",
    "    \n",
    "    print(f\"{b[i]}: {cnt}개\")"
   ]
  },
  {
   "cell_type": "code",
   "execution_count": 10,
   "metadata": {},
   "outputs": [
    {
     "name": "stdout",
     "output_type": "stream",
     "text": [
      "1: 0개\n",
      "2: 2개\n",
      "3: 1개\n"
     ]
    }
   ],
   "source": [
    "# direct address table (DAT)\n",
    "a = [3, 8, 5, 2, 5, 7, 2, 4]\n",
    "lst = [0]*100\n",
    "b = list(map(int, input().split()))\n",
    "\n",
    "for i in a:\n",
    "    lst[i] += 1\n",
    "\n",
    "for i in b:\n",
    "    print(f\"{i}: {lst[i]}개\")"
   ]
  },
  {
   "attachments": {},
   "cell_type": "markdown",
   "metadata": {},
   "source": [
    "DAT는 음수이거나 너무나 큰 자료의 범위에 대해서 대처하지 못하는데 이에 대한 대처로 Hash라는 데이터 구조를 사용한다."
   ]
  },
  {
   "attachments": {},
   "cell_type": "markdown",
   "metadata": {},
   "source": [
    "해시 함수는 모든 자료구조를 O(n)으로 접근할 수 있게 만들어준다."
   ]
  },
  {
   "cell_type": "code",
   "execution_count": 11,
   "metadata": {},
   "outputs": [
    {
     "name": "stdout",
     "output_type": "stream",
     "text": [
      "2의 개수는 2개 입니다.\n",
      "3의 개수는 1개 입니다.\n",
      "4의 개수는 1개 입니다.\n",
      "5의 개수는 2개 입니다.\n",
      "7의 개수는 1개 입니다.\n",
      "8의 개수는 1개 입니다.\n"
     ]
    }
   ],
   "source": [
    "# n개의 정수를 리스트에 입력받은 후 어떤 숫자가 각각 몇 개씩 입력이 되었는지 출력해보세요. DAT\n",
    "a = [3, 8, 5, 2, 5, 7, 2, 4]\n",
    "lst = [0]*100\n",
    "for i in a:\n",
    "    lst[i] += 1\n",
    "\n",
    "for i in range(100):\n",
    "    if(lst[i] > 0):\n",
    "        print(f\"{i}의 개수는 {lst[i]}개 입니다.\")"
   ]
  },
  {
   "attachments": {},
   "cell_type": "markdown",
   "metadata": {},
   "source": [
    "#### 계수 정렬 (O(n))\n",
    "1. DAT등록\n",
    "2. 누적합\n",
    "3. 값넣기"
   ]
  },
  {
   "attachments": {},
   "cell_type": "markdown",
   "metadata": {},
   "source": [
    "누적합에서 lst에 해당하는 원소에 접근 > 그 값에서 1을 빼주고 > 거기에 해당하는 res에 lst값을 넣는다."
   ]
  },
  {
   "cell_type": "code",
   "execution_count": 22,
   "metadata": {},
   "outputs": [
    {
     "name": "stdout",
     "output_type": "stream",
     "text": [
      "[1, 1, 3, 4, 5, 7, 7]\n"
     ]
    }
   ],
   "source": [
    "lst = [4, 7, 1, 3, 7, 5, 1]\n",
    "dat = [0] * 9\n",
    "cumsum = [0] * 9\n",
    "res = [0]*7\n",
    "\n",
    "for i in lst:\n",
    "    dat[i] += 1\n",
    "\n",
    "cumsum[0] = dat[0]\n",
    "for i in range(1, len(dat)):\n",
    "    cumsum[i] = dat[i] + cumsum[i - 1]\n",
    "\n",
    "for i in lst:\n",
    "    cumsum[i] -= 1\n",
    "    res[cumsum[i]] = i\n",
    "\n",
    "print(res)"
   ]
  },
  {
   "attachments": {},
   "cell_type": "markdown",
   "metadata": {},
   "source": [
    "# 알고리즘 2일차"
   ]
  },
  {
   "attachments": {},
   "cell_type": "markdown",
   "metadata": {},
   "source": [
    "### 카운팅 정렬 (Counting Sort)"
   ]
  },
  {
   "attachments": {},
   "cell_type": "markdown",
   "metadata": {},
   "source": [
    "- 항목들의 순서를 결정하기 위해 집합에 각 항목이 몇 개씩 있는지 세는 작업을 하여, 선형 시간에 정렬하는 효율적인 알고리즘  \n",
    "- DAT(direct address table) 알고리즘을 사용한다.  \n",
    "\n",
    "> 제한 사항  \n",
    "> 1. 정수나 정수로 표현할 수 있는 자료에 대해서만 적용가능: 각 항목의 발생 회수를 기록하기 위해, 정수 항목으로 인덱스 되는 카운트들의 배열을 사용하기 때문\n",
    "> 2. 카운트들을 위한 충분한 공간을 할당하려면 집합 내 가장 큰 정수를 알아야 한다.  \n",
    "\n",
    "- 시간 복잡도\n",
    "    - O(n + k): n은 리스트의 길이, k는 정수의 최대값"
   ]
  },
  {
   "attachments": {},
   "cell_type": "markdown",
   "metadata": {},
   "source": [
    "왜 누적합을 사용할까?: 현재 내 위치 아래에 몇 개가 있는지 파악하기 위해서"
   ]
  },
  {
   "attachments": {},
   "cell_type": "markdown",
   "metadata": {},
   "source": [
    "#### baby-gin Game  (이것을 해결하기 위한 방법을 배우자)\n",
    "\n",
    "- 0~9 사이의 숫자카드에서 임의의 카드 6장을 뽑았을 때, 카드가 연속적인 번호를 갖는 경우를 run이라고 하고, 3장의 카드가 동일한 번호를 갖는 경우를 triplet이라고 한다.  \n",
    "- 그리고, 6장의 카드가 run과 triplet로만 구성된 경우 baby-gin으로 부른다.  \n",
    "- 6자리의 숫자를 입력 받아 baby-gin 여부를 판단하는 프로그램을 작성하라.  \n",
    "\n",
    "&nbsp;\n",
    "\n",
    "<font color = \"red\"> 무엇을 먼저하느냐에 따라서 결과가 달라질 수 있다. run이냐 triplet이냐 <font>"
   ]
  },
  {
   "attachments": {},
   "cell_type": "markdown",
   "metadata": {},
   "source": [
    "### 완전 검색 (Exhaustive Search)\n",
    "\n",
    "- 완전 검색 방법은 문제의 해법으로 생각할 수 있는 모든 경우의 수를 나열해보고 확인하는 기법\n",
    "- Brute-Force 혹은 generate-and-test 기법으로 불린다.\n",
    "- 모든 경우의 수를 테스트한 후, 최종 해법을 도출한다.\n",
    "- 일반적으로 경우의 수가 상대적으로 작을 때 유용하다.  \n",
    "- 모든 경우의 수를 생성하고 테스트하기 때문에 수행 속도는 느리지만, 해답을 찾아내지 못할 확률이 적다. \n",
    "- 자격 검정평가 등에서 주어진 문제를 풀 때, 우선 완전 검색으로 접그낳여 해답을 도출한 후, 성능 개선을 위해 다른 알고리즘을 사용하고 해답을 확인하는 것이 바람직하다."
   ]
  },
  {
   "attachments": {},
   "cell_type": "markdown",
   "metadata": {},
   "source": [
    "### 순열(Pernutation)\n",
    "- 서로 다른 것들 중 몇 개를 뽑아서 한 줄로 나열하는 것\n",
    "- 서로 다른 n개 중 r개를 택하는 순열은 nPr로 표현한다.  \n",
    "$$nPr = \\frac {n!}{(n - r)!}$$"
   ]
  },
  {
   "attachments": {},
   "cell_type": "markdown",
   "metadata": {},
   "source": [
    "### 탐욕(Greedy) 알고리즘\n",
    "\n",
    "- 탐욕 알고리즘은 최적해를 구하는 데 사용되는 근시안적인 방법\n",
    "- 여러 경우 중 하나를 결정해야 할 때마다 그 순간에 최적이라고 생각되는 것을 선택해 나가는 방식으로 진행하여 최종적인 해답에 도달한다.\n",
    "- 각 선택의 시점에서 이루어지는 결정 지역적으로는 최적이지만, 그 선택들을 계속 수집하여 최종적인 해답을 만들었다고 하여, 그것이 최적이라는 보장은 없다.\n",
    "- 일반적으로는, 머릿속에서 떠오는 생각을 검증 없이 바로 구현하면 Greedy 접근이 된다.\n",
    "\n",
    "&nbsp;\n",
    "\n",
    "1. 해 선택: 현재 상태에서 부분 문제의 최적 해를 구한 뒤, 이를 부분해 집합(Solution Set)에 추가한다.\n",
    "2. 실행 가능성 검사: 새로운 부분해 집합이 실행 가능한지 확인한다. 곧, 문제의 제약 조건을 위반하지 않는지를 검사한다.\n",
    "3. 해 검사: 새로운 부분해 집합이 문제의 해가 되는지를 확인한다. \n",
    "    - 아직 전체 문제의 해가 완성되지 않았다면 1.의 해 선택부터 다시 시작한다."
   ]
  },
  {
   "attachments": {},
   "cell_type": "markdown",
   "metadata": {},
   "source": [
    "#### 거스름돈 줄이기  \n",
    "- 어떻게 하면 손님에게 거스름돈을 주는 지폐와 동전의 수를 최소화할까"
   ]
  },
  {
   "cell_type": "markdown",
   "metadata": {},
   "source": []
  },
  {
   "cell_type": "code",
   "execution_count": 7,
   "metadata": {},
   "outputs": [
    {
     "name": "stdout",
     "output_type": "stream",
     "text": [
      "[0, 1, 2, 3, 4, 5, 6, 7, 8, 9, 10, 11]\n",
      "[0, 0, 0, 0, 1, 1, 1, 1, 1, 1, 0, 0]\n"
     ]
    }
   ],
   "source": [
    "# baby-Gin 생각해보기\n",
    "num = 456789\n",
    "c = [0]*12\n",
    "\n",
    "for i in range(6):\n",
    "    c[num % 10] += 1\n",
    "    num //= 10\n",
    "\n",
    "print(list(range(12)))\n",
    "print(c)"
   ]
  },
  {
   "cell_type": "code",
   "execution_count": 6,
   "metadata": {},
   "outputs": [
    {
     "name": "stdout",
     "output_type": "stream",
     "text": [
      "Baby Gin\n"
     ]
    }
   ],
   "source": [
    "# baby-Gin game 구현 예 (그리디 형태로 순서를 생각하지 않았다.)\n",
    "i = 0\n",
    "tri = run = 0\n",
    "\n",
    "while i < 10:\n",
    "    if c[i] >= 3: # triplet 조사 후 데이터 삭제\n",
    "        c[i] -= 3\n",
    "        tri += 1\n",
    "        continue;\n",
    "    if c[i] >= 1 and c[i + 1] >= 1 and c[i + 2] >= 1:\n",
    "        c[i] -= 1\n",
    "        c[i + 1] -= 1\n",
    "        c[i + 2] -= 1\n",
    "        run += 1\n",
    "        continue;\n",
    "    i += 1\n",
    "\n",
    "if run + tri == 2: \n",
    "    print(\"Baby Gin\")\n",
    "\n",
    "else:\n",
    "    print(\"Lose\")"
   ]
  },
  {
   "attachments": {},
   "cell_type": "markdown",
   "metadata": {},
   "source": [
    "# 오프라인 2일차"
   ]
  },
  {
   "attachments": {},
   "cell_type": "markdown",
   "metadata": {},
   "source": [
    "그리디 알고리즘"
   ]
  },
  {
   "cell_type": "code",
   "execution_count": 4,
   "metadata": {},
   "outputs": [
    {
     "name": "stdout",
     "output_type": "stream",
     "text": [
      "사용된 동전의 개수: 15\n",
      "잔액: 0\n"
     ]
    }
   ],
   "source": [
    "changes = int(input())\n",
    "coins = [500, 100, 50, 10]\n",
    "cnt = 0\n",
    "\n",
    "for i in coins:\n",
    "    temp = changes // i\n",
    "    cnt += temp\n",
    "    changes = changes - i * temp\n",
    "\n",
    "print(f\"사용된 동전의 개수: {cnt}\")\n",
    "print(f\"잔액: {changes}\")"
   ]
  },
  {
   "cell_type": "code",
   "execution_count": 8,
   "metadata": {},
   "outputs": [
    {
     "name": "stdout",
     "output_type": "stream",
     "text": [
      "24\n"
     ]
    }
   ],
   "source": [
    "# 연속되는 숫자 3개의 합이 가장 클 때를 출력\n",
    "def summ(lst):\n",
    "    s = 0\n",
    "\n",
    "    for i in lst:\n",
    "        s += i\n",
    "    \n",
    "    return s\n",
    "\n",
    "lst = [\n",
    "    [4, 5, 2, 6, 7, 3, 1],\n",
    "    [2, 9, 9, 6, 1, 6, 7]\n",
    "]\n",
    "\n",
    "n = int(input())\n",
    "ma = summ(lst[0][0:3])\n",
    "\n",
    "for i in range(2):\n",
    "    for j in range(len(lst[0]) + 1 - n):\n",
    "        temp = summ(lst[i][j:j + n])\n",
    "        if temp > ma:\n",
    "            ma = temp\n",
    "\n",
    "print(ma)"
   ]
  },
  {
   "cell_type": "code",
   "execution_count": 12,
   "metadata": {},
   "outputs": [
    {
     "name": "stdout",
     "output_type": "stream",
     "text": [
      "Y Y\n",
      "N Y\n"
     ]
    }
   ],
   "source": [
    "# 리스트에 4개의 숫자를 입력받은 후 입력 받은 숫자가 lst안에 존재하면 Y\n",
    "# lst안에 없다면 N을 출력해 주세요.\n",
    "\n",
    "lst= [[4, 5, 2, 6, 7],\n",
    "      [2, 9, 9, 6, 1],\n",
    "      [2, 9, 9, 6, 1]]\n",
    "\n",
    "val = [list(map(int, input().split())) for i in range(2)]\n",
    "val2 = [['N']* 2 for i in range(2)]\n",
    "\n",
    "for k in range(2):\n",
    "    for l in range(2):\n",
    "        for i in lst:\n",
    "            for j in i:\n",
    "                if j == val[k][l]:\n",
    "                    val2[k][l] = 'Y'\n",
    "\n",
    "for i in val2:\n",
    "    print(*i)"
   ]
  },
  {
   "cell_type": "code",
   "execution_count": 14,
   "metadata": {},
   "outputs": [
    {
     "name": "stdout",
     "output_type": "stream",
     "text": [
      "있음\n"
     ]
    }
   ],
   "source": [
    "# 정수 4개 입력받고\n",
    "# 패턴 존재 여부 출력하기\n",
    "\n",
    "arr = [3, 6, 5, 8, 5, 3, 5, 8, 5, 3, 3, 1, 1, 3]\n",
    "r = list(map(int, input().split()))\n",
    "res = \"없음\"\n",
    "\n",
    "for i in range(len(arr) + 1 - len(r)):\n",
    "    if arr[i:i + len(r)] == r:\n",
    "        res = \"있음\"\n",
    "        break\n",
    "\n",
    "print(res)"
   ]
  },
  {
   "cell_type": "code",
   "execution_count": 22,
   "metadata": {},
   "outputs": [
    {
     "name": "stdout",
     "output_type": "stream",
     "text": [
      "발견2개\n"
     ]
    }
   ],
   "source": [
    "board = [\n",
    "    ['A','B','G','K'],\n",
    "    ['T','T','A','B'],\n",
    "    ['A','C','T','T']]\n",
    "\n",
    "lst = [list(input()) for i in range(2)]\n",
    "cnt = 0\n",
    "\n",
    "\n",
    "# res = 미발견\n",
    "for i in range(2):\n",
    "    k = 0\n",
    "    for j in range(3):\n",
    "        for k in range(4 + 1 - 2):\n",
    "            if lst[i] == board[j][k: k + 2]:\n",
    "                k += 1\n",
    "    if k > 0:\n",
    "        cnt += 1\n",
    "\n",
    "if (cnt > 0):\n",
    "    print(f\"발견{cnt}개\")\n",
    "else:\n",
    "    print(\"미발견\")"
   ]
  },
  {
   "cell_type": "code",
   "execution_count": 27,
   "metadata": {},
   "outputs": [
    {
     "name": "stdout",
     "output_type": "stream",
     "text": [
      "발견1개\n"
     ]
    }
   ],
   "source": [
    "def ftn(lst):\n",
    "    cnt = 0\n",
    "\n",
    "    for i in range(2):\n",
    "        a = list(input())\n",
    "        key = 0\n",
    "        for j in range(3):\n",
    "            for k in range(4 + 1 - 2):\n",
    "                if a == board[j][k: k + 2]:\n",
    "                    key += 1\n",
    "        if key > 0:\n",
    "            cnt += 1\n",
    "\n",
    "    return cnt\n",
    "    \n",
    "board = [\n",
    "    ['A','B','G','K'],\n",
    "    ['T','T','A','B'],\n",
    "    ['A','C','T','T']]\n",
    "\n",
    "res = ftn(board)\n",
    "\n",
    "if (res > 0):\n",
    "    print(f\"발견{res}개\")\n",
    "else:\n",
    "    print(\"미발견\")\n"
   ]
  }
 ],
 "metadata": {
  "kernelspec": {
   "display_name": "Python 3",
   "language": "python",
   "name": "python3"
  },
  "language_info": {
   "codemirror_mode": {
    "name": "ipython",
    "version": 3
   },
   "file_extension": ".py",
   "mimetype": "text/x-python",
   "name": "python",
   "nbconvert_exporter": "python",
   "pygments_lexer": "ipython3",
   "version": "3.9.13"
  },
  "orig_nbformat": 4,
  "vscode": {
   "interpreter": {
    "hash": "c4b9ebf4ca459396e2ad1150752490c26670c1a037c08cad955a4425787bec2e"
   }
  }
 },
 "nbformat": 4,
 "nbformat_minor": 2
}
