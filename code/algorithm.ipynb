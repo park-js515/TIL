{
 "cells": [
  {
   "attachments": {},
   "cell_type": "markdown",
   "metadata": {},
   "source": [
    "# 알고리즘 1일차"
   ]
  },
  {
   "attachments": {},
   "cell_type": "markdown",
   "metadata": {},
   "source": [
    "컴퓨터 분야에서 알고리즘을 표현하는 방법은 크게 두 가지  \n",
    "- 의사코드(슈도코드, Pseudocode)와 순서도  \n",
    "\n",
    "무엇이 좋은 알고리즘인가?  \n",
    "1. 정확성: 얼마나 정확하게 동작하는가\n",
    "2. 작업량: 얼마나 적은 연산으로 원하는 결과를 얻어내는가\n",
    "3. 메모리 사용량: 얼마나 적은 메모리를 사용하는가\n",
    "4. 단순성: 얼마나 단순한가\n",
    "5. 최적성: 더 이상 개선할 여지없이 최적화되었는가  \n",
    "\n"
   ]
  },
  {
   "attachments": {},
   "cell_type": "markdown",
   "metadata": {},
   "source": [
    "주어진 문제를 해결하기 위해 여러 개의 다양한 알고리즘이 가능  \n",
    "\n",
    "알고리즘의 성능 분석 필요\n",
    "- 많은 문제에서 성능 분석의 기준으로 알고리즘의 작업량을 비교한다.  \n",
    "\n",
    "알고리즘의 작업량을 표현할 때 시간복잡도로 표현한다.  \n"
   ]
  },
  {
   "attachments": {},
   "cell_type": "markdown",
   "metadata": {},
   "source": [
    "### 시간복잡도  \n",
    "\n",
    "- 실제 걸리는 시간을 측정\n",
    "- 실행되는 명령문의 개수를 계산"
   ]
  },
  {
   "attachments": {},
   "cell_type": "markdown",
   "metadata": {},
   "source": [
    "빅-오(O) 표기법  \n",
    "- Big-Oh Notation  \n",
    "- 시간 복잡도 함수 중에서 가장 큰 영향력을 주는 n에 대한 항만을 표시  \n",
    "- 계수(Coefficient)는 생략하여 표시  "
   ]
  },
  {
   "attachments": {},
   "cell_type": "markdown",
   "metadata": {},
   "source": [
    "# 배열"
   ]
  },
  {
   "attachments": {},
   "cell_type": "markdown",
   "metadata": {},
   "source": [
    "일정한 자료형의 변수들을 하나의 이름으로 열거하여 사용하는 자료 구조  "
   ]
  },
  {
   "cell_type": "code",
   "execution_count": 13,
   "metadata": {},
   "outputs": [],
   "source": [
    "Num = [0, 1, 2, 3, 4, 5]\n"
   ]
  },
  {
   "attachments": {},
   "cell_type": "markdown",
   "metadata": {},
   "source": [
    "#### 배열의 필요성\n",
    "\n",
    "- 프로그램 내에서 여러 개의 변수가 필요할 때, 일일이 다른 변수명을 이용하여 자료에 접근하는 것이 매우 비효율적   \n",
    "- 배열을 사용하면 하나의 선언을 통해서 둘 이상의 변수를 선언할 수 있다.  \n",
    "- 단순히 다수의 변수 선언을 의미하는 것이 아니라, 다수의 변수로는 하기 힘든 작업을 배열을 활용해 쉽게 할 수 있다."
   ]
  },
  {
   "attachments": {},
   "cell_type": "markdown",
   "metadata": {},
   "source": [
    "### 정렬\n",
    "\n",
    "- 2개 이상의 자료를 특정 기준에 의해 작은 값부터 큰값(오름차순: ascending), 혹은 그 반대 순서대로(내림차순: desceding) 재배열하는 것"
   ]
  },
  {
   "attachments": {},
   "cell_type": "markdown",
   "metadata": {},
   "source": [
    "#### 버블정렬  \n",
    "- 첫 번째 원소부터 인접한 원소끼리 계속 자리를 교환하면서 맨 만지막자리까지 이동  \n",
    "- 한 단계가 끝나면 가장 큰 원소가 마지막 자리로 정렬(오름차순)\n",
    "- 시간복잡도(O^2)"
   ]
  },
  {
   "cell_type": "code",
   "execution_count": 14,
   "metadata": {},
   "outputs": [
    {
     "data": {
      "text/plain": [
       "[1, 2, 3, 4, 5]"
      ]
     },
     "execution_count": 14,
     "metadata": {},
     "output_type": "execute_result"
    }
   ],
   "source": [
    "lst = [5, 4, 3, 2, 1]\n",
    "\n",
    "\n",
    "def bubble(lst):\n",
    "    n = len(lst)\n",
    "    temp = lst[:]\n",
    "\n",
    "    for i in range(n - 1):\n",
    "        for j in range(n - 1 - i):\n",
    "            if (temp[j] > temp[j + 1]):\n",
    "                temp[j], temp[j + 1] = temp[j + 1], temp[j]\n",
    "\n",
    "    return temp\n",
    "\n",
    "\n",
    "bubble(lst)\n"
   ]
  },
  {
   "attachments": {},
   "cell_type": "markdown",
   "metadata": {},
   "source": [
    "# 오프라인 1일차"
   ]
  },
  {
   "cell_type": "code",
   "execution_count": 15,
   "metadata": {},
   "outputs": [],
   "source": [
    "# 시간복잡도\n",
    "# 문제 정확하게 파악\n",
    "# 설계가 안된다.\n",
    "# 1. 관련된 문제를 많이 풀지 않으면 설계가 되지 않는다.\n",
    "# 2. 내가 전혀 배운 적이 없는 문제\n",
    "\n",
    "# 문제를 풀다가 안풀렸을 때\n",
    "# 1. 오랜 시간을 들여서 고민한다.\n",
    "# 2. 다른 사람의 코드를 참고한다. 그러나 로직을 파악해야하는 것이다. 베끼는 것이 아니다.\n",
    "\n",
    "# 시간복잡도\n",
    "# 프로그래머스, 구름ide\n",
    "\n",
    "# 같은 문제라도 DFS, BFS, DP, 다익스트라 등... 여러가지로 풀 수 있다.\n",
    "# 시간복잡도 제공하지 않는다면 다른 사람들이 풀지 않는 것으로 풀면 가산점이 있다.\n",
    "# 그러나 조건을 꼼꼼하게 따져서 문제를 풀 것을 권장한다.(안될 수도 있다.)\n"
   ]
  },
  {
   "attachments": {},
   "cell_type": "markdown",
   "metadata": {},
   "source": [
    "### 알고리즘 성능평가"
   ]
  },
  {
   "attachments": {},
   "cell_type": "markdown",
   "metadata": {},
   "source": [
    "A와 B 모두 정답이라면 시간복잡도와 공간복잡도를 비교하여 우선순위를 정한다.  \n",
    "\n",
    "시간복잡도 = 기본 연산 수행시간 + 입력되는 데이터를 종합적으로 고려  \n",
    "대략적인 계산"
   ]
  },
  {
   "cell_type": "code",
   "execution_count": 16,
   "metadata": {},
   "outputs": [
    {
     "name": "stdout",
     "output_type": "stream",
     "text": [
      "#"
     ]
    }
   ],
   "source": [
    "n = int(input())\n",
    "\n",
    "for i in range(n):\n",
    "    print(\"#\", end='')\n"
   ]
  },
  {
   "attachments": {},
   "cell_type": "markdown",
   "metadata": {},
   "source": [
    "1. 최선 표기법: 최소한으로 수행된다는 가정된다는 가정하에 수행\n",
    "2. 평균 표기법\n",
    "3. 최악 표기법: ps 분야에서 채택"
   ]
  },
  {
   "attachments": {},
   "cell_type": "markdown",
   "metadata": {},
   "source": [
    "O표기법에서 계수를 무시하는 이유: n의 제곱의 힘을 이길 수 없기 때문에 생략해버린다."
   ]
  },
  {
   "attachments": {},
   "cell_type": "markdown",
   "metadata": {},
   "source": [
    "이진트리: logN"
   ]
  },
  {
   "cell_type": "code",
   "execution_count": 17,
   "metadata": {},
   "outputs": [
    {
     "name": "stdout",
     "output_type": "stream",
     "text": [
      "22 3\n"
     ]
    }
   ],
   "source": [
    "number = [7, 10, 22, 4, 3, 17, 22, 6, 4, 22]\n",
    "\n",
    "ma = number[0]\n",
    "for i in number:\n",
    "    if ma < i:\n",
    "        ma = i\n",
    "\n",
    "dict1 = {}\n",
    "\n",
    "for i in number:\n",
    "    try:\n",
    "        dict1[i] += 1\n",
    "    except:\n",
    "        dict1[i] = 1\n",
    "\n",
    "print(ma, dict1[ma])\n"
   ]
  },
  {
   "attachments": {},
   "cell_type": "markdown",
   "metadata": {},
   "source": [
    "#### 디버깅"
   ]
  },
  {
   "attachments": {},
   "cell_type": "markdown",
   "metadata": {},
   "source": [
    "브레이크 포인까지는 그냥 실행하며, 브레이크 포인트부터는 사용자가 이동할 수 있다."
   ]
  },
  {
   "attachments": {},
   "cell_type": "markdown",
   "metadata": {},
   "source": [
    "#### sort"
   ]
  },
  {
   "attachments": {},
   "cell_type": "markdown",
   "metadata": {},
   "source": [
    "- 선택 selection sort\n",
    "- 삽입 insert sort\n",
    "- 버블 bubble sort\n",
    "- 계수 count sort\n",
    "- 퀵 quick sort\n",
    "- 합병 merge sort\n",
    "- 힙 heap"
   ]
  },
  {
   "cell_type": "code",
   "execution_count": 18,
   "metadata": {},
   "outputs": [
    {
     "name": "stdout",
     "output_type": "stream",
     "text": [
      "[1, 2, 3, 4, 5]\n"
     ]
    }
   ],
   "source": [
    "# 선택정렬 selection sort\n",
    "# 응용편?\n",
    "a = [3, 4, 5, 2, 1]\n",
    "lg = len(a)\n",
    "\n",
    "for i in range(lg):\n",
    "    ma = a[i]\n",
    "    idx = i\n",
    "    for j in range(i + 1, lg):\n",
    "        if ma > a[j]:\n",
    "            ma = a[j]\n",
    "            idx = j\n",
    "\n",
    "    a[i], a[idx] = a[idx], a[i]\n",
    "\n",
    "print(a)\n"
   ]
  },
  {
   "cell_type": "code",
   "execution_count": 19,
   "metadata": {},
   "outputs": [
    {
     "name": "stdout",
     "output_type": "stream",
     "text": [
      "[1, 2, 4, 7, 8]\n"
     ]
    }
   ],
   "source": [
    "# 기본적인 선택정렬\n",
    "lst = [4, 7, 1, 8, 2]\n",
    "lg = len(lst)\n",
    "\n",
    "for i in range(lg):\n",
    "    for j in range(i + 1, lg):\n",
    "        if (lst[i] > lst[j]):\n",
    "            lst[i], lst[j] = lst[j], lst[i]\n",
    "\n",
    "print(lst)\n"
   ]
  },
  {
   "attachments": {},
   "cell_type": "markdown",
   "metadata": {},
   "source": [
    "이미 정렬되어 있는 데이터에 새로운 데이터 하나를 넣고 정렬하면 O(n)에 근사한 속도로 할 수 있다, 그렇지 않다면 O(n^2)가 기본적이다."
   ]
  },
  {
   "cell_type": "code",
   "execution_count": 20,
   "metadata": {},
   "outputs": [
    {
     "name": "stdout",
     "output_type": "stream",
     "text": [
      "[1, 2, 3, 4, 7]\n"
     ]
    }
   ],
   "source": [
    "# 삽입 정렬 insert sort O(n^2)\n",
    "# 숫자를 리스트의 맨뒤에 대입 후 대소 비교를 하면서 자리를 하나씩 옮긴다. 숫자가 들어오고 정렬이 끝나면, 다음 숫자를 집어넣고 반복을 진행한다.\n",
    "arr = [4, 7, 3, 1, 2]\n",
    "lst = []\n",
    "\n",
    "for i in range(len(arr)):\n",
    "    lst.append(arr[i])\n",
    "\n",
    "    for j in range(i, 0, -1):\n",
    "        if lst[j] < lst[j - 1]:\n",
    "            lst[j], lst[j - 1] = lst[j - 1], lst[j]\n",
    "        else:\n",
    "            break\n",
    "\n",
    "\n",
    "print(lst)\n"
   ]
  },
  {
   "cell_type": "code",
   "execution_count": 21,
   "metadata": {},
   "outputs": [
    {
     "name": "stdout",
     "output_type": "stream",
     "text": [
      "[1, 2, 2, 2, 3, 4, 7]\n"
     ]
    }
   ],
   "source": [
    "# 버블 정렬 bubble sort\n",
    "arr = [4, 7, 3, 1, 2, 2, 2]\n",
    "\n",
    "for i in range(len(arr) - 1):\n",
    "    for j in range(len(arr) - 1 - i):\n",
    "        if arr[j] > arr[j + 1]:\n",
    "            arr[j], arr[j + 1] = arr[j + 1], arr[j]\n",
    "\n",
    "print(arr)\n"
   ]
  },
  {
   "cell_type": "code",
   "execution_count": 22,
   "metadata": {},
   "outputs": [
    {
     "name": "stdout",
     "output_type": "stream",
     "text": [
      "2: 2개\n",
      "3: 1개\n",
      "4: 1개\n",
      "5: 2개\n",
      "7: 1개\n",
      "8: 1개\n"
     ]
    }
   ],
   "source": [
    "# 정수 n을 입력받고, n개의 정수를 리스트에 입력받은 후 입력받은 정수가 a 배열에 각각 몇 개씩 있는지 출력해주세요.\n",
    "\n",
    "# n = int(input())\n",
    "a = [3, 8, 5, 2, 5, 7, 2, 4]\n",
    "dict1 = {}\n",
    "\n",
    "for i in a:\n",
    "    try:\n",
    "        dict1[i] += 1\n",
    "    except:\n",
    "        dict1[i] = 1\n",
    "\n",
    "dict2 = sorted(dict1.items(), key=lambda x: x[0])\n",
    "\n",
    "for i in dict2:\n",
    "    print(f\"{i[0]}: {i[1]}개\")\n"
   ]
  },
  {
   "cell_type": "code",
   "execution_count": 23,
   "metadata": {},
   "outputs": [
    {
     "ename": "NameError",
     "evalue": "name 'b' is not defined",
     "output_type": "error",
     "traceback": [
      "\u001b[1;31m---------------------------------------------------------------------------\u001b[0m",
      "\u001b[1;31mNameError\u001b[0m                                 Traceback (most recent call last)",
      "Cell \u001b[1;32mIn[23], line 11\u001b[0m\n\u001b[0;32m      8\u001b[0m     \u001b[39mexcept\u001b[39;00m:\n\u001b[0;32m      9\u001b[0m         dict1[i] \u001b[39m=\u001b[39m \u001b[39m1\u001b[39m\n\u001b[1;32m---> 11\u001b[0m \u001b[39mfor\u001b[39;00m i \u001b[39min\u001b[39;00m b:\n\u001b[0;32m     12\u001b[0m     \u001b[39mprint\u001b[39m(i, \u001b[39m\"\u001b[39m\u001b[39m:\u001b[39m\u001b[39m\"\u001b[39m, dict1\u001b[39m.\u001b[39mget(i))\n",
      "\u001b[1;31mNameError\u001b[0m: name 'b' is not defined"
     ]
    }
   ],
   "source": [
    "# b 라는 리스트에 숫자 4개를 입력받고, a에 몇 개가 있는지 파악하기\n",
    "a = [3, 8, 5, 2, 5, 7, 2, 4]\n",
    "dict1 = {}\n",
    "\n",
    "for i in a:\n",
    "    try:\n",
    "        dict1[i] += 1\n",
    "    except:\n",
    "        dict1[i] = 1\n",
    "\n",
    "for i in b:\n",
    "    print(i, \":\", dict1.get(i))\n"
   ]
  },
  {
   "cell_type": "code",
   "execution_count": null,
   "metadata": {},
   "outputs": [
    {
     "name": "stdout",
     "output_type": "stream",
     "text": [
      "1: 0개\n",
      "2: 2개\n",
      "3: 1개\n"
     ]
    }
   ],
   "source": [
    "a = [3, 8, 5, 2, 5, 7, 2, 4]\n",
    "b = list(map(int, input().split()))\n",
    "\n",
    "for i in range(len(b)):\n",
    "    cnt = 0\n",
    "    for j in range(len(a)):\n",
    "        if b[i] == a[j]:\n",
    "            cnt += 1\n",
    "\n",
    "    print(f\"{b[i]}: {cnt}개\")\n"
   ]
  },
  {
   "cell_type": "code",
   "execution_count": null,
   "metadata": {},
   "outputs": [
    {
     "name": "stdout",
     "output_type": "stream",
     "text": [
      "1: 0개\n",
      "2: 2개\n",
      "3: 1개\n"
     ]
    }
   ],
   "source": [
    "# direct address table (DAT)\n",
    "a = [3, 8, 5, 2, 5, 7, 2, 4]\n",
    "lst = [0]*100\n",
    "b = list(map(int, input().split()))\n",
    "\n",
    "for i in a:\n",
    "    lst[i] += 1\n",
    "\n",
    "for i in b:\n",
    "    print(f\"{i}: {lst[i]}개\")\n"
   ]
  },
  {
   "attachments": {},
   "cell_type": "markdown",
   "metadata": {},
   "source": [
    "DAT는 음수이거나 너무나 큰 자료의 범위에 대해서 대처하지 못하는데 이에 대한 대처로 Hash라는 데이터 구조를 사용한다."
   ]
  },
  {
   "attachments": {},
   "cell_type": "markdown",
   "metadata": {},
   "source": [
    "해시 함수는 모든 자료구조를 O(n)으로 접근할 수 있게 만들어준다."
   ]
  },
  {
   "cell_type": "code",
   "execution_count": null,
   "metadata": {},
   "outputs": [
    {
     "name": "stdout",
     "output_type": "stream",
     "text": [
      "2의 개수는 2개 입니다.\n",
      "3의 개수는 1개 입니다.\n",
      "4의 개수는 1개 입니다.\n",
      "5의 개수는 2개 입니다.\n",
      "7의 개수는 1개 입니다.\n",
      "8의 개수는 1개 입니다.\n"
     ]
    }
   ],
   "source": [
    "# n개의 정수를 리스트에 입력받은 후 어떤 숫자가 각각 몇 개씩 입력이 되었는지 출력해보세요. DAT\n",
    "a = [3, 8, 5, 2, 5, 7, 2, 4]\n",
    "lst = [0]*100\n",
    "for i in a:\n",
    "    lst[i] += 1\n",
    "\n",
    "for i in range(100):\n",
    "    if (lst[i] > 0):\n",
    "        print(f\"{i}의 개수는 {lst[i]}개 입니다.\")\n"
   ]
  },
  {
   "attachments": {},
   "cell_type": "markdown",
   "metadata": {},
   "source": [
    "#### 계수 정렬 (O(n))\n",
    "1. DAT등록\n",
    "2. 누적합\n",
    "3. 값넣기"
   ]
  },
  {
   "attachments": {},
   "cell_type": "markdown",
   "metadata": {},
   "source": [
    "누적합에서 lst에 해당하는 원소에 접근 > 그 값에서 1을 빼주고 > 거기에 해당하는 res에 lst값을 넣는다."
   ]
  },
  {
   "cell_type": "code",
   "execution_count": null,
   "metadata": {},
   "outputs": [
    {
     "name": "stdout",
     "output_type": "stream",
     "text": [
      "[1, 1, 3, 4, 5, 7, 7]\n"
     ]
    }
   ],
   "source": [
    "lst = [4, 7, 1, 3, 7, 5, 1]\n",
    "dat = [0] * 9\n",
    "cumsum = [0] * 9\n",
    "res = [0]*7\n",
    "\n",
    "for i in lst:\n",
    "    dat[i] += 1\n",
    "\n",
    "cumsum[0] = dat[0]\n",
    "for i in range(1, len(dat)):\n",
    "    cumsum[i] = dat[i] + cumsum[i - 1]\n",
    "\n",
    "for i in lst:\n",
    "    cumsum[i] -= 1\n",
    "    res[cumsum[i]] = i\n",
    "\n",
    "print(res)\n"
   ]
  },
  {
   "attachments": {},
   "cell_type": "markdown",
   "metadata": {},
   "source": [
    "# 알고리즘 2일차"
   ]
  },
  {
   "attachments": {},
   "cell_type": "markdown",
   "metadata": {},
   "source": [
    "### 카운팅 정렬 (Counting Sort)"
   ]
  },
  {
   "attachments": {},
   "cell_type": "markdown",
   "metadata": {},
   "source": [
    "- 항목들의 순서를 결정하기 위해 집합에 각 항목이 몇 개씩 있는지 세는 작업을 하여, 선형 시간에 정렬하는 효율적인 알고리즘  \n",
    "- DAT(direct address table) 알고리즘을 사용한다.  \n",
    "\n",
    "> 제한 사항  \n",
    "> 1. 정수나 정수로 표현할 수 있는 자료에 대해서만 적용가능: 각 항목의 발생 회수를 기록하기 위해, 정수 항목으로 인덱스 되는 카운트들의 배열을 사용하기 때문\n",
    "> 2. 카운트들을 위한 충분한 공간을 할당하려면 집합 내 가장 큰 정수를 알아야 한다.  \n",
    "\n",
    "- 시간 복잡도\n",
    "    - O(n + k): n은 리스트의 길이, k는 정수의 최대값"
   ]
  },
  {
   "attachments": {},
   "cell_type": "markdown",
   "metadata": {},
   "source": [
    "왜 누적합을 사용할까?: 현재 내 위치 아래에 몇 개가 있는지 파악하기 위해서"
   ]
  },
  {
   "attachments": {},
   "cell_type": "markdown",
   "metadata": {},
   "source": [
    "#### baby-gin Game  (이것을 해결하기 위한 방법을 배우자)\n",
    "\n",
    "- 0~9 사이의 숫자카드에서 임의의 카드 6장을 뽑았을 때, 카드가 연속적인 번호를 갖는 경우를 run이라고 하고, 3장의 카드가 동일한 번호를 갖는 경우를 triplet이라고 한다.  \n",
    "- 그리고, 6장의 카드가 run과 triplet로만 구성된 경우 baby-gin으로 부른다.  \n",
    "- 6자리의 숫자를 입력 받아 baby-gin 여부를 판단하는 프로그램을 작성하라.  \n",
    "\n",
    "&nbsp;\n",
    "\n",
    "<font color = \"red\"> 무엇을 먼저하느냐에 따라서 결과가 달라질 수 있다. run이냐 triplet이냐 <font>"
   ]
  },
  {
   "attachments": {},
   "cell_type": "markdown",
   "metadata": {},
   "source": [
    "### 완전 검색 (Exhaustive Search)\n",
    "\n",
    "- 완전 검색 방법은 문제의 해법으로 생각할 수 있는 모든 경우의 수를 나열해보고 확인하는 기법\n",
    "- Brute-Force 혹은 generate-and-test 기법으로 불린다.\n",
    "- 모든 경우의 수를 테스트한 후, 최종 해법을 도출한다.\n",
    "- 일반적으로 경우의 수가 상대적으로 작을 때 유용하다.  \n",
    "- 모든 경우의 수를 생성하고 테스트하기 때문에 수행 속도는 느리지만, 해답을 찾아내지 못할 확률이 적다. \n",
    "- 자격 검정평가 등에서 주어진 문제를 풀 때, 우선 완전 검색으로 접그낳여 해답을 도출한 후, 성능 개선을 위해 다른 알고리즘을 사용하고 해답을 확인하는 것이 바람직하다."
   ]
  },
  {
   "attachments": {},
   "cell_type": "markdown",
   "metadata": {},
   "source": [
    "### 순열(Pernutation)\n",
    "- 서로 다른 것들 중 몇 개를 뽑아서 한 줄로 나열하는 것\n",
    "- 서로 다른 n개 중 r개를 택하는 순열은 nPr로 표현한다.  \n",
    "$$nPr = \\frac {n!}{(n - r)!}$$"
   ]
  },
  {
   "attachments": {},
   "cell_type": "markdown",
   "metadata": {},
   "source": [
    "### 탐욕(Greedy) 알고리즘\n",
    "\n",
    "- 탐욕 알고리즘은 최적해를 구하는 데 사용되는 근시안적인 방법\n",
    "- 여러 경우 중 하나를 결정해야 할 때마다 그 순간에 최적이라고 생각되는 것을 선택해 나가는 방식으로 진행하여 최종적인 해답에 도달한다.\n",
    "- 각 선택의 시점에서 이루어지는 결정 지역적으로는 최적이지만, 그 선택들을 계속 수집하여 최종적인 해답을 만들었다고 하여, 그것이 최적이라는 보장은 없다.\n",
    "- 일반적으로는, 머릿속에서 떠오는 생각을 검증 없이 바로 구현하면 Greedy 접근이 된다.\n",
    "\n",
    "&nbsp;\n",
    "\n",
    "1. 해 선택: 현재 상태에서 부분 문제의 최적 해를 구한 뒤, 이를 부분해 집합(Solution Set)에 추가한다.\n",
    "2. 실행 가능성 검사: 새로운 부분해 집합이 실행 가능한지 확인한다. 곧, 문제의 제약 조건을 위반하지 않는지를 검사한다.\n",
    "3. 해 검사: 새로운 부분해 집합이 문제의 해가 되는지를 확인한다. \n",
    "    - 아직 전체 문제의 해가 완성되지 않았다면 1.의 해 선택부터 다시 시작한다."
   ]
  },
  {
   "attachments": {},
   "cell_type": "markdown",
   "metadata": {},
   "source": [
    "#### 거스름돈 줄이기  \n",
    "- 어떻게 하면 손님에게 거스름돈을 주는 지폐와 동전의 수를 최소화할까"
   ]
  },
  {
   "cell_type": "markdown",
   "metadata": {},
   "source": []
  },
  {
   "cell_type": "code",
   "execution_count": null,
   "metadata": {},
   "outputs": [
    {
     "name": "stdout",
     "output_type": "stream",
     "text": [
      "[0, 1, 2, 3, 4, 5, 6, 7, 8, 9, 10, 11]\n",
      "[0, 0, 0, 0, 1, 1, 1, 1, 1, 1, 0, 0]\n"
     ]
    }
   ],
   "source": [
    "# baby-Gin 생각해보기\n",
    "num = 456789\n",
    "c = [0]*12\n",
    "\n",
    "for i in range(6):\n",
    "    c[num % 10] += 1\n",
    "    num //= 10\n",
    "\n",
    "print(list(range(12)))\n",
    "print(c)\n"
   ]
  },
  {
   "cell_type": "code",
   "execution_count": null,
   "metadata": {},
   "outputs": [
    {
     "name": "stdout",
     "output_type": "stream",
     "text": [
      "Baby Gin\n"
     ]
    }
   ],
   "source": [
    "# baby-Gin game 구현 예 (그리디 형태로 순서를 생각하지 않았다.)\n",
    "i = 0\n",
    "tri = run = 0\n",
    "\n",
    "while i < 10:\n",
    "    if c[i] >= 3:  # triplet 조사 후 데이터 삭제\n",
    "        c[i] -= 3\n",
    "        tri += 1\n",
    "        continue\n",
    "    if c[i] >= 1 and c[i + 1] >= 1 and c[i + 2] >= 1:\n",
    "        c[i] -= 1\n",
    "        c[i + 1] -= 1\n",
    "        c[i + 2] -= 1\n",
    "        run += 1\n",
    "        continue\n",
    "    i += 1\n",
    "\n",
    "if run + tri == 2:\n",
    "    print(\"Baby Gin\")\n",
    "\n",
    "else:\n",
    "    print(\"Lose\")\n"
   ]
  },
  {
   "attachments": {},
   "cell_type": "markdown",
   "metadata": {},
   "source": [
    "# 오프라인 2일차"
   ]
  },
  {
   "attachments": {},
   "cell_type": "markdown",
   "metadata": {},
   "source": [
    "그리디 알고리즘"
   ]
  },
  {
   "cell_type": "code",
   "execution_count": null,
   "metadata": {},
   "outputs": [
    {
     "name": "stdout",
     "output_type": "stream",
     "text": [
      "사용된 동전의 개수: 15\n",
      "잔액: 0\n"
     ]
    }
   ],
   "source": [
    "changes = int(input())\n",
    "coins = [500, 100, 50, 10]\n",
    "cnt = 0\n",
    "\n",
    "for i in coins:\n",
    "    temp = changes // i\n",
    "    cnt += temp\n",
    "    changes = changes - i * temp\n",
    "\n",
    "print(f\"사용된 동전의 개수: {cnt}\")\n",
    "print(f\"잔액: {changes}\")\n"
   ]
  },
  {
   "cell_type": "code",
   "execution_count": null,
   "metadata": {},
   "outputs": [
    {
     "name": "stdout",
     "output_type": "stream",
     "text": [
      "24\n"
     ]
    }
   ],
   "source": [
    "# 연속되는 숫자 3개의 합이 가장 클 때를 출력\n",
    "def summ(lst):\n",
    "    s = 0\n",
    "\n",
    "    for i in lst:\n",
    "        s += i\n",
    "\n",
    "    return s\n",
    "\n",
    "\n",
    "lst = [\n",
    "    [4, 5, 2, 6, 7, 3, 1],\n",
    "    [2, 9, 9, 6, 1, 6, 7]\n",
    "]\n",
    "\n",
    "n = int(input())\n",
    "ma = summ(lst[0][0:3])\n",
    "\n",
    "for i in range(2):\n",
    "    for j in range(len(lst[0]) + 1 - n):\n",
    "        temp = summ(lst[i][j:j + n])\n",
    "        if temp > ma:\n",
    "            ma = temp\n",
    "\n",
    "print(ma)\n"
   ]
  },
  {
   "cell_type": "code",
   "execution_count": null,
   "metadata": {},
   "outputs": [
    {
     "name": "stdout",
     "output_type": "stream",
     "text": [
      "Y Y\n",
      "N Y\n"
     ]
    }
   ],
   "source": [
    "# 리스트에 4개의 숫자를 입력받은 후 입력 받은 숫자가 lst안에 존재하면 Y\n",
    "# lst안에 없다면 N을 출력해 주세요.\n",
    "\n",
    "lst = [[4, 5, 2, 6, 7],\n",
    "       [2, 9, 9, 6, 1],\n",
    "       [2, 9, 9, 6, 1]]\n",
    "\n",
    "val = [list(map(int, input().split())) for i in range(2)]\n",
    "val2 = [['N'] * 2 for i in range(2)]\n",
    "\n",
    "for k in range(2):\n",
    "    for l in range(2):\n",
    "        for i in lst:\n",
    "            for j in i:\n",
    "                if j == val[k][l]:\n",
    "                    val2[k][l] = 'Y'\n",
    "\n",
    "for i in val2:\n",
    "    print(*i)\n"
   ]
  },
  {
   "cell_type": "code",
   "execution_count": null,
   "metadata": {},
   "outputs": [
    {
     "name": "stdout",
     "output_type": "stream",
     "text": [
      "있음\n"
     ]
    }
   ],
   "source": [
    "# 정수 4개 입력받고\n",
    "# 패턴 존재 여부 출력하기\n",
    "\n",
    "arr = [3, 6, 5, 8, 5, 3, 5, 8, 5, 3, 3, 1, 1, 3]\n",
    "r = list(map(int, input().split()))\n",
    "res = \"없음\"\n",
    "\n",
    "for i in range(len(arr) + 1 - len(r)):\n",
    "    if arr[i:i + len(r)] == r:\n",
    "        res = \"있음\"\n",
    "        break\n",
    "\n",
    "print(res)\n"
   ]
  },
  {
   "cell_type": "code",
   "execution_count": null,
   "metadata": {},
   "outputs": [
    {
     "name": "stdout",
     "output_type": "stream",
     "text": [
      "발견2개\n"
     ]
    }
   ],
   "source": [
    "board = [\n",
    "    ['A', 'B', 'G', 'K'],\n",
    "    ['T', 'T', 'A', 'B'],\n",
    "    ['A', 'C', 'T', 'T']]\n",
    "\n",
    "lst = [list(input()) for i in range(2)]\n",
    "cnt = 0\n",
    "\n",
    "\n",
    "# res = 미발견\n",
    "for i in range(2):\n",
    "    k = 0\n",
    "    for j in range(3):\n",
    "        for k in range(4 + 1 - 2):\n",
    "            if lst[i] == board[j][k: k + 2]:\n",
    "                k += 1\n",
    "    if k > 0:\n",
    "        cnt += 1\n",
    "\n",
    "if (cnt > 0):\n",
    "    print(f\"발견{cnt}개\")\n",
    "else:\n",
    "    print(\"미발견\")\n"
   ]
  },
  {
   "cell_type": "code",
   "execution_count": null,
   "metadata": {},
   "outputs": [
    {
     "name": "stdout",
     "output_type": "stream",
     "text": [
      "발견1개\n"
     ]
    }
   ],
   "source": [
    "def ftn(lst):\n",
    "    cnt = 0\n",
    "\n",
    "    for i in range(2):\n",
    "        a = list(input())\n",
    "        key = 0\n",
    "        for j in range(3):\n",
    "            for k in range(4 + 1 - 2):\n",
    "                if a == board[j][k: k + 2]:\n",
    "                    key += 1\n",
    "        if key > 0:\n",
    "            cnt += 1\n",
    "\n",
    "    return cnt\n",
    "\n",
    "\n",
    "board = [\n",
    "    ['A', 'B', 'G', 'K'],\n",
    "    ['T', 'T', 'A', 'B'],\n",
    "    ['A', 'C', 'T', 'T']]\n",
    "\n",
    "res = ftn(board)\n",
    "\n",
    "if (res > 0):\n",
    "    print(f\"발견{res}개\")\n",
    "else:\n",
    "    print(\"미발견\")\n"
   ]
  },
  {
   "attachments": {},
   "cell_type": "markdown",
   "metadata": {},
   "source": [
    "# 알고리즘 문제 풀이"
   ]
  },
  {
   "attachments": {},
   "cell_type": "markdown",
   "metadata": {},
   "source": [
    "1. <font color = \"red\">문제 읽기 </font> : 속독 (조건/제약체크)\n",
    "2. <font color = \"red\">접근 방법 구상</font> : TC 손풀기\n",
    "3. <font color = \"red\">핵코드 손코딩</font> : 정독 -> 재시작, 실명제 (변수이름), 범위, 익숙한 이름/구조\n",
    "4. 코드 구현 : 한 눈에 보이도록 (한 동작)\n",
    "5. 디버깅 및 개선"
   ]
  },
  {
   "attachments": {},
   "cell_type": "markdown",
   "metadata": {},
   "source": [
    "완전히 새로운 문제는 없다.  \n",
    "- 이전에 풀었던 문제와 유사한지, 특정 자료구조 적용, 전형적인 알고리즘 적용 가능한지 체크  \n",
    "\n",
    "문제가 시키는 대로 시도  \n",
    "- 문제 설명대로 예시를 처리하는 것이 접근 가능한지 체크 (제한 조건 내)\n",
    "- 여러 입력에 대한 출력을 계산하면서 규칫성, 조건, 수식 적용 가능한지 체크\n",
    "\n",
    "유형/규칙성을 발견하기 힘들다면...\n",
    "- 가능한 모든 경우를 처리하면서 풀이가능한지 체크  \n",
    "- 전체문제가 아닌 일부분으로 나누거나, 단계를 나누어 접근  \n",
    "- 반대로 접근하는 경우를 체크 (문제설명, 조건, array 순회 등)\n",
    "\n",
    "이 모든 접근은 시각적으로 (손으로 그리면서)  \n",
    "\n",
    "기본기는 철저히 연습  \n",
    "나만의 환경/루틴에서 안정적으로 구현"
   ]
  },
  {
   "attachments": {},
   "cell_type": "markdown",
   "metadata": {},
   "source": [
    "코드 나오고 코드의 실행 결과값은?\n",
    "\n",
    "- 재귀, 피보나치 코드 분석\n",
    "- 리스트 관련 메서드\n",
    "- 조건표현식\n",
    "- 인스턴스 메서드\n",
    "- super\n",
    "- 형변환\n",
    "- 함수 가변인자\n",
    "- 함수 실행 순서\n",
    "- 깊은 얕은 copy.copy, copy.deepcopy\n",
    "- and or 등의 논리 연산자"
   ]
  },
  {
   "cell_type": "code",
   "execution_count": null,
   "metadata": {},
   "outputs": [],
   "source": [
    "# def fib(x):\n",
    "#     if x <= 2:\n",
    "#         return 1\n",
    "#\n",
    "#     return fib(x - 1) + fib(x - 2)\n",
    "#\n",
    "# print(fib(10))\n",
    "\n",
    "# def fac(n):\n",
    "#     if n <= 1:\n",
    "#         return 1\n",
    "#\n",
    "#     return n * fac(n - 1)\n",
    "#\n",
    "# print(fac(5))\n"
   ]
  },
  {
   "attachments": {},
   "cell_type": "markdown",
   "metadata": {},
   "source": [
    "# 알고리즘 3일차"
   ]
  },
  {
   "attachments": {},
   "cell_type": "markdown",
   "metadata": {},
   "source": [
    "### 2차원 배열\n",
    "\n",
    "- 1차원 List를 묶어놓은 List\n",
    "- 2차원 이상의 다차원 List는 차원 따라 Index 선언"
   ]
  },
  {
   "attachments": {},
   "cell_type": "markdown",
   "metadata": {},
   "source": [
    "#### 배열 순회\n",
    "- n * m 배열의 n * m 개의 모든 원소를 빠짐없이 조사하는 방법"
   ]
  },
  {
   "cell_type": "code",
   "execution_count": null,
   "metadata": {},
   "outputs": [],
   "source": [
    "# 행우선\n",
    "# for i in range(n):\n",
    "#     for j in range(m):\n",
    "#         array[i][j]\n",
    "\n",
    "# 열우선\n",
    "# for j in range(n):\n",
    "#     for i in range(m):\n",
    "#         array[i][j]\n",
    "\n",
    "# 지그재그\n",
    "# for i in range(n):\n",
    "#     for j in range(m):\n",
    "#         Array[i][j + (m - 1 - 2 * j) * (i % 2)] # i 값에 따라서 j 또는 m - i - j가 된다.\n"
   ]
  },
  {
   "cell_type": "code",
   "execution_count": null,
   "metadata": {},
   "outputs": [],
   "source": [
    "# 델타를 이용한 2차 배열 탐색\n",
    "# arr = [[1, 2, 3], [4, 5, 6], [7, 8, 9]]\n",
    "# di = [0, 0, -1, 1]\n",
    "# dj = [-1, 1, 0, 0]\n",
    "# n = 3\n",
    "\n",
    "# for i in range(n):\n",
    "#     for j in range(4):\n",
    "#         ni = i + di[j]\n",
    "#         nj = j + dj[j]\n",
    "\n",
    "#         if 0 <= ni < n and 0 <= nj < n: # 이것도 된다.\n",
    "#             하고 싶은 행동\n"
   ]
  },
  {
   "cell_type": "code",
   "execution_count": null,
   "metadata": {},
   "outputs": [
    {
     "name": "stdout",
     "output_type": "stream",
     "text": [
      "[1, 4, 7]\n",
      "[2, 5, 8]\n",
      "[3, 6, 9]\n"
     ]
    }
   ],
   "source": [
    "# 전치 행렬\n",
    "arr = [[1, 2, 3], [4, 5, 6], [7, 8, 9]]\n",
    "\n",
    "for i in range(3):\n",
    "    for j in range(3):\n",
    "        if i < j:\n",
    "            arr[i][j], arr[j][i] = arr[j][i], arr[i][j]\n",
    "\n",
    "for i in arr:\n",
    "    print(i)\n"
   ]
  },
  {
   "attachments": {},
   "cell_type": "markdown",
   "metadata": {},
   "source": [
    "#### 부분집합의 합(Subset Sum) 문제\n",
    "\n",
    "- ex) 유한 개의 정수로 이루어진 집합이 있을 때, 이 집합의 부분집합 중에서 그 집합의 원소를 모두 더한 값이 0이 되는 경우가 있는지 알아내는 문제\n",
    "- 완전검색 기법으로 부분집합 합 문제를 풀기 위해서는, 우선 집합의 모든 부분집하을 생성한 후에 각 부분집합의 합을 계산해야 한다.\n",
    "- 부분집합의 수 = 2^n\n"
   ]
  },
  {
   "cell_type": "code",
   "execution_count": null,
   "metadata": {},
   "outputs": [
    {
     "name": "stdout",
     "output_type": "stream",
     "text": [
      "[0, 0, 0, 0]\n",
      "[0, 0, 0, 1]\n",
      "[0, 0, 1, 0]\n",
      "[0, 0, 1, 1]\n",
      "[0, 1, 0, 0]\n",
      "[0, 1, 0, 1]\n",
      "[0, 1, 1, 0]\n",
      "[0, 1, 1, 1]\n",
      "[1, 0, 0, 0]\n",
      "[1, 0, 0, 1]\n",
      "[1, 0, 1, 0]\n",
      "[1, 0, 1, 1]\n",
      "[1, 1, 0, 0]\n",
      "[1, 1, 0, 1]\n",
      "[1, 1, 1, 0]\n",
      "[1, 1, 1, 1]\n"
     ]
    }
   ],
   "source": [
    "# 부분집합 생성하기\n",
    "bit = [0, 0, 0, 0]\n",
    "\n",
    "for i in range(2):\n",
    "    bit[0] = i\n",
    "    for j in range(2):\n",
    "        bit[1] = j\n",
    "        for k in range(2):\n",
    "            bit[2] = k\n",
    "            for l in range(2):\n",
    "                bit[3] = l\n",
    "                print(bit)\n"
   ]
  },
  {
   "attachments": {},
   "cell_type": "markdown",
   "metadata": {},
   "source": [
    "- 비트 연산자\n",
    "&: 비트 단위로 and 연산을 한다.  \n",
    "| : 비트 단위로 or 연산을 한다.  \n",
    "\"<<\": 피연산자의 비트 열을 왼쪽으로 이동시킨다.  \n",
    "\">>\": 피연산자의 비트 열을 오른쪽으로 이동시킨다.  \n",
    "\n",
    "&nbsp;\n",
    "\n",
    "- \"<<\" 연산자\n",
    "    - 1 \"<<\" n: 2^n 즉, n개일 경우의 모든 부분집합의 수를 의미한다.  \n",
    "\n",
    "&nbsp;\n",
    "\n",
    "- &  연산자  \n",
    "    - i & (1\"<<\"j): i의 j 번째 비트가 1인지 아닌지를 검사한다.  \n"
   ]
  },
  {
   "cell_type": "code",
   "execution_count": null,
   "metadata": {},
   "outputs": [
    {
     "name": "stdout",
     "output_type": "stream",
     "text": [
      "\n",
      "3,\n",
      "6,\n",
      "3,6,\n",
      "7,\n",
      "3,7,\n",
      "6,7,\n",
      "3,6,7,\n",
      "1,\n",
      "3,1,\n",
      "6,1,\n",
      "3,6,1,\n",
      "7,1,\n",
      "3,7,1,\n",
      "6,7,1,\n",
      "3,6,7,1,\n",
      "5,\n",
      "3,5,\n",
      "6,5,\n",
      "3,6,5,\n",
      "7,5,\n",
      "3,7,5,\n",
      "6,7,5,\n",
      "3,6,7,5,\n",
      "1,5,\n",
      "3,1,5,\n",
      "6,1,5,\n",
      "3,6,1,5,\n",
      "7,1,5,\n",
      "3,7,1,5,\n",
      "6,7,1,5,\n",
      "3,6,7,1,5,\n",
      "4,\n",
      "3,4,\n",
      "6,4,\n",
      "3,6,4,\n",
      "7,4,\n",
      "3,7,4,\n",
      "6,7,4,\n",
      "3,6,7,4,\n",
      "1,4,\n",
      "3,1,4,\n",
      "6,1,4,\n",
      "3,6,1,4,\n",
      "7,1,4,\n",
      "3,7,1,4,\n",
      "6,7,1,4,\n",
      "3,6,7,1,4,\n",
      "5,4,\n",
      "3,5,4,\n",
      "6,5,4,\n",
      "3,6,5,4,\n",
      "7,5,4,\n",
      "3,7,5,4,\n",
      "6,7,5,4,\n",
      "3,6,7,5,4,\n",
      "1,5,4,\n",
      "3,1,5,4,\n",
      "6,1,5,4,\n",
      "3,6,1,5,4,\n",
      "7,1,5,4,\n",
      "3,7,1,5,4,\n",
      "6,7,1,5,4,\n",
      "3,6,7,1,5,4,\n",
      "\n"
     ]
    }
   ],
   "source": [
    "#\n",
    "arr = [3, 6, 7, 1, 5, 4]\n",
    "n = len(arr)  # n: 원소의 갯수\n",
    "\n",
    "for i in range(1 << n):  # 1 << n : 부분 집합의 개수\n",
    "    for j in range(n):  # 원소의 수만큼 비트를 비교함\n",
    "        if i & (1 << j):  # i의 j번 비트가 1인 경우\n",
    "            print(arr[j], end=',')  # j번 원소 출력\n",
    "    print()\n",
    "print()\n"
   ]
  },
  {
   "attachments": {},
   "cell_type": "markdown",
   "metadata": {},
   "source": [
    "# 3일차 오프라인"
   ]
  },
  {
   "cell_type": "code",
   "execution_count": null,
   "metadata": {},
   "outputs": [
    {
     "name": "stdout",
     "output_type": "stream",
     "text": [
      "0b1010\n"
     ]
    }
   ],
   "source": [
    "# 10진수 2진수로\n",
    "a = 10\n",
    "print(bin(a))\n"
   ]
  },
  {
   "cell_type": "code",
   "execution_count": null,
   "metadata": {},
   "outputs": [
    {
     "name": "stdout",
     "output_type": "stream",
     "text": [
      "15\n"
     ]
    }
   ],
   "source": [
    "b = 0b1111\n",
    "print(b)\n"
   ]
  },
  {
   "cell_type": "code",
   "execution_count": null,
   "metadata": {},
   "outputs": [
    {
     "name": "stdout",
     "output_type": "stream",
     "text": [
      "15\n"
     ]
    }
   ],
   "source": [
    "# 2진수(문자) 값을 정수로 출력하기\n",
    "c = \"0B1111\"\n",
    "print(int(c, 2))  # 조금 다르다는 것을 인지할 것\n"
   ]
  },
  {
   "cell_type": "code",
   "execution_count": null,
   "metadata": {},
   "outputs": [
    {
     "name": "stdout",
     "output_type": "stream",
     "text": [
      "1\n",
      "9\n",
      "2\n",
      "0\n"
     ]
    }
   ],
   "source": [
    "# 비트 연산 and or >> <<\n",
    "\n",
    "# and (둘다 참)\n",
    "a = 0b0001\n",
    "b = 0b1001\n",
    "print(a & b)\n",
    "\n",
    "# or (둘 중 하나만 참)\n",
    "print(a | b)\n",
    "\n",
    "# << 연산자(곱하기 2)\n",
    "print(a << 1)\n",
    "\n",
    "# >> 연산자(나누기 2)\n",
    "print(a >> 1)\n"
   ]
  },
  {
   "cell_type": "code",
   "execution_count": null,
   "metadata": {},
   "outputs": [
    {
     "name": "stdout",
     "output_type": "stream",
     "text": [
      "5\n"
     ]
    }
   ],
   "source": [
    "print(3 and 5)\n"
   ]
  },
  {
   "attachments": {},
   "cell_type": "markdown",
   "metadata": {},
   "source": [
    "# 알고리즘 4일차"
   ]
  },
  {
   "attachments": {},
   "cell_type": "markdown",
   "metadata": {},
   "source": [
    "### 검색(Search)\n",
    "\n",
    "- 저장되어 있는 자료 중에서 원하는 항목을 찾는 작업  \n",
    "- 목적하는 탐색 키를 가진 항목을 찾는 것  \n",
    "    - 탐색 키(search key): 자료를 구별하여 인식할 수 있는 키  \n",
    "- 검색의 종류\n",
    "    - 순차 검색(sequential search)\n",
    "    - 이진 검색(binary serach)\n",
    "    - 해쉬(hash)\n"
   ]
  },
  {
   "attachments": {},
   "cell_type": "markdown",
   "metadata": {},
   "source": [
    "#### 순차 검색(Sequential Search)\n",
    "- 일렬로 되어 있는 자룔르 순서대로 검색하는 방법  \n",
    "    - 가장 간단하고 직관적인 방법  \n",
    "    - 배열이나 연결 리스트 등 순차구조로 구현된 자료구조에서 원하는 항목을 찾을 때 유용함  \n",
    "    - 알고리즘이 단순하여 구현이 쉽지만, 검색 대상의 수가 많은 경우에는 수행시간이 급격히 증가하여 비효율적임  \n",
    "\n",
    "&nbsp;\n",
    "\n",
    "- 2가지 경우\n",
    "    - 정렬되어 있지 않은 경우\n",
    "    - 정렬되어 있는 경우  "
   ]
  },
  {
   "attachments": {},
   "cell_type": "markdown",
   "metadata": {},
   "source": [
    "##### 정렬되어 있지 않은 경우 \n",
    "- 검색 과정  \n",
    "    - 첫 번째 원소부터 순서대로 검색 대상과 키 값이 같은 원소가 있는지 비교하며 찾는다.  \n",
    "    - 키 값이 동일한 원소를 찾으면 그 원소의 인덱스를 반환한다.  \n",
    "    - 자료구조의 마지막에 이를 때까지 검색 대상을 찾지 못하면 검색 실패  \n",
    "    \n",
    "&nbsp;\n",
    "\n",
    "- 찾고자 하는 원소의 순서에 따라 비교회수가 결정됨 \n",
    "    - 첫 번째 원소를 찾을 때는 1번 비교, 두 번째 원소를 찾을 때는 2번 비교...\n",
    "- 정렬되지 않은 자료에서 순차 검색의 평균 비교 회수: $\\frac{1}{n} * (1 + 2 + 3 + ... + n) = \\frac{n + 1}{2}$\n",
    "- 시간 복잡도: $O(n)$"
   ]
  },
  {
   "cell_type": "code",
   "execution_count": null,
   "metadata": {},
   "outputs": [],
   "source": [
    "# 구현 예\n",
    "def sequentialSearch(a, n, key):\n",
    "    i = 0\n",
    "\n",
    "    while i < n and a[i] != key:\n",
    "        i += 1\n",
    "\n",
    "    if i < n:\n",
    "        return i\n",
    "\n",
    "    return -1\n"
   ]
  },
  {
   "attachments": {},
   "cell_type": "markdown",
   "metadata": {},
   "source": [
    "##### 정렬되어 있는 경우\n",
    "- 검색과정\n",
    "    - 자료가 오름차순으로 정렬된 상태에서 검색을 실시한다고 가정하자.\n",
    "    - 자료를 순차적으로 검색하면서 키 값을 비교하여, 원소의 키 값이 검색 대상의 키 값보다 크면 찾는 원소가 없다는 것으로 더 이상 검색하지 않고 검색을 종료한다.\n",
    "\n",
    "&nbsp;\n",
    "\n",
    "- 찾고자 하는 원소의 순서에 따라 비교회수가 결정됨  \n",
    "    - 정렬이 되어있으므로, 검색 실패를 반환하는 경우 평균 비교회수가 반으로 줄어든다.  \n",
    "    - 시간 복잡도: $O(n)$"
   ]
  },
  {
   "cell_type": "code",
   "execution_count": null,
   "metadata": {},
   "outputs": [],
   "source": [
    "# 구현 예\n",
    "def sequentialSerach2(a, n, key):\n",
    "    i = 0\n",
    "\n",
    "    while i < n and a[i] < key:\n",
    "        i += 1\n",
    "\n",
    "    if i < n and a[i] == key:\n",
    "        return i\n",
    "\n",
    "    return -1\n"
   ]
  },
  {
   "attachments": {},
   "cell_type": "markdown",
   "metadata": {},
   "source": [
    "#### 이진 검색(binary Search)\n",
    "\n",
    "- 검색 과정\n",
    "1. 자료의 중앙에 있는 원소를 고른다. \n",
    "2. 중앙 원소의 값과 찾고자 하는 목표 값을 비교한다.  \n",
    "3. 목표 값이 중앙 원소의 값보다 작으면 자료의 왼쪽 반에 대해서 새로 검색을 수행하고, 크다면 자료의 오른쪽 반에 대해서 새로 검색을 수행한다.\n",
    "4. 찾고자 하는 값을 찾을 때까지 위 1 ~ 3의 과정을 반복한다.\n",
    "\n",
    "&nbsp;\n",
    "\n",
    "- 구현  \n",
    "    - 검색 범위의 시작점과 종료점을 이용하여 검색을 반복 수행한다.\n",
    "    - 이진 검색의 경우, 자료에 삽입이나 삭제가 발생했을 때, 배열의 상태를 항상 정렬 상태로 유지하는 추가 작업이 필요하다.  "
   ]
  },
  {
   "cell_type": "code",
   "execution_count": null,
   "metadata": {},
   "outputs": [],
   "source": [
    "# 이진 검색 알고리즘\n",
    "def binarySearch(a, N, key):\n",
    "    start = 0\n",
    "    end = N - 1\n",
    "    while start <= end:\n",
    "        middle = (start + end) // 2\n",
    "        if a[middle] == key:\n",
    "            return True\n",
    "        elif a[middle] > key:\n",
    "            end = middle - 1  # 가운데 값이 아니니까 이렇게 되는 거\n",
    "        else:\n",
    "            start = middle + 1\n",
    "\n",
    "    return False\n"
   ]
  },
  {
   "cell_type": "code",
   "execution_count": null,
   "metadata": {},
   "outputs": [],
   "source": [
    "# 재귀 함수 이용\n",
    "def binarySearch2(a, low, high, key):\n",
    "    if low > high:\n",
    "        return False\n",
    "\n",
    "    middle = (low + high) // 2\n",
    "    if key == a[middle]:\n",
    "        return True\n",
    "    elif key < a[middle]:\n",
    "        return binarySearch2(a, low, middle - 1, key)\n",
    "    elif a[middle] < key:\n",
    "        return binarySearch2(A, middle + 1, high, key)\n"
   ]
  },
  {
   "attachments": {},
   "cell_type": "markdown",
   "metadata": {},
   "source": [
    "### 인덱스\n",
    "\n",
    "- 인덱스라는 용어는 Database에서 유래했으며, 테이블에 대한 동작 속도를 높여주는 자료 구조를 일컫는다.\n",
    "- Database 분야가 아닌 곳에서는 Look up table 등의 용어를 사용하기도 한다.  \n",
    "- 인덱스를 저장하는데 필요한 디스크 공간은 보통 테이블을 저장하는데 필요한 디스크 공간보다 작다. 왜냐하면 보통 인덱스는 키-필드만 갖고 있고, 테이블의 다른 세부항목들은 갖고 있지 않기 때문이다. \n",
    "- 배열을 사용한 인덱스  \n",
    "    - 대량의 데이터를 매번 정렬하면, 프로그램의 반응은 느려질 수 밖에 없다. 이러한 데이터의 성능 저하 문제를 해결하기 위해 배열 인덱스를 사용할 수 있다.  \n",
    "- 원본의 데이터에 데이터가 삽입될 경우 상대적으로 크기가 작은 인덱스 배열을 정렬하기 때문에 속도가 빠르다.  \n"
   ]
  },
  {
   "attachments": {},
   "cell_type": "markdown",
   "metadata": {},
   "source": [
    "### 선택 정렬(selection Sort)\n",
    "- 주어진 자료들 중 가장 작은 값의 원소부터 차례대로 선택하여 위치를 교환하는 방식  \n",
    "    - 앞서 살펴본 셀렉션 알고리즘을 전체 자료에 적용한 것\n",
    "- 정렬 과정\n",
    "    - 주어진 리스트 중에서 최소값을 찾는다.\n",
    "    - 그 값을 리스트의 맨 앞에 위치한 값과 교환한다.  \n",
    "    - 맨 처음 위치를 ㅇ제외한 나머지 리스트를 대상으로 위의 과정을 반복한다. \n",
    "- 시간복잡도 : $O(n)$"
   ]
  },
  {
   "cell_type": "code",
   "execution_count": null,
   "metadata": {},
   "outputs": [],
   "source": [
    "import copy\n",
    "\n",
    "\n",
    "def selectionSort(lst):\n",
    "    a = copy.deepcopy(lst)\n",
    "    n = len(a)\n",
    "\n",
    "    for i in range(n - 1):\n",
    "        mi = a[i]\n",
    "        idx = i\n",
    "        for j in range(i + 1, n):\n",
    "            if mi > a[j]:\n",
    "                mi = a[j]\n",
    "                idx = j\n",
    "\n",
    "        a[i], a[idx] = a[idx], a[i]\n",
    "\n",
    "    return a\n"
   ]
  },
  {
   "cell_type": "code",
   "execution_count": null,
   "metadata": {},
   "outputs": [
    {
     "name": "stdout",
     "output_type": "stream",
     "text": [
      "[1, 2, 3, 3, 4, 5]\n",
      "[3, 4, 5, 1, 2, 3]\n"
     ]
    }
   ],
   "source": [
    "a = [3, 4, 5, 1, 2, 3]\n",
    "\n",
    "print(selectionSort(a))\n",
    "print(a)\n"
   ]
  },
  {
   "attachments": {},
   "cell_type": "markdown",
   "metadata": {},
   "source": [
    "- 저장되어 있는 자료로부터 k번째로 큰 혹은 작은 원소를 찾는 방법을 셀렉션 알고리즘이라고 한다.  \n",
    "    - 최소값, 최대값 혹은 중간값을 찾는 알고리즘을 의미하기도 한다.  \n",
    "\n",
    "- 선택과정\n",
    "    - 셀렉션은 아래와 같은 과정을 통해 이루어진다.\n",
    "    1. 정렬 알고리즘을 이용하여 자료 정렬하기\n",
    "    2. 원하는 순서에 있는 원소 가져오기 "
   ]
  },
  {
   "cell_type": "code",
   "execution_count": null,
   "metadata": {},
   "outputs": [],
   "source": [
    "# k번째로 작은 원소를 찾는 알고리즘\n",
    "# 1번부터 k번째까지 작은 원소들을 찾아 배열의 앞쪽으로 이동시키고, 배열의 k번째를 반환한다.\n",
    "# k가 비교적 작을 때 유용하며 O(kn)의 수행시간을 필요로 한다.\n",
    "\n",
    "def select(arr, k):\n",
    "    for i in range(0, k):\n",
    "        minIndex = i\n",
    "        for j in range(i + 1, len(arr)):\n",
    "            minIndex = j\n",
    "        arr[i], arr[minIndex] = arr[minIndex], arr[i]\n",
    "\n",
    "    return arr[k - 1]\n"
   ]
  },
  {
   "attachments": {},
   "cell_type": "markdown",
   "metadata": {},
   "source": [
    "# 오프라인 4일차"
   ]
  },
  {
   "cell_type": "code",
   "execution_count": null,
   "metadata": {},
   "outputs": [],
   "source": [
    "# binary search\n",
    "arr = [1, 3, 5, 6, 8, 11, 13, 15]\n",
    "target = int(input())\n",
    "\n",
    "\n",
    "def bs(st, end, target):\n",
    "    while 1:\n",
    "        mid = (st + end) // 2\n",
    "\n",
    "        if arr[mid] == target:\n",
    "            return 1\n",
    "        elif arr[mid] < target:\n",
    "            st = mid + 1\n",
    "        else:\n",
    "            end = mid - 1\n",
    "\n",
    "        if st > end:\n",
    "            return 0\n",
    "\n",
    "\n",
    "answer = \"찾았음\" if bs(0, len(arr) - 1, target) else \"없음\"\n",
    "print(answer)\n"
   ]
  },
  {
   "cell_type": "code",
   "execution_count": null,
   "metadata": {},
   "outputs": [
    {
     "name": "stdout",
     "output_type": "stream",
     "text": [
      "없음\n"
     ]
    }
   ],
   "source": [
    "# 리스트에 n개의 정수를 입력\n",
    "# target 정수 1개 입력\n",
    "# target이 리스트 안에 존재 여부를 추력\n",
    "lst = [3, 4, 1, 2, 7, 4, 4]\n",
    "target = int(input())\n",
    "\n",
    "if target in lst:\n",
    "    print(\"존재\")\n",
    "else:\n",
    "    print(\"없음\")\n"
   ]
  },
  {
   "cell_type": "code",
   "execution_count": null,
   "metadata": {},
   "outputs": [
    {
     "name": "stdout",
     "output_type": "stream",
     "text": [
      "7\n",
      "[1, 2, 3, 4, 4, 4, 7]\n",
      "6\n"
     ]
    }
   ],
   "source": [
    "import copy\n",
    "\n",
    "\n",
    "def select(lst):\n",
    "    temp = copy.deepcopy(lst)\n",
    "    lg = len(temp)\n",
    "\n",
    "    for i in range(lg - 1):\n",
    "        for j in range(i + 1, lg):\n",
    "            if temp[i] > temp[j]:\n",
    "                temp[i], temp[j] = temp[j], temp[i]\n",
    "\n",
    "    return temp\n",
    "\n",
    "\n",
    "lst = [3, 4, 1, 2, 7, 4, 4]\n",
    "target = int(input())\n",
    "lst2 = select(lst)\n",
    "start = 0\n",
    "end = len(lst2) - 1\n",
    "\n",
    "while 1:\n",
    "    mid = (start + end) // 2\n",
    "    if lst2[mid] == target:\n",
    "        break\n",
    "    elif lst2[mid] > target:\n",
    "        end = mid - 1\n",
    "    else:\n",
    "        start = mid + 1\n",
    "\n",
    "    if start > end:\n",
    "        break\n",
    "\n",
    "print(target)\n",
    "print(lst2)\n",
    "print(mid)\n"
   ]
  },
  {
   "cell_type": "code",
   "execution_count": null,
   "metadata": {},
   "outputs": [
    {
     "name": "stdout",
     "output_type": "stream",
     "text": [
      "60%\n"
     ]
    }
   ],
   "source": [
    "# parametric search\n",
    "# 배터리가 얼마나 차있을까? 확인할 때\n",
    "battery = ['*', '*', '*', '*', '*', '*', '_', '_', '_', '_']  # 60%\n",
    "battery2 = ['_', '_', '_', '_', '_', '_', '_', '_', '_', '_']  # 0%\n",
    "battery3 = ['*', '*', '*', '*', '*', '*', '*', '*', '*', '*']\n",
    "st = 0\n",
    "end = len(battery) - 1\n",
    "k = 0\n",
    "\n",
    "while st <= end:\n",
    "    mid = (st + end) // 2\n",
    "\n",
    "    if battery[mid] == '*':\n",
    "        k = mid\n",
    "        st = mid + 1\n",
    "    else:\n",
    "        end = mid - 1\n",
    "\n",
    "if k == 0:\n",
    "    res = 0\n",
    "else:\n",
    "    res = (k + 1)/10 * 100\n",
    "print(f\"{res:.0f}%\")\n"
   ]
  },
  {
   "cell_type": "code",
   "execution_count": null,
   "metadata": {},
   "outputs": [
    {
     "name": "stdout",
     "output_type": "stream",
     "text": [
      "2, 3\n"
     ]
    }
   ],
   "source": [
    "# 워드 작업 중 정전으로 인하여 컴퓨터가 강제 종료 되었습니다.\n",
    "# 다시 전기가 들어와 컴퓨터를 켰더니 다행이도 자동복구가 실행 되었습니다.\n",
    "# 우리는 자동복구가 되었을떄 커서의 위치가 어디인지를 알려줘야 합니다.\n",
    "# 커서의 위치를 알려주는 프로그램을 완성해 주세요.\n",
    "# 시간복잡도 O(n^2) 보다 빨라야 합니다.\n",
    "\n",
    "# 6*12 size 리스트 입니다.\n",
    "\n",
    "# 정답 2, 3\n",
    "curser = [\n",
    "    '##########',\n",
    "    '##########',\n",
    "    '###_______',\n",
    "    '__________',\n",
    "    '__________',\n",
    "    '__________',\n",
    "]\n",
    "\n",
    "for i in range(6):\n",
    "    temp = curser[i]\n",
    "    st = 0\n",
    "    ed = 9\n",
    "    k = 0\n",
    "\n",
    "    while st <= ed:\n",
    "        mid = (st + ed) // 2\n",
    "\n",
    "        if temp[mid] == '#':\n",
    "            k = mid\n",
    "            st = mid + 1\n",
    "        else:\n",
    "            ed = mid - 1\n",
    "\n",
    "    if k != 9:\n",
    "        break\n",
    "\n",
    "print(f\"{i}, {k + 1}\")\n"
   ]
  },
  {
   "cell_type": "code",
   "execution_count": null,
   "metadata": {},
   "outputs": [
    {
     "name": "stdout",
     "output_type": "stream",
     "text": [
      "2 3\n"
     ]
    }
   ],
   "source": [
    "curser = [\n",
    "    '##########',\n",
    "    '##########',\n",
    "    '###_______',\n",
    "    '__________',\n",
    "    '__________',\n",
    "    '__________',\n",
    "]\n",
    "\n",
    "\n",
    "def bs1(st, ed):\n",
    "    Max = -1\n",
    "    while (1):\n",
    "        mid = (st + ed) // 2\n",
    "        if curser[mid][0] == '_':\n",
    "            ed = mid - 1\n",
    "        elif curser[mid][0] == '#':\n",
    "            Max = mid\n",
    "            st = mid + 1\n",
    "        if st > ed:\n",
    "            break\n",
    "        return Max + 1\n",
    "\n",
    "\n",
    "def bs2(st, ed, yy):\n",
    "    Maxx = -1\n",
    "    while (1):\n",
    "        mid = (st + ed) // 2\n",
    "        if curser[yy][mid] == '_':\n",
    "            ed = mid - 1\n",
    "        elif curser[yy][mid] == '#':\n",
    "            Maxx = mid\n",
    "            st = mid + 1\n",
    "        if st > ed:\n",
    "            break\n",
    "    return Maxx + 1\n",
    "\n",
    "\n",
    "yaxis = bs1(0, 5)\n",
    "xaxis = bs2(0, 9, yaxis - 1)\n",
    "print(yaxis - 1, xaxis)\n"
   ]
  },
  {
   "attachments": {},
   "cell_type": "markdown",
   "metadata": {},
   "source": [
    "# 온라인 5일차"
   ]
  },
  {
   "attachments": {},
   "cell_type": "markdown",
   "metadata": {},
   "source": [
    "네트워크가 발전되기 전 미국의 각 지역 별로 코드체계를 정해놓고 사용했지만 네트워크(인터넷: 인터넷은 미국에서 발전했다.)이 발전하면서 서로 간에 정보를 주고 받을 때 정보를 달리 해석한다는 문제가 발생  \n",
    "\n",
    "혼동을 피하기 위해 표준안을 만들었다.  \n",
    "- ASCII\n",
    "    - 7bit 인코딩으로 128문자를 표현, 33개의 출력 불가능한 제어 문자들과 공백을 비롯한 95개의 출력 가능한 문자로 이루어짐.\n",
    "    - 확장 아스키는 표준 문자 이외의 악센트 문자, 도형 문자, 특수 기호 등 부가적인 문자를 128개 추가할 수 있게 하는 부호이다.\n",
    "    - 오늘날의 대부분의 컴퓨터는 문자를 읽고 쓰는데 아스키형식을 사용\n",
    "\n",
    "그러나 컴퓨터가 발전하면서 마국 뿐만 아니라 각 나라에서도 다른 문자 코드체계를 만들어서 사용\n",
    "- 인터넷이 전 세계로 발전하면서 아스키를 만들었을 때의 문제가 국가간 정보를 주고 받을 때 발생  \n",
    "- 자국의 코드체계를 타 국가가 가지고 있지 않으면 정보를 잘못 해석할 수 밖에 없었다.\n",
    "- 다국어 처리를 위한 표준인 유니코드가 탄생한 계기\n",
    "\n",
    "USC-2, USC-4 존재  \n",
    "- 유니코드를 저장하는 변수의 크기를 정의\n",
    "- 그러나, 바이트 순서에 대해서 표준화 실패\n",
    "- USC-2, USC-4인지 인식하고 각 경우를 구분해서 모두 다르게 구현해야 하는 경우 문제 발생  \n",
    "- 그래서 유니 코드의 적당한 외부 인코딩이 필요하게 되었다."
   ]
  },
  {
   "attachments": {},
   "cell_type": "markdown",
   "metadata": {},
   "source": [
    "- 유니코드 인코딩\n",
    "    - UTF-8, UTF-16, UTF-32\n",
    "\n",
    "- 파이썬 인코딩\n",
    "    - 2.x : 아스키 -> #-*-coding:utf-8*-  (첫 줄에 명시)\n",
    "    - 3.x : 유니코드 utf-8 (생략가능)\n",
    "    - 다른 인코딩 방식으로 처리 시 첫 줄에 작성하는 위 항목에 원하는 인코딩 방식을 지정해주면 됨"
   ]
  },
  {
   "cell_type": "code",
   "execution_count": null,
   "metadata": {},
   "outputs": [],
   "source": [
    "# -*-coding:utf-8*-\n"
   ]
  },
  {
   "attachments": {},
   "cell_type": "markdown",
   "metadata": {},
   "source": [
    "# 오프라인 5일차"
   ]
  },
  {
   "attachments": {},
   "cell_type": "markdown",
   "metadata": {},
   "source": [
    "### 재귀\n",
    "- 모든 문제를 for문과 while문으로만 풀 수는 없다.(경우의 수가 매우 많은 경우)"
   ]
  },
  {
   "cell_type": "code",
   "execution_count": null,
   "metadata": {},
   "outputs": [
    {
     "name": "stdout",
     "output_type": "stream",
     "text": [
      "111\n",
      "112\n",
      "113\n",
      "114\n",
      "115\n",
      "116\n",
      "121\n",
      "122\n",
      "123\n",
      "124\n",
      "125\n",
      "126\n",
      "131\n",
      "132\n",
      "133\n",
      "134\n",
      "135\n",
      "136\n",
      "141\n",
      "142\n",
      "143\n",
      "144\n",
      "145\n",
      "146\n",
      "151\n",
      "152\n",
      "153\n",
      "154\n",
      "155\n",
      "156\n",
      "161\n",
      "162\n",
      "163\n",
      "164\n",
      "165\n",
      "166\n",
      "211\n",
      "212\n",
      "213\n",
      "214\n",
      "215\n",
      "216\n",
      "221\n",
      "222\n",
      "223\n",
      "224\n",
      "225\n",
      "226\n",
      "231\n",
      "232\n",
      "233\n",
      "234\n",
      "235\n",
      "236\n",
      "241\n",
      "242\n",
      "243\n",
      "244\n",
      "245\n",
      "246\n",
      "251\n",
      "252\n",
      "253\n",
      "254\n",
      "255\n",
      "256\n",
      "261\n",
      "262\n",
      "263\n",
      "264\n",
      "265\n",
      "266\n",
      "311\n",
      "312\n",
      "313\n",
      "314\n",
      "315\n",
      "316\n",
      "321\n",
      "322\n",
      "323\n",
      "324\n",
      "325\n",
      "326\n",
      "331\n",
      "332\n",
      "333\n",
      "334\n",
      "335\n",
      "336\n",
      "341\n",
      "342\n",
      "343\n",
      "344\n",
      "345\n",
      "346\n",
      "351\n",
      "352\n",
      "353\n",
      "354\n",
      "355\n",
      "356\n",
      "361\n",
      "362\n",
      "363\n",
      "364\n",
      "365\n",
      "366\n",
      "411\n",
      "412\n",
      "413\n",
      "414\n",
      "415\n",
      "416\n",
      "421\n",
      "422\n",
      "423\n",
      "424\n",
      "425\n",
      "426\n",
      "431\n",
      "432\n",
      "433\n",
      "434\n",
      "435\n",
      "436\n",
      "441\n",
      "442\n",
      "443\n",
      "444\n",
      "445\n",
      "446\n",
      "451\n",
      "452\n",
      "453\n",
      "454\n",
      "455\n",
      "456\n",
      "461\n",
      "462\n",
      "463\n",
      "464\n",
      "465\n",
      "466\n",
      "511\n",
      "512\n",
      "513\n",
      "514\n",
      "515\n",
      "516\n",
      "521\n",
      "522\n",
      "523\n",
      "524\n",
      "525\n",
      "526\n",
      "531\n",
      "532\n",
      "533\n",
      "534\n",
      "535\n",
      "536\n",
      "541\n",
      "542\n",
      "543\n",
      "544\n",
      "545\n",
      "546\n",
      "551\n",
      "552\n",
      "553\n",
      "554\n",
      "555\n",
      "556\n",
      "561\n",
      "562\n",
      "563\n",
      "564\n",
      "565\n",
      "566\n",
      "611\n",
      "612\n",
      "613\n",
      "614\n",
      "615\n",
      "616\n",
      "621\n",
      "622\n",
      "623\n",
      "624\n",
      "625\n",
      "626\n",
      "631\n",
      "632\n",
      "633\n",
      "634\n",
      "635\n",
      "636\n",
      "641\n",
      "642\n",
      "643\n",
      "644\n",
      "645\n",
      "646\n",
      "651\n",
      "652\n",
      "653\n",
      "654\n",
      "655\n",
      "656\n",
      "661\n",
      "662\n",
      "663\n",
      "664\n",
      "665\n",
      "666\n"
     ]
    }
   ],
   "source": [
    "# 주사위 n개의 모든 결과를 출력하고 싶다.\n",
    "n = int(input())\n",
    "\n",
    "\n",
    "def abc(level, path):\n",
    "    if level == n:\n",
    "        print(path)\n",
    "        return\n",
    "\n",
    "    for i in range(1, 7):\n",
    "        abc(level + 1, path + str(i))\n",
    "\n",
    "\n",
    "abc(0, '')\n"
   ]
  },
  {
   "cell_type": "code",
   "execution_count": null,
   "metadata": {},
   "outputs": [],
   "source": [
    "# 무한 재귀\n",
    "def abc():\n",
    "\n",
    "    abc()\n",
    "\n",
    "# abc() # stop condition이 없기 때문에 계속 호출된다.\n"
   ]
  },
  {
   "cell_type": "code",
   "execution_count": null,
   "metadata": {},
   "outputs": [
    {
     "name": "stdout",
     "output_type": "stream",
     "text": [
      "0123210"
     ]
    }
   ],
   "source": [
    "# 함수는 return 시 자신을 호출한 함수로 돌아간다.\n",
    "def abc(n):\n",
    "    print(n, end='')\n",
    "\n",
    "    if n == 3:\n",
    "        return\n",
    "\n",
    "    abc(n + 1)\n",
    "    print(n, end='')\n",
    "\n",
    "\n",
    "abc(0)\n"
   ]
  },
  {
   "cell_type": "code",
   "execution_count": null,
   "metadata": {},
   "outputs": [],
   "source": [
    "def abc(level):\n",
    "\n",
    "    if level == 2:\n",
    "        return\n",
    "\n",
    "    abc(level + 1)\n",
    "    dummy = 1\n",
    "\n",
    "\n",
    "abc(0)\n"
   ]
  },
  {
   "cell_type": "code",
   "execution_count": null,
   "metadata": {},
   "outputs": [
    {
     "name": "stdout",
     "output_type": "stream",
     "text": [
      "0 1 2 3 4 5 4 3 2 1 0 "
     ]
    }
   ],
   "source": [
    "def abc(n):\n",
    "    print(n, end=' ')\n",
    "    if n == 5:\n",
    "        return\n",
    "\n",
    "    abc(n + 1)\n",
    "    print(n, end=' ')\n",
    "\n",
    "\n",
    "abc(0)\n"
   ]
  },
  {
   "cell_type": "code",
   "execution_count": null,
   "metadata": {},
   "outputs": [
    {
     "name": "stdout",
     "output_type": "stream",
     "text": [
      "7 6 5 4 3 2 2 3 4 5 6 7 "
     ]
    }
   ],
   "source": [
    "def abc(n):\n",
    "    print(n, end=' ')\n",
    "    if n == 2:\n",
    "        print(n, end=' ')\n",
    "        return\n",
    "\n",
    "    abc(n - 1)\n",
    "    print(n, end=' ')\n",
    "\n",
    "\n",
    "abc(7)\n"
   ]
  },
  {
   "cell_type": "code",
   "execution_count": 12,
   "metadata": {},
   "outputs": [
    {
     "name": "stdout",
     "output_type": "stream",
     "text": [
      "7 5 3 1 "
     ]
    }
   ],
   "source": [
    "# 정수하나 입력받고 2씩 더한 것을 내림차순으로 정렬하기\n",
    "def abc(n, k):\n",
    "\n",
    "    if n == 3:\n",
    "        print(k, end=' ')\n",
    "        return\n",
    "\n",
    "    abc(n + 1, k + 2)\n",
    "    print(k, end=' ')\n",
    "\n",
    "\n",
    "k = int(input())\n",
    "abc(0, k)\n"
   ]
  },
  {
   "cell_type": "code",
   "execution_count": 24,
   "metadata": {},
   "outputs": [
    {
     "name": "stdout",
     "output_type": "stream",
     "text": [
      "7 5 3 1 "
     ]
    }
   ],
   "source": [
    "def abc(n, k):\n",
    "\n",
    "    if n == 4:\n",
    "        return\n",
    "\n",
    "    abc(n + 1, k + 2)\n",
    "    print(k, end=' ')\n",
    "\n",
    "\n",
    "k = int(input())\n",
    "abc(0, k)\n"
   ]
  },
  {
   "cell_type": "code",
   "execution_count": 25,
   "metadata": {},
   "outputs": [
    {
     "name": "stdout",
     "output_type": "stream",
     "text": [
      "# # # # # "
     ]
    }
   ],
   "source": [
    "def abc(n):\n",
    "    print('#', end=' ')\n",
    "    if n == 2:\n",
    "        return\n",
    "\n",
    "    abc(n + 1)\n",
    "    print('#', end=' ')\n",
    "\n",
    "\n",
    "abc(0)\n"
   ]
  },
  {
   "cell_type": "code",
   "execution_count": 30,
   "metadata": {},
   "outputs": [
    {
     "name": "stdout",
     "output_type": "stream",
     "text": [
      "3 7 12 13 19 28 "
     ]
    }
   ],
   "source": [
    "# 누적합 출력\n",
    "arr = [3, 4, 5, 1, 6, 9]\n",
    "# 3 7 12 13 19 28\n",
    "k = len(arr)\n",
    "temp = 0\n",
    "\n",
    "\n",
    "def abc(n):\n",
    "    global arr, temp, k\n",
    "\n",
    "    if n == k:\n",
    "        return\n",
    "\n",
    "    temp += arr[n]\n",
    "    print(temp, end=' ')\n",
    "    abc(n + 1)\n",
    "\n",
    "\n",
    "abc(0)\n"
   ]
  },
  {
   "cell_type": "code",
   "execution_count": 31,
   "metadata": {},
   "outputs": [
    {
     "name": "stdout",
     "output_type": "stream",
     "text": [
      "3 7 12 13 19 28 "
     ]
    }
   ],
   "source": [
    "# 누적합 출력\n",
    "arr = [3, 4, 5, 1, 6, 9]\n",
    "# 3 7 12 13 19 28\n",
    "k = len(arr)\n",
    "\n",
    "\n",
    "def abc(n, temp):\n",
    "    global arr, k\n",
    "\n",
    "    if n == k:\n",
    "        return\n",
    "\n",
    "    temp1 = temp + arr[n]\n",
    "    print(temp1, end=' ')\n",
    "    abc(n + 1, temp1)\n",
    "\n",
    "\n",
    "abc(0, 0)\n"
   ]
  },
  {
   "cell_type": "code",
   "execution_count": 40,
   "metadata": {},
   "outputs": [
    {
     "name": "stdout",
     "output_type": "stream",
     "text": [
      "28 19 13 12 7 3 "
     ]
    }
   ],
   "source": [
    "# 누적합을 return 되면서 출력하기\n",
    "arr = [3, 4, 5, 1, 6, 9]\n",
    "# 28 19 13 12 7 3\n",
    "k = len(arr)\n",
    "temp = 0\n",
    "\n",
    "\n",
    "def abc(n, temp):\n",
    "    global arr, k\n",
    "\n",
    "    if n == k:\n",
    "        return\n",
    "\n",
    "    temp1 = temp + arr[n]\n",
    "    abc(n + 1, temp1)\n",
    "    print(temp1, end=' ')\n",
    "\n",
    "\n",
    "abc(0, 0)\n"
   ]
  },
  {
   "cell_type": "code",
   "execution_count": 48,
   "metadata": {},
   "outputs": [
    {
     "name": "stdout",
     "output_type": "stream",
     "text": [
      "28 19 13 12 7 3 "
     ]
    }
   ],
   "source": [
    "# 누적합을 return 되면서 출력하기\n",
    "arr = [3, 4, 5, 1, 6, 9]\n",
    "# 28 19 13 12 7 3\n",
    "k = len(arr)\n",
    "temp = 0\n",
    "\n",
    "\n",
    "def abc(n):\n",
    "    global arr, k, temp\n",
    "\n",
    "    if n == k:\n",
    "\n",
    "        return\n",
    "\n",
    "    temp = temp + arr[n]\n",
    "    abc(n + 1)\n",
    "    print(temp, end=' ')\n",
    "    temp = temp - arr[n]\n",
    "\n",
    "\n",
    "abc(0)\n"
   ]
  },
  {
   "cell_type": "code",
   "execution_count": null,
   "metadata": {},
   "outputs": [],
   "source": [
    "def abc(n):\n",
    "    if n == 2:\n",
    "        return\n",
    "\n",
    "    abc(n + 1)\n",
    "    abc(n + 1)\n",
    "    dummy = 1\n"
   ]
  },
  {
   "cell_type": "code",
   "execution_count": 9,
   "metadata": {},
   "outputs": [
    {
     "name": "stdout",
     "output_type": "stream",
     "text": [
      "# # # # # # # # # # # # "
     ]
    }
   ],
   "source": [
    "def abc(level):\n",
    "    if level == 2:\n",
    "        return\n",
    "\n",
    "    for i in range(2):\n",
    "        print('#', end=' ')\n",
    "        abc(level + 1)\n",
    "        print('#', end=' ')\n",
    "\n",
    "\n",
    "abc(0)\n"
   ]
  },
  {
   "cell_type": "code",
   "execution_count": 10,
   "metadata": {},
   "outputs": [
    {
     "name": "stdout",
     "output_type": "stream",
     "text": [
      "# # # # # # # # # # # # # "
     ]
    }
   ],
   "source": [
    "def abc(level):\n",
    "    print('#', end=' ')\n",
    "    if level == 2:\n",
    "        return\n",
    "\n",
    "    for i in range(2):\n",
    "        abc(level + 1)\n",
    "        print('#', end=' ')\n",
    "\n",
    "\n",
    "abc(0)\n"
   ]
  },
  {
   "cell_type": "code",
   "execution_count": null,
   "metadata": {},
   "outputs": [],
   "source": [
    "# 01111011110\n",
    "# 3\n"
   ]
  },
  {
   "cell_type": "code",
   "execution_count": 11,
   "metadata": {},
   "outputs": [
    {
     "name": "stdout",
     "output_type": "stream",
     "text": [
      "0 1 1 1 0 1 1 1 0 "
     ]
    }
   ],
   "source": [
    "def abc(level):\n",
    "    if level == 2:\n",
    "        return\n",
    "\n",
    "    for i in range(2):\n",
    "        print(level, end=' ')\n",
    "        abc(level + 1)\n",
    "\n",
    "    print(level, end=' ')\n",
    "\n",
    "\n",
    "abc(0)\n"
   ]
  },
  {
   "cell_type": "code",
   "execution_count": 12,
   "metadata": {},
   "outputs": [
    {
     "name": "stdout",
     "output_type": "stream",
     "text": [
      "1 1 0 "
     ]
    }
   ],
   "source": [
    "def abc(level):\n",
    "    if level == 2:\n",
    "        return\n",
    "\n",
    "    for i in range(2):\n",
    "        abc(level + 1)\n",
    "\n",
    "    print(level, end=' ')\n",
    "\n",
    "\n",
    "abc(0)\n"
   ]
  },
  {
   "cell_type": "code",
   "execution_count": 14,
   "metadata": {},
   "outputs": [
    {
     "name": "stdout",
     "output_type": "stream",
     "text": [
      "1 3 4 1 3 4 1 2 5 4 1 2 5 6 5 4 1 3 4 1 2 5 4 1 2 5 6 5 6 "
     ]
    }
   ],
   "source": [
    "def abc(level):\n",
    "    print(1, end=' ')\n",
    "    if level == 2:\n",
    "        print(2, end=' ')\n",
    "        return\n",
    "    print(3, end=' ')\n",
    "\n",
    "    for i in range(2):\n",
    "        print(4, end=' ')\n",
    "        abc(level + 1)\n",
    "        print(5, end=' ')\n",
    "\n",
    "    print(6, end=' ')\n",
    "\n",
    "\n",
    "abc(0)\n"
   ]
  },
  {
   "cell_type": "markdown",
   "metadata": {},
   "source": [
    "# 알고리즘 6일차"
   ]
  },
  {
   "attachments": {},
   "cell_type": "markdown",
   "metadata": {},
   "source": [
    "패턴 매칭에 사용되는 알고리즘들\n",
    "- 고지식한 패턴 검색 알고리즘\n",
    "- 카프-라빈 알고리즘\n",
    "- KMP 알고리즘\n",
    "- 보이어-무어 알고리즘"
   ]
  },
  {
   "attachments": {},
   "cell_type": "markdown",
   "metadata": {},
   "source": [
    "#### 고지식한 알고리즘"
   ]
  },
  {
   "cell_type": "code",
   "execution_count": 3,
   "metadata": {},
   "outputs": [
    {
     "data": {
      "text/plain": [
       "2"
      ]
     },
     "execution_count": 3,
     "metadata": {},
     "output_type": "execute_result"
    }
   ],
   "source": [
    "# 고지식한 알고리즘\n",
    "# - 본문 문자열을 처음부터 끝까지 차례대로 순회하면서 패턴 내의 문자들을 일일이 비교하는 방식으로 동작\n",
    "p = \"is\"\n",
    "t = \"This is a book~!\"\n",
    "M = len(p)\n",
    "N = len(t)\n",
    "\n",
    "\n",
    "def BruteForce(p, t):\n",
    "    global M, N\n",
    "    i = 0\n",
    "    j = 0\n",
    "\n",
    "    while j < M and i < N:\n",
    "        if t[i] != p[j]:\n",
    "            i = i - j  # 탐색을 시작했던 자리로 돌아간다.\n",
    "            j = -1\n",
    "        i = i + 1  # 탐색했던 곳 다음 곳으로 돌아가기\n",
    "        j = j + 1  # 첫 번째 짜리로 돌아가기\n",
    "\n",
    "    if j == M:\n",
    "        return i - M  # 찾은 곳의 위치를 반환한다. This에서 is의 위치를 찾아낸 것\n",
    "\n",
    "    return -1\n",
    "\n",
    "\n",
    "BruteForce(p, t)\n"
   ]
  },
  {
   "attachments": {},
   "cell_type": "markdown",
   "metadata": {},
   "source": [
    "고지식한 패턴 검색 알고리즘의 시간 복잡도  \n",
    "- 최악의 경우 시간복잡도는 텍스트의 모든 위치에서 패턴을 비교해야 하므로 $O(MN)$이 됨\n",
    "- 길이가 10000인 문자열에서 길이가 80인 패턴을 찾는다고 할 때, 최악의 경우 약 10000*80 번의 비교가 발생\n",
    "- 비교횟수를 줄이는 방법을 찾아야 한다."
   ]
  },
  {
   "attachments": {},
   "cell_type": "markdown",
   "metadata": {},
   "source": [
    "#### KMP 알고리즘\n",
    "- 불일치가 발생한 텍스트 스트링의 앞 부분에 어떤 문자가 있는지를 미리 알고 있으므로, 불일치가 발생한 앞 부분에 대하여 다시 비교하지 않고 매칭을 수행\n",
    "- 패턴을 전처리하여 배열 next\\[M\\]을 구해서 잘못된 시작을 최소화함\n",
    "    - next\\[M\\]: 불일치가 발생했을 경우 이동할 다음 위치\n",
    "- 시간 복잡도: $O(M + N)$"
   ]
  },
  {
   "attachments": {},
   "cell_type": "markdown",
   "metadata": {},
   "source": [
    "텍스트 abcdabcd와 패턴 abcdabc<u>e</u>f를 통해서 설명해보자  \n",
    "- 맨 앞의 abc와 실패 직전의 abc는 동일함을 이용할 수 있다.\n",
    "- 실패한 텍스트 문자와 패턴의 4번째를 비교한다.\n",
    "- 매칭이 실패했을 때 돌아갈 곳을 계산한다."
   ]
  },
  {
   "attachments": {},
   "cell_type": "markdown",
   "metadata": {},
   "source": [
    "#### 보이어-무어 알고리즘\n",
    "- 오른쪽에서 왼쪽으로 비교\n",
    "- 대부분의 상용 소트프웨어에서 채택하고 있는 알고리즘\n",
    "- 보이어-무어 알고리즘은 패턴에 오른쪽 끝에 있는 문자와 불일치하고 이 문자가 패턴 내 존재하지 않은 경우, 이동 거리는 무려 패턴의 길이 만큼이 된다.\n",
    "\n",
    "&nbsp;\n",
    "\n",
    "- 앞의 두 매칭 알고리즘들의 공통점 텍스트 문자열의 문자를 적어도 한 번씩 훑는다. 따라서 최선의 경우 $\\Omega(n)$\n",
    "- 보이어-무어 알고리즘은 테긋트 문자를 다 보지 않아도 된다.\n",
    "- 발상의 전환: 패턴의 오른쪽부터 비교한다.\n",
    "- 시간복잡도: $O(NM)$\n",
    "- 입력에 따라 다르지만 일반적으로 $O(n)$보다 시간이 덜 든다."
   ]
  },
  {
   "attachments": {},
   "cell_type": "markdown",
   "metadata": {},
   "source": [
    "문자열 매칭 알고리즘 비교\n",
    "- 찾고자 하는 문자열 패턴의 길이 m, 총 문자열의 길이 n\n",
    "- 고지식한 패턴 검색 알고리즘: $O(mn)$\n",
    "- 카빈-라프 알고리즘: $O(n)$\n",
    "- KMP알고리즘: $O(n)$"
   ]
  },
  {
   "attachments": {},
   "cell_type": "markdown",
   "metadata": {},
   "source": [
    "# 문제풀이 2일차"
   ]
  },
  {
   "cell_type": "code",
   "execution_count": null,
   "metadata": {},
   "outputs": [],
   "source": [
    "# 어딘가 단어가 들어갈 수 있을까\n",
    "def count(arr):\n",
    "    ans = 0\n",
    "    for lst in arr:\n",
    "        cnt = 0\n",
    "        for n in lst:\n",
    "            if n == 1:\n",
    "                cnt += 1\n",
    "            else:\n",
    "                if cnt == k:\n",
    "                    ans += 1\n",
    "                cnt = 0\n",
    "    return ans\n",
    "\n",
    "\n",
    "T = int(input())\n",
    "for test_case in range(1, T + 1):\n",
    "    N, K = map(int, input().split())\n",
    "    arr = [list(map(int, input().split())) + [0]\n",
    "           for _ in range(N)] + [[0] * (N + 1)]\n",
    "    arr_t = list(map(list, zip(*arr)))\n",
    "    ans = count(arr) + count(arr_t)\n",
    "    print(f\"#{test_case} {ans}\")\n"
   ]
  },
  {
   "cell_type": "code",
   "execution_count": null,
   "metadata": {},
   "outputs": [],
   "source": [
    "# 스도쿠 검증\n",
    "def solve(arr):\n",
    "    for lst in arr:             # 행을 체크\n",
    "        if len(set(lst)) != 9:    # 스도쿠 실패\n",
    "            return 0\n",
    "\n",
    "    arr_t = list(zip(*arr))\n",
    "    for lst in arr_t:           # 열을 체크\n",
    "        if len(set(lst)) != 9:    # 스도쿠 실패\n",
    "            return 0\n",
    "\n",
    "    for i in (0, 3, 6):\n",
    "        for j in (0, 3, 6):       # 3*3 격자\n",
    "            lst = arr[i][j:j+3]+arr[i+1][j:j+3]+arr[i+2][j:j+3]\n",
    "            if len(set(lst)) != 9:\n",
    "                return 0\n",
    "    return 1\n",
    "\n",
    "\n",
    "T = int(input())\n",
    "for test_case in range(1, T + 1):\n",
    "    arr = [list(map(int, input().split())) for _ in range(9)]\n",
    "\n",
    "    ans = solve(arr)\n",
    "    print(f'#{test_case} {ans}')\n"
   ]
  },
  {
   "cell_type": "code",
   "execution_count": null,
   "metadata": {},
   "outputs": [],
   "source": [
    "# 숫자 배열 회전\n",
    "T = int(input())\n",
    "for test_case in range(1, T + 1):\n",
    "    N = int(input())\n",
    "    arr = [input().split() for _ in range(N)]\n",
    "    a1 = [[0] * N for _ in range(N)]\n",
    "    a2 = [[0] * N for _ in range(N)]\n",
    "    a3 = [[0] * N for _ in range(N)]\n",
    "\n",
    "    # 회전각도에 따른 위치값을 저장\n",
    "    for i in range(N):\n",
    "        for j in range(N):\n",
    "            a1[i][j] = arr[N - 1 - j][i]\n",
    "            a2[i][j] = arr[N - 1 - i][N - 1 - j]\n",
    "            a3[i][j] = arr[j][N - 1 - i]\n",
    "\n",
    "    print(f\"#{test_case}\")\n",
    "    for a, b, c in zip(a1, a2, a3):\n",
    "        print(f\"{''.join(a)} {''.join(b)} {''.join(c)}\")\n"
   ]
  },
  {
   "cell_type": "code",
   "execution_count": null,
   "metadata": {},
   "outputs": [],
   "source": [
    "# 숫자 배열 회전\n",
    "T = int(input())\n",
    "for test_case in range(1, T + 1):\n",
    "    N = int(input())\n",
    "    arr = [input().split() for _ in range(N)]\n",
    "    arr_t = list(map(list, zip(*arr)))\n",
    "    a1 = [[0] * N for _ in range(N)]\n",
    "    a2 = [[0] * N for _ in range(N)]\n",
    "    a3 = [[0] * N for _ in range(N)]\n",
    "\n",
    "    # 회전각도에 따른 위치값을 저장\n",
    "    for i in range(N):\n",
    "        for j in range(N):\n",
    "            # a1[i][j] = arr[N - 1 - j][i]\n",
    "            a2[i][j] = arr[N - 1 - i][N - 1 - j]\n",
    "            a3[i][j] = arr[j][N - 1 - i]\n",
    "\n",
    "    print(f\"#{test_case}\")\n",
    "    for i in range(N):\n",
    "        print(\n",
    "            f\"{''.join(arr_t[i][::-1])} {''.join(arr[N - 1 - i][::-1])} {''.join(arr_t[N - 1 - i])}\")\n"
   ]
  },
  {
   "cell_type": "code",
   "execution_count": null,
   "metadata": {},
   "outputs": [],
   "source": [
    "# 사다리타기2\n",
    "\n",
    "T = 10\n",
    "for test_case in range(1, T + 1):\n",
    "    _ = int(input())\n",
    "    arr = [[0] + list(map(int, input().split())) + [0] for _ in range(100)]\n",
    "    mn = 100*100\n",
    "    for sj in range(1, 101):\n",
    "        # [1] 시작지점 찾기\n",
    "        si = 0\n",
    "        if arr[si][sj] != 1:\n",
    "            continue\n",
    "        cnt, dj = 0, 0\n",
    "        ci, cj = si, sj\n",
    "        while ci < 99:\n",
    "            cnt += 1\n",
    "            if dj == 0:\n",
    "                if arr[ci][cj-1] == 1:  # 좌측\n",
    "                    dj = -1\n",
    "                    cj -= 1\n",
    "                elif arr[ci][cj+1] == 1:  # 우측\n",
    "                    dj = 1\n",
    "                    cj += 1\n",
    "                else:\n",
    "                    ci += 1\n",
    "            else:\n",
    "                if arr[ci][cj+dj] == 1:\n",
    "                    cj += dj\n",
    "                else:   # 진행방향이 막힌경우 아래로\n",
    "                    dj = 0\n",
    "                    ci += 1\n",
    "        if mn >= cnt:\n",
    "            mn, ans = cnt, sj-1\n",
    "\n",
    "    print(f'#{test_case} {ans}')\n"
   ]
  },
  {
   "cell_type": "markdown",
   "metadata": {},
   "source": [
    "# 오프라인 7일차"
   ]
  },
  {
   "cell_type": "code",
   "execution_count": 22,
   "metadata": {},
   "outputs": [
    {
     "name": "stdout",
     "output_type": "stream",
     "text": [
      "3 7 12 13 19 28 19 13 12 7 3 "
     ]
    }
   ],
   "source": [
    "arr = [3, 4, 5, 1, 6, 9]\n",
    "# 누적합 출력\n",
    "# s = 0\n",
    "\n",
    "\n",
    "def ftn(n, s):\n",
    "    global arr\n",
    "\n",
    "    print(s, end=' ')\n",
    "    if n == 5:\n",
    "        return\n",
    "\n",
    "    ftn(n + 1, s + arr[n + 1])\n",
    "    print(s, end=' ')\n",
    "\n",
    "\n",
    "ftn(0, 3)\n"
   ]
  },
  {
   "cell_type": "code",
   "execution_count": 24,
   "metadata": {},
   "outputs": [
    {
     "name": "stdout",
     "output_type": "stream",
     "text": [
      "3 7 12 13 19 28 19 13 12 7 3 "
     ]
    }
   ],
   "source": [
    "arr = [3, 4, 5, 1, 6, 9]\n",
    "s = arr[0]\n",
    "\n",
    "\n",
    "def ftn(n):\n",
    "    global s, arr\n",
    "    print(s, end=' ')\n",
    "\n",
    "    if n == 5:\n",
    "        return\n",
    "\n",
    "    s += arr[n + 1]\n",
    "    ftn(n + 1)\n",
    "    s -= arr[n + 1]\n",
    "    print(s, end=' ')\n",
    "\n",
    "\n",
    "ftn(0)\n"
   ]
  },
  {
   "cell_type": "code",
   "execution_count": 26,
   "metadata": {},
   "outputs": [
    {
     "name": "stdout",
     "output_type": "stream",
     "text": [
      "3 1 1 2 "
     ]
    }
   ],
   "source": [
    "# 개구리 점프\n",
    "# 3 1 1 2\n",
    "arr = [2, 0, 1, 1, 3, 5, 1]\n",
    "\n",
    "\n",
    "def ftn(idx):\n",
    "    if idx >= len(arr):\n",
    "        return\n",
    "\n",
    "    ftn(idx + arr[idx])\n",
    "    print(arr[idx], end=' ')\n",
    "\n",
    "\n",
    "ftn(0)\n"
   ]
  },
  {
   "cell_type": "code",
   "execution_count": 1,
   "metadata": {},
   "outputs": [
    {
     "name": "stdout",
     "output_type": "stream",
     "text": [
      "333\n",
      "337\n",
      "331\n",
      "332\n",
      "373\n",
      "377\n",
      "371\n",
      "372\n",
      "313\n",
      "317\n",
      "311\n",
      "312\n",
      "323\n",
      "327\n",
      "321\n",
      "322\n",
      "733\n",
      "737\n",
      "731\n",
      "732\n",
      "773\n",
      "777\n",
      "771\n",
      "772\n",
      "713\n",
      "717\n",
      "711\n",
      "712\n",
      "723\n",
      "727\n",
      "721\n",
      "722\n",
      "133\n",
      "137\n",
      "131\n",
      "132\n",
      "173\n",
      "177\n",
      "171\n",
      "172\n",
      "113\n",
      "117\n",
      "111\n",
      "112\n",
      "123\n",
      "127\n",
      "121\n",
      "122\n",
      "233\n",
      "237\n",
      "231\n",
      "232\n",
      "273\n",
      "277\n",
      "271\n",
      "272\n",
      "213\n",
      "217\n",
      "211\n",
      "212\n",
      "223\n",
      "227\n",
      "221\n",
      "222\n"
     ]
    }
   ],
   "source": [
    "lst = ['3', '7', '1', '2']\n",
    "\n",
    "\n",
    "def ftn(n, st):\n",
    "\n",
    "    if n == 3:  # level\n",
    "        print(st)\n",
    "        return\n",
    "\n",
    "    for i in lst:  # branch\n",
    "        ftn(n + 1, st + i)\n",
    "\n",
    "\n",
    "ftn(0, '')\n"
   ]
  },
  {
   "cell_type": "code",
   "execution_count": 2,
   "metadata": {},
   "outputs": [
    {
     "name": "stdout",
     "output_type": "stream",
     "text": [
      "9\n",
      "13\n",
      "7\n",
      "8\n",
      "13\n",
      "17\n",
      "11\n",
      "12\n",
      "7\n",
      "11\n",
      "5\n",
      "6\n",
      "8\n",
      "12\n",
      "6\n",
      "7\n",
      "13\n",
      "17\n",
      "11\n",
      "12\n",
      "17\n",
      "21\n",
      "15\n",
      "16\n",
      "11\n",
      "15\n",
      "9\n",
      "10\n",
      "12\n",
      "16\n",
      "10\n",
      "11\n",
      "7\n",
      "11\n",
      "5\n",
      "6\n",
      "11\n",
      "15\n",
      "9\n",
      "10\n",
      "5\n",
      "9\n",
      "3\n",
      "4\n",
      "6\n",
      "10\n",
      "4\n",
      "5\n",
      "8\n",
      "12\n",
      "6\n",
      "7\n",
      "12\n",
      "16\n",
      "10\n",
      "11\n",
      "6\n",
      "10\n",
      "4\n",
      "5\n",
      "7\n",
      "11\n",
      "5\n",
      "6\n"
     ]
    }
   ],
   "source": [
    "lst = [3, 7, 1, 2]\n",
    "\n",
    "\n",
    "def ftn(n, s):\n",
    "\n",
    "    if n == 3:  # level\n",
    "        print(s)\n",
    "        return\n",
    "\n",
    "    for i in lst:  # branch\n",
    "        ftn(n + 1, s + i)\n",
    "\n",
    "\n",
    "ftn(0, 0)\n"
   ]
  },
  {
   "cell_type": "code",
   "execution_count": 3,
   "metadata": {},
   "outputs": [
    {
     "name": "stdout",
     "output_type": "stream",
     "text": [
      "9\n",
      "13\n",
      "7\n",
      "8\n",
      "13\n",
      "17\n",
      "11\n",
      "12\n",
      "7\n",
      "11\n",
      "5\n",
      "6\n",
      "8\n",
      "12\n",
      "6\n",
      "7\n",
      "13\n",
      "17\n",
      "11\n",
      "12\n",
      "17\n",
      "21\n",
      "15\n",
      "16\n",
      "11\n",
      "15\n",
      "9\n",
      "10\n",
      "12\n",
      "16\n",
      "10\n",
      "11\n",
      "7\n",
      "11\n",
      "5\n",
      "6\n",
      "11\n",
      "15\n",
      "9\n",
      "10\n",
      "5\n",
      "9\n",
      "3\n",
      "4\n",
      "6\n",
      "10\n",
      "4\n",
      "5\n",
      "8\n",
      "12\n",
      "6\n",
      "7\n",
      "12\n",
      "16\n",
      "10\n",
      "11\n",
      "6\n",
      "10\n",
      "4\n",
      "5\n",
      "7\n",
      "11\n",
      "5\n",
      "6\n"
     ]
    }
   ],
   "source": [
    "arr = [3, 7, 1, 2]\n",
    "s = 0\n",
    "\n",
    "\n",
    "def abc(level):\n",
    "    global s\n",
    "    if level == 3:\n",
    "        print(s)\n",
    "        return\n",
    "\n",
    "    for i in range(4):\n",
    "        s += arr[i]\n",
    "        abc(level + 1)\n",
    "        s -= arr[i]\n",
    "\n",
    "\n",
    "abc(0)\n"
   ]
  },
  {
   "cell_type": "code",
   "execution_count": 15,
   "metadata": {},
   "outputs": [
    {
     "name": "stdout",
     "output_type": "stream",
     "text": [
      "35\n"
     ]
    }
   ],
   "source": [
    "# n개의 카드 묶음에서 각각 한 개씩 뽑아서 더했을 때 합이 20이 넘는 경우\n",
    "arr = [2, 7, 1, 4, 3]\n",
    "cnt = 0\n",
    "k = int(input())\n",
    "\n",
    "\n",
    "def ftn(n, lst):\n",
    "    global arr, cnt, k\n",
    "\n",
    "    if n == k:\n",
    "        if sum(lst) > 20:\n",
    "            cnt += 1\n",
    "        return\n",
    "\n",
    "    for i in arr:\n",
    "        ftn(n + 1, lst + [i])\n",
    "\n",
    "\n",
    "ftn(0, [])\n",
    "print(cnt)\n"
   ]
  },
  {
   "cell_type": "code",
   "execution_count": 20,
   "metadata": {},
   "outputs": [
    {
     "name": "stdout",
     "output_type": "stream",
     "text": [
      "3\n"
     ]
    }
   ],
   "source": [
    "n = int(input())\n",
    "lst = [10, 70, 110]\n",
    "s = []\n",
    "\n",
    "\n",
    "def abc(level, changes):\n",
    "    global s, lst\n",
    "    if changes < 0:\n",
    "        return\n",
    "\n",
    "    if changes == 0:\n",
    "        s.append(level)\n",
    "        return\n",
    "\n",
    "    for i in lst:\n",
    "        abc(level + 1, changes - i)\n",
    "\n",
    "\n",
    "abc(0, n)\n",
    "print(min(s))\n"
   ]
  },
  {
   "cell_type": "code",
   "execution_count": 23,
   "metadata": {},
   "outputs": [
    {
     "name": "stdout",
     "output_type": "stream",
     "text": [
      "AA\n",
      "AB\n",
      "AC\n",
      "BA\n",
      "BB\n",
      "BC\n",
      "CA\n",
      "CB\n",
      "CC\n"
     ]
    }
   ],
   "source": [
    "lst = \"ABC\"\n",
    "\n",
    "\n",
    "def abc(n, st):\n",
    "    if n == 2:\n",
    "        print(st)\n",
    "        return\n",
    "\n",
    "    for i in lst:\n",
    "        abc(n + 1, st + i)\n",
    "\n",
    "\n",
    "abc(0, '')\n"
   ]
  },
  {
   "cell_type": "code",
   "execution_count": 25,
   "metadata": {},
   "outputs": [
    {
     "name": "stdout",
     "output_type": "stream",
     "text": [
      "111\n",
      "112\n",
      "113\n",
      "114\n",
      "115\n",
      "116\n",
      "121\n",
      "122\n",
      "123\n",
      "124\n",
      "125\n",
      "126\n",
      "131\n",
      "132\n",
      "133\n",
      "134\n",
      "135\n",
      "136\n",
      "141\n",
      "142\n",
      "143\n",
      "144\n",
      "145\n",
      "146\n",
      "151\n",
      "152\n",
      "153\n",
      "154\n",
      "155\n",
      "156\n",
      "161\n",
      "162\n",
      "163\n",
      "164\n",
      "165\n",
      "166\n",
      "211\n",
      "212\n",
      "213\n",
      "214\n",
      "215\n",
      "216\n",
      "221\n",
      "222\n",
      "223\n",
      "224\n",
      "225\n",
      "226\n",
      "231\n",
      "232\n",
      "233\n",
      "234\n",
      "235\n",
      "236\n",
      "241\n",
      "242\n",
      "243\n",
      "244\n",
      "245\n",
      "246\n",
      "251\n",
      "252\n",
      "253\n",
      "254\n",
      "255\n",
      "256\n",
      "261\n",
      "262\n",
      "263\n",
      "264\n",
      "265\n",
      "266\n",
      "311\n",
      "312\n",
      "313\n",
      "314\n",
      "315\n",
      "316\n",
      "321\n",
      "322\n",
      "323\n",
      "324\n",
      "325\n",
      "326\n",
      "331\n",
      "332\n",
      "333\n",
      "334\n",
      "335\n",
      "336\n",
      "341\n",
      "342\n",
      "343\n",
      "344\n",
      "345\n",
      "346\n",
      "351\n",
      "352\n",
      "353\n",
      "354\n",
      "355\n",
      "356\n",
      "361\n",
      "362\n",
      "363\n",
      "364\n",
      "365\n",
      "366\n",
      "411\n",
      "412\n",
      "413\n",
      "414\n",
      "415\n",
      "416\n",
      "421\n",
      "422\n",
      "423\n",
      "424\n",
      "425\n",
      "426\n",
      "431\n",
      "432\n",
      "433\n",
      "434\n",
      "435\n",
      "436\n",
      "441\n",
      "442\n",
      "443\n",
      "444\n",
      "445\n",
      "446\n",
      "451\n",
      "452\n",
      "453\n",
      "454\n",
      "455\n",
      "456\n",
      "461\n",
      "462\n",
      "463\n",
      "464\n",
      "465\n",
      "466\n",
      "511\n",
      "512\n",
      "513\n",
      "514\n",
      "515\n",
      "516\n",
      "521\n",
      "522\n",
      "523\n",
      "524\n",
      "525\n",
      "526\n",
      "531\n",
      "532\n",
      "533\n",
      "534\n",
      "535\n",
      "536\n",
      "541\n",
      "542\n",
      "543\n",
      "544\n",
      "545\n",
      "546\n",
      "551\n",
      "552\n",
      "553\n",
      "554\n",
      "555\n",
      "556\n",
      "561\n",
      "562\n",
      "563\n",
      "564\n",
      "565\n",
      "566\n",
      "611\n",
      "612\n",
      "613\n",
      "614\n",
      "615\n",
      "616\n",
      "621\n",
      "622\n",
      "623\n",
      "624\n",
      "625\n",
      "626\n",
      "631\n",
      "632\n",
      "633\n",
      "634\n",
      "635\n",
      "636\n",
      "641\n",
      "642\n",
      "643\n",
      "644\n",
      "645\n",
      "646\n",
      "651\n",
      "652\n",
      "653\n",
      "654\n",
      "655\n",
      "656\n",
      "661\n",
      "662\n",
      "663\n",
      "664\n",
      "665\n",
      "666\n"
     ]
    }
   ],
   "source": [
    "dice = \"123456\"\n",
    "\n",
    "\n",
    "def abc(n, st):\n",
    "    global k\n",
    "\n",
    "    if n == k:\n",
    "        print(st)\n",
    "        return\n",
    "\n",
    "    for i in dice:\n",
    "        abc(n + 1, st + i)\n",
    "\n",
    "\n",
    "k = int(input())\n",
    "abc(0, '')\n"
   ]
  },
  {
   "cell_type": "markdown",
   "metadata": {},
   "source": [
    "# 알고리즘 8일차"
   ]
  },
  {
   "attachments": {},
   "cell_type": "markdown",
   "metadata": {},
   "source": [
    "### 스택\n",
    "- 물건을 쌓아 올리듯 자료를 쌓아 올린 형태의 자료구조\n",
    "- 스택에 저잫된 자료는 선형 구조를 갖는다.\n",
    "    - 선형구조: 자료 간의 관계가 1대 1의 관계를 갖는다.\n",
    "    - 비선형구조: 자료 간의 관계가 1대 n의 관계를 갖는다. ( ex) tree )\n",
    "- 스택에 자료를 삽입하거나 스택에서 자료를 꺼낼 수 있다.\n",
    "- 마지막에 삽입한 자료를 가장 먼저 꺼낸다. 후입선출(FILO, LIFO)\n",
    "\n",
    "&nbsp;\n",
    "\n",
    "스택을 프로그램에서 구현하기 위해서 필요한 자료구조와 연산\n",
    "- 자료구조: 자료를 선형으로 저장할 저장소\n",
    "    - 배열을 사용할 수 있다.\n",
    "    - 자저장소 자체를 스택이라 부르기도 한다.\n",
    "    - 스택에서 마지막 삽입된 원소의 위치를 top이라 부른다.\n",
    "\n",
    "&nbsp;\n",
    "\n",
    "연산\n",
    "- 삽입: 저장소에 자료를 저장한다.(push)\n",
    "- 삭제: 저장소에서 자료를 꺼낸다. (pop)\n",
    "- 스택이 공백인지 아닌지를 확인한다. (.isEmpty)\n",
    "- 스택의 top에 있는 item(원소)을 반환하는 연산 (.peek)\n"
   ]
  },
  {
   "cell_type": "code",
   "execution_count": null,
   "metadata": {},
   "outputs": [],
   "source": [
    "# 참고\n",
    "def push(item, size):\n",
    "    global top\n",
    "    top += 1\n",
    "    if top == size:\n",
    "        print(\"overflow!\")\n",
    "    else:\n",
    "        stack[top] = item\n",
    "\n",
    "\n",
    "size = 10\n",
    "stack = [0] * size\n",
    "top = -1\n",
    "\n",
    "push(10, size)\n",
    "top += 1  # push(20)\n",
    "stack[top] = 20\n"
   ]
  },
  {
   "cell_type": "code",
   "execution_count": null,
   "metadata": {},
   "outputs": [],
   "source": [
    "# 스택의 pop 알고리즘\n",
    "def pop():\n",
    "    if len(s) == 0:\n",
    "        # underflow\n",
    "        return\n",
    "    else:\n",
    "        return s.pop()\n",
    "\n",
    " # 참고\n",
    "\n",
    "\n",
    "def pop():\n",
    "    global top\n",
    "\n",
    "    if top == -1:\n",
    "        print(\"underflow\")\n",
    "        return 0\n",
    "    else:\n",
    "        top -= 1\n",
    "        return stack[top + 1]\n",
    "\n",
    "\n",
    "print(pop())\n",
    "\n",
    "if top > -1:\n",
    "    top -= 1\n",
    "    print(stack[top + 1])\n"
   ]
  },
  {
   "attachments": {},
   "cell_type": "markdown",
   "metadata": {},
   "source": [
    "Fucntion Call  \n",
    "- 프로그램에서 함수 호출과 복귀에 따른 수행 순서를 관리\n",
    "- 가장 마지막에 호출된 함수가 가장 먼저 실행을 완료하고 복귀하는 후입선출의 구조, 후입선출 구조의 스택을 이용하여 수행순서 관리\n",
    "- 함수의 호출이 발생하면 호출한 하수 수행에 필요한 지역변수, 매개변수 및 수행 후 복귀할 주소 등의 정볼르 스택 프레임에 저장하여 시스템 스택에 삽입\n",
    "- 함수의 실행이 끝나면 시스템 스택의 top원소(스택 프레임)를 삭제(pop)하면서 프레임에 저장되어 있던 복귀주소를 확인하고 복귀\n",
    "- 함수 호출과 복귀에 따라 이 과정을 반복하여 전체 프로그램 수행이 종료되면 시스템 스택은 공백 스택이 된다."
   ]
  },
  {
   "cell_type": "markdown",
   "metadata": {},
   "source": [
    "# 오프라인 8일차"
   ]
  },
  {
   "cell_type": "code",
   "execution_count": 1,
   "metadata": {},
   "outputs": [
    {
     "name": "stdout",
     "output_type": "stream",
     "text": [
      "11\n",
      "12\n",
      "13\n",
      "14\n",
      "15\n",
      "16\n",
      "21\n",
      "22\n",
      "23\n",
      "24\n",
      "25\n",
      "26\n",
      "31\n",
      "32\n",
      "33\n",
      "34\n",
      "35\n",
      "36\n",
      "41\n",
      "42\n",
      "43\n",
      "44\n",
      "45\n",
      "46\n",
      "51\n",
      "52\n",
      "53\n",
      "54\n",
      "55\n",
      "56\n",
      "61\n",
      "62\n",
      "63\n",
      "64\n",
      "65\n",
      "66\n"
     ]
    }
   ],
   "source": [
    "def dfs(n, st):\n",
    "    global k\n",
    "\n",
    "    if n == k:\n",
    "        print(st)\n",
    "        return\n",
    "\n",
    "    for i in range(1, 7):\n",
    "        dfs(n + 1, st + str(i))\n",
    "\n",
    "\n",
    "k = int(input())\n",
    "dfs(0, '')\n"
   ]
  },
  {
   "attachments": {},
   "cell_type": "markdown",
   "metadata": {},
   "source": [
    "- 순열 $nPr$, 중복순열 $n\\Pi r$\n",
    "- 가지치기\n",
    "- 조합 $nCr$, 중복 조합 $nHr$"
   ]
  },
  {
   "cell_type": "code",
   "execution_count": 13,
   "metadata": {},
   "outputs": [
    {
     "name": "stdout",
     "output_type": "stream",
     "text": [
      "123\n",
      "124\n",
      "132\n",
      "134\n",
      "142\n",
      "143\n",
      "213\n",
      "214\n",
      "231\n",
      "234\n",
      "241\n",
      "243\n",
      "312\n",
      "314\n",
      "321\n",
      "324\n",
      "341\n",
      "342\n",
      "412\n",
      "413\n",
      "421\n",
      "423\n",
      "431\n",
      "432\n"
     ]
    }
   ],
   "source": [
    "def dfs(n, st):\n",
    "    global k\n",
    "\n",
    "    if n == k:\n",
    "        print(st)\n",
    "        return\n",
    "\n",
    "    for i in range(1, 5):\n",
    "        if str(i) not in st:\n",
    "            dfs(n + 1, st + str(i))\n",
    "\n",
    "\n",
    "k = int(input())\n",
    "dfs(0, '')\n"
   ]
  },
  {
   "cell_type": "code",
   "execution_count": 9,
   "metadata": {},
   "outputs": [
    {
     "name": "stdout",
     "output_type": "stream",
     "text": [
      "1 2 3 \n",
      "1 2 4 \n",
      "1 3 2 \n",
      "1 3 4 \n",
      "1 4 2 \n",
      "1 4 3 \n",
      "2 1 3 \n",
      "2 1 4 \n",
      "2 3 1 \n",
      "2 3 4 \n",
      "2 4 1 \n",
      "2 4 3 \n",
      "3 1 2 \n",
      "3 1 4 \n",
      "3 2 1 \n",
      "3 2 4 \n",
      "3 4 1 \n",
      "3 4 2 \n",
      "4 1 2 \n",
      "4 1 3 \n",
      "4 2 1 \n",
      "4 2 3 \n",
      "4 3 1 \n",
      "4 3 2 \n"
     ]
    }
   ],
   "source": [
    "n = 3\n",
    "dice = [1, 2, 3, 4]\n",
    "path = ['']*n\n",
    "used = [0]*4\n",
    "\n",
    "\n",
    "def abc(level):\n",
    "\n",
    "    if level == n:\n",
    "        for i in range(n):\n",
    "            print(path[i], end=' ')\n",
    "        print()\n",
    "        return\n",
    "\n",
    "    for i in range(4):\n",
    "        if used[i]:\n",
    "            continue  #\n",
    "        path[level] = dice[i]\n",
    "        used[i] = 1               #\n",
    "        abc(level+1)\n",
    "        # path[level] =' '\n",
    "        used[i] = 0               #\n",
    "\n",
    "\n",
    "abc(0)\n"
   ]
  },
  {
   "cell_type": "code",
   "execution_count": 29,
   "metadata": {},
   "outputs": [
    {
     "name": "stdout",
     "output_type": "stream",
     "text": [
      "1 1 1 \n",
      "1 1 2 \n",
      "1 1 3 \n",
      "1 1 4 \n",
      "1 2 1 \n",
      "1 2 2 \n",
      "1 2 3 \n",
      "1 2 4 \n",
      "1 3 1 \n",
      "1 3 2 \n",
      "1 3 3 \n",
      "1 3 4 \n",
      "1 4 1 \n",
      "1 4 2 \n",
      "1 4 3 \n",
      "1 4 4 \n",
      "3 1 1 \n",
      "3 1 2 \n",
      "3 1 3 \n",
      "3 1 4 \n",
      "3 2 1 \n",
      "3 2 2 \n",
      "3 2 3 \n",
      "3 2 4 \n",
      "3 3 1 \n",
      "3 3 2 \n",
      "3 3 3 \n",
      "3 3 4 \n",
      "3 4 1 \n",
      "3 4 2 \n",
      "3 4 3 \n",
      "3 4 4 \n",
      "4 1 1 \n",
      "4 1 2 \n",
      "4 1 3 \n",
      "4 1 4 \n",
      "4 2 1 \n",
      "4 2 2 \n",
      "4 2 3 \n",
      "4 2 4 \n",
      "4 3 1 \n",
      "4 3 2 \n",
      "4 3 3 \n",
      "4 3 4 \n",
      "4 4 1 \n",
      "4 4 2 \n",
      "4 4 3 \n",
      "4 4 4 \n"
     ]
    }
   ],
   "source": [
    "def dfs(n):\n",
    "    global k\n",
    "    if n == k:\n",
    "        for i in path:\n",
    "            print(i, end=' ')\n",
    "        print()\n",
    "        return\n",
    "\n",
    "    for i in range(1, 5):\n",
    "        if n == 0 and i == 2:\n",
    "            continue\n",
    "        path[n] = i\n",
    "        dfs(n + 1)\n",
    "\n",
    "\n",
    "k = int(input())\n",
    "path = ['']*k\n",
    "dfs(0)\n"
   ]
  },
  {
   "cell_type": "code",
   "execution_count": 31,
   "metadata": {},
   "outputs": [
    {
     "name": "stdout",
     "output_type": "stream",
     "text": [
      "1 1 1 \n",
      "1 1 2 \n",
      "1 1 3 \n",
      "1 1 4 \n",
      "1 2 1 \n",
      "1 2 2 \n",
      "1 2 3 \n",
      "1 2 4 \n",
      "1 3 1 \n",
      "1 3 2 \n",
      "1 3 3 \n",
      "1 3 4 \n",
      "1 4 1 \n",
      "1 4 2 \n",
      "1 4 3 \n",
      "1 4 4 \n",
      "3 1 1 \n",
      "3 1 2 \n",
      "3 1 3 \n",
      "3 1 4 \n",
      "3 2 1 \n",
      "3 2 2 \n",
      "3 2 3 \n",
      "3 2 4 \n",
      "3 3 1 \n",
      "3 3 2 \n",
      "3 3 3 \n",
      "3 3 4 \n",
      "3 4 1 \n",
      "3 4 2 \n",
      "3 4 3 \n",
      "3 4 4 \n",
      "4 1 1 \n",
      "4 1 2 \n",
      "4 1 3 \n",
      "4 1 4 \n",
      "4 2 1 \n",
      "4 2 2 \n",
      "4 2 3 \n",
      "4 2 4 \n",
      "4 3 1 \n",
      "4 3 2 \n",
      "4 3 3 \n",
      "4 3 4 \n",
      "4 4 1 \n",
      "4 4 2 \n",
      "4 4 3 \n",
      "4 4 4 \n"
     ]
    }
   ],
   "source": [
    "def dfs(n):\n",
    "    global k\n",
    "\n",
    "    if path[0] == 2:\n",
    "        return\n",
    "\n",
    "    if n == k:\n",
    "        for i in path:\n",
    "            print(i, end=' ')\n",
    "        print()\n",
    "        return\n",
    "\n",
    "    for i in range(1, 5):\n",
    "        path[n] = i\n",
    "        dfs(n + 1)\n",
    "\n",
    "\n",
    "k = int(input())\n",
    "path = ['']*k\n",
    "dfs(0)\n"
   ]
  },
  {
   "cell_type": "code",
   "execution_count": 35,
   "metadata": {},
   "outputs": [
    {
     "name": "stdout",
     "output_type": "stream",
     "text": [
      "A A A \n",
      "A A B \n",
      "A A C \n",
      "A B A \n",
      "A B B \n",
      "A B C \n",
      "A C A \n",
      "A C B \n",
      "A C C \n",
      "B A A \n",
      "B A B \n",
      "B A C \n",
      "B B A \n",
      "B B B \n",
      "B B C \n",
      "B C A \n",
      "B C B \n",
      "B C C \n"
     ]
    }
   ],
   "source": [
    "def dfs(n):\n",
    "    global k\n",
    "\n",
    "    if path[0] == 'C':\n",
    "        return\n",
    "\n",
    "    if n == k:\n",
    "        for i in path:\n",
    "            print(i, end=' ')\n",
    "        print()\n",
    "        return\n",
    "\n",
    "    for i in 'ABC':\n",
    "        path[n] = i\n",
    "        dfs(n + 1)\n",
    "\n",
    "\n",
    "k = int(input())\n",
    "path = ['']*k\n",
    "dfs(0)\n"
   ]
  },
  {
   "cell_type": "code",
   "execution_count": 43,
   "metadata": {},
   "outputs": [
    {
     "name": "stdout",
     "output_type": "stream",
     "text": [
      "A A A \n",
      "A A C \n",
      "A C A \n",
      "A C C \n",
      "C A A \n",
      "C A C \n",
      "C C A \n",
      "C C C \n"
     ]
    }
   ],
   "source": [
    "def dfs(n):\n",
    "    global k\n",
    "\n",
    "    if n == k:\n",
    "        for i in path:\n",
    "            print(i, end=' ')\n",
    "        print()\n",
    "        return\n",
    "\n",
    "    for i in 'ABCD':\n",
    "        if i != 'B':\n",
    "            path[n] = i\n",
    "            dfs(n + 1)\n",
    "\n",
    "\n",
    "k = int(input())\n",
    "path = ['']*k\n",
    "dfs(0)\n"
   ]
  },
  {
   "cell_type": "code",
   "execution_count": 51,
   "metadata": {},
   "outputs": [
    {
     "name": "stdout",
     "output_type": "stream",
     "text": [
      "A A A \n",
      "A A C \n",
      "A A D \n",
      "A C A \n",
      "A C C \n",
      "A C D \n",
      "A D A \n",
      "A D C \n",
      "A D D \n",
      "C A A \n",
      "C A C \n",
      "C A D \n",
      "C C A \n",
      "C C C \n",
      "C C D \n",
      "C D A \n",
      "C D C \n",
      "C D D \n",
      "D A A \n",
      "D A C \n",
      "D A D \n",
      "D C A \n",
      "D C C \n",
      "D C D \n",
      "D D A \n",
      "D D C \n",
      "D D D \n"
     ]
    }
   ],
   "source": [
    "def dfs(n):\n",
    "    global k\n",
    "\n",
    "    if n > 0 and path[n - 1] == 'B':\n",
    "        return\n",
    "\n",
    "    if n == k:\n",
    "        for i in path:\n",
    "            print(i, end=' ')\n",
    "        print()\n",
    "        return\n",
    "\n",
    "    for i in 'ABCD':\n",
    "        path[n] = i\n",
    "        dfs(n + 1)\n",
    "\n",
    "\n",
    "k = int(input())\n",
    "path = ['']*k\n",
    "dfs(0)\n"
   ]
  },
  {
   "cell_type": "code",
   "execution_count": 66,
   "metadata": {},
   "outputs": [
    {
     "name": "stdout",
     "output_type": "stream",
     "text": [
      "A B A \n",
      "A B C \n",
      "A B D \n",
      "A C A \n",
      "A C B \n",
      "A C D \n",
      "A D A \n",
      "A D B \n",
      "A D C \n",
      "B A B \n",
      "B A C \n",
      "B A D \n",
      "B C A \n",
      "B C B \n",
      "B C D \n",
      "B D A \n",
      "B D B \n",
      "B D C \n",
      "C A B \n",
      "C A C \n",
      "C A D \n",
      "C B A \n",
      "C B C \n",
      "C B D \n",
      "C D A \n",
      "C D B \n",
      "C D C \n",
      "D A B \n",
      "D A C \n",
      "D A D \n",
      "D B A \n",
      "D B C \n",
      "D B D \n",
      "D C A \n",
      "D C B \n",
      "D C D \n"
     ]
    }
   ],
   "source": [
    "def dfs(n):\n",
    "    global k\n",
    "\n",
    "    if n > 1 and path[n - 1] == path[n - 2]:\n",
    "        return\n",
    "\n",
    "    if n == k:\n",
    "        for i in path:\n",
    "            print(i, end=' ')\n",
    "        print()\n",
    "        return\n",
    "\n",
    "    for i in 'ABCD':\n",
    "        path[n] = i\n",
    "        dfs(n + 1)\n",
    "\n",
    "\n",
    "k = int(input())\n",
    "path = ['']*k\n",
    "dfs(0)\n"
   ]
  },
  {
   "cell_type": "code",
   "execution_count": 68,
   "metadata": {},
   "outputs": [
    {
     "name": "stdout",
     "output_type": "stream",
     "text": [
      "A B A \n",
      "A B C \n",
      "A B D \n",
      "A C A \n",
      "A C B \n",
      "A C D \n",
      "A D A \n",
      "A D B \n",
      "A D C \n",
      "B A B \n",
      "B A C \n",
      "B A D \n",
      "B C A \n",
      "B C B \n",
      "B C D \n",
      "B D A \n",
      "B D B \n",
      "B D C \n",
      "C A B \n",
      "C A C \n",
      "C A D \n",
      "C B A \n",
      "C B C \n",
      "C B D \n",
      "C D A \n",
      "C D B \n",
      "C D C \n",
      "D A B \n",
      "D A C \n",
      "D A D \n",
      "D B A \n",
      "D B C \n",
      "D B D \n",
      "D C A \n",
      "D C B \n",
      "D C D \n"
     ]
    }
   ],
   "source": [
    "# ABCD가 적혀있는 카드 3 묶음이 있습니다\n",
    "# 각 묶음에서 카드를 1장씩 뽑았을때\n",
    "# 1.c로 시작하는 경우는 다 제외하기 (생략)\n",
    "# 2.모든 경우에서 B는 제외하기\n",
    "# 3.연속해서 같은 카드를 뽑으면 않됨 !!!\n",
    "candidates = ['A', 'B', 'C', 'D']\n",
    "path = ['']*10\n",
    "\n",
    "\n",
    "def abc(level):\n",
    "    # if level>1 and path[level-1]==path[level-2]: return # 진입 후 리턴\n",
    "    if level == 3:\n",
    "        for i in range(level):\n",
    "            print(path[i], end=' ')\n",
    "        print()\n",
    "        return\n",
    "    for i in range(4):\n",
    "        if level > 0 and (path[level-1] == candidates[i]):\n",
    "            continue  # 진입을 안하는 경우\n",
    "        path[level] = candidates[i]\n",
    "        abc(level+1)\n",
    "\n",
    "\n",
    "abc(0)\n"
   ]
  },
  {
   "attachments": {},
   "cell_type": "markdown",
   "metadata": {},
   "source": [
    "### 조합"
   ]
  },
  {
   "cell_type": "code",
   "execution_count": 11,
   "metadata": {},
   "outputs": [
    {
     "name": "stdout",
     "output_type": "stream",
     "text": [
      "A B C \n",
      "A B D \n",
      "A C D \n",
      "B C D \n"
     ]
    }
   ],
   "source": [
    "# path배열을 활용하여 조합 구현\n",
    "candidates = ['A', 'B', 'C', 'D']\n",
    "path = ['']*10\n",
    "used = []\n",
    "\n",
    "\n",
    "def abc(level):\n",
    "    if level == 3:\n",
    "        for i in range(level):\n",
    "            print(path[i], end=' ')\n",
    "            # used.pop()\n",
    "        print()\n",
    "        return\n",
    "    for i in range(4):\n",
    "        if level > 0 and path[level - 1] >= candidates[i]:  # 앞으로 들어갈 곳이 그 전보다 커야 함\n",
    "            continue\n",
    "        path[level] = candidates[i]\n",
    "        abc(level + 1)\n",
    "\n",
    "\n",
    "abc(0)\n"
   ]
  },
  {
   "cell_type": "code",
   "execution_count": 16,
   "metadata": {},
   "outputs": [
    {
     "name": "stdout",
     "output_type": "stream",
     "text": [
      "A B C \n",
      "A B D \n",
      "A C D \n",
      "B C D \n"
     ]
    }
   ],
   "source": [
    "# for문을 시작하는 i를 바꿔서 조합 구현\n",
    "candidates = ['A', 'B', 'C', 'D']\n",
    "path = ['']*10\n",
    "\n",
    "\n",
    "def abc(level, start):\n",
    "    if level == 3:\n",
    "        for i in range(level):\n",
    "            print(path[i], end=' ')\n",
    "        print()\n",
    "        return\n",
    "    for i in range(start, 4):\n",
    "        path[level] = candidates[i]\n",
    "        abc(level + 1, i + 1)  # 중요\n",
    "\n",
    "\n",
    "abc(0, 0)\n"
   ]
  },
  {
   "attachments": {},
   "cell_type": "markdown",
   "metadata": {},
   "source": [
    "### 자료구조"
   ]
  },
  {
   "attachments": {},
   "cell_type": "markdown",
   "metadata": {},
   "source": [
    "#### 선형구조\n",
    "\n",
    "- 배열\n",
    "- 연결리스트\n",
    "\n",
    "#### 비선형구조\n",
    "그래프: 데이터들의 관계를 나타낼 때\n",
    "\n",
    "- 비트리형 자료형\n",
    "1. 사이클이 발생할 수도 안할 수도 있음\n",
    "\n",
    "- 트리형 자료형\n",
    "1. 부모자식 관계 존재\n",
    "2. 단방향(사이클 존재 x)\n",
    "3. 루트 노드(최상단), 리프 노드(최하단)\n"
   ]
  },
  {
   "attachments": {},
   "cell_type": "markdown",
   "metadata": {},
   "source": [
    "#### 그래프의 표현 방법\n",
    "1. 인접행렬 (2차원 배열)\n",
    "2. 인접 리스트\n",
    "3. 리스트 (일차원 배열) : 이진 트리의 경우\n",
    "- 검색해서 찾아보자"
   ]
  },
  {
   "cell_type": "code",
   "execution_count": 20,
   "metadata": {},
   "outputs": [
    {
     "name": "stdout",
     "output_type": "stream",
     "text": [
      "Bob\n"
     ]
    }
   ],
   "source": [
    "people = [\"amy\", \"Bob\", \"Chole\", \"Diane\", \"Edger\"]\n",
    "chg = {key: value for key, value in enumerate(people)}\n",
    "\n",
    "adj_mat = [\n",
    "    [0, 0, 1, 0, 1],\n",
    "    [1, 0, 0, 0, 0],\n",
    "    [0, 1, 0, 0, 0],\n",
    "    [0, 1, 0, 0, 0],\n",
    "    [0, 0, 0, 1, 0]\n",
    "]\n",
    "\n",
    "ma = 0\n",
    "idx = 0\n",
    "for i in range(5):\n",
    "    s = 0\n",
    "    for j in range(5):\n",
    "        s += adj_mat[j][i]\n",
    "\n",
    "    if ma < s:\n",
    "        ma = s\n",
    "        idx = i\n",
    "\n",
    "print(chg.get(idx))\n"
   ]
  },
  {
   "cell_type": "code",
   "execution_count": 48,
   "metadata": {},
   "outputs": [
    {
     "name": "stdout",
     "output_type": "stream",
     "text": [
      "형제 없음\n"
     ]
    }
   ],
   "source": [
    "# 문자를 입력받고 입력받은 문자의 형제노드를 출력\n",
    "adj_mat = [\n",
    "    [0, 1, 1, 0, 0, 0],\n",
    "    [0, 0, 0, 1, 1, 0],\n",
    "    [0, 0, 0, 0, 0, 1],\n",
    "    [0, 0, 0, 0, 0, 0],\n",
    "    [0, 0, 0, 0, 0, 0],\n",
    "    [0, 0, 0, 0, 0, 0]\n",
    "]\n",
    "\n",
    "chg1 = {key: value for value, key in enumerate(list(\"ABCDEF\"))}\n",
    "chg2 = {value: key for key, value in chg1.items()}\n",
    "k = input()\n",
    "chgs = chg1.get(k)\n",
    "\n",
    "# print(chg2)\n",
    "for i in range(6):\n",
    "    if adj_mat[i][chgs] == 1:\n",
    "        break\n",
    "\n",
    "temp = adj_mat[i]\n",
    "temp[chgs] = 0\n",
    "\n",
    "for i in range(6):\n",
    "    if temp[i] == 1:\n",
    "        print(chg2.get(i), end=' ')\n",
    "\n",
    "if sum(temp) == 0:\n",
    "    print(\"형제없음\")\n"
   ]
  },
  {
   "attachments": {},
   "cell_type": "markdown",
   "metadata": {},
   "source": [
    "# 알고리즘 9일차"
   ]
  },
  {
   "attachments": {},
   "cell_type": "markdown",
   "metadata": {},
   "source": [
    "### 재귀호출\n",
    "- 자기 자신을 호출하여 순환 수행되는 것\n",
    "- 함수에서 실행해야 하는 작업의 특성에 따라 일반적인 호출방식보다 재귀호출방식을 사용하여 함수를 만들면 프로그램의 크기를 줄이고 간단하게 작성"
   ]
  },
  {
   "attachments": {},
   "cell_type": "markdown",
   "metadata": {},
   "source": [
    "### 메모이제이션\n",
    "- 컴퓨터 프로그램을 시행할 때 이전에 계산한 값을 메모리에 저장해서 매번 다시 계산하지 않도록하여 전체적인 실행속도를 빠르게 하는 기술. 동적계획법의 핵심\n",
    "- 'memoization'은 글자 그래돌 해석하면 메모리에 넣기라는 의미이며, '기억되어야 할 것'이라는 뜻의 라틴어인 memoradum에서 파생"
   ]
  },
  {
   "attachments": {},
   "cell_type": "markdown",
   "metadata": {},
   "source": [
    "### 동적 계획법(DP: Dynamic Programming)\n",
    "- 동적 계획 알고리즘은 그리디 알고리즘과 같이 <font color = \"red\">최적화 문제</font> 를 해결하는 알고리즘이다.\n",
    "- 동적 계획 알고리즘은 먼저 입력 크기가 작은 부분 문제들을 모두 해결한 후에 그 해들을 이용하여 보다 큰 크기의 부분 문제들을 해결하여, 최종적으로 원래 주어진 입력의 문제를 해결하는 알고리즘이다.\n",
    "- DP의 구현 방법은 재귀적이거나 반복적인 것이 있다.\n",
    "\n",
    "memoization을 재귀적 구조에 사용하는 것보다 반복적으로 DP를 구현한 것이 성능 면에서 보다 효율적이다.  \n",
    "재귀적 구조는 내부에 시스템 호출 스택을 사용하는 오버헤드가 발생하기 때문이다."
   ]
  },
  {
   "attachments": {},
   "cell_type": "markdown",
   "metadata": {},
   "source": [
    "### DFS : 깊이우선탐색\n",
    "시작 정점의 한 방향으로 갈 수 있는 경로가 있는 곳까지 깊이 탐색해 가다가 더 이상 갈 곳이 없게 되면, 가장 마지막에 만났던 갈림길 간선이 있는 정점으로 되돌아와서   \n",
    "다른 방향의 정점으로 탐색을 계속 반복하여 결국 모든 정점을 방문하는 순회 방법  \n",
    "\n",
    "- 가장 마지막에 만났던 갈림길의 정점으로 되돌아가서 다시 깊이 우선 탐색을 반복해야 하므로 후입 선출의 구조의 스택 사용\n",
    "\n",
    "1. 시작 정점 v를 결정하여 방문한다.\n",
    "2. 정점 v에 인접한 정점 중에서\n",
    "    - 방문하지 않은 정점 w가 있으면, 정점 v를 스택에 push하고 정점 w를 방문한다. 그리고 w를 v로 다시 2를 반복\n",
    "    - 방문하지 않은 정점이 없다면, 탐색의 방향을 바꾸기 위해서 스택을 pop하여 받은 가장 마지막 방문 정점을 v로하여 다시 2를 반복\n",
    "3. 스택이 공백이 될 때까지 2를 반복한다. "
   ]
  },
  {
   "attachments": {},
   "cell_type": "markdown",
   "metadata": {},
   "source": [
    "# 오프라인 9일차"
   ]
  },
  {
   "cell_type": "code",
   "execution_count": 6,
   "metadata": {},
   "outputs": [
    {
     "name": "stdout",
     "output_type": "stream",
     "text": [
      "K F M G C A D "
     ]
    }
   ],
   "source": [
    "st = \"KFCDMGA\"\n",
    "chg = {key: value for key, value in enumerate(st)}\n",
    "adj_mat = [\n",
    "    [0, 1, 1, 1, 0, 0, 0],\n",
    "    [0, 0, 0, 0, 1, 1, 0],\n",
    "    [0, 0, 0, 0, 0, 0, 1],\n",
    "    [0, 0, 0, 0, 0, 0, 0],\n",
    "    [0, 0, 0, 0, 0, 0, 0],\n",
    "    [0, 0, 0, 0, 0, 0, 0],\n",
    "    [0, 0, 0, 0, 0, 0, 0]\n",
    "]\n",
    "visit_lst = [0] * 7\n",
    "\n",
    "\n",
    "def dfs(node):\n",
    "    print(chg.get(node), end=' ')\n",
    "    visit_lst[node] = 1\n",
    "\n",
    "    for i in range(7):\n",
    "        if adj_mat[node][i] and not visit_lst[i]:\n",
    "            dfs(i)\n",
    "\n",
    "\n",
    "dfs(0)\n"
   ]
  },
  {
   "cell_type": "code",
   "execution_count": 12,
   "metadata": {},
   "outputs": [
    {
     "name": "stdout",
     "output_type": "stream",
     "text": [
      "B C A D "
     ]
    }
   ],
   "source": [
    "st = \"BACD\"\n",
    "chg = {key: value for key, value in enumerate(st)}\n",
    "\n",
    "adj_mat = [\n",
    "    [0, 0, 1, 1],\n",
    "    [1, 0, 0, 0],\n",
    "    [0, 1, 0, 1],\n",
    "    [0, 0, 0, 0]\n",
    "]\n",
    "visit_lst = [0] * 4\n",
    "\n",
    "\n",
    "def dfs(node):\n",
    "    print(chg.get(node), end=' ')\n",
    "    visit_lst[node] = 1\n",
    "\n",
    "    for i in range(4):\n",
    "        if adj_mat[node][i] and not visit_lst[i]:\n",
    "            dfs(i)\n",
    "\n",
    "\n",
    "dfs(0)\n"
   ]
  },
  {
   "cell_type": "code",
   "execution_count": 20,
   "metadata": {},
   "outputs": [
    {
     "name": "stdout",
     "output_type": "stream",
     "text": [
      "4\n"
     ]
    }
   ],
   "source": [
    "adj_mat = [\n",
    "    [0, 0, 1, 1],\n",
    "    [1, 0, 1, 0],\n",
    "    [1, 0, 0, 1],\n",
    "    [0, 0, 0, 0]\n",
    "]\n",
    "cnt = 0\n",
    "visit_lst = [0] * 4\n",
    "\n",
    "\n",
    "def dfs(node):\n",
    "    global cnt, adj_mat\n",
    "\n",
    "    if node == 3:\n",
    "        cnt += 1\n",
    "\n",
    "    for i in range(4):\n",
    "        if adj_mat[node][i] and not visit_lst[i]:\n",
    "            visit_lst[i] = 1\n",
    "            dfs(i)\n",
    "            visit_lst[i] = 0\n",
    "\n",
    "\n",
    "visit_lst[1] = 1\n",
    "dfs(1)\n",
    "print(cnt)\n"
   ]
  },
  {
   "cell_type": "code",
   "execution_count": 21,
   "metadata": {},
   "outputs": [
    {
     "name": "stdout",
     "output_type": "stream",
     "text": [
      "A B C D\n",
      "A B D\n",
      "A C B D\n",
      "A C D\n",
      "4\n"
     ]
    }
   ],
   "source": [
    "name = list(input().split())   # B A C D\n",
    "arr = [\n",
    "    [0, 0, 1, 1],\n",
    "    [1, 0, 1, 0],\n",
    "    [1, 0, 0, 1],\n",
    "    [0, 0, 0, 0]]\n",
    "used = [0]*4\n",
    "answer = 0\n",
    "path = []\n",
    "\n",
    "\n",
    "def dfs(now):\n",
    "    global answer\n",
    "    path.append(name[now])\n",
    "    if now == 3:\n",
    "        answer += 1\n",
    "        print(*path)\n",
    "        return\n",
    "\n",
    "    for i in range(4):\n",
    "        if arr[now][i] == 1 and used[i] == 0:\n",
    "            used[i] = 1\n",
    "            dfs(i)\n",
    "            used[i] = 0\n",
    "            path.pop()\n",
    "\n",
    "\n",
    "used[1] = 1\n",
    "dfs(1)\n",
    "print(answer)\n"
   ]
  },
  {
   "cell_type": "code",
   "execution_count": 3,
   "metadata": {},
   "outputs": [
    {
     "name": "stdout",
     "output_type": "stream",
     "text": [
      "11\n"
     ]
    }
   ],
   "source": [
    "name = \"BACD\"\n",
    "\n",
    "\n",
    "def dfs(node):\n",
    "    global mi, visit_lst, arr, temp\n",
    "\n",
    "    if node == 3:\n",
    "        if mi > temp:\n",
    "            mi = temp\n",
    "        return\n",
    "\n",
    "    for i in range(4):\n",
    "        if arr[node][i] and not visit_lst[i]:\n",
    "            visit_lst[i] = 1\n",
    "            temp += arr[node][i]\n",
    "            dfs(i)\n",
    "            visit_lst[i] = 0\n",
    "            temp -= arr[node][i]\n",
    "\n",
    "\n",
    "arr = [\n",
    "    [0, 0, 3, 14],\n",
    "    [7, 0, 19, 0],\n",
    "    [3, 0, 0, 1],\n",
    "    [0, 0, 0, 0]\n",
    "]\n",
    "\n",
    "visit_lst = [0] * 4\n",
    "\n",
    "mi = 21e8\n",
    "temp = 0\n",
    "visit_lst[1] = 1\n",
    "dfs(1)\n",
    "print(mi)\n"
   ]
  },
  {
   "cell_type": "code",
   "execution_count": 22,
   "metadata": {},
   "outputs": [
    {
     "name": "stdout",
     "output_type": "stream",
     "text": [
      "1\n"
     ]
    }
   ],
   "source": [
    "def dfs(node):\n",
    "    global visit_lst, res\n",
    "\n",
    "    visit_lst[node] = 1\n",
    "\n",
    "    if node == 4:\n",
    "        res += 1\n",
    "        return\n",
    "\n",
    "    for i in range(5):\n",
    "        if arr[node][i] and not visit_lst[i]:\n",
    "            visit_lst[i] = 1\n",
    "            dfs(i)\n",
    "            visit_lst[i] = 0\n",
    "\n",
    "    visit_lst[node] = 0\n",
    "\n",
    "\n",
    "arr = [\n",
    "    [0, 1, 0, 0, 0],\n",
    "    [0, 0, 1, 1, 1],\n",
    "    [1, 0, 0, 1, 0],\n",
    "    [0, 0, 0, 0, 1],\n",
    "    [0, 0, 0, 0, 0]\n",
    "]\n",
    "\n",
    "visit_lst = [0] * 5\n",
    "res = 0\n",
    "k = input()\n",
    "chg = {key: value for value, key in enumerate(\"ABCDE\")}\n",
    "dfs(chg.get(k))\n",
    "print(res)\n"
   ]
  },
  {
   "cell_type": "code",
   "execution_count": 28,
   "metadata": {},
   "outputs": [
    {
     "name": "stdout",
     "output_type": "stream",
     "text": [
      "7\n"
     ]
    }
   ],
   "source": [
    "def dfs(node):\n",
    "    global visit_lst, res, temp\n",
    "\n",
    "    visit_lst[node] = 1\n",
    "\n",
    "    if node == 4:\n",
    "        if res > temp:\n",
    "            res = temp\n",
    "        return\n",
    "\n",
    "    for i in range(5):\n",
    "        if arr[node][i] and not visit_lst[i]:\n",
    "            visit_lst[i] = 1\n",
    "            temp += arr[node][i]\n",
    "            dfs(i)\n",
    "            visit_lst[i] = 0\n",
    "            temp -= arr[node][i]\n",
    "\n",
    "    # visit_lst[node] = 0\n",
    "\n",
    "\n",
    "arr = [\n",
    "    [0, 4, 0, 0, 0],\n",
    "    [0, 0, 1, 2, 9],\n",
    "    [5, 0, 0, 7, 0],\n",
    "    [0, 0, 0, 0, 1],\n",
    "    [0, 0, 0, 0, 0]\n",
    "]\n",
    "\n",
    "visit_lst = [0] * 5\n",
    "res = 21e8\n",
    "temp = 0\n",
    "k = input()\n",
    "chg = {key: value for value, key in enumerate(\"ABCDE\")}\n",
    "dfs(chg.get(k))\n",
    "print(res)\n"
   ]
  },
  {
   "attachments": {},
   "cell_type": "markdown",
   "metadata": {},
   "source": [
    "# 알고리즘 10 일차"
   ]
  },
  {
   "attachments": {},
   "cell_type": "markdown",
   "metadata": {},
   "source": [
    "### 스택을 활용 문제\n",
    "\n",
    "- 중위표기법을 이용한 계산기\n",
    "- 후위표기법을 이용한 계산기\n",
    "- 백트레킹\n",
    "- 부분집합, 순열 (참고용)\n",
    "- 분할정복"
   ]
  },
  {
   "attachments": {},
   "cell_type": "markdown",
   "metadata": {},
   "source": [
    "#### 중위표기식의 후위표기식 변환 방법\n",
    "##### step 1\n",
    "1. 입력 받은 중위 표기식에서 토큰을 읽는다.\n",
    "2. 토큰이 피연산자이면 토큰을 출력한다.\n",
    "3. 토큰이 연산자 (괄호포함)일 때, 이 토큰이  스택의 top에 저장되어 있는 연산자보다 우선순위가 높으면 스택에 push하고, 그렇지 않다면 top의 연산자의 우선순위가 토큰의 우선순위보다 작을 때까지 스택에서 pop한 후 토큰의 연산자를 push한다. 만약 top에 연산자가 없으면 push한다.\n",
    "4. 토큰이 오른쪽 괄호 ')'이면 스택에 top에 왼쪽 괄호 '('가 올 때까지 스택에 pop연산을 수행하고 pop한 연산자를 출력한다. 왼쪽 괄호를 만나면 pop만 하고 출력하지는 않는다.\n",
    "5. 중위 표기식에 더 읽을 것이 없다면 중지하고, 더 읽을 것이 있다면 1부터 다시 반복한다.\n",
    "6. 스택에 남아 있는 연산자를 모두 pop하여 출력한다.\n",
    "    - 스택 밖에 왼쪽 괄혼느 우선순위가 가장 높으며, 스택 안의 왼쪽 괄호는 우선 순위가 가장 낮다.\n",
    "\n",
    "##### step2\n",
    "1. 피연산자를 만나면 스택에 push한다.\n",
    "2. 연산자를 만나면 필요한 만큼 피연산자를 스택에서 pop하여 연산하고, 연산결과를 다시 스택에 push한다.\n",
    "3. 수식이 끝나면, 마지막으로 스택을 pop하여 출력한다."
   ]
  },
  {
   "attachments": {},
   "cell_type": "markdown",
   "metadata": {},
   "source": [
    "### 백트레킹\n",
    "- Backtracking 기법은 해를 찾는 도중 '막히면' (즉, 해가 아니면) 되돌아가서 해를 찾아 가는 기법이다.\n",
    "- 백트레킹 기법은 최적화(optimization) 문제와 결정(decision) 문제를 해결할 수 있다.\n",
    "- 결정 문제: 문제의 조건을 만족하는 해가 존재하는지 여부를 'yes' 또는 'no'를 답하는 문제\n",
    "    - 미로 찾기\n",
    "    - n-Queen 문제\n",
    "    - Map coloring\n",
    "    - 부분 집합의 합(Subset Sum) 문제 등..."
   ]
  },
  {
   "attachments": {},
   "cell_type": "markdown",
   "metadata": {},
   "source": [
    "백트래킹과 깊이우선탐색과의 차이\n",
    "- 어떤 노드에서 출발하는 경로가 해결책으로 이어질 것 같지 않으면 더 이상 그 경로를 따라가지 않음으로써 시도의 횟수를 줄임. (Prunning 가자치기) \n",
    "- 깊이 우선탐색이 모든 경롤르 추적하는데 비해 백트래킹은 불필요한 경로를 조기에 차단\n",
    "- 깊이우선탐색을 가하기에는 경우의 수가 너무나 많음. 즉 N! 가지의 경우의 수를 가진 문제에 대해 깊이 우선 탐색을 가하면 당연히 처리 불가능한 문제\n",
    "- 백트래킹 알고리즘을 적용하면 일반적으로 경우의 수가 줄어들지만 이 역시 최악의 경우에는 여전히 지수함수 시간을 요하므로 처리 불가능\n",
    "\n",
    "\n",
    "백트래킹 기법\n",
    "- 어느 노드의 유망성을 점검한 후 유망하지 않다고 결정되면 그 노드의 부모로 되돌아가 다음 자식 노드로 감\n",
    "- 어떤 노드를 방문하였을 때 그 노드를 포함한 경로가 해답이 될 수 없으면 그 노드는 유망하지 않다고 하며, 반대로 해답의 가능성이 있으면 유망하다고 한다.\n",
    "- 가지치기: 유망하지 않은 노드가 포함되는 경로는 더 이상 고려하지 않는다."
   ]
  },
  {
   "attachments": {},
   "cell_type": "markdown",
   "metadata": {},
   "source": [
    "백트래킹을 이용한 알고리즘은 다음과 같은 절차로 진행된다.\n",
    "1. 상태 공간 트리의 깊이 우선 검색을 실시한다.\n",
    "2. 각 노드가 유망한지를 점검한다.\n",
    "3. 만일 그 노드가 유망하지 않으면, 그 노드의 부모 노드로 돌아가서 검색을 계속한다."
   ]
  },
  {
   "attachments": {},
   "cell_type": "markdown",
   "metadata": {},
   "source": [
    "### 부분집합 구하기\n",
    "- 어떤 집합의 공집합과 자기 자신을 포함한 모든 부분집합을 powerset이라고 하며 구하고자 하는 어떤 집합의 원소 개수가 n일 경우 부분 집합의 수는 $2^n$개이다.\n",
    "- 백트래킹 기법으로 powerset을 구현해보자.\n",
    "- 앞에서 설명한 일반적인 백트래킹 접근 방법을 이용한다.\n",
    "- n개의 원소가 들어있는 집합의 $2^n$개의 부분집합을 만들 때는, true 또는 false값을 가지는 항목들로 구성된 n개의 베열을 만드는 방법을 이용\n",
    "- 여기서 배열의 i 번째 항목은 i 번째 원소가 부분집합의 값인지 아닌지를 나타내는 값이다."
   ]
  },
  {
   "cell_type": "code",
   "execution_count": 1,
   "metadata": {},
   "outputs": [
    {
     "name": "stdout",
     "output_type": "stream",
     "text": [
      "[0, 0, 0, 0]\n",
      "[0, 0, 0, 1]\n",
      "[0, 0, 1, 0]\n",
      "[0, 0, 1, 1]\n",
      "[0, 1, 0, 0]\n",
      "[0, 1, 0, 1]\n",
      "[0, 1, 1, 0]\n",
      "[0, 1, 1, 1]\n",
      "[1, 0, 0, 0]\n",
      "[1, 0, 0, 1]\n",
      "[1, 0, 1, 0]\n",
      "[1, 0, 1, 1]\n",
      "[1, 1, 0, 0]\n",
      "[1, 1, 0, 1]\n",
      "[1, 1, 1, 0]\n",
      "[1, 1, 1, 1]\n"
     ]
    }
   ],
   "source": [
    "# 예시\n",
    "bit = [0, 0, 0, 0]\n",
    "for i in range(2):\n",
    "    bit[0] = i\n",
    "    for j in range(2):\n",
    "        bit[1] = j\n",
    "        for k in range(2):\n",
    "            bit[2] = k\n",
    "            for l in range(2):\n",
    "                bit[3] = l\n",
    "                print(bit)\n"
   ]
  },
  {
   "cell_type": "code",
   "execution_count": 2,
   "metadata": {},
   "outputs": [],
   "source": [
    "# powerset를 구하는 백트래킹 알고리즘\n",
    "def backtrack(a, k, input):\n",
    "    global MAXCANDIDATES\n",
    "    c = [0] * MAXCANDIDATES\n",
    "\n",
    "    if k == input:\n",
    "        # process_solution(a, k) # 답이면 원하는 작업을 한다.\n",
    "        pass\n",
    "    else:\n",
    "        k += 1\n",
    "        ncandidates = construct_candidates(a, k, input, c)\n",
    "        for i in range(ncandidates):\n",
    "            a[k] = c[i]\n",
    "            backtrack(a, k, input)\n",
    "\n",
    "\n",
    "def construct_candidates(a, k, input, c):\n",
    "    c[0] = True\n",
    "    c[1] = False\n",
    "    return 2\n",
    "\n",
    "\n",
    "MAXCANDIDATES = 2\n",
    "NMAX = 4\n",
    "a = [0] * NMAX\n",
    "backtrack(a, 0, 3)\n"
   ]
  },
  {
   "cell_type": "code",
   "execution_count": 5,
   "metadata": {},
   "outputs": [
    {
     "name": "stdout",
     "output_type": "stream",
     "text": [
      "1 2 3\n",
      "1 3 2\n",
      "2 1 3\n",
      "2 3 1\n",
      "3 1 2\n",
      "3 2 1\n"
     ]
    }
   ],
   "source": [
    "# 단순한 순열\n",
    "for i1 in range(1, 4):\n",
    "    for i2 in range(1, 4):\n",
    "        if i2 != i1:\n",
    "            for i3 in range(1, 4):\n",
    "                if i3 != i1 and i3 != i2:\n",
    "                    print(i1, i2, i3)\n"
   ]
  },
  {
   "attachments": {},
   "cell_type": "markdown",
   "metadata": {},
   "source": [
    "# 오프라인 10일차"
   ]
  },
  {
   "cell_type": "code",
   "execution_count": 7,
   "metadata": {},
   "outputs": [
    {
     "name": "stdout",
     "output_type": "stream",
     "text": [
      "7\n"
     ]
    }
   ],
   "source": [
    "# 위에서 부터 한칸 씩 내려오면서\n",
    "# 숫자 한개씩을 선택합니다,\n",
    "# 선택한 숫자들을 모두 더했을 때\n",
    "# 합이 20 이상인 경우가 몇가지 인지 출력해 주세요\n",
    "\n",
    "arr = [[4, 5, 2],\n",
    "       [-2, 1, 6],\n",
    "       [3, 9, -4],\n",
    "       [3, 5, 2]]\n",
    "\n",
    "cnt = 0\n",
    "\n",
    "\n",
    "def dfs(level, sum):\n",
    "    global cnt\n",
    "    if level == 4:\n",
    "        if sum > 20:\n",
    "            cnt += 1\n",
    "        return\n",
    "    for i in range(3):\n",
    "        dfs(level+1, sum+arr[level][i])\n",
    "\n",
    "\n",
    "dfs(0, 0)\n",
    "print(cnt)\n"
   ]
  },
  {
   "cell_type": "code",
   "execution_count": 9,
   "metadata": {},
   "outputs": [
    {
     "name": "stdout",
     "output_type": "stream",
     "text": [
      "1350\n"
     ]
    }
   ],
   "source": [
    "arr = [[4, 5, 2],\n",
    "       [-2, 1, 6],\n",
    "       [3, 9, -4],\n",
    "       [3, 5, 2]]\n",
    "\n",
    "res = 0\n",
    "\n",
    "def dfs(level, s):\n",
    "    global res, arr\n",
    "    \n",
    "    if level == 4:\n",
    "        if res < s:\n",
    "            res = s\n",
    "        return\n",
    "\n",
    "    for i in range(3):\n",
    "        dfs(level + 1, s * arr[level][i])\n",
    "\n",
    "\n",
    "dfs(0, 1)\n",
    "print(res)"
   ]
  },
  {
   "cell_type": "code",
   "execution_count": 11,
   "metadata": {},
   "outputs": [
    {
     "name": "stdout",
     "output_type": "stream",
     "text": [
      "24\n"
     ]
    }
   ],
   "source": [
    "arr = [\n",
    "    [3, 5, 9, 6],\n",
    "    [7, -8, 1, 6],\n",
    "    [-10, 2, 3, 9],\n",
    "    [5, 1, 2, 8],\n",
    "    [4, 7, 1, 8]\n",
    "]\n",
    "\n",
    "cnt = 0\n",
    "\n",
    "\n",
    "def dfs(start, level, s):\n",
    "    global cnt, arr\n",
    "\n",
    "    if level == 5:\n",
    "        if s > 30:\n",
    "            cnt += 1\n",
    "        return\n",
    "\n",
    "    for j in range(start - 1, start + 2):\n",
    "        if 0 <= j < 4:\n",
    "            dfs(j, level + 1, s + arr[level][start])\n",
    "\n",
    "\n",
    "for i in range(4):\n",
    "    dfs(i, 0, 0)\n",
    "\n",
    "print(cnt)"
   ]
  },
  {
   "cell_type": "code",
   "execution_count": 15,
   "metadata": {},
   "outputs": [
    {
     "name": "stdout",
     "output_type": "stream",
     "text": [
      "11\n"
     ]
    }
   ],
   "source": [
    "arr = [\n",
    "    [3, 5, 9, 6],\n",
    "    [7, -8, 1, 6],\n",
    "    [-10, 2, 3, 9],\n",
    "    [5, 1, 2, 8],\n",
    "    [4, 7, 1, 8]\n",
    "]\n",
    "\n",
    "cnt = 0\n",
    "\n",
    "\n",
    "def dfs(start, level, s):\n",
    "    global cnt, arr\n",
    "\n",
    "    if level == 5:\n",
    "        if s > 30:\n",
    "            cnt += 1\n",
    "        return\n",
    "\n",
    "    for j in range(start - 1, start + 2):\n",
    "        if 0 <= j < 4:\n",
    "            dfs(j, level + 1, s + arr[level][j])\n",
    "\n",
    "\n",
    "for i in range(4):\n",
    "    dfs(i, 1, arr[0][i])\n",
    "\n",
    "print(cnt)"
   ]
  },
  {
   "cell_type": "code",
   "execution_count": 23,
   "metadata": {},
   "outputs": [
    {
     "name": "stdout",
     "output_type": "stream",
     "text": [
      "1\n"
     ]
    }
   ],
   "source": [
    "def dfs(v1, v2):\n",
    "    global res, d1, d2, arr\n",
    "\n",
    "    if v1 == 3 and v2 == 3:\n",
    "        res = 1\n",
    "        return\n",
    "    \n",
    "    visit_lst[v1][v2] = 1\n",
    "\n",
    "    for i in range(4):\n",
    "        temp_v1, temp_v2 = v1 + d1[i], v2 + d2[i]\n",
    "\n",
    "        if 0 <= temp_v1 < 4 and 0 <= temp_v2 < 4:\n",
    "            if not arr[temp_v1][temp_v2] and not visit_lst[temp_v1][temp_v2]:\n",
    "                dfs(temp_v1, temp_v2)\n",
    "    \n",
    "    visit_lst[v1][v2] = 0\n",
    "        \n",
    "\n",
    "\n",
    "d1 = [0, 0, -1, 1]\n",
    "d2 = [-1, 1, 0 ,0]\n",
    "\n",
    "arr = [\n",
    "    [0, 0, 1, 0],\n",
    "    [1, 0, 1, 0],\n",
    "    [1, 0, 1, 0],\n",
    "    [0, 0, 0, 0]\n",
    "]\n",
    "\n",
    "visit_lst = [[0]*4 for _ in range(4)]\n",
    "res = 0\n",
    "\n",
    "dfs(0, 0)\n",
    "print(res)"
   ]
  },
  {
   "cell_type": "code",
   "execution_count": 34,
   "metadata": {},
   "outputs": [
    {
     "name": "stdout",
     "output_type": "stream",
     "text": [
      "4\n"
     ]
    }
   ],
   "source": [
    "def dfs(v1, v2, cnt):\n",
    "    global res\n",
    "    if v1 == 1 and v2 == 3:\n",
    "        if res > cnt:\n",
    "            res = cnt\n",
    "        return\n",
    "\n",
    "    if cnt > res:\n",
    "        return\n",
    "\n",
    "    # visit_lst[v1][v2] = 1\n",
    "\n",
    "    for i in range(4):\n",
    "        temp_v1 = v1 + d1[i]\n",
    "        temp_v2 = v2 + d2[i]\n",
    "\n",
    "        if 0 <= temp_v1 < 5 and 0 <= temp_v2 < 5:\n",
    "            if not mat[temp_v1][temp_v2] and not visit_lst[temp_v1][temp_v2]:\n",
    "                visit_lst[temp_v1][temp_v2] = 1\n",
    "                dfs(temp_v1, temp_v2, cnt + 1)\n",
    "                visit_lst[temp_v1][temp_v2] = 1\n",
    "\n",
    "    # visit_lst[v1][v2] = 0\n",
    "\n",
    "\n",
    "mat = [\n",
    "    [0, 0, 0, 0, 1],\n",
    "    [1, 0, 1, 0, 1],\n",
    "    [1, 0, 1, 0, 1],\n",
    "    [1, 0, 1, 0, 1],\n",
    "    [1, 0, 1, 0, 1]\n",
    "]\n",
    "\n",
    "visit_lst = [[0] * 5 for _ in range(5)]\n",
    "\n",
    "d1 = [-1, 1, 0, 0]\n",
    "d2 = [0, 0, -1, 1]\n",
    "\n",
    "res = 21e8\n",
    "dfs(0, 0, 0)\n",
    "print(res)"
   ]
  },
  {
   "attachments": {},
   "cell_type": "markdown",
   "metadata": {},
   "source": [
    "# 알고리즘 11일차"
   ]
  },
  {
   "cell_type": "code",
   "execution_count": 4,
   "metadata": {},
   "outputs": [
    {
     "name": "stdout",
     "output_type": "stream",
     "text": [
      "[1, 1, 1, 1, 1] 15\n",
      "[1, 1, 1, 1, 0] 10\n",
      "[1, 1, 1, 0, 1] 11\n",
      "[1, 1, 1, 0, 0] 6\n",
      "[1, 1, 0, 1, 1] 12\n",
      "[1, 1, 0, 1, 0] 7\n",
      "[1, 1, 0, 0, 1] 8\n",
      "[1, 1, 0, 0, 0] 3\n",
      "[1, 0, 1, 1, 1] 13\n",
      "[1, 0, 1, 1, 0] 8\n",
      "[1, 0, 1, 0, 1] 9\n",
      "[1, 0, 1, 0, 0] 4\n",
      "[1, 0, 0, 1, 1] 10\n",
      "[1, 0, 0, 1, 0] 5\n",
      "[1, 0, 0, 0, 1] 6\n",
      "[1, 0, 0, 0, 0] 1\n",
      "[0, 1, 1, 1, 1] 14\n",
      "[0, 1, 1, 1, 0] 9\n",
      "[0, 1, 1, 0, 1] 10\n",
      "[0, 1, 1, 0, 0] 5\n",
      "[0, 1, 0, 1, 1] 11\n",
      "[0, 1, 0, 1, 0] 6\n",
      "[0, 1, 0, 0, 1] 7\n",
      "[0, 1, 0, 0, 0] 2\n",
      "[0, 0, 1, 1, 1] 12\n",
      "[0, 0, 1, 1, 0] 7\n",
      "[0, 0, 1, 0, 1] 8\n",
      "[0, 0, 1, 0, 0] 3\n",
      "[0, 0, 0, 1, 1] 9\n",
      "[0, 0, 0, 1, 0] 4\n",
      "[0, 0, 0, 0, 1] 5\n",
      "[0, 0, 0, 0, 0] 0\n"
     ]
    }
   ],
   "source": [
    "def f(i, k):\n",
    "    global bit\n",
    "    if i == k:\n",
    "        s = 0\n",
    "        for j in range(k):\n",
    "            if bit[j]:\n",
    "                 s += A[j]\n",
    "        print(bit, s) # s 부분집합의 합\n",
    "    else:\n",
    "        bit[i] = 1\n",
    "        f(i + 1, k)\n",
    "        bit[i] = 0\n",
    "        f(i + 1, k)\n",
    "\n",
    "A = range(1, 6)\n",
    "N = len(A)\n",
    "bit = [0] * N\n",
    "f(0, N)"
   ]
  },
  {
   "cell_type": "code",
   "execution_count": 7,
   "metadata": {},
   "outputs": [
    {
     "name": "stdout",
     "output_type": "stream",
     "text": [
      "1 4 \n",
      "2 3 \n",
      "5 \n"
     ]
    }
   ],
   "source": [
    "def f(i, k):\n",
    "    global bit\n",
    "    if i == k:\n",
    "        s = 0\n",
    "        for j in range(k):\n",
    "            if bit[j]:\n",
    "                 s += A[j]\n",
    "        if s == key:\n",
    "            for j in range(k):\n",
    "                if bit[j]:\n",
    "                    print(A[j], end = ' ')\n",
    "            print()\n",
    "        \n",
    "\n",
    "    else:\n",
    "        bit[i] = 1\n",
    "        f(i + 1, k)\n",
    "        bit[i] = 0\n",
    "        f(i + 1, k)\n",
    "\n",
    "A = range(1, 6)\n",
    "N = len(A)\n",
    "bit = [0] * N\n",
    "key = 5 # 합이 5인 경우 출력\n",
    "f(0, N)"
   ]
  },
  {
   "cell_type": "code",
   "execution_count": 12,
   "metadata": {},
   "outputs": [
    {
     "name": "stdout",
     "output_type": "stream",
     "text": [
      "1\n",
      "1\n",
      "1\n"
     ]
    }
   ],
   "source": [
    "def f(i, k):\n",
    "    global bit, key\n",
    "    if i == k:\n",
    "        s = 0\n",
    "        for j in range(k):\n",
    "            if bit[j]:\n",
    "                 s += A[j]\n",
    "        if s == key:\n",
    "            print(1)\n",
    "            return\n",
    "        \n",
    "    else:\n",
    "        bit[i] = 1\n",
    "        f(i + 1, k)\n",
    "        bit[i] = 0\n",
    "        f(i + 1, k)\n",
    "\n",
    "A = range(1, 6)\n",
    "N = len(A)\n",
    "bit = [0] * N\n",
    "key = 5 # 합이 5인 경우 출력\n",
    "f(0, N)"
   ]
  },
  {
   "attachments": {},
   "cell_type": "markdown",
   "metadata": {},
   "source": [
    "# 알고리즘 12일차 (문제풀이3)"
   ]
  },
  {
   "cell_type": "code",
   "execution_count": null,
   "metadata": {},
   "outputs": [],
   "source": [
    "# 9489 고대 유적\n",
    "\n",
    "def count(arr):\n",
    "    ma = 0\n",
    "\n",
    "    for lst in arr:\n",
    "        cnt = 0\n",
    "        for n in lst:\n",
    "            if n == 1:\n",
    "                cnt += 1\n",
    "                if ma < cnt:\n",
    "                    ma = cnt\n",
    "            else:\n",
    "                cnt = 0\n",
    "\n",
    "    return ma\n",
    "\n",
    "\n",
    "T = int(input())\n",
    "for test_case in range(1, T + 1):\n",
    "    r, c = map(int, input().split())\n",
    "    arr = [list(map(int, input().split())) for _ in range(r)]\n",
    "    arr_t = list(map(list, zip(*arr)))\n",
    "\n",
    "    ans = count(arr)\n",
    "    t = count(arr_t)\n",
    "\n",
    "    if ans < t:\n",
    "        ans = t\n",
    "\n",
    "    print(f\"#{test_case} {ans}\")"
   ]
  },
  {
   "cell_type": "code",
   "execution_count": null,
   "metadata": {},
   "outputs": [],
   "source": [
    "# 13685 쇠막대기 자르기\n",
    "# 쇠막대기가 끝날 때도 한 개씩 추가되는 것이 핵심!\n",
    "# 쌓여있는 쇠막대기 수를 cnt\n",
    "# '(' cnt += 1 ? 레이저의 시작 ? //  뒤 또는 앞을 체크 -> index를 활용해야 한다.\n",
    "#  else ')' if st[i - 1] == '(' : 레이져\n",
    "#           else ')' : 막대기 끝\n",
    "\n",
    "T = int(input())\n",
    "for test_case in range(1, T + 1):\n",
    "    st = input()\n",
    "    ans = 0\n",
    "    cnt = 0\n",
    "\n",
    "    for i in range(len(st)):\n",
    "        if st[i] == '(': # 막대기의 시작 or 레이저\n",
    "            cnt += 1\n",
    "        else: # 닫히는 괄호 ')' 바로 앞의 기호를 확인해야 함.\n",
    "            if st[i - 1] == '(': # 레이져\n",
    "                cnt -= 1\n",
    "                ans += cnt\n",
    "            else: # 막대기 끝\n",
    "                cnt -= 1\n",
    "                ans += 1\n",
    "\n",
    "    print(f\"#{test_case} {ans}\")"
   ]
  },
  {
   "cell_type": "code",
   "execution_count": null,
   "metadata": {},
   "outputs": [],
   "source": [
    "# 13686 백만 장자 프로젝트\n",
    "# 최대값 찾기\n",
    "# i ~ i_ma 차이 누적\n",
    "# i <- i_ma + 1 : for 문보다는 while문이 더 나을 수 있다.\n",
    "# 시간초과 가능성이 있다.\n",
    "\n",
    "\n",
    "T = int(input())\n",
    "for test_case in range(1, T + 1):\n",
    "    N = int(input())\n",
    "    lst = list(map(int, input().split()))\n",
    "\n",
    "    i = 0\n",
    "    ans = 0\n",
    "    while i < N:\n",
    "        # [1] i ~ 끝까지 최대값의 index 찾기\n",
    "        i_ma = i\n",
    "        for j in range(i + 1, N):\n",
    "            if lst[i_ma] < lst[j]:\n",
    "                i_ma = j\n",
    "\n",
    "        for j in range(i, i_ma):\n",
    "            ans += lst[i_ma] - lst[j]\n",
    "\n",
    "        i = i_ma + 1\n",
    "    \n",
    "    print(f\"#{test_case} {ans}\")"
   ]
  },
  {
   "cell_type": "code",
   "execution_count": null,
   "metadata": {},
   "outputs": [],
   "source": [
    "# 13686 백만 장자 프로젝트\n",
    "# 뒤쪽부터 체크해보면 어떨까?\n",
    "# 현재의 값보다 작은 값을 만나면 차이를 추가한다.\n",
    "# 큰값을 만나면 최대값을 갱신한다.\n",
    "\n",
    "T = int(input())\n",
    "for test_case in range(1, T + 1):\n",
    "    N = int(input())\n",
    "    lst = list(map(int, input().split()))[::-1]\n",
    "\n",
    "    ans = 0\n",
    "    ma = lst[0]\n",
    "    for n in lst:\n",
    "        if ma > n:\n",
    "            ans += ma - n\n",
    "        else:\n",
    "            ma = n\n",
    "\n",
    "    print(f\"#{test_case} {ans}\")"
   ]
  },
  {
   "cell_type": "code",
   "execution_count": null,
   "metadata": {},
   "outputs": [],
   "source": [
    "# 13687 자기 방으로 돌아가기\n",
    "# (방번호 0 1) // 2 : 복도번호\n",
    "# [1] 시작복도 번호 ~ 끝 복도 번호: 누적 cnt 표시\n",
    "# [2] 최대값 찾기\n",
    "\n",
    "T = int(input())\n",
    "for test_case in range(1, T + 1):\n",
    "    n = int(input())\n",
    "    cnt = [0] * 200\n",
    "\n",
    "    for _ in range(n):\n",
    "        s, e = map(int, input().split())\n",
    "        if s > e: # 정렬이 안되어 있는 경우를 반영해야 한다.\n",
    "            s, e = e, s\n",
    "\n",
    "        for j in range((s - 1) // 2, (e - 1) // 2 + 1):\n",
    "            cnt[j] += 1\n",
    "\n",
    "    ans = max(cnt)\n",
    "    print(f\"#{test_case} {ans}\")"
   ]
  },
  {
   "cell_type": "code",
   "execution_count": null,
   "metadata": {},
   "outputs": [],
   "source": [
    "# 14133 재미있는 오셀로 게임\n",
    "pass"
   ]
  },
  {
   "attachments": {},
   "cell_type": "markdown",
   "metadata": {},
   "source": [
    "# 오프라인 12일차"
   ]
  },
  {
   "cell_type": "code",
   "execution_count": null,
   "metadata": {},
   "outputs": [],
   "source": [
    "# 제발 fail 없어라~\n",
    "\n",
    "d = ((-1, -1), (-1, 0), (-1, 1), (0, -1), (0, 1), (1, -1), (1, 0), (1, 1))\n",
    "\n",
    "T = int(input())\n",
    "for test_case in range(1, T + 1):\n",
    "    n = int(input())\n",
    "    field = [list(map(int, input().split())) for _ in range(n)]\n",
    "    res = 0\n",
    "\n",
    "    ma = 0\n",
    "\n",
    "    for i in range(n):\n",
    "        for j in range(n):\n",
    "            temp = field[i][j]\n",
    "            cnt = 0\n",
    "            for k in d:\n",
    "                drow, dcol = i + k[0], j + k[1]\n",
    "\n",
    "                if 0 <= drow < n and 0 <= dcol < n:\n",
    "                    if field[drow][dcol] > temp:\n",
    "                        cnt += 1\n",
    "\n",
    "            if cnt == 8:\n",
    "                res += 1\n",
    "\n",
    "                for k in d:\n",
    "                    drow, dcol = i + k[0], j + k[1]\n",
    "                    if ma < field[drow][dcol] - temp:\n",
    "                        ma = field[drow][dcol] - temp\n",
    "\n",
    "\n",
    "    print(f\"#{test_case} {res} {ma}\")"
   ]
  },
  {
   "attachments": {},
   "cell_type": "markdown",
   "metadata": {},
   "source": [
    "### 구간합\n",
    "- Sliding window\n",
    "- Prefix sum (찾아볼 것!)\n",
    "- Two pointer"
   ]
  },
  {
   "attachments": {},
   "cell_type": "markdown",
   "metadata": {},
   "source": [
    "Sliding window\n",
    "- n개의 숫자 연속된 m개의 숫자의 합이 max"
   ]
  },
  {
   "cell_type": "code",
   "execution_count": 4,
   "metadata": {},
   "outputs": [
    {
     "name": "stdout",
     "output_type": "stream",
     "text": [
      "39\n"
     ]
    }
   ],
   "source": [
    "lst = [4, 7, 1, 8, 5, 6, 9, 8, 9, 7, 5, 4, 3]\n",
    "n = len(lst)\n",
    "m = 5\n",
    "s = sum(lst[:m])\n",
    "ma = s\n",
    "\n",
    "for i in range(m, n):\n",
    "    s += lst[i]\n",
    "    s -= lst[i - m]\n",
    "\n",
    "    if s > ma:\n",
    "        ma = s\n",
    "\n",
    "print(ma)"
   ]
  },
  {
   "cell_type": "code",
   "execution_count": 8,
   "metadata": {},
   "outputs": [
    {
     "ename": "IndexError",
     "evalue": "list index out of range",
     "output_type": "error",
     "traceback": [
      "\u001b[1;31m---------------------------------------------------------------------------\u001b[0m",
      "\u001b[1;31mIndexError\u001b[0m                                Traceback (most recent call last)",
      "Cell \u001b[1;32mIn[8], line 18\u001b[0m\n\u001b[0;32m     16\u001b[0m \u001b[39melif\u001b[39;00m s \u001b[39m==\u001b[39m m:\n\u001b[0;32m     17\u001b[0m     right \u001b[39m+\u001b[39m\u001b[39m=\u001b[39m \u001b[39m1\u001b[39m\n\u001b[1;32m---> 18\u001b[0m     s \u001b[39m+\u001b[39m\u001b[39m=\u001b[39m lst[right]\n\u001b[0;32m     19\u001b[0m     cnt \u001b[39m+\u001b[39m\u001b[39m=\u001b[39m \u001b[39m1\u001b[39m\n\u001b[0;32m     20\u001b[0m \u001b[39melse\u001b[39;00m:\n",
      "\u001b[1;31mIndexError\u001b[0m: list index out of range"
     ]
    }
   ],
   "source": [
    "# 연속된 자연수 중 연속된 숫자들을 합했을 때 m이 되는 경우는 몇가지인가?\n",
    "# 10 5\n",
    "# 1 2 3 4 2 5 3 1 1 2\n",
    "n, m = map(int, input().split())\n",
    "lst = list(map(int, input().split()))\n",
    "\n",
    "left = 0\n",
    "right = 0\n",
    "s = lst[0]\n",
    "cnt = 0\n",
    "\n",
    "while left <= right:\n",
    "    if s < m and right != n - 1:\n",
    "        right += 1\n",
    "        s += lst[right]\n",
    "    elif s == m and right != n - 1:\n",
    "        right += 1\n",
    "        s += lst[right]\n",
    "        cnt += 1\n",
    "    else:\n",
    "        if s == m:\n",
    "            cnt += 1\n",
    "        s -= lst[left]\n",
    "        left += 1\n",
    "\n",
    "print(cnt)"
   ]
  },
  {
   "cell_type": "code",
   "execution_count": 9,
   "metadata": {},
   "outputs": [
    {
     "name": "stdout",
     "output_type": "stream",
     "text": [
      "deque([5, 4])\n"
     ]
    }
   ],
   "source": [
    "from collections import deque\n",
    "q = deque()\n",
    "q.append(5)\n",
    "q.append(4)\n",
    "print(q)"
   ]
  },
  {
   "cell_type": "code",
   "execution_count": 10,
   "metadata": {},
   "outputs": [
    {
     "data": {
      "text/plain": [
       "5"
      ]
     },
     "execution_count": 10,
     "metadata": {},
     "output_type": "execute_result"
    }
   ],
   "source": [
    "q.popleft()"
   ]
  },
  {
   "attachments": {},
   "cell_type": "markdown",
   "metadata": {},
   "source": [
    "### BFS\n",
    "- 지금 내 위치에서 갈 수 있는 곳 적어주기\n",
    "- 다음 위치에서 갈 수 있는 것 적어주기(visited를 활용할 것)"
   ]
  },
  {
   "cell_type": "code",
   "execution_count": null,
   "metadata": {},
   "outputs": [],
   "source": [
    "# binary search tree: 트리의 형태로 저장하고 탐색, 삭제하는 자료구조"
   ]
  },
  {
   "cell_type": "code",
   "execution_count": 19,
   "metadata": {},
   "outputs": [
    {
     "name": "stdout",
     "output_type": "stream",
     "text": [
      "A B E C D F "
     ]
    }
   ],
   "source": [
    "from collections import deque\n",
    "st = 'ABCEDF'\n",
    "chg = {key:value for key, value in enumerate(st)}\n",
    "\n",
    "adj_lst = [\n",
    "    [1, 3],\n",
    "    [2, 4],\n",
    "    [5],\n",
    "    [],\n",
    "    [],\n",
    "    []\n",
    "]\n",
    "\n",
    "visit_lst = [0] * 6\n",
    "\n",
    "que = deque()\n",
    "que.append(0)\n",
    "visit_lst[0] = 1\n",
    "\n",
    "while que:\n",
    "    a = que.popleft()\n",
    "    print(chg.get(a), end = ' ')\n",
    "    \n",
    "    for i in adj_lst[a]:\n",
    "        if not visit_lst[i]:\n",
    "            visit_lst[i] = 1\n",
    "            que.append(i)"
   ]
  },
  {
   "cell_type": "code",
   "execution_count": 23,
   "metadata": {},
   "outputs": [
    {
     "name": "stdout",
     "output_type": "stream",
     "text": [
      "A B C D "
     ]
    }
   ],
   "source": [
    "from collections import deque\n",
    "st = 'ABCD'\n",
    "\n",
    "adj_lst = [\n",
    "    [1, 2],\n",
    "    [2, 3],\n",
    "    [3],\n",
    "    []\n",
    "]\n",
    "\n",
    "visit_lst = [0] * 4\n",
    "\n",
    "que = deque()\n",
    "visit_lst[0] = 1\n",
    "que.append(0)\n",
    "\n",
    "while que:\n",
    "    a = que.popleft()\n",
    "    print(st[a], end = ' ')\n",
    "\n",
    "    for i in adj_lst[a]:\n",
    "        if not visit_lst[i]:\n",
    "            visit_lst[i] = 1\n",
    "            que.append(i)"
   ]
  },
  {
   "cell_type": "code",
   "execution_count": null,
   "metadata": {},
   "outputs": [],
   "source": [
    "# Djikstra: 우선순위 큐를 이용한 BFS "
   ]
  },
  {
   "cell_type": "code",
   "execution_count": 24,
   "metadata": {},
   "outputs": [
    {
     "name": "stdout",
     "output_type": "stream",
     "text": [
      "020\n",
      "212\n",
      "020\n"
     ]
    }
   ],
   "source": [
    "from collections import deque\n",
    "n = int(input())\n",
    "row, col = map(int, input().split())\n",
    "arr = [[0] * n for _ in range(n)]\n",
    "\n",
    "arr[row][col] = 1\n",
    "q = deque()\n",
    "q.append([row, col])\n",
    "\n",
    "while q:\n",
    "    now = q.popleft()\n",
    "    row, col = now[0], now[1]\n",
    "    d1 = [-1, 1, 0, 0]\n",
    "    d2 = [0, 0, -1, 1]\n",
    "\n",
    "    for i in range(4):\n",
    "        drow = row + d1[i]\n",
    "        dcol = col + d2[i]\n",
    "\n",
    "        if 0 <= drow < n and 0 <= dcol < n:\n",
    "            if arr[drow][dcol] == 0:\n",
    "                arr[drow][dcol] = arr[row][col] + 1\n",
    "                q.append([drow, dcol])\n",
    "\n",
    "for i in arr:\n",
    "    print(*i, sep = '')"
   ]
  },
  {
   "attachments": {},
   "cell_type": "markdown",
   "metadata": {},
   "source": [
    "# 알고리즘 13일차"
   ]
  },
  {
   "attachments": {},
   "cell_type": "markdown",
   "metadata": {},
   "source": [
    "### 큐\n",
    "\n",
    "큐의 특성  \n",
    "- 스택과 마찬가지로 삽입과 삭제의 위치가 제한적인 자료구조\n",
    "    - 큐의 뒤에서 삽입만 하고, 큐의 앞에서는 삭제만 이루어지는 구조\n",
    "- 선입선출구조(FIFO)\n",
    "    - 큐에서 삽입한 순서대로 원소가 저장된어, 가장 먼저 삽입된 원소는 가장 먼저 삭제된다.\n",
    "    "
   ]
  },
  {
   "attachments": {},
   "cell_type": "markdown",
   "metadata": {},
   "source": [
    "(함수로 구현하는 것으로 굳이 알지 않아도 된다.)\n",
    "\n",
    "|연산|기능|\n",
    "|:---:|:---:|\n",
    "|enQueue(item)|큐의 뒤쪽(rear 다음)에 원소를 삽입하는 연산|\n",
    "|deQueue()|큐의 앞쪽(front)에서 원소를 삭제하고 반환하는 연산|\n",
    "|createQueue()|공백 상태의 큐를 생성하는 연산|\n",
    "|isEmpty()|큐가 공백상태인지를 확인하는 연산|\n",
    "|isFull()|큐가 포화상태인지를 확인하는 연산|\n",
    "|Qpeek()|큐의 앞쪽(front)에서 원소를 삭제 없이 반환하는 연산|"
   ]
  },
  {
   "attachments": {},
   "cell_type": "markdown",
   "metadata": {},
   "source": [
    "선형큐  \n",
    "- 1차원의 배열을 이용한 큐\n",
    "    - 큐의 크기 = 배열의 크기\n",
    "    - front 저장된 첫 번째 원소의 인덱스\n",
    "    - rear: 저장된 마지막 원소의 인덱스\n",
    "\n",
    "&nbsp;\n",
    "\n",
    "- 상태표현\n",
    "    - 초기 상태: front = rear = -1\n",
    "    - 공백 상태: front == rear\n",
    "    - 포화 상태: rear = n - 1 (n: 배열의 크기,  n - 1: 배열의 마지막 인덱스)"
   ]
  },
  {
   "attachments": {},
   "cell_type": "markdown",
   "metadata": {},
   "source": [
    "초기 공백 큐 생성\n",
    "- 크기가 n인 1차원 배열 생성\n",
    "- front와 rear를 -1로 초기화\n",
    "\n",
    "#### 삽입: enQueue(item)\n",
    "- 마지막 원소 뒤에 새로운 원소를 삽입하기 위해서\n",
    "1. rear 값을 하나 증가시켜 새로운 원소를 삽입할 자리를 마련\n",
    "2. 그 인덱스에 해당하는 배열 원소 Q[rear]에 item을 저장\n",
    "\n",
    "```\n",
    "def enQueue(item):\n",
    "    global rear\n",
    "    if isFull():\n",
    "        print(\"Queue Full\")\n",
    "    else:\n",
    "    rear = rear + 1\n",
    "    Q[rear] = item\n",
    "\n",
    "```\n",
    "\n",
    "#### 삭제: deQueue()\n",
    "- 가장 앞에 있는 원소를 삭제하기 위해\n",
    "1. front 값을 하나 증가시켜 큐에 남아있게 될 첫 번째 원소 이동\n",
    "2. 새로운 첫 번째 원소를 리턴 함으로써 삭제와 동일한 기능함\n",
    "\n",
    "```\n",
    "def deQueue():\n",
    "    if (isEmpty()):\n",
    "        Queue_Empty()\n",
    "    \n",
    "    else:\n",
    "        front += 1\n",
    "        return Q[front]\n",
    "```\n",
    "\n",
    "#### 공백상태 및 포화상태 검사: isEmpty(), isFull()\n",
    "- 공백상태: front == rear\n",
    "- 포화상태: rear == n - 1 (n: 배열의 크기, n - 1: 배열의 마지막 인덱스)\n",
    "\n",
    "```\n",
    "def isEmpty():\n",
    "    return front == rear\n",
    "\n",
    "def Full():\n",
    "    return rear == len(Q) - 1\n",
    "```\n",
    "\n",
    "#### 검색: Qpeek()\n",
    "- 가장 앞에 있는 원소를 검색하여 반환하여 연산\n",
    "- 현재 front의 한자리 뒤(front + 1)에 있는 원소, 즉 큐의 첫 번째에 있는 원소를 반환함\n",
    "\n",
    "```\n",
    "def Qpeek():\n",
    "    if isEmpty():\n",
    "    print(\"Queue Empty\")\n",
    "    else:\n",
    "    return Q[front + 1]\n",
    "```"
   ]
  },
  {
   "attachments": {},
   "cell_type": "markdown",
   "metadata": {},
   "source": [
    "#### 선형 큐 이용시의 문제점\n",
    "잘못된 포화상태 인식\n",
    "- 선형 큐를 이용하여 원소의 삽입과 삭제를 계속할 경우, 배열의 앞부분에 활용할 수 있는 공간이 있음에도 불구하고, rear = n - 1인 상태 즉, 포화상태로 인식하여 더 이상 삽입을 수행하지 않게 됨\n",
    "\n",
    "- 해결방법 1\n",
    "    1. 매 연산이 이루어질 때마다 저장된 원소들을 배열의 앞부분으로 모두 이동시킴\n",
    "    2. 원소 이동에 많은 시간이 소요되여 큐의 효율성이 급격히 떨어짐\n",
    "- 해결방법 2\n",
    "    1. 1차원 배열을 사용하되, 논리적으로 배열의 처음과 끝이 연결되어 원형 혀애의 큐를 이룬다고 가정하고 사용\n",
    "\n",
    "#### 원형 큐\n",
    "초기 공백 상태  \n",
    "- front = rear = 0\n",
    "\n",
    "인덱스의 순환\n",
    "- front와 rear의 위치가 배열의 마지막 인덱스인 n - 1를 가리킨 후, 그 다음에는 논리적 순환을 이루어 배열의 처음 인덱스인 0으로 이동해야 함\n",
    "- 이를 위해 나머지 연산자 mod를 사용함\n",
    "\n",
    "front 변수\n",
    "- 공백 상태와 포화 상태 구분을 쉽게 하기 위해 front가 있는 자리는 사용하지 않고 항상 빈자리로 둠\n",
    "- 삽입 위치 및 삭제 위치  \n",
    " \n",
    "| |삽입 위치|삭제 위치|  \n",
    "|---|---|---|\n",
    "|선형큐|rear = rear + 1|front = front + 1|\n",
    "|원형큐|rear = (rear + 1) mod n|front = (front + 1) mod n|"
   ]
  },
  {
   "attachments": {},
   "cell_type": "markdown",
   "metadata": {},
   "source": [
    "#### 원형 큐의 구현\n",
    "초기 공백 큐 생성\n",
    "- 크기 n인 1차원 배열 생성\n",
    "- front와 rear를 0으로 초기화\n",
    "\n",
    "#### 공백상태 및 포화상태 검사: isEmpty(), isFull()\n",
    "- 공백상태: front == rear\n",
    "- 포화상태: 삽입할 rear의 다음 위치 == 현재 front\n",
    "    - (rear + 1) mod n == front\n",
    "\n",
    "```\n",
    "def isEmpty():\n",
    "    return front == rear\n",
    "\n",
    "def isFull():\n",
    "    return (rear + 1) % len(cQ) == front\n",
    "``` \n",
    "#### 삽입: enQueue(item)\n",
    "- 마지막 원소 뒤에 새로운 원소를 삽입하기 위해\n",
    "1. rear 값을 조정하여 새로운 원소를 삽입할 자리를 마련함: rear = (rear + 1) mod n\n",
    "2. 그 인덱스에 해당하는 배열원소 cQ[rear]에 item을 저장\n",
    "\n",
    "```\n",
    "def enQueue(item):\n",
    "    global rear\n",
    "    if isFull():\n",
    "        print(\"Queue Full\")\n",
    "    else:\n",
    "        rear = (rear + 1) % len(cQ)\n",
    "        cQ[rear] = item \n",
    "```\n",
    "\n",
    "#### 삭제: deQueue(), delete()\n",
    "- 가장 앞에 있는 원소를 삭제하기 위하여\n",
    "1. front 값을 조정하여 삭제할 자리를 마련함\n",
    "2. 새로운 front 원소를 리턴 함으로써 삭제와 동일한 기능을 함\n",
    "\n",
    "```\n",
    "def deQueue():\n",
    "    global front\n",
    "    if isEmpty():\n",
    "        print(\"Queue Empty\")\n",
    "    else:\n",
    "        front = (front + 1) % len(cQ)\n",
    "        return cQ[front]\n",
    "\n",
    "def is Empty():\n",
    "    reutrn front == rear\n",
    "\n",
    "def isFull():\n",
    "    return (rear + 1) % len(cQ) == front\n",
    "```"
   ]
  },
  {
   "attachments": {},
   "cell_type": "markdown",
   "metadata": {},
   "source": [
    "# 알고리즘 14일차"
   ]
  },
  {
   "attachments": {},
   "cell_type": "markdown",
   "metadata": {},
   "source": [
    "### 우선순위 큐 (Priority Queue)\n",
    "우선순위 큐의 특성  \n",
    "- 우선순위를 가진 항목들을 저장하는 큐\n",
    "- FIFO 순서가 아니라 우선순위가 높은 순서대로 먼저 나가게 된다.\n",
    "\n",
    "&nbsp;\n",
    "우선순위 큐의 적용 분야\n",
    "- 시뮬레이션 시스템\n",
    "- 네트워크 트래픽 제어\n",
    "- 운영체제의 태스크 스케쥴링\n",
    "\n",
    "&nbsp;\n",
    "배열을 이용하여 우선순위 큐 구현  \n",
    "- 배열을 이용하여 자료 저장\n",
    "- 원소를 삽입하는 과정에서 우선순위를 비교하여 적절한 위치에 삽입하는 구조\n",
    "- 가장 앞에최고 우선순위의 원소가 위치하게 됨\n",
    "\n",
    "&nbsp;\n",
    "문제점\n",
    "- 배열을 사용하므로, 삽입이나 삭제 연산이 일어날 때 원소의 재배치가 발생함\n",
    "- 이에 소요되는 시간이나 메모리 낭비가 큼"
   ]
  },
  {
   "attachments": {},
   "cell_type": "markdown",
   "metadata": {},
   "source": [
    "### 큐의 활용 : 버퍼 (Buffer)\n",
    "\n",
    "버퍼  \n",
    "- 데이터를 한 곳에서 다른 한 곳으로 전송하는 동안 일시적으로 그 데이터를 보관하는 메모리 영역\n",
    "- 버퍼링: 버퍼를 활용하는 방식 또는 버퍼를 채우는 동작을 의미한다.\n",
    "\n",
    "&nbsp;\n",
    "\n",
    "버퍼의 자료 구조  \n",
    "- 버퍼는 일반적으로 입출력 및 네트워크와 관련된 기능에서 이용된다.\n",
    "- 순서대로 입력/출력/전달되어야 하므로 FIFO 방식의 자료구조이 큐가 활용된다.\n"
   ]
  },
  {
   "attachments": {},
   "cell_type": "markdown",
   "metadata": {},
   "source": [
    "### BFS(Breadth First Search)\n",
    "\n",
    "그래프를 탐색하는 방법에는 크게 두 가지가 있다\n",
    "- BFS\n",
    "- DFS\n",
    "\n",
    "너비우선탐색은 탐색 시작점의 인접한 정점들을 먼저 모두 차례로 방문한 후에, 방문했던 정점을 시작점으로하여 다시 인접한 정점들을 차례로 방문하는 방식  \n",
    "인접한 정점들에 대해 탐색을 한 후, 차례로 다시 너비우선탐색을 진행해야 하므로, 선입선출 형태의 자료 구조인 큐를 활용함"
   ]
  },
  {
   "attachments": {},
   "cell_type": "markdown",
   "metadata": {},
   "source": [
    "# 오프라인 14일차"
   ]
  },
  {
   "attachments": {
    "image.png": {
     "image/png": "[encoded data removed]"
    }
   },
   "cell_type": "markdown",
   "metadata": {},
   "source": [
    "### 트리 순회\n",
    "\n",
    "arr = \"ABCDEFG\"\n",
    "![image.png](attachment:image.png)\n",
    "- 전위 순회(Pre-Order): A B D E C F G : 루트노드부터\n",
    "- 후위 순회(Post-Order): D E B F G C A : 리프노드부터\n",
    "- 중위 순회(In-Order): D B E A F C G : 자신의 위치가 가운데에(왼쪽 자식 다음에)"
   ]
  },
  {
   "cell_type": "code",
   "execution_count": 4,
   "metadata": {},
   "outputs": [
    {
     "name": "stdout",
     "output_type": "stream",
     "text": [
      "A B D E C F G "
     ]
    }
   ],
   "source": [
    "arr = \"ABCDEFG\"\n",
    "arr = [0] + list(arr)\n",
    "\n",
    "def preorder(now):\n",
    "    if now > len(arr) - 1:\n",
    "        return\n",
    "    \n",
    "    print(arr[now], end = ' ') # 전위순회\n",
    "    preorder(now*2)\n",
    "    # print(arr[now], end = ' ') # 중위순회\n",
    "    preorder(now*2 + 1)\n",
    "    # print(arr[now], end = ' ') # 후위순회\n",
    "\n",
    "preorder(1)"
   ]
  },
  {
   "cell_type": "code",
   "execution_count": 11,
   "metadata": {},
   "outputs": [
    {
     "name": "stdout",
     "output_type": "stream",
     "text": [
      "D B E A F C G "
     ]
    }
   ],
   "source": [
    "arr = \"ABCDEFG\"\n",
    "arr = [0] + list(arr)\n",
    "\n",
    "def inorder(now):\n",
    "    if now > len(arr) - 1:\n",
    "        return\n",
    "    \n",
    "    # print(arr[now], end = ' ') # 전위순회\n",
    "    inorder(now*2)\n",
    "    print(arr[now], end = ' ') # 중위순회\n",
    "    inorder(now*2 + 1)\n",
    "    # print(arr[now], end = ' ') # 후위순회\n",
    "\n",
    "inorder(1)"
   ]
  },
  {
   "cell_type": "code",
   "execution_count": 13,
   "metadata": {},
   "outputs": [
    {
     "name": "stdout",
     "output_type": "stream",
     "text": [
      "D E B F G C A "
     ]
    }
   ],
   "source": [
    "arr = \"ABCDEFG\"\n",
    "arr = [0] + list(arr)\n",
    "\n",
    "def postorder(now):\n",
    "    if now > len(arr) - 1:\n",
    "        return\n",
    "    \n",
    "    # print(arr[now], end = ' ') # 전위순회\n",
    "    postorder(now*2)\n",
    "    # print(arr[now], end = ' ') # 중위순회\n",
    "    postorder(now*2 + 1)\n",
    "    print(arr[now], end = ' ') # 후위순회\n",
    "\n",
    "postorder(1)"
   ]
  },
  {
   "attachments": {},
   "cell_type": "markdown",
   "metadata": {},
   "source": [
    "### BST(Binary Search Tree)\n",
    "Hash도 빠르다\n",
    "\n",
    "lst = [4, 7, 2, 9, 3, 1, 6] # $O(n)$  \n",
    "arr = [0, 4, 2, 7, 1, 3, 6, 9] # $O(logn)$\n",
    "\n",
    "- 빠른 속도를 가질 수 있으나 자료의 형태에 따라서 최악의 경우 $O(n)$의 탐색 속도를 가질 수 있다\n",
    "- Balanced Tree를 대안으로 사용할 수 있다 - 이에 대한 알고리즘으로는 redblack tree가 있다"
   ]
  },
  {
   "cell_type": "code",
   "execution_count": 14,
   "metadata": {},
   "outputs": [
    {
     "name": "stdout",
     "output_type": "stream",
     "text": [
      "존재함\n"
     ]
    }
   ],
   "source": [
    "lst = [4, 7, 2, 9, 3, 1, 6]\n",
    "arr = [0] * 20\n",
    "\n",
    "def insert(target):\n",
    "    global arr\n",
    "    now = 1\n",
    "    \n",
    "    while 1:\n",
    "        if arr[now] == 0: # 루트노드가 비어 있다면 값을 저장\n",
    "            arr[now] = target\n",
    "            return\n",
    "\n",
    "        if arr[now] < target:\n",
    "            now = now * 2 + 1\n",
    "        else:\n",
    "            now *= 2\n",
    "\n",
    "\n",
    "def search(target):\n",
    "    global arr\n",
    "    now = 1\n",
    "    \n",
    "    while 1:\n",
    "        if now >= 20:\n",
    "            return 0 # now가 배열의 범위를 벗어난다면 없다는 것이므로 0 리턴\n",
    "        if arr[now] == 0: # 타겟이 없으면 0 리턴\n",
    "            return 0\n",
    "        if arr[now] == target: # 타겟을 찾았으면 1 리턴\n",
    "            return 1\n",
    "        if arr[now] < target:\n",
    "            now = now * 2 + 1\n",
    "        else:\n",
    "            now *= 2\n",
    "\n",
    "for i in range(len(lst)):\n",
    "    insert(lst[i]) # 트리 모양으로 lst 값 저장\n",
    "\n",
    "n = int(input())\n",
    "ret = search(n)\n",
    "\n",
    "if ret:\n",
    "    print(\"존재함\")\n",
    "else:\n",
    "    print(\"존재하지 않음\")"
   ]
  },
  {
   "attachments": {},
   "cell_type": "markdown",
   "metadata": {},
   "source": [
    "### Heap\n",
    "- maxheap: 부모노드의 값이 자식 노드보다 커야 함\n",
    "- 항상 완벽한 이진 트리를 형성하며, 사용자의 우선 순위에 따른다.\n",
    "- 한 번 수행 시 $O(n)$"
   ]
  },
  {
   "cell_type": "code",
   "execution_count": 15,
   "metadata": {},
   "outputs": [
    {
     "name": "stdout",
     "output_type": "stream",
     "text": [
      "31 8 7 7 4 3 1 "
     ]
    }
   ],
   "source": [
    "arr = [3, 7, 1, 4, 7, 31, 8]\n",
    "heap = [0] * 30 # max heap\n",
    "h_idx = 1\n",
    "\n",
    "def insert(value):\n",
    "    global h_idx\n",
    "    \n",
    "    heap[h_idx] = value\n",
    "    now = h_idx\n",
    "    h_idx += 1\n",
    "\n",
    "    while 1:\n",
    "        p = now // 2 # 부모 인덱스 구하기\n",
    "        \n",
    "        if p == 0: # 만약에 부모 인덱스가 루트 노드라면 종료\n",
    "            break\n",
    "\n",
    "        if heap[p] >= heap[now]: # 바꿀 필요가 없는 상황\n",
    "            break\n",
    "        \n",
    "        heap[p], heap[now] = heap[now], heap[p] # 부모 노드보다 현재 노드가 크다면 바꾼다.\n",
    "        now = p\n",
    "\n",
    "def top():\n",
    "    return heap[1]\n",
    "\n",
    "def pop():\n",
    "    global h_idx\n",
    "    heap[1] = heap[h_idx - 1] # 맨 뒤의 노드를 루트로 올림\n",
    "    heap[h_idx] = 0 # 맨뒤의 값을 0으로 바꿈\n",
    "    h_idx -= 1 # h_idx 값 감소\n",
    "    now = 1 # 루트부터 자식들이랑 비교하기 위해서 now를 1로 세팅\n",
    "\n",
    "    while 1:\n",
    "        lson = now * 2 # 왼쪽자식\n",
    "        rson = now * 2 + 1 # 오른쪽 자식\n",
    "\n",
    "        # 자식이 있고, 오른쪽 자식이 왼쪽 자식보다 크면 (오른쪽 자식과 now랑 비교하겠다)\n",
    "        if lson <= h_idx and heap[lson] < heap[rson]:\n",
    "            lson = rson\n",
    "        # 자식이 없거나, 부모가 지식보다 크다면 break\n",
    "        if lson > h_idx or heap[now] > heap[lson]:\n",
    "            break\n",
    "        heap[now], heap[lson] = heap[lson], heap[now]\n",
    "        now = lson       \n",
    "\n",
    "for i in range(len(arr)):\n",
    "    insert(arr[i])\n",
    "\n",
    "for i in range(len(arr)):\n",
    "    print(top(), end = ' ')\n",
    "    pop()"
   ]
  },
  {
   "cell_type": "code",
   "execution_count": 16,
   "metadata": {},
   "outputs": [
    {
     "name": "stdout",
     "output_type": "stream",
     "text": [
      "1 3 4 7 7 8 31 "
     ]
    }
   ],
   "source": [
    "arr = [3, 7, 1, 4, 7, 31, 8]\n",
    "heap = [0] * 30 # min heap\n",
    "h_idx = 1\n",
    "\n",
    "def insert(value):\n",
    "    global h_idx\n",
    "    \n",
    "    heap[h_idx] = value\n",
    "    now = h_idx\n",
    "    h_idx += 1\n",
    "\n",
    "    while 1:\n",
    "        p = now // 2 # 부모 인덱스 구하기\n",
    "        \n",
    "        if p == 0: # 만약에 부모 인덱스가 루트 노드라면 종료\n",
    "            break\n",
    "\n",
    "        if heap[p] <= heap[now]: # 바꿀 필요가 없는 상황\n",
    "            break\n",
    "        \n",
    "        heap[p], heap[now] = heap[now], heap[p] # 부모 노드보다 현재 노드가 크다면 바꾼다.\n",
    "        now = p\n",
    "\n",
    "def top():\n",
    "    return heap[1]\n",
    "\n",
    "def pop():\n",
    "    global h_idx\n",
    "    heap[1] = heap[h_idx - 1] # 맨 뒤의 노드를 루트로 올림\n",
    "    heap[h_idx] = 0 # 맨뒤의 값을 0으로 바꿈\n",
    "    h_idx -= 1 # h_idx 값 감소\n",
    "    now = 1 # 루트부터 자식들이랑 비교하기 위해서 now를 1로 세팅\n",
    "\n",
    "    while 1:\n",
    "        lson = now * 2 # 왼쪽자식\n",
    "        rson = now * 2 + 1 # 오른쪽 자식\n",
    "\n",
    "        # 오른쪽 자식이 있고, 오른쪽 자식이 왼쪽 자식보다 크면 (오른쪽 자식과 now랑 비교하겠다)\n",
    "        if lson <= h_idx and heap[lson] > heap[rson]:\n",
    "            lson = rson\n",
    "        # 오른쪽 자식이 없거나, 부모가 지식보다 크다면 break\n",
    "        if lson > h_idx or heap[now] < heap[lson]:\n",
    "            break\n",
    "        heap[now], heap[lson] = heap[lson], heap[now]\n",
    "        now = lson       \n",
    "\n",
    "for i in range(len(arr)):\n",
    "    insert(arr[i])\n",
    "\n",
    "for i in range(len(arr)):\n",
    "    print(top(), end = ' ')\n",
    "    pop()"
   ]
  }
 ],
 "metadata": {
  "kernelspec": {
   "display_name": "Python 3",
   "language": "python",
   "name": "python3"
  },
  "language_info": {
   "codemirror_mode": {
    "name": "ipython",
    "version": 3
   },
   "file_extension": ".py",
   "mimetype": "text/x-python",
   "name": "python",
   "nbconvert_exporter": "python",
   "pygments_lexer": "ipython3",
   "version": "3.9.13"
  },
  "orig_nbformat": 4,
  "vscode": {
   "interpreter": {
    "hash": "c4b9ebf4ca459396e2ad1150752490c26670c1a037c08cad955a4425787bec2e"
   }
  }
 },
 "nbformat": 4,
 "nbformat_minor": 2
}
